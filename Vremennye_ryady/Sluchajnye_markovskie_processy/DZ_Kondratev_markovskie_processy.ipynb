{
  "nbformat": 4,
  "nbformat_minor": 0,
  "metadata": {
    "colab": {
      "provenance": []
    },
    "kernelspec": {
      "name": "python3",
      "display_name": "Python 3"
    },
    "language_info": {
      "name": "python"
    }
  },
  "cells": [
    {
      "cell_type": "markdown",
      "source": [
        "# Домашнее задание «Случайные марковские процессы»"
      ],
      "metadata": {
        "id": "LW5GyNTZ53pw"
      }
    },
    {
      "cell_type": "markdown",
      "source": [
        "**Преподаватель:** Даниил Корбут, Наталья Баданина, Елена Харьковская"
      ],
      "metadata": {
        "id": "Y-AXpY4V6CZJ"
      }
    },
    {
      "cell_type": "markdown",
      "source": [
        "**Задание**"
      ],
      "metadata": {
        "id": "ThKe8b0-6KXz"
      }
    },
    {
      "cell_type": "markdown",
      "source": [
        "\n",
        "1. Скачайте текст произведения «Война и мир»: ссылка на [GitHub](https://github.com/netology-code/ds3-spring-2018/tree/master/7.%20Time_series/7.4/war_and_peace).\n",
        "2. Очистите его, оставив только русские буквы и символы пробела.\n",
        "3. Постройте матрицу переходных вероятностей.\n",
        "4. Посчитайте вероятность встретить строку из четырёх символов, которая начинается на букву «П» и заканчивается на букву «Р».\n",
        "5. Используя матрицу переходных вероятностей, сгенерируйте слово, начинающееся с буквы «Б» длиной восемь символов.\n",
        "6. Выберите ряд из предыдущих домашних заданий по временным рядам и оцените его через HMM.\n",
        "7. Попробуйте построить через среднее каждой компоненты наивный прогноз ряда."
      ],
      "metadata": {
        "id": "aBlFuAKK6Sd5"
      }
    },
    {
      "cell_type": "code",
      "source": [
        "import requests\n",
        "import re\n",
        "import numpy as np\n",
        "from collections import defaultdict"
      ],
      "metadata": {
        "id": "fVgu7qP8_cUc"
      },
      "execution_count": 236,
      "outputs": []
    },
    {
      "cell_type": "code",
      "source": [
        "# Ссылки на тома произведения\n",
        "urls = [\n",
        "    \"https://raw.githubusercontent.com/stefkong1982/netology.ru/refs/heads/Master/Vremennye_ryady/Sluchajnye_markovskie_processy/tom_1.txt\",\n",
        "    \"https://raw.githubusercontent.com/stefkong1982/netology.ru/refs/heads/Master/Vremennye_ryady/Sluchajnye_markovskie_processy/tom_2.txt\",\n",
        "    \"https://raw.githubusercontent.com/stefkong1982/netology.ru/refs/heads/Master/Vremennye_ryady/Sluchajnye_markovskie_processy/tom_3.txt\",\n",
        "    \"https://raw.githubusercontent.com/stefkong1982/netology.ru/refs/heads/Master/Vremennye_ryady/Sluchajnye_markovskie_processy/tom_4.txt\"\n",
        "]"
      ],
      "metadata": {
        "id": "jKhSRkQi_mF6"
      },
      "execution_count": 237,
      "outputs": []
    },
    {
      "cell_type": "markdown",
      "source": [
        "# Скачивание и объединение текстов"
      ],
      "metadata": {
        "id": "RTVsq46v_vLO"
      }
    },
    {
      "cell_type": "code",
      "source": [
        "import requests\n",
        "\n",
        "# Ссылки на тома произведения\n",
        "urls = [\n",
        "    \"https://raw.githubusercontent.com/stefkong1982/netology.ru/refs/heads/Master/Vremennye_ryady/Sluchajnye_markovskie_processy/tom_1.txt\",\n",
        "    \"https://raw.githubusercontent.com/stefkong1982/netology.ru/refs/heads/Master/Vremennye_ryady/Sluchajnye_markovskie_processy/tom_2.txt\",\n",
        "    \"https://raw.githubusercontent.com/stefkong1982/netology.ru/refs/heads/Master/Vremennye_ryady/Sluchajnye_markovskie_processy/tom_3.txt\",\n",
        "    \"https://raw.githubusercontent.com/stefkong1982/netology.ru/refs/heads/Master/Vremennye_ryady/Sluchajnye_markovskie_processy/tom_4.txt\"\n",
        "]\n",
        "\n",
        "# Загрузка каждого тома в отдельные переменные\n",
        "tom_1 = requests.get(urls[0]).text\n",
        "tom_2 = requests.get(urls[1]).text\n",
        "tom_3 = requests.get(urls[2]).text\n",
        "tom_4 = requests.get(urls[3]).text"
      ],
      "metadata": {
        "id": "IrhcHBa5_zpP"
      },
      "execution_count": 238,
      "outputs": []
    },
    {
      "cell_type": "code",
      "source": [
        "# Объединение текстов\n",
        "full_text = tom_1 + tom_2 + tom_3 + tom_4"
      ],
      "metadata": {
        "id": "zhWRFGlsEtBS"
      },
      "execution_count": 239,
      "outputs": []
    },
    {
      "cell_type": "code",
      "source": [
        "# Вывод текста после объединения\n",
        "print(\"Общий текст после объединения (посдедние 1000 символов):\")\n",
        "print()\n",
        "print(full_text[-1000:])\n",
        "print(f\"Длина объединенного текста: {len(full_text)} символов.\")"
      ],
      "metadata": {
        "colab": {
          "base_uri": "https://localhost:8080/"
        },
        "id": "IGvfd7qPCppo",
        "outputId": "b694b26d-6c37-4e0f-b499-a39c9857188f"
      },
      "execution_count": 240,
      "outputs": [
        {
          "output_type": "stream",
          "name": "stdout",
          "text": [
            "Общий текст после объединения (посдедние 1000 символов):\n",
            "\n",
            "азаться от непосредственного чувства неподвижности земли и такого же чувства движения планет, так и для истории трудность признания подчиненности личности законам пространства, времени и причин состоит в том, чтобы отказаться от непосредственного чувства независимости своей личности. Но, как в астрономии новое воззрение говорило: «Правда, мы не чувствуем движения земли, но, допустив ее неподвижность, мы приходим к бессмыслице; допустив же движение, которого мы не чувствуем, мы приходим к законам», – так и в истории новое воззрение говорит: «И правда, мы не чувствуем нашей зависимости, но, допустив нашу свободу, мы приходим к бессмыслице; допустив же свою зависимость от внешнего мира, времени и причин, приходим к законам».\r\n",
            "\r\n",
            "В первом случае надо было отказаться от сознания несуществующей неподвижности в пространстве и признать неощущаемое нами движение; в настоящем случае – точно так же необходимо отказаться от несуществующей свободы и признать неощущаемую нами зависимость.\r\n",
            "\r\n",
            "\r\n",
            "\r\n",
            "\r\n",
            "\r\n",
            "\n",
            "Длина объединенного текста: 3019671 символов.\n"
          ]
        }
      ]
    },
    {
      "cell_type": "code",
      "source": [
        "# Вывод текста tom_4\n",
        "print(\"(посдедние 1000 символов):\")\n",
        "print()\n",
        "print(tom_4[-1000:])\n",
        "print(f\"Длина текста: {len(tom_4)} символов.\")"
      ],
      "metadata": {
        "colab": {
          "base_uri": "https://localhost:8080/"
        },
        "id": "u8A-EkqICA1O",
        "outputId": "4b1e8432-0c5b-4b23-a30b-82bdd432f49b"
      },
      "execution_count": 241,
      "outputs": [
        {
          "output_type": "stream",
          "name": "stdout",
          "text": [
            "(посдедние 1000 символов):\n",
            "\n",
            "азаться от непосредственного чувства неподвижности земли и такого же чувства движения планет, так и для истории трудность признания подчиненности личности законам пространства, времени и причин состоит в том, чтобы отказаться от непосредственного чувства независимости своей личности. Но, как в астрономии новое воззрение говорило: «Правда, мы не чувствуем движения земли, но, допустив ее неподвижность, мы приходим к бессмыслице; допустив же движение, которого мы не чувствуем, мы приходим к законам», – так и в истории новое воззрение говорит: «И правда, мы не чувствуем нашей зависимости, но, допустив нашу свободу, мы приходим к бессмыслице; допустив же свою зависимость от внешнего мира, времени и причин, приходим к законам».\r\n",
            "\r\n",
            "В первом случае надо было отказаться от сознания несуществующей неподвижности в пространстве и признать неощущаемое нами движение; в настоящем случае – точно так же необходимо отказаться от несуществующей свободы и признать неощущаемую нами зависимость.\r\n",
            "\r\n",
            "\r\n",
            "\r\n",
            "\r\n",
            "\r\n",
            "\n",
            "Длина текста: 704348 символов.\n"
          ]
        }
      ]
    },
    {
      "cell_type": "markdown",
      "source": [
        "# Очистка текста"
      ],
      "metadata": {
        "id": "BnIiQZwMHPYC"
      }
    },
    {
      "cell_type": "code",
      "source": [
        "# Приведение текста к нижнему регистру\n",
        "lowercase_text = full_text.lower()\n",
        "\n",
        "# Оставляем только русские буквы и пробелы\n",
        "cleaned_text = re.sub(r'[^а-яё\\s]', '', lowercase_text)"
      ],
      "metadata": {
        "id": "qPlIATs0HRCA"
      },
      "execution_count": 242,
      "outputs": []
    },
    {
      "cell_type": "code",
      "source": [
        "# Проверим очищенный текст\n",
        "print(cleaned_text[-1000:])\n",
        "print(f\"Длина очищенного текста: {len(cleaned_text)} символов.\")"
      ],
      "metadata": {
        "colab": {
          "base_uri": "https://localhost:8080/"
        },
        "id": "FXNPu8SFHV15",
        "outputId": "82361dbd-d843-4266-e9a8-f2df7303292d"
      },
      "execution_count": 243,
      "outputs": [
        {
          "output_type": "stream",
          "name": "stdout",
          "text": [
            " земли состояла в том чтобы отказаться от непосредственного чувства неподвижности земли и такого же чувства движения планет так и для истории трудность признания подчиненности личности законам пространства времени и причин состоит в том чтобы отказаться от непосредственного чувства независимости своей личности но как в астрономии новое воззрение говорило правда мы не чувствуем движения земли но допустив ее неподвижность мы приходим к бессмыслице допустив же движение которого мы не чувствуем мы приходим к законам  так и в истории новое воззрение говорит и правда мы не чувствуем нашей зависимости но допустив нашу свободу мы приходим к бессмыслице допустив же свою зависимость от внешнего мира времени и причин приходим к законам\r\n",
            "\r\n",
            "в первом случае надо было отказаться от сознания несуществующей неподвижности в пространстве и признать неощущаемое нами движение в настоящем случае  точно так же необходимо отказаться от несуществующей свободы и признать неощущаемую нами зависимость\r\n",
            "\r\n",
            "\r\n",
            "\r\n",
            "\r\n",
            "\r\n",
            "\n",
            "Длина очищенного текста: 2816953 символов.\n"
          ]
        }
      ]
    },
    {
      "cell_type": "markdown",
      "source": [
        "все ок"
      ],
      "metadata": {
        "id": "ymyPodO8J-Eg"
      }
    },
    {
      "cell_type": "markdown",
      "source": [
        "# Построение матрицы переходных вероятностей"
      ],
      "metadata": {
        "id": "uhK9l_tcN2WP"
      }
    },
    {
      "cell_type": "code",
      "source": [
        "import numpy as np\n",
        "import pandas as pd\n",
        "import seaborn as sns\n",
        "import matplotlib.pyplot as plt\n",
        "\n",
        "# Русский алфавит\n",
        "RUSSIAN = 'абвгдеёжзийклмнопрстуфхцчшщъыьэюя'\n",
        "POS = {l: i for i, l in enumerate(RUSSIAN)}\n",
        "\n",
        "# Наш текст\n",
        "text = cleaned_text\n",
        "\n",
        "# Создание матрицы вероятностей\n",
        "probabilities = np.zeros((len(RUSSIAN), len(RUSSIAN)))\n",
        "\n",
        "# Заполнение матрицы частот переходов\n",
        "for cp, cn in zip(text[:-1], text[1:]):\n",
        "    if cp in POS and cn in POS:  # Проверяем, что буквы в русском алфавите\n",
        "        probabilities[POS[cp], POS[cn]] += 1\n",
        "\n",
        "# Нормализация матрицы для получения вероятностей\n",
        "probabilities = (probabilities / probabilities.sum(axis=1, keepdims=True))\n",
        "\n",
        "# Создание DataFrame\n",
        "df = pd.DataFrame(probabilities, index=(c for c in RUSSIAN), columns=(c for c in RUSSIAN))\n"
      ],
      "metadata": {
        "id": "Zx6usIaqKqJw"
      },
      "execution_count": 244,
      "outputs": []
    },
    {
      "cell_type": "code",
      "source": [
        "# визуализация\n",
        "plt.figure(figsize=(14, 8))\n",
        "sns.heatmap(df)\n",
        "plt.title(\"Матрица вероятностей переходов для русского алфавита\")\n",
        "plt.show()"
      ],
      "metadata": {
        "colab": {
          "base_uri": "https://localhost:8080/",
          "height": 699
        },
        "id": "zK8rLbMiKx9J",
        "outputId": "94e58f93-110f-439e-8346-0388551b75e0"
      },
      "execution_count": 245,
      "outputs": [
        {
          "output_type": "display_data",
          "data": {
            "text/plain": [
              "<Figure size 1400x800 with 2 Axes>"
            ],
            "image/png": "[encoded data removed]"
          },
          "metadata": {}
        }
      ]
    },
    {
      "cell_type": "markdown",
      "source": [
        "Проанализировав матрицу вероятностей, мы можем увидеть, что слова, начинающиеся с буквы 'э' и следующими за ней буквами 'т', встречаются в нашем тексте значительно чаще, чем остальные последовательности давайте найдем их и посмотрим на них"
      ],
      "metadata": {
        "id": "2akCvxjPjWnv"
      }
    },
    {
      "cell_type": "code",
      "source": [
        "# Находим все слова, начинающиеся на \"э\"\n",
        "words = re.findall(r'\\bэ[^ ]*?\\b', cleaned_text)\n",
        "\n",
        "# Фильтруем слова, у которых четвертая буква - \"т\"\n",
        "filtered_words = [word for word in words if len(word) > 1 and word[1] == 'т']\n",
        "\n",
        "# Создаем DataFrame с уникальными словами и их количеством\n",
        "word_counts = pd.Series(filtered_words).value_counts()"
      ],
      "metadata": {
        "id": "16IrE_YVe-M6"
      },
      "execution_count": 246,
      "outputs": []
    },
    {
      "cell_type": "code",
      "source": [
        "# Выводим DataFrame\n",
        "word_counts.head()"
      ],
      "metadata": {
        "colab": {
          "base_uri": "https://localhost:8080/",
          "height": 241
        },
        "id": "q4KTaVPgiWKI",
        "outputId": "4dd2a2b7-f189-47c2-dd3a-b3e2782dcb44"
      },
      "execution_count": 247,
      "outputs": [
        {
          "output_type": "execute_result",
          "data": {
            "text/plain": [
              "это      2566\n",
              "этого     794\n",
              "этот      609\n",
              "эти       441\n",
              "этом      345\n",
              "Name: count, dtype: int64"
            ],
            "text/html": [
              "<div>\n",
              "<style scoped>\n",
              "    .dataframe tbody tr th:only-of-type {\n",
              "        vertical-align: middle;\n",
              "    }\n",
              "\n",
              "    .dataframe tbody tr th {\n",
              "        vertical-align: top;\n",
              "    }\n",
              "\n",
              "    .dataframe thead th {\n",
              "        text-align: right;\n",
              "    }\n",
              "</style>\n",
              "<table border=\"1\" class=\"dataframe\">\n",
              "  <thead>\n",
              "    <tr style=\"text-align: right;\">\n",
              "      <th></th>\n",
              "      <th>count</th>\n",
              "    </tr>\n",
              "  </thead>\n",
              "  <tbody>\n",
              "    <tr>\n",
              "      <th>это</th>\n",
              "      <td>2566</td>\n",
              "    </tr>\n",
              "    <tr>\n",
              "      <th>этого</th>\n",
              "      <td>794</td>\n",
              "    </tr>\n",
              "    <tr>\n",
              "      <th>этот</th>\n",
              "      <td>609</td>\n",
              "    </tr>\n",
              "    <tr>\n",
              "      <th>эти</th>\n",
              "      <td>441</td>\n",
              "    </tr>\n",
              "    <tr>\n",
              "      <th>этом</th>\n",
              "      <td>345</td>\n",
              "    </tr>\n",
              "  </tbody>\n",
              "</table>\n",
              "</div><br><label><b>dtype:</b> int64</label>"
            ]
          },
          "metadata": {},
          "execution_count": 247
        }
      ]
    },
    {
      "cell_type": "markdown",
      "source": [
        "**Высокая частота использования:**\n",
        "- Слова, начинающиеся на \"э\", присутствуют в тексте \"Войны и мира\" с заметной частотой. Например, слово \"это\" встречается 2566 раз, что указывает на его важную роль в структуре предложений и связности текста.\n",
        "- Другие слова, такие как \"этого\", \"этот\", \"эти\", также имеют значительное количество вхождений. Это может говорить о том, что автор часто использует указательные местоимения."
      ],
      "metadata": {
        "id": "I0GuGQEHmADN"
      }
    },
    {
      "cell_type": "markdown",
      "source": [
        "# Расчет вероятности встретить строку из четырёх символов, начинающуюся на «П» и заканчивающуюся на «Р»"
      ],
      "metadata": {
        "id": "WceSG-RFiK_L"
      }
    },
    {
      "cell_type": "code",
      "source": [
        "# Начальная и конечная позиции\n",
        "start = POS['п']\n",
        "end = POS['р']\n",
        "\n",
        "# Принимаем равную вероятность для всех символов\n",
        "prior = 1. / len(RUSSIAN)\n",
        "\n",
        "# Переменная для хранения общей вероятности\n",
        "total_probability = 0\n",
        "words_list = []  # Список для хранения найденных слов и их вероятностей\n",
        "\n",
        "# Генерируем 4-буквенные слова и считаем их вероятности\n",
        "for x in RUSSIAN:  # Первая промежуточная буква\n",
        "    for z in RUSSIAN:  # Вторая промежуточная буква\n",
        "        proba = prior * probabilities[start, POS[x]] * probabilities[POS[x], POS[z]] * probabilities[POS[z], end]\n",
        "        if proba > 0:\n",
        "            word = ''.join(['п', x, z, 'р'])  # Формируем слово\n",
        "            words_list.append([word, proba]) # Добавляем слово и вероятность в список\n",
        "            total_probability += proba  # Суммируем вероятность в общую\n",
        "\n",
        "# Создаем DataFrame из собранных данных\n",
        "df_words_list = pd.DataFrame(words_list, columns=['Word', 'Probability'])\n",
        "\n",
        "# Выводим общую вероятность\n",
        "print(\"Общая вероятность для всех 4-буквенных слов:\", total_probability)"
      ],
      "metadata": {
        "colab": {
          "base_uri": "https://localhost:8080/"
        },
        "id": "nJV_gdT3JBgp",
        "outputId": "1fa8af17-00d3-4fe9-f96f-500bb732feba"
      },
      "execution_count": 248,
      "outputs": [
        {
          "output_type": "stream",
          "name": "stdout",
          "text": [
            "Общая вероятность для всех 4-буквенных слов: 0.0012078694558204483\n"
          ]
        }
      ]
    },
    {
      "cell_type": "code",
      "source": [
        "# Сортируем DataFrame по столбцу \"Probability\" от большего к меньшему\n",
        "df_sorted = df_words_list.sort_values(by='Probability', ascending=False)\n",
        "\n",
        "# Округляем значения в столбце \"Probability\" до 3 знаков после запятой\n",
        "df_sorted['Probability'] = df_sorted['Probability'].round(10)\n",
        "\n",
        "# DataFrame, содержащий все сформированные 4-буквенные слова и их вероятности\n",
        "df_sorted"
      ],
      "metadata": {
        "colab": {
          "base_uri": "https://localhost:8080/",
          "height": 423
        },
        "id": "IgMO0oKfJz0k",
        "outputId": "fa828121-daf9-4e50-8182-df99479b1470"
      },
      "execution_count": 249,
      "outputs": [
        {
          "output_type": "execute_result",
          "data": {
            "text/plain": [
              "     Word  Probability\n",
              "259  прер     0.000169\n",
              "267  прор     0.000126\n",
              "254  прар     0.000105\n",
              "224  потр     0.000062\n",
              "221  попр     0.000054\n",
              "..    ...          ...\n",
              "176  пмэр     0.000000\n",
              "160  пмйр     0.000000\n",
              "305  псщр     0.000000\n",
              "173  пмшр     0.000000\n",
              "498  пэшр     0.000000\n",
              "\n",
              "[525 rows x 2 columns]"
            ],
            "text/html": [
              "\n",
              "  <div id=\"df-f8c1efcc-da2d-4227-be8c-ef18475ce8c5\" class=\"colab-df-container\">\n",
              "    <div>\n",
              "<style scoped>\n",
              "    .dataframe tbody tr th:only-of-type {\n",
              "        vertical-align: middle;\n",
              "    }\n",
              "\n",
              "    .dataframe tbody tr th {\n",
              "        vertical-align: top;\n",
              "    }\n",
              "\n",
              "    .dataframe thead th {\n",
              "        text-align: right;\n",
              "    }\n",
              "</style>\n",
              "<table border=\"1\" class=\"dataframe\">\n",
              "  <thead>\n",
              "    <tr style=\"text-align: right;\">\n",
              "      <th></th>\n",
              "      <th>Word</th>\n",
              "      <th>Probability</th>\n",
              "    </tr>\n",
              "  </thead>\n",
              "  <tbody>\n",
              "    <tr>\n",
              "      <th>259</th>\n",
              "      <td>прер</td>\n",
              "      <td>0.000169</td>\n",
              "    </tr>\n",
              "    <tr>\n",
              "      <th>267</th>\n",
              "      <td>прор</td>\n",
              "      <td>0.000126</td>\n",
              "    </tr>\n",
              "    <tr>\n",
              "      <th>254</th>\n",
              "      <td>прар</td>\n",
              "      <td>0.000105</td>\n",
              "    </tr>\n",
              "    <tr>\n",
              "      <th>224</th>\n",
              "      <td>потр</td>\n",
              "      <td>0.000062</td>\n",
              "    </tr>\n",
              "    <tr>\n",
              "      <th>221</th>\n",
              "      <td>попр</td>\n",
              "      <td>0.000054</td>\n",
              "    </tr>\n",
              "    <tr>\n",
              "      <th>...</th>\n",
              "      <td>...</td>\n",
              "      <td>...</td>\n",
              "    </tr>\n",
              "    <tr>\n",
              "      <th>176</th>\n",
              "      <td>пмэр</td>\n",
              "      <td>0.000000</td>\n",
              "    </tr>\n",
              "    <tr>\n",
              "      <th>160</th>\n",
              "      <td>пмйр</td>\n",
              "      <td>0.000000</td>\n",
              "    </tr>\n",
              "    <tr>\n",
              "      <th>305</th>\n",
              "      <td>псщр</td>\n",
              "      <td>0.000000</td>\n",
              "    </tr>\n",
              "    <tr>\n",
              "      <th>173</th>\n",
              "      <td>пмшр</td>\n",
              "      <td>0.000000</td>\n",
              "    </tr>\n",
              "    <tr>\n",
              "      <th>498</th>\n",
              "      <td>пэшр</td>\n",
              "      <td>0.000000</td>\n",
              "    </tr>\n",
              "  </tbody>\n",
              "</table>\n",
              "<p>525 rows × 2 columns</p>\n",
              "</div>\n",
              "    <div class=\"colab-df-buttons\">\n",
              "\n",
              "  <div class=\"colab-df-container\">\n",
              "    <button class=\"colab-df-convert\" onclick=\"convertToInteractive('df-f8c1efcc-da2d-4227-be8c-ef18475ce8c5')\"\n",
              "            title=\"Convert this dataframe to an interactive table.\"\n",
              "            style=\"display:none;\">\n",
              "\n",
              "  <svg xmlns=\"http://www.w3.org/2000/svg\" height=\"24px\" viewBox=\"0 -960 960 960\">\n",
              "    <path d=\"M120-120v-720h720v720H120Zm60-500h600v-160H180v160Zm220 220h160v-160H400v160Zm0 220h160v-160H400v160ZM180-400h160v-160H180v160Zm440 0h160v-160H620v160ZM180-180h160v-160H180v160Zm440 0h160v-160H620v160Z\"/>\n",
              "  </svg>\n",
              "    </button>\n",
              "\n",
              "  <style>\n",
              "    .colab-df-container {\n",
              "      display:flex;\n",
              "      gap: 12px;\n",
              "    }\n",
              "\n",
              "    .colab-df-convert {\n",
              "      background-color: #E8F0FE;\n",
              "      border: none;\n",
              "      border-radius: 50%;\n",
              "      cursor: pointer;\n",
              "      display: none;\n",
              "      fill: #1967D2;\n",
              "      height: 32px;\n",
              "      padding: 0 0 0 0;\n",
              "      width: 32px;\n",
              "    }\n",
              "\n",
              "    .colab-df-convert:hover {\n",
              "      background-color: #E2EBFA;\n",
              "      box-shadow: 0px 1px 2px rgba(60, 64, 67, 0.3), 0px 1px 3px 1px rgba(60, 64, 67, 0.15);\n",
              "      fill: #174EA6;\n",
              "    }\n",
              "\n",
              "    .colab-df-buttons div {\n",
              "      margin-bottom: 4px;\n",
              "    }\n",
              "\n",
              "    [theme=dark] .colab-df-convert {\n",
              "      background-color: #3B4455;\n",
              "      fill: #D2E3FC;\n",
              "    }\n",
              "\n",
              "    [theme=dark] .colab-df-convert:hover {\n",
              "      background-color: #434B5C;\n",
              "      box-shadow: 0px 1px 3px 1px rgba(0, 0, 0, 0.15);\n",
              "      filter: drop-shadow(0px 1px 2px rgba(0, 0, 0, 0.3));\n",
              "      fill: #FFFFFF;\n",
              "    }\n",
              "  </style>\n",
              "\n",
              "    <script>\n",
              "      const buttonEl =\n",
              "        document.querySelector('#df-f8c1efcc-da2d-4227-be8c-ef18475ce8c5 button.colab-df-convert');\n",
              "      buttonEl.style.display =\n",
              "        google.colab.kernel.accessAllowed ? 'block' : 'none';\n",
              "\n",
              "      async function convertToInteractive(key) {\n",
              "        const element = document.querySelector('#df-f8c1efcc-da2d-4227-be8c-ef18475ce8c5');\n",
              "        const dataTable =\n",
              "          await google.colab.kernel.invokeFunction('convertToInteractive',\n",
              "                                                    [key], {});\n",
              "        if (!dataTable) return;\n",
              "\n",
              "        const docLinkHtml = 'Like what you see? Visit the ' +\n",
              "          '<a target=\"_blank\" href=https://colab.research.google.com/notebooks/data_table.ipynb>data table notebook</a>'\n",
              "          + ' to learn more about interactive tables.';\n",
              "        element.innerHTML = '';\n",
              "        dataTable['output_type'] = 'display_data';\n",
              "        await google.colab.output.renderOutput(dataTable, element);\n",
              "        const docLink = document.createElement('div');\n",
              "        docLink.innerHTML = docLinkHtml;\n",
              "        element.appendChild(docLink);\n",
              "      }\n",
              "    </script>\n",
              "  </div>\n",
              "\n",
              "\n",
              "<div id=\"df-198e7793-0f64-4ab7-bd3e-642340fb2cb6\">\n",
              "  <button class=\"colab-df-quickchart\" onclick=\"quickchart('df-198e7793-0f64-4ab7-bd3e-642340fb2cb6')\"\n",
              "            title=\"Suggest charts\"\n",
              "            style=\"display:none;\">\n",
              "\n",
              "<svg xmlns=\"http://www.w3.org/2000/svg\" height=\"24px\"viewBox=\"0 0 24 24\"\n",
              "     width=\"24px\">\n",
              "    <g>\n",
              "        <path d=\"M19 3H5c-1.1 0-2 .9-2 2v14c0 1.1.9 2 2 2h14c1.1 0 2-.9 2-2V5c0-1.1-.9-2-2-2zM9 17H7v-7h2v7zm4 0h-2V7h2v10zm4 0h-2v-4h2v4z\"/>\n",
              "    </g>\n",
              "</svg>\n",
              "  </button>\n",
              "\n",
              "<style>\n",
              "  .colab-df-quickchart {\n",
              "      --bg-color: #E8F0FE;\n",
              "      --fill-color: #1967D2;\n",
              "      --hover-bg-color: #E2EBFA;\n",
              "      --hover-fill-color: #174EA6;\n",
              "      --disabled-fill-color: #AAA;\n",
              "      --disabled-bg-color: #DDD;\n",
              "  }\n",
              "\n",
              "  [theme=dark] .colab-df-quickchart {\n",
              "      --bg-color: #3B4455;\n",
              "      --fill-color: #D2E3FC;\n",
              "      --hover-bg-color: #434B5C;\n",
              "      --hover-fill-color: #FFFFFF;\n",
              "      --disabled-bg-color: #3B4455;\n",
              "      --disabled-fill-color: #666;\n",
              "  }\n",
              "\n",
              "  .colab-df-quickchart {\n",
              "    background-color: var(--bg-color);\n",
              "    border: none;\n",
              "    border-radius: 50%;\n",
              "    cursor: pointer;\n",
              "    display: none;\n",
              "    fill: var(--fill-color);\n",
              "    height: 32px;\n",
              "    padding: 0;\n",
              "    width: 32px;\n",
              "  }\n",
              "\n",
              "  .colab-df-quickchart:hover {\n",
              "    background-color: var(--hover-bg-color);\n",
              "    box-shadow: 0 1px 2px rgba(60, 64, 67, 0.3), 0 1px 3px 1px rgba(60, 64, 67, 0.15);\n",
              "    fill: var(--button-hover-fill-color);\n",
              "  }\n",
              "\n",
              "  .colab-df-quickchart-complete:disabled,\n",
              "  .colab-df-quickchart-complete:disabled:hover {\n",
              "    background-color: var(--disabled-bg-color);\n",
              "    fill: var(--disabled-fill-color);\n",
              "    box-shadow: none;\n",
              "  }\n",
              "\n",
              "  .colab-df-spinner {\n",
              "    border: 2px solid var(--fill-color);\n",
              "    border-color: transparent;\n",
              "    border-bottom-color: var(--fill-color);\n",
              "    animation:\n",
              "      spin 1s steps(1) infinite;\n",
              "  }\n",
              "\n",
              "  @keyframes spin {\n",
              "    0% {\n",
              "      border-color: transparent;\n",
              "      border-bottom-color: var(--fill-color);\n",
              "      border-left-color: var(--fill-color);\n",
              "    }\n",
              "    20% {\n",
              "      border-color: transparent;\n",
              "      border-left-color: var(--fill-color);\n",
              "      border-top-color: var(--fill-color);\n",
              "    }\n",
              "    30% {\n",
              "      border-color: transparent;\n",
              "      border-left-color: var(--fill-color);\n",
              "      border-top-color: var(--fill-color);\n",
              "      border-right-color: var(--fill-color);\n",
              "    }\n",
              "    40% {\n",
              "      border-color: transparent;\n",
              "      border-right-color: var(--fill-color);\n",
              "      border-top-color: var(--fill-color);\n",
              "    }\n",
              "    60% {\n",
              "      border-color: transparent;\n",
              "      border-right-color: var(--fill-color);\n",
              "    }\n",
              "    80% {\n",
              "      border-color: transparent;\n",
              "      border-right-color: var(--fill-color);\n",
              "      border-bottom-color: var(--fill-color);\n",
              "    }\n",
              "    90% {\n",
              "      border-color: transparent;\n",
              "      border-bottom-color: var(--fill-color);\n",
              "    }\n",
              "  }\n",
              "</style>\n",
              "\n",
              "  <script>\n",
              "    async function quickchart(key) {\n",
              "      const quickchartButtonEl =\n",
              "        document.querySelector('#' + key + ' button');\n",
              "      quickchartButtonEl.disabled = true;  // To prevent multiple clicks.\n",
              "      quickchartButtonEl.classList.add('colab-df-spinner');\n",
              "      try {\n",
              "        const charts = await google.colab.kernel.invokeFunction(\n",
              "            'suggestCharts', [key], {});\n",
              "      } catch (error) {\n",
              "        console.error('Error during call to suggestCharts:', error);\n",
              "      }\n",
              "      quickchartButtonEl.classList.remove('colab-df-spinner');\n",
              "      quickchartButtonEl.classList.add('colab-df-quickchart-complete');\n",
              "    }\n",
              "    (() => {\n",
              "      let quickchartButtonEl =\n",
              "        document.querySelector('#df-198e7793-0f64-4ab7-bd3e-642340fb2cb6 button');\n",
              "      quickchartButtonEl.style.display =\n",
              "        google.colab.kernel.accessAllowed ? 'block' : 'none';\n",
              "    })();\n",
              "  </script>\n",
              "</div>\n",
              "    </div>\n",
              "  </div>\n"
            ],
            "application/vnd.google.colaboratory.intrinsic+json": {
              "type": "dataframe",
              "variable_name": "df_sorted",
              "summary": "{\n  \"name\": \"df_sorted\",\n  \"rows\": 525,\n  \"fields\": [\n    {\n      \"column\": \"Word\",\n      \"properties\": {\n        \"dtype\": \"string\",\n        \"num_unique_values\": 525,\n        \"samples\": [\n          \"\\u043f\\u0433\\u0438\\u0440\",\n          \"\\u043f\\u0441\\u0445\\u0440\",\n          \"\\u043f\\u043e\\u0434\\u0440\"\n        ],\n        \"semantic_type\": \"\",\n        \"description\": \"\"\n      }\n    },\n    {\n      \"column\": \"Probability\",\n      \"properties\": {\n        \"dtype\": \"number\",\n        \"std\": 1.186115130311047e-05,\n        \"min\": 0.0,\n        \"max\": 0.0001691522,\n        \"num_unique_values\": 344,\n        \"samples\": [\n          1.121e-07,\n          2.233e-07,\n          4.57e-08\n        ],\n        \"semantic_type\": \"\",\n        \"description\": \"\"\n      }\n    }\n  ]\n}"
            }
          },
          "metadata": {},
          "execution_count": 249
        }
      ]
    },
    {
      "cell_type": "markdown",
      "source": [
        "Анализ результатов\n",
        "\n",
        "1. Общая вероятность:\n",
        "   - Общая вероятность для всех 4-буквенных слов, начинающихся на \"П\" и заканчивающихся на \"Р\", составила 0.0012078694558204483. Это означает, что в рамках нашего исследования и использованной вероятностной модели, такие слова встречаются с вероятностью примерно 0.121%, что может быть интерпретировано как достаточно редкое событие.\n",
        "\n",
        "2. Сформированные слова и их вероятности:\n",
        "   - Мы сформировали список слов, который начинается с \"п\" и заканчивается на \"р\", с двумя промежуточными буквами. По результатам, наивысшая вероятность на `прер` составляет 0.000169, что также говорит о редкости данных слов."
      ],
      "metadata": {
        "id": "Zk9vXuIn8YIn"
      }
    },
    {
      "cell_type": "markdown",
      "source": [
        "# Генерация слова, начинающегося с буквы «Б» и длиной восемь символов"
      ],
      "metadata": {
        "id": "sQUeIx-kC5dc"
      }
    },
    {
      "cell_type": "code",
      "source": [
        "# Инициализация списка, который будет содержать буквы слова\n",
        "s = []\n",
        "\n",
        "# Задаем стартовую букву, с которой начинается слово\n",
        "start = 'б'\n",
        "s.append(start)  # Добавляем стартовую букву в список\n",
        "\n",
        "# Определяем желаемую длину слова\n",
        "length = 8\n",
        "\n",
        "# Генерация слова\n",
        "for i in range(length):  # Генерируем (length) букв\n",
        "    index = POS[s[i]]  # Получаем индекс текущей буквы в алфавите\n",
        "    # Выбираем следующую букву на основе вероятностей перехода\n",
        "    next_char = np.random.choice(list(RUSSIAN), p=probabilities[index])\n",
        "    s.append(next_char)  # Добавляем выбранную букву в список\n",
        "\n",
        "# Объединяем буквы в одно слово\n",
        "generated_word = ''.join(s)\n",
        "\n",
        "# Выводим сгенерированное слово\n",
        "print(\"Сгенерированное слово:\", generated_word)"
      ],
      "metadata": {
        "colab": {
          "base_uri": "https://localhost:8080/"
        },
        "id": "-y-T3FAI-AvR",
        "outputId": "5e0c8ccf-fb60-4e9e-ef26-26838043359e"
      },
      "execution_count": 250,
      "outputs": [
        {
          "output_type": "stream",
          "name": "stdout",
          "text": [
            "Сгенерированное слово: беностере\n"
          ]
        }
      ]
    },
    {
      "cell_type": "markdown",
      "source": [
        "# Создаем и обучаем модель HMM с оптимальным количеством компонент"
      ],
      "metadata": {
        "id": "QwvwNmUsSJnq"
      }
    },
    {
      "cell_type": "code",
      "source": [
        "# Устанавливаем библиотеку для работы с HMM\n",
        "!pip install hmmlearn"
      ],
      "metadata": {
        "colab": {
          "base_uri": "https://localhost:8080/"
        },
        "id": "HPh1gC5AnbtI",
        "outputId": "117bc283-5115-46a6-c3fe-0a5319e41c01"
      },
      "execution_count": 251,
      "outputs": [
        {
          "output_type": "stream",
          "name": "stdout",
          "text": [
            "Requirement already satisfied: hmmlearn in /usr/local/lib/python3.10/dist-packages (0.3.2)\n",
            "Requirement already satisfied: numpy>=1.10 in /usr/local/lib/python3.10/dist-packages (from hmmlearn) (1.26.4)\n",
            "Requirement already satisfied: scikit-learn!=0.22.0,>=0.16 in /usr/local/lib/python3.10/dist-packages (from hmmlearn) (1.5.2)\n",
            "Requirement already satisfied: scipy>=0.19 in /usr/local/lib/python3.10/dist-packages (from hmmlearn) (1.13.1)\n",
            "Requirement already satisfied: joblib>=1.2.0 in /usr/local/lib/python3.10/dist-packages (from scikit-learn!=0.22.0,>=0.16->hmmlearn) (1.4.2)\n",
            "Requirement already satisfied: threadpoolctl>=3.1.0 in /usr/local/lib/python3.10/dist-packages (from scikit-learn!=0.22.0,>=0.16->hmmlearn) (3.5.0)\n"
          ]
        }
      ]
    },
    {
      "cell_type": "code",
      "source": [
        "from hmmlearn.hmm import GaussianHMM"
      ],
      "metadata": {
        "id": "maOzJt7ammku"
      },
      "execution_count": 252,
      "outputs": []
    },
    {
      "cell_type": "code",
      "source": [
        "# Скачиваем данные (число пассажиров международных авиаперевозок)\n",
        "series = pd.read_csv(\"https://raw.githubusercontent.com/stefkong1982/netology.ru/Master/Vremennye_ryady/Znakomstvo_vremennymi_ryadami/Series/international-airline-passengers.csv\")[\"Count\"]"
      ],
      "metadata": {
        "id": "cj7WzmogwxmU"
      },
      "execution_count": 253,
      "outputs": []
    },
    {
      "cell_type": "code",
      "source": [
        "# Преобразуем данные в формат, подходящий для HMM\n",
        "values = series.values.reshape(-1,1)"
      ],
      "metadata": {
        "id": "AabSqtdswzjF"
      },
      "execution_count": 254,
      "outputs": []
    },
    {
      "cell_type": "code",
      "source": [
        "# Оценка модели с различным количеством компонент (состояний)\n",
        "for n in range(1, 11):\n",
        "    model = GaussianHMM(n_components=n,\n",
        "                        covariance_type=\"diag\",\n",
        "                        n_iter=1000)\n",
        "    model.fit(values)\n",
        "    print(n, model.score(values))  # Печатаем логарифмическую вероятность"
      ],
      "metadata": {
        "colab": {
          "base_uri": "https://localhost:8080/"
        },
        "id": "8ACKmhINw3sx",
        "outputId": "c249da71-8d67-4dd9-a234-a92baa481aaa"
      },
      "execution_count": 289,
      "outputs": [
        {
          "output_type": "stream",
          "name": "stdout",
          "text": [
            "1 -893.1837902090575\n",
            "2 -893.1775322362838\n",
            "3 -780.5000105380417\n",
            "4 -768.2367886523443\n",
            "5 -743.7346087106736\n",
            "6 -736.2633760613534\n",
            "7 -732.7030168405977\n",
            "8 -749.3895818711122\n",
            "9 -706.2844568107317\n",
            "10 -697.5182400297414\n"
          ]
        }
      ]
    },
    {
      "cell_type": "markdown",
      "source": [
        "Анализ логарифмической вероятности\n",
        "\n",
        "\n",
        "- Между 5 и 7 компонентами наблюдается плавное улучшение, при этом каждый последующий добавленный компонент вносит меньший вклад в улучшение вероятности по сравнению с предыдущими компонентами. Это может свидетельствовать о плате за сложность модели — добавление компонентов становится менее эффективным на более высоких уровнях."
      ],
      "metadata": {
        "id": "oWkV4M9IkXUj"
      }
    },
    {
      "cell_type": "markdown",
      "source": [
        "- На основе анализа логарифмических вероятностей было принято решение о выборе модели с 7 компонентами."
      ],
      "metadata": {
        "id": "RGBJz8fvnJLr"
      }
    },
    {
      "cell_type": "code",
      "source": [
        "# Определяем оптимальное количество компонент\n",
        "optimal_n = 7\n",
        "\n",
        "# Создаем и обучаем модель HMM с оптимальным количеством компонент\n",
        "model = GaussianHMM(n_components=optimal_n,\n",
        "                    covariance_type=\"diag\",\n",
        "                    n_iter=1000)\n",
        "model.fit(values)\n",
        "\n",
        "# Прогнозируем скрытые состояния для наблюдений\n",
        "labels = model.predict(values)\n",
        "\n",
        "# Создаем массив средних значений для каждой компоненты\n",
        "means = np.zeros_like(values)\n",
        "for i in range(model.n_components):\n",
        "    means[labels == i] = model.means_[i]  # Заполнение средними значениями"
      ],
      "metadata": {
        "id": "ccscgfzEOg-N"
      },
      "execution_count": 315,
      "outputs": []
    },
    {
      "cell_type": "code",
      "source": [
        "# Строим график: наблюдаемые значения и средние значения по состояниям\n",
        "plt.figure(figsize=(12, 6))\n",
        "plt.plot(values, label='Наблюдаемые значения')\n",
        "plt.plot(means, linewidth=3, label='Средние значения HMM')\n",
        "plt.title('Наблюдаемые значения и Средние значения HMM')\n",
        "plt.xlabel('Время')\n",
        "plt.ylabel('Количество пассажиров')\n",
        "plt.legend()\n",
        "plt.show()"
      ],
      "metadata": {
        "colab": {
          "base_uri": "https://localhost:8080/",
          "height": 564
        },
        "id": "LjbrMeXfw9Xp",
        "outputId": "1a33a8ca-f05f-4489-e84d-d4fbd4f3d307"
      },
      "execution_count": 316,
      "outputs": [
        {
          "output_type": "display_data",
          "data": {
            "text/plain": [
              "<Figure size 1200x600 with 1 Axes>"
            ],
            "image/png": "[encoded data removed]"
          },
          "metadata": {}
        }
      ]
    },
    {
      "cell_type": "code",
      "source": [
        "# Выводим статистическую информацию о модели\n",
        "print(\"Средние значения для каждой компоненты:\")\n",
        "for i in range(model.n_components):\n",
        "    print(f\"Компонента {i}: среднее = {model.means_[i]}\")"
      ],
      "metadata": {
        "colab": {
          "base_uri": "https://localhost:8080/"
        },
        "id": "nvonsnpMTA2u",
        "outputId": "5ab18b98-336f-4d8c-83c2-14a1ae94a4be"
      },
      "execution_count": 317,
      "outputs": [
        {
          "output_type": "stream",
          "name": "stdout",
          "text": [
            "Средние значения для каждой компоненты:\n",
            "Компонента 0: среднее = [404.47707827]\n",
            "Компонента 1: среднее = [265.79981727]\n",
            "Компонента 2: среднее = [333.10190293]\n",
            "Компонента 3: среднее = [233.35742122]\n",
            "Компонента 4: среднее = [458.4015231]\n",
            "Компонента 5: среднее = [186.61796192]\n",
            "Компонента 6: среднее = [134.35863293]\n"
          ]
        }
      ]
    },
    {
      "cell_type": "markdown",
      "source": [
        "Интерпретация скрытых состояний:\n",
        "- Различные средние значения компонент указывают на существование различных уровней пассажиропотока. Например, компоненты с более высокими средними значениями могут соответствовать пиковым сезонам, тогда как с низкими — межсезонному периоду.\n",
        "- Такая сегментация может быть полезна для предсказания тенденций, планирования ресурсов и разработки стратегий маркетинга в авиационной отрасли."
      ],
      "metadata": {
        "id": "oIYsIspOoY2m"
      }
    }
  ]
}