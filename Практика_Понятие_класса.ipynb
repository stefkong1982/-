{
  "cells": [
    {
      "cell_type": "markdown",
      "metadata": {
        "id": "view-in-github",
        "colab_type": "text"
      },
      "source": [
        "<a href=\"https://colab.research.google.com/github/stefkong1982/demo/blob/main/%D0%9F%D1%80%D0%B0%D0%BA%D1%82%D0%B8%D0%BA%D0%B0_%D0%9F%D0%BE%D0%BD%D1%8F%D1%82%D0%B8%D0%B5_%D0%BA%D0%BB%D0%B0%D1%81%D1%81%D0%B0.ipynb\" target=\"_parent\"><img src=\"https://colab.research.google.com/assets/colab-badge.svg\" alt=\"Open In Colab\"/></a>"
      ]
    },
    {
      "cell_type": "markdown",
      "metadata": {
        "id": "K0pLMgZJZSZo"
      },
      "source": [
        "# Практика"
      ]
    },
    {
      "cell_type": "code",
      "execution_count": null,
      "metadata": {
        "id": "XFl2B8TxZSZs"
      },
      "outputs": [],
      "source": [
        "from analytics_libs import AnyName"
      ]
    },
    {
      "cell_type": "code",
      "execution_count": null,
      "metadata": {
        "id": "ppBS4P7vZSZu"
      },
      "outputs": [],
      "source": [
        "from analytics_libs import *  # никогда так не делайте"
      ]
    },
    {
      "cell_type": "code",
      "execution_count": null,
      "metadata": {
        "id": "F_Sl-Tp-ZSZv"
      },
      "outputs": [],
      "source": [
        "def cost_with_vat(cost):\n",
        "    # очень полезная функция +"
      ]
    },
    {
      "cell_type": "code",
      "execution_count": null,
      "metadata": {
        "id": "lZO5yVz6ZSZv"
      },
      "outputs": [],
      "source": [
        "def useful_func(a, b):\n",
        "    \"\"\"Функция внутри класса - НЕ использует self\"\"\"\n",
        "    return a**2 + b**2"
      ]
    },
    {
      "cell_type": "code",
      "execution_count": null,
      "metadata": {
        "id": "xAnWBjuHZSZw"
      },
      "outputs": [],
      "source": [
        "class AnyName:\n",
        "    def __init__(self, name):\n",
        "        print('Выполняется при обращении к классу')\n",
        "        # создаем все необходимые для работы класса атрибуты\n",
        "        self.x = 0\n",
        "        self.name = name\n",
        "        self.price = 100\n",
        "        self.discount = 0.1\n",
        "\n",
        "        # приватные атрибуты\n",
        "        self._api_version = '5.131'  # намек, что менять атрибут ВНЕ кода класса нехорошо\n",
        "        self.__secret_attr = '5.0'  # запрет на изменение атрибута вне кода класса\n",
        "\n",
        "    # функции внутри классов называются методами\n",
        "    def method_1(self):\n",
        "        # x = 1  # x это просто переменная\n",
        "        self.x = 1  # x это атрибут\n",
        "\n",
        "    def method_2(self):\n",
        "        print(self.x, self.__secret_attr)\n",
        "\n",
        "    @staticmethod  # ДЕКОРАТОР статистический метод\n",
        "    def useful_func(a, b):\n",
        "        \"\"\"Функция внутри класса - НЕ использует self\"\"\"\n",
        "        return a**2 + b**2\n",
        "\n",
        "    @property  # вычислимый атрибут\n",
        "    def price_with_discount_vat(self):\n",
        "        price_discount = self.price * (1 - self.discount)\n",
        "        return price_discount * 1.2"
      ]
    },
    {
      "cell_type": "code",
      "execution_count": null,
      "metadata": {
        "scrolled": true,
        "id": "KFD0_8FSZSZx",
        "outputId": "de23287e-c885-4c1f-9649-86d88abb2c65"
      },
      "outputs": [
        {
          "name": "stdout",
          "output_type": "stream",
          "text": [
            "Выполняется при обращении к классу\n"
          ]
        }
      ],
      "source": [
        "a = AnyName('Ваня')"
      ]
    },
    {
      "cell_type": "code",
      "execution_count": null,
      "metadata": {
        "id": "fXC15CAvZSZy",
        "outputId": "5535d3f2-f568-4c35-f42c-9a917eaf6be1"
      },
      "outputs": [
        {
          "data": {
            "text/plain": [
              "108.0"
            ]
          },
          "execution_count": 48,
          "metadata": {},
          "output_type": "execute_result"
        }
      ],
      "source": [
        "a.price_with_discount_vat"
      ]
    },
    {
      "cell_type": "code",
      "execution_count": null,
      "metadata": {
        "id": "pJTyfGgrZSZz",
        "outputId": "a2bba69a-1297-4b2b-b5b2-10b805b83086"
      },
      "outputs": [
        {
          "data": {
            "text/plain": [
              "25"
            ]
          },
          "execution_count": 44,
          "metadata": {},
          "output_type": "execute_result"
        }
      ],
      "source": [
        "a.useful_func(3, 4)"
      ]
    },
    {
      "cell_type": "code",
      "execution_count": null,
      "metadata": {
        "id": "KfoOtrouZSZ0",
        "outputId": "42a40a60-7d48-4315-b6b9-5bc9c3be53f9"
      },
      "outputs": [
        {
          "name": "stdout",
          "output_type": "stream",
          "text": [
            "Выполняется при обращении к классу\n"
          ]
        },
        {
          "data": {
            "text/plain": [
              "25"
            ]
          },
          "execution_count": 45,
          "metadata": {},
          "output_type": "execute_result"
        }
      ],
      "source": [
        "AnyName('Ваня').useful_func(3, 4)"
      ]
    },
    {
      "cell_type": "code",
      "execution_count": null,
      "metadata": {
        "id": "RCucTzJ7ZSZ1",
        "outputId": "2ce04b3f-415d-49c1-df87-3ce8235d5602"
      },
      "outputs": [
        {
          "name": "stdout",
          "output_type": "stream",
          "text": [
            "0 5.0\n"
          ]
        }
      ],
      "source": [
        "a.method_2()"
      ]
    },
    {
      "cell_type": "code",
      "execution_count": null,
      "metadata": {
        "id": "3Nnp_kF3ZSZ1",
        "outputId": "2a34437b-95da-4c7d-f0e5-5e556b0f48c6"
      },
      "outputs": [
        {
          "ename": "AttributeError",
          "evalue": "'AnyName' object has no attribute '__secret_attr'",
          "output_type": "error",
          "traceback": [
            "\u001b[0;31m---------------------------------------------------------------------------\u001b[0m",
            "\u001b[0;31mAttributeError\u001b[0m                            Traceback (most recent call last)",
            "\u001b[0;32m<ipython-input-38-c4ac2513fc27>\u001b[0m in \u001b[0;36m<module>\u001b[0;34m\u001b[0m\n\u001b[0;32m----> 1\u001b[0;31m \u001b[0ma\u001b[0m\u001b[0;34m.\u001b[0m\u001b[0m__secret_attr\u001b[0m\u001b[0;34m\u001b[0m\u001b[0;34m\u001b[0m\u001b[0m\n\u001b[0m",
            "\u001b[0;31mAttributeError\u001b[0m: 'AnyName' object has no attribute '__secret_attr'"
          ]
        }
      ],
      "source": [
        "a.__secret_attr"
      ]
    },
    {
      "cell_type": "code",
      "execution_count": null,
      "metadata": {
        "id": "khuaXXfeZSZ2",
        "outputId": "bbab959b-9e7c-4ce6-8801-23a2459f5be7"
      },
      "outputs": [
        {
          "data": {
            "text/plain": [
              "'6.0'"
            ]
          },
          "execution_count": 35,
          "metadata": {},
          "output_type": "execute_result"
        }
      ],
      "source": [
        "a._api_version = '6.0'\n",
        "a._api_version"
      ]
    },
    {
      "cell_type": "code",
      "execution_count": null,
      "metadata": {
        "id": "1oKs-4jxZSZ2"
      },
      "outputs": [],
      "source": [
        "a.api_version = '6.0'"
      ]
    },
    {
      "cell_type": "code",
      "execution_count": null,
      "metadata": {
        "id": "2Bl_e30aZSZ3",
        "outputId": "8176447e-665b-4f80-80b8-843a17e5a3c5"
      },
      "outputs": [
        {
          "data": {
            "text/plain": [
              "5"
            ]
          },
          "execution_count": 31,
          "metadata": {},
          "output_type": "execute_result"
        }
      ],
      "source": [
        "a.x = 5\n",
        "a.x"
      ]
    },
    {
      "cell_type": "code",
      "execution_count": null,
      "metadata": {
        "id": "F6DgneBBZSZ3"
      },
      "outputs": [],
      "source": []
    },
    {
      "cell_type": "code",
      "execution_count": null,
      "metadata": {
        "id": "QoXN9F-xZSZ4",
        "outputId": "04e31ef8-ef52-4f62-89c7-831031b0b501"
      },
      "outputs": [
        {
          "name": "stdout",
          "output_type": "stream",
          "text": [
            "Выполняется при обращении к классу\n",
            "Выполняется при обращении к классу\n"
          ]
        }
      ],
      "source": [
        "vasya = AnyName(name='Василий')\n",
        "\n",
        "lena = AnyName('Елена')"
      ]
    },
    {
      "cell_type": "code",
      "execution_count": null,
      "metadata": {
        "id": "PISG3PIiZSZ4"
      },
      "outputs": [],
      "source": [
        "vasya + lena"
      ]
    },
    {
      "cell_type": "code",
      "execution_count": null,
      "metadata": {
        "id": "u2IgilDVZSZ5",
        "outputId": "8471aeda-ec41-4a9c-b496-e879da01bab2"
      },
      "outputs": [
        {
          "data": {
            "text/plain": [
              "__main__.AnyName"
            ]
          },
          "execution_count": 25,
          "metadata": {},
          "output_type": "execute_result"
        }
      ],
      "source": [
        "type(lena)"
      ]
    },
    {
      "cell_type": "code",
      "execution_count": null,
      "metadata": {
        "id": "a0kplcjaZSZ5"
      },
      "outputs": [],
      "source": [
        "l_1 = [1, 2, 3]\n",
        "l_2 = [3, 4, 5]"
      ]
    },
    {
      "cell_type": "code",
      "execution_count": null,
      "metadata": {
        "id": "5SU5ZdaaZSZ5",
        "outputId": "dc8d4400-3c30-46d1-ee26-a32381981c1c"
      },
      "outputs": [
        {
          "data": {
            "text/plain": [
              "[1, 2, 3, 3, 4, 5]"
            ]
          },
          "execution_count": 26,
          "metadata": {},
          "output_type": "execute_result"
        }
      ],
      "source": [
        "l_1 + l_2"
      ]
    },
    {
      "cell_type": "code",
      "execution_count": null,
      "metadata": {
        "id": "hxqn5Yx7ZSZ6",
        "outputId": "6ad1793b-8b0f-4a93-c6b9-520f4589568e"
      },
      "outputs": [
        {
          "data": {
            "text/plain": [
              "2"
            ]
          },
          "execution_count": 27,
          "metadata": {},
          "output_type": "execute_result"
        }
      ],
      "source": [
        "1 + 1"
      ]
    },
    {
      "cell_type": "code",
      "execution_count": null,
      "metadata": {
        "id": "YmOfsUn6ZSZ6"
      },
      "outputs": [],
      "source": [
        "__add__()"
      ]
    },
    {
      "cell_type": "code",
      "execution_count": null,
      "metadata": {
        "id": "2rQEf4NBZSZ6",
        "outputId": "fe77ac4e-41fd-49de-a4e7-d04a7989d1e9"
      },
      "outputs": [
        {
          "data": {
            "text/plain": [
              "'11'"
            ]
          },
          "execution_count": 28,
          "metadata": {},
          "output_type": "execute_result"
        }
      ],
      "source": [
        "'1' + '1'"
      ]
    },
    {
      "cell_type": "code",
      "execution_count": null,
      "metadata": {
        "id": "maxGcjIhZSZ7",
        "outputId": "db59c5fc-da36-4fe0-b7da-d49e874805c2"
      },
      "outputs": [
        {
          "data": {
            "text/plain": [
              "list"
            ]
          },
          "execution_count": 22,
          "metadata": {},
          "output_type": "execute_result"
        }
      ],
      "source": [
        "type(l_1)"
      ]
    },
    {
      "cell_type": "code",
      "execution_count": null,
      "metadata": {
        "id": "Sb4PWuUQZSZ7",
        "outputId": "99afaada-46a4-44de-e481-d53cd66e074c"
      },
      "outputs": [
        {
          "data": {
            "text/plain": [
              "0"
            ]
          },
          "execution_count": 17,
          "metadata": {},
          "output_type": "execute_result"
        }
      ],
      "source": [
        "a.x"
      ]
    },
    {
      "cell_type": "code",
      "execution_count": null,
      "metadata": {
        "id": "DX97G0q4ZSZ7",
        "outputId": "ffcbc093-ab24-4763-f31d-6171e72fa665"
      },
      "outputs": [
        {
          "name": "stdout",
          "output_type": "stream",
          "text": [
            "0\n"
          ]
        }
      ],
      "source": [
        "a.method_2()"
      ]
    },
    {
      "cell_type": "code",
      "execution_count": null,
      "metadata": {
        "id": "oT5n1j6cZSZ7",
        "outputId": "3eefa8aa-cd34-4fc4-af46-1221a3b9d7ec"
      },
      "outputs": [
        {
          "data": {
            "text/plain": [
              "5"
            ]
          },
          "execution_count": 11,
          "metadata": {},
          "output_type": "execute_result"
        }
      ],
      "source": [
        "a.x = 5\n",
        "a.x"
      ]
    },
    {
      "cell_type": "code",
      "execution_count": null,
      "metadata": {
        "id": "BmpBZrxaZSZ7",
        "outputId": "4dbde708-c5f9-4137-ab23-c1c45f201b1f"
      },
      "outputs": [
        {
          "name": "stdout",
          "output_type": "stream",
          "text": [
            "5\n"
          ]
        }
      ],
      "source": [
        "a.method_2()"
      ]
    },
    {
      "cell_type": "code",
      "execution_count": null,
      "metadata": {
        "id": "QBjXE5_jZSZ8"
      },
      "outputs": [],
      "source": []
    },
    {
      "cell_type": "code",
      "execution_count": null,
      "metadata": {
        "id": "luC-57jLZSZ8"
      },
      "outputs": [],
      "source": [
        "def func_1():\n",
        "    x = 1\n",
        "    return x\n",
        "\n",
        "def func_2(x):\n",
        "    print(x)"
      ]
    },
    {
      "cell_type": "code",
      "execution_count": null,
      "metadata": {
        "id": "ZKLvNg4rZSZ8"
      },
      "outputs": [],
      "source": [
        "result = func_1()"
      ]
    },
    {
      "cell_type": "code",
      "execution_count": null,
      "metadata": {
        "id": "8T0zWHZsZSZ8",
        "outputId": "4ab74878-5c99-424d-b57a-21ba0fb19066"
      },
      "outputs": [
        {
          "name": "stdout",
          "output_type": "stream",
          "text": [
            "1\n"
          ]
        }
      ],
      "source": [
        "func_2(result)"
      ]
    },
    {
      "cell_type": "code",
      "execution_count": null,
      "metadata": {
        "id": "-nu3tCbIZSZ8"
      },
      "outputs": [],
      "source": []
    },
    {
      "cell_type": "code",
      "execution_count": null,
      "metadata": {
        "id": "6HtamL4lZSZ9"
      },
      "outputs": [],
      "source": []
    },
    {
      "cell_type": "code",
      "execution_count": null,
      "metadata": {
        "id": "KhJC5GSiZSZ9"
      },
      "outputs": [],
      "source": []
    },
    {
      "cell_type": "code",
      "execution_count": null,
      "metadata": {
        "id": "sn9BAptsZSZ9"
      },
      "outputs": [],
      "source": []
    },
    {
      "cell_type": "markdown",
      "metadata": {
        "id": "zxnkIo47ZSZ9"
      },
      "source": [
        "# Требования к отчету\n",
        "(в хронологическом порядке)\n",
        "\n",
        "1. Нужен отчет по трафику (визиты по дням)\n",
        "2. Сделайте таблицу попроще\n",
        "3. А можно сразу очень много строк получить?\n",
        "\n",
        "[Демо-счетчик](https://metrika.yandex.ru/stat/traffic?sort=-ym%3As%3Avisits&period=2020-08-01%3A2020-09-06&accuracy=1&id=44147844&stateHash=5d3ee51607d6bde783131e11) Яндекс.Метрики\n"
      ]
    },
    {
      "cell_type": "code",
      "execution_count": null,
      "metadata": {
        "id": "6ehUvSQYZSZ9",
        "outputId": "16e55125-0414-4bd0-cee6-6311ada26599"
      },
      "outputs": [
        {
          "name": "stderr",
          "output_type": "stream",
          "text": [
            "/Users/kbashevoy/opt/anaconda3/lib/python3.8/site-packages/requests/__init__.py:89: RequestsDependencyWarning: urllib3 (1.26.14) or chardet (3.0.4) doesn't match a supported version!\n",
            "  warnings.warn(\"urllib3 ({}) or chardet ({}) doesn't match a supported \"\n"
          ]
        }
      ],
      "source": [
        "import requests"
      ]
    },
    {
      "cell_type": "code",
      "execution_count": null,
      "metadata": {
        "id": "_j1yRrAKZSaB"
      },
      "outputs": [],
      "source": [
        "API_URL = 'https://api-metrika.yandex.ru/stat/v1/data'\n",
        "METRIKA_ROWS_LIMIT = 5  # max 100000\n",
        "\n",
        "DEMO_COUNTER = 44147844"
      ]
    },
    {
      "cell_type": "code",
      "execution_count": null,
      "metadata": {
        "id": "VqeCIb3YZSaB"
      },
      "outputs": [],
      "source": [
        "class Metrika:\n",
        "    def __init__(self, token='', counter=DEMO_COUNTER, start_date='2020-09-01', end_date='2020-09-10'):\n",
        "        self.counter = counter\n",
        "        self.limit = METRIKA_ROWS_LIMIT\n",
        "        self.start_date = start_date\n",
        "        self.end_date = end_date\n",
        "\n",
        "        if token:\n",
        "            self.headers = {'Authorization': 'OAuth ' + token}\n",
        "        else:\n",
        "            self.headers = ''  # для демо-счетчика заголовок запроса должен быть пустым\n",
        "\n",
        "        self.dimensions = ''  # строки отчета\n",
        "        self.metrics = ''  # столбцы отчета\n",
        "        self.report = []  # сам отчет\n",
        "\n",
        "    def api_request(self, offset=1):\n",
        "        \"\"\"Запрос к API Метрики, возвращает словарь с отчетом\"\"\"\n",
        "        params = {\n",
        "            'id': self.counter,\n",
        "            'date1': self.start_date,\n",
        "            'date2': self.end_date,\n",
        "            'metrics': self.metrics,\n",
        "            'dimensions': self.dimensions,\n",
        "            'limit': self.limit,\n",
        "            'offset': offset,\n",
        "            'accuracy': 1,\n",
        "        }\n",
        "\n",
        "        response = requests.get(API_URL, params=params, headers=self.headers)\n",
        "        return response.json()['data']\n",
        "\n",
        "    def traffic(self):\n",
        "        \"\"\"Отчет по посещаемости\"\"\"\n",
        "        self.metrics = 'ym:s:visits'\n",
        "        self.dimensions = 'ym:s:date'\n",
        "\n",
        "        report = self.full_report()\n",
        "        self.report = report\n",
        "\n",
        "    def browsers(self):\n",
        "        \"\"\"Отчет по браузерам\"\"\"\n",
        "        self.metrics = 'ym:s:visits'\n",
        "        self.dimensions = 'ym:s:date,ym:s:browser'\n",
        "\n",
        "        report = self.full_report()\n",
        "        self.report = report\n",
        "\n",
        "    def reformat_api_report(self):\n",
        "        \"\"\"Упрощение отчета до списка списков\"\"\"\n",
        "        reformatted_report = []\n",
        "\n",
        "        for line in self.report:\n",
        "            dimensions = [x['name'] for x in line['dimensions']]\n",
        "            reformatted_report.append(dimensions + line['metrics'])\n",
        "\n",
        "        self.report = reformatted_report\n",
        "\n",
        "    def full_report(self):\n",
        "        \"\"\"Постраничная выгрузка из Метрики\"\"\"\n",
        "        full_data = []\n",
        "        offset = 1\n",
        "\n",
        "        while True:\n",
        "            print('Starting offset {}'.format(offset))\n",
        "            data = self.api_request(offset=offset)\n",
        "            full_data += data\n",
        "\n",
        "            offset += self.limit\n",
        "            if not data or len(data) < self.limit:\n",
        "                break\n",
        "\n",
        "        return full_data"
      ]
    },
    {
      "cell_type": "code",
      "execution_count": null,
      "metadata": {
        "id": "l3LS6wqNZSaC"
      },
      "outputs": [],
      "source": [
        "m = Metrika(start_date='2023-08-01', end_date='2023-08-21')"
      ]
    },
    {
      "cell_type": "code",
      "execution_count": null,
      "metadata": {
        "id": "ASmfEY81ZSaC",
        "outputId": "6a5ed4f7-ef6f-4e12-b14c-890cef093307"
      },
      "outputs": [
        {
          "name": "stdout",
          "output_type": "stream",
          "text": [
            "Starting offset 1\n",
            "Starting offset 6\n",
            "Starting offset 11\n",
            "Starting offset 16\n",
            "Starting offset 21\n"
          ]
        }
      ],
      "source": [
        "m.traffic()"
      ]
    },
    {
      "cell_type": "code",
      "execution_count": null,
      "metadata": {
        "id": "f4nNLrNCZSaC",
        "outputId": "3cdae1db-0ece-407a-d7c7-fcb0beea79e9"
      },
      "outputs": [
        {
          "data": {
            "text/plain": [
              "[['2023-08-03', 1099.0],\n",
              " ['2023-08-04', 1099.0],\n",
              " ['2023-08-08', 1037.0],\n",
              " ['2023-08-10', 996.0],\n",
              " ['2023-08-09', 991.0],\n",
              " ['2023-08-07', 924.0],\n",
              " ['2023-08-02', 854.0],\n",
              " ['2023-08-11', 669.0],\n",
              " ['2023-08-16', 646.0],\n",
              " ['2023-08-21', 549.0],\n",
              " ['2023-08-17', 538.0],\n",
              " ['2023-08-15', 520.0],\n",
              " ['2023-08-14', 502.0],\n",
              " ['2023-08-18', 493.0],\n",
              " ['2023-08-01', 490.0],\n",
              " ['2023-08-06', 483.0],\n",
              " ['2023-08-05', 476.0],\n",
              " ['2023-08-12', 448.0],\n",
              " ['2023-08-13', 435.0],\n",
              " ['2023-08-20', 381.0],\n",
              " ['2023-08-19', 371.0]]"
            ]
          },
          "execution_count": 71,
          "metadata": {},
          "output_type": "execute_result"
        }
      ],
      "source": [
        "m.reformat_api_report()\n",
        "m.report"
      ]
    },
    {
      "cell_type": "code",
      "execution_count": null,
      "metadata": {
        "id": "NPCdhqpIZSaD",
        "outputId": "1d8cb98e-3212-4314-b1ce-45e56dd9d3c4"
      },
      "outputs": [
        {
          "name": "stdout",
          "output_type": "stream",
          "text": [
            "Starting offset 1\n",
            "Starting offset 6\n",
            "Starting offset 11\n",
            "Starting offset 16\n",
            "Starting offset 21\n",
            "Starting offset 26\n",
            "Starting offset 31\n",
            "Starting offset 36\n",
            "Starting offset 41\n",
            "Starting offset 46\n",
            "Starting offset 51\n",
            "Starting offset 56\n",
            "Starting offset 61\n",
            "Starting offset 66\n",
            "Starting offset 71\n",
            "Starting offset 76\n",
            "Starting offset 81\n",
            "Starting offset 86\n",
            "Starting offset 91\n",
            "Starting offset 96\n",
            "Starting offset 101\n",
            "Starting offset 106\n",
            "Starting offset 111\n",
            "Starting offset 116\n",
            "Starting offset 121\n",
            "Starting offset 126\n",
            "Starting offset 131\n",
            "Starting offset 136\n",
            "Starting offset 141\n",
            "Starting offset 146\n",
            "Starting offset 151\n",
            "Starting offset 156\n",
            "Starting offset 161\n",
            "Starting offset 166\n",
            "Starting offset 171\n",
            "Starting offset 176\n",
            "Starting offset 181\n",
            "Starting offset 186\n",
            "Starting offset 191\n",
            "Starting offset 196\n",
            "Starting offset 201\n",
            "Starting offset 206\n",
            "Starting offset 211\n",
            "Starting offset 216\n",
            "Starting offset 221\n",
            "Starting offset 226\n",
            "Starting offset 231\n",
            "Starting offset 236\n",
            "Starting offset 241\n",
            "Starting offset 246\n",
            "Starting offset 251\n",
            "Starting offset 256\n",
            "Starting offset 261\n",
            "Starting offset 266\n",
            "Starting offset 271\n",
            "Starting offset 276\n",
            "Starting offset 281\n",
            "Starting offset 286\n",
            "Starting offset 291\n",
            "Starting offset 296\n",
            "Starting offset 301\n",
            "Starting offset 306\n",
            "Starting offset 311\n",
            "Starting offset 316\n",
            "Starting offset 321\n",
            "Starting offset 326\n",
            "Starting offset 331\n",
            "Starting offset 336\n",
            "Starting offset 341\n",
            "Starting offset 346\n",
            "Starting offset 351\n",
            "Starting offset 356\n"
          ]
        },
        {
          "data": {
            "text/plain": [
              "[['2023-08-03', 'Google Chrome', 458.0],\n",
              " ['2023-08-04', 'Google Chrome', 443.0],\n",
              " ['2023-08-08', 'Google Chrome', 407.0],\n",
              " ['2023-08-09', 'Google Chrome', 406.0],\n",
              " ['2023-08-10', 'Google Chrome', 395.0],\n",
              " ['2023-08-07', 'Google Chrome', 381.0],\n",
              " ['2023-08-02', 'Google Chrome', 334.0],\n",
              " ['2023-08-11', 'Google Chrome', 263.0],\n",
              " ['2023-08-03', 'Яндекс.Браузер', 249.0],\n",
              " ['2023-08-10', 'Яндекс.Браузер', 235.0],\n",
              " ['2023-08-04', 'Яндекс.Браузер', 232.0],\n",
              " ['2023-08-16', 'Google Chrome', 226.0],\n",
              " ['2023-08-08', 'Яндекс.Браузер', 217.0],\n",
              " ['2023-08-16', 'Chrome Mobile', 214.0],\n",
              " ['2023-08-20', 'Chrome Mobile', 212.0],\n",
              " ['2023-08-17', 'Chrome Mobile', 204.0],\n",
              " ['2023-08-01', 'Google Chrome', 199.0],\n",
              " ['2023-08-21', 'Chrome Mobile', 199.0],\n",
              " ['2023-08-09', 'Яндекс.Браузер', 198.0],\n",
              " ['2023-08-07', 'Яндекс.Браузер', 192.0],\n",
              " ['2023-08-19', 'Chrome Mobile', 192.0],\n",
              " ['2023-08-08', 'Chrome Mobile', 190.0],\n",
              " ['2023-08-18', 'Chrome Mobile', 189.0],\n",
              " ['2023-08-21', 'Google Chrome', 189.0],\n",
              " ['2023-08-17', 'Google Chrome', 186.0],\n",
              " ['2023-08-15', 'Google Chrome', 174.0],\n",
              " ['2023-08-15', 'Chrome Mobile', 173.0],\n",
              " ['2023-08-14', 'Chrome Mobile', 172.0],\n",
              " ['2023-08-14', 'Google Chrome', 171.0],\n",
              " ['2023-08-09', 'Chrome Mobile', 168.0],\n",
              " ['2023-08-13', 'Chrome Mobile', 168.0],\n",
              " ['2023-08-05', 'Chrome Mobile', 167.0],\n",
              " ['2023-08-06', 'Chrome Mobile', 166.0],\n",
              " ['2023-08-12', 'Chrome Mobile', 166.0],\n",
              " ['2023-08-03', 'Chrome Mobile', 165.0],\n",
              " ['2023-08-02', 'Яндекс.Браузер', 160.0],\n",
              " ['2023-08-04', 'Chrome Mobile', 160.0],\n",
              " ['2023-08-07', 'Chrome Mobile', 160.0],\n",
              " ['2023-08-18', 'Google Chrome', 159.0],\n",
              " ['2023-08-11', 'Chrome Mobile', 151.0],\n",
              " ['2023-08-01', 'Chrome Mobile', 147.0],\n",
              " ['2023-08-10', 'Chrome Mobile', 142.0],\n",
              " ['2023-08-02', 'Chrome Mobile', 140.0],\n",
              " ['2023-08-05', 'Google Chrome', 136.0],\n",
              " ['2023-08-06', 'Google Chrome', 134.0],\n",
              " ['2023-08-13', 'Google Chrome', 115.0],\n",
              " ['2023-08-12', 'Google Chrome', 106.0],\n",
              " ['2023-08-11', 'Яндекс.Браузер', 104.0],\n",
              " ['2023-08-06', 'Яндекс.Браузер', 85.0],\n",
              " ['2023-08-03', 'Edge', 84.0],\n",
              " ['2023-08-19', 'Google Chrome', 81.0],\n",
              " ['2023-08-20', 'Google Chrome', 81.0],\n",
              " ['2023-08-12', 'Яндекс.Браузер', 78.0],\n",
              " ['2023-08-04', 'Edge', 76.0],\n",
              " ['2023-08-16', 'Яндекс.Браузер', 74.0],\n",
              " ['2023-08-10', 'Edge', 62.0],\n",
              " ['2023-08-05', 'Яндекс.Браузер', 59.0],\n",
              " ['2023-08-08', 'Edge', 57.0],\n",
              " ['2023-08-15', 'Яндекс.Браузер', 56.0],\n",
              " ['2023-08-10', 'Safari', 55.0],\n",
              " ['2023-08-02', 'Edge', 54.0],\n",
              " ['2023-08-07', 'Edge', 53.0],\n",
              " ['2023-08-09', 'Edge', 53.0],\n",
              " ['2023-08-14', 'Яндекс.Браузер', 52.0],\n",
              " ['2023-08-09', 'Safari', 51.0],\n",
              " ['2023-08-21', 'Яндекс.Браузер', 48.0],\n",
              " ['2023-08-01', 'Яндекс.Браузер', 45.0],\n",
              " ['2023-08-08', 'Safari', 44.0],\n",
              " ['2023-08-07', 'Safari', 43.0],\n",
              " ['2023-08-13', 'Яндекс.Браузер', 43.0],\n",
              " ['2023-08-02', 'Safari', 42.0],\n",
              " ['2023-08-04', 'Firefox', 42.0],\n",
              " ['2023-08-17', 'Яндекс.Браузер', 42.0],\n",
              " ['2023-08-04', 'Safari', 41.0],\n",
              " ['2023-08-07', 'Firefox', 40.0],\n",
              " ['2023-08-11', 'Edge', 40.0],\n",
              " ['2023-08-03', 'Firefox', 38.0],\n",
              " ['2023-08-10', 'Firefox', 37.0],\n",
              " ['2023-08-11', 'Firefox', 36.0],\n",
              " ['2023-08-16', 'Firefox', 36.0],\n",
              " ['2023-08-08', 'Firefox', 35.0],\n",
              " ['2023-08-18', 'Яндекс.Браузер', 35.0],\n",
              " ['2023-08-02', 'Firefox', 34.0],\n",
              " ['2023-08-09', 'Firefox', 34.0],\n",
              " ['2023-08-07', 'Opera', 32.0],\n",
              " ['2023-08-02', 'Mobile Safari', 30.0],\n",
              " ['2023-08-03', 'Safari', 30.0],\n",
              " ['2023-08-15', 'Mobile Safari', 30.0],\n",
              " ['2023-08-21', 'Firefox', 30.0],\n",
              " ['2023-08-02', 'Opera', 28.0],\n",
              " ['2023-08-18', 'Firefox', 28.0],\n",
              " ['2023-08-09', 'Opera', 27.0],\n",
              " ['2023-08-18', 'Safari', 27.0],\n",
              " ['2023-08-01', 'Safari', 26.0],\n",
              " ['2023-08-04', 'Mobile Safari', 26.0],\n",
              " ['2023-08-11', 'Safari', 26.0],\n",
              " ['2023-08-15', 'Edge', 26.0],\n",
              " ['2023-08-04', 'Opera', 25.0],\n",
              " ['2023-08-05', 'Edge', 25.0],\n",
              " ['2023-08-08', 'Opera', 25.0],\n",
              " ['2023-08-19', 'Яндекс.Браузер', 25.0],\n",
              " ['2023-08-06', 'Edge', 24.0],\n",
              " ['2023-08-12', 'Mobile Safari', 24.0],\n",
              " ['2023-08-13', 'Mobile Safari', 24.0],\n",
              " ['2023-08-16', 'Mobile Safari', 24.0],\n",
              " ['2023-08-17', 'Safari', 24.0],\n",
              " ['2023-08-01', 'Edge', 23.0],\n",
              " ['2023-08-04', 'Яндекс Старт: мобильное приложение', 23.0],\n",
              " ['2023-08-08', 'Mobile Safari', 23.0],\n",
              " ['2023-08-09', 'Mobile Safari', 23.0],\n",
              " ['2023-08-16', 'Edge', 23.0],\n",
              " ['2023-08-12', 'Safari', 22.0],\n",
              " ['2023-08-13', 'Safari', 22.0],\n",
              " ['2023-08-14', 'Mobile Safari', 22.0],\n",
              " ['2023-08-21', 'Edge', 22.0],\n",
              " ['2023-08-14', 'Safari', 21.0],\n",
              " ['2023-08-14', 'Edge', 21.0],\n",
              " ['2023-08-15', 'Safari', 21.0],\n",
              " ['2023-08-17', 'Mobile Safari', 21.0],\n",
              " ['2023-08-03', 'Mobile Safari', 20.0],\n",
              " ['2023-08-05', 'Safari', 20.0],\n",
              " ['2023-08-05', 'Mobile Safari', 20.0],\n",
              " ['2023-08-06', 'Safari', 19.0],\n",
              " ['2023-08-10', 'Opera', 19.0],\n",
              " ['2023-08-11', 'Mobile Safari', 19.0],\n",
              " ['2023-08-14', 'Firefox', 19.0],\n",
              " ['2023-08-17', 'Firefox', 19.0],\n",
              " ['2023-08-20', 'Яндекс.Браузер', 19.0],\n",
              " ['2023-08-21', 'Safari', 19.0],\n",
              " ['2023-08-21', 'Mobile Safari', 19.0],\n",
              " ['2023-08-01', 'Firefox', 18.0],\n",
              " ['2023-08-13', 'Firefox', 18.0],\n",
              " ['2023-08-16', 'Safari', 18.0],\n",
              " ['2023-08-18', 'Mobile Safari', 18.0],\n",
              " ['2023-08-05', 'Firefox', 17.0],\n",
              " ['2023-08-10', 'Mobile Safari', 17.0],\n",
              " ['2023-08-13', 'Opera', 17.0],\n",
              " ['2023-08-17', 'Edge', 17.0],\n",
              " ['2023-08-20', 'Mobile Safari', 17.0],\n",
              " ['2023-08-15', 'Firefox', 16.0],\n",
              " ['2023-08-20', 'Safari', 16.0],\n",
              " ['2023-08-03', 'Opera', 15.0],\n",
              " ['2023-08-06', 'Firefox', 15.0],\n",
              " ['2023-08-11', 'Opera', 15.0],\n",
              " ['2023-08-19', 'Firefox', 15.0],\n",
              " ['2023-08-19', 'Mobile Safari', 15.0],\n",
              " ['2023-08-06', 'Mobile Safari', 14.0],\n",
              " ['2023-08-18', 'Edge', 14.0],\n",
              " ['2023-08-07', 'Mobile Safari', 13.0],\n",
              " ['2023-08-13', 'Edge', 13.0],\n",
              " ['2023-08-03', 'Яндекс Старт: мобильное приложение', 12.0],\n",
              " ['2023-08-12', 'Firefox', 12.0],\n",
              " ['2023-08-04', 'Samsung Internet', 11.0],\n",
              " ['2023-08-12', 'Edge', 11.0],\n",
              " ['2023-08-19', 'Edge', 10.0],\n",
              " ['2023-08-20', 'Edge', 10.0],\n",
              " ['2023-08-01', 'Mobile Safari', 9.0],\n",
              " ['2023-08-12', 'Opera', 9.0],\n",
              " ['2023-08-16', 'Samsung Internet', 9.0],\n",
              " ['2023-08-19', 'Safari', 9.0],\n",
              " ['2023-08-19', 'Samsung Internet', 9.0],\n",
              " ['2023-08-01', 'Opera', 8.0],\n",
              " ['2023-08-05', 'Opera', 8.0],\n",
              " ['2023-08-05', 'Яндекс Старт: мобильное приложение', 8.0],\n",
              " ['2023-08-08', 'Яндекс Старт: мобильное приложение', 8.0],\n",
              " ['2023-08-08', 'Samsung Internet', 8.0],\n",
              " ['2023-08-16', 'Opera', 8.0],\n",
              " ['2023-08-20', 'Samsung Internet', 8.0],\n",
              " ['2023-08-02', 'Samsung Internet', 7.0],\n",
              " ['2023-08-06', 'Opera', 7.0],\n",
              " ['2023-08-09', 'Samsung Internet', 7.0],\n",
              " ['2023-08-10', 'Яндекс Старт: мобильное приложение', 7.0],\n",
              " ['2023-08-17', 'Android Browser', 7.0],\n",
              " ['2023-08-20', 'Firefox', 7.0],\n",
              " ['2023-08-01', 'MIUI', 6.0],\n",
              " ['2023-08-02', None, 6.0],\n",
              " ['2023-08-06', 'Яндекс Старт: мобильное приложение', 6.0],\n",
              " ['2023-08-08', 'Atom', 6.0],\n",
              " ['2023-08-12', 'Samsung Internet', 6.0],\n",
              " ['2023-08-17', 'Samsung Internet', 6.0],\n",
              " ['2023-08-18', 'Opera', 6.0],\n",
              " ['2023-08-21', 'Opera', 6.0],\n",
              " ['2023-08-02', 'Яндекс Старт: мобильное приложение', 5.0],\n",
              " ['2023-08-04', 'Android Browser', 5.0],\n",
              " ['2023-08-09', 'Firefox Mobile', 5.0],\n",
              " ['2023-08-09', 'Яндекс Старт: мобильное приложение', 5.0],\n",
              " ['2023-08-10', 'Samsung Internet', 5.0],\n",
              " ['2023-08-11', 'Яндекс Старт: мобильное приложение', 5.0],\n",
              " ['2023-08-14', 'Samsung Internet', 5.0],\n",
              " ['2023-08-15', 'Яндекс Старт: мобильное приложение', 5.0],\n",
              " ['2023-08-01', 'Яндекс Старт: мобильное приложение', 4.0],\n",
              " ['2023-08-03', None, 4.0],\n",
              " ['2023-08-03', 'Android Browser', 4.0],\n",
              " ['2023-08-03', 'MIUI', 4.0],\n",
              " ['2023-08-03', 'Huawei Browser', 4.0],\n",
              " ['2023-08-05', 'Android Browser', 4.0],\n",
              " ['2023-08-05', 'Samsung Internet', 4.0],\n",
              " ['2023-08-06', 'Samsung Internet', 4.0],\n",
              " ['2023-08-08', 'UCWEB', 4.0],\n",
              " ['2023-08-09', 'YandexBrowserCorp', 4.0],\n",
              " ['2023-08-10', 'Meizu Browser', 4.0],\n",
              " ['2023-08-14', 'Яндекс Старт: мобильное приложение', 4.0],\n",
              " ['2023-08-15', 'Opera', 4.0],\n",
              " ['2023-08-16', 'Google: мобильное приложение', 4.0],\n",
              " ['2023-08-17', 'Firefox Mobile', 4.0],\n",
              " ['2023-08-18', 'Яндекс Старт: мобильное приложение', 4.0],\n",
              " ['2023-08-19', 'Opera', 4.0],\n",
              " ['2023-08-20', 'Яндекс Старт: мобильное приложение', 4.0],\n",
              " ['2023-08-02', 'MIUI', 3.0],\n",
              " ['2023-08-03', 'Samsung Internet', 3.0],\n",
              " ['2023-08-04', None, 3.0],\n",
              " ['2023-08-04', 'MIUI', 3.0],\n",
              " ['2023-08-05', 'Firefox Mobile', 3.0],\n",
              " ['2023-08-07', 'Яндекс Старт: мобильное приложение', 3.0],\n",
              " ['2023-08-08', 'Android Browser', 3.0],\n",
              " ['2023-08-10', 'Android Browser', 3.0],\n",
              " ['2023-08-10', 'Atom', 3.0],\n",
              " ['2023-08-10', 'Huawei Browser', 3.0],\n",
              " ['2023-08-10', 'YandexBrowserCorp', 3.0],\n",
              " ['2023-08-11', 'Android Browser', 3.0],\n",
              " ['2023-08-11', 'Samsung Internet', 3.0],\n",
              " ['2023-08-12', 'Яндекс Старт: мобильное приложение', 3.0],\n",
              " ['2023-08-12', 'Huawei Browser', 3.0],\n",
              " ['2023-08-12', 'Яндекс с Алисой: мобильное приложение', 3.0],\n",
              " ['2023-08-13', 'Samsung Internet', 3.0],\n",
              " ['2023-08-13', 'MIUI', 3.0],\n",
              " ['2023-08-13', 'Atom', 3.0],\n",
              " ['2023-08-15', 'Android Browser', 3.0],\n",
              " ['2023-08-15', 'Samsung Internet', 3.0],\n",
              " ['2023-08-15', 'MIUI', 3.0],\n",
              " ['2023-08-18', 'Samsung Internet', 3.0],\n",
              " ['2023-08-18', 'MIUI', 3.0],\n",
              " ['2023-08-19', 'Яндекс Старт: мобильное приложение', 3.0],\n",
              " ['2023-08-20', 'Opera', 3.0],\n",
              " ['2023-08-21', 'Firefox Mobile', 3.0],\n",
              " ['2023-08-21', 'Android Browser', 3.0],\n",
              " ['2023-08-21', 'Яндекс Старт: мобильное приложение', 3.0],\n",
              " ['2023-08-21', 'Huawei Browser', 3.0],\n",
              " ['2023-08-02', 'Opera Mobile', 2.0],\n",
              " ['2023-08-02', 'Firefox Mobile', 2.0],\n",
              " ['2023-08-02', 'Android Browser', 2.0],\n",
              " ['2023-08-02', 'Atom', 2.0],\n",
              " ['2023-08-03', 'MSIE', 2.0],\n",
              " ['2023-08-03', 'UCWEB', 2.0],\n",
              " ['2023-08-03', 'Opera Mobile', 2.0],\n",
              " ['2023-08-04', 'Opera Mobile', 2.0],\n",
              " ['2023-08-04', 'Яндекс с Алисой: мобильное приложение', 2.0],\n",
              " ['2023-08-05', 'MIUI', 2.0],\n",
              " ['2023-08-05', 'Яндекс с Алисой: мобильное приложение', 2.0],\n",
              " ['2023-08-06', 'UCWEB', 2.0],\n",
              " ['2023-08-06', 'Opera Mobile', 2.0],\n",
              " ['2023-08-06', 'MIUI', 2.0],\n",
              " ['2023-08-07', 'MIUI', 2.0],\n",
              " ['2023-08-08', 'MIUI', 2.0],\n",
              " ['2023-08-08', 'Яндекс с Алисой: мобильное приложение', 2.0],\n",
              " ['2023-08-08', 'YandexBrowserCorp', 2.0],\n",
              " ['2023-08-09', 'Android Browser', 2.0],\n",
              " ['2023-08-09', 'Google: мобильное приложение', 2.0],\n",
              " ['2023-08-10', 'Opera Mobile', 2.0],\n",
              " ['2023-08-10', 'Firefox Mobile', 2.0],\n",
              " ['2023-08-11', 'MIUI', 2.0],\n",
              " ['2023-08-12', 'MIUI', 2.0],\n",
              " ['2023-08-13', 'Яндекс Старт: мобильное приложение', 2.0],\n",
              " ['2023-08-14', 'Opera', 2.0],\n",
              " ['2023-08-14', 'Android Browser', 2.0],\n",
              " ['2023-08-14', 'Google: мобильное приложение', 2.0],\n",
              " ['2023-08-14', 'MIUI', 2.0],\n",
              " ['2023-08-14', 'Huawei Browser', 2.0],\n",
              " ['2023-08-15', 'Opera Mobile', 2.0],\n",
              " ['2023-08-16', 'Firefox Mobile', 2.0],\n",
              " ['2023-08-16', 'Android Browser', 2.0],\n",
              " ['2023-08-16', 'Яндекс Старт: мобильное приложение', 2.0],\n",
              " ['2023-08-18', 'Android Browser', 2.0],\n",
              " ['2023-08-18', 'Google: мобильное приложение', 2.0],\n",
              " ['2023-08-19', 'MIUI', 2.0],\n",
              " ['2023-08-21', 'Samsung Internet', 2.0],\n",
              " ['2023-08-01', 'Opera Mobile', 1.0],\n",
              " ['2023-08-01', 'Firefox Mobile', 1.0],\n",
              " ['2023-08-01', 'Android Browser', 1.0],\n",
              " ['2023-08-01', 'Samsung Internet', 1.0],\n",
              " ['2023-08-01', 'Huawei Browser', 1.0],\n",
              " ['2023-08-02', 'WebKit, другие', 1.0],\n",
              " ['2023-08-02', 'Google: мобильное приложение', 1.0],\n",
              " ['2023-08-02', 'Meizu Browser', 1.0],\n",
              " ['2023-08-03', 'Firefox Mobile', 1.0],\n",
              " ['2023-08-03', 'Google: мобильное приложение', 1.0],\n",
              " ['2023-08-03', 'Яндекс с Алисой: мобильное приложение', 1.0],\n",
              " ['2023-08-04', 'MSIE', 1.0],\n",
              " ['2023-08-04', 'UCWEB', 1.0],\n",
              " ['2023-08-04', 'Firefox Mobile', 1.0],\n",
              " ['2023-08-04', 'Яндекс.Браузер lite', 1.0],\n",
              " ['2023-08-04', 'Atom', 1.0],\n",
              " ['2023-08-05', 'Opera Mobile', 1.0],\n",
              " ['2023-08-06', 'Firefox Mobile', 1.0],\n",
              " ['2023-08-06', 'Google: мобильное приложение', 1.0],\n",
              " ['2023-08-06', 'HeadlessChrome', 1.0],\n",
              " ['2023-08-07', 'Google: мобильное приложение', 1.0],\n",
              " ['2023-08-07', 'Samsung Internet', 1.0],\n",
              " ['2023-08-07', 'Яндекс.Браузер lite', 1.0],\n",
              " ['2023-08-07', 'Opera Touch', 1.0],\n",
              " ['2023-08-07', 'Huawei Browser', 1.0],\n",
              " ['2023-08-08', None, 1.0],\n",
              " ['2023-08-08', 'Opera Mobile', 1.0],\n",
              " ['2023-08-08', 'WeChat', 1.0],\n",
              " ['2023-08-08', 'Meizu Browser', 1.0],\n",
              " ['2023-08-09', 'Opera Mini', 1.0],\n",
              " ['2023-08-09', 'Puffin', 1.0],\n",
              " ['2023-08-09', 'Vivaldi', 1.0],\n",
              " ['2023-08-09', 'Meizu Browser', 1.0],\n",
              " ['2023-08-09', 'Atom', 1.0],\n",
              " ['2023-08-09', 'Huawei Browser', 1.0],\n",
              " ['2023-08-10', 'Google: мобильное приложение', 1.0],\n",
              " ['2023-08-10', 'MIUI', 1.0],\n",
              " ['2023-08-11', 'MSIE', 1.0],\n",
              " ['2023-08-11', 'Opera Mobile', 1.0],\n",
              " ['2023-08-12', 'Opera Mobile', 1.0],\n",
              " ['2023-08-12', 'Android Browser', 1.0],\n",
              " ['2023-08-12', 'Atom', 1.0],\n",
              " ['2023-08-13', 'UCWEB', 1.0],\n",
              " ['2023-08-13', 'Android Browser', 1.0],\n",
              " ['2023-08-13', 'Google: мобильное приложение', 1.0],\n",
              " ['2023-08-13', 'Waterfox', 1.0],\n",
              " ['2023-08-14', 'UCWEB', 1.0],\n",
              " ['2023-08-14', 'Opera Mobile', 1.0],\n",
              " ['2023-08-14', 'Яндекс.Браузер lite', 1.0],\n",
              " ['2023-08-14', 'Atom', 1.0],\n",
              " ['2023-08-14', 'YandexBrowserCorp', 1.0],\n",
              " ['2023-08-15', 'UCWEB', 1.0],\n",
              " ['2023-08-15', 'Firefox Mobile', 1.0],\n",
              " ['2023-08-15', 'Google: мобильное приложение', 1.0],\n",
              " ['2023-08-15', 'Huawei Browser', 1.0],\n",
              " ['2023-08-16', 'WebKit, другие', 1.0],\n",
              " ['2023-08-16', 'MIUI', 1.0],\n",
              " ['2023-08-16', 'Atom', 1.0],\n",
              " ['2023-08-16', 'YandexBrowserCorp', 1.0],\n",
              " ['2023-08-17', 'Opera', 1.0],\n",
              " ['2023-08-17', 'UCWEB', 1.0],\n",
              " ['2023-08-17', 'WebKit, другие', 1.0],\n",
              " ['2023-08-17', 'Opera Mobile', 1.0],\n",
              " ['2023-08-17', 'Яндекс Старт: мобильное приложение', 1.0],\n",
              " ['2023-08-17', 'MIUI', 1.0],\n",
              " ['2023-08-17', 'Яндекс с Алисой: мобильное приложение', 1.0],\n",
              " ['2023-08-17', 'YandexBrowserCorp', 1.0],\n",
              " ['2023-08-18', 'Opera Mobile', 1.0],\n",
              " ['2023-08-18', 'Huawei Browser', 1.0],\n",
              " ['2023-08-18', 'YandexBrowserCorp', 1.0],\n",
              " ['2023-08-19', 'Opera Mobile', 1.0],\n",
              " ['2023-08-19', 'Firefox Mobile', 1.0],\n",
              " ['2023-08-19', 'Android Browser', 1.0],\n",
              " ['2023-08-19', 'Google: мобильное приложение', 1.0],\n",
              " ['2023-08-19', 'Huawei Browser', 1.0],\n",
              " ['2023-08-19', 'Яндекс с Алисой: мобильное приложение', 1.0],\n",
              " ['2023-08-20', 'UCWEB', 1.0],\n",
              " ['2023-08-20', 'WebKit, другие', 1.0],\n",
              " ['2023-08-20', 'Android Browser', 1.0],\n",
              " ['2023-08-20', 'Яндекс с Алисой: мобильное приложение', 1.0],\n",
              " ['2023-08-21', 'UCWEB', 1.0],\n",
              " ['2023-08-21', 'Google: мобильное приложение', 1.0],\n",
              " ['2023-08-21', 'Яндекс с Алисой: мобильное приложение', 1.0]]"
            ]
          },
          "execution_count": 72,
          "metadata": {},
          "output_type": "execute_result"
        }
      ],
      "source": [
        "m.browsers()\n",
        "m.reformat_api_report()\n",
        "m.report"
      ]
    },
    {
      "cell_type": "code",
      "execution_count": null,
      "metadata": {
        "id": "iXPBn_ZYZSaD"
      },
      "outputs": [],
      "source": []
    },
    {
      "cell_type": "code",
      "execution_count": null,
      "metadata": {
        "id": "jCpThXTlZSaD",
        "outputId": "f7c0b487-0fc3-477c-f18e-aef3aac756de"
      },
      "outputs": [
        {
          "name": "stdout",
          "output_type": "stream",
          "text": [
            "0\n",
            "1\n",
            "2\n",
            "3\n",
            "4\n"
          ]
        }
      ],
      "source": [
        "i = 0\n",
        "\n",
        "while i < 5:\n",
        "    print(i)\n",
        "\n",
        "    i += 1"
      ]
    },
    {
      "cell_type": "code",
      "execution_count": null,
      "metadata": {
        "id": "JRduc80vZSaD"
      },
      "outputs": [],
      "source": [
        "while True:\n",
        "    # пока внутри него вручную не сработает какой-нибудь break"
      ]
    },
    {
      "cell_type": "code",
      "execution_count": null,
      "metadata": {
        "id": "oqe63FnDZSaD"
      },
      "outputs": [],
      "source": []
    },
    {
      "cell_type": "code",
      "execution_count": null,
      "metadata": {
        "id": "otoyGRdqZSaE"
      },
      "outputs": [],
      "source": []
    }
  ],
  "metadata": {
    "kernelspec": {
      "display_name": "Python 3",
      "language": "python",
      "name": "python3"
    },
    "language_info": {
      "codemirror_mode": {
        "name": "ipython",
        "version": 3
      },
      "file_extension": ".py",
      "mimetype": "text/x-python",
      "name": "python",
      "nbconvert_exporter": "python",
      "pygments_lexer": "ipython3",
      "version": "3.8.5"
    },
    "colab": {
      "provenance": [],
      "include_colab_link": true
    }
  },
  "nbformat": 4,
  "nbformat_minor": 0
}