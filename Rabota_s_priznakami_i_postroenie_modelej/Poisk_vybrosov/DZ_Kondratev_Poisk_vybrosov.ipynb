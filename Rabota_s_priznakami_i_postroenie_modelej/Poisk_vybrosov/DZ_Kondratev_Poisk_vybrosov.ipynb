{
  "nbformat": 4,
  "nbformat_minor": 0,
  "metadata": {
    "colab": {
      "provenance": []
    },
    "kernelspec": {
      "name": "python3",
      "display_name": "Python 3"
    },
    "language_info": {
      "name": "python"
    }
  },
  "cells": [
    {
      "cell_type": "markdown",
      "source": [
        "# Домашнее задание к занятию «Поиск выбросов и генерация новых признаков»\n",
        "\n",
        "**Преподаватель:** Наталья Баданина, Юлия Пономарева\n",
        "\n",
        "**Задание**\n",
        "\n",
        "**Цель:**\n",
        "\n",
        "Изучить применение методов по поиску выбросов в данных, попрактиковаться в обработке экстремальных значений.\n",
        "\n",
        "**Описание задания:**\n",
        "\n",
        "В домашнем задании нужно решить задачу классификации типа стекол. Данные для обучения моделей можно [скачать](https://www.kaggle.com/uciml/glass) с сайта. Целевая переменная – тип стекла «Type». Остальные признаки описывают химические элементы в составе материала. Датасет нужно исследовать на наличие выбросов, провести EDA.\n",
        "\n",
        "**Этапы работы:**\n",
        "\n",
        "\n",
        "\n",
        "1. **Получение данных и загрузка в рабочую среду**:\n",
        "   - Получите данные и загрузите их в рабочую среду, например, Jupyter Notebook или Google Colab.\n",
        "\n",
        "2. **Проведение первичного анализа**:\n",
        "\n",
        "   а) Проверьте количество записей для каждого класса и сделайте вывод.\n",
        "   \n",
        "3. **Разделение выборки на обучающее и тестовое подмножество**:\n",
        "   - Разделите данные на обучающее и тестовое подмножества в соотношении 80% на обучающее и 20% на тестовое.\n",
        "\n",
        "4. **Обучение модели дерева решений RandomForestClassifier**:\n",
        "   - Обучите модель дерева решений RandomForestClassifier на обучающем наборе данных.\n",
        "\n",
        "5. **Оценка точности модели**:\n",
        "   - Предскажите тип стекла для тестового множества и сравните с истинным значением. Рассчитайте точность предсказания модели.\n",
        "\n",
        "6. **Обработка выбросов в данных**:\n",
        "\n",
        "   а) Визуализируйте распределение значений для каждой переменной с помощью функций sns.boxplot, sns.distplot. Определите, есть ли признаки с нормальным распределением.\n",
        "\n",
        "   b) Исследуйте признаки на наличие выбросов несколькими способами.\n",
        "\n",
        "   c) Удалите выбросы из данных и посчитайте процент удаленных записей от общего числа записей для каждого класса.\n",
        "\n",
        "7. **Повторное обучение модели и оценка точности после обработки выбросов**:\n",
        "   - Повторно обучите модель RandomForestClassifier на обучающем наборе после удаления выбросов.\n",
        "   - Оцените точность новой модели на тестовом наборе данных.\n",
        "\n",
        "8. **Сформулировать выводы по проделанной работе**:\n",
        "\n",
        "   а) Опишите преобразования, проведенные с данными.\n",
        "\n",
        "   b) Сравните точность двух моделей: до и после обработки выбросов.\n",
        "\n",
        "   c) Выразите свое мнение о необходимости исследования данных на выбросы, обсудите плюсы и минусы такого подхода.\n"
      ],
      "metadata": {
        "id": "TTCf8hUNLowl"
      }
    },
    {
      "cell_type": "markdown",
      "source": [
        "### Этап 1: Получение данных и загрузка в рабочую среду"
      ],
      "metadata": {
        "id": "I0L1t82TQqjb"
      }
    },
    {
      "cell_type": "code",
      "source": [
        "import pandas as pd\n",
        "\n",
        "url = \"https://raw.githubusercontent.com/stefkong1982/netology.ru/Master/Rabota_s_priznakami_i_postroenie_modelej/Poisk_vybrosov/glass.csv\"\n",
        "df = pd.read_csv(url)\n",
        "\n",
        "print(df.head())\n",
        "print(df.info())\n",
        "print(df.describe())"
      ],
      "metadata": {
        "colab": {
          "base_uri": "https://localhost:8080/"
        },
        "id": "H9ls6BtgVest",
        "outputId": "60d75e3d-79e8-4eb3-d298-428649b802ad"
      },
      "execution_count": 27,
      "outputs": [
        {
          "output_type": "stream",
          "name": "stdout",
          "text": [
            "        RI     Na    Mg    Al     Si     K    Ca   Ba   Fe  Type\n",
            "0  1.52101  13.64  4.49  1.10  71.78  0.06  8.75  0.0  0.0     1\n",
            "1  1.51761  13.89  3.60  1.36  72.73  0.48  7.83  0.0  0.0     1\n",
            "2  1.51618  13.53  3.55  1.54  72.99  0.39  7.78  0.0  0.0     1\n",
            "3  1.51766  13.21  3.69  1.29  72.61  0.57  8.22  0.0  0.0     1\n",
            "4  1.51742  13.27  3.62  1.24  73.08  0.55  8.07  0.0  0.0     1\n",
            "<class 'pandas.core.frame.DataFrame'>\n",
            "RangeIndex: 214 entries, 0 to 213\n",
            "Data columns (total 10 columns):\n",
            " #   Column  Non-Null Count  Dtype  \n",
            "---  ------  --------------  -----  \n",
            " 0   RI      214 non-null    float64\n",
            " 1   Na      214 non-null    float64\n",
            " 2   Mg      214 non-null    float64\n",
            " 3   Al      214 non-null    float64\n",
            " 4   Si      214 non-null    float64\n",
            " 5   K       214 non-null    float64\n",
            " 6   Ca      214 non-null    float64\n",
            " 7   Ba      214 non-null    float64\n",
            " 8   Fe      214 non-null    float64\n",
            " 9   Type    214 non-null    int64  \n",
            "dtypes: float64(9), int64(1)\n",
            "memory usage: 16.8 KB\n",
            "None\n",
            "               RI          Na          Mg          Al          Si           K  \\\n",
            "count  214.000000  214.000000  214.000000  214.000000  214.000000  214.000000   \n",
            "mean     1.518365   13.407850    2.684533    1.444907   72.650935    0.497056   \n",
            "std      0.003037    0.816604    1.442408    0.499270    0.774546    0.652192   \n",
            "min      1.511150   10.730000    0.000000    0.290000   69.810000    0.000000   \n",
            "25%      1.516522   12.907500    2.115000    1.190000   72.280000    0.122500   \n",
            "50%      1.517680   13.300000    3.480000    1.360000   72.790000    0.555000   \n",
            "75%      1.519157   13.825000    3.600000    1.630000   73.087500    0.610000   \n",
            "max      1.533930   17.380000    4.490000    3.500000   75.410000    6.210000   \n",
            "\n",
            "               Ca          Ba          Fe        Type  \n",
            "count  214.000000  214.000000  214.000000  214.000000  \n",
            "mean     8.956963    0.175047    0.057009    2.780374  \n",
            "std      1.423153    0.497219    0.097439    2.103739  \n",
            "min      5.430000    0.000000    0.000000    1.000000  \n",
            "25%      8.240000    0.000000    0.000000    1.000000  \n",
            "50%      8.600000    0.000000    0.000000    2.000000  \n",
            "75%      9.172500    0.000000    0.100000    3.000000  \n",
            "max     16.190000    3.150000    0.510000    7.000000  \n"
          ]
        }
      ]
    },
    {
      "cell_type": "markdown",
      "source": [
        "**Атрибуты:**\n",
        "1. **RI** (показатель преломления) - числовой признак, который является непрерывным значением.\n",
        "2. **Na** (натрий) - числовой признак, представленный весовым процентом в соответствующем оксиде.\n",
        "3. **Mg** (магний) - числовой признак, также в весовом проценте.\n",
        "4. **Al** (алюминий) - числовой признак, представленный весовым процентом.\n",
        "5. **Si** (кремний) - числовой признак, представленный весовым процентом.\n",
        "6. **K** (калий) - числовой признак, процент содержания калия.\n",
        "7. **Ca** (кальций) - числовой признак, процент содержания кальция.\n",
        "8. **Ba** (барий) - числовой признак, процент содержания бария.\n",
        "9. **Fe** (железо) - числовой признак, процент содержания железа.\n",
        "\n",
        "**Целевая переменная:**\n",
        "10. **Type** (тип стекла) - категориальный признак, определяющий тип стекла. У него 7 уникальных значений:\n",
        "\n",
        "\n",
        "1. **building_windows_float_processed** - стекло для строительных окон с обработкой плавления. Вероятно, это стекло используется в оконных конструкциях зданий.\n",
        "2. **building_windows_non_float_processed** - стекло для строительных окон без обработки плавления. Этот тип стекла, возможно, используется в оконных рамах другого типа.\n",
        "3. **vehicle_windows_float_processed** - стекло для автомобильных окон с обработкой плавления. Вероятно, это стекло устанавливается в автомобилях.\n",
        "4. **vehicle_windows_non_float_processed** - стекло для автомобильных окон без обработки плавления (отсутствует в этой базе данных).\n",
        "5. **containers** - стекло для контейнеров. Этот тип стекла, скорее всего, используется для производства стеклянной тары.\n",
        "6. **tableware** - стекло для посуды. Вероятно, это стекло используется для изготовления посуды.\n",
        "7. **headlamps** - стекло для фар. Этот тип стекла, вероятно, используется для изготовления фар автомобилей."
      ],
      "metadata": {
        "id": "TaFoW6HnYml1"
      }
    },
    {
      "cell_type": "markdown",
      "source": [
        "Анализируя статистики, можно сделать следующие выводы:\n",
        "- Для атрибутов RI, Na, Mg, Al, Si значения среднего и медианы близки друг к другу, что показывает отсутствие существенных выбросов.\n",
        "- Для атрибутов с более высоким стандартным отклонением (например, Ca), можно дополнительно оценить данные на предмет выбросов.\n",
        "- В целом, распределение данных по атрибутам весьма стабильное, и отклонения от среднего значения не являются значительными."
      ],
      "metadata": {
        "id": "x9gNW9D-a-1o"
      }
    },
    {
      "cell_type": "markdown",
      "source": [
        "### Этап 2: Проведение первичного анализа"
      ],
      "metadata": {
        "id": "VJl1Dc2sQ-1D"
      }
    },
    {
      "cell_type": "code",
      "source": [
        "data = df"
      ],
      "metadata": {
        "id": "IJ2t5BL4bSmd"
      },
      "execution_count": 28,
      "outputs": []
    },
    {
      "cell_type": "code",
      "source": [
        "data"
      ],
      "metadata": {
        "colab": {
          "base_uri": "https://localhost:8080/",
          "height": 423
        },
        "id": "ulqdASMNnSPG",
        "outputId": "5e6727aa-d219-4184-ff35-f0ff15b70018"
      },
      "execution_count": 29,
      "outputs": [
        {
          "output_type": "execute_result",
          "data": {
            "text/plain": [
              "          RI     Na    Mg    Al     Si     K    Ca    Ba   Fe  Type\n",
              "0    1.52101  13.64  4.49  1.10  71.78  0.06  8.75  0.00  0.0     1\n",
              "1    1.51761  13.89  3.60  1.36  72.73  0.48  7.83  0.00  0.0     1\n",
              "2    1.51618  13.53  3.55  1.54  72.99  0.39  7.78  0.00  0.0     1\n",
              "3    1.51766  13.21  3.69  1.29  72.61  0.57  8.22  0.00  0.0     1\n",
              "4    1.51742  13.27  3.62  1.24  73.08  0.55  8.07  0.00  0.0     1\n",
              "..       ...    ...   ...   ...    ...   ...   ...   ...  ...   ...\n",
              "209  1.51623  14.14  0.00  2.88  72.61  0.08  9.18  1.06  0.0     7\n",
              "210  1.51685  14.92  0.00  1.99  73.06  0.00  8.40  1.59  0.0     7\n",
              "211  1.52065  14.36  0.00  2.02  73.42  0.00  8.44  1.64  0.0     7\n",
              "212  1.51651  14.38  0.00  1.94  73.61  0.00  8.48  1.57  0.0     7\n",
              "213  1.51711  14.23  0.00  2.08  73.36  0.00  8.62  1.67  0.0     7\n",
              "\n",
              "[214 rows x 10 columns]"
            ],
            "text/html": [
              "\n",
              "  <div id=\"df-51dbeec3-3a39-4937-93cc-1f7b3133264a\" class=\"colab-df-container\">\n",
              "    <div>\n",
              "<style scoped>\n",
              "    .dataframe tbody tr th:only-of-type {\n",
              "        vertical-align: middle;\n",
              "    }\n",
              "\n",
              "    .dataframe tbody tr th {\n",
              "        vertical-align: top;\n",
              "    }\n",
              "\n",
              "    .dataframe thead th {\n",
              "        text-align: right;\n",
              "    }\n",
              "</style>\n",
              "<table border=\"1\" class=\"dataframe\">\n",
              "  <thead>\n",
              "    <tr style=\"text-align: right;\">\n",
              "      <th></th>\n",
              "      <th>RI</th>\n",
              "      <th>Na</th>\n",
              "      <th>Mg</th>\n",
              "      <th>Al</th>\n",
              "      <th>Si</th>\n",
              "      <th>K</th>\n",
              "      <th>Ca</th>\n",
              "      <th>Ba</th>\n",
              "      <th>Fe</th>\n",
              "      <th>Type</th>\n",
              "    </tr>\n",
              "  </thead>\n",
              "  <tbody>\n",
              "    <tr>\n",
              "      <th>0</th>\n",
              "      <td>1.52101</td>\n",
              "      <td>13.64</td>\n",
              "      <td>4.49</td>\n",
              "      <td>1.10</td>\n",
              "      <td>71.78</td>\n",
              "      <td>0.06</td>\n",
              "      <td>8.75</td>\n",
              "      <td>0.00</td>\n",
              "      <td>0.0</td>\n",
              "      <td>1</td>\n",
              "    </tr>\n",
              "    <tr>\n",
              "      <th>1</th>\n",
              "      <td>1.51761</td>\n",
              "      <td>13.89</td>\n",
              "      <td>3.60</td>\n",
              "      <td>1.36</td>\n",
              "      <td>72.73</td>\n",
              "      <td>0.48</td>\n",
              "      <td>7.83</td>\n",
              "      <td>0.00</td>\n",
              "      <td>0.0</td>\n",
              "      <td>1</td>\n",
              "    </tr>\n",
              "    <tr>\n",
              "      <th>2</th>\n",
              "      <td>1.51618</td>\n",
              "      <td>13.53</td>\n",
              "      <td>3.55</td>\n",
              "      <td>1.54</td>\n",
              "      <td>72.99</td>\n",
              "      <td>0.39</td>\n",
              "      <td>7.78</td>\n",
              "      <td>0.00</td>\n",
              "      <td>0.0</td>\n",
              "      <td>1</td>\n",
              "    </tr>\n",
              "    <tr>\n",
              "      <th>3</th>\n",
              "      <td>1.51766</td>\n",
              "      <td>13.21</td>\n",
              "      <td>3.69</td>\n",
              "      <td>1.29</td>\n",
              "      <td>72.61</td>\n",
              "      <td>0.57</td>\n",
              "      <td>8.22</td>\n",
              "      <td>0.00</td>\n",
              "      <td>0.0</td>\n",
              "      <td>1</td>\n",
              "    </tr>\n",
              "    <tr>\n",
              "      <th>4</th>\n",
              "      <td>1.51742</td>\n",
              "      <td>13.27</td>\n",
              "      <td>3.62</td>\n",
              "      <td>1.24</td>\n",
              "      <td>73.08</td>\n",
              "      <td>0.55</td>\n",
              "      <td>8.07</td>\n",
              "      <td>0.00</td>\n",
              "      <td>0.0</td>\n",
              "      <td>1</td>\n",
              "    </tr>\n",
              "    <tr>\n",
              "      <th>...</th>\n",
              "      <td>...</td>\n",
              "      <td>...</td>\n",
              "      <td>...</td>\n",
              "      <td>...</td>\n",
              "      <td>...</td>\n",
              "      <td>...</td>\n",
              "      <td>...</td>\n",
              "      <td>...</td>\n",
              "      <td>...</td>\n",
              "      <td>...</td>\n",
              "    </tr>\n",
              "    <tr>\n",
              "      <th>209</th>\n",
              "      <td>1.51623</td>\n",
              "      <td>14.14</td>\n",
              "      <td>0.00</td>\n",
              "      <td>2.88</td>\n",
              "      <td>72.61</td>\n",
              "      <td>0.08</td>\n",
              "      <td>9.18</td>\n",
              "      <td>1.06</td>\n",
              "      <td>0.0</td>\n",
              "      <td>7</td>\n",
              "    </tr>\n",
              "    <tr>\n",
              "      <th>210</th>\n",
              "      <td>1.51685</td>\n",
              "      <td>14.92</td>\n",
              "      <td>0.00</td>\n",
              "      <td>1.99</td>\n",
              "      <td>73.06</td>\n",
              "      <td>0.00</td>\n",
              "      <td>8.40</td>\n",
              "      <td>1.59</td>\n",
              "      <td>0.0</td>\n",
              "      <td>7</td>\n",
              "    </tr>\n",
              "    <tr>\n",
              "      <th>211</th>\n",
              "      <td>1.52065</td>\n",
              "      <td>14.36</td>\n",
              "      <td>0.00</td>\n",
              "      <td>2.02</td>\n",
              "      <td>73.42</td>\n",
              "      <td>0.00</td>\n",
              "      <td>8.44</td>\n",
              "      <td>1.64</td>\n",
              "      <td>0.0</td>\n",
              "      <td>7</td>\n",
              "    </tr>\n",
              "    <tr>\n",
              "      <th>212</th>\n",
              "      <td>1.51651</td>\n",
              "      <td>14.38</td>\n",
              "      <td>0.00</td>\n",
              "      <td>1.94</td>\n",
              "      <td>73.61</td>\n",
              "      <td>0.00</td>\n",
              "      <td>8.48</td>\n",
              "      <td>1.57</td>\n",
              "      <td>0.0</td>\n",
              "      <td>7</td>\n",
              "    </tr>\n",
              "    <tr>\n",
              "      <th>213</th>\n",
              "      <td>1.51711</td>\n",
              "      <td>14.23</td>\n",
              "      <td>0.00</td>\n",
              "      <td>2.08</td>\n",
              "      <td>73.36</td>\n",
              "      <td>0.00</td>\n",
              "      <td>8.62</td>\n",
              "      <td>1.67</td>\n",
              "      <td>0.0</td>\n",
              "      <td>7</td>\n",
              "    </tr>\n",
              "  </tbody>\n",
              "</table>\n",
              "<p>214 rows × 10 columns</p>\n",
              "</div>\n",
              "    <div class=\"colab-df-buttons\">\n",
              "\n",
              "  <div class=\"colab-df-container\">\n",
              "    <button class=\"colab-df-convert\" onclick=\"convertToInteractive('df-51dbeec3-3a39-4937-93cc-1f7b3133264a')\"\n",
              "            title=\"Convert this dataframe to an interactive table.\"\n",
              "            style=\"display:none;\">\n",
              "\n",
              "  <svg xmlns=\"http://www.w3.org/2000/svg\" height=\"24px\" viewBox=\"0 -960 960 960\">\n",
              "    <path d=\"M120-120v-720h720v720H120Zm60-500h600v-160H180v160Zm220 220h160v-160H400v160Zm0 220h160v-160H400v160ZM180-400h160v-160H180v160Zm440 0h160v-160H620v160ZM180-180h160v-160H180v160Zm440 0h160v-160H620v160Z\"/>\n",
              "  </svg>\n",
              "    </button>\n",
              "\n",
              "  <style>\n",
              "    .colab-df-container {\n",
              "      display:flex;\n",
              "      gap: 12px;\n",
              "    }\n",
              "\n",
              "    .colab-df-convert {\n",
              "      background-color: #E8F0FE;\n",
              "      border: none;\n",
              "      border-radius: 50%;\n",
              "      cursor: pointer;\n",
              "      display: none;\n",
              "      fill: #1967D2;\n",
              "      height: 32px;\n",
              "      padding: 0 0 0 0;\n",
              "      width: 32px;\n",
              "    }\n",
              "\n",
              "    .colab-df-convert:hover {\n",
              "      background-color: #E2EBFA;\n",
              "      box-shadow: 0px 1px 2px rgba(60, 64, 67, 0.3), 0px 1px 3px 1px rgba(60, 64, 67, 0.15);\n",
              "      fill: #174EA6;\n",
              "    }\n",
              "\n",
              "    .colab-df-buttons div {\n",
              "      margin-bottom: 4px;\n",
              "    }\n",
              "\n",
              "    [theme=dark] .colab-df-convert {\n",
              "      background-color: #3B4455;\n",
              "      fill: #D2E3FC;\n",
              "    }\n",
              "\n",
              "    [theme=dark] .colab-df-convert:hover {\n",
              "      background-color: #434B5C;\n",
              "      box-shadow: 0px 1px 3px 1px rgba(0, 0, 0, 0.15);\n",
              "      filter: drop-shadow(0px 1px 2px rgba(0, 0, 0, 0.3));\n",
              "      fill: #FFFFFF;\n",
              "    }\n",
              "  </style>\n",
              "\n",
              "    <script>\n",
              "      const buttonEl =\n",
              "        document.querySelector('#df-51dbeec3-3a39-4937-93cc-1f7b3133264a button.colab-df-convert');\n",
              "      buttonEl.style.display =\n",
              "        google.colab.kernel.accessAllowed ? 'block' : 'none';\n",
              "\n",
              "      async function convertToInteractive(key) {\n",
              "        const element = document.querySelector('#df-51dbeec3-3a39-4937-93cc-1f7b3133264a');\n",
              "        const dataTable =\n",
              "          await google.colab.kernel.invokeFunction('convertToInteractive',\n",
              "                                                    [key], {});\n",
              "        if (!dataTable) return;\n",
              "\n",
              "        const docLinkHtml = 'Like what you see? Visit the ' +\n",
              "          '<a target=\"_blank\" href=https://colab.research.google.com/notebooks/data_table.ipynb>data table notebook</a>'\n",
              "          + ' to learn more about interactive tables.';\n",
              "        element.innerHTML = '';\n",
              "        dataTable['output_type'] = 'display_data';\n",
              "        await google.colab.output.renderOutput(dataTable, element);\n",
              "        const docLink = document.createElement('div');\n",
              "        docLink.innerHTML = docLinkHtml;\n",
              "        element.appendChild(docLink);\n",
              "      }\n",
              "    </script>\n",
              "  </div>\n",
              "\n",
              "\n",
              "<div id=\"df-f226f12a-98ce-4231-a224-9c2879428158\">\n",
              "  <button class=\"colab-df-quickchart\" onclick=\"quickchart('df-f226f12a-98ce-4231-a224-9c2879428158')\"\n",
              "            title=\"Suggest charts\"\n",
              "            style=\"display:none;\">\n",
              "\n",
              "<svg xmlns=\"http://www.w3.org/2000/svg\" height=\"24px\"viewBox=\"0 0 24 24\"\n",
              "     width=\"24px\">\n",
              "    <g>\n",
              "        <path d=\"M19 3H5c-1.1 0-2 .9-2 2v14c0 1.1.9 2 2 2h14c1.1 0 2-.9 2-2V5c0-1.1-.9-2-2-2zM9 17H7v-7h2v7zm4 0h-2V7h2v10zm4 0h-2v-4h2v4z\"/>\n",
              "    </g>\n",
              "</svg>\n",
              "  </button>\n",
              "\n",
              "<style>\n",
              "  .colab-df-quickchart {\n",
              "      --bg-color: #E8F0FE;\n",
              "      --fill-color: #1967D2;\n",
              "      --hover-bg-color: #E2EBFA;\n",
              "      --hover-fill-color: #174EA6;\n",
              "      --disabled-fill-color: #AAA;\n",
              "      --disabled-bg-color: #DDD;\n",
              "  }\n",
              "\n",
              "  [theme=dark] .colab-df-quickchart {\n",
              "      --bg-color: #3B4455;\n",
              "      --fill-color: #D2E3FC;\n",
              "      --hover-bg-color: #434B5C;\n",
              "      --hover-fill-color: #FFFFFF;\n",
              "      --disabled-bg-color: #3B4455;\n",
              "      --disabled-fill-color: #666;\n",
              "  }\n",
              "\n",
              "  .colab-df-quickchart {\n",
              "    background-color: var(--bg-color);\n",
              "    border: none;\n",
              "    border-radius: 50%;\n",
              "    cursor: pointer;\n",
              "    display: none;\n",
              "    fill: var(--fill-color);\n",
              "    height: 32px;\n",
              "    padding: 0;\n",
              "    width: 32px;\n",
              "  }\n",
              "\n",
              "  .colab-df-quickchart:hover {\n",
              "    background-color: var(--hover-bg-color);\n",
              "    box-shadow: 0 1px 2px rgba(60, 64, 67, 0.3), 0 1px 3px 1px rgba(60, 64, 67, 0.15);\n",
              "    fill: var(--button-hover-fill-color);\n",
              "  }\n",
              "\n",
              "  .colab-df-quickchart-complete:disabled,\n",
              "  .colab-df-quickchart-complete:disabled:hover {\n",
              "    background-color: var(--disabled-bg-color);\n",
              "    fill: var(--disabled-fill-color);\n",
              "    box-shadow: none;\n",
              "  }\n",
              "\n",
              "  .colab-df-spinner {\n",
              "    border: 2px solid var(--fill-color);\n",
              "    border-color: transparent;\n",
              "    border-bottom-color: var(--fill-color);\n",
              "    animation:\n",
              "      spin 1s steps(1) infinite;\n",
              "  }\n",
              "\n",
              "  @keyframes spin {\n",
              "    0% {\n",
              "      border-color: transparent;\n",
              "      border-bottom-color: var(--fill-color);\n",
              "      border-left-color: var(--fill-color);\n",
              "    }\n",
              "    20% {\n",
              "      border-color: transparent;\n",
              "      border-left-color: var(--fill-color);\n",
              "      border-top-color: var(--fill-color);\n",
              "    }\n",
              "    30% {\n",
              "      border-color: transparent;\n",
              "      border-left-color: var(--fill-color);\n",
              "      border-top-color: var(--fill-color);\n",
              "      border-right-color: var(--fill-color);\n",
              "    }\n",
              "    40% {\n",
              "      border-color: transparent;\n",
              "      border-right-color: var(--fill-color);\n",
              "      border-top-color: var(--fill-color);\n",
              "    }\n",
              "    60% {\n",
              "      border-color: transparent;\n",
              "      border-right-color: var(--fill-color);\n",
              "    }\n",
              "    80% {\n",
              "      border-color: transparent;\n",
              "      border-right-color: var(--fill-color);\n",
              "      border-bottom-color: var(--fill-color);\n",
              "    }\n",
              "    90% {\n",
              "      border-color: transparent;\n",
              "      border-bottom-color: var(--fill-color);\n",
              "    }\n",
              "  }\n",
              "</style>\n",
              "\n",
              "  <script>\n",
              "    async function quickchart(key) {\n",
              "      const quickchartButtonEl =\n",
              "        document.querySelector('#' + key + ' button');\n",
              "      quickchartButtonEl.disabled = true;  // To prevent multiple clicks.\n",
              "      quickchartButtonEl.classList.add('colab-df-spinner');\n",
              "      try {\n",
              "        const charts = await google.colab.kernel.invokeFunction(\n",
              "            'suggestCharts', [key], {});\n",
              "      } catch (error) {\n",
              "        console.error('Error during call to suggestCharts:', error);\n",
              "      }\n",
              "      quickchartButtonEl.classList.remove('colab-df-spinner');\n",
              "      quickchartButtonEl.classList.add('colab-df-quickchart-complete');\n",
              "    }\n",
              "    (() => {\n",
              "      let quickchartButtonEl =\n",
              "        document.querySelector('#df-f226f12a-98ce-4231-a224-9c2879428158 button');\n",
              "      quickchartButtonEl.style.display =\n",
              "        google.colab.kernel.accessAllowed ? 'block' : 'none';\n",
              "    })();\n",
              "  </script>\n",
              "</div>\n",
              "    </div>\n",
              "  </div>\n"
            ],
            "application/vnd.google.colaboratory.intrinsic+json": {
              "type": "dataframe",
              "variable_name": "df",
              "summary": "{\n  \"name\": \"df\",\n  \"rows\": 214,\n  \"fields\": [\n    {\n      \"column\": \"RI\",\n      \"properties\": {\n        \"dtype\": \"number\",\n        \"std\": 0.0030368637393854334,\n        \"min\": 1.51115,\n        \"max\": 1.53393,\n        \"num_unique_values\": 178,\n        \"samples\": [\n          1.51966,\n          1.51808,\n          1.51969\n        ],\n        \"semantic_type\": \"\",\n        \"description\": \"\"\n      }\n    },\n    {\n      \"column\": \"Na\",\n      \"properties\": {\n        \"dtype\": \"number\",\n        \"std\": 0.816603555714983,\n        \"min\": 10.73,\n        \"max\": 17.38,\n        \"num_unique_values\": 142,\n        \"samples\": [\n          14.38,\n          13.02,\n          13.83\n        ],\n        \"semantic_type\": \"\",\n        \"description\": \"\"\n      }\n    },\n    {\n      \"column\": \"Mg\",\n      \"properties\": {\n        \"dtype\": \"number\",\n        \"std\": 1.442407844870442,\n        \"min\": 0.0,\n        \"max\": 4.49,\n        \"num_unique_values\": 94,\n        \"samples\": [\n          3.86,\n          3.47,\n          2.9\n        ],\n        \"semantic_type\": \"\",\n        \"description\": \"\"\n      }\n    },\n    {\n      \"column\": \"Al\",\n      \"properties\": {\n        \"dtype\": \"number\",\n        \"std\": 0.4992696456004845,\n        \"min\": 0.29,\n        \"max\": 3.5,\n        \"num_unique_values\": 118,\n        \"samples\": [\n          1.48,\n          1.65,\n          1.24\n        ],\n        \"semantic_type\": \"\",\n        \"description\": \"\"\n      }\n    },\n    {\n      \"column\": \"Si\",\n      \"properties\": {\n        \"dtype\": \"number\",\n        \"std\": 0.7745457947651124,\n        \"min\": 69.81,\n        \"max\": 75.41,\n        \"num_unique_values\": 133,\n        \"samples\": [\n          72.22,\n          73.06,\n          71.81\n        ],\n        \"semantic_type\": \"\",\n        \"description\": \"\"\n      }\n    },\n    {\n      \"column\": \"K\",\n      \"properties\": {\n        \"dtype\": \"number\",\n        \"std\": 0.65219184555898,\n        \"min\": 0.0,\n        \"max\": 6.21,\n        \"num_unique_values\": 65,\n        \"samples\": [\n          0.47,\n          0.31,\n          0.06\n        ],\n        \"semantic_type\": \"\",\n        \"description\": \"\"\n      }\n    },\n    {\n      \"column\": \"Ca\",\n      \"properties\": {\n        \"dtype\": \"number\",\n        \"std\": 1.423153487281395,\n        \"min\": 5.43,\n        \"max\": 16.19,\n        \"num_unique_values\": 143,\n        \"samples\": [\n          12.5,\n          8.52,\n          11.52\n        ],\n        \"semantic_type\": \"\",\n        \"description\": \"\"\n      }\n    },\n    {\n      \"column\": \"Ba\",\n      \"properties\": {\n        \"dtype\": \"number\",\n        \"std\": 0.49721926059970356,\n        \"min\": 0.0,\n        \"max\": 3.15,\n        \"num_unique_values\": 34,\n        \"samples\": [\n          0.64,\n          0.61,\n          1.55\n        ],\n        \"semantic_type\": \"\",\n        \"description\": \"\"\n      }\n    },\n    {\n      \"column\": \"Fe\",\n      \"properties\": {\n        \"dtype\": \"number\",\n        \"std\": 0.09743870063650084,\n        \"min\": 0.0,\n        \"max\": 0.51,\n        \"num_unique_values\": 32,\n        \"samples\": [\n          0.51,\n          0.03,\n          0.21\n        ],\n        \"semantic_type\": \"\",\n        \"description\": \"\"\n      }\n    },\n    {\n      \"column\": \"Type\",\n      \"properties\": {\n        \"dtype\": \"number\",\n        \"std\": 2,\n        \"min\": 1,\n        \"max\": 7,\n        \"num_unique_values\": 6,\n        \"samples\": [\n          1,\n          2,\n          7\n        ],\n        \"semantic_type\": \"\",\n        \"description\": \"\"\n      }\n    }\n  ]\n}"
            }
          },
          "metadata": {},
          "execution_count": 29
        }
      ]
    },
    {
      "cell_type": "code",
      "source": [
        "# Пропущенные значения в != 'object':\n",
        "for column in data.columns:\n",
        "    if data[column].dtype != 'object':\n",
        "        nan_values = data[column].isnull().sum()  # Подсчет числа пропущенных значений (NaN)\n",
        "        unique_values = data[column].unique()     # Получение уникальных значений в столбце\n",
        "\n",
        "        print(f\"В столбце '{column}' есть {nan_values} пропущенных значений (NaN)\")\n",
        "        print(f\"Уникальные значения в столбце '{column}': {unique_values[:10]}...\\n\")  # Отображает первые 10 уникальных значений для краткости"
      ],
      "metadata": {
        "colab": {
          "base_uri": "https://localhost:8080/"
        },
        "id": "eCNrTERAbTw3",
        "outputId": "ab4c03c0-e000-42dc-c939-656d7f71d64a"
      },
      "execution_count": 30,
      "outputs": [
        {
          "output_type": "stream",
          "name": "stdout",
          "text": [
            "В столбце 'RI' есть 0 пропущенных значений (NaN)\n",
            "Уникальные значения в столбце 'RI': [1.52101 1.51761 1.51618 1.51766 1.51742 1.51596 1.51743 1.51756 1.51918\n",
            " 1.51755]...\n",
            "\n",
            "В столбце 'Na' есть 0 пропущенных значений (NaN)\n",
            "Уникальные значения в столбце 'Na': [13.64 13.89 13.53 13.21 13.27 12.79 13.3  13.15 14.04 13.  ]...\n",
            "\n",
            "В столбце 'Mg' есть 0 пропущенных значений (NaN)\n",
            "Уникальные значения в столбце 'Mg': [4.49 3.6  3.55 3.69 3.62 3.61 3.58 3.46 3.66 3.43]...\n",
            "\n",
            "В столбце 'Al' есть 0 пропущенных значений (NaN)\n",
            "Уникальные значения в столбце 'Al': [1.1  1.36 1.54 1.29 1.24 1.62 1.14 1.05 1.37 1.56]...\n",
            "\n",
            "В столбце 'Si' есть 0 пропущенных значений (NaN)\n",
            "Уникальные значения в столбце 'Si': [71.78 72.73 72.99 72.61 73.08 72.97 73.09 73.24 72.08 73.2 ]...\n",
            "\n",
            "В столбце 'K' есть 0 пропущенных значений (NaN)\n",
            "Уникальные значения в столбце 'K': [0.06 0.48 0.39 0.57 0.55 0.64 0.58 0.56 0.67 0.6 ]...\n",
            "\n",
            "В столбце 'Ca' есть 0 пропущенных значений (NaN)\n",
            "Уникальные значения в столбце 'Ca': [8.75 7.83 7.78 8.22 8.07 8.17 8.24 8.3  8.4  8.09]...\n",
            "\n",
            "В столбце 'Ba' есть 0 пропущенных значений (NaN)\n",
            "Уникальные значения в столбце 'Ba': [0.   0.09 0.11 0.69 0.14 3.15 0.27 0.06 0.15 2.2 ]...\n",
            "\n",
            "В столбце 'Fe' есть 0 пропущенных значений (NaN)\n",
            "Уникальные значения в столбце 'Fe': [0.   0.26 0.11 0.24 0.17 0.07 0.19 0.14 0.22 0.06]...\n",
            "\n",
            "В столбце 'Type' есть 0 пропущенных значений (NaN)\n",
            "Уникальные значения в столбце 'Type': [1 2 3 5 6 7]...\n",
            "\n"
          ]
        }
      ]
    },
    {
      "cell_type": "markdown",
      "source": [
        "Данные соответствуют описанию. 4-класса нет как и сказано в описании."
      ],
      "metadata": {
        "id": "5l_aErmJdqi4"
      }
    },
    {
      "cell_type": "markdown",
      "source": [
        "- 2.1 Проверим количество записей для каждого класса"
      ],
      "metadata": {
        "id": "mrftCAq8S2a5"
      }
    },
    {
      "cell_type": "code",
      "source": [
        "class_counts = data['Type'].value_counts()\n",
        "print(class_counts)"
      ],
      "metadata": {
        "colab": {
          "base_uri": "https://localhost:8080/"
        },
        "id": "Msy6Ovc-b7f-",
        "outputId": "a1ffcab9-adc1-44e0-fabe-6ce75ba2f7c0"
      },
      "execution_count": 31,
      "outputs": [
        {
          "output_type": "stream",
          "name": "stdout",
          "text": [
            "Type\n",
            "2    76\n",
            "1    70\n",
            "7    29\n",
            "3    17\n",
            "5    13\n",
            "6     9\n",
            "Name: count, dtype: int64\n"
          ]
        }
      ]
    },
    {
      "cell_type": "markdown",
      "source": [
        "Исходя из этих результатов, можно увидеть, что в датасете представлены данные для шести различных классов стекла. Классы не распределены равномерно, что может повлиять на работу алгоритмов машинного обучения, особенно если какой-то класс имеет значительно меньшее количество записей, чем другие.\n",
        "\n",
        "Для обеспечения более сбалансированных данных при обучении моделей, иногда требуется воспользоваться методами балансировки классов, такими как увеличение числа записей для менее представленных классов (oversampling) или уменьшение для более представленных (undersampling), либо использование алгоритмов, способных работать с несбалансированными данными. Это важно для получения правильных и устойчивых результатов от моделей машинного обучения."
      ],
      "metadata": {
        "id": "lpyUU-DDdUjU"
      }
    },
    {
      "cell_type": "markdown",
      "source": [
        "Используем `RandomUnderSampler` для уменьшения представленных классов в наших данных:"
      ],
      "metadata": {
        "id": "n2ADoY75lV75"
      }
    },
    {
      "cell_type": "code",
      "source": [
        "from imblearn.under_sampling import RandomUnderSampler\n",
        "\n",
        "# Определение признаков и целевой переменной\n",
        "X = data.drop('Type', axis=1)\n",
        "y = data['Type']\n",
        "\n",
        "# Создание объекта RandomUnderSampler\n",
        "rus = RandomUnderSampler(random_state=42)\n",
        "\n",
        "# Применение RandomUnderSampler к данным\n",
        "X_resampled, y_resampled = rus.fit_resample(X, y)\n",
        "\n",
        "# Проверка количества записей после undersampling\n",
        "print(pd.Series(y_resampled).value_counts())"
      ],
      "metadata": {
        "colab": {
          "base_uri": "https://localhost:8080/"
        },
        "id": "SkzQY1XOeXV8",
        "outputId": "6facd9d1-a1e9-47c9-e44f-35dd0af7a961"
      },
      "execution_count": 32,
      "outputs": [
        {
          "output_type": "stream",
          "name": "stdout",
          "text": [
            "Type\n",
            "1    9\n",
            "2    9\n",
            "3    9\n",
            "5    9\n",
            "6    9\n",
            "7    9\n",
            "Name: count, dtype: int64\n"
          ]
        }
      ]
    },
    {
      "cell_type": "code",
      "source": [
        "print(X_resampled.shape)\n",
        "print(y_resampled.shape)"
      ],
      "metadata": {
        "colab": {
          "base_uri": "https://localhost:8080/"
        },
        "id": "CV7K1taxeuZ9",
        "outputId": "d55bd2c8-55b1-4a5d-f197-72c6599ce203"
      },
      "execution_count": 33,
      "outputs": [
        {
          "output_type": "stream",
          "name": "stdout",
          "text": [
            "(54, 9)\n",
            "(54,)\n"
          ]
        }
      ]
    },
    {
      "cell_type": "markdown",
      "source": [
        "### Этап 3: Разделение выборки на обучающее и тестовое подмножество"
      ],
      "metadata": {
        "id": "mfNSicC4S_N0"
      }
    },
    {
      "cell_type": "code",
      "source": [
        "from sklearn.model_selection import train_test_split"
      ],
      "metadata": {
        "id": "C8cf45SLhzw3"
      },
      "execution_count": 34,
      "outputs": []
    },
    {
      "cell_type": "code",
      "source": [
        "# Разделение на обучающее и тестовое подмножество до undersampling\n",
        "X_train_before, X_test_before, y_train_before, y_test_before = train_test_split(X, y, test_size=0.2, random_state=42)"
      ],
      "metadata": {
        "id": "JgJ3sgCFhr2_"
      },
      "execution_count": 35,
      "outputs": []
    },
    {
      "cell_type": "code",
      "source": [
        "# Разделение на обучающее и тестовое подмножество после undersampling\n",
        "X_train, X_test, y_train, y_test = train_test_split(X_resampled, y_resampled, test_size=0.2, random_state=42)"
      ],
      "metadata": {
        "id": "7Khws4E3h6A5"
      },
      "execution_count": 36,
      "outputs": []
    },
    {
      "cell_type": "markdown",
      "source": [
        "### Этап 4: Обучение модели дерева решений RandomForestClassifier"
      ],
      "metadata": {
        "id": "X9r81MqcTDdd"
      }
    },
    {
      "cell_type": "code",
      "source": [
        "from sklearn.ensemble import RandomForestClassifier"
      ],
      "metadata": {
        "id": "iN1ELLodigrV"
      },
      "execution_count": 37,
      "outputs": []
    },
    {
      "cell_type": "code",
      "source": [
        "# Создание и обучение модели RandomForestClassifier на данных до undersampling\n",
        "clf_before = RandomForestClassifier(random_state=42)\n",
        "clf_before.fit(X_train_before, y_train_before)"
      ],
      "metadata": {
        "colab": {
          "base_uri": "https://localhost:8080/",
          "height": 74
        },
        "id": "D_eT7u8Kik0Z",
        "outputId": "ebdb4462-eaf1-42f8-9512-6f65222d3cdf"
      },
      "execution_count": 38,
      "outputs": [
        {
          "output_type": "execute_result",
          "data": {
            "text/plain": [
              "RandomForestClassifier(random_state=42)"
            ],
            "text/html": [
              "<style>#sk-container-id-3 {color: black;background-color: white;}#sk-container-id-3 pre{padding: 0;}#sk-container-id-3 div.sk-toggleable {background-color: white;}#sk-container-id-3 label.sk-toggleable__label {cursor: pointer;display: block;width: 100%;margin-bottom: 0;padding: 0.3em;box-sizing: border-box;text-align: center;}#sk-container-id-3 label.sk-toggleable__label-arrow:before {content: \"▸\";float: left;margin-right: 0.25em;color: #696969;}#sk-container-id-3 label.sk-toggleable__label-arrow:hover:before {color: black;}#sk-container-id-3 div.sk-estimator:hover label.sk-toggleable__label-arrow:before {color: black;}#sk-container-id-3 div.sk-toggleable__content {max-height: 0;max-width: 0;overflow: hidden;text-align: left;background-color: #f0f8ff;}#sk-container-id-3 div.sk-toggleable__content pre {margin: 0.2em;color: black;border-radius: 0.25em;background-color: #f0f8ff;}#sk-container-id-3 input.sk-toggleable__control:checked~div.sk-toggleable__content {max-height: 200px;max-width: 100%;overflow: auto;}#sk-container-id-3 input.sk-toggleable__control:checked~label.sk-toggleable__label-arrow:before {content: \"▾\";}#sk-container-id-3 div.sk-estimator input.sk-toggleable__control:checked~label.sk-toggleable__label {background-color: #d4ebff;}#sk-container-id-3 div.sk-label input.sk-toggleable__control:checked~label.sk-toggleable__label {background-color: #d4ebff;}#sk-container-id-3 input.sk-hidden--visually {border: 0;clip: rect(1px 1px 1px 1px);clip: rect(1px, 1px, 1px, 1px);height: 1px;margin: -1px;overflow: hidden;padding: 0;position: absolute;width: 1px;}#sk-container-id-3 div.sk-estimator {font-family: monospace;background-color: #f0f8ff;border: 1px dotted black;border-radius: 0.25em;box-sizing: border-box;margin-bottom: 0.5em;}#sk-container-id-3 div.sk-estimator:hover {background-color: #d4ebff;}#sk-container-id-3 div.sk-parallel-item::after {content: \"\";width: 100%;border-bottom: 1px solid gray;flex-grow: 1;}#sk-container-id-3 div.sk-label:hover label.sk-toggleable__label {background-color: #d4ebff;}#sk-container-id-3 div.sk-serial::before {content: \"\";position: absolute;border-left: 1px solid gray;box-sizing: border-box;top: 0;bottom: 0;left: 50%;z-index: 0;}#sk-container-id-3 div.sk-serial {display: flex;flex-direction: column;align-items: center;background-color: white;padding-right: 0.2em;padding-left: 0.2em;position: relative;}#sk-container-id-3 div.sk-item {position: relative;z-index: 1;}#sk-container-id-3 div.sk-parallel {display: flex;align-items: stretch;justify-content: center;background-color: white;position: relative;}#sk-container-id-3 div.sk-item::before, #sk-container-id-3 div.sk-parallel-item::before {content: \"\";position: absolute;border-left: 1px solid gray;box-sizing: border-box;top: 0;bottom: 0;left: 50%;z-index: -1;}#sk-container-id-3 div.sk-parallel-item {display: flex;flex-direction: column;z-index: 1;position: relative;background-color: white;}#sk-container-id-3 div.sk-parallel-item:first-child::after {align-self: flex-end;width: 50%;}#sk-container-id-3 div.sk-parallel-item:last-child::after {align-self: flex-start;width: 50%;}#sk-container-id-3 div.sk-parallel-item:only-child::after {width: 0;}#sk-container-id-3 div.sk-dashed-wrapped {border: 1px dashed gray;margin: 0 0.4em 0.5em 0.4em;box-sizing: border-box;padding-bottom: 0.4em;background-color: white;}#sk-container-id-3 div.sk-label label {font-family: monospace;font-weight: bold;display: inline-block;line-height: 1.2em;}#sk-container-id-3 div.sk-label-container {text-align: center;}#sk-container-id-3 div.sk-container {/* jupyter's `normalize.less` sets `[hidden] { display: none; }` but bootstrap.min.css set `[hidden] { display: none !important; }` so we also need the `!important` here to be able to override the default hidden behavior on the sphinx rendered scikit-learn.org. See: https://github.com/scikit-learn/scikit-learn/issues/21755 */display: inline-block !important;position: relative;}#sk-container-id-3 div.sk-text-repr-fallback {display: none;}</style><div id=\"sk-container-id-3\" class=\"sk-top-container\"><div class=\"sk-text-repr-fallback\"><pre>RandomForestClassifier(random_state=42)</pre><b>In a Jupyter environment, please rerun this cell to show the HTML representation or trust the notebook. <br />On GitHub, the HTML representation is unable to render, please try loading this page with nbviewer.org.</b></div><div class=\"sk-container\" hidden><div class=\"sk-item\"><div class=\"sk-estimator sk-toggleable\"><input class=\"sk-toggleable__control sk-hidden--visually\" id=\"sk-estimator-id-3\" type=\"checkbox\" checked><label for=\"sk-estimator-id-3\" class=\"sk-toggleable__label sk-toggleable__label-arrow\">RandomForestClassifier</label><div class=\"sk-toggleable__content\"><pre>RandomForestClassifier(random_state=42)</pre></div></div></div></div></div>"
            ]
          },
          "metadata": {},
          "execution_count": 38
        }
      ]
    },
    {
      "cell_type": "code",
      "source": [
        "# Создание и обучение модели RandomForestClassifier после undersampling\n",
        "clf = RandomForestClassifier(random_state=42)\n",
        "clf.fit(X_train, y_train)"
      ],
      "metadata": {
        "colab": {
          "base_uri": "https://localhost:8080/",
          "height": 74
        },
        "id": "wgT-XXyBicVD",
        "outputId": "e2f459e9-108f-400f-8dc1-5e62283928ac"
      },
      "execution_count": 39,
      "outputs": [
        {
          "output_type": "execute_result",
          "data": {
            "text/plain": [
              "RandomForestClassifier(random_state=42)"
            ],
            "text/html": [
              "<style>#sk-container-id-4 {color: black;background-color: white;}#sk-container-id-4 pre{padding: 0;}#sk-container-id-4 div.sk-toggleable {background-color: white;}#sk-container-id-4 label.sk-toggleable__label {cursor: pointer;display: block;width: 100%;margin-bottom: 0;padding: 0.3em;box-sizing: border-box;text-align: center;}#sk-container-id-4 label.sk-toggleable__label-arrow:before {content: \"▸\";float: left;margin-right: 0.25em;color: #696969;}#sk-container-id-4 label.sk-toggleable__label-arrow:hover:before {color: black;}#sk-container-id-4 div.sk-estimator:hover label.sk-toggleable__label-arrow:before {color: black;}#sk-container-id-4 div.sk-toggleable__content {max-height: 0;max-width: 0;overflow: hidden;text-align: left;background-color: #f0f8ff;}#sk-container-id-4 div.sk-toggleable__content pre {margin: 0.2em;color: black;border-radius: 0.25em;background-color: #f0f8ff;}#sk-container-id-4 input.sk-toggleable__control:checked~div.sk-toggleable__content {max-height: 200px;max-width: 100%;overflow: auto;}#sk-container-id-4 input.sk-toggleable__control:checked~label.sk-toggleable__label-arrow:before {content: \"▾\";}#sk-container-id-4 div.sk-estimator input.sk-toggleable__control:checked~label.sk-toggleable__label {background-color: #d4ebff;}#sk-container-id-4 div.sk-label input.sk-toggleable__control:checked~label.sk-toggleable__label {background-color: #d4ebff;}#sk-container-id-4 input.sk-hidden--visually {border: 0;clip: rect(1px 1px 1px 1px);clip: rect(1px, 1px, 1px, 1px);height: 1px;margin: -1px;overflow: hidden;padding: 0;position: absolute;width: 1px;}#sk-container-id-4 div.sk-estimator {font-family: monospace;background-color: #f0f8ff;border: 1px dotted black;border-radius: 0.25em;box-sizing: border-box;margin-bottom: 0.5em;}#sk-container-id-4 div.sk-estimator:hover {background-color: #d4ebff;}#sk-container-id-4 div.sk-parallel-item::after {content: \"\";width: 100%;border-bottom: 1px solid gray;flex-grow: 1;}#sk-container-id-4 div.sk-label:hover label.sk-toggleable__label {background-color: #d4ebff;}#sk-container-id-4 div.sk-serial::before {content: \"\";position: absolute;border-left: 1px solid gray;box-sizing: border-box;top: 0;bottom: 0;left: 50%;z-index: 0;}#sk-container-id-4 div.sk-serial {display: flex;flex-direction: column;align-items: center;background-color: white;padding-right: 0.2em;padding-left: 0.2em;position: relative;}#sk-container-id-4 div.sk-item {position: relative;z-index: 1;}#sk-container-id-4 div.sk-parallel {display: flex;align-items: stretch;justify-content: center;background-color: white;position: relative;}#sk-container-id-4 div.sk-item::before, #sk-container-id-4 div.sk-parallel-item::before {content: \"\";position: absolute;border-left: 1px solid gray;box-sizing: border-box;top: 0;bottom: 0;left: 50%;z-index: -1;}#sk-container-id-4 div.sk-parallel-item {display: flex;flex-direction: column;z-index: 1;position: relative;background-color: white;}#sk-container-id-4 div.sk-parallel-item:first-child::after {align-self: flex-end;width: 50%;}#sk-container-id-4 div.sk-parallel-item:last-child::after {align-self: flex-start;width: 50%;}#sk-container-id-4 div.sk-parallel-item:only-child::after {width: 0;}#sk-container-id-4 div.sk-dashed-wrapped {border: 1px dashed gray;margin: 0 0.4em 0.5em 0.4em;box-sizing: border-box;padding-bottom: 0.4em;background-color: white;}#sk-container-id-4 div.sk-label label {font-family: monospace;font-weight: bold;display: inline-block;line-height: 1.2em;}#sk-container-id-4 div.sk-label-container {text-align: center;}#sk-container-id-4 div.sk-container {/* jupyter's `normalize.less` sets `[hidden] { display: none; }` but bootstrap.min.css set `[hidden] { display: none !important; }` so we also need the `!important` here to be able to override the default hidden behavior on the sphinx rendered scikit-learn.org. See: https://github.com/scikit-learn/scikit-learn/issues/21755 */display: inline-block !important;position: relative;}#sk-container-id-4 div.sk-text-repr-fallback {display: none;}</style><div id=\"sk-container-id-4\" class=\"sk-top-container\"><div class=\"sk-text-repr-fallback\"><pre>RandomForestClassifier(random_state=42)</pre><b>In a Jupyter environment, please rerun this cell to show the HTML representation or trust the notebook. <br />On GitHub, the HTML representation is unable to render, please try loading this page with nbviewer.org.</b></div><div class=\"sk-container\" hidden><div class=\"sk-item\"><div class=\"sk-estimator sk-toggleable\"><input class=\"sk-toggleable__control sk-hidden--visually\" id=\"sk-estimator-id-4\" type=\"checkbox\" checked><label for=\"sk-estimator-id-4\" class=\"sk-toggleable__label sk-toggleable__label-arrow\">RandomForestClassifier</label><div class=\"sk-toggleable__content\"><pre>RandomForestClassifier(random_state=42)</pre></div></div></div></div></div>"
            ]
          },
          "metadata": {},
          "execution_count": 39
        }
      ]
    },
    {
      "cell_type": "markdown",
      "source": [
        "### Этап 5: Оценка точности модели"
      ],
      "metadata": {
        "id": "5byHHIZnTJ0c"
      }
    },
    {
      "cell_type": "code",
      "source": [
        "# Оценка точности модели на обучающем наборе до undersampling\n",
        "train_accuracy_before = clf_before.score(X_train_before, y_train_before)\n",
        "\n",
        "# Оценка точности модели на тестовом наборе до undersampling\n",
        "test_accuracy_before = clf_before.score(X_test_before, y_test_before)\n",
        "\n",
        "# Оценка точности модели на обучающем наборе после undersampling\n",
        "train_accuracy_after = clf.score(X_train, y_train)\n",
        "\n",
        "# Оценка точности модели на тестовом наборе после undersampling\n",
        "test_accuracy_after = clf.score(X_test, y_test)\n",
        "\n",
        "# Создаем пустую таблицу для метрик\n",
        "metrics_table = pd.DataFrame(columns=['Модель', 'Точность на обучающем наборе', 'Точность на тестовом наборе'])\n",
        "\n",
        "# Добавляем метрики для модели до undersampling\n",
        "metrics_table.loc[0] = ['Модель до undersampling', train_accuracy_before, test_accuracy_before]\n",
        "\n",
        "# Добавляем метрики для модели после undersampling\n",
        "metrics_table.loc[1] = ['Модель после undersampling', train_accuracy_after, test_accuracy_after]\n",
        "\n",
        "# Выводим таблицу на печать\n",
        "metrics_table"
      ],
      "metadata": {
        "colab": {
          "base_uri": "https://localhost:8080/",
          "height": 112
        },
        "id": "E7B0OZ1niqjD",
        "outputId": "1295bbcb-58de-4931-b17a-a8284c1885ba"
      },
      "execution_count": 40,
      "outputs": [
        {
          "output_type": "execute_result",
          "data": {
            "text/plain": [
              "                       Модель  Точность на обучающем наборе  \\\n",
              "0     Модель до undersampling                           1.0   \n",
              "1  Модель после undersampling                           1.0   \n",
              "\n",
              "   Точность на тестовом наборе  \n",
              "0                     0.837209  \n",
              "1                     0.727273  "
            ],
            "text/html": [
              "\n",
              "  <div id=\"df-3d810f95-4da8-4f88-a689-6db0913988a1\" class=\"colab-df-container\">\n",
              "    <div>\n",
              "<style scoped>\n",
              "    .dataframe tbody tr th:only-of-type {\n",
              "        vertical-align: middle;\n",
              "    }\n",
              "\n",
              "    .dataframe tbody tr th {\n",
              "        vertical-align: top;\n",
              "    }\n",
              "\n",
              "    .dataframe thead th {\n",
              "        text-align: right;\n",
              "    }\n",
              "</style>\n",
              "<table border=\"1\" class=\"dataframe\">\n",
              "  <thead>\n",
              "    <tr style=\"text-align: right;\">\n",
              "      <th></th>\n",
              "      <th>Модель</th>\n",
              "      <th>Точность на обучающем наборе</th>\n",
              "      <th>Точность на тестовом наборе</th>\n",
              "    </tr>\n",
              "  </thead>\n",
              "  <tbody>\n",
              "    <tr>\n",
              "      <th>0</th>\n",
              "      <td>Модель до undersampling</td>\n",
              "      <td>1.0</td>\n",
              "      <td>0.837209</td>\n",
              "    </tr>\n",
              "    <tr>\n",
              "      <th>1</th>\n",
              "      <td>Модель после undersampling</td>\n",
              "      <td>1.0</td>\n",
              "      <td>0.727273</td>\n",
              "    </tr>\n",
              "  </tbody>\n",
              "</table>\n",
              "</div>\n",
              "    <div class=\"colab-df-buttons\">\n",
              "\n",
              "  <div class=\"colab-df-container\">\n",
              "    <button class=\"colab-df-convert\" onclick=\"convertToInteractive('df-3d810f95-4da8-4f88-a689-6db0913988a1')\"\n",
              "            title=\"Convert this dataframe to an interactive table.\"\n",
              "            style=\"display:none;\">\n",
              "\n",
              "  <svg xmlns=\"http://www.w3.org/2000/svg\" height=\"24px\" viewBox=\"0 -960 960 960\">\n",
              "    <path d=\"M120-120v-720h720v720H120Zm60-500h600v-160H180v160Zm220 220h160v-160H400v160Zm0 220h160v-160H400v160ZM180-400h160v-160H180v160Zm440 0h160v-160H620v160ZM180-180h160v-160H180v160Zm440 0h160v-160H620v160Z\"/>\n",
              "  </svg>\n",
              "    </button>\n",
              "\n",
              "  <style>\n",
              "    .colab-df-container {\n",
              "      display:flex;\n",
              "      gap: 12px;\n",
              "    }\n",
              "\n",
              "    .colab-df-convert {\n",
              "      background-color: #E8F0FE;\n",
              "      border: none;\n",
              "      border-radius: 50%;\n",
              "      cursor: pointer;\n",
              "      display: none;\n",
              "      fill: #1967D2;\n",
              "      height: 32px;\n",
              "      padding: 0 0 0 0;\n",
              "      width: 32px;\n",
              "    }\n",
              "\n",
              "    .colab-df-convert:hover {\n",
              "      background-color: #E2EBFA;\n",
              "      box-shadow: 0px 1px 2px rgba(60, 64, 67, 0.3), 0px 1px 3px 1px rgba(60, 64, 67, 0.15);\n",
              "      fill: #174EA6;\n",
              "    }\n",
              "\n",
              "    .colab-df-buttons div {\n",
              "      margin-bottom: 4px;\n",
              "    }\n",
              "\n",
              "    [theme=dark] .colab-df-convert {\n",
              "      background-color: #3B4455;\n",
              "      fill: #D2E3FC;\n",
              "    }\n",
              "\n",
              "    [theme=dark] .colab-df-convert:hover {\n",
              "      background-color: #434B5C;\n",
              "      box-shadow: 0px 1px 3px 1px rgba(0, 0, 0, 0.15);\n",
              "      filter: drop-shadow(0px 1px 2px rgba(0, 0, 0, 0.3));\n",
              "      fill: #FFFFFF;\n",
              "    }\n",
              "  </style>\n",
              "\n",
              "    <script>\n",
              "      const buttonEl =\n",
              "        document.querySelector('#df-3d810f95-4da8-4f88-a689-6db0913988a1 button.colab-df-convert');\n",
              "      buttonEl.style.display =\n",
              "        google.colab.kernel.accessAllowed ? 'block' : 'none';\n",
              "\n",
              "      async function convertToInteractive(key) {\n",
              "        const element = document.querySelector('#df-3d810f95-4da8-4f88-a689-6db0913988a1');\n",
              "        const dataTable =\n",
              "          await google.colab.kernel.invokeFunction('convertToInteractive',\n",
              "                                                    [key], {});\n",
              "        if (!dataTable) return;\n",
              "\n",
              "        const docLinkHtml = 'Like what you see? Visit the ' +\n",
              "          '<a target=\"_blank\" href=https://colab.research.google.com/notebooks/data_table.ipynb>data table notebook</a>'\n",
              "          + ' to learn more about interactive tables.';\n",
              "        element.innerHTML = '';\n",
              "        dataTable['output_type'] = 'display_data';\n",
              "        await google.colab.output.renderOutput(dataTable, element);\n",
              "        const docLink = document.createElement('div');\n",
              "        docLink.innerHTML = docLinkHtml;\n",
              "        element.appendChild(docLink);\n",
              "      }\n",
              "    </script>\n",
              "  </div>\n",
              "\n",
              "\n",
              "<div id=\"df-0eb812d0-8a02-40c2-843b-c29d30db55a1\">\n",
              "  <button class=\"colab-df-quickchart\" onclick=\"quickchart('df-0eb812d0-8a02-40c2-843b-c29d30db55a1')\"\n",
              "            title=\"Suggest charts\"\n",
              "            style=\"display:none;\">\n",
              "\n",
              "<svg xmlns=\"http://www.w3.org/2000/svg\" height=\"24px\"viewBox=\"0 0 24 24\"\n",
              "     width=\"24px\">\n",
              "    <g>\n",
              "        <path d=\"M19 3H5c-1.1 0-2 .9-2 2v14c0 1.1.9 2 2 2h14c1.1 0 2-.9 2-2V5c0-1.1-.9-2-2-2zM9 17H7v-7h2v7zm4 0h-2V7h2v10zm4 0h-2v-4h2v4z\"/>\n",
              "    </g>\n",
              "</svg>\n",
              "  </button>\n",
              "\n",
              "<style>\n",
              "  .colab-df-quickchart {\n",
              "      --bg-color: #E8F0FE;\n",
              "      --fill-color: #1967D2;\n",
              "      --hover-bg-color: #E2EBFA;\n",
              "      --hover-fill-color: #174EA6;\n",
              "      --disabled-fill-color: #AAA;\n",
              "      --disabled-bg-color: #DDD;\n",
              "  }\n",
              "\n",
              "  [theme=dark] .colab-df-quickchart {\n",
              "      --bg-color: #3B4455;\n",
              "      --fill-color: #D2E3FC;\n",
              "      --hover-bg-color: #434B5C;\n",
              "      --hover-fill-color: #FFFFFF;\n",
              "      --disabled-bg-color: #3B4455;\n",
              "      --disabled-fill-color: #666;\n",
              "  }\n",
              "\n",
              "  .colab-df-quickchart {\n",
              "    background-color: var(--bg-color);\n",
              "    border: none;\n",
              "    border-radius: 50%;\n",
              "    cursor: pointer;\n",
              "    display: none;\n",
              "    fill: var(--fill-color);\n",
              "    height: 32px;\n",
              "    padding: 0;\n",
              "    width: 32px;\n",
              "  }\n",
              "\n",
              "  .colab-df-quickchart:hover {\n",
              "    background-color: var(--hover-bg-color);\n",
              "    box-shadow: 0 1px 2px rgba(60, 64, 67, 0.3), 0 1px 3px 1px rgba(60, 64, 67, 0.15);\n",
              "    fill: var(--button-hover-fill-color);\n",
              "  }\n",
              "\n",
              "  .colab-df-quickchart-complete:disabled,\n",
              "  .colab-df-quickchart-complete:disabled:hover {\n",
              "    background-color: var(--disabled-bg-color);\n",
              "    fill: var(--disabled-fill-color);\n",
              "    box-shadow: none;\n",
              "  }\n",
              "\n",
              "  .colab-df-spinner {\n",
              "    border: 2px solid var(--fill-color);\n",
              "    border-color: transparent;\n",
              "    border-bottom-color: var(--fill-color);\n",
              "    animation:\n",
              "      spin 1s steps(1) infinite;\n",
              "  }\n",
              "\n",
              "  @keyframes spin {\n",
              "    0% {\n",
              "      border-color: transparent;\n",
              "      border-bottom-color: var(--fill-color);\n",
              "      border-left-color: var(--fill-color);\n",
              "    }\n",
              "    20% {\n",
              "      border-color: transparent;\n",
              "      border-left-color: var(--fill-color);\n",
              "      border-top-color: var(--fill-color);\n",
              "    }\n",
              "    30% {\n",
              "      border-color: transparent;\n",
              "      border-left-color: var(--fill-color);\n",
              "      border-top-color: var(--fill-color);\n",
              "      border-right-color: var(--fill-color);\n",
              "    }\n",
              "    40% {\n",
              "      border-color: transparent;\n",
              "      border-right-color: var(--fill-color);\n",
              "      border-top-color: var(--fill-color);\n",
              "    }\n",
              "    60% {\n",
              "      border-color: transparent;\n",
              "      border-right-color: var(--fill-color);\n",
              "    }\n",
              "    80% {\n",
              "      border-color: transparent;\n",
              "      border-right-color: var(--fill-color);\n",
              "      border-bottom-color: var(--fill-color);\n",
              "    }\n",
              "    90% {\n",
              "      border-color: transparent;\n",
              "      border-bottom-color: var(--fill-color);\n",
              "    }\n",
              "  }\n",
              "</style>\n",
              "\n",
              "  <script>\n",
              "    async function quickchart(key) {\n",
              "      const quickchartButtonEl =\n",
              "        document.querySelector('#' + key + ' button');\n",
              "      quickchartButtonEl.disabled = true;  // To prevent multiple clicks.\n",
              "      quickchartButtonEl.classList.add('colab-df-spinner');\n",
              "      try {\n",
              "        const charts = await google.colab.kernel.invokeFunction(\n",
              "            'suggestCharts', [key], {});\n",
              "      } catch (error) {\n",
              "        console.error('Error during call to suggestCharts:', error);\n",
              "      }\n",
              "      quickchartButtonEl.classList.remove('colab-df-spinner');\n",
              "      quickchartButtonEl.classList.add('colab-df-quickchart-complete');\n",
              "    }\n",
              "    (() => {\n",
              "      let quickchartButtonEl =\n",
              "        document.querySelector('#df-0eb812d0-8a02-40c2-843b-c29d30db55a1 button');\n",
              "      quickchartButtonEl.style.display =\n",
              "        google.colab.kernel.accessAllowed ? 'block' : 'none';\n",
              "    })();\n",
              "  </script>\n",
              "</div>\n",
              "    </div>\n",
              "  </div>\n"
            ],
            "application/vnd.google.colaboratory.intrinsic+json": {
              "type": "dataframe",
              "variable_name": "metrics_table",
              "summary": "{\n  \"name\": \"metrics_table\",\n  \"rows\": 2,\n  \"fields\": [\n    {\n      \"column\": \"\\u041c\\u043e\\u0434\\u0435\\u043b\\u044c\",\n      \"properties\": {\n        \"dtype\": \"string\",\n        \"num_unique_values\": 2,\n        \"samples\": [\n          \"\\u041c\\u043e\\u0434\\u0435\\u043b\\u044c \\u043f\\u043e\\u0441\\u043b\\u0435 undersampling\",\n          \"\\u041c\\u043e\\u0434\\u0435\\u043b\\u044c \\u0434\\u043e undersampling\"\n        ],\n        \"semantic_type\": \"\",\n        \"description\": \"\"\n      }\n    },\n    {\n      \"column\": \"\\u0422\\u043e\\u0447\\u043d\\u043e\\u0441\\u0442\\u044c \\u043d\\u0430 \\u043e\\u0431\\u0443\\u0447\\u0430\\u044e\\u0449\\u0435\\u043c \\u043d\\u0430\\u0431\\u043e\\u0440\\u0435\",\n      \"properties\": {\n        \"dtype\": \"number\",\n        \"std\": 0.0,\n        \"min\": 1.0,\n        \"max\": 1.0,\n        \"num_unique_values\": 1,\n        \"samples\": [\n          1.0\n        ],\n        \"semantic_type\": \"\",\n        \"description\": \"\"\n      }\n    },\n    {\n      \"column\": \"\\u0422\\u043e\\u0447\\u043d\\u043e\\u0441\\u0442\\u044c \\u043d\\u0430 \\u0442\\u0435\\u0441\\u0442\\u043e\\u0432\\u043e\\u043c \\u043d\\u0430\\u0431\\u043e\\u0440\\u0435\",\n      \"properties\": {\n        \"dtype\": \"number\",\n        \"std\": 0.077736897720297,\n        \"min\": 0.7272727272727273,\n        \"max\": 0.8372093023255814,\n        \"num_unique_values\": 2,\n        \"samples\": [\n          0.7272727272727273\n        ],\n        \"semantic_type\": \"\",\n        \"description\": \"\"\n      }\n    }\n  ]\n}"
            }
          },
          "metadata": {},
          "execution_count": 40
        }
      ]
    },
    {
      "cell_type": "markdown",
      "source": [
        "Из полученных результатов точности до и после undersampling видно следующее:\n",
        "\n",
        "По-видимому, в данном случае возникло переобучение модели после undersampling.\n",
        "\n",
        "\n",
        "1. **Идеальная точность на обучающем наборе до и после undersampling:** Получение идеальной точности (1.0 или 100%) на обучающем наборе как до, так и после undersampling является сигналом о потенциальном переобучении модели.\n",
        "2. **Точность на тестовом наборе после undersampling существенно уменьшилась:** Снижение точности после undersampling на тестовом наборе (с 0.837 до 0.727) указывает на то, что модель может переобучаться на обучающем наборе и предсказывать плохо на новых данных.\n",
        "\n",
        "\n",
        "\n",
        "\n",
        "### После Undersampling:\n",
        "- **Точность на тестовом наборе после undersampling:** 0.727 (или около 72.7%) показывает снижение точности на тестовом наборе после применения undersampling. Уменьшение точности может объясняться тем, что мы удалили избыточные записи для балансировки классов, что может привести к потере информации и уменьшению обобщающей способности модели."
      ],
      "metadata": {
        "id": "hcrCCDSjkDgU"
      }
    },
    {
      "cell_type": "markdown",
      "source": [
        "### Этап 6: Обработка выбросов в данных"
      ],
      "metadata": {
        "id": "4DbOIkEuULDt"
      }
    },
    {
      "cell_type": "markdown",
      "source": [
        "#### - 6.1 Визуализация распределения значений для каждой переменной"
      ],
      "metadata": {
        "id": "2igfiaxNUMLu"
      }
    },
    {
      "cell_type": "markdown",
      "source": [
        "Распределение (RI) и (Na)"
      ],
      "metadata": {
        "id": "i6qkINgUFUPM"
      }
    },
    {
      "cell_type": "code",
      "source": [
        "import matplotlib.pyplot as plt\n",
        "import seaborn as sns\n",
        "\n",
        "plt.figure(figsize=(16, 8))\n",
        "plt.subplot(2, 2, 1)\n",
        "sns.boxplot(x='RI', data=df)\n",
        "plt.subplot(2, 2, 3)\n",
        "sns.histplot(df['RI'], bins=10, kde=True)\n",
        "\n",
        "plt.subplot(2, 2, 2)\n",
        "sns.boxplot(x='Na', data=df)\n",
        "plt.subplot(2, 2, 4)\n",
        "sns.histplot(df['Na'], bins=10, kde=True)\n",
        "plt.tight_layout()\n",
        "plt.show()\n"
      ],
      "metadata": {
        "colab": {
          "base_uri": "https://localhost:8080/",
          "height": 799
        },
        "id": "NGw0ySOSnuo7",
        "outputId": "b7a178c9-3005-4d9e-c710-958338cc0650"
      },
      "execution_count": 41,
      "outputs": [
        {
          "output_type": "display_data",
          "data": {
            "text/plain": [
              "<Figure size 1600x800 with 4 Axes>"
            ],
            "image/png": "[encoded data removed]"
          },
          "metadata": {}
        }
      ]
    },
    {
      "cell_type": "markdown",
      "source": [
        "(RI):\n",
        "\n",
        "- Распределение RI похоже на нормальное из-за узкого диапазона (мин 1.511150 - макс 1.533930) и малой стандартной ошибки (0.003037).\n",
        "- Незначительное количество выбросов может быть ближе к максимальному или минимальному значению.\n",
        "\n",
        "(Na):\n",
        "\n",
        "- Значения Na более разнесены, но в пределах разумного диапазона для нормального распределения.\n",
        "- Вводные диапазоны (10.730000 - 17.380000) присутствуют в широком распределении.\n",
        "- Возможны несколько выбросов ближе к мин и макс значениям."
      ],
      "metadata": {
        "id": "D7AzPIL5JmZq"
      }
    },
    {
      "cell_type": "markdown",
      "source": [
        "Распределение (Mg) и (Al)"
      ],
      "metadata": {
        "id": "jsJ8KMttFeq5"
      }
    },
    {
      "cell_type": "code",
      "source": [
        "plt.figure(figsize=(16, 8))\n",
        "plt.subplot(2, 2, 1)\n",
        "sns.boxplot(x='Mg', data=df)\n",
        "plt.subplot(2, 2, 3)\n",
        "sns.histplot(df['Mg'], bins=10, kde=True)\n",
        "\n",
        "plt.subplot(2, 2, 2)\n",
        "sns.boxplot(x='Al', data=df)\n",
        "plt.subplot(2, 2, 4)\n",
        "sns.histplot(df['Al'], bins=10, kde=True)\n",
        "plt.tight_layout()\n",
        "plt.show()"
      ],
      "metadata": {
        "colab": {
          "base_uri": "https://localhost:8080/",
          "height": 799
        },
        "id": "tSK2IRUVWa-i",
        "outputId": "561af257-9184-484b-9101-c5f97a3cbb44"
      },
      "execution_count": 42,
      "outputs": [
        {
          "output_type": "display_data",
          "data": {
            "text/plain": [
              "<Figure size 1600x800 with 4 Axes>"
            ],
            "image/png": "[encoded data removed]"
          },
          "metadata": {}
        }
      ]
    },
    {
      "cell_type": "markdown",
      "source": [
        "(Mg):\n",
        "\n",
        "- Существенное отклонение в значениях мин и макс указывает на возможные выбросы.\n",
        "- Широкий разброс значений указывает на ненормальное распределение.\n",
        "\n",
        "(Al):\n",
        "\n",
        "- Распределение относительно близко к нормальному, хотя низкие (0.290000) и высокие значения (3.500000) могут\tуказываться как выборы.\n"
      ],
      "metadata": {
        "id": "9kKYJHYiI9MP"
      }
    },
    {
      "cell_type": "markdown",
      "source": [
        "Распределение (Si) и (K)"
      ],
      "metadata": {
        "id": "KJfSVjlOFroR"
      }
    },
    {
      "cell_type": "code",
      "source": [
        "plt.figure(figsize=(16, 8))\n",
        "plt.subplot(2, 2, 1)\n",
        "sns.boxplot(x='Si', data=df)\n",
        "plt.subplot(2, 2, 3)\n",
        "sns.histplot(df['Si'], bins=10, kde=True)\n",
        "\n",
        "plt.subplot(2, 2, 2)\n",
        "sns.boxplot(x='K', data=df)\n",
        "plt.subplot(2, 2, 4)\n",
        "sns.histplot(df['K'], bins=10, kde=True)\n",
        "plt.tight_layout()\n",
        "plt.show()"
      ],
      "metadata": {
        "colab": {
          "base_uri": "https://localhost:8080/",
          "height": 799
        },
        "id": "bxvDaWD-Ypix",
        "outputId": "bbb05ae7-e290-4e5f-fd6e-5e7164d62dbf"
      },
      "execution_count": 43,
      "outputs": [
        {
          "output_type": "display_data",
          "data": {
            "text/plain": [
              "<Figure size 1600x800 with 4 Axes>"
            ],
            "image/png": "[encoded data removed]"
          },
          "metadata": {}
        }
      ]
    },
    {
      "cell_type": "markdown",
      "source": [
        "(Si):\n",
        "\n",
        "- Диапазон значений относительно узкий, что указывает на нормальное распределение.\n",
        "- Выбросы возможны около минимальных и максимальных значений.\n",
        "\n",
        "(K):\n",
        "\n",
        "- Потенциальные выбросы из-за высокого максимума (6.210000) и большого стандартного отклонения.\n",
        "- В основном данные распределены в пределах 0-1, высокие значения могут быть выбросами."
      ],
      "metadata": {
        "id": "qofWDlw0HCA5"
      }
    },
    {
      "cell_type": "markdown",
      "source": [
        "Распределение (Ca) и (Ba)"
      ],
      "metadata": {
        "id": "XXrnITh5F1gi"
      }
    },
    {
      "cell_type": "code",
      "source": [
        "plt.figure(figsize=(16, 8))\n",
        "plt.subplot(2, 2, 1)\n",
        "sns.boxplot(x='Ca', data=df)\n",
        "plt.subplot(2, 2, 3)\n",
        "sns.histplot(df['Ca'], bins=10, kde=True)\n",
        "\n",
        "plt.subplot(2, 2, 2)\n",
        "sns.boxplot(x='Ba', data=df)\n",
        "plt.subplot(2, 2, 4)\n",
        "sns.histplot(df['Ba'], bins=10, kde=True)\n",
        "plt.tight_layout()\n",
        "plt.show()"
      ],
      "metadata": {
        "colab": {
          "base_uri": "https://localhost:8080/",
          "height": 799
        },
        "id": "JithQMh8bRjj",
        "outputId": "6a6d9f09-8340-413c-ddbf-ad2af25ae7b0"
      },
      "execution_count": 44,
      "outputs": [
        {
          "output_type": "display_data",
          "data": {
            "text/plain": [
              "<Figure size 1600x800 with 4 Axes>"
            ],
            "image/png": "[encoded data removed]"
          },
          "metadata": {}
        }
      ]
    },
    {
      "cell_type": "markdown",
      "source": [
        "(Ca):\n",
        "- Вариативность данных указывает на нехватку нормальности, возможные выбросы ближе к максимуму (16.190000).\n",
        "\n",
        "\n",
        "\n",
        "(Ba):\n",
        "\n",
        "- Из-за большого количества нулевых значений распределение не является нормальным.\n",
        "- Высокие значения (~3.150000) четко являются выбросами."
      ],
      "metadata": {
        "id": "34sZNtkdGnsT"
      }
    },
    {
      "cell_type": "markdown",
      "source": [
        "Распределение (Fe)"
      ],
      "metadata": {
        "id": "DRb5tsWDGDvk"
      }
    },
    {
      "cell_type": "code",
      "source": [
        "plt.figure(figsize=(12, 8))\n",
        "plt.subplot(2, 1, 1)\n",
        "sns.boxplot(x='Fe', data=df)\n",
        "plt.subplot(2, 1, 2)\n",
        "sns.histplot(df['Fe'], bins=10, kde=True)\n",
        "plt.tight_layout()\n",
        "plt.show()"
      ],
      "metadata": {
        "colab": {
          "base_uri": "https://localhost:8080/",
          "height": 807
        },
        "id": "kGiMJDy0brQl",
        "outputId": "2b414bde-392d-45a3-a6e5-846dd19608a3"
      },
      "execution_count": 45,
      "outputs": [
        {
          "output_type": "display_data",
          "data": {
            "text/plain": [
              "<Figure size 1200x800 with 2 Axes>"
            ],
            "image/png": "[encoded data removed]"
          },
          "metadata": {}
        }
      ]
    },
    {
      "cell_type": "markdown",
      "source": [
        "- Большая доля нулевых значений указывает на ненормальное распределение.\n",
        "- Максимальное значение (0.510000) является явным выбросом."
      ],
      "metadata": {
        "id": "G9dAdjp8GKor"
      }
    },
    {
      "cell_type": "markdown",
      "source": [
        "#### - 6.2 Исследуем признаки на наличие выбросов несколькими способами."
      ],
      "metadata": {
        "id": "7YgGmYDAUbVL"
      }
    },
    {
      "cell_type": "markdown",
      "source": [
        "Один из способов удаления выбросов это создание справочника с допустимыми значениями элементов в стекле и использования его для удаления выбросов из данных. Данные возьмем из таких источников:\n",
        "\n",
        "- \"Introduction to Glass Science and Technology\" by J.E. Shelby - книга, которая обсуждает различные аспекты производства и состава стекла.\n",
        "- ISO 16293-1: Glass in building -- Basic soda-lime-silicate glass products - стандарт, который описывает химический состав и свойства строительного стекла.\n",
        "- \"Handbook of Materials for Product Design\" by Charles A. Harper - содержит информацию о различных материалах, включая стекло, и их химическом составе.\n",
        "\n",
        "например минимум 'Si' в (строительное стекло 2-класс) building_windows_float_processed 70 а максимум в headlamps (стекло для фар 7-класс) 75 тогда передаем\n",
        "'Si': (70, 75),\n",
        "и так по всем признакам"
      ],
      "metadata": {
        "id": "vAzbpzCJvLdE"
      }
    },
    {
      "cell_type": "markdown",
      "source": [
        "#### - 6.3 Удалим выбросы из данных и посчитаем процент удаленных записей от общего числа записей для каждого класса."
      ],
      "metadata": {
        "id": "XP3PKRnvUijX"
      }
    },
    {
      "cell_type": "code",
      "source": [
        "# Общий справочник диапазонов\n",
        "combined_reference_ranges = {\n",
        "    'RI': (1.50, 1.56),\n",
        "    'Na': (10, 16),\n",
        "    'Mg': (0.5, 4.5),\n",
        "    'Al': (0.5, 3),\n",
        "    'Si': (70, 75),\n",
        "    'K': (0, 1),\n",
        "    'Ca': (5, 12),\n",
        "    'Ba': (0, 0.3),\n",
        "    'Fe': (0, 0.3)\n",
        "}\n",
        "\n",
        "# Сохранение количества записей для каждого класса до удаления выбросов\n",
        "initial_counts = data['Type'].value_counts()\n",
        "\n",
        "# Функция для удаления строк с выбросами на основе общего справочника\n",
        "def remove_outliers(data, combined_reference_ranges):\n",
        "    for column, (min_val, max_val) in combined_reference_ranges.items():\n",
        "        data = data[(data[column] >= min_val) & (data[column] <= max_val)]\n",
        "    return data\n",
        "\n",
        "# Удаление выбросов\n",
        "cleaned_data = remove_outliers(data, combined_reference_ranges)\n",
        "\n",
        "# Сохранение количества записей для каждого класса после удаления выбросов\n",
        "final_counts = cleaned_data['Type'].value_counts()\n",
        "\n",
        "# Подсчет процента удаленных записей для каждого класса\n",
        "print(\"Процент удаленных записей для каждого класса:\")\n",
        "for class_type in initial_counts.index:\n",
        "    initial_count = initial_counts[class_type]\n",
        "    final_count = final_counts.get(class_type, 0)  # Используем .get() для избежания ошибки KeyError\n",
        "    removed_count = initial_count - final_count\n",
        "    removed_percentage = (removed_count / initial_count) * 100\n",
        "    print(f\"Класс {class_type}: {removed_percentage:.2f}%\")"
      ],
      "metadata": {
        "colab": {
          "base_uri": "https://localhost:8080/"
        },
        "id": "eiJ4fkJ4xZ6z",
        "outputId": "4867dcb1-6ea7-4f38-8067-32ac433a5741"
      },
      "execution_count": 46,
      "outputs": [
        {
          "output_type": "stream",
          "name": "stdout",
          "text": [
            "Процент удаленных записей для каждого класса:\n",
            "Класс 2: 15.79%\n",
            "Класс 1: 7.14%\n",
            "Класс 7: 93.10%\n",
            "Класс 3: 5.88%\n",
            "Класс 5: 76.92%\n",
            "Класс 6: 33.33%\n"
          ]
        }
      ]
    },
    {
      "cell_type": "code",
      "source": [
        "# Функция для удаления выбросов с использованием метода межквартильного размаха (IQR)\n",
        "def remove_outliers_iqr(data):\n",
        "    Q1 = data.quantile(0.25)\n",
        "    Q3 = data.quantile(0.75)\n",
        "    IQR = Q3 - Q1\n",
        "    lower_bound = Q1 - 1.5 * IQR\n",
        "    upper_bound = Q3 + 1.5 * IQR\n",
        "    outliers = ((data < lower_bound) | (data > upper_bound)).any(axis=1)\n",
        "    cleaned_data = data[~outliers]\n",
        "    return cleaned_data\n",
        "\n",
        "# Создаем копию исходных данных для очистки\n",
        "cleaned_data_iqr = data.copy()\n",
        "\n",
        "# Удаление выбросов с использованием метода межквартильного размаха (IQR)\n",
        "cleaned_data_iqr = remove_outliers_iqr(cleaned_data_iqr)\n",
        "\n",
        "# Получение количества записей для каждого класса после удаления выбросов\n",
        "final_counts_iqr = cleaned_data_iqr['Type'].value_counts()\n",
        "\n",
        "# Подсчет процента удаленных записей для каждого класса\n",
        "print(\"Процент удаленных записей для каждого класса:\")\n",
        "for class_type in initial_counts.index:\n",
        "    initial_count = initial_counts[class_type]\n",
        "    final_count = final_counts_iqr.get(class_type, 0)  # Используем .get() для избежания ошибки KeyError\n",
        "    removed_count = initial_count - final_count\n",
        "    removed_percentage = (removed_count / initial_count) * 100\n",
        "    print(f\"Класс {class_type}: {removed_percentage:.2f}%\")\n"
      ],
      "metadata": {
        "colab": {
          "base_uri": "https://localhost:8080/"
        },
        "id": "pDNzk4RjB7pQ",
        "outputId": "0e58046c-6a6c-46a8-d257-1a6825e24eb0"
      },
      "execution_count": 47,
      "outputs": [
        {
          "output_type": "stream",
          "name": "stdout",
          "text": [
            "Процент удаленных записей для каждого класса:\n",
            "Класс 2: 27.63%\n",
            "Класс 1: 15.71%\n",
            "Класс 7: 100.00%\n",
            "Класс 3: 11.76%\n",
            "Класс 5: 84.62%\n",
            "Класс 6: 44.44%\n"
          ]
        }
      ]
    },
    {
      "cell_type": "code",
      "source": [
        "from sklearn.neighbors import NearestNeighbors\n",
        "import numpy as np\n",
        "\n",
        "# Функция для обнаружения выбросов с использованием метода kNN\n",
        "def detect_outliers_knn(X, k=5):\n",
        "    neigh = NearestNeighbors(n_neighbors=k)\n",
        "    neigh.fit(X)\n",
        "    distances, _ = neigh.kneighbors(X)\n",
        "    k_distances = distances[:,-1]\n",
        "    threshold = np.percentile(k_distances, 95)  # Определяем порог для выявления выбросов\n",
        "    outliers = (k_distances > threshold).astype(int)  # Маркируем выбросы\n",
        "    return outliers\n",
        "\n",
        "# Функция для удаления выбросов с использованием метода kNN\n",
        "def remove_outliers_knn(data, k=5):\n",
        "    X = data.drop(columns=['Type']).values\n",
        "    outliers = detect_outliers_knn(X, k)\n",
        "    cleaned_data = data[outliers == 0]  # Оставляем только нормальные точки\n",
        "    return cleaned_data\n",
        "\n",
        "# Создаем копию исходных данных для очистки\n",
        "cleaned_data_knn = data.copy()\n",
        "\n",
        "# Удаление выбросов с использованием метода kNN (в данном случае k=5)\n",
        "cleaned_data_knn = remove_outliers_knn(cleaned_data_knn, k=5)\n",
        "\n",
        "# Создаем очищенный DataFrame\n",
        "final_counts_knn = cleaned_data_knn['Type'].value_counts()\n",
        "\n",
        "# Подсчитываем процент удаленных записей для каждого класса\n",
        "print(\"Процент удаленных записей для каждого класса:\")\n",
        "for class_type in initial_counts.index:\n",
        "    initial_count = initial_counts[class_type]\n",
        "    final_count = final_counts_knn.get(class_type, 0)  # Используем .get() для избежания ошибки KeyError\n",
        "    removed_count = initial_count - final_count\n",
        "    removed_percentage = (removed_count / initial_count) * 100\n",
        "    print(f\"Класс {class_type}: {removed_percentage:.2f}%\")"
      ],
      "metadata": {
        "colab": {
          "base_uri": "https://localhost:8080/"
        },
        "id": "M3Fft4HGVFzW",
        "outputId": "8bad7c5c-a68e-4d02-ade4-72898172c565"
      },
      "execution_count": 48,
      "outputs": [
        {
          "output_type": "stream",
          "name": "stdout",
          "text": [
            "Процент удаленных записей для каждого класса:\n",
            "Класс 2: 5.26%\n",
            "Класс 1: 0.00%\n",
            "Класс 7: 10.34%\n",
            "Класс 3: 0.00%\n",
            "Класс 5: 23.08%\n",
            "Класс 6: 11.11%\n"
          ]
        }
      ]
    },
    {
      "cell_type": "code",
      "source": [
        "from sklearn.svm import OneClassSVM\n",
        "\n",
        "# Функция для обнаружения выбросов с использованием One-Class SVM\n",
        "def detect_outliers_oneclasssvm(data, nu=0.1):\n",
        "    model = OneClassSVM(kernel='rbf', nu=nu)\n",
        "    X = data.drop(columns=['Type']).values\n",
        "    model.fit(X)\n",
        "    outliers = model.predict(X)\n",
        "    return outliers\n",
        "\n",
        "# Функция для удаления выбросов с помощью One-Class SVM\n",
        "def remove_outliers_oneclasssvm(data, nu=0.1):\n",
        "    outliers = detect_outliers_oneclasssvm(data, nu)\n",
        "    cleaned_data = data[outliers == 1]  # Оставляем только \"нормальные\" точки\n",
        "    return cleaned_data\n",
        "\n",
        "# Создаем копию исходных данных для очистки\n",
        "cleaned_data_oneclasssvm = data.copy()\n",
        "\n",
        "# Удаление выбросов с использованием метода One-Class SVM\n",
        "cleaned_data_oneclasssvm = remove_outliers_oneclasssvm(cleaned_data_oneclasssvm, nu=0.1)\n",
        "\n",
        "# Получение количества записей для каждого класса после удаления выбросов\n",
        "final_counts_oneclasssvm = cleaned_data_oneclasssvm['Type'].value_counts()\n",
        "\n",
        "# Подсчет процента удаленных записей для каждого класса\n",
        "print(\"Процент удаленных записей для каждого класса:\")\n",
        "for class_type in initial_counts.index:\n",
        "    initial_count = initial_counts[class_type]\n",
        "    final_count = final_counts_oneclasssvm.get(class_type, 0)  # Используем .get() для избежания ошибки KeyError\n",
        "    removed_count = initial_count - final_count\n",
        "    removed_percentage = (removed_count / initial_count) * 100\n",
        "    print(f\"Класс {class_type}: {removed_percentage:.2f}%\")"
      ],
      "metadata": {
        "colab": {
          "base_uri": "https://localhost:8080/"
        },
        "id": "fxT9DE7w7qBH",
        "outputId": "b8845572-5dfa-42b8-c5ed-3cd3b70d0e15"
      },
      "execution_count": 49,
      "outputs": [
        {
          "output_type": "stream",
          "name": "stdout",
          "text": [
            "Процент удаленных записей для каждого класса:\n",
            "Класс 2: 13.16%\n",
            "Класс 1: 2.86%\n",
            "Класс 7: 17.24%\n",
            "Класс 3: 0.00%\n",
            "Класс 5: 30.77%\n",
            "Класс 6: 22.22%\n"
          ]
        }
      ]
    },
    {
      "cell_type": "markdown",
      "source": [
        "### Этап 7: Повторное обучение модели и оценка точности после обработки выбросов"
      ],
      "metadata": {
        "id": "TcIBjryjUslh"
      }
    },
    {
      "cell_type": "code",
      "source": [
        "from sklearn.model_selection import train_test_split\n",
        "from sklearn.ensemble import RandomForestClassifier\n",
        "\n",
        "# Создание переменных с признаками и целевой переменной для каждого метода очистки данных\n",
        "\n",
        "# Для cleaned_data\n",
        "X_cleaned_data = cleaned_data.drop('Type', axis=1)\n",
        "y_cleaned_data = cleaned_data['Type']\n",
        "\n",
        "# Разделение данных cleaned_data на обучающий и тестовый наборы\n",
        "X_train_cleaned_data, X_test_cleaned_data, y_train_cleaned_data, y_test_cleaned_data = train_test_split(X_cleaned_data, y_cleaned_data, test_size=0.2, random_state=42)\n",
        "\n",
        "# Создание и обучение модели RandomForestClassifier на очищенных данных cleaned_data\n",
        "clf_cleaned_data = RandomForestClassifier(random_state=42)\n",
        "clf_cleaned_data.fit(X_train_cleaned_data, y_train_cleaned_data)\n",
        "\n",
        "# Оценка точности модели на обучающем наборе очищенных данных cleaned_data\n",
        "train_accuracy_cleaned_data = clf_cleaned_data.score(X_train_cleaned_data, y_train_cleaned_data)\n",
        "\n",
        "# Оценка точности модели на тестовом наборе очищенных данных cleaned_data\n",
        "test_accuracy_cleaned_data = clf_cleaned_data.score(X_test_cleaned_data, y_test_cleaned_data)\n",
        "\n",
        "# Добавляем метрики для модели на очищенных данных cleaned_data в таблицу\n",
        "metrics_table.loc[2] = ['Модель на очищенных данных cleaned_data', train_accuracy_cleaned_data, test_accuracy_cleaned_data]\n",
        "\n",
        "# Для cleaned_data_knn\n",
        "X_cleaned_data_knn = cleaned_data_knn.drop('Type', axis=1)\n",
        "y_cleaned_data_knn = cleaned_data_knn['Type']\n",
        "X_train_cleaned_data_knn, X_test_cleaned_data_knn, y_train_cleaned_data_knn, y_test_cleaned_data_knn = train_test_split(X_cleaned_data_knn, y_cleaned_data_knn, test_size=0.2, random_state=42)\n",
        "clf_cleaned_data_knn = RandomForestClassifier(random_state=42)\n",
        "clf_cleaned_data_knn.fit(X_train_cleaned_data_knn, y_train_cleaned_data_knn)\n",
        "train_accuracy_cleaned_data_knn = clf_cleaned_data_knn.score(X_train_cleaned_data_knn, y_train_cleaned_data_knn)\n",
        "test_accuracy_cleaned_data_knn = clf_cleaned_data_knn.score(X_test_cleaned_data_knn, y_test_cleaned_data_knn)\n",
        "metrics_table.loc[3] = ['Модель на очищенных данных cleaned_data_knn', train_accuracy_cleaned_data_knn, test_accuracy_cleaned_data_knn]\n",
        "\n",
        "# Для cleaned_data_oneclasssvm\n",
        "X_cleaned_data_oneclasssvm = cleaned_data_oneclasssvm.drop('Type', axis=1)\n",
        "y_cleaned_data_oneclasssvm = cleaned_data_oneclasssvm['Type']\n",
        "X_train_cleaned_data_oneclasssvm, X_test_cleaned_data_oneclasssvm, y_train_cleaned_data_oneclasssvm, y_test_cleaned_data_oneclasssvm = train_test_split(X_cleaned_data_oneclasssvm, y_cleaned_data_oneclasssvm, test_size=0.2, random_state=42)\n",
        "clf_cleaned_data_oneclasssvm = RandomForestClassifier(random_state=42)\n",
        "clf_cleaned_data_oneclasssvm.fit(X_train_cleaned_data_oneclasssvm, y_train_cleaned_data_oneclasssvm)\n",
        "train_accuracy_cleaned_data_oneclasssvm = clf_cleaned_data_oneclasssvm.score(X_train_cleaned_data_oneclasssvm, y_train_cleaned_data_oneclasssvm)\n",
        "test_accuracy_cleaned_data_oneclasssvm = clf_cleaned_data_oneclasssvm.score(X_test_cleaned_data_oneclasssvm, y_test_cleaned_data_oneclasssvm)\n",
        "metrics_table.loc[4] = ['Модель на очищенных данных cleaned_data_oneclasssvm', train_accuracy_cleaned_data_oneclasssvm, test_accuracy_cleaned_data_oneclasssvm]\n",
        "\n",
        "\n",
        "# Для cleaned_data_iqr\n",
        "X_cleaned_data_iqr = cleaned_data_iqr.drop('Type', axis=1)\n",
        "y_cleaned_data_iqr = cleaned_data_iqr['Type']\n",
        "X_train_cleaned_data_iqr, X_test_cleaned_data_iqr, y_train_cleaned_data_iqr, y_test_cleaned_data_iqr = train_test_split(X_cleaned_data_iqr, y_cleaned_data_iqr, test_size=0.2, random_state=42)\n",
        "clf_cleaned_data_iqr = RandomForestClassifier(random_state=42)\n",
        "clf_cleaned_data_iqr.fit(X_train_cleaned_data_iqr, y_train_cleaned_data_iqr)\n",
        "train_accuracy_cleaned_data_iqr = clf_cleaned_data_iqr.score(X_train_cleaned_data_iqr, y_train_cleaned_data_iqr)\n",
        "test_accuracy_cleaned_data_iqr = clf_cleaned_data_iqr.score(X_test_cleaned_data_iqr, y_test_cleaned_data_iqr)\n",
        "metrics_table.loc[5] = ['Модель на очищенных данных cleaned_data_iqr', train_accuracy_cleaned_data_iqr, test_accuracy_cleaned_data_iqr]\n",
        "\n",
        "# В конце выведем обновленную таблицу метрик\n",
        "metrics_table.sort_values(by='Точность на тестовом наборе', ascending=False)\n"
      ],
      "metadata": {
        "colab": {
          "base_uri": "https://localhost:8080/",
          "height": 237
        },
        "id": "jYcDwGsQFuFw",
        "outputId": "2cabdd1c-20d8-4101-a7fa-0634ce5e529f"
      },
      "execution_count": 50,
      "outputs": [
        {
          "output_type": "execute_result",
          "data": {
            "text/plain": [
              "                                              Модель  \\\n",
              "0                            Модель до undersampling   \n",
              "3        Модель на очищенных данных cleaned_data_knn   \n",
              "2            Модель на очищенных данных cleaned_data   \n",
              "5        Модель на очищенных данных cleaned_data_iqr   \n",
              "1                         Модель после undersampling   \n",
              "4  Модель на очищенных данных cleaned_data_onecla...   \n",
              "\n",
              "   Точность на обучающем наборе  Точность на тестовом наборе  \n",
              "0                           1.0                     0.837209  \n",
              "3                           1.0                     0.804878  \n",
              "2                           1.0                     0.781250  \n",
              "5                           1.0                     0.750000  \n",
              "1                           1.0                     0.727273  \n",
              "4                           1.0                     0.692308  "
            ],
            "text/html": [
              "\n",
              "  <div id=\"df-36910ed5-b182-44e5-991f-57552d269535\" class=\"colab-df-container\">\n",
              "    <div>\n",
              "<style scoped>\n",
              "    .dataframe tbody tr th:only-of-type {\n",
              "        vertical-align: middle;\n",
              "    }\n",
              "\n",
              "    .dataframe tbody tr th {\n",
              "        vertical-align: top;\n",
              "    }\n",
              "\n",
              "    .dataframe thead th {\n",
              "        text-align: right;\n",
              "    }\n",
              "</style>\n",
              "<table border=\"1\" class=\"dataframe\">\n",
              "  <thead>\n",
              "    <tr style=\"text-align: right;\">\n",
              "      <th></th>\n",
              "      <th>Модель</th>\n",
              "      <th>Точность на обучающем наборе</th>\n",
              "      <th>Точность на тестовом наборе</th>\n",
              "    </tr>\n",
              "  </thead>\n",
              "  <tbody>\n",
              "    <tr>\n",
              "      <th>0</th>\n",
              "      <td>Модель до undersampling</td>\n",
              "      <td>1.0</td>\n",
              "      <td>0.837209</td>\n",
              "    </tr>\n",
              "    <tr>\n",
              "      <th>3</th>\n",
              "      <td>Модель на очищенных данных cleaned_data_knn</td>\n",
              "      <td>1.0</td>\n",
              "      <td>0.804878</td>\n",
              "    </tr>\n",
              "    <tr>\n",
              "      <th>2</th>\n",
              "      <td>Модель на очищенных данных cleaned_data</td>\n",
              "      <td>1.0</td>\n",
              "      <td>0.781250</td>\n",
              "    </tr>\n",
              "    <tr>\n",
              "      <th>5</th>\n",
              "      <td>Модель на очищенных данных cleaned_data_iqr</td>\n",
              "      <td>1.0</td>\n",
              "      <td>0.750000</td>\n",
              "    </tr>\n",
              "    <tr>\n",
              "      <th>1</th>\n",
              "      <td>Модель после undersampling</td>\n",
              "      <td>1.0</td>\n",
              "      <td>0.727273</td>\n",
              "    </tr>\n",
              "    <tr>\n",
              "      <th>4</th>\n",
              "      <td>Модель на очищенных данных cleaned_data_onecla...</td>\n",
              "      <td>1.0</td>\n",
              "      <td>0.692308</td>\n",
              "    </tr>\n",
              "  </tbody>\n",
              "</table>\n",
              "</div>\n",
              "    <div class=\"colab-df-buttons\">\n",
              "\n",
              "  <div class=\"colab-df-container\">\n",
              "    <button class=\"colab-df-convert\" onclick=\"convertToInteractive('df-36910ed5-b182-44e5-991f-57552d269535')\"\n",
              "            title=\"Convert this dataframe to an interactive table.\"\n",
              "            style=\"display:none;\">\n",
              "\n",
              "  <svg xmlns=\"http://www.w3.org/2000/svg\" height=\"24px\" viewBox=\"0 -960 960 960\">\n",
              "    <path d=\"M120-120v-720h720v720H120Zm60-500h600v-160H180v160Zm220 220h160v-160H400v160Zm0 220h160v-160H400v160ZM180-400h160v-160H180v160Zm440 0h160v-160H620v160ZM180-180h160v-160H180v160Zm440 0h160v-160H620v160Z\"/>\n",
              "  </svg>\n",
              "    </button>\n",
              "\n",
              "  <style>\n",
              "    .colab-df-container {\n",
              "      display:flex;\n",
              "      gap: 12px;\n",
              "    }\n",
              "\n",
              "    .colab-df-convert {\n",
              "      background-color: #E8F0FE;\n",
              "      border: none;\n",
              "      border-radius: 50%;\n",
              "      cursor: pointer;\n",
              "      display: none;\n",
              "      fill: #1967D2;\n",
              "      height: 32px;\n",
              "      padding: 0 0 0 0;\n",
              "      width: 32px;\n",
              "    }\n",
              "\n",
              "    .colab-df-convert:hover {\n",
              "      background-color: #E2EBFA;\n",
              "      box-shadow: 0px 1px 2px rgba(60, 64, 67, 0.3), 0px 1px 3px 1px rgba(60, 64, 67, 0.15);\n",
              "      fill: #174EA6;\n",
              "    }\n",
              "\n",
              "    .colab-df-buttons div {\n",
              "      margin-bottom: 4px;\n",
              "    }\n",
              "\n",
              "    [theme=dark] .colab-df-convert {\n",
              "      background-color: #3B4455;\n",
              "      fill: #D2E3FC;\n",
              "    }\n",
              "\n",
              "    [theme=dark] .colab-df-convert:hover {\n",
              "      background-color: #434B5C;\n",
              "      box-shadow: 0px 1px 3px 1px rgba(0, 0, 0, 0.15);\n",
              "      filter: drop-shadow(0px 1px 2px rgba(0, 0, 0, 0.3));\n",
              "      fill: #FFFFFF;\n",
              "    }\n",
              "  </style>\n",
              "\n",
              "    <script>\n",
              "      const buttonEl =\n",
              "        document.querySelector('#df-36910ed5-b182-44e5-991f-57552d269535 button.colab-df-convert');\n",
              "      buttonEl.style.display =\n",
              "        google.colab.kernel.accessAllowed ? 'block' : 'none';\n",
              "\n",
              "      async function convertToInteractive(key) {\n",
              "        const element = document.querySelector('#df-36910ed5-b182-44e5-991f-57552d269535');\n",
              "        const dataTable =\n",
              "          await google.colab.kernel.invokeFunction('convertToInteractive',\n",
              "                                                    [key], {});\n",
              "        if (!dataTable) return;\n",
              "\n",
              "        const docLinkHtml = 'Like what you see? Visit the ' +\n",
              "          '<a target=\"_blank\" href=https://colab.research.google.com/notebooks/data_table.ipynb>data table notebook</a>'\n",
              "          + ' to learn more about interactive tables.';\n",
              "        element.innerHTML = '';\n",
              "        dataTable['output_type'] = 'display_data';\n",
              "        await google.colab.output.renderOutput(dataTable, element);\n",
              "        const docLink = document.createElement('div');\n",
              "        docLink.innerHTML = docLinkHtml;\n",
              "        element.appendChild(docLink);\n",
              "      }\n",
              "    </script>\n",
              "  </div>\n",
              "\n",
              "\n",
              "<div id=\"df-93f9a755-31f0-42aa-93b6-cfe693dd6cf1\">\n",
              "  <button class=\"colab-df-quickchart\" onclick=\"quickchart('df-93f9a755-31f0-42aa-93b6-cfe693dd6cf1')\"\n",
              "            title=\"Suggest charts\"\n",
              "            style=\"display:none;\">\n",
              "\n",
              "<svg xmlns=\"http://www.w3.org/2000/svg\" height=\"24px\"viewBox=\"0 0 24 24\"\n",
              "     width=\"24px\">\n",
              "    <g>\n",
              "        <path d=\"M19 3H5c-1.1 0-2 .9-2 2v14c0 1.1.9 2 2 2h14c1.1 0 2-.9 2-2V5c0-1.1-.9-2-2-2zM9 17H7v-7h2v7zm4 0h-2V7h2v10zm4 0h-2v-4h2v4z\"/>\n",
              "    </g>\n",
              "</svg>\n",
              "  </button>\n",
              "\n",
              "<style>\n",
              "  .colab-df-quickchart {\n",
              "      --bg-color: #E8F0FE;\n",
              "      --fill-color: #1967D2;\n",
              "      --hover-bg-color: #E2EBFA;\n",
              "      --hover-fill-color: #174EA6;\n",
              "      --disabled-fill-color: #AAA;\n",
              "      --disabled-bg-color: #DDD;\n",
              "  }\n",
              "\n",
              "  [theme=dark] .colab-df-quickchart {\n",
              "      --bg-color: #3B4455;\n",
              "      --fill-color: #D2E3FC;\n",
              "      --hover-bg-color: #434B5C;\n",
              "      --hover-fill-color: #FFFFFF;\n",
              "      --disabled-bg-color: #3B4455;\n",
              "      --disabled-fill-color: #666;\n",
              "  }\n",
              "\n",
              "  .colab-df-quickchart {\n",
              "    background-color: var(--bg-color);\n",
              "    border: none;\n",
              "    border-radius: 50%;\n",
              "    cursor: pointer;\n",
              "    display: none;\n",
              "    fill: var(--fill-color);\n",
              "    height: 32px;\n",
              "    padding: 0;\n",
              "    width: 32px;\n",
              "  }\n",
              "\n",
              "  .colab-df-quickchart:hover {\n",
              "    background-color: var(--hover-bg-color);\n",
              "    box-shadow: 0 1px 2px rgba(60, 64, 67, 0.3), 0 1px 3px 1px rgba(60, 64, 67, 0.15);\n",
              "    fill: var(--button-hover-fill-color);\n",
              "  }\n",
              "\n",
              "  .colab-df-quickchart-complete:disabled,\n",
              "  .colab-df-quickchart-complete:disabled:hover {\n",
              "    background-color: var(--disabled-bg-color);\n",
              "    fill: var(--disabled-fill-color);\n",
              "    box-shadow: none;\n",
              "  }\n",
              "\n",
              "  .colab-df-spinner {\n",
              "    border: 2px solid var(--fill-color);\n",
              "    border-color: transparent;\n",
              "    border-bottom-color: var(--fill-color);\n",
              "    animation:\n",
              "      spin 1s steps(1) infinite;\n",
              "  }\n",
              "\n",
              "  @keyframes spin {\n",
              "    0% {\n",
              "      border-color: transparent;\n",
              "      border-bottom-color: var(--fill-color);\n",
              "      border-left-color: var(--fill-color);\n",
              "    }\n",
              "    20% {\n",
              "      border-color: transparent;\n",
              "      border-left-color: var(--fill-color);\n",
              "      border-top-color: var(--fill-color);\n",
              "    }\n",
              "    30% {\n",
              "      border-color: transparent;\n",
              "      border-left-color: var(--fill-color);\n",
              "      border-top-color: var(--fill-color);\n",
              "      border-right-color: var(--fill-color);\n",
              "    }\n",
              "    40% {\n",
              "      border-color: transparent;\n",
              "      border-right-color: var(--fill-color);\n",
              "      border-top-color: var(--fill-color);\n",
              "    }\n",
              "    60% {\n",
              "      border-color: transparent;\n",
              "      border-right-color: var(--fill-color);\n",
              "    }\n",
              "    80% {\n",
              "      border-color: transparent;\n",
              "      border-right-color: var(--fill-color);\n",
              "      border-bottom-color: var(--fill-color);\n",
              "    }\n",
              "    90% {\n",
              "      border-color: transparent;\n",
              "      border-bottom-color: var(--fill-color);\n",
              "    }\n",
              "  }\n",
              "</style>\n",
              "\n",
              "  <script>\n",
              "    async function quickchart(key) {\n",
              "      const quickchartButtonEl =\n",
              "        document.querySelector('#' + key + ' button');\n",
              "      quickchartButtonEl.disabled = true;  // To prevent multiple clicks.\n",
              "      quickchartButtonEl.classList.add('colab-df-spinner');\n",
              "      try {\n",
              "        const charts = await google.colab.kernel.invokeFunction(\n",
              "            'suggestCharts', [key], {});\n",
              "      } catch (error) {\n",
              "        console.error('Error during call to suggestCharts:', error);\n",
              "      }\n",
              "      quickchartButtonEl.classList.remove('colab-df-spinner');\n",
              "      quickchartButtonEl.classList.add('colab-df-quickchart-complete');\n",
              "    }\n",
              "    (() => {\n",
              "      let quickchartButtonEl =\n",
              "        document.querySelector('#df-93f9a755-31f0-42aa-93b6-cfe693dd6cf1 button');\n",
              "      quickchartButtonEl.style.display =\n",
              "        google.colab.kernel.accessAllowed ? 'block' : 'none';\n",
              "    })();\n",
              "  </script>\n",
              "</div>\n",
              "    </div>\n",
              "  </div>\n"
            ],
            "application/vnd.google.colaboratory.intrinsic+json": {
              "type": "dataframe",
              "summary": "{\n  \"name\": \"metrics_table\",\n  \"rows\": 6,\n  \"fields\": [\n    {\n      \"column\": \"\\u041c\\u043e\\u0434\\u0435\\u043b\\u044c\",\n      \"properties\": {\n        \"dtype\": \"string\",\n        \"num_unique_values\": 6,\n        \"samples\": [\n          \"\\u041c\\u043e\\u0434\\u0435\\u043b\\u044c \\u0434\\u043e undersampling\",\n          \"\\u041c\\u043e\\u0434\\u0435\\u043b\\u044c \\u043d\\u0430 \\u043e\\u0447\\u0438\\u0449\\u0435\\u043d\\u043d\\u044b\\u0445 \\u0434\\u0430\\u043d\\u043d\\u044b\\u0445 cleaned_data_knn\",\n          \"\\u041c\\u043e\\u0434\\u0435\\u043b\\u044c \\u043d\\u0430 \\u043e\\u0447\\u0438\\u0449\\u0435\\u043d\\u043d\\u044b\\u0445 \\u0434\\u0430\\u043d\\u043d\\u044b\\u0445 cleaned_data_oneclasssvm\"\n        ],\n        \"semantic_type\": \"\",\n        \"description\": \"\"\n      }\n    },\n    {\n      \"column\": \"\\u0422\\u043e\\u0447\\u043d\\u043e\\u0441\\u0442\\u044c \\u043d\\u0430 \\u043e\\u0431\\u0443\\u0447\\u0430\\u044e\\u0449\\u0435\\u043c \\u043d\\u0430\\u0431\\u043e\\u0440\\u0435\",\n      \"properties\": {\n        \"dtype\": \"number\",\n        \"std\": 0.0,\n        \"min\": 1.0,\n        \"max\": 1.0,\n        \"num_unique_values\": 1,\n        \"samples\": [\n          1.0\n        ],\n        \"semantic_type\": \"\",\n        \"description\": \"\"\n      }\n    },\n    {\n      \"column\": \"\\u0422\\u043e\\u0447\\u043d\\u043e\\u0441\\u0442\\u044c \\u043d\\u0430 \\u0442\\u0435\\u0441\\u0442\\u043e\\u0432\\u043e\\u043c \\u043d\\u0430\\u0431\\u043e\\u0440\\u0435\",\n      \"properties\": {\n        \"dtype\": \"number\",\n        \"std\": 0.05291427864825811,\n        \"min\": 0.6923076923076923,\n        \"max\": 0.8372093023255814,\n        \"num_unique_values\": 6,\n        \"samples\": [\n          0.8372093023255814\n        ],\n        \"semantic_type\": \"\",\n        \"description\": \"\"\n      }\n    }\n  ]\n}"
            }
          },
          "metadata": {},
          "execution_count": 50
        }
      ]
    },
    {
      "cell_type": "markdown",
      "source": [
        "### Этап 8: Сформулировать выводы по проделанной работе"
      ],
      "metadata": {
        "id": "smONDybRUwMV"
      }
    },
    {
      "cell_type": "markdown",
      "source": [
        "#### - 8.1 Преобразования, проведенные с данными."
      ],
      "metadata": {
        "id": "_V2PHNR5Uz07"
      }
    },
    {
      "cell_type": "markdown",
      "source": [
        "1. Уменьшение представленных классов с использованием RandomUnderSampler:\n",
        "   - Провели undersampling для балансировки классов в данных путём снижения количества записей в более многочисленных классах до уровня менее многочисленных.\n",
        "\n",
        "2. Удаление выбросов:\n",
        "   - Применены различные методы для выявления и удаления выбросов:\n",
        "     - Разработка и использование справочника допустимых значений для элементов стекла: На основе справочных книг и стандартов составлен список допустимых диапазонов значений для каждого элемента.\n",
        "     - Метод межквартильного размаха (IQR): Выбросы удалены на основе межквартильного размаха.\n",
        "     - Метод k-ближайших соседей (kNN): Использован kNN для удаления выбросов.\n",
        "     - Метод One-Class SVM: One-Class SVM использовался для идентификации и удаления выбросов.\n",
        "\n",
        "3. Обучение моделей RandomForestClassifier:\n",
        "   - Обучение модели RandomForestClassifier как на исходных данных, так и на данных после различных методов обработки выбросов."
      ],
      "metadata": {
        "id": "vYaAd4gpMc9c"
      }
    },
    {
      "cell_type": "markdown",
      "source": [
        "#### - 8.2 Сравните точность моделей: до и после обработки выбросов"
      ],
      "metadata": {
        "id": "3u-4uEkYU3R4"
      }
    },
    {
      "cell_type": "markdown",
      "source": [
        "- Модель до undersampling на исходных данных показала наилучшую точность на тестовом наборе (83.72%) по сравнению со всеми другими методами. Это означает, что без удаления выбросов и балансировки классов модель работает лучше в данном конкретном случае.\n",
        "- Модель после undersampling: показывает точность 72.73% на тестовом наборе, что ниже, чем точность модели до undersampling.\n",
        "  \n",
        "Методы удаления выбросов показали неоднозначные результаты в контексте улучшения точности моделей:\n",
        "- Модель на данных после удаления выбросов методом kNN: точность 80.49% на\n",
        "- Модель на данных после удаления выбросов на основе справочника: точность 78.13%\n",
        "\n",
        "Метод удаления выбросов kNN и справочник дали точность ниже, чем Модель до undersampling на исходных данных.\n",
        "\n",
        "- Модель на данных после использования IQR: точность 75%\n",
        "- Модель на данных после One-Class SVM: точность 69.23%, самая низкая точность.\n",
        "\n",
        "\n",
        "Несмотря на то, что модель на очищенных данных cleaned_data удалила больше выбросов, она показала лучшие результаты, чем модель One-Class SVM. Это объясняется следующими факторами:\n",
        "- Качество данных: Метод справочника основывался на допустимых диапазонах значений из справочников и стандартов, что обеспечивает более объективное удаление выбросов, связанных с ошибками или неправильными значениями.\n",
        "- Шум в данных: Если выбросы действительно являются ошибочными или нерациональными данными, их удаление может улучшить качество данных и, как следствие, производительность модели.\n",
        "- Эффективное удаление выбросов: Более агрессивное удаление выбросов (в случае большего процента удаленных данных) может быть оправдано, если оставшиеся данные лучше представляют распределение истинных значений.\n",
        "\n",
        "\n",
        "Во всех рассмотренных моделях точность на обучающем наборе была 100%. Это свидетельствует о переобучении, когда модель идеально предсказывает метки для обучающих данных, но теряет обобщающую способность на новых данных."
      ],
      "metadata": {
        "id": "Tc9cjlqwMemA"
      }
    },
    {
      "cell_type": "markdown",
      "source": [
        "#### - 8.3 Мнение о необходимости исследования данных на выбросы, плюсы и минусы"
      ],
      "metadata": {
        "id": "_YCd1y0iU-F4"
      }
    },
    {
      "cell_type": "markdown",
      "source": [
        "Плюсы исследования данных на выбросы:\n",
        "- Повышение качества данных: Выявление и удаление выбросов может улучшить качество данных, что приводит к более точным и надежным моделям.\n",
        "- Повышение производительности модели: Модели, обученные на данных без выбросов, могут показывать лучшую производительность на тестовых наборах.\n",
        "- Значимая интерпретируемость: Данные без выбросов могут быть более легко интерпретированы и могут дать более значимые результаты.\n",
        "\n",
        "Минусы исследования данных на выбросы:\n",
        "- Потеря данных: Удаление выбросов может привести к значительной потере данных, особенно если данные уже дефицитны.\n",
        "- Сложность выбора метода удаления: Разные методы удаления выбросов могут подходить для разных наборов данных. Неправильно выбранный метод может ухудшить качество модели.\n",
        "- Потенциальная потеря полезной информации: Не все выбросы являются шумом; некоторые из них могут содержать важные сигналы, которые могут улучшить производительность модели, если их правильно обработать."
      ],
      "metadata": {
        "id": "PmfS9fshP7df"
      }
    }
  ]
}