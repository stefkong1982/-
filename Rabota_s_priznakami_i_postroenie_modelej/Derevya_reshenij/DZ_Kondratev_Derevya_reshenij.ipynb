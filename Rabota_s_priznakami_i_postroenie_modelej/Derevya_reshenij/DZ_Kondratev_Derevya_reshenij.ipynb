{
  "nbformat": 4,
  "nbformat_minor": 0,
  "metadata": {
    "colab": {
      "provenance": [],
      "toc_visible": true,
      "include_colab_link": true
    },
    "kernelspec": {
      "name": "python3",
      "display_name": "Python 3"
    },
    "language_info": {
      "name": "python"
    }
  },
  "cells": [
    {
      "cell_type": "markdown",
      "metadata": {
        "id": "view-in-github",
        "colab_type": "text"
      },
      "source": [
        "<a href=\"https://colab.research.google.com/github/stefkong1982/netology.ru/blob/Master/Rabota_s_priznakami_i_postroenie_modelej/Derevya_reshenij/DZ_Kondratev_Derevya_reshenij.ipynb\" target=\"_parent\"><img src=\"https://colab.research.google.com/assets/colab-badge.svg\" alt=\"Open In Colab\"/></a>"
      ]
    },
    {
      "cell_type": "markdown",
      "source": [
        "# Домашнее задание по теме «Деревья решений»\n",
        "\n",
        "## Преподаватель:\n",
        "Юлия Пономарева\n",
        "\n",
        "## Цель\n",
        "изучить применение дерева решений в рамках задачи регрессии\n",
        "\n",
        "## Описание задания\n",
        "В домашнем задании нужно решить задачу регрессии. В качестве датасета необходимо взять данные о недвижимости Калифорнии из библиотеки [sklearn.datasets](https://scikit-learn.org/stable/modules/generated/sklearn.datasets.fetch_california_housing.html).\n",
        "Скачать датасет также можно по [ссылке](https://u.netology.ru/backend/uploads/lms/content_assets/file/8723/ch.csv)\n",
        "\n",
        "Целевая переменная – MedHouseVal. Прочитать информацию о признаках датасета можно, выполнив следующий код – print(fetch_california_housing().DESCR). На полученных данных построить модель регрессии и дерево решений.\n",
        "\n",
        "## Этапы работы\n",
        "\n",
        "# Анализ данных с использованием моделей регрессии и дерева решений\n",
        "\n",
        "1. Получите данные и загрузите их в рабочую среду. (Jupyter Notebook или другую).\n",
        "2. Проведите первичный анализ.\n",
        "\n",
        "   a. Проверьте данные на пропуски. Удалите в случае обнаружения.\n",
        "\n",
        "   b. Нормализуйте один из признаков.\n",
        "3. Разделите выборку на обучающее и тестовое подмножества. 80% данных оставить на обучающее множество, 20% - на тестовое.\n",
        "4. Обучите модель регрессии на обучающем множестве.\n",
        "5. Для тестового множества предскажите целевую переменную и сравните с истинным значением, посчитав точность предсказания модели. Для этого используйте встроенную функцию score.\n",
        "6. Обучите дерево решений на обучающем множестве.\n",
        "\n",
        "   a. Повторите п. 5 для полученной модели.\n",
        "\n",
        "   b. Визуализируйте часть дерева решений. Убедитесь, что график получился читабельным. Посмотрите примеры визуализации по ссылке.\n",
        "7. Оптимизируйте глубину дерева (max_depth). *Оптимизируйте ещё один параметр модели на выбор.\n",
        "   a. Повторите п. 5 для полученной модели.\n",
        "8. Сформулируйте выводы по проделанной работе.\n",
        "\n",
        "   a. Сравните точность двух моделей.\n",
        "\n",
        "   b. Напишите свое мнение, для каких задач предпочтительнее использовать обученные в работе модели? Какие у них есть плюсы и минусы?\n",
        "\n",
        "**Результат:** получены знания по работе с деревом решений\n",
        "\n",
        "\n",
        "## Рекомендации к выполнению\n",
        "- Текст оформляйте в отдельной ячейке Jupyter Notebook/Google Colab в формате Markdown.\n",
        "- У графиков должен быть заголовок, подписи осей, легенда (опционально). Делайте графики бОльшего размера, чем стандартный вывод, чтобы увеличить читабельность.\n",
        "- Убедитесь, что по ссылкам есть доступ на чтение/просмотр.\n",
        "- Убедитесь, что все ячейки в работе выполнены и можно увидеть их вывод без повторного запуска."
      ],
      "metadata": {
        "id": "gD47sl6JgwGZ"
      }
    },
    {
      "cell_type": "markdown",
      "source": [
        "# Набор данных о жилье в Калифорнии\n",
        "\n",
        "**Характеристики набора данных:**\n",
        "\n",
        "Количество экземпляров: 20640\n",
        "\n",
        "Количество атрибутов: 8 количественных прогнозирующих атрибутов и 1 количественная целевая переменная\n",
        "\n",
        "Информация об атрибутах:\n",
        "\n",
        "Количественные прогнозирующие атрибуты:\n",
        "- MedInc        - медианный доход в географическом районе\n",
        "- HouseAge      - медианный возраст домов в географическом районе\n",
        "- AveRooms      - среднее количество комнат на домохозяйство\n",
        "- AveBedrms     - среднее количество спален на домохозяйство\n",
        "- Population    - население географического района\n",
        "- AveOccup      - средняя заселенность домохозяйств\n",
        "- Latitude      - широта географического района\n",
        "- Longitude     - долгота географического района\n",
        "\n",
        "Количественная целевая переменная:\n",
        "- MedHouseVal   - медианная стоимость домов для районов Калифорнии, выраженная в сотнях тысяч долларов ($100,000)\n",
        "\n",
        "Этот набор данных был получен из переписи населения США 1990 года, используя\n",
        "по одной строке на каждый географический район в Калифорнии. Географический\n",
        "район - это небольшая географическая единица, содержащая обычно от 600 до 3000\n",
        "человек, для которой Бюро переписи населения США публикует выборочные данные.\n",
        "\n",
        "Целевой переменной в этом наборе данных является медианная стоимость домов\n",
        "для каждого географического района Калифорнии. Остальные 8 атрибутов являются\n",
        "количественными прогнозирующими переменными, которые можно использовать для\n",
        "предсказания медианной стоимости жилья.\n",
        "\n",
        "Данные могут быть загружены с использованием функции\n",
        ":func:`sklearn.datasets.fetch_california_housing`."
      ],
      "metadata": {
        "id": "bvBtPNmMBN-8"
      }
    },
    {
      "cell_type": "markdown",
      "source": [
        "# 1. Получение данных и загрузка их в рабочую среду"
      ],
      "metadata": {
        "id": "b_qXcaidLhWe"
      }
    },
    {
      "cell_type": "code",
      "source": [
        "# import pandas as pd\n",
        "\n",
        "# # Загрузка данных\n",
        "# from sklearn.datasets import fetch_california_housing\n",
        "# data = fetch_california_housing()\n",
        "# X, y = data.data, data.target\n",
        "\n",
        "# # Создание DataFrame\n",
        "# df = pd.DataFrame(X, columns=data.feature_names)\n",
        "# df['MedHouseVal'] = y\n",
        "\n",
        "# # Просмотр DataFrame\n",
        "# print(df.head())\n",
        "# print(df.info())\n",
        "# print(df.describe())"
      ],
      "metadata": {
        "id": "uEx-ePeY_UzA"
      },
      "execution_count": 73,
      "outputs": []
    },
    {
      "cell_type": "code",
      "source": [
        "import pandas as pd\n",
        "\n",
        "url = \"https://raw.githubusercontent.com/stefkong1982/netology.ru/Master/Rabota_s_priznakami_i_postroenie_modelej/Derevya_reshenij/california_h.csv\"\n",
        "df = pd.read_csv(url)\n",
        "\n",
        "print(df.head())\n",
        "print(df.info())\n",
        "print(df.describe())"
      ],
      "metadata": {
        "colab": {
          "base_uri": "https://localhost:8080/"
        },
        "id": "kML7FohmH5Xi",
        "outputId": "2f32d075-4984-4a7f-9e36-a3553d2a80c1"
      },
      "execution_count": 74,
      "outputs": [
        {
          "output_type": "stream",
          "name": "stdout",
          "text": [
            "   MedInc  HouseAge  AveRooms  AveBedrms  Population  AveOccup  Latitude  \\\n",
            "0  8.3252      41.0  6.984127   1.023810       322.0  2.555556     37.88   \n",
            "1  8.3014      21.0  6.238137   0.971880      2401.0  2.109842     37.86   \n",
            "2  7.2574      52.0  8.288136   1.073446       496.0  2.802260     37.85   \n",
            "3  5.6431      52.0  5.817352   1.073059       558.0  2.547945     37.85   \n",
            "4  3.8462      52.0  6.281853   1.081081       565.0  2.181467     37.85   \n",
            "\n",
            "   Longitude  MedHouseVal  \n",
            "0    -122.23        4.526  \n",
            "1    -122.22        3.585  \n",
            "2    -122.24        3.521  \n",
            "3    -122.25        3.413  \n",
            "4    -122.25        3.422  \n",
            "<class 'pandas.core.frame.DataFrame'>\n",
            "RangeIndex: 20640 entries, 0 to 20639\n",
            "Data columns (total 9 columns):\n",
            " #   Column       Non-Null Count  Dtype  \n",
            "---  ------       --------------  -----  \n",
            " 0   MedInc       20640 non-null  float64\n",
            " 1   HouseAge     20640 non-null  float64\n",
            " 2   AveRooms     20640 non-null  float64\n",
            " 3   AveBedrms    20640 non-null  float64\n",
            " 4   Population   20640 non-null  float64\n",
            " 5   AveOccup     20640 non-null  float64\n",
            " 6   Latitude     20640 non-null  float64\n",
            " 7   Longitude    20640 non-null  float64\n",
            " 8   MedHouseVal  20640 non-null  float64\n",
            "dtypes: float64(9)\n",
            "memory usage: 1.4 MB\n",
            "None\n",
            "             MedInc      HouseAge      AveRooms     AveBedrms    Population  \\\n",
            "count  20640.000000  20640.000000  20640.000000  20640.000000  20640.000000   \n",
            "mean       3.870671     28.639486      5.429000      1.096675   1425.476744   \n",
            "std        1.899822     12.585558      2.474173      0.473911   1132.462122   \n",
            "min        0.499900      1.000000      0.846154      0.333333      3.000000   \n",
            "25%        2.563400     18.000000      4.440716      1.006079    787.000000   \n",
            "50%        3.534800     29.000000      5.229129      1.048780   1166.000000   \n",
            "75%        4.743250     37.000000      6.052381      1.099526   1725.000000   \n",
            "max       15.000100     52.000000    141.909091     34.066667  35682.000000   \n",
            "\n",
            "           AveOccup      Latitude     Longitude   MedHouseVal  \n",
            "count  20640.000000  20640.000000  20640.000000  20640.000000  \n",
            "mean       3.070655     35.631861   -119.569704      2.068558  \n",
            "std       10.386050      2.135952      2.003532      1.153956  \n",
            "min        0.692308     32.540000   -124.350000      0.149990  \n",
            "25%        2.429741     33.930000   -121.800000      1.196000  \n",
            "50%        2.818116     34.260000   -118.490000      1.797000  \n",
            "75%        3.282261     37.710000   -118.010000      2.647250  \n",
            "max     1243.333333     41.950000   -114.310000      5.000010  \n"
          ]
        }
      ]
    },
    {
      "cell_type": "markdown",
      "source": [
        "Исходя из представленной статистики, можно сделать следующие выводы:\n",
        "\n",
        "1. Разнообразие данных:\n",
        "   - Данные охватывают широкий диапазон значений по всем признакам, что указывает на разнообразие характеристик районов, включенных в набор данных.\n",
        "   - Например, средний доход (MedInc) варьируется от 0.5 до 15.0, а медианная стоимость домов (MedHouseVal) - от 0.15 до 5.0, что отражает значительные различия в экономическом статусе районов.\n",
        "   - Возраст зданий (HouseAge) также демонстрирует большой диапазон - от 1 до 52 лет, указывая на разнообразие в архитектурном облике и времени строительства.\n",
        "\n",
        "2. Центральные тенденции:\n",
        "   - Средние значения большинства признаков находятся в ожидаемом диапазоне для жилых районов, таких как средний доход, количество комнат и спален, плотность населения.\n",
        "   - Среднее количество комнат (AveRooms) составляет 5.43, а спален (AveBedrms) - 1.10, что соответствует типичным для жилых зданий характеристикам.\n",
        "   - Средняя плотность населения (AveOccup) - 3.07, что также укладывается в диапазон средних значений для жилых районов.\n",
        "\n",
        "3. Вариативность:\n",
        "   - Стандартные отклонения большинства признаков имеют существенные значения, указывая на значительную вариативность в данных.\n",
        "   - Например, стандартное отклонение дохода (MedInc) составляет 1.9, а стандартное отклонение медианной стоимости домов (MedHouseVal) - 1.15, что говорит о значительном разбросе этих показателей в выборке.\n",
        "   - Высокая вариативность данных предполагает возможность выявления интересных закономерностей и различий между районами при дальнейшем анализе.\n",
        "\n",
        "4. Выбросы:\n",
        "   - Присутствие некоторых экстремальных значений, таких как максимальное количество комнат 141, спален 34 или количество прожывающих в доме (квартире) 1243.33, указывает на возможное наличие выбросов в данных.\n",
        "   - Необходимо более детально исследовать такие наблюдения, чтобы понять, являются ли они ошибками или отражают реальные особенности некоторых районов.\n"
      ],
      "metadata": {
        "id": "k_jWfkdBFkhr"
      }
    },
    {
      "cell_type": "markdown",
      "source": [
        "# 2. Проводим первичный анализ:"
      ],
      "metadata": {
        "id": "Xfv3UE046fj1"
      }
    },
    {
      "cell_type": "markdown",
      "source": [
        "## a. Проверяем данные на наличие пропусков и удаляем их, если они есть."
      ],
      "metadata": {
        "id": "sCZF4QknLpc-"
      }
    },
    {
      "cell_type": "code",
      "source": [
        "data = df"
      ],
      "metadata": {
        "id": "-vUPHB-mPDfB"
      },
      "execution_count": 75,
      "outputs": []
    },
    {
      "cell_type": "code",
      "source": [
        "data"
      ],
      "metadata": {
        "colab": {
          "base_uri": "https://localhost:8080/",
          "height": 423
        },
        "id": "tNZbjX0oFL4p",
        "outputId": "d242a3b5-3847-44a9-cbab-717e3f776e64"
      },
      "execution_count": 76,
      "outputs": [
        {
          "output_type": "execute_result",
          "data": {
            "text/plain": [
              "       MedInc  HouseAge  AveRooms  AveBedrms  Population  AveOccup  Latitude  \\\n",
              "0      8.3252      41.0  6.984127   1.023810       322.0  2.555556     37.88   \n",
              "1      8.3014      21.0  6.238137   0.971880      2401.0  2.109842     37.86   \n",
              "2      7.2574      52.0  8.288136   1.073446       496.0  2.802260     37.85   \n",
              "3      5.6431      52.0  5.817352   1.073059       558.0  2.547945     37.85   \n",
              "4      3.8462      52.0  6.281853   1.081081       565.0  2.181467     37.85   \n",
              "...       ...       ...       ...        ...         ...       ...       ...   \n",
              "20635  1.5603      25.0  5.045455   1.133333       845.0  2.560606     39.48   \n",
              "20636  2.5568      18.0  6.114035   1.315789       356.0  3.122807     39.49   \n",
              "20637  1.7000      17.0  5.205543   1.120092      1007.0  2.325635     39.43   \n",
              "20638  1.8672      18.0  5.329513   1.171920       741.0  2.123209     39.43   \n",
              "20639  2.3886      16.0  5.254717   1.162264      1387.0  2.616981     39.37   \n",
              "\n",
              "       Longitude  MedHouseVal  \n",
              "0        -122.23        4.526  \n",
              "1        -122.22        3.585  \n",
              "2        -122.24        3.521  \n",
              "3        -122.25        3.413  \n",
              "4        -122.25        3.422  \n",
              "...          ...          ...  \n",
              "20635    -121.09        0.781  \n",
              "20636    -121.21        0.771  \n",
              "20637    -121.22        0.923  \n",
              "20638    -121.32        0.847  \n",
              "20639    -121.24        0.894  \n",
              "\n",
              "[20640 rows x 9 columns]"
            ],
            "text/html": [
              "\n",
              "  <div id=\"df-6fa873f7-4d4c-4ec2-870e-0f3a1d3adfc8\" class=\"colab-df-container\">\n",
              "    <div>\n",
              "<style scoped>\n",
              "    .dataframe tbody tr th:only-of-type {\n",
              "        vertical-align: middle;\n",
              "    }\n",
              "\n",
              "    .dataframe tbody tr th {\n",
              "        vertical-align: top;\n",
              "    }\n",
              "\n",
              "    .dataframe thead th {\n",
              "        text-align: right;\n",
              "    }\n",
              "</style>\n",
              "<table border=\"1\" class=\"dataframe\">\n",
              "  <thead>\n",
              "    <tr style=\"text-align: right;\">\n",
              "      <th></th>\n",
              "      <th>MedInc</th>\n",
              "      <th>HouseAge</th>\n",
              "      <th>AveRooms</th>\n",
              "      <th>AveBedrms</th>\n",
              "      <th>Population</th>\n",
              "      <th>AveOccup</th>\n",
              "      <th>Latitude</th>\n",
              "      <th>Longitude</th>\n",
              "      <th>MedHouseVal</th>\n",
              "    </tr>\n",
              "  </thead>\n",
              "  <tbody>\n",
              "    <tr>\n",
              "      <th>0</th>\n",
              "      <td>8.3252</td>\n",
              "      <td>41.0</td>\n",
              "      <td>6.984127</td>\n",
              "      <td>1.023810</td>\n",
              "      <td>322.0</td>\n",
              "      <td>2.555556</td>\n",
              "      <td>37.88</td>\n",
              "      <td>-122.23</td>\n",
              "      <td>4.526</td>\n",
              "    </tr>\n",
              "    <tr>\n",
              "      <th>1</th>\n",
              "      <td>8.3014</td>\n",
              "      <td>21.0</td>\n",
              "      <td>6.238137</td>\n",
              "      <td>0.971880</td>\n",
              "      <td>2401.0</td>\n",
              "      <td>2.109842</td>\n",
              "      <td>37.86</td>\n",
              "      <td>-122.22</td>\n",
              "      <td>3.585</td>\n",
              "    </tr>\n",
              "    <tr>\n",
              "      <th>2</th>\n",
              "      <td>7.2574</td>\n",
              "      <td>52.0</td>\n",
              "      <td>8.288136</td>\n",
              "      <td>1.073446</td>\n",
              "      <td>496.0</td>\n",
              "      <td>2.802260</td>\n",
              "      <td>37.85</td>\n",
              "      <td>-122.24</td>\n",
              "      <td>3.521</td>\n",
              "    </tr>\n",
              "    <tr>\n",
              "      <th>3</th>\n",
              "      <td>5.6431</td>\n",
              "      <td>52.0</td>\n",
              "      <td>5.817352</td>\n",
              "      <td>1.073059</td>\n",
              "      <td>558.0</td>\n",
              "      <td>2.547945</td>\n",
              "      <td>37.85</td>\n",
              "      <td>-122.25</td>\n",
              "      <td>3.413</td>\n",
              "    </tr>\n",
              "    <tr>\n",
              "      <th>4</th>\n",
              "      <td>3.8462</td>\n",
              "      <td>52.0</td>\n",
              "      <td>6.281853</td>\n",
              "      <td>1.081081</td>\n",
              "      <td>565.0</td>\n",
              "      <td>2.181467</td>\n",
              "      <td>37.85</td>\n",
              "      <td>-122.25</td>\n",
              "      <td>3.422</td>\n",
              "    </tr>\n",
              "    <tr>\n",
              "      <th>...</th>\n",
              "      <td>...</td>\n",
              "      <td>...</td>\n",
              "      <td>...</td>\n",
              "      <td>...</td>\n",
              "      <td>...</td>\n",
              "      <td>...</td>\n",
              "      <td>...</td>\n",
              "      <td>...</td>\n",
              "      <td>...</td>\n",
              "    </tr>\n",
              "    <tr>\n",
              "      <th>20635</th>\n",
              "      <td>1.5603</td>\n",
              "      <td>25.0</td>\n",
              "      <td>5.045455</td>\n",
              "      <td>1.133333</td>\n",
              "      <td>845.0</td>\n",
              "      <td>2.560606</td>\n",
              "      <td>39.48</td>\n",
              "      <td>-121.09</td>\n",
              "      <td>0.781</td>\n",
              "    </tr>\n",
              "    <tr>\n",
              "      <th>20636</th>\n",
              "      <td>2.5568</td>\n",
              "      <td>18.0</td>\n",
              "      <td>6.114035</td>\n",
              "      <td>1.315789</td>\n",
              "      <td>356.0</td>\n",
              "      <td>3.122807</td>\n",
              "      <td>39.49</td>\n",
              "      <td>-121.21</td>\n",
              "      <td>0.771</td>\n",
              "    </tr>\n",
              "    <tr>\n",
              "      <th>20637</th>\n",
              "      <td>1.7000</td>\n",
              "      <td>17.0</td>\n",
              "      <td>5.205543</td>\n",
              "      <td>1.120092</td>\n",
              "      <td>1007.0</td>\n",
              "      <td>2.325635</td>\n",
              "      <td>39.43</td>\n",
              "      <td>-121.22</td>\n",
              "      <td>0.923</td>\n",
              "    </tr>\n",
              "    <tr>\n",
              "      <th>20638</th>\n",
              "      <td>1.8672</td>\n",
              "      <td>18.0</td>\n",
              "      <td>5.329513</td>\n",
              "      <td>1.171920</td>\n",
              "      <td>741.0</td>\n",
              "      <td>2.123209</td>\n",
              "      <td>39.43</td>\n",
              "      <td>-121.32</td>\n",
              "      <td>0.847</td>\n",
              "    </tr>\n",
              "    <tr>\n",
              "      <th>20639</th>\n",
              "      <td>2.3886</td>\n",
              "      <td>16.0</td>\n",
              "      <td>5.254717</td>\n",
              "      <td>1.162264</td>\n",
              "      <td>1387.0</td>\n",
              "      <td>2.616981</td>\n",
              "      <td>39.37</td>\n",
              "      <td>-121.24</td>\n",
              "      <td>0.894</td>\n",
              "    </tr>\n",
              "  </tbody>\n",
              "</table>\n",
              "<p>20640 rows × 9 columns</p>\n",
              "</div>\n",
              "    <div class=\"colab-df-buttons\">\n",
              "\n",
              "  <div class=\"colab-df-container\">\n",
              "    <button class=\"colab-df-convert\" onclick=\"convertToInteractive('df-6fa873f7-4d4c-4ec2-870e-0f3a1d3adfc8')\"\n",
              "            title=\"Convert this dataframe to an interactive table.\"\n",
              "            style=\"display:none;\">\n",
              "\n",
              "  <svg xmlns=\"http://www.w3.org/2000/svg\" height=\"24px\" viewBox=\"0 -960 960 960\">\n",
              "    <path d=\"M120-120v-720h720v720H120Zm60-500h600v-160H180v160Zm220 220h160v-160H400v160Zm0 220h160v-160H400v160ZM180-400h160v-160H180v160Zm440 0h160v-160H620v160ZM180-180h160v-160H180v160Zm440 0h160v-160H620v160Z\"/>\n",
              "  </svg>\n",
              "    </button>\n",
              "\n",
              "  <style>\n",
              "    .colab-df-container {\n",
              "      display:flex;\n",
              "      gap: 12px;\n",
              "    }\n",
              "\n",
              "    .colab-df-convert {\n",
              "      background-color: #E8F0FE;\n",
              "      border: none;\n",
              "      border-radius: 50%;\n",
              "      cursor: pointer;\n",
              "      display: none;\n",
              "      fill: #1967D2;\n",
              "      height: 32px;\n",
              "      padding: 0 0 0 0;\n",
              "      width: 32px;\n",
              "    }\n",
              "\n",
              "    .colab-df-convert:hover {\n",
              "      background-color: #E2EBFA;\n",
              "      box-shadow: 0px 1px 2px rgba(60, 64, 67, 0.3), 0px 1px 3px 1px rgba(60, 64, 67, 0.15);\n",
              "      fill: #174EA6;\n",
              "    }\n",
              "\n",
              "    .colab-df-buttons div {\n",
              "      margin-bottom: 4px;\n",
              "    }\n",
              "\n",
              "    [theme=dark] .colab-df-convert {\n",
              "      background-color: #3B4455;\n",
              "      fill: #D2E3FC;\n",
              "    }\n",
              "\n",
              "    [theme=dark] .colab-df-convert:hover {\n",
              "      background-color: #434B5C;\n",
              "      box-shadow: 0px 1px 3px 1px rgba(0, 0, 0, 0.15);\n",
              "      filter: drop-shadow(0px 1px 2px rgba(0, 0, 0, 0.3));\n",
              "      fill: #FFFFFF;\n",
              "    }\n",
              "  </style>\n",
              "\n",
              "    <script>\n",
              "      const buttonEl =\n",
              "        document.querySelector('#df-6fa873f7-4d4c-4ec2-870e-0f3a1d3adfc8 button.colab-df-convert');\n",
              "      buttonEl.style.display =\n",
              "        google.colab.kernel.accessAllowed ? 'block' : 'none';\n",
              "\n",
              "      async function convertToInteractive(key) {\n",
              "        const element = document.querySelector('#df-6fa873f7-4d4c-4ec2-870e-0f3a1d3adfc8');\n",
              "        const dataTable =\n",
              "          await google.colab.kernel.invokeFunction('convertToInteractive',\n",
              "                                                    [key], {});\n",
              "        if (!dataTable) return;\n",
              "\n",
              "        const docLinkHtml = 'Like what you see? Visit the ' +\n",
              "          '<a target=\"_blank\" href=https://colab.research.google.com/notebooks/data_table.ipynb>data table notebook</a>'\n",
              "          + ' to learn more about interactive tables.';\n",
              "        element.innerHTML = '';\n",
              "        dataTable['output_type'] = 'display_data';\n",
              "        await google.colab.output.renderOutput(dataTable, element);\n",
              "        const docLink = document.createElement('div');\n",
              "        docLink.innerHTML = docLinkHtml;\n",
              "        element.appendChild(docLink);\n",
              "      }\n",
              "    </script>\n",
              "  </div>\n",
              "\n",
              "\n",
              "<div id=\"df-4431cf8b-1bb4-49a7-91c3-d4d043454094\">\n",
              "  <button class=\"colab-df-quickchart\" onclick=\"quickchart('df-4431cf8b-1bb4-49a7-91c3-d4d043454094')\"\n",
              "            title=\"Suggest charts\"\n",
              "            style=\"display:none;\">\n",
              "\n",
              "<svg xmlns=\"http://www.w3.org/2000/svg\" height=\"24px\"viewBox=\"0 0 24 24\"\n",
              "     width=\"24px\">\n",
              "    <g>\n",
              "        <path d=\"M19 3H5c-1.1 0-2 .9-2 2v14c0 1.1.9 2 2 2h14c1.1 0 2-.9 2-2V5c0-1.1-.9-2-2-2zM9 17H7v-7h2v7zm4 0h-2V7h2v10zm4 0h-2v-4h2v4z\"/>\n",
              "    </g>\n",
              "</svg>\n",
              "  </button>\n",
              "\n",
              "<style>\n",
              "  .colab-df-quickchart {\n",
              "      --bg-color: #E8F0FE;\n",
              "      --fill-color: #1967D2;\n",
              "      --hover-bg-color: #E2EBFA;\n",
              "      --hover-fill-color: #174EA6;\n",
              "      --disabled-fill-color: #AAA;\n",
              "      --disabled-bg-color: #DDD;\n",
              "  }\n",
              "\n",
              "  [theme=dark] .colab-df-quickchart {\n",
              "      --bg-color: #3B4455;\n",
              "      --fill-color: #D2E3FC;\n",
              "      --hover-bg-color: #434B5C;\n",
              "      --hover-fill-color: #FFFFFF;\n",
              "      --disabled-bg-color: #3B4455;\n",
              "      --disabled-fill-color: #666;\n",
              "  }\n",
              "\n",
              "  .colab-df-quickchart {\n",
              "    background-color: var(--bg-color);\n",
              "    border: none;\n",
              "    border-radius: 50%;\n",
              "    cursor: pointer;\n",
              "    display: none;\n",
              "    fill: var(--fill-color);\n",
              "    height: 32px;\n",
              "    padding: 0;\n",
              "    width: 32px;\n",
              "  }\n",
              "\n",
              "  .colab-df-quickchart:hover {\n",
              "    background-color: var(--hover-bg-color);\n",
              "    box-shadow: 0 1px 2px rgba(60, 64, 67, 0.3), 0 1px 3px 1px rgba(60, 64, 67, 0.15);\n",
              "    fill: var(--button-hover-fill-color);\n",
              "  }\n",
              "\n",
              "  .colab-df-quickchart-complete:disabled,\n",
              "  .colab-df-quickchart-complete:disabled:hover {\n",
              "    background-color: var(--disabled-bg-color);\n",
              "    fill: var(--disabled-fill-color);\n",
              "    box-shadow: none;\n",
              "  }\n",
              "\n",
              "  .colab-df-spinner {\n",
              "    border: 2px solid var(--fill-color);\n",
              "    border-color: transparent;\n",
              "    border-bottom-color: var(--fill-color);\n",
              "    animation:\n",
              "      spin 1s steps(1) infinite;\n",
              "  }\n",
              "\n",
              "  @keyframes spin {\n",
              "    0% {\n",
              "      border-color: transparent;\n",
              "      border-bottom-color: var(--fill-color);\n",
              "      border-left-color: var(--fill-color);\n",
              "    }\n",
              "    20% {\n",
              "      border-color: transparent;\n",
              "      border-left-color: var(--fill-color);\n",
              "      border-top-color: var(--fill-color);\n",
              "    }\n",
              "    30% {\n",
              "      border-color: transparent;\n",
              "      border-left-color: var(--fill-color);\n",
              "      border-top-color: var(--fill-color);\n",
              "      border-right-color: var(--fill-color);\n",
              "    }\n",
              "    40% {\n",
              "      border-color: transparent;\n",
              "      border-right-color: var(--fill-color);\n",
              "      border-top-color: var(--fill-color);\n",
              "    }\n",
              "    60% {\n",
              "      border-color: transparent;\n",
              "      border-right-color: var(--fill-color);\n",
              "    }\n",
              "    80% {\n",
              "      border-color: transparent;\n",
              "      border-right-color: var(--fill-color);\n",
              "      border-bottom-color: var(--fill-color);\n",
              "    }\n",
              "    90% {\n",
              "      border-color: transparent;\n",
              "      border-bottom-color: var(--fill-color);\n",
              "    }\n",
              "  }\n",
              "</style>\n",
              "\n",
              "  <script>\n",
              "    async function quickchart(key) {\n",
              "      const quickchartButtonEl =\n",
              "        document.querySelector('#' + key + ' button');\n",
              "      quickchartButtonEl.disabled = true;  // To prevent multiple clicks.\n",
              "      quickchartButtonEl.classList.add('colab-df-spinner');\n",
              "      try {\n",
              "        const charts = await google.colab.kernel.invokeFunction(\n",
              "            'suggestCharts', [key], {});\n",
              "      } catch (error) {\n",
              "        console.error('Error during call to suggestCharts:', error);\n",
              "      }\n",
              "      quickchartButtonEl.classList.remove('colab-df-spinner');\n",
              "      quickchartButtonEl.classList.add('colab-df-quickchart-complete');\n",
              "    }\n",
              "    (() => {\n",
              "      let quickchartButtonEl =\n",
              "        document.querySelector('#df-4431cf8b-1bb4-49a7-91c3-d4d043454094 button');\n",
              "      quickchartButtonEl.style.display =\n",
              "        google.colab.kernel.accessAllowed ? 'block' : 'none';\n",
              "    })();\n",
              "  </script>\n",
              "</div>\n",
              "    </div>\n",
              "  </div>\n"
            ],
            "application/vnd.google.colaboratory.intrinsic+json": {
              "type": "dataframe",
              "variable_name": "df",
              "summary": "{\n  \"name\": \"df\",\n  \"rows\": 20640,\n  \"fields\": [\n    {\n      \"column\": \"MedInc\",\n      \"properties\": {\n        \"dtype\": \"number\",\n        \"std\": 1.8998217179452688,\n        \"min\": 0.4999,\n        \"max\": 15.0001,\n        \"num_unique_values\": 12928,\n        \"samples\": [\n          5.0286,\n          2.0433,\n          6.1228\n        ],\n        \"semantic_type\": \"\",\n        \"description\": \"\"\n      }\n    },\n    {\n      \"column\": \"HouseAge\",\n      \"properties\": {\n        \"dtype\": \"number\",\n        \"std\": 12.58555761211165,\n        \"min\": 1.0,\n        \"max\": 52.0,\n        \"num_unique_values\": 52,\n        \"samples\": [\n          35.0,\n          25.0,\n          7.0\n        ],\n        \"semantic_type\": \"\",\n        \"description\": \"\"\n      }\n    },\n    {\n      \"column\": \"AveRooms\",\n      \"properties\": {\n        \"dtype\": \"number\",\n        \"std\": 2.4741731394243187,\n        \"min\": 0.8461538461538461,\n        \"max\": 141.9090909090909,\n        \"num_unique_values\": 19392,\n        \"samples\": [\n          6.111269614835948,\n          5.912820512820513,\n          5.79245283018868\n        ],\n        \"semantic_type\": \"\",\n        \"description\": \"\"\n      }\n    },\n    {\n      \"column\": \"AveBedrms\",\n      \"properties\": {\n        \"dtype\": \"number\",\n        \"std\": 0.4739108567954661,\n        \"min\": 0.3333333333333333,\n        \"max\": 34.06666666666667,\n        \"num_unique_values\": 14233,\n        \"samples\": [\n          0.9906542056074766,\n          1.112099644128114,\n          1.0398230088495577\n        ],\n        \"semantic_type\": \"\",\n        \"description\": \"\"\n      }\n    },\n    {\n      \"column\": \"Population\",\n      \"properties\": {\n        \"dtype\": \"number\",\n        \"std\": 1132.462121765341,\n        \"min\": 3.0,\n        \"max\": 35682.0,\n        \"num_unique_values\": 3888,\n        \"samples\": [\n          4169.0,\n          636.0,\n          3367.0\n        ],\n        \"semantic_type\": \"\",\n        \"description\": \"\"\n      }\n    },\n    {\n      \"column\": \"AveOccup\",\n      \"properties\": {\n        \"dtype\": \"number\",\n        \"std\": 10.386049562213618,\n        \"min\": 0.6923076923076923,\n        \"max\": 1243.3333333333333,\n        \"num_unique_values\": 18841,\n        \"samples\": [\n          2.693979933110368,\n          3.559375,\n          3.297082228116711\n        ],\n        \"semantic_type\": \"\",\n        \"description\": \"\"\n      }\n    },\n    {\n      \"column\": \"Latitude\",\n      \"properties\": {\n        \"dtype\": \"number\",\n        \"std\": 2.1359523974571153,\n        \"min\": 32.54,\n        \"max\": 41.95,\n        \"num_unique_values\": 862,\n        \"samples\": [\n          33.7,\n          34.41,\n          38.24\n        ],\n        \"semantic_type\": \"\",\n        \"description\": \"\"\n      }\n    },\n    {\n      \"column\": \"Longitude\",\n      \"properties\": {\n        \"dtype\": \"number\",\n        \"std\": 2.0035317235025882,\n        \"min\": -124.35,\n        \"max\": -114.31,\n        \"num_unique_values\": 844,\n        \"samples\": [\n          -118.63,\n          -119.86,\n          -121.26\n        ],\n        \"semantic_type\": \"\",\n        \"description\": \"\"\n      }\n    },\n    {\n      \"column\": \"MedHouseVal\",\n      \"properties\": {\n        \"dtype\": \"number\",\n        \"std\": 1.1539561587441387,\n        \"min\": 0.14999,\n        \"max\": 5.00001,\n        \"num_unique_values\": 3842,\n        \"samples\": [\n          1.943,\n          3.79,\n          2.301\n        ],\n        \"semantic_type\": \"\",\n        \"description\": \"\"\n      }\n    }\n  ]\n}"
            }
          },
          "metadata": {},
          "execution_count": 76
        }
      ]
    },
    {
      "cell_type": "code",
      "source": [
        "# Проверяем, есть ли столбцы типа 'object'\n",
        "if data.select_dtypes(include=['object']).shape[1] == 0:\n",
        "    print(\"В данных нет столбцов типа 'object'.\")\n",
        "else:\n",
        "    # Анализ пропущенных значений в столбцах типа 'object'\n",
        "    for column in data.select_dtypes(include=['object']).columns:\n",
        "        nan_values = data[column].isnull().sum()  # Подсчет числа пропущенных значений (NaN)\n",
        "        unique_values = data[column].unique()     # Получение уникальных значений в столбце\n",
        "\n",
        "        # Ограничение вывода уникальных значений до первых 20\n",
        "        unique_values = unique_values[:20]\n",
        "\n",
        "        print(f\"В столбце '{column}' есть {nan_values} пропущенных значений (NaN)\")\n",
        "        print(f\"Уникальные значения в столбце '{column}': {unique_values}\\n\")"
      ],
      "metadata": {
        "id": "lbk2UTot1xHl",
        "outputId": "059e7628-9565-44ff-e1f0-132993d83666",
        "colab": {
          "base_uri": "https://localhost:8080/"
        }
      },
      "execution_count": 77,
      "outputs": [
        {
          "output_type": "stream",
          "name": "stdout",
          "text": [
            "В данных нет столбцов типа 'object'.\n"
          ]
        }
      ]
    },
    {
      "cell_type": "code",
      "source": [
        "# Пропущенные значения в != 'object':\n",
        "for column in data.columns:\n",
        "    if data[column].dtype != 'object':\n",
        "        nan_values = data[column].isnull().sum()  # Подсчет числа пропущенных значений (NaN)\n",
        "        unique_values = data[column].unique()     # Получение уникальных значений в столбце\n",
        "\n",
        "        print(f\"В столбце '{column}' есть {nan_values} пропущенных значений (NaN)\")\n",
        "        print(f\"Уникальные значения в столбце '{column}': {unique_values[:10]}...\\n\")  # Отображает первые 10 уникальных значений для краткости"
      ],
      "metadata": {
        "colab": {
          "base_uri": "https://localhost:8080/"
        },
        "id": "6mrCAkjOPNYw",
        "outputId": "80ab6941-d1ab-4563-8b65-b22d70f8392e"
      },
      "execution_count": 78,
      "outputs": [
        {
          "output_type": "stream",
          "name": "stdout",
          "text": [
            "В столбце 'MedInc' есть 0 пропущенных значений (NaN)\n",
            "Уникальные значения в столбце 'MedInc': [8.3252 8.3014 7.2574 5.6431 3.8462 4.0368 3.6591 3.12   2.0804 3.6912]...\n",
            "\n",
            "В столбце 'HouseAge' есть 0 пропущенных значений (NaN)\n",
            "Уникальные значения в столбце 'HouseAge': [41. 21. 52. 42. 50. 40. 49. 48. 51. 43.]...\n",
            "\n",
            "В столбце 'AveRooms' есть 0 пропущенных значений (NaN)\n",
            "Уникальные значения в столбце 'AveRooms': [6.98412698 6.23813708 8.28813559 5.8173516  6.28185328 4.76165803\n",
            " 4.93190661 4.79752705 4.29411765 4.97058824]...\n",
            "\n",
            "В столбце 'AveBedrms' есть 0 пропущенных значений (NaN)\n",
            "Уникальные значения в столбце 'AveBedrms': [1.02380952 0.97188049 1.07344633 1.07305936 1.08108108 1.10362694\n",
            " 0.95136187 1.0618238  1.11764706 0.99019608]...\n",
            "\n",
            "В столбце 'Population' есть 0 пропущенных значений (NaN)\n",
            "Уникальные значения в столбце 'Population': [ 322. 2401.  496.  558.  565.  413. 1094. 1157. 1206. 1551.]...\n",
            "\n",
            "В столбце 'AveOccup' есть 0 пропущенных значений (NaN)\n",
            "Уникальные значения в столбце 'AveOccup': [2.55555556 2.10984183 2.80225989 2.54794521 2.18146718 2.13989637\n",
            " 2.12840467 1.78825348 2.02689076 2.17226891]...\n",
            "\n",
            "В столбце 'Latitude' есть 0 пропущенных значений (NaN)\n",
            "Уникальные значения в столбце 'Latitude': [37.88 37.86 37.85 37.84 37.83 37.82 37.81 37.8  37.79 37.77]...\n",
            "\n",
            "В столбце 'Longitude' есть 0 пропущенных значений (NaN)\n",
            "Уникальные значения в столбце 'Longitude': [-122.23 -122.22 -122.24 -122.25 -122.26 -122.27 -122.28 -122.29 -122.3\n",
            " -122.21]...\n",
            "\n",
            "В столбце 'MedHouseVal' есть 0 пропущенных значений (NaN)\n",
            "Уникальные значения в столбце 'MedHouseVal': [4.526 3.585 3.521 3.413 3.422 2.697 2.992 2.414 2.267 2.611]...\n",
            "\n"
          ]
        }
      ]
    },
    {
      "cell_type": "code",
      "source": [
        "data.isna().sum()"
      ],
      "metadata": {
        "colab": {
          "base_uri": "https://localhost:8080/"
        },
        "id": "OfaEVAPZu2hY",
        "outputId": "d94bd079-38af-4351-8ab7-effca2d51b92"
      },
      "execution_count": 79,
      "outputs": [
        {
          "output_type": "execute_result",
          "data": {
            "text/plain": [
              "MedInc         0\n",
              "HouseAge       0\n",
              "AveRooms       0\n",
              "AveBedrms      0\n",
              "Population     0\n",
              "AveOccup       0\n",
              "Latitude       0\n",
              "Longitude      0\n",
              "MedHouseVal    0\n",
              "dtype: int64"
            ]
          },
          "metadata": {},
          "execution_count": 79
        }
      ]
    },
    {
      "cell_type": "markdown",
      "source": [
        "проверим спец символы"
      ],
      "metadata": {
        "id": "KAFfwYBVQzJw"
      }
    },
    {
      "cell_type": "code",
      "source": [
        "# Поиск Специальных символов\n",
        "import re\n",
        "\n",
        "# Перебор всех столбцов в датасете\n",
        "for column in data.columns:\n",
        "    # Проверка типа данных столбца\n",
        "    if data[column].dtype == 'object':\n",
        "        special_char_found = False\n",
        "        for value in data[column]:\n",
        "            if isinstance(value, str):  # Проверка, что значение является строкой\n",
        "                if value.strip() == '' or value.strip() == '-' or value.strip() == '.':\n",
        "                    print(f\"Строка только с символом '-', '.' или '' в столбце '{column}': {value}\")\n",
        "                else:\n",
        "                    result = re.search(r\"[^\\w\\s]\", str(value))  # Поиск символов, не являющихся буквами, цифрами и пробелами\n",
        "                    if result:\n",
        "                        special_char = result.group()\n",
        "                        # Проверка на исключение символов\n",
        "                        if special_char not in [\"'\", \"/\", \"-\", \".\", \"\\u0329\", \",\", \"(\", \")\"]:\n",
        "                            special_char_found = True\n",
        "                            print(f\"Первое значение со специальным символом в '{column}': {value}, символ: {special_char}\")\n",
        "                            break  # Прерываем цикл после нахождения первого значения\n",
        "            else:\n",
        "                print(f\"Обнаружено значение типа float в столбце '{column}': {value}\")\n",
        "\n",
        "        if not special_char_found:\n",
        "            if data[column].dtype == 'object' and all(special_char not in data[column].values for special_char in [\"'\", \"/\", \"-\", \".\", \"\\u0329\"]):\n",
        "                print(f\"Специальных символов в столбце '{column}' не найдено\")\n",
        "    else:\n",
        "        # Добавьте другие проверки для нестроковых столбцов, если необходимо\n",
        "        print(f\"Специальных символов в столбце '{column}' не найдено\")\n"
      ],
      "metadata": {
        "colab": {
          "base_uri": "https://localhost:8080/"
        },
        "id": "ghDvjEwQQ3NX",
        "outputId": "439abdc2-6e6f-4480-e6d7-f764369a4aed"
      },
      "execution_count": 80,
      "outputs": [
        {
          "output_type": "stream",
          "name": "stdout",
          "text": [
            "Специальных символов в столбце 'MedInc' не найдено\n",
            "Специальных символов в столбце 'HouseAge' не найдено\n",
            "Специальных символов в столбце 'AveRooms' не найдено\n",
            "Специальных символов в столбце 'AveBedrms' не найдено\n",
            "Специальных символов в столбце 'Population' не найдено\n",
            "Специальных символов в столбце 'AveOccup' не найдено\n",
            "Специальных символов в столбце 'Latitude' не найдено\n",
            "Специальных символов в столбце 'Longitude' не найдено\n",
            "Специальных символов в столбце 'MedHouseVal' не найдено\n"
          ]
        }
      ]
    },
    {
      "cell_type": "markdown",
      "source": [
        "Можно сделать следующие выводы:\n",
        "\n",
        "1. В данных нет столбцов типа 'object', поэтому первая часть кода, анализирующая пропущенные значения в этих столбцах, не выполняется.\n",
        "\n",
        "2. Во всех столбцах, нет пропущенных значений (NaN).\n",
        "\n",
        "3. В данных также отсутствуют специальные символы (кроме '-', '.', ',', '/', '(', ')') в столбцах любого типа.\n",
        "\n",
        "4. Код адаптирован для работы как с данными, содержащими столбцы типа 'object', так и с данными, где таких столбцов нет. Это обеспечивает гибкость и надежность работы с разными наборами данных."
      ],
      "metadata": {
        "id": "S5ukMSbJYcUX"
      }
    },
    {
      "cell_type": "markdown",
      "source": [
        "## b. Нормализуем один из признаков."
      ],
      "metadata": {
        "id": "ULqBbetR6V9N"
      }
    },
    {
      "cell_type": "markdown",
      "source": [
        "Сначала давайте создадим модель без нормализации 'MedInc':"
      ],
      "metadata": {
        "id": "u0FN6UxVROlu"
      }
    },
    {
      "cell_type": "markdown",
      "source": [
        "почему именно признак 'MedInc' (средний доход) нормализуется, а не 'HouseAge' (возраст жилья).\n",
        "\n",
        "Основная причина состоит в различиях в характеристиках этих двух признаков:\n",
        "\n",
        "1. 'MedInc' (средний доход):\n",
        "   - Средний доход, как правило, имеет широкий диапазон значений, от низких до очень высоких. Это связано с неравномерным распределением доходов в обществе.\n",
        "   - Из-за этого широкого диапазона значений, 'MedInc' может сильно влиять на модель регрессии, затмевая влияние других признаков.\n",
        "   - Нормализация 'MedInc' помогает привести этот признак к более стандартизованному виду, что улучшает устойчивость и производительность модели.\n",
        "\n",
        "2. 'HouseAge' (возраст жилья):\n",
        "   - Возраст жилья, как правило, имеет более ограниченный диапазон значений, часто в пределах нескольких десятков лет.\n",
        "   - Этот признак, в отличие от дохода, не имеет настолько широкого разброса значений, который мог бы доминировать в модели.\n",
        "   - Поэтому нормализация 'HouseAge' может быть менее критичной, так как его диапазон значений уже относительно стандартизован.\n",
        "\n",
        "Таким образом, нормализация 'MedInc' является более важной, так как этот признак имеет более широкий диапазон значений, который может сильно влиять на модель регрессии."
      ],
      "metadata": {
        "id": "phoNNt3wNUnK"
      }
    },
    {
      "cell_type": "code",
      "source": [
        "import pandas as pd\n",
        "from sklearn.model_selection import train_test_split\n",
        "from sklearn.linear_model import LinearRegression\n",
        "\n",
        "# Создание матрицы признаков X, включая 'MedInc'\n",
        "X = data[['HouseAge', 'AveRooms', 'AveBedrms', 'Population', 'AveOccup', 'Latitude', 'Longitude', 'MedInc']]\n",
        "у = data['MedHouseVal']\n",
        "\n",
        "# Разделение данных на обучающую и тестовую выборки\n",
        "X_train, X_test, y_train, y_test = train_test_split(X, у, test_size=0.2, random_state=42)\n",
        "\n",
        "# Создание и обучение модели линейной регрессии\n",
        "model_without_norm = LinearRegression()\n",
        "model_without_norm.fit(X_train, y_train)\n",
        "\n",
        "# Оценка качества модели на тестовой выборке\n",
        "y_pred_without_norm = model_without_norm.predict(X_test)\n",
        "score_without_norm = model_without_norm.score(X_test, y_test)\n",
        "print(f\"R-squared score without normalization: {score_without_norm:.2f}\")"
      ],
      "metadata": {
        "id": "iBXQk17ROEeF",
        "outputId": "3b311070-f4a4-4760-df6e-f0ce0a125ba6",
        "colab": {
          "base_uri": "https://localhost:8080/"
        }
      },
      "execution_count": 99,
      "outputs": [
        {
          "output_type": "stream",
          "name": "stdout",
          "text": [
            "R-squared score without normalization: 0.58\n"
          ]
        }
      ]
    },
    {
      "cell_type": "markdown",
      "source": [
        "Теперь давайте сравним эти результаты с моделью, где 'MedInc' нормализован:"
      ],
      "metadata": {
        "id": "tagVfxlSRW7b"
      }
    },
    {
      "cell_type": "code",
      "source": [
        "from sklearn.preprocessing import StandardScaler\n",
        "\n",
        "# Нормализация признака 'MedInc'\n",
        "scaler = StandardScaler()\n",
        "data['MedInc_norm'] = scaler.fit_transform(data[['MedInc']])"
      ],
      "metadata": {
        "id": "CUjEckwkO99a"
      },
      "execution_count": 98,
      "outputs": []
    },
    {
      "cell_type": "markdown",
      "source": [
        "# 3. Разделяем выборку на обучающее и тестовое подмножества. 80% данных оставляем на обучение, 20% - на тестирование."
      ],
      "metadata": {
        "id": "FAq9gFVNTjWe"
      }
    },
    {
      "cell_type": "code",
      "source": [
        "# Создание матрицы признаков X, включая 'MedInc_norm'\n",
        "X = data[['HouseAge', 'AveRooms', 'AveBedrms', 'Population', 'AveOccup', 'Latitude', 'Longitude', 'MedInc_norm']]\n",
        "у = data['MedHouseVal']\n",
        "\n",
        "# Разделение данных на обучающую и тестовую выборки\n",
        "X_train, X_test, y_train, y_test = train_test_split(X, у, test_size=0.2, random_state=42)"
      ],
      "metadata": {
        "id": "KRm5tiPaThaw"
      },
      "execution_count": 100,
      "outputs": []
    },
    {
      "cell_type": "markdown",
      "source": [
        "# 4. Обучаем модель регрессии на обучающем множестве."
      ],
      "metadata": {
        "id": "hcZMRuGLT9Pb"
      }
    },
    {
      "cell_type": "code",
      "source": [
        "# Создание и обучение модели линейной регрессии\n",
        "model_with_norm = LinearRegression()\n",
        "model_with_norm.fit(X_train, y_train)"
      ],
      "metadata": {
        "id": "w0izncC_T-bM"
      },
      "execution_count": null,
      "outputs": []
    },
    {
      "cell_type": "markdown",
      "source": [
        "# 5. Делаем предсказания для тестового множества и сравниваем с истинными значениями, вычисляя точность предсказания модели."
      ],
      "metadata": {
        "id": "cYR42GmaUR8b"
      }
    },
    {
      "cell_type": "code",
      "source": [
        "# Оценка качества модели на тестовой выборке\n",
        "y_pred_with_norm = model_with_norm.predict(X_test)\n",
        "score_with_norm = model_with_norm.score(X_test, y_test)\n",
        "print(f\"R-squared score with normalization: {score_with_norm:.2f}\")"
      ],
      "metadata": {
        "id": "czxEOKjvUNJo",
        "outputId": "0ac36a25-8a09-441c-bd94-d58319d85682",
        "colab": {
          "base_uri": "https://localhost:8080/"
        }
      },
      "execution_count": 101,
      "outputs": [
        {
          "output_type": "stream",
          "name": "stdout",
          "text": [
            "R-squared score with normalization: 0.58\n"
          ]
        }
      ]
    },
    {
      "cell_type": "markdown",
      "source": [
        "Интерпретация результата: Тот факт, что R-squared score остался неизменным (0.58) после нормализации 'MedInc', означает, что нормализация этого признака не привела к улучшению предсказательной способности модели. Модель объясняет одинаковую долю вариаций в 'MedHouseVal' как с нормализованным 'MedInc', так и без него."
      ],
      "metadata": {
        "id": "KmkubxdhRzjR"
      }
    },
    {
      "cell_type": "markdown",
      "source": [
        "# 6. Обучаем дерево решений на обучающем множестве:"
      ],
      "metadata": {
        "id": "QAFNdZQD6yR3"
      }
    },
    {
      "cell_type": "markdown",
      "source": [
        "## a. Повторяем шаг 5 для полученной модели."
      ],
      "metadata": {
        "id": "0hvLPEfm62r0"
      }
    },
    {
      "cell_type": "markdown",
      "source": [
        "## b. Визуализируем часть дерева решений, чтобы оценить его читаемость."
      ],
      "metadata": {
        "id": "SWciTk7j65MW"
      }
    },
    {
      "cell_type": "markdown",
      "source": [
        "# 8. Формулируем выводы по проделанной работе:"
      ],
      "metadata": {
        "id": "wJyvemhw68Ac"
      }
    },
    {
      "cell_type": "markdown",
      "source": [
        "## a. Сравниваем точность двух моделей."
      ],
      "metadata": {
        "id": "fmyznqoZ7AT_"
      }
    },
    {
      "cell_type": "markdown",
      "source": [
        "## b. Высказываем мнение о предпочтительности использования обученных моделей для различных задач, обозначаем их плюсы и минусы."
      ],
      "metadata": {
        "id": "ltDYBavg7F1v"
      }
    }
  ]
}