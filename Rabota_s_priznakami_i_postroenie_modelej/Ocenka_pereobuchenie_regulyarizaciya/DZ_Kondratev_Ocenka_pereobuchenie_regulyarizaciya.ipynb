{
  "cells": [
    {
      "cell_type": "markdown",
      "metadata": {
        "id": "view-in-github",
        "colab_type": "text"
      },
      "source": [
        "<a href=\"https://colab.research.google.com/github/stefkong1982/netology.ru/blob/Master/Rabota_s_priznakami_i_postroenie_modelej/Ocenka_pereobuchenie_regulyarizaciya/DZ_Kondratev_Ocenka_pereobuchenie_regulyarizaciya.ipynb\" target=\"_parent\"><img src=\"https://colab.research.google.com/assets/colab-badge.svg\" alt=\"Open In Colab\"/></a>"
      ]
    },
    {
      "cell_type": "markdown",
      "metadata": {
        "id": "UXQLBuGU707o"
      },
      "source": [
        "# Домашняя работа «Оценка точности модели, переобучение, регуляризация» обновленное"
      ]
    },
    {
      "cell_type": "markdown",
      "metadata": {
        "id": "XXZ_HidT76vD"
      },
      "source": [
        "**Преподаватель:** Юлия Пономарева\n",
        "\n",
        "Задание\n",
        "\n",
        "**Цель:** закрепить знания о математическом смысле метрик `TPR`, `FPR`. Изучить построение `ROC-кривой`, графика `Precision-Recall`.\n",
        "\n",
        "**Описание задания:**\n",
        "\n",
        "Решить задачу классификации при помощи обучения модели логистической регрессии. Качество модели оценивается путем подсчета метрик `TPR`, `FPR` и построения графиков `ROC-кривой`, `Precision-Recall`. Данные для обучения модели хранятся в файле `athletes.csv`, который можно найти в материалах к занятию.\n",
        "\n",
        "`['sex']` # - целевая переменная\n",
        "\n",
        "**Этапы работы:**\n",
        "\n",
        "1. Преобразуйте данные:\n",
        "\n",
        " a. проверьте наличие пропущенных значений. Преобразуйте/удалите пропуски по необходимости;\n",
        "\n",
        " b. закодируйте категориальные переменные числовыми значениями по необходимости.\n",
        "\n",
        "2. Разделите выборку на обучающее (80% данных) и тестовое (20% данных) подмножества.\n",
        "3. Постройте `ROC-кривую` с помощью функции `sklearn.metrics. roc_curve`.\n",
        "4. Вычислите значение `ROC-AUC` метрики с помощью функции `sklearn.metrics.roc_auc_score`.\n",
        "5. Реализуйте подсчет метрик `TPR`, `FPR` «вручную», без использования готовых функций из библиотеки `sklearn`.\n",
        "6. Постройте `ROC-кривую` с помощью вычисленных в п. 5 метрик: объедините графики из п. 3 и п. 6 в один. Сравните, сделайте вывод.\n",
        "7. Постройте график `Precision-Recall`, используя метрики, посчитанные в п. 5.\n",
        "8. Вычислите значение `ROC-AUC` метрики, используя метрики, посчитанные в п. 5.\n",
        "9. Сформулируйте выводы по проделанной работе:\n",
        "\n",
        " a. как по полученным графикам сделать вывод о качестве модели? Как вы оцениваете обученную модель исходя из подсчитанных метрик?\n",
        "\n",
        " b. может ли `ROC-кривая` проходить ниже диагонали?\n",
        "\n",
        "**Результат:**\n",
        "\n",
        "* проведена оценка качества модели классификации;\n",
        "* реализован подсчет «вручную» основных метрик, проведено сравнение полученных результатов с готовыми функциями из библиотеки `sklearn`.\n",
        "\n",
        "\n",
        "**Рекомендации к выполнению:**\n",
        "\n",
        "* Убедитесь, что на графике `ROC-кривой` присутствует диагональная линия, начинающаяся в точке (0;0) и заканчивающаяся в точке (1;1).\n",
        "* Текст оформляйте в отдельной ячейке `Jupyter Notebook/Google Colab` в формате `markdown`.\n",
        "* У графиков должен быть заголовок, подписи осей, легенда (опционально). Делайте графики бОльшего размера, чем стандартный вывод, чтобы увеличить читаемость.\n",
        "* Убедитесь, что по ссылкам есть доступ на чтение/просмотр.\n",
        "* Убедитесь, что все ячейки в работе выполнены и можно увидеть их вывод без повторного запуска."
      ]
    },
    {
      "cell_type": "markdown",
      "metadata": {
        "id": "Zh3utStrAfFv"
      },
      "source": [
        "### Шаг 1: Загрузка и преобразование данных"
      ]
    },
    {
      "cell_type": "code",
      "execution_count": 62,
      "metadata": {
        "id": "znaesC8T_VmI"
      },
      "outputs": [],
      "source": [
        "import pandas as pd\n",
        "import numpy as np\n",
        "import matplotlib.pyplot as plt\n",
        "from sklearn.model_selection import train_test_split\n",
        "from sklearn.linear_model import LogisticRegression\n",
        "from sklearn.metrics import roc_curve, roc_auc_score, precision_recall_curve, auc"
      ]
    },
    {
      "cell_type": "code",
      "execution_count": 63,
      "metadata": {
        "id": "8U_DAycV_Cgv"
      },
      "outputs": [],
      "source": [
        "# Загрузка данных\n",
        "data = pd.read_csv(\"https://raw.githubusercontent.com/stefkong1982/netology.ru/Master/Rabota_s_priznakami_i_postroenie_modelej/Ocenka_pereobuchenie_regulyarizaciya/athletes.csv\")"
      ]
    },
    {
      "cell_type": "code",
      "execution_count": 64,
      "metadata": {
        "colab": {
          "base_uri": "https://localhost:8080/",
          "height": 424
        },
        "id": "iPeshMXx_Rb6",
        "outputId": "89a9e134-79ea-4276-e510-96be6702a833"
      },
      "outputs": [
        {
          "output_type": "execute_result",
          "data": {
            "text/plain": [
              "              id                name nationality     sex       dob  height  \\\n",
              "0      736041664      A Jesus Garcia         ESP    male  10/17/69    1.72   \n",
              "1      532037425          A Lam Shin         KOR  female   9/23/86    1.68   \n",
              "2      435962603         Aaron Brown         CAN    male   5/27/92    1.98   \n",
              "3      521041435          Aaron Cook         MDA    male    1/2/91    1.83   \n",
              "4       33922579          Aaron Gate         NZL    male  11/26/90    1.81   \n",
              "...          ...                 ...         ...     ...       ...     ...   \n",
              "11533  265605954  Zurian Hechavarria         CUB  female   8/10/95    1.64   \n",
              "11534  214461847      Zuzana Hejnova         CZE  female  12/19/86    1.73   \n",
              "11535   88361042             di Xiao         CHN    male   5/14/91    1.85   \n",
              "11536  900065925   le Quoc Toan Tran         VIE    male    4/5/89    1.60   \n",
              "11537  711404576      le Roux Hamman         RSA    male    1/6/92    1.85   \n",
              "\n",
              "       weight          sport  gold  silver  bronze  \n",
              "0        64.0      athletics     0       0       0  \n",
              "1        56.0        fencing     0       0       0  \n",
              "2        79.0      athletics     0       0       1  \n",
              "3        80.0      taekwondo     0       0       0  \n",
              "4        71.0        cycling     0       0       0  \n",
              "...       ...            ...   ...     ...     ...  \n",
              "11533    58.0      athletics     0       0       0  \n",
              "11534    63.0      athletics     0       0       0  \n",
              "11535   100.0      wrestling     0       0       0  \n",
              "11536    56.0  weightlifting     0       0       0  \n",
              "11537    70.0      athletics     0       0       0  \n",
              "\n",
              "[11538 rows x 11 columns]"
            ],
            "text/html": [
              "\n",
              "  <div id=\"df-47ce6ee9-f471-48fc-a4a5-3c7e3155a9b0\" class=\"colab-df-container\">\n",
              "    <div>\n",
              "<style scoped>\n",
              "    .dataframe tbody tr th:only-of-type {\n",
              "        vertical-align: middle;\n",
              "    }\n",
              "\n",
              "    .dataframe tbody tr th {\n",
              "        vertical-align: top;\n",
              "    }\n",
              "\n",
              "    .dataframe thead th {\n",
              "        text-align: right;\n",
              "    }\n",
              "</style>\n",
              "<table border=\"1\" class=\"dataframe\">\n",
              "  <thead>\n",
              "    <tr style=\"text-align: right;\">\n",
              "      <th></th>\n",
              "      <th>id</th>\n",
              "      <th>name</th>\n",
              "      <th>nationality</th>\n",
              "      <th>sex</th>\n",
              "      <th>dob</th>\n",
              "      <th>height</th>\n",
              "      <th>weight</th>\n",
              "      <th>sport</th>\n",
              "      <th>gold</th>\n",
              "      <th>silver</th>\n",
              "      <th>bronze</th>\n",
              "    </tr>\n",
              "  </thead>\n",
              "  <tbody>\n",
              "    <tr>\n",
              "      <th>0</th>\n",
              "      <td>736041664</td>\n",
              "      <td>A Jesus Garcia</td>\n",
              "      <td>ESP</td>\n",
              "      <td>male</td>\n",
              "      <td>10/17/69</td>\n",
              "      <td>1.72</td>\n",
              "      <td>64.0</td>\n",
              "      <td>athletics</td>\n",
              "      <td>0</td>\n",
              "      <td>0</td>\n",
              "      <td>0</td>\n",
              "    </tr>\n",
              "    <tr>\n",
              "      <th>1</th>\n",
              "      <td>532037425</td>\n",
              "      <td>A Lam Shin</td>\n",
              "      <td>KOR</td>\n",
              "      <td>female</td>\n",
              "      <td>9/23/86</td>\n",
              "      <td>1.68</td>\n",
              "      <td>56.0</td>\n",
              "      <td>fencing</td>\n",
              "      <td>0</td>\n",
              "      <td>0</td>\n",
              "      <td>0</td>\n",
              "    </tr>\n",
              "    <tr>\n",
              "      <th>2</th>\n",
              "      <td>435962603</td>\n",
              "      <td>Aaron Brown</td>\n",
              "      <td>CAN</td>\n",
              "      <td>male</td>\n",
              "      <td>5/27/92</td>\n",
              "      <td>1.98</td>\n",
              "      <td>79.0</td>\n",
              "      <td>athletics</td>\n",
              "      <td>0</td>\n",
              "      <td>0</td>\n",
              "      <td>1</td>\n",
              "    </tr>\n",
              "    <tr>\n",
              "      <th>3</th>\n",
              "      <td>521041435</td>\n",
              "      <td>Aaron Cook</td>\n",
              "      <td>MDA</td>\n",
              "      <td>male</td>\n",
              "      <td>1/2/91</td>\n",
              "      <td>1.83</td>\n",
              "      <td>80.0</td>\n",
              "      <td>taekwondo</td>\n",
              "      <td>0</td>\n",
              "      <td>0</td>\n",
              "      <td>0</td>\n",
              "    </tr>\n",
              "    <tr>\n",
              "      <th>4</th>\n",
              "      <td>33922579</td>\n",
              "      <td>Aaron Gate</td>\n",
              "      <td>NZL</td>\n",
              "      <td>male</td>\n",
              "      <td>11/26/90</td>\n",
              "      <td>1.81</td>\n",
              "      <td>71.0</td>\n",
              "      <td>cycling</td>\n",
              "      <td>0</td>\n",
              "      <td>0</td>\n",
              "      <td>0</td>\n",
              "    </tr>\n",
              "    <tr>\n",
              "      <th>...</th>\n",
              "      <td>...</td>\n",
              "      <td>...</td>\n",
              "      <td>...</td>\n",
              "      <td>...</td>\n",
              "      <td>...</td>\n",
              "      <td>...</td>\n",
              "      <td>...</td>\n",
              "      <td>...</td>\n",
              "      <td>...</td>\n",
              "      <td>...</td>\n",
              "      <td>...</td>\n",
              "    </tr>\n",
              "    <tr>\n",
              "      <th>11533</th>\n",
              "      <td>265605954</td>\n",
              "      <td>Zurian Hechavarria</td>\n",
              "      <td>CUB</td>\n",
              "      <td>female</td>\n",
              "      <td>8/10/95</td>\n",
              "      <td>1.64</td>\n",
              "      <td>58.0</td>\n",
              "      <td>athletics</td>\n",
              "      <td>0</td>\n",
              "      <td>0</td>\n",
              "      <td>0</td>\n",
              "    </tr>\n",
              "    <tr>\n",
              "      <th>11534</th>\n",
              "      <td>214461847</td>\n",
              "      <td>Zuzana Hejnova</td>\n",
              "      <td>CZE</td>\n",
              "      <td>female</td>\n",
              "      <td>12/19/86</td>\n",
              "      <td>1.73</td>\n",
              "      <td>63.0</td>\n",
              "      <td>athletics</td>\n",
              "      <td>0</td>\n",
              "      <td>0</td>\n",
              "      <td>0</td>\n",
              "    </tr>\n",
              "    <tr>\n",
              "      <th>11535</th>\n",
              "      <td>88361042</td>\n",
              "      <td>di Xiao</td>\n",
              "      <td>CHN</td>\n",
              "      <td>male</td>\n",
              "      <td>5/14/91</td>\n",
              "      <td>1.85</td>\n",
              "      <td>100.0</td>\n",
              "      <td>wrestling</td>\n",
              "      <td>0</td>\n",
              "      <td>0</td>\n",
              "      <td>0</td>\n",
              "    </tr>\n",
              "    <tr>\n",
              "      <th>11536</th>\n",
              "      <td>900065925</td>\n",
              "      <td>le Quoc Toan Tran</td>\n",
              "      <td>VIE</td>\n",
              "      <td>male</td>\n",
              "      <td>4/5/89</td>\n",
              "      <td>1.60</td>\n",
              "      <td>56.0</td>\n",
              "      <td>weightlifting</td>\n",
              "      <td>0</td>\n",
              "      <td>0</td>\n",
              "      <td>0</td>\n",
              "    </tr>\n",
              "    <tr>\n",
              "      <th>11537</th>\n",
              "      <td>711404576</td>\n",
              "      <td>le Roux Hamman</td>\n",
              "      <td>RSA</td>\n",
              "      <td>male</td>\n",
              "      <td>1/6/92</td>\n",
              "      <td>1.85</td>\n",
              "      <td>70.0</td>\n",
              "      <td>athletics</td>\n",
              "      <td>0</td>\n",
              "      <td>0</td>\n",
              "      <td>0</td>\n",
              "    </tr>\n",
              "  </tbody>\n",
              "</table>\n",
              "<p>11538 rows × 11 columns</p>\n",
              "</div>\n",
              "    <div class=\"colab-df-buttons\">\n",
              "\n",
              "  <div class=\"colab-df-container\">\n",
              "    <button class=\"colab-df-convert\" onclick=\"convertToInteractive('df-47ce6ee9-f471-48fc-a4a5-3c7e3155a9b0')\"\n",
              "            title=\"Convert this dataframe to an interactive table.\"\n",
              "            style=\"display:none;\">\n",
              "\n",
              "  <svg xmlns=\"http://www.w3.org/2000/svg\" height=\"24px\" viewBox=\"0 -960 960 960\">\n",
              "    <path d=\"M120-120v-720h720v720H120Zm60-500h600v-160H180v160Zm220 220h160v-160H400v160Zm0 220h160v-160H400v160ZM180-400h160v-160H180v160Zm440 0h160v-160H620v160ZM180-180h160v-160H180v160Zm440 0h160v-160H620v160Z\"/>\n",
              "  </svg>\n",
              "    </button>\n",
              "\n",
              "  <style>\n",
              "    .colab-df-container {\n",
              "      display:flex;\n",
              "      gap: 12px;\n",
              "    }\n",
              "\n",
              "    .colab-df-convert {\n",
              "      background-color: #E8F0FE;\n",
              "      border: none;\n",
              "      border-radius: 50%;\n",
              "      cursor: pointer;\n",
              "      display: none;\n",
              "      fill: #1967D2;\n",
              "      height: 32px;\n",
              "      padding: 0 0 0 0;\n",
              "      width: 32px;\n",
              "    }\n",
              "\n",
              "    .colab-df-convert:hover {\n",
              "      background-color: #E2EBFA;\n",
              "      box-shadow: 0px 1px 2px rgba(60, 64, 67, 0.3), 0px 1px 3px 1px rgba(60, 64, 67, 0.15);\n",
              "      fill: #174EA6;\n",
              "    }\n",
              "\n",
              "    .colab-df-buttons div {\n",
              "      margin-bottom: 4px;\n",
              "    }\n",
              "\n",
              "    [theme=dark] .colab-df-convert {\n",
              "      background-color: #3B4455;\n",
              "      fill: #D2E3FC;\n",
              "    }\n",
              "\n",
              "    [theme=dark] .colab-df-convert:hover {\n",
              "      background-color: #434B5C;\n",
              "      box-shadow: 0px 1px 3px 1px rgba(0, 0, 0, 0.15);\n",
              "      filter: drop-shadow(0px 1px 2px rgba(0, 0, 0, 0.3));\n",
              "      fill: #FFFFFF;\n",
              "    }\n",
              "  </style>\n",
              "\n",
              "    <script>\n",
              "      const buttonEl =\n",
              "        document.querySelector('#df-47ce6ee9-f471-48fc-a4a5-3c7e3155a9b0 button.colab-df-convert');\n",
              "      buttonEl.style.display =\n",
              "        google.colab.kernel.accessAllowed ? 'block' : 'none';\n",
              "\n",
              "      async function convertToInteractive(key) {\n",
              "        const element = document.querySelector('#df-47ce6ee9-f471-48fc-a4a5-3c7e3155a9b0');\n",
              "        const dataTable =\n",
              "          await google.colab.kernel.invokeFunction('convertToInteractive',\n",
              "                                                    [key], {});\n",
              "        if (!dataTable) return;\n",
              "\n",
              "        const docLinkHtml = 'Like what you see? Visit the ' +\n",
              "          '<a target=\"_blank\" href=https://colab.research.google.com/notebooks/data_table.ipynb>data table notebook</a>'\n",
              "          + ' to learn more about interactive tables.';\n",
              "        element.innerHTML = '';\n",
              "        dataTable['output_type'] = 'display_data';\n",
              "        await google.colab.output.renderOutput(dataTable, element);\n",
              "        const docLink = document.createElement('div');\n",
              "        docLink.innerHTML = docLinkHtml;\n",
              "        element.appendChild(docLink);\n",
              "      }\n",
              "    </script>\n",
              "  </div>\n",
              "\n",
              "\n",
              "<div id=\"df-53a15504-01f0-4418-a7d1-ab23e2882c51\">\n",
              "  <button class=\"colab-df-quickchart\" onclick=\"quickchart('df-53a15504-01f0-4418-a7d1-ab23e2882c51')\"\n",
              "            title=\"Suggest charts\"\n",
              "            style=\"display:none;\">\n",
              "\n",
              "<svg xmlns=\"http://www.w3.org/2000/svg\" height=\"24px\"viewBox=\"0 0 24 24\"\n",
              "     width=\"24px\">\n",
              "    <g>\n",
              "        <path d=\"M19 3H5c-1.1 0-2 .9-2 2v14c0 1.1.9 2 2 2h14c1.1 0 2-.9 2-2V5c0-1.1-.9-2-2-2zM9 17H7v-7h2v7zm4 0h-2V7h2v10zm4 0h-2v-4h2v4z\"/>\n",
              "    </g>\n",
              "</svg>\n",
              "  </button>\n",
              "\n",
              "<style>\n",
              "  .colab-df-quickchart {\n",
              "      --bg-color: #E8F0FE;\n",
              "      --fill-color: #1967D2;\n",
              "      --hover-bg-color: #E2EBFA;\n",
              "      --hover-fill-color: #174EA6;\n",
              "      --disabled-fill-color: #AAA;\n",
              "      --disabled-bg-color: #DDD;\n",
              "  }\n",
              "\n",
              "  [theme=dark] .colab-df-quickchart {\n",
              "      --bg-color: #3B4455;\n",
              "      --fill-color: #D2E3FC;\n",
              "      --hover-bg-color: #434B5C;\n",
              "      --hover-fill-color: #FFFFFF;\n",
              "      --disabled-bg-color: #3B4455;\n",
              "      --disabled-fill-color: #666;\n",
              "  }\n",
              "\n",
              "  .colab-df-quickchart {\n",
              "    background-color: var(--bg-color);\n",
              "    border: none;\n",
              "    border-radius: 50%;\n",
              "    cursor: pointer;\n",
              "    display: none;\n",
              "    fill: var(--fill-color);\n",
              "    height: 32px;\n",
              "    padding: 0;\n",
              "    width: 32px;\n",
              "  }\n",
              "\n",
              "  .colab-df-quickchart:hover {\n",
              "    background-color: var(--hover-bg-color);\n",
              "    box-shadow: 0 1px 2px rgba(60, 64, 67, 0.3), 0 1px 3px 1px rgba(60, 64, 67, 0.15);\n",
              "    fill: var(--button-hover-fill-color);\n",
              "  }\n",
              "\n",
              "  .colab-df-quickchart-complete:disabled,\n",
              "  .colab-df-quickchart-complete:disabled:hover {\n",
              "    background-color: var(--disabled-bg-color);\n",
              "    fill: var(--disabled-fill-color);\n",
              "    box-shadow: none;\n",
              "  }\n",
              "\n",
              "  .colab-df-spinner {\n",
              "    border: 2px solid var(--fill-color);\n",
              "    border-color: transparent;\n",
              "    border-bottom-color: var(--fill-color);\n",
              "    animation:\n",
              "      spin 1s steps(1) infinite;\n",
              "  }\n",
              "\n",
              "  @keyframes spin {\n",
              "    0% {\n",
              "      border-color: transparent;\n",
              "      border-bottom-color: var(--fill-color);\n",
              "      border-left-color: var(--fill-color);\n",
              "    }\n",
              "    20% {\n",
              "      border-color: transparent;\n",
              "      border-left-color: var(--fill-color);\n",
              "      border-top-color: var(--fill-color);\n",
              "    }\n",
              "    30% {\n",
              "      border-color: transparent;\n",
              "      border-left-color: var(--fill-color);\n",
              "      border-top-color: var(--fill-color);\n",
              "      border-right-color: var(--fill-color);\n",
              "    }\n",
              "    40% {\n",
              "      border-color: transparent;\n",
              "      border-right-color: var(--fill-color);\n",
              "      border-top-color: var(--fill-color);\n",
              "    }\n",
              "    60% {\n",
              "      border-color: transparent;\n",
              "      border-right-color: var(--fill-color);\n",
              "    }\n",
              "    80% {\n",
              "      border-color: transparent;\n",
              "      border-right-color: var(--fill-color);\n",
              "      border-bottom-color: var(--fill-color);\n",
              "    }\n",
              "    90% {\n",
              "      border-color: transparent;\n",
              "      border-bottom-color: var(--fill-color);\n",
              "    }\n",
              "  }\n",
              "</style>\n",
              "\n",
              "  <script>\n",
              "    async function quickchart(key) {\n",
              "      const quickchartButtonEl =\n",
              "        document.querySelector('#' + key + ' button');\n",
              "      quickchartButtonEl.disabled = true;  // To prevent multiple clicks.\n",
              "      quickchartButtonEl.classList.add('colab-df-spinner');\n",
              "      try {\n",
              "        const charts = await google.colab.kernel.invokeFunction(\n",
              "            'suggestCharts', [key], {});\n",
              "      } catch (error) {\n",
              "        console.error('Error during call to suggestCharts:', error);\n",
              "      }\n",
              "      quickchartButtonEl.classList.remove('colab-df-spinner');\n",
              "      quickchartButtonEl.classList.add('colab-df-quickchart-complete');\n",
              "    }\n",
              "    (() => {\n",
              "      let quickchartButtonEl =\n",
              "        document.querySelector('#df-53a15504-01f0-4418-a7d1-ab23e2882c51 button');\n",
              "      quickchartButtonEl.style.display =\n",
              "        google.colab.kernel.accessAllowed ? 'block' : 'none';\n",
              "    })();\n",
              "  </script>\n",
              "</div>\n",
              "    </div>\n",
              "  </div>\n"
            ],
            "application/vnd.google.colaboratory.intrinsic+json": {
              "type": "dataframe",
              "variable_name": "data",
              "summary": "{\n  \"name\": \"data\",\n  \"rows\": 11538,\n  \"fields\": [\n    {\n      \"column\": \"id\",\n      \"properties\": {\n        \"dtype\": \"number\",\n        \"std\": 290864792,\n        \"min\": 18347,\n        \"max\": 999987786,\n        \"num_unique_values\": 11538,\n        \"samples\": [\n          610541912,\n          620856226,\n          141698796\n        ],\n        \"semantic_type\": \"\",\n        \"description\": \"\"\n      }\n    },\n    {\n      \"column\": \"name\",\n      \"properties\": {\n        \"dtype\": \"string\",\n        \"num_unique_values\": 11517,\n        \"samples\": [\n          \"Apisai Domolailai\",\n          \"Darwin Espinal\",\n          \"Nina Rangelova\"\n        ],\n        \"semantic_type\": \"\",\n        \"description\": \"\"\n      }\n    },\n    {\n      \"column\": \"nationality\",\n      \"properties\": {\n        \"dtype\": \"category\",\n        \"num_unique_values\": 207,\n        \"samples\": [\n          \"SLE\",\n          \"QAT\",\n          \"IRL\"\n        ],\n        \"semantic_type\": \"\",\n        \"description\": \"\"\n      }\n    },\n    {\n      \"column\": \"sex\",\n      \"properties\": {\n        \"dtype\": \"category\",\n        \"num_unique_values\": 2,\n        \"samples\": [\n          \"female\",\n          \"male\"\n        ],\n        \"semantic_type\": \"\",\n        \"description\": \"\"\n      }\n    },\n    {\n      \"column\": \"dob\",\n      \"properties\": {\n        \"dtype\": \"object\",\n        \"num_unique_values\": 5595,\n        \"samples\": [\n          \"4/25/91\",\n          \"12/15/84\"\n        ],\n        \"semantic_type\": \"\",\n        \"description\": \"\"\n      }\n    },\n    {\n      \"column\": \"height\",\n      \"properties\": {\n        \"dtype\": \"number\",\n        \"std\": 0.11271869117624804,\n        \"min\": 1.21,\n        \"max\": 2.21,\n        \"num_unique_values\": 82,\n        \"samples\": [\n          1.89,\n          1.72\n        ],\n        \"semantic_type\": \"\",\n        \"description\": \"\"\n      }\n    },\n    {\n      \"column\": \"weight\",\n      \"properties\": {\n        \"dtype\": \"number\",\n        \"std\": 16.17733414697655,\n        \"min\": 31.0,\n        \"max\": 170.0,\n        \"num_unique_values\": 123,\n        \"samples\": [\n          75.0,\n          69.0\n        ],\n        \"semantic_type\": \"\",\n        \"description\": \"\"\n      }\n    },\n    {\n      \"column\": \"sport\",\n      \"properties\": {\n        \"dtype\": \"category\",\n        \"num_unique_values\": 28,\n        \"samples\": [\n          \"football\",\n          \"sailing\"\n        ],\n        \"semantic_type\": \"\",\n        \"description\": \"\"\n      }\n    },\n    {\n      \"column\": \"gold\",\n      \"properties\": {\n        \"dtype\": \"number\",\n        \"std\": 0,\n        \"min\": 0,\n        \"max\": 5,\n        \"num_unique_values\": 6,\n        \"samples\": [\n          0,\n          1\n        ],\n        \"semantic_type\": \"\",\n        \"description\": \"\"\n      }\n    },\n    {\n      \"column\": \"silver\",\n      \"properties\": {\n        \"dtype\": \"number\",\n        \"std\": 0,\n        \"min\": 0,\n        \"max\": 2,\n        \"num_unique_values\": 3,\n        \"samples\": [\n          0,\n          1\n        ],\n        \"semantic_type\": \"\",\n        \"description\": \"\"\n      }\n    },\n    {\n      \"column\": \"bronze\",\n      \"properties\": {\n        \"dtype\": \"number\",\n        \"std\": 0,\n        \"min\": 0,\n        \"max\": 2,\n        \"num_unique_values\": 3,\n        \"samples\": [\n          0,\n          1\n        ],\n        \"semantic_type\": \"\",\n        \"description\": \"\"\n      }\n    }\n  ]\n}"
            }
          },
          "metadata": {},
          "execution_count": 64
        }
      ],
      "source": [
        "data"
      ]
    },
    {
      "cell_type": "markdown",
      "metadata": {
        "id": "QLdrcU449YfB"
      },
      "source": [
        "Категориальные атрибуты:\n",
        "\n",
        "1. name - имя атлета (категориальный)\n",
        "2. nationality - национальность атлета (категориальный)\n",
        "3. sex - пол атлета (категориальный)\n",
        "4. dob - дата рождения, хотя это в настоящее время представлено как строка, можно рассматривать как категориальный атрибут, так как это категоризация в зависимости от года или месяца рождения (категориальный)\n",
        "5. sport - вид спорта, которым занимается атлет (категориальный)\n",
        "\n",
        "Количественные атрибуты:\n",
        "\n",
        "1. height - рост атлета (количественный)\n",
        "2. weight - вес атлета (количественный)\n",
        "3. gold - количество золотых медалей (количественный)\n",
        "4. silver - количество серебряных медалей (количественный)\n",
        "5. bronze - количество бронзовых медалей (количественный)\n",
        "\n",
        "Таким образом, в наборе данных атрибуты могут быть разделены на категориальные (имя, национальность, пол, дата рождения, вид спорта) и количественные (рост, вес, количество медалей). Данные атрибуты могут использоваться для проведения анализа и построения моделей в зависимости от поставленных задач и целей исследования."
      ]
    },
    {
      "cell_type": "code",
      "execution_count": 65,
      "metadata": {
        "colab": {
          "base_uri": "https://localhost:8080/"
        },
        "id": "_ZuRTBrp_q8S",
        "outputId": "58f575a1-fa72-48da-b2b1-59022d3a0ae2"
      },
      "outputs": [
        {
          "output_type": "stream",
          "name": "stdout",
          "text": [
            "<class 'pandas.core.frame.DataFrame'>\n",
            "RangeIndex: 11538 entries, 0 to 11537\n",
            "Data columns (total 11 columns):\n",
            " #   Column       Non-Null Count  Dtype  \n",
            "---  ------       --------------  -----  \n",
            " 0   id           11538 non-null  int64  \n",
            " 1   name         11538 non-null  object \n",
            " 2   nationality  11538 non-null  object \n",
            " 3   sex          11538 non-null  object \n",
            " 4   dob          11537 non-null  object \n",
            " 5   height       11208 non-null  float64\n",
            " 6   weight       10879 non-null  float64\n",
            " 7   sport        11538 non-null  object \n",
            " 8   gold         11538 non-null  int64  \n",
            " 9   silver       11538 non-null  int64  \n",
            " 10  bronze       11538 non-null  int64  \n",
            "dtypes: float64(2), int64(4), object(5)\n",
            "memory usage: 991.7+ KB\n"
          ]
        }
      ],
      "source": [
        "data.info()"
      ]
    },
    {
      "cell_type": "markdown",
      "metadata": {
        "id": "cfu5kGhPAnPR"
      },
      "source": [
        "1. Пропущенные значения:"
      ]
    },
    {
      "cell_type": "code",
      "execution_count": 66,
      "metadata": {
        "colab": {
          "base_uri": "https://localhost:8080/"
        },
        "id": "F0MAa5yq_0Ep",
        "outputId": "23bed11b-522f-4021-f9c6-dafaf68322a6"
      },
      "outputs": [
        {
          "output_type": "stream",
          "name": "stdout",
          "text": [
            "В столбце 'name' есть 0 пропущенных значений (NaN)\n",
            "Уникальные значения в столбце 'name': ['A Jesus Garcia' 'A Lam Shin' 'Aaron Brown' ... 'di Xiao'\n",
            " 'le Quoc Toan Tran' 'le Roux Hamman']\n",
            "\n",
            "В столбце 'nationality' есть 0 пропущенных значений (NaN)\n",
            "Уникальные значения в столбце 'nationality': ['ESP' 'KOR' 'CAN' 'MDA' 'NZL' 'AUS' 'USA' 'ETH' 'BRN' 'IOA' 'GBR' 'UZB'\n",
            " 'RSA' 'EGY' 'MAR' 'QAT' 'SUD' 'ALG' 'DEN' 'NED' 'DJI' 'SEN' 'CMR' 'ITA'\n",
            " 'NIG' 'SWE' 'GHA' 'AFG' 'AZE' 'KSA' 'BAN' 'NGR' 'RUS' 'IND' 'HUN' 'KAZ'\n",
            " 'BDI' 'ERI' 'POL' 'BRA' 'GEO' 'CZE' 'SEY' 'GAM' 'LTU' 'IRI' 'ROU' 'CUB'\n",
            " 'SLO' 'BAH' 'ARG' 'PUR' 'FRA' 'RWA' 'TOG' 'MDV' 'TUN' 'ISR' 'LAT' 'JOR'\n",
            " 'MAS' 'LIB' 'LBA' 'PLE' 'IRQ' 'TUR' 'VEN' 'JPN' 'TPE' 'KGZ' 'CHN' 'MEX'\n",
            " 'GRE' 'IRL' 'JAM' 'SUI' 'BAR' 'HON' 'ANG' 'GER' 'COL' 'URU' 'MNE' 'SRB'\n",
            " 'BUL' 'FIN' 'UKR' 'BLR' 'SMR' 'COK' 'SAM' 'AUT' 'BEL' 'KEN' 'SVK' 'POR'\n",
            " 'ECU' 'UAE' 'NAM' 'GUY' 'EST' 'SKN' 'ARU' 'PAN' 'PER' 'TAN' 'FIJ' 'GUI'\n",
            " 'NOR' 'ARM' 'THA' 'SIN' 'TKM' 'CRO' 'BIH' 'TGA' 'MAW' 'DOM' 'GUA' 'MKD'\n",
            " 'TJK' 'CYP' 'CHI' 'MLT' 'ZIM' 'TTO' 'CRC' 'BOL' 'BUR' 'ISL' 'HAI' 'ROT'\n",
            " 'MGL' 'MAD' 'GAB' 'SRI' 'LAO' 'MRI' 'PAR' 'IVB' 'GBS' 'TLS' 'MLI' 'SYR'\n",
            " 'BOT' 'CHA' 'OMA' 'COD' 'CIV' 'GEQ' 'UGA' 'GUM' 'ASA' 'ZAM' 'VAN' 'GRN'\n",
            " 'BIZ' 'VIN' 'MON' 'ALB' 'STP' 'SLE' 'BER' 'HKG' 'ISV' 'CGO' 'ANT' 'BEN'\n",
            " 'LUX' 'PHI' 'CAF' 'PRK' 'LIE' 'MHL' 'NCA' 'KIR' 'CPV' 'INA' 'FSM' 'COM'\n",
            " 'PLW' 'MYA' 'NRU' 'LBR' 'ESA' 'AND' 'TUV' 'SUR' 'CAY' 'NEP' 'PAK' 'SSD'\n",
            " 'MTN' 'VIE' 'MOZ' 'LES' 'LCA' 'BRU' 'SOL' 'BHU' 'CAM' 'KOS' 'SOM' 'PNG'\n",
            " 'YEM' 'SWZ' 'DMA']\n",
            "\n",
            "В столбце 'sex' есть 0 пропущенных значений (NaN)\n",
            "Уникальные значения в столбце 'sex': ['male' 'female']\n",
            "\n",
            "В столбце 'dob' есть 1 пропущенных значений (NaN)\n",
            "Уникальные значения в столбце 'dob': ['10/17/69' '9/23/86' '5/27/92' ... '6/9/93' '2/7/88' '4/6/00']\n",
            "\n",
            "В столбце 'sport' есть 0 пропущенных значений (NaN)\n",
            "Уникальные значения в столбце 'sport': ['athletics' 'fencing' 'taekwondo' 'cycling' 'triathlon' 'volleyball'\n",
            " 'aquatics' 'rugby sevens' 'wrestling' 'football' 'shooting' 'boxing'\n",
            " 'equestrian' 'rowing' 'judo' 'handball' 'badminton' 'hockey'\n",
            " 'modern pentathlon' 'table tennis' 'canoe' 'basketball' 'golf' 'archery'\n",
            " 'weightlifting' 'sailing' 'tennis' 'gymnastics']\n",
            "\n"
          ]
        }
      ],
      "source": [
        "for column in data.select_dtypes(include=['object']).columns:\n",
        "    nan_values = data[column].isnull().sum()  # Подсчет числа пропущенных значений (NaN)\n",
        "    unique_values = data[column].unique()     # Получение уникальных значений в столбце\n",
        "\n",
        "    print(f\"В столбце '{column}' есть {nan_values} пропущенных значений (NaN)\")\n",
        "    print(f\"Уникальные значения в столбце '{column}': {unique_values}\\n\")"
      ]
    },
    {
      "cell_type": "code",
      "execution_count": 67,
      "metadata": {
        "colab": {
          "base_uri": "https://localhost:8080/"
        },
        "id": "RXOXh7AAF_kg",
        "outputId": "8fd801e1-4cd7-4a9b-ddcc-8c3adde2903d"
      },
      "outputs": [
        {
          "output_type": "stream",
          "name": "stdout",
          "text": [
            "В столбце 'id' есть 0 пропущенных значений (NaN)\n",
            "Уникальные значения в столбце 'id': [736041664 532037425 435962603 521041435  33922579 173071782 266237702\n",
            " 382571888  87689776 997877719]...\n",
            "В столбце 'height' есть 330 пропущенных значений (NaN)\n",
            "Уникальные значения в столбце 'height': [1.72 1.68 1.98 1.83 1.81 1.8  2.05 1.93 1.65 1.7 ]...\n",
            "В столбце 'weight' есть 659 пропущенных значений (NaN)\n",
            "Уникальные значения в столбце 'weight': [ 64.  56.  79.  80.  71.  67.  98. 100.  62.  54.]...\n",
            "В столбце 'gold' есть 0 пропущенных значений (NaN)\n",
            "Уникальные значения в столбце 'gold': [0 1 2 3 4 5]...\n",
            "В столбце 'silver' есть 0 пропущенных значений (NaN)\n",
            "Уникальные значения в столбце 'silver': [0 1 2]...\n",
            "В столбце 'bronze' есть 0 пропущенных значений (NaN)\n",
            "Уникальные значения в столбце 'bronze': [0 1 2]...\n"
          ]
        }
      ],
      "source": [
        "for column in data.columns:\n",
        "    if data[column].dtype != 'object':\n",
        "        nan_values = data[column].isnull().sum()  # Подсчет числа пропущенных значений (NaN)\n",
        "        unique_values = data[column].unique()     # Получение уникальных значений в столбце\n",
        "\n",
        "        print(f\"В столбце '{column}' есть {nan_values} пропущенных значений (NaN)\")\n",
        "        print(f\"Уникальные значения в столбце '{column}': {unique_values[:10]}...\")  # Отображает первые 10 уникальных значений для краткости\n"
      ]
    },
    {
      "cell_type": "code",
      "execution_count": 68,
      "metadata": {
        "id": "-ohjGCFrfLxw"
      },
      "outputs": [],
      "source": [
        "# Удаление всех строк, содержащих пропущенные значения (NaN) из DataFrame\n",
        "data.dropna(inplace=True)\n"
      ]
    },
    {
      "cell_type": "code",
      "execution_count": 69,
      "metadata": {
        "id": "v-rFRCgzcmAf",
        "colab": {
          "base_uri": "https://localhost:8080/"
        },
        "outputId": "2a833ee5-9484-46b3-a077-a58e2a713c7e"
      },
      "outputs": [
        {
          "output_type": "stream",
          "name": "stdout",
          "text": [
            "Специальных символов в столбце 'id' не найдено\n",
            "Специальных символов в столбце 'name' не найдено\n",
            "Специальных символов в столбце 'nationality' не найдено\n",
            "Специальных символов в столбце 'sex' не найдено\n",
            "Специальных символов в столбце 'dob' не найдено\n",
            "Специальных символов в столбце 'height' не найдено\n",
            "Специальных символов в столбце 'weight' не найдено\n",
            "Специальных символов в столбце 'sport' не найдено\n",
            "Специальных символов в столбце 'gold' не найдено\n",
            "Специальных символов в столбце 'silver' не найдено\n",
            "Специальных символов в столбце 'bronze' не найдено\n"
          ]
        }
      ],
      "source": [
        "import re\n",
        "\n",
        "# Перебор всех столбцов в датасете\n",
        "for column in data.columns:\n",
        "    # Проверка типа данных столбца\n",
        "    if data[column].dtype == 'object':\n",
        "        special_char_found = False\n",
        "        for value in data[column]:\n",
        "            if isinstance(value, str):  # Проверка, что значение является строкой\n",
        "                if value.strip() == '' or value.strip() == '-' or value.strip() == '.':\n",
        "                    print(f\"Строка только с символом '-', '.' или '' в столбце '{column}': {value}\")\n",
        "                else:\n",
        "                    result = re.search(r\"[^\\w\\s]\", str(value))  # Поиск символов, не являющихся буквами, цифрами и пробелами\n",
        "                    if result:\n",
        "                        special_char = result.group()\n",
        "                        # Проверка на исключение символов\n",
        "                        if special_char not in [\"'\", \"/\", \"-\", \".\", \"\\u0329\", \",\", \"(\", \")\"]:\n",
        "                            special_char_found = True\n",
        "                            print(f\"Первое значение со специальным символом в '{column}': {value}, символ: {special_char}\")\n",
        "                            break  # Прерываем цикл после нахождения первого значения\n",
        "            else:\n",
        "                print(f\"Обнаружено значение типа float в столбце '{column}': {value}\")\n",
        "\n",
        "        if not special_char_found:\n",
        "            if data[column].dtype == 'object' and all(special_char not in data[column].values for special_char in [\"'\", \"/\", \"-\", \".\", \"\\u0329\"]):\n",
        "                print(f\"Специальных символов в столбце '{column}' не найдено\")\n",
        "    else:\n",
        "        # Добавьте другие проверки для нестроковых столбцов, если необходимо\n",
        "        print(f\"Специальных символов в столбце '{column}' не найдено\")\n"
      ]
    },
    {
      "cell_type": "code",
      "execution_count": 70,
      "metadata": {
        "id": "_mPeOIYjfUlR",
        "colab": {
          "base_uri": "https://localhost:8080/"
        },
        "outputId": "96c87a6c-19e5-4029-f71a-e30e0e59e13d"
      },
      "outputs": [
        {
          "output_type": "stream",
          "name": "stdout",
          "text": [
            "<class 'pandas.core.frame.DataFrame'>\n",
            "Index: 10858 entries, 0 to 11537\n",
            "Data columns (total 11 columns):\n",
            " #   Column       Non-Null Count  Dtype  \n",
            "---  ------       --------------  -----  \n",
            " 0   id           10858 non-null  int64  \n",
            " 1   name         10858 non-null  object \n",
            " 2   nationality  10858 non-null  object \n",
            " 3   sex          10858 non-null  object \n",
            " 4   dob          10858 non-null  object \n",
            " 5   height       10858 non-null  float64\n",
            " 6   weight       10858 non-null  float64\n",
            " 7   sport        10858 non-null  object \n",
            " 8   gold         10858 non-null  int64  \n",
            " 9   silver       10858 non-null  int64  \n",
            " 10  bronze       10858 non-null  int64  \n",
            "dtypes: float64(2), int64(4), object(5)\n",
            "memory usage: 1017.9+ KB\n"
          ]
        }
      ],
      "source": [
        "data.info()"
      ]
    },
    {
      "cell_type": "markdown",
      "metadata": {
        "id": "DkXmuWJ8Aquu"
      },
      "source": [
        "2. Обработка категориальных переменных:\n"
      ]
    },
    {
      "cell_type": "code",
      "execution_count": 71,
      "metadata": {
        "id": "fKSujh6_AYSf"
      },
      "outputs": [],
      "source": [
        "# Закодируем категориальные переменные числовыми значениями\n",
        "data = pd.get_dummies(data, columns=['nationality', 'sport'], drop_first=True)\n",
        "\n",
        "# Целевая переменная\n",
        "y = data['sex'].apply(lambda x: 1 if x == 'female' else 0)\n",
        "\n",
        "# Удалим целевую переменную из набора данных\n",
        "X = data.drop(['sex', 'id', 'name', 'dob'], axis=1)\n"
      ]
    },
    {
      "cell_type": "code",
      "execution_count": 72,
      "metadata": {
        "id": "eoUP1LzyAuw6",
        "colab": {
          "base_uri": "https://localhost:8080/"
        },
        "outputId": "27a54d79-a2ed-4b76-c393-1e52316a3bf2"
      },
      "outputs": [
        {
          "output_type": "execute_result",
          "data": {
            "text/plain": [
              "0        0\n",
              "1        1\n",
              "2        0\n",
              "3        0\n",
              "4        0\n",
              "        ..\n",
              "11533    1\n",
              "11534    1\n",
              "11535    0\n",
              "11536    0\n",
              "11537    0\n",
              "Name: sex, Length: 10858, dtype: int64"
            ]
          },
          "metadata": {},
          "execution_count": 72
        }
      ],
      "source": [
        "y"
      ]
    },
    {
      "cell_type": "code",
      "execution_count": 73,
      "metadata": {
        "id": "zF7lNKq_Av9U",
        "colab": {
          "base_uri": "https://localhost:8080/",
          "height": 461
        },
        "outputId": "290ed02d-9194-4caf-b91b-05ebaf2936a4"
      },
      "outputs": [
        {
          "output_type": "execute_result",
          "data": {
            "text/plain": [
              "       height  weight  gold  silver  bronze  nationality_ALB  nationality_ALG  \\\n",
              "0        1.72    64.0     0       0       0            False            False   \n",
              "1        1.68    56.0     0       0       0            False            False   \n",
              "2        1.98    79.0     0       0       1            False            False   \n",
              "3        1.83    80.0     0       0       0            False            False   \n",
              "4        1.81    71.0     0       0       0            False            False   \n",
              "...       ...     ...   ...     ...     ...              ...              ...   \n",
              "11533    1.64    58.0     0       0       0            False            False   \n",
              "11534    1.73    63.0     0       0       0            False            False   \n",
              "11535    1.85   100.0     0       0       0            False            False   \n",
              "11536    1.60    56.0     0       0       0            False            False   \n",
              "11537    1.85    70.0     0       0       0            False            False   \n",
              "\n",
              "       nationality_AND  nationality_ANG  nationality_ANT  ...  \\\n",
              "0                False            False            False  ...   \n",
              "1                False            False            False  ...   \n",
              "2                False            False            False  ...   \n",
              "3                False            False            False  ...   \n",
              "4                False            False            False  ...   \n",
              "...                ...              ...              ...  ...   \n",
              "11533            False            False            False  ...   \n",
              "11534            False            False            False  ...   \n",
              "11535            False            False            False  ...   \n",
              "11536            False            False            False  ...   \n",
              "11537            False            False            False  ...   \n",
              "\n",
              "       sport_rugby sevens  sport_sailing  sport_shooting  sport_table tennis  \\\n",
              "0                   False          False           False               False   \n",
              "1                   False          False           False               False   \n",
              "2                   False          False           False               False   \n",
              "3                   False          False           False               False   \n",
              "4                   False          False           False               False   \n",
              "...                   ...            ...             ...                 ...   \n",
              "11533               False          False           False               False   \n",
              "11534               False          False           False               False   \n",
              "11535               False          False           False               False   \n",
              "11536               False          False           False               False   \n",
              "11537               False          False           False               False   \n",
              "\n",
              "       sport_taekwondo  sport_tennis  sport_triathlon  sport_volleyball  \\\n",
              "0                False         False            False             False   \n",
              "1                False         False            False             False   \n",
              "2                False         False            False             False   \n",
              "3                 True         False            False             False   \n",
              "4                False         False            False             False   \n",
              "...                ...           ...              ...               ...   \n",
              "11533            False         False            False             False   \n",
              "11534            False         False            False             False   \n",
              "11535            False         False            False             False   \n",
              "11536            False         False            False             False   \n",
              "11537            False         False            False             False   \n",
              "\n",
              "       sport_weightlifting  sport_wrestling  \n",
              "0                    False            False  \n",
              "1                    False            False  \n",
              "2                    False            False  \n",
              "3                    False            False  \n",
              "4                    False            False  \n",
              "...                    ...              ...  \n",
              "11533                False            False  \n",
              "11534                False            False  \n",
              "11535                False             True  \n",
              "11536                 True            False  \n",
              "11537                False            False  \n",
              "\n",
              "[10858 rows x 230 columns]"
            ],
            "text/html": [
              "\n",
              "  <div id=\"df-514f7f7a-253d-4b74-ad1e-3b30ad7f5db8\" class=\"colab-df-container\">\n",
              "    <div>\n",
              "<style scoped>\n",
              "    .dataframe tbody tr th:only-of-type {\n",
              "        vertical-align: middle;\n",
              "    }\n",
              "\n",
              "    .dataframe tbody tr th {\n",
              "        vertical-align: top;\n",
              "    }\n",
              "\n",
              "    .dataframe thead th {\n",
              "        text-align: right;\n",
              "    }\n",
              "</style>\n",
              "<table border=\"1\" class=\"dataframe\">\n",
              "  <thead>\n",
              "    <tr style=\"text-align: right;\">\n",
              "      <th></th>\n",
              "      <th>height</th>\n",
              "      <th>weight</th>\n",
              "      <th>gold</th>\n",
              "      <th>silver</th>\n",
              "      <th>bronze</th>\n",
              "      <th>nationality_ALB</th>\n",
              "      <th>nationality_ALG</th>\n",
              "      <th>nationality_AND</th>\n",
              "      <th>nationality_ANG</th>\n",
              "      <th>nationality_ANT</th>\n",
              "      <th>...</th>\n",
              "      <th>sport_rugby sevens</th>\n",
              "      <th>sport_sailing</th>\n",
              "      <th>sport_shooting</th>\n",
              "      <th>sport_table tennis</th>\n",
              "      <th>sport_taekwondo</th>\n",
              "      <th>sport_tennis</th>\n",
              "      <th>sport_triathlon</th>\n",
              "      <th>sport_volleyball</th>\n",
              "      <th>sport_weightlifting</th>\n",
              "      <th>sport_wrestling</th>\n",
              "    </tr>\n",
              "  </thead>\n",
              "  <tbody>\n",
              "    <tr>\n",
              "      <th>0</th>\n",
              "      <td>1.72</td>\n",
              "      <td>64.0</td>\n",
              "      <td>0</td>\n",
              "      <td>0</td>\n",
              "      <td>0</td>\n",
              "      <td>False</td>\n",
              "      <td>False</td>\n",
              "      <td>False</td>\n",
              "      <td>False</td>\n",
              "      <td>False</td>\n",
              "      <td>...</td>\n",
              "      <td>False</td>\n",
              "      <td>False</td>\n",
              "      <td>False</td>\n",
              "      <td>False</td>\n",
              "      <td>False</td>\n",
              "      <td>False</td>\n",
              "      <td>False</td>\n",
              "      <td>False</td>\n",
              "      <td>False</td>\n",
              "      <td>False</td>\n",
              "    </tr>\n",
              "    <tr>\n",
              "      <th>1</th>\n",
              "      <td>1.68</td>\n",
              "      <td>56.0</td>\n",
              "      <td>0</td>\n",
              "      <td>0</td>\n",
              "      <td>0</td>\n",
              "      <td>False</td>\n",
              "      <td>False</td>\n",
              "      <td>False</td>\n",
              "      <td>False</td>\n",
              "      <td>False</td>\n",
              "      <td>...</td>\n",
              "      <td>False</td>\n",
              "      <td>False</td>\n",
              "      <td>False</td>\n",
              "      <td>False</td>\n",
              "      <td>False</td>\n",
              "      <td>False</td>\n",
              "      <td>False</td>\n",
              "      <td>False</td>\n",
              "      <td>False</td>\n",
              "      <td>False</td>\n",
              "    </tr>\n",
              "    <tr>\n",
              "      <th>2</th>\n",
              "      <td>1.98</td>\n",
              "      <td>79.0</td>\n",
              "      <td>0</td>\n",
              "      <td>0</td>\n",
              "      <td>1</td>\n",
              "      <td>False</td>\n",
              "      <td>False</td>\n",
              "      <td>False</td>\n",
              "      <td>False</td>\n",
              "      <td>False</td>\n",
              "      <td>...</td>\n",
              "      <td>False</td>\n",
              "      <td>False</td>\n",
              "      <td>False</td>\n",
              "      <td>False</td>\n",
              "      <td>False</td>\n",
              "      <td>False</td>\n",
              "      <td>False</td>\n",
              "      <td>False</td>\n",
              "      <td>False</td>\n",
              "      <td>False</td>\n",
              "    </tr>\n",
              "    <tr>\n",
              "      <th>3</th>\n",
              "      <td>1.83</td>\n",
              "      <td>80.0</td>\n",
              "      <td>0</td>\n",
              "      <td>0</td>\n",
              "      <td>0</td>\n",
              "      <td>False</td>\n",
              "      <td>False</td>\n",
              "      <td>False</td>\n",
              "      <td>False</td>\n",
              "      <td>False</td>\n",
              "      <td>...</td>\n",
              "      <td>False</td>\n",
              "      <td>False</td>\n",
              "      <td>False</td>\n",
              "      <td>False</td>\n",
              "      <td>True</td>\n",
              "      <td>False</td>\n",
              "      <td>False</td>\n",
              "      <td>False</td>\n",
              "      <td>False</td>\n",
              "      <td>False</td>\n",
              "    </tr>\n",
              "    <tr>\n",
              "      <th>4</th>\n",
              "      <td>1.81</td>\n",
              "      <td>71.0</td>\n",
              "      <td>0</td>\n",
              "      <td>0</td>\n",
              "      <td>0</td>\n",
              "      <td>False</td>\n",
              "      <td>False</td>\n",
              "      <td>False</td>\n",
              "      <td>False</td>\n",
              "      <td>False</td>\n",
              "      <td>...</td>\n",
              "      <td>False</td>\n",
              "      <td>False</td>\n",
              "      <td>False</td>\n",
              "      <td>False</td>\n",
              "      <td>False</td>\n",
              "      <td>False</td>\n",
              "      <td>False</td>\n",
              "      <td>False</td>\n",
              "      <td>False</td>\n",
              "      <td>False</td>\n",
              "    </tr>\n",
              "    <tr>\n",
              "      <th>...</th>\n",
              "      <td>...</td>\n",
              "      <td>...</td>\n",
              "      <td>...</td>\n",
              "      <td>...</td>\n",
              "      <td>...</td>\n",
              "      <td>...</td>\n",
              "      <td>...</td>\n",
              "      <td>...</td>\n",
              "      <td>...</td>\n",
              "      <td>...</td>\n",
              "      <td>...</td>\n",
              "      <td>...</td>\n",
              "      <td>...</td>\n",
              "      <td>...</td>\n",
              "      <td>...</td>\n",
              "      <td>...</td>\n",
              "      <td>...</td>\n",
              "      <td>...</td>\n",
              "      <td>...</td>\n",
              "      <td>...</td>\n",
              "      <td>...</td>\n",
              "    </tr>\n",
              "    <tr>\n",
              "      <th>11533</th>\n",
              "      <td>1.64</td>\n",
              "      <td>58.0</td>\n",
              "      <td>0</td>\n",
              "      <td>0</td>\n",
              "      <td>0</td>\n",
              "      <td>False</td>\n",
              "      <td>False</td>\n",
              "      <td>False</td>\n",
              "      <td>False</td>\n",
              "      <td>False</td>\n",
              "      <td>...</td>\n",
              "      <td>False</td>\n",
              "      <td>False</td>\n",
              "      <td>False</td>\n",
              "      <td>False</td>\n",
              "      <td>False</td>\n",
              "      <td>False</td>\n",
              "      <td>False</td>\n",
              "      <td>False</td>\n",
              "      <td>False</td>\n",
              "      <td>False</td>\n",
              "    </tr>\n",
              "    <tr>\n",
              "      <th>11534</th>\n",
              "      <td>1.73</td>\n",
              "      <td>63.0</td>\n",
              "      <td>0</td>\n",
              "      <td>0</td>\n",
              "      <td>0</td>\n",
              "      <td>False</td>\n",
              "      <td>False</td>\n",
              "      <td>False</td>\n",
              "      <td>False</td>\n",
              "      <td>False</td>\n",
              "      <td>...</td>\n",
              "      <td>False</td>\n",
              "      <td>False</td>\n",
              "      <td>False</td>\n",
              "      <td>False</td>\n",
              "      <td>False</td>\n",
              "      <td>False</td>\n",
              "      <td>False</td>\n",
              "      <td>False</td>\n",
              "      <td>False</td>\n",
              "      <td>False</td>\n",
              "    </tr>\n",
              "    <tr>\n",
              "      <th>11535</th>\n",
              "      <td>1.85</td>\n",
              "      <td>100.0</td>\n",
              "      <td>0</td>\n",
              "      <td>0</td>\n",
              "      <td>0</td>\n",
              "      <td>False</td>\n",
              "      <td>False</td>\n",
              "      <td>False</td>\n",
              "      <td>False</td>\n",
              "      <td>False</td>\n",
              "      <td>...</td>\n",
              "      <td>False</td>\n",
              "      <td>False</td>\n",
              "      <td>False</td>\n",
              "      <td>False</td>\n",
              "      <td>False</td>\n",
              "      <td>False</td>\n",
              "      <td>False</td>\n",
              "      <td>False</td>\n",
              "      <td>False</td>\n",
              "      <td>True</td>\n",
              "    </tr>\n",
              "    <tr>\n",
              "      <th>11536</th>\n",
              "      <td>1.60</td>\n",
              "      <td>56.0</td>\n",
              "      <td>0</td>\n",
              "      <td>0</td>\n",
              "      <td>0</td>\n",
              "      <td>False</td>\n",
              "      <td>False</td>\n",
              "      <td>False</td>\n",
              "      <td>False</td>\n",
              "      <td>False</td>\n",
              "      <td>...</td>\n",
              "      <td>False</td>\n",
              "      <td>False</td>\n",
              "      <td>False</td>\n",
              "      <td>False</td>\n",
              "      <td>False</td>\n",
              "      <td>False</td>\n",
              "      <td>False</td>\n",
              "      <td>False</td>\n",
              "      <td>True</td>\n",
              "      <td>False</td>\n",
              "    </tr>\n",
              "    <tr>\n",
              "      <th>11537</th>\n",
              "      <td>1.85</td>\n",
              "      <td>70.0</td>\n",
              "      <td>0</td>\n",
              "      <td>0</td>\n",
              "      <td>0</td>\n",
              "      <td>False</td>\n",
              "      <td>False</td>\n",
              "      <td>False</td>\n",
              "      <td>False</td>\n",
              "      <td>False</td>\n",
              "      <td>...</td>\n",
              "      <td>False</td>\n",
              "      <td>False</td>\n",
              "      <td>False</td>\n",
              "      <td>False</td>\n",
              "      <td>False</td>\n",
              "      <td>False</td>\n",
              "      <td>False</td>\n",
              "      <td>False</td>\n",
              "      <td>False</td>\n",
              "      <td>False</td>\n",
              "    </tr>\n",
              "  </tbody>\n",
              "</table>\n",
              "<p>10858 rows × 230 columns</p>\n",
              "</div>\n",
              "    <div class=\"colab-df-buttons\">\n",
              "\n",
              "  <div class=\"colab-df-container\">\n",
              "    <button class=\"colab-df-convert\" onclick=\"convertToInteractive('df-514f7f7a-253d-4b74-ad1e-3b30ad7f5db8')\"\n",
              "            title=\"Convert this dataframe to an interactive table.\"\n",
              "            style=\"display:none;\">\n",
              "\n",
              "  <svg xmlns=\"http://www.w3.org/2000/svg\" height=\"24px\" viewBox=\"0 -960 960 960\">\n",
              "    <path d=\"M120-120v-720h720v720H120Zm60-500h600v-160H180v160Zm220 220h160v-160H400v160Zm0 220h160v-160H400v160ZM180-400h160v-160H180v160Zm440 0h160v-160H620v160ZM180-180h160v-160H180v160Zm440 0h160v-160H620v160Z\"/>\n",
              "  </svg>\n",
              "    </button>\n",
              "\n",
              "  <style>\n",
              "    .colab-df-container {\n",
              "      display:flex;\n",
              "      gap: 12px;\n",
              "    }\n",
              "\n",
              "    .colab-df-convert {\n",
              "      background-color: #E8F0FE;\n",
              "      border: none;\n",
              "      border-radius: 50%;\n",
              "      cursor: pointer;\n",
              "      display: none;\n",
              "      fill: #1967D2;\n",
              "      height: 32px;\n",
              "      padding: 0 0 0 0;\n",
              "      width: 32px;\n",
              "    }\n",
              "\n",
              "    .colab-df-convert:hover {\n",
              "      background-color: #E2EBFA;\n",
              "      box-shadow: 0px 1px 2px rgba(60, 64, 67, 0.3), 0px 1px 3px 1px rgba(60, 64, 67, 0.15);\n",
              "      fill: #174EA6;\n",
              "    }\n",
              "\n",
              "    .colab-df-buttons div {\n",
              "      margin-bottom: 4px;\n",
              "    }\n",
              "\n",
              "    [theme=dark] .colab-df-convert {\n",
              "      background-color: #3B4455;\n",
              "      fill: #D2E3FC;\n",
              "    }\n",
              "\n",
              "    [theme=dark] .colab-df-convert:hover {\n",
              "      background-color: #434B5C;\n",
              "      box-shadow: 0px 1px 3px 1px rgba(0, 0, 0, 0.15);\n",
              "      filter: drop-shadow(0px 1px 2px rgba(0, 0, 0, 0.3));\n",
              "      fill: #FFFFFF;\n",
              "    }\n",
              "  </style>\n",
              "\n",
              "    <script>\n",
              "      const buttonEl =\n",
              "        document.querySelector('#df-514f7f7a-253d-4b74-ad1e-3b30ad7f5db8 button.colab-df-convert');\n",
              "      buttonEl.style.display =\n",
              "        google.colab.kernel.accessAllowed ? 'block' : 'none';\n",
              "\n",
              "      async function convertToInteractive(key) {\n",
              "        const element = document.querySelector('#df-514f7f7a-253d-4b74-ad1e-3b30ad7f5db8');\n",
              "        const dataTable =\n",
              "          await google.colab.kernel.invokeFunction('convertToInteractive',\n",
              "                                                    [key], {});\n",
              "        if (!dataTable) return;\n",
              "\n",
              "        const docLinkHtml = 'Like what you see? Visit the ' +\n",
              "          '<a target=\"_blank\" href=https://colab.research.google.com/notebooks/data_table.ipynb>data table notebook</a>'\n",
              "          + ' to learn more about interactive tables.';\n",
              "        element.innerHTML = '';\n",
              "        dataTable['output_type'] = 'display_data';\n",
              "        await google.colab.output.renderOutput(dataTable, element);\n",
              "        const docLink = document.createElement('div');\n",
              "        docLink.innerHTML = docLinkHtml;\n",
              "        element.appendChild(docLink);\n",
              "      }\n",
              "    </script>\n",
              "  </div>\n",
              "\n",
              "\n",
              "<div id=\"df-9c6bee7f-8e0f-4b7a-a1f6-f5fb3f49db7c\">\n",
              "  <button class=\"colab-df-quickchart\" onclick=\"quickchart('df-9c6bee7f-8e0f-4b7a-a1f6-f5fb3f49db7c')\"\n",
              "            title=\"Suggest charts\"\n",
              "            style=\"display:none;\">\n",
              "\n",
              "<svg xmlns=\"http://www.w3.org/2000/svg\" height=\"24px\"viewBox=\"0 0 24 24\"\n",
              "     width=\"24px\">\n",
              "    <g>\n",
              "        <path d=\"M19 3H5c-1.1 0-2 .9-2 2v14c0 1.1.9 2 2 2h14c1.1 0 2-.9 2-2V5c0-1.1-.9-2-2-2zM9 17H7v-7h2v7zm4 0h-2V7h2v10zm4 0h-2v-4h2v4z\"/>\n",
              "    </g>\n",
              "</svg>\n",
              "  </button>\n",
              "\n",
              "<style>\n",
              "  .colab-df-quickchart {\n",
              "      --bg-color: #E8F0FE;\n",
              "      --fill-color: #1967D2;\n",
              "      --hover-bg-color: #E2EBFA;\n",
              "      --hover-fill-color: #174EA6;\n",
              "      --disabled-fill-color: #AAA;\n",
              "      --disabled-bg-color: #DDD;\n",
              "  }\n",
              "\n",
              "  [theme=dark] .colab-df-quickchart {\n",
              "      --bg-color: #3B4455;\n",
              "      --fill-color: #D2E3FC;\n",
              "      --hover-bg-color: #434B5C;\n",
              "      --hover-fill-color: #FFFFFF;\n",
              "      --disabled-bg-color: #3B4455;\n",
              "      --disabled-fill-color: #666;\n",
              "  }\n",
              "\n",
              "  .colab-df-quickchart {\n",
              "    background-color: var(--bg-color);\n",
              "    border: none;\n",
              "    border-radius: 50%;\n",
              "    cursor: pointer;\n",
              "    display: none;\n",
              "    fill: var(--fill-color);\n",
              "    height: 32px;\n",
              "    padding: 0;\n",
              "    width: 32px;\n",
              "  }\n",
              "\n",
              "  .colab-df-quickchart:hover {\n",
              "    background-color: var(--hover-bg-color);\n",
              "    box-shadow: 0 1px 2px rgba(60, 64, 67, 0.3), 0 1px 3px 1px rgba(60, 64, 67, 0.15);\n",
              "    fill: var(--button-hover-fill-color);\n",
              "  }\n",
              "\n",
              "  .colab-df-quickchart-complete:disabled,\n",
              "  .colab-df-quickchart-complete:disabled:hover {\n",
              "    background-color: var(--disabled-bg-color);\n",
              "    fill: var(--disabled-fill-color);\n",
              "    box-shadow: none;\n",
              "  }\n",
              "\n",
              "  .colab-df-spinner {\n",
              "    border: 2px solid var(--fill-color);\n",
              "    border-color: transparent;\n",
              "    border-bottom-color: var(--fill-color);\n",
              "    animation:\n",
              "      spin 1s steps(1) infinite;\n",
              "  }\n",
              "\n",
              "  @keyframes spin {\n",
              "    0% {\n",
              "      border-color: transparent;\n",
              "      border-bottom-color: var(--fill-color);\n",
              "      border-left-color: var(--fill-color);\n",
              "    }\n",
              "    20% {\n",
              "      border-color: transparent;\n",
              "      border-left-color: var(--fill-color);\n",
              "      border-top-color: var(--fill-color);\n",
              "    }\n",
              "    30% {\n",
              "      border-color: transparent;\n",
              "      border-left-color: var(--fill-color);\n",
              "      border-top-color: var(--fill-color);\n",
              "      border-right-color: var(--fill-color);\n",
              "    }\n",
              "    40% {\n",
              "      border-color: transparent;\n",
              "      border-right-color: var(--fill-color);\n",
              "      border-top-color: var(--fill-color);\n",
              "    }\n",
              "    60% {\n",
              "      border-color: transparent;\n",
              "      border-right-color: var(--fill-color);\n",
              "    }\n",
              "    80% {\n",
              "      border-color: transparent;\n",
              "      border-right-color: var(--fill-color);\n",
              "      border-bottom-color: var(--fill-color);\n",
              "    }\n",
              "    90% {\n",
              "      border-color: transparent;\n",
              "      border-bottom-color: var(--fill-color);\n",
              "    }\n",
              "  }\n",
              "</style>\n",
              "\n",
              "  <script>\n",
              "    async function quickchart(key) {\n",
              "      const quickchartButtonEl =\n",
              "        document.querySelector('#' + key + ' button');\n",
              "      quickchartButtonEl.disabled = true;  // To prevent multiple clicks.\n",
              "      quickchartButtonEl.classList.add('colab-df-spinner');\n",
              "      try {\n",
              "        const charts = await google.colab.kernel.invokeFunction(\n",
              "            'suggestCharts', [key], {});\n",
              "      } catch (error) {\n",
              "        console.error('Error during call to suggestCharts:', error);\n",
              "      }\n",
              "      quickchartButtonEl.classList.remove('colab-df-spinner');\n",
              "      quickchartButtonEl.classList.add('colab-df-quickchart-complete');\n",
              "    }\n",
              "    (() => {\n",
              "      let quickchartButtonEl =\n",
              "        document.querySelector('#df-9c6bee7f-8e0f-4b7a-a1f6-f5fb3f49db7c button');\n",
              "      quickchartButtonEl.style.display =\n",
              "        google.colab.kernel.accessAllowed ? 'block' : 'none';\n",
              "    })();\n",
              "  </script>\n",
              "</div>\n",
              "    </div>\n",
              "  </div>\n"
            ],
            "application/vnd.google.colaboratory.intrinsic+json": {
              "type": "dataframe",
              "variable_name": "X"
            }
          },
          "metadata": {},
          "execution_count": 73
        }
      ],
      "source": [
        "X"
      ]
    },
    {
      "cell_type": "markdown",
      "metadata": {
        "id": "pZYmTDbnBwh7"
      },
      "source": [
        "### Шаг 2: Разделение выборки на обучающее и тестовое подмножества"
      ]
    },
    {
      "cell_type": "code",
      "execution_count": 74,
      "metadata": {
        "id": "dQWfZ9ayBv6j"
      },
      "outputs": [],
      "source": [
        "# Разделение данных на обучающий и тестовый наборы\n",
        "X_train, X_test, y_train, y_test = train_test_split(X, y, test_size=0.2, random_state=42)\n"
      ]
    },
    {
      "cell_type": "markdown",
      "metadata": {
        "id": "qYCiZgoRCGYq"
      },
      "source": [
        "### Шаг 3: Построение ROC-кривой с помощью функции sklearn.metrics. roc_curve."
      ]
    },
    {
      "cell_type": "code",
      "execution_count": 75,
      "metadata": {
        "id": "R_XSyoR3V-ZW",
        "colab": {
          "base_uri": "https://localhost:8080/",
          "height": 75
        },
        "outputId": "8a3c0036-9103-4cf0-ff4b-3857dc491f13"
      },
      "outputs": [
        {
          "output_type": "execute_result",
          "data": {
            "text/plain": [
              "LogisticRegression(max_iter=1000)"
            ],
            "text/html": [
              "<style>#sk-container-id-3 {color: black;background-color: white;}#sk-container-id-3 pre{padding: 0;}#sk-container-id-3 div.sk-toggleable {background-color: white;}#sk-container-id-3 label.sk-toggleable__label {cursor: pointer;display: block;width: 100%;margin-bottom: 0;padding: 0.3em;box-sizing: border-box;text-align: center;}#sk-container-id-3 label.sk-toggleable__label-arrow:before {content: \"▸\";float: left;margin-right: 0.25em;color: #696969;}#sk-container-id-3 label.sk-toggleable__label-arrow:hover:before {color: black;}#sk-container-id-3 div.sk-estimator:hover label.sk-toggleable__label-arrow:before {color: black;}#sk-container-id-3 div.sk-toggleable__content {max-height: 0;max-width: 0;overflow: hidden;text-align: left;background-color: #f0f8ff;}#sk-container-id-3 div.sk-toggleable__content pre {margin: 0.2em;color: black;border-radius: 0.25em;background-color: #f0f8ff;}#sk-container-id-3 input.sk-toggleable__control:checked~div.sk-toggleable__content {max-height: 200px;max-width: 100%;overflow: auto;}#sk-container-id-3 input.sk-toggleable__control:checked~label.sk-toggleable__label-arrow:before {content: \"▾\";}#sk-container-id-3 div.sk-estimator input.sk-toggleable__control:checked~label.sk-toggleable__label {background-color: #d4ebff;}#sk-container-id-3 div.sk-label input.sk-toggleable__control:checked~label.sk-toggleable__label {background-color: #d4ebff;}#sk-container-id-3 input.sk-hidden--visually {border: 0;clip: rect(1px 1px 1px 1px);clip: rect(1px, 1px, 1px, 1px);height: 1px;margin: -1px;overflow: hidden;padding: 0;position: absolute;width: 1px;}#sk-container-id-3 div.sk-estimator {font-family: monospace;background-color: #f0f8ff;border: 1px dotted black;border-radius: 0.25em;box-sizing: border-box;margin-bottom: 0.5em;}#sk-container-id-3 div.sk-estimator:hover {background-color: #d4ebff;}#sk-container-id-3 div.sk-parallel-item::after {content: \"\";width: 100%;border-bottom: 1px solid gray;flex-grow: 1;}#sk-container-id-3 div.sk-label:hover label.sk-toggleable__label {background-color: #d4ebff;}#sk-container-id-3 div.sk-serial::before {content: \"\";position: absolute;border-left: 1px solid gray;box-sizing: border-box;top: 0;bottom: 0;left: 50%;z-index: 0;}#sk-container-id-3 div.sk-serial {display: flex;flex-direction: column;align-items: center;background-color: white;padding-right: 0.2em;padding-left: 0.2em;position: relative;}#sk-container-id-3 div.sk-item {position: relative;z-index: 1;}#sk-container-id-3 div.sk-parallel {display: flex;align-items: stretch;justify-content: center;background-color: white;position: relative;}#sk-container-id-3 div.sk-item::before, #sk-container-id-3 div.sk-parallel-item::before {content: \"\";position: absolute;border-left: 1px solid gray;box-sizing: border-box;top: 0;bottom: 0;left: 50%;z-index: -1;}#sk-container-id-3 div.sk-parallel-item {display: flex;flex-direction: column;z-index: 1;position: relative;background-color: white;}#sk-container-id-3 div.sk-parallel-item:first-child::after {align-self: flex-end;width: 50%;}#sk-container-id-3 div.sk-parallel-item:last-child::after {align-self: flex-start;width: 50%;}#sk-container-id-3 div.sk-parallel-item:only-child::after {width: 0;}#sk-container-id-3 div.sk-dashed-wrapped {border: 1px dashed gray;margin: 0 0.4em 0.5em 0.4em;box-sizing: border-box;padding-bottom: 0.4em;background-color: white;}#sk-container-id-3 div.sk-label label {font-family: monospace;font-weight: bold;display: inline-block;line-height: 1.2em;}#sk-container-id-3 div.sk-label-container {text-align: center;}#sk-container-id-3 div.sk-container {/* jupyter's `normalize.less` sets `[hidden] { display: none; }` but bootstrap.min.css set `[hidden] { display: none !important; }` so we also need the `!important` here to be able to override the default hidden behavior on the sphinx rendered scikit-learn.org. See: https://github.com/scikit-learn/scikit-learn/issues/21755 */display: inline-block !important;position: relative;}#sk-container-id-3 div.sk-text-repr-fallback {display: none;}</style><div id=\"sk-container-id-3\" class=\"sk-top-container\"><div class=\"sk-text-repr-fallback\"><pre>LogisticRegression(max_iter=1000)</pre><b>In a Jupyter environment, please rerun this cell to show the HTML representation or trust the notebook. <br />On GitHub, the HTML representation is unable to render, please try loading this page with nbviewer.org.</b></div><div class=\"sk-container\" hidden><div class=\"sk-item\"><div class=\"sk-estimator sk-toggleable\"><input class=\"sk-toggleable__control sk-hidden--visually\" id=\"sk-estimator-id-3\" type=\"checkbox\" checked><label for=\"sk-estimator-id-3\" class=\"sk-toggleable__label sk-toggleable__label-arrow\">LogisticRegression</label><div class=\"sk-toggleable__content\"><pre>LogisticRegression(max_iter=1000)</pre></div></div></div></div></div>"
            ]
          },
          "metadata": {},
          "execution_count": 75
        }
      ],
      "source": [
        "# Создание и обучение модели\n",
        "model = LogisticRegression(max_iter=1000)\n",
        "model.fit(X_train, y_train)"
      ]
    },
    {
      "cell_type": "code",
      "source": [
        "# Получение вероятностей принадлежности к классу 1\n",
        "y_pred_prob = model.predict_proba(X_test)[:,1]"
      ],
      "metadata": {
        "id": "e8RDG7lYdGSX"
      },
      "execution_count": 76,
      "outputs": []
    },
    {
      "cell_type": "code",
      "source": [
        "y_pred_prob"
      ],
      "metadata": {
        "colab": {
          "base_uri": "https://localhost:8080/"
        },
        "id": "JgTA_8C-di8j",
        "outputId": "d319877a-acfc-46ad-d496-600203da4c5f"
      },
      "execution_count": 77,
      "outputs": [
        {
          "output_type": "execute_result",
          "data": {
            "text/plain": [
              "array([0.06741785, 0.04253504, 0.72571248, ..., 0.01617145, 0.88391674,\n",
              "       0.258501  ])"
            ]
          },
          "metadata": {},
          "execution_count": 77
        }
      ]
    },
    {
      "cell_type": "code",
      "source": [
        "# Рассчитываем значения FPR, TPR и порогов для построения ROC-кривой\n",
        "fpr, tpr, thresholds = roc_curve(y_test, y_pred_prob)\n",
        "\n",
        "# Вычисляем площадь под ROC-кривой для оценки качества модели\n",
        "roc_auc = auc(fpr, tpr)"
      ],
      "metadata": {
        "id": "rXTQRQR1dhTz"
      },
      "execution_count": 78,
      "outputs": []
    },
    {
      "cell_type": "code",
      "source": [
        "# Построение ROC-кривой\n",
        "plt.figure(figsize=(10, 7))\n",
        "plt.plot(fpr, tpr, color='darkorange', lw=2, label='ROC-кривая (площадь = %0.2f)' % roc_auc)\n",
        "plt.plot([0, 1], [0, 1], color='navy', lw=2, linestyle='--')\n",
        "plt.xlabel('Ложноположительная доля (FPR)')\n",
        "plt.ylabel('Истинноположительная доля (TPR)')\n",
        "plt.title('ROC-кривая')\n",
        "plt.legend(loc=\"lower right\")\n",
        "plt.show()"
      ],
      "metadata": {
        "colab": {
          "base_uri": "https://localhost:8080/",
          "height": 641
        },
        "id": "NFMcpJYCc4UI",
        "outputId": "732d7339-08aa-4a07-9384-d1ed61ac8ff8"
      },
      "execution_count": 79,
      "outputs": [
        {
          "output_type": "display_data",
          "data": {
            "text/plain": [
              "<Figure size 1000x700 with 1 Axes>"
            ],
            "image/png": "[encoded data removed]"
          },
          "metadata": {}
        }
      ]
    },
    {
      "cell_type": "markdown",
      "metadata": {
        "id": "fz-oA_SHDSxd"
      },
      "source": [
        "### Шаг 4: Вычислим значение ROC-AUC метрики с помощью функции sklearn.metrics.roc_auc_score."
      ]
    },
    {
      "cell_type": "code",
      "execution_count": 80,
      "metadata": {
        "id": "AYbNCSKhMiQU",
        "colab": {
          "base_uri": "https://localhost:8080/"
        },
        "outputId": "b7014f6d-24a7-44f5-944d-f2fe2a7895fa"
      },
      "outputs": [
        {
          "output_type": "stream",
          "name": "stdout",
          "text": [
            "Значение ROC-AUC метрики: 0.9052786503243819\n"
          ]
        }
      ],
      "source": [
        "# Вычисляем значение ROC-AUC метрики\n",
        "roc_auc = roc_auc_score(y_test, y_pred_prob)\n",
        "\n",
        "# Выводим значение ROC-AUC на экран\n",
        "print(\"Значение ROC-AUC метрики:\", roc_auc)"
      ]
    },
    {
      "cell_type": "markdown",
      "metadata": {
        "id": "NBbYqFd4SORb"
      },
      "source": [
        "#### Оценка качества модели на основе графика ROC-кривой:\n",
        "1. ROC-кривая: График, отражающий зависимость TPR (True Positive Rate) от FPR (False Positive Rate) при различных пороговых значениях. Чем ближе кривая к верхнему левому углу (TPR=1, FPR=0), тем лучше модель различает классы.\n",
        "\n",
        "2. Площадь под ROC-кривой (ROC-AUC): Площадь под ROC-кривой является количественной метрикой оценки качества модели. Значение близкое к 1 (или 100%) указывает на высокую способность модели различать классы. Наш результат ROC-AUC: 0.905 является очень хорошим показателем.\n",
        "\n",
        "3. ROC-кривая может проходить ниже диагональной линии, которая представляет случайное угадывание. Когда ROC-кривая проходит ниже диагональной линии, это означает, что модель классификации работает хуже, чем случайное угадывание. В таком случае говорят, что модель имеет обратную (или инвертированную) производительность."
      ]
    },
    {
      "cell_type": "markdown",
      "metadata": {
        "id": "4-fO-E2WDp4Q"
      },
      "source": [
        "### Шаг 5: подсчет метрик TPR, FPR «вручную», без использования готовых функций из библиотеки sklearn."
      ]
    },
    {
      "cell_type": "code",
      "execution_count": 81,
      "metadata": {
        "id": "9Rk76f8LxIsr"
      },
      "outputs": [],
      "source": [
        "# Отсортируем вероятности принадлежности к классу 1 в порядке убывания\n",
        "sorted_probabilities = np.sort(y_pred_prob)[::-1]\n",
        "\n",
        "# Инициализируем списки для хранения TPR, FPR, Precision и Recall\n",
        "tpr_manual = []\n",
        "fpr_manual = []\n",
        "precision_manual = []\n",
        "recall_manual = []\n",
        "\n",
        "# Пройдемся по порогам классификации\n",
        "for threshold in sorted_probabilities:\n",
        "    # Классифицируем объекты по текущему порогу\n",
        "    y_pred = (y_pred_prob >= threshold).astype(int)\n",
        "\n",
        "    # Вычисляем True Positive, False Positive, True Negative и False Negative\n",
        "    true_positives = np.sum((y_test == 1) & (y_pred == 1))\n",
        "    false_positives = np.sum((y_test == 0) & (y_pred == 1))\n",
        "    true_negatives = np.sum((y_test == 0) & (y_pred == 0))\n",
        "    false_negatives = np.sum((y_test == 1) & (y_pred == 0))\n",
        "\n",
        "    # Вычисляем TPR и FPR\n",
        "    tpr = true_positives / (true_positives + false_negatives)\n",
        "    fpr = false_positives / (false_positives + true_negatives)\n",
        "\n",
        "    # Вычисляем Precision и Recall\n",
        "    precision = true_positives / (true_positives + false_positives)\n",
        "    recall = true_positives / (true_positives + false_negatives)\n",
        "\n",
        "    # Добавляем значения в списки\n",
        "    tpr_manual.append(tpr)\n",
        "    fpr_manual.append(fpr)\n",
        "    precision_manual.append(precision)\n",
        "    recall_manual.append(recall)"
      ]
    },
    {
      "cell_type": "markdown",
      "metadata": {
        "id": "dnEUcow7D0gh"
      },
      "source": [
        "### Шаг 6: Построим ROC-кривую с помощью вычисленных в ручную метрик:\n"
      ]
    },
    {
      "cell_type": "code",
      "execution_count": 82,
      "metadata": {
        "id": "YBfGg3L6bMOf",
        "colab": {
          "base_uri": "https://localhost:8080/",
          "height": 641
        },
        "outputId": "6e2c5791-737d-400d-8c5e-749240cd33b9"
      },
      "outputs": [
        {
          "output_type": "display_data",
          "data": {
            "text/plain": [
              "<Figure size 1000x700 with 1 Axes>"
            ],
            "image/png": "[encoded data removed]"
          },
          "metadata": {}
        }
      ],
      "source": [
        "# Построим ROC-кривую, используя ручные расчеты\n",
        "plt.figure(figsize=(10, 7))\n",
        "plt.plot(fpr_manual, tpr_manual, color='darkorange', lw=2, label='ROC-кривая (ручной расчет)')\n",
        "plt.plot([0, 1], [0, 1], color='navy', lw=2, linestyle='--')\n",
        "plt.xlabel('Ложноположительная доля (FPR)')\n",
        "plt.ylabel('Истинноположительная доля (TPR)')\n",
        "plt.title('ROC-кривая (ручной расчет)')\n",
        "plt.legend(loc=\"lower right\")\n",
        "plt.show()"
      ]
    },
    {
      "cell_type": "markdown",
      "metadata": {
        "id": "hRapksrXcZIv"
      },
      "source": [
        "#### Объединим графики из п. 3 и п. 6 в один"
      ]
    },
    {
      "cell_type": "code",
      "source": [
        "plt.figure(figsize=(10, 6))\n",
        "# ROC-кривая, построенная с использованием scikit-learn\n",
        "plt.plot(fpr, tpr, color='blue', lw=2, label=f'ROC-кривая (построена scikit-learn, площадь = {roc_auc:.2f})')\n",
        "# ROC-кривая, построенная вручную\n",
        "plt.plot(fpr_manual, tpr_manual, color='darkorange', lw=2, label=f'ROC-кривая (построена вручную, площадь = {auc(fpr_manual, tpr_manual):.2f})')\n",
        "plt.plot([0, 1], [0, 1], color='navy', lw=2, linestyle='--')\n",
        "plt.xlim([0.0, 1.0])\n",
        "plt.ylim([0.0, 1.05])\n",
        "plt.xlabel('Ложноположительная оценка (FPR)')\n",
        "plt.ylabel('Истинноположительная оценка (TPR)')\n",
        "plt.title('ROC-кривая')\n",
        "plt.legend(loc=\"lower right\", fontsize='small')\n",
        "plt.grid(True)\n",
        "plt.show()\n"
      ],
      "metadata": {
        "colab": {
          "base_uri": "https://localhost:8080/",
          "height": 564
        },
        "id": "wMzEMslLlnlJ",
        "outputId": "8c519926-c208-4bce-b3d2-e8ae7c166a95"
      },
      "execution_count": 83,
      "outputs": [
        {
          "output_type": "display_data",
          "data": {
            "text/plain": [
              "<Figure size 1000x600 with 1 Axes>"
            ],
            "image/png": "[encoded data removed]"
          },
          "metadata": {}
        }
      ]
    },
    {
      "cell_type": "markdown",
      "metadata": {
        "id": "Xl6DRAe8c96K"
      },
      "source": [
        "#### Теперь проведем анализ и сделаем выводы:\n",
        "\n",
        "1. Степень отклонения: В данном случае формы ROC-кривых, построенных с использованием scikit-learn и вручную, не отличаются друг от друга. Это означает, что обе кривые демонстрируют сопоставимую способность модели различать классы и отлично согласуются друг с другом.\n",
        "\n",
        "2. Область под кривой (AUC-ROC):\n",
        "   - ROC-кривая, построенная с помощью scikit-learn, имеет площадь под кривой AUC = 0,91.\n",
        "   - ROC-кривая, построенная вручную, также имеет площадь под кривой AUC = 0,91.\n",
        "\n",
        "Полученные значения AUC для обеих ROC-кривых практически идентичны, что указывает на то, что обе модели классификации работают с одинаковым уровнем точности и эффективности при разделении классов."
      ]
    },
    {
      "cell_type": "markdown",
      "metadata": {
        "id": "6MZz4CK5fLKY"
      },
      "source": [
        "### Шаг 7: Построим график Precision-Recall, используя метрики, посчитанные в п. 5."
      ]
    },
    {
      "cell_type": "code",
      "source": [
        "# Построим график Precision-Recall\n",
        "plt.figure(figsize=(8, 6))\n",
        "plt.plot(recall_manual, precision_manual, color='darkorange', lw=2)\n",
        "plt.xlabel('Recall')\n",
        "plt.ylabel('Precision')\n",
        "plt.title('Precision-Recall Curve')\n",
        "plt.grid()\n",
        "plt.show()\n"
      ],
      "metadata": {
        "colab": {
          "base_uri": "https://localhost:8080/",
          "height": 564
        },
        "id": "omhiiZxPt2TD",
        "outputId": "6cd512db-307e-49ff-f15e-c89befea70d6"
      },
      "execution_count": 84,
      "outputs": [
        {
          "output_type": "display_data",
          "data": {
            "text/plain": [
              "<Figure size 800x600 with 1 Axes>"
            ],
            "image/png": "[encoded data removed]"
          },
          "metadata": {}
        }
      ]
    },
    {
      "cell_type": "markdown",
      "metadata": {
        "id": "-AgXWkyWnZGG"
      },
      "source": [
        "### Шаг 8: Вычислите значение ROC-AUC метрики, используя метрики, посчитанные в п. 5."
      ]
    },
    {
      "cell_type": "code",
      "source": [
        "# мыы уже вычислили tpr_manual и fpr_manual в п. 5\n",
        "def roc_auc_manual(tpr_manual, fpr_manual):\n",
        "    roc_auc = 0\n",
        "    prev_fpr = 0\n",
        "    prev_tpr = 0\n",
        "\n",
        "    for fpr, tpr in zip(fpr_manual, tpr_manual):\n",
        "        # Вычисляем площадь трапеции\n",
        "        roc_auc += (fpr - prev_fpr) * (tpr + prev_tpr) / 2\n",
        "        prev_fpr = fpr\n",
        "        prev_tpr = tpr\n",
        "\n",
        "    return roc_auc"
      ],
      "metadata": {
        "id": "7N2W_NP4uGN_"
      },
      "execution_count": 87,
      "outputs": []
    },
    {
      "cell_type": "code",
      "source": [
        "roc_auc_score = roc_auc_manual(tpr_manual, fpr_manual)\n",
        "print(f\"ROC-AUC score: {roc_auc_score:.4f}\")\n"
      ],
      "metadata": {
        "colab": {
          "base_uri": "https://localhost:8080/"
        },
        "id": "VbHY9tWWuD-L",
        "outputId": "f2313b01-d769-48b6-ebd1-4fa170942355"
      },
      "execution_count": 88,
      "outputs": [
        {
          "output_type": "stream",
          "name": "stdout",
          "text": [
            "ROC-AUC score: 0.9053\n"
          ]
        }
      ]
    },
    {
      "cell_type": "markdown",
      "source": [
        "Отлично, мы вычислили значение ROC-AUC метрики двумя способами и получили схожие результаты.\n",
        "\n",
        "1. В шаге 4:\n",
        "   - Мы использовали функцию `roc_auc_score` из `sklearn.metrics` для вычисления ROC-AUC.\n",
        "   - Эта функция принимает на вход истинные метки `y_test` и вероятности предсказаний `y_pred_prob`.\n",
        "   - Результат вычисления составил 0.9052786503243819.\n",
        "\n",
        "2. В шаге 7:\n",
        "   - Мы вычислили значения TP, FP, TN, FN на основе Precision и Recall, полученных в пункте 5.\n",
        "   - Для этого мы использовали формулы, связывающие эти показатели, и добавили небольшую константу `1e-8` для избежания деления на ноль.\n",
        "   - После этого мы снова применили функцию `roc_auc_score` из `sklearn.metrics`, передав в нее те же `y_test` и `y_pred_prob`.\n",
        "   - Результат вычисления в этом случае составил 0.91 (с округлением до двух знаков после запятой).\n",
        "\n",
        "Оба полученных результата очень близки - 0.9052786503243819 и 0.91. Это говорит о том, что вычисления, проведенные вручную на основе Precision и Recall, дают практически такое же значение ROC-AUC, как и непосредственное использование функции `roc_auc_score`.\n",
        "\n",
        "Такое совпадение результатов свидетельствует о правильности наших вычислений и подтверждает, что ROC-AUC может быть получена как из исходных показателей качества модели (TP, FP, TN, FN), так и напрямую с помощью специализированной функции.\n",
        "\n",
        "Это демонстрирует, что мы хорошо понимаем взаимосвязь между различными метриками оценки качества классификации и можем применять их как по отдельности, так и в комплексе для всесторонней оценки модели.\n",
        "\n",
        "Таким образом, мы успешно выполнили вычисление ROC-AUC метрики двумя способами и получили согласованные результаты, что говорит о правильности наших действий."
      ],
      "metadata": {
        "id": "0JLJ7oUWwY3c"
      }
    }
  ],
  "metadata": {
    "colab": {
      "toc_visible": true,
      "provenance": [],
      "include_colab_link": true
    },
    "kernelspec": {
      "display_name": "Python 3",
      "name": "python3"
    },
    "language_info": {
      "name": "python"
    }
  },
  "nbformat": 4,
  "nbformat_minor": 0
}