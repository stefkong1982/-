{
  "nbformat": 4,
  "nbformat_minor": 0,
  "metadata": {
    "kernelspec": {
      "display_name": "Python 3",
      "language": "python",
      "name": "python3"
    },
    "language_info": {
      "codemirror_mode": {
        "name": "ipython",
        "version": 3
      },
      "file_extension": ".py",
      "mimetype": "text/x-python",
      "name": "python",
      "nbconvert_exporter": "python",
      "pygments_lexer": "ipython3",
      "version": "3.7.1"
    },
    "colab": {
      "provenance": [],
      "toc_visible": true
    }
  },
  "cells": [
    {
      "cell_type": "markdown",
      "source": [
        "https://bit.ly/FEML-12-text"
      ],
      "metadata": {
        "id": "Z0zOdS_llcbl"
      }
    },
    {
      "cell_type": "markdown",
      "metadata": {
        "id": "bHNTxWxEyllV"
      },
      "source": [
        "## Импорты"
      ]
    },
    {
      "cell_type": "code",
      "source": [
        "import pandas as pd"
      ],
      "metadata": {
        "id": "WRkH9wGORHrG"
      },
      "execution_count": null,
      "outputs": []
    },
    {
      "cell_type": "markdown",
      "metadata": {
        "id": "lS3eVWfcyHDH"
      },
      "source": [
        "## CountVectorizer"
      ]
    },
    {
      "cell_type": "code",
      "metadata": {
        "id": "Ey0D_qsS3BMF"
      },
      "source": [
        "from sklearn.feature_extraction.text import CountVectorizer\n",
        "\n",
        "corpus = [\n",
        "     'This is the first document.',\n",
        "     'This document is the second document.',\n",
        "     'And this is the third one.',\n",
        "     'Is this the first document?',]"
      ],
      "execution_count": null,
      "outputs": []
    },
    {
      "cell_type": "code",
      "metadata": {
        "colab": {
          "base_uri": "https://localhost:8080/"
        },
        "id": "-rTtCEOdAR_i",
        "outputId": "f3f5bd83-d487-4ff8-8ded-b53775db8eaf"
      },
      "source": [
        "vectorizer = CountVectorizer()\n",
        "X = vectorizer.fit_transform(corpus)\n",
        "print(vectorizer.get_feature_names_out())\n",
        "print(X.toarray())"
      ],
      "execution_count": null,
      "outputs": [
        {
          "output_type": "stream",
          "name": "stdout",
          "text": [
            "['and' 'document' 'first' 'is' 'one' 'second' 'the' 'third' 'this']\n",
            "[[0 1 1 1 0 0 1 0 1]\n",
            " [0 2 0 1 0 1 1 0 1]\n",
            " [1 0 0 1 1 0 1 1 1]\n",
            " [0 1 1 1 0 0 1 0 1]]\n"
          ]
        }
      ]
    },
    {
      "cell_type": "code",
      "source": [
        "X"
      ],
      "metadata": {
        "colab": {
          "base_uri": "https://localhost:8080/"
        },
        "id": "11PtGso3zcwP",
        "outputId": "9d757aed-5b3e-4c27-ac75-61b991a61583"
      },
      "execution_count": null,
      "outputs": [
        {
          "output_type": "execute_result",
          "data": {
            "text/plain": [
              "<4x9 sparse matrix of type '<class 'numpy.int64'>'\n",
              "\twith 21 stored elements in Compressed Sparse Row format>"
            ]
          },
          "metadata": {},
          "execution_count": 4
        }
      ]
    },
    {
      "cell_type": "code",
      "source": [
        "pd.DataFrame(X.toarray(), columns=vectorizer.get_feature_names_out())"
      ],
      "metadata": {
        "colab": {
          "base_uri": "https://localhost:8080/",
          "height": 175
        },
        "id": "GHRKeSGYRDdv",
        "outputId": "921968e0-48d7-46fc-f8d9-bfa850f5a9df"
      },
      "execution_count": null,
      "outputs": [
        {
          "output_type": "execute_result",
          "data": {
            "text/plain": [
              "   and  document  first  is  one  second  the  third  this\n",
              "0    0         1      1   1    0       0    1      0     1\n",
              "1    0         2      0   1    0       1    1      0     1\n",
              "2    1         0      0   1    1       0    1      1     1\n",
              "3    0         1      1   1    0       0    1      0     1"
            ],
            "text/html": [
              "\n",
              "  <div id=\"df-c2adb9a6-9ff3-4784-a668-f8e882301235\">\n",
              "    <div class=\"colab-df-container\">\n",
              "      <div>\n",
              "<style scoped>\n",
              "    .dataframe tbody tr th:only-of-type {\n",
              "        vertical-align: middle;\n",
              "    }\n",
              "\n",
              "    .dataframe tbody tr th {\n",
              "        vertical-align: top;\n",
              "    }\n",
              "\n",
              "    .dataframe thead th {\n",
              "        text-align: right;\n",
              "    }\n",
              "</style>\n",
              "<table border=\"1\" class=\"dataframe\">\n",
              "  <thead>\n",
              "    <tr style=\"text-align: right;\">\n",
              "      <th></th>\n",
              "      <th>and</th>\n",
              "      <th>document</th>\n",
              "      <th>first</th>\n",
              "      <th>is</th>\n",
              "      <th>one</th>\n",
              "      <th>second</th>\n",
              "      <th>the</th>\n",
              "      <th>third</th>\n",
              "      <th>this</th>\n",
              "    </tr>\n",
              "  </thead>\n",
              "  <tbody>\n",
              "    <tr>\n",
              "      <th>0</th>\n",
              "      <td>0</td>\n",
              "      <td>1</td>\n",
              "      <td>1</td>\n",
              "      <td>1</td>\n",
              "      <td>0</td>\n",
              "      <td>0</td>\n",
              "      <td>1</td>\n",
              "      <td>0</td>\n",
              "      <td>1</td>\n",
              "    </tr>\n",
              "    <tr>\n",
              "      <th>1</th>\n",
              "      <td>0</td>\n",
              "      <td>2</td>\n",
              "      <td>0</td>\n",
              "      <td>1</td>\n",
              "      <td>0</td>\n",
              "      <td>1</td>\n",
              "      <td>1</td>\n",
              "      <td>0</td>\n",
              "      <td>1</td>\n",
              "    </tr>\n",
              "    <tr>\n",
              "      <th>2</th>\n",
              "      <td>1</td>\n",
              "      <td>0</td>\n",
              "      <td>0</td>\n",
              "      <td>1</td>\n",
              "      <td>1</td>\n",
              "      <td>0</td>\n",
              "      <td>1</td>\n",
              "      <td>1</td>\n",
              "      <td>1</td>\n",
              "    </tr>\n",
              "    <tr>\n",
              "      <th>3</th>\n",
              "      <td>0</td>\n",
              "      <td>1</td>\n",
              "      <td>1</td>\n",
              "      <td>1</td>\n",
              "      <td>0</td>\n",
              "      <td>0</td>\n",
              "      <td>1</td>\n",
              "      <td>0</td>\n",
              "      <td>1</td>\n",
              "    </tr>\n",
              "  </tbody>\n",
              "</table>\n",
              "</div>\n",
              "      <button class=\"colab-df-convert\" onclick=\"convertToInteractive('df-c2adb9a6-9ff3-4784-a668-f8e882301235')\"\n",
              "              title=\"Convert this dataframe to an interactive table.\"\n",
              "              style=\"display:none;\">\n",
              "        \n",
              "  <svg xmlns=\"http://www.w3.org/2000/svg\" height=\"24px\"viewBox=\"0 0 24 24\"\n",
              "       width=\"24px\">\n",
              "    <path d=\"M0 0h24v24H0V0z\" fill=\"none\"/>\n",
              "    <path d=\"M18.56 5.44l.94 2.06.94-2.06 2.06-.94-2.06-.94-.94-2.06-.94 2.06-2.06.94zm-11 1L8.5 8.5l.94-2.06 2.06-.94-2.06-.94L8.5 2.5l-.94 2.06-2.06.94zm10 10l.94 2.06.94-2.06 2.06-.94-2.06-.94-.94-2.06-.94 2.06-2.06.94z\"/><path d=\"M17.41 7.96l-1.37-1.37c-.4-.4-.92-.59-1.43-.59-.52 0-1.04.2-1.43.59L10.3 9.45l-7.72 7.72c-.78.78-.78 2.05 0 2.83L4 21.41c.39.39.9.59 1.41.59.51 0 1.02-.2 1.41-.59l7.78-7.78 2.81-2.81c.8-.78.8-2.07 0-2.86zM5.41 20L4 18.59l7.72-7.72 1.47 1.35L5.41 20z\"/>\n",
              "  </svg>\n",
              "      </button>\n",
              "      \n",
              "  <style>\n",
              "    .colab-df-container {\n",
              "      display:flex;\n",
              "      flex-wrap:wrap;\n",
              "      gap: 12px;\n",
              "    }\n",
              "\n",
              "    .colab-df-convert {\n",
              "      background-color: #E8F0FE;\n",
              "      border: none;\n",
              "      border-radius: 50%;\n",
              "      cursor: pointer;\n",
              "      display: none;\n",
              "      fill: #1967D2;\n",
              "      height: 32px;\n",
              "      padding: 0 0 0 0;\n",
              "      width: 32px;\n",
              "    }\n",
              "\n",
              "    .colab-df-convert:hover {\n",
              "      background-color: #E2EBFA;\n",
              "      box-shadow: 0px 1px 2px rgba(60, 64, 67, 0.3), 0px 1px 3px 1px rgba(60, 64, 67, 0.15);\n",
              "      fill: #174EA6;\n",
              "    }\n",
              "\n",
              "    [theme=dark] .colab-df-convert {\n",
              "      background-color: #3B4455;\n",
              "      fill: #D2E3FC;\n",
              "    }\n",
              "\n",
              "    [theme=dark] .colab-df-convert:hover {\n",
              "      background-color: #434B5C;\n",
              "      box-shadow: 0px 1px 3px 1px rgba(0, 0, 0, 0.15);\n",
              "      filter: drop-shadow(0px 1px 2px rgba(0, 0, 0, 0.3));\n",
              "      fill: #FFFFFF;\n",
              "    }\n",
              "  </style>\n",
              "\n",
              "      <script>\n",
              "        const buttonEl =\n",
              "          document.querySelector('#df-c2adb9a6-9ff3-4784-a668-f8e882301235 button.colab-df-convert');\n",
              "        buttonEl.style.display =\n",
              "          google.colab.kernel.accessAllowed ? 'block' : 'none';\n",
              "\n",
              "        async function convertToInteractive(key) {\n",
              "          const element = document.querySelector('#df-c2adb9a6-9ff3-4784-a668-f8e882301235');\n",
              "          const dataTable =\n",
              "            await google.colab.kernel.invokeFunction('convertToInteractive',\n",
              "                                                     [key], {});\n",
              "          if (!dataTable) return;\n",
              "\n",
              "          const docLinkHtml = 'Like what you see? Visit the ' +\n",
              "            '<a target=\"_blank\" href=https://colab.research.google.com/notebooks/data_table.ipynb>data table notebook</a>'\n",
              "            + ' to learn more about interactive tables.';\n",
              "          element.innerHTML = '';\n",
              "          dataTable['output_type'] = 'display_data';\n",
              "          await google.colab.output.renderOutput(dataTable, element);\n",
              "          const docLink = document.createElement('div');\n",
              "          docLink.innerHTML = docLinkHtml;\n",
              "          element.appendChild(docLink);\n",
              "        }\n",
              "      </script>\n",
              "    </div>\n",
              "  </div>\n",
              "  "
            ]
          },
          "metadata": {},
          "execution_count": 10
        }
      ]
    },
    {
      "cell_type": "markdown",
      "metadata": {
        "id": "288c-yaay6DK"
      },
      "source": [
        "n-граммы"
      ]
    },
    {
      "cell_type": "code",
      "metadata": {
        "colab": {
          "base_uri": "https://localhost:8080/"
        },
        "id": "VDU9-RjF2sFa",
        "outputId": "78fc0e00-aba9-45d2-ce06-0dd3b7c3ed59"
      },
      "source": [
        "vectorizer2 = CountVectorizer(analyzer='word', ngram_range=(1, 3))\n",
        "X2 = vectorizer2.fit_transform(corpus)\n",
        "print(vectorizer2.get_feature_names_out())\n",
        "print(X2.toarray())"
      ],
      "execution_count": null,
      "outputs": [
        {
          "output_type": "stream",
          "name": "stdout",
          "text": [
            "['and' 'and this' 'and this is' 'document' 'document is' 'document is the'\n",
            " 'first' 'first document' 'is' 'is the' 'is the first' 'is the second'\n",
            " 'is the third' 'is this' 'is this the' 'one' 'second' 'second document'\n",
            " 'the' 'the first' 'the first document' 'the second' 'the second document'\n",
            " 'the third' 'the third one' 'third' 'third one' 'this' 'this document'\n",
            " 'this document is' 'this is' 'this is the' 'this the' 'this the first']\n",
            "[[0 0 0 1 0 0 1 1 1 1 1 0 0 0 0 0 0 0 1 1 1 0 0 0 0 0 0 1 0 0 1 1 0 0]\n",
            " [0 0 0 2 1 1 0 0 1 1 0 1 0 0 0 0 1 1 1 0 0 1 1 0 0 0 0 1 1 1 0 0 0 0]\n",
            " [1 1 1 0 0 0 0 0 1 1 0 0 1 0 0 1 0 0 1 0 0 0 0 1 1 1 1 1 0 0 1 1 0 0]\n",
            " [0 0 0 1 0 0 1 1 1 0 0 0 0 1 1 0 0 0 1 1 1 0 0 0 0 0 0 1 0 0 0 0 1 1]]\n"
          ]
        }
      ]
    },
    {
      "cell_type": "code",
      "source": [
        "pd.DataFrame(X2.toarray(), columns=vectorizer2.get_feature_names_out())"
      ],
      "metadata": {
        "colab": {
          "base_uri": "https://localhost:8080/",
          "height": 283
        },
        "id": "BbI8J4GCRMgD",
        "outputId": "559be832-75c2-4e00-9f23-b1ec78a3645c"
      },
      "execution_count": null,
      "outputs": [
        {
          "output_type": "execute_result",
          "data": {
            "text/plain": [
              "   and  and this  and this is  document  document is  document is the  first  \\\n",
              "0    0         0            0         1            0                0      1   \n",
              "1    0         0            0         2            1                1      0   \n",
              "2    1         1            1         0            0                0      0   \n",
              "3    0         0            0         1            0                0      1   \n",
              "\n",
              "   first document  is  is the  ...  the third one  third  third one  this  \\\n",
              "0               1   1       1  ...              0      0          0     1   \n",
              "1               0   1       1  ...              0      0          0     1   \n",
              "2               0   1       1  ...              1      1          1     1   \n",
              "3               1   1       0  ...              0      0          0     1   \n",
              "\n",
              "   this document  this document is  this is  this is the  this the  \\\n",
              "0              0                 0        1            1         0   \n",
              "1              1                 1        0            0         0   \n",
              "2              0                 0        1            1         0   \n",
              "3              0                 0        0            0         1   \n",
              "\n",
              "   this the first  \n",
              "0               0  \n",
              "1               0  \n",
              "2               0  \n",
              "3               1  \n",
              "\n",
              "[4 rows x 34 columns]"
            ],
            "text/html": [
              "\n",
              "  <div id=\"df-25a0b2d8-6569-43dd-a3fa-ecf9187dfdb9\">\n",
              "    <div class=\"colab-df-container\">\n",
              "      <div>\n",
              "<style scoped>\n",
              "    .dataframe tbody tr th:only-of-type {\n",
              "        vertical-align: middle;\n",
              "    }\n",
              "\n",
              "    .dataframe tbody tr th {\n",
              "        vertical-align: top;\n",
              "    }\n",
              "\n",
              "    .dataframe thead th {\n",
              "        text-align: right;\n",
              "    }\n",
              "</style>\n",
              "<table border=\"1\" class=\"dataframe\">\n",
              "  <thead>\n",
              "    <tr style=\"text-align: right;\">\n",
              "      <th></th>\n",
              "      <th>and</th>\n",
              "      <th>and this</th>\n",
              "      <th>and this is</th>\n",
              "      <th>document</th>\n",
              "      <th>document is</th>\n",
              "      <th>document is the</th>\n",
              "      <th>first</th>\n",
              "      <th>first document</th>\n",
              "      <th>is</th>\n",
              "      <th>is the</th>\n",
              "      <th>...</th>\n",
              "      <th>the third one</th>\n",
              "      <th>third</th>\n",
              "      <th>third one</th>\n",
              "      <th>this</th>\n",
              "      <th>this document</th>\n",
              "      <th>this document is</th>\n",
              "      <th>this is</th>\n",
              "      <th>this is the</th>\n",
              "      <th>this the</th>\n",
              "      <th>this the first</th>\n",
              "    </tr>\n",
              "  </thead>\n",
              "  <tbody>\n",
              "    <tr>\n",
              "      <th>0</th>\n",
              "      <td>0</td>\n",
              "      <td>0</td>\n",
              "      <td>0</td>\n",
              "      <td>1</td>\n",
              "      <td>0</td>\n",
              "      <td>0</td>\n",
              "      <td>1</td>\n",
              "      <td>1</td>\n",
              "      <td>1</td>\n",
              "      <td>1</td>\n",
              "      <td>...</td>\n",
              "      <td>0</td>\n",
              "      <td>0</td>\n",
              "      <td>0</td>\n",
              "      <td>1</td>\n",
              "      <td>0</td>\n",
              "      <td>0</td>\n",
              "      <td>1</td>\n",
              "      <td>1</td>\n",
              "      <td>0</td>\n",
              "      <td>0</td>\n",
              "    </tr>\n",
              "    <tr>\n",
              "      <th>1</th>\n",
              "      <td>0</td>\n",
              "      <td>0</td>\n",
              "      <td>0</td>\n",
              "      <td>2</td>\n",
              "      <td>1</td>\n",
              "      <td>1</td>\n",
              "      <td>0</td>\n",
              "      <td>0</td>\n",
              "      <td>1</td>\n",
              "      <td>1</td>\n",
              "      <td>...</td>\n",
              "      <td>0</td>\n",
              "      <td>0</td>\n",
              "      <td>0</td>\n",
              "      <td>1</td>\n",
              "      <td>1</td>\n",
              "      <td>1</td>\n",
              "      <td>0</td>\n",
              "      <td>0</td>\n",
              "      <td>0</td>\n",
              "      <td>0</td>\n",
              "    </tr>\n",
              "    <tr>\n",
              "      <th>2</th>\n",
              "      <td>1</td>\n",
              "      <td>1</td>\n",
              "      <td>1</td>\n",
              "      <td>0</td>\n",
              "      <td>0</td>\n",
              "      <td>0</td>\n",
              "      <td>0</td>\n",
              "      <td>0</td>\n",
              "      <td>1</td>\n",
              "      <td>1</td>\n",
              "      <td>...</td>\n",
              "      <td>1</td>\n",
              "      <td>1</td>\n",
              "      <td>1</td>\n",
              "      <td>1</td>\n",
              "      <td>0</td>\n",
              "      <td>0</td>\n",
              "      <td>1</td>\n",
              "      <td>1</td>\n",
              "      <td>0</td>\n",
              "      <td>0</td>\n",
              "    </tr>\n",
              "    <tr>\n",
              "      <th>3</th>\n",
              "      <td>0</td>\n",
              "      <td>0</td>\n",
              "      <td>0</td>\n",
              "      <td>1</td>\n",
              "      <td>0</td>\n",
              "      <td>0</td>\n",
              "      <td>1</td>\n",
              "      <td>1</td>\n",
              "      <td>1</td>\n",
              "      <td>0</td>\n",
              "      <td>...</td>\n",
              "      <td>0</td>\n",
              "      <td>0</td>\n",
              "      <td>0</td>\n",
              "      <td>1</td>\n",
              "      <td>0</td>\n",
              "      <td>0</td>\n",
              "      <td>0</td>\n",
              "      <td>0</td>\n",
              "      <td>1</td>\n",
              "      <td>1</td>\n",
              "    </tr>\n",
              "  </tbody>\n",
              "</table>\n",
              "<p>4 rows × 34 columns</p>\n",
              "</div>\n",
              "      <button class=\"colab-df-convert\" onclick=\"convertToInteractive('df-25a0b2d8-6569-43dd-a3fa-ecf9187dfdb9')\"\n",
              "              title=\"Convert this dataframe to an interactive table.\"\n",
              "              style=\"display:none;\">\n",
              "        \n",
              "  <svg xmlns=\"http://www.w3.org/2000/svg\" height=\"24px\"viewBox=\"0 0 24 24\"\n",
              "       width=\"24px\">\n",
              "    <path d=\"M0 0h24v24H0V0z\" fill=\"none\"/>\n",
              "    <path d=\"M18.56 5.44l.94 2.06.94-2.06 2.06-.94-2.06-.94-.94-2.06-.94 2.06-2.06.94zm-11 1L8.5 8.5l.94-2.06 2.06-.94-2.06-.94L8.5 2.5l-.94 2.06-2.06.94zm10 10l.94 2.06.94-2.06 2.06-.94-2.06-.94-.94-2.06-.94 2.06-2.06.94z\"/><path d=\"M17.41 7.96l-1.37-1.37c-.4-.4-.92-.59-1.43-.59-.52 0-1.04.2-1.43.59L10.3 9.45l-7.72 7.72c-.78.78-.78 2.05 0 2.83L4 21.41c.39.39.9.59 1.41.59.51 0 1.02-.2 1.41-.59l7.78-7.78 2.81-2.81c.8-.78.8-2.07 0-2.86zM5.41 20L4 18.59l7.72-7.72 1.47 1.35L5.41 20z\"/>\n",
              "  </svg>\n",
              "      </button>\n",
              "      \n",
              "  <style>\n",
              "    .colab-df-container {\n",
              "      display:flex;\n",
              "      flex-wrap:wrap;\n",
              "      gap: 12px;\n",
              "    }\n",
              "\n",
              "    .colab-df-convert {\n",
              "      background-color: #E8F0FE;\n",
              "      border: none;\n",
              "      border-radius: 50%;\n",
              "      cursor: pointer;\n",
              "      display: none;\n",
              "      fill: #1967D2;\n",
              "      height: 32px;\n",
              "      padding: 0 0 0 0;\n",
              "      width: 32px;\n",
              "    }\n",
              "\n",
              "    .colab-df-convert:hover {\n",
              "      background-color: #E2EBFA;\n",
              "      box-shadow: 0px 1px 2px rgba(60, 64, 67, 0.3), 0px 1px 3px 1px rgba(60, 64, 67, 0.15);\n",
              "      fill: #174EA6;\n",
              "    }\n",
              "\n",
              "    [theme=dark] .colab-df-convert {\n",
              "      background-color: #3B4455;\n",
              "      fill: #D2E3FC;\n",
              "    }\n",
              "\n",
              "    [theme=dark] .colab-df-convert:hover {\n",
              "      background-color: #434B5C;\n",
              "      box-shadow: 0px 1px 3px 1px rgba(0, 0, 0, 0.15);\n",
              "      filter: drop-shadow(0px 1px 2px rgba(0, 0, 0, 0.3));\n",
              "      fill: #FFFFFF;\n",
              "    }\n",
              "  </style>\n",
              "\n",
              "      <script>\n",
              "        const buttonEl =\n",
              "          document.querySelector('#df-25a0b2d8-6569-43dd-a3fa-ecf9187dfdb9 button.colab-df-convert');\n",
              "        buttonEl.style.display =\n",
              "          google.colab.kernel.accessAllowed ? 'block' : 'none';\n",
              "\n",
              "        async function convertToInteractive(key) {\n",
              "          const element = document.querySelector('#df-25a0b2d8-6569-43dd-a3fa-ecf9187dfdb9');\n",
              "          const dataTable =\n",
              "            await google.colab.kernel.invokeFunction('convertToInteractive',\n",
              "                                                     [key], {});\n",
              "          if (!dataTable) return;\n",
              "\n",
              "          const docLinkHtml = 'Like what you see? Visit the ' +\n",
              "            '<a target=\"_blank\" href=https://colab.research.google.com/notebooks/data_table.ipynb>data table notebook</a>'\n",
              "            + ' to learn more about interactive tables.';\n",
              "          element.innerHTML = '';\n",
              "          dataTable['output_type'] = 'display_data';\n",
              "          await google.colab.output.renderOutput(dataTable, element);\n",
              "          const docLink = document.createElement('div');\n",
              "          docLink.innerHTML = docLinkHtml;\n",
              "          element.appendChild(docLink);\n",
              "        }\n",
              "      </script>\n",
              "    </div>\n",
              "  </div>\n",
              "  "
            ]
          },
          "metadata": {},
          "execution_count": 7
        }
      ]
    },
    {
      "cell_type": "markdown",
      "metadata": {
        "id": "HOHyRQICJcUy"
      },
      "source": [
        "## TFIDF"
      ]
    },
    {
      "cell_type": "code",
      "metadata": {
        "id": "C9fbd8sfA5GL"
      },
      "source": [
        "from sklearn.feature_extraction.text import TfidfVectorizer"
      ],
      "execution_count": null,
      "outputs": []
    },
    {
      "cell_type": "code",
      "metadata": {
        "colab": {
          "base_uri": "https://localhost:8080/"
        },
        "id": "0DFk3nxh2tNT",
        "outputId": "c97a4c94-8acc-411c-e4ed-c6fcaa95e2e2"
      },
      "source": [
        "vectorizer = TfidfVectorizer()\n",
        "X = vectorizer.fit_transform(corpus)\n",
        "print(vectorizer.get_feature_names_out())\n",
        "print(X)"
      ],
      "execution_count": null,
      "outputs": [
        {
          "output_type": "stream",
          "name": "stdout",
          "text": [
            "['and' 'document' 'first' 'is' 'one' 'second' 'the' 'third' 'this']\n",
            "  (0, 1)\t0.46979138557992045\n",
            "  (0, 2)\t0.5802858236844359\n",
            "  (0, 6)\t0.38408524091481483\n",
            "  (0, 3)\t0.38408524091481483\n",
            "  (0, 8)\t0.38408524091481483\n",
            "  (1, 5)\t0.5386476208856763\n",
            "  (1, 1)\t0.6876235979836938\n",
            "  (1, 6)\t0.281088674033753\n",
            "  (1, 3)\t0.281088674033753\n",
            "  (1, 8)\t0.281088674033753\n",
            "  (2, 4)\t0.511848512707169\n",
            "  (2, 7)\t0.511848512707169\n",
            "  (2, 0)\t0.511848512707169\n",
            "  (2, 6)\t0.267103787642168\n",
            "  (2, 3)\t0.267103787642168\n",
            "  (2, 8)\t0.267103787642168\n",
            "  (3, 1)\t0.46979138557992045\n",
            "  (3, 2)\t0.5802858236844359\n",
            "  (3, 6)\t0.38408524091481483\n",
            "  (3, 3)\t0.38408524091481483\n",
            "  (3, 8)\t0.38408524091481483\n"
          ]
        }
      ]
    },
    {
      "cell_type": "code",
      "source": [
        "vectorizer.idf_"
      ],
      "metadata": {
        "colab": {
          "base_uri": "https://localhost:8080/"
        },
        "id": "H0OIp9wF1gOn",
        "outputId": "e62949bf-551a-44cd-fddb-0cb262be686a"
      },
      "execution_count": null,
      "outputs": [
        {
          "output_type": "execute_result",
          "data": {
            "text/plain": [
              "array([1.91629073, 1.22314355, 1.51082562, 1.        , 1.91629073,\n",
              "       1.91629073, 1.        , 1.91629073, 1.        ])"
            ]
          },
          "metadata": {},
          "execution_count": 12
        }
      ]
    },
    {
      "cell_type": "code",
      "source": [
        "X"
      ],
      "metadata": {
        "colab": {
          "base_uri": "https://localhost:8080/"
        },
        "id": "HZw6MMDl1Oq-",
        "outputId": "6bea81c9-8635-45a4-c9a6-fcbc2f3cfaa4"
      },
      "execution_count": null,
      "outputs": [
        {
          "output_type": "execute_result",
          "data": {
            "text/plain": [
              "<4x9 sparse matrix of type '<class 'numpy.float64'>'\n",
              "\twith 21 stored elements in Compressed Sparse Row format>"
            ]
          },
          "metadata": {},
          "execution_count": 10
        }
      ]
    },
    {
      "cell_type": "code",
      "source": [
        "pd.DataFrame(X.toarray(), columns=vectorizer.get_feature_names_out())"
      ],
      "metadata": {
        "colab": {
          "base_uri": "https://localhost:8080/",
          "height": 175
        },
        "id": "MKMjwcMjRQ4X",
        "outputId": "f0207083-88ff-4694-97d2-32bc952c51e5"
      },
      "execution_count": null,
      "outputs": [
        {
          "output_type": "execute_result",
          "data": {
            "text/plain": [
              "        and  document     first        is       one    second       the  \\\n",
              "0  0.000000  0.469791  0.580286  0.384085  0.000000  0.000000  0.384085   \n",
              "1  0.000000  0.687624  0.000000  0.281089  0.000000  0.538648  0.281089   \n",
              "2  0.511849  0.000000  0.000000  0.267104  0.511849  0.000000  0.267104   \n",
              "3  0.000000  0.469791  0.580286  0.384085  0.000000  0.000000  0.384085   \n",
              "\n",
              "      third      this  \n",
              "0  0.000000  0.384085  \n",
              "1  0.000000  0.281089  \n",
              "2  0.511849  0.267104  \n",
              "3  0.000000  0.384085  "
            ],
            "text/html": [
              "\n",
              "  <div id=\"df-3785e533-6689-4250-8976-1462cf52f73d\">\n",
              "    <div class=\"colab-df-container\">\n",
              "      <div>\n",
              "<style scoped>\n",
              "    .dataframe tbody tr th:only-of-type {\n",
              "        vertical-align: middle;\n",
              "    }\n",
              "\n",
              "    .dataframe tbody tr th {\n",
              "        vertical-align: top;\n",
              "    }\n",
              "\n",
              "    .dataframe thead th {\n",
              "        text-align: right;\n",
              "    }\n",
              "</style>\n",
              "<table border=\"1\" class=\"dataframe\">\n",
              "  <thead>\n",
              "    <tr style=\"text-align: right;\">\n",
              "      <th></th>\n",
              "      <th>and</th>\n",
              "      <th>document</th>\n",
              "      <th>first</th>\n",
              "      <th>is</th>\n",
              "      <th>one</th>\n",
              "      <th>second</th>\n",
              "      <th>the</th>\n",
              "      <th>third</th>\n",
              "      <th>this</th>\n",
              "    </tr>\n",
              "  </thead>\n",
              "  <tbody>\n",
              "    <tr>\n",
              "      <th>0</th>\n",
              "      <td>0.000000</td>\n",
              "      <td>0.469791</td>\n",
              "      <td>0.580286</td>\n",
              "      <td>0.384085</td>\n",
              "      <td>0.000000</td>\n",
              "      <td>0.000000</td>\n",
              "      <td>0.384085</td>\n",
              "      <td>0.000000</td>\n",
              "      <td>0.384085</td>\n",
              "    </tr>\n",
              "    <tr>\n",
              "      <th>1</th>\n",
              "      <td>0.000000</td>\n",
              "      <td>0.687624</td>\n",
              "      <td>0.000000</td>\n",
              "      <td>0.281089</td>\n",
              "      <td>0.000000</td>\n",
              "      <td>0.538648</td>\n",
              "      <td>0.281089</td>\n",
              "      <td>0.000000</td>\n",
              "      <td>0.281089</td>\n",
              "    </tr>\n",
              "    <tr>\n",
              "      <th>2</th>\n",
              "      <td>0.511849</td>\n",
              "      <td>0.000000</td>\n",
              "      <td>0.000000</td>\n",
              "      <td>0.267104</td>\n",
              "      <td>0.511849</td>\n",
              "      <td>0.000000</td>\n",
              "      <td>0.267104</td>\n",
              "      <td>0.511849</td>\n",
              "      <td>0.267104</td>\n",
              "    </tr>\n",
              "    <tr>\n",
              "      <th>3</th>\n",
              "      <td>0.000000</td>\n",
              "      <td>0.469791</td>\n",
              "      <td>0.580286</td>\n",
              "      <td>0.384085</td>\n",
              "      <td>0.000000</td>\n",
              "      <td>0.000000</td>\n",
              "      <td>0.384085</td>\n",
              "      <td>0.000000</td>\n",
              "      <td>0.384085</td>\n",
              "    </tr>\n",
              "  </tbody>\n",
              "</table>\n",
              "</div>\n",
              "      <button class=\"colab-df-convert\" onclick=\"convertToInteractive('df-3785e533-6689-4250-8976-1462cf52f73d')\"\n",
              "              title=\"Convert this dataframe to an interactive table.\"\n",
              "              style=\"display:none;\">\n",
              "        \n",
              "  <svg xmlns=\"http://www.w3.org/2000/svg\" height=\"24px\"viewBox=\"0 0 24 24\"\n",
              "       width=\"24px\">\n",
              "    <path d=\"M0 0h24v24H0V0z\" fill=\"none\"/>\n",
              "    <path d=\"M18.56 5.44l.94 2.06.94-2.06 2.06-.94-2.06-.94-.94-2.06-.94 2.06-2.06.94zm-11 1L8.5 8.5l.94-2.06 2.06-.94-2.06-.94L8.5 2.5l-.94 2.06-2.06.94zm10 10l.94 2.06.94-2.06 2.06-.94-2.06-.94-.94-2.06-.94 2.06-2.06.94z\"/><path d=\"M17.41 7.96l-1.37-1.37c-.4-.4-.92-.59-1.43-.59-.52 0-1.04.2-1.43.59L10.3 9.45l-7.72 7.72c-.78.78-.78 2.05 0 2.83L4 21.41c.39.39.9.59 1.41.59.51 0 1.02-.2 1.41-.59l7.78-7.78 2.81-2.81c.8-.78.8-2.07 0-2.86zM5.41 20L4 18.59l7.72-7.72 1.47 1.35L5.41 20z\"/>\n",
              "  </svg>\n",
              "      </button>\n",
              "      \n",
              "  <style>\n",
              "    .colab-df-container {\n",
              "      display:flex;\n",
              "      flex-wrap:wrap;\n",
              "      gap: 12px;\n",
              "    }\n",
              "\n",
              "    .colab-df-convert {\n",
              "      background-color: #E8F0FE;\n",
              "      border: none;\n",
              "      border-radius: 50%;\n",
              "      cursor: pointer;\n",
              "      display: none;\n",
              "      fill: #1967D2;\n",
              "      height: 32px;\n",
              "      padding: 0 0 0 0;\n",
              "      width: 32px;\n",
              "    }\n",
              "\n",
              "    .colab-df-convert:hover {\n",
              "      background-color: #E2EBFA;\n",
              "      box-shadow: 0px 1px 2px rgba(60, 64, 67, 0.3), 0px 1px 3px 1px rgba(60, 64, 67, 0.15);\n",
              "      fill: #174EA6;\n",
              "    }\n",
              "\n",
              "    [theme=dark] .colab-df-convert {\n",
              "      background-color: #3B4455;\n",
              "      fill: #D2E3FC;\n",
              "    }\n",
              "\n",
              "    [theme=dark] .colab-df-convert:hover {\n",
              "      background-color: #434B5C;\n",
              "      box-shadow: 0px 1px 3px 1px rgba(0, 0, 0, 0.15);\n",
              "      filter: drop-shadow(0px 1px 2px rgba(0, 0, 0, 0.3));\n",
              "      fill: #FFFFFF;\n",
              "    }\n",
              "  </style>\n",
              "\n",
              "      <script>\n",
              "        const buttonEl =\n",
              "          document.querySelector('#df-3785e533-6689-4250-8976-1462cf52f73d button.colab-df-convert');\n",
              "        buttonEl.style.display =\n",
              "          google.colab.kernel.accessAllowed ? 'block' : 'none';\n",
              "\n",
              "        async function convertToInteractive(key) {\n",
              "          const element = document.querySelector('#df-3785e533-6689-4250-8976-1462cf52f73d');\n",
              "          const dataTable =\n",
              "            await google.colab.kernel.invokeFunction('convertToInteractive',\n",
              "                                                     [key], {});\n",
              "          if (!dataTable) return;\n",
              "\n",
              "          const docLinkHtml = 'Like what you see? Visit the ' +\n",
              "            '<a target=\"_blank\" href=https://colab.research.google.com/notebooks/data_table.ipynb>data table notebook</a>'\n",
              "            + ' to learn more about interactive tables.';\n",
              "          element.innerHTML = '';\n",
              "          dataTable['output_type'] = 'display_data';\n",
              "          await google.colab.output.renderOutput(dataTable, element);\n",
              "          const docLink = document.createElement('div');\n",
              "          docLink.innerHTML = docLinkHtml;\n",
              "          element.appendChild(docLink);\n",
              "        }\n",
              "      </script>\n",
              "    </div>\n",
              "  </div>\n",
              "  "
            ]
          },
          "metadata": {},
          "execution_count": 16
        }
      ]
    },
    {
      "cell_type": "markdown",
      "metadata": {
        "id": "P3H340xHx6Ml"
      },
      "source": [
        "## Токенизация и разбор предложения"
      ]
    },
    {
      "cell_type": "code",
      "metadata": {
        "colab": {
          "base_uri": "https://localhost:8080/"
        },
        "id": "7NiLAvuaRHMC",
        "outputId": "3a229c38-6009-4194-e0ec-5596c8ee5dcf"
      },
      "source": [
        "import nltk\n",
        "nltk.download('punkt')\n",
        "nltk.download('stopwords')"
      ],
      "execution_count": null,
      "outputs": [
        {
          "output_type": "stream",
          "name": "stderr",
          "text": [
            "[nltk_data] Downloading package punkt to /root/nltk_data...\n",
            "[nltk_data]   Unzipping tokenizers/punkt.zip.\n",
            "[nltk_data] Downloading package stopwords to /root/nltk_data...\n",
            "[nltk_data]   Unzipping corpora/stopwords.zip.\n"
          ]
        },
        {
          "output_type": "execute_result",
          "data": {
            "text/plain": [
              "True"
            ]
          },
          "metadata": {},
          "execution_count": 13
        }
      ]
    },
    {
      "cell_type": "code",
      "metadata": {
        "id": "IbHioQxrTxzS"
      },
      "source": [
        "from nltk.tokenize import sent_tokenize\n",
        "from nltk.corpus import stopwords\n",
        "from nltk.tokenize import word_tokenize"
      ],
      "execution_count": null,
      "outputs": []
    },
    {
      "cell_type": "code",
      "metadata": {
        "colab": {
          "base_uri": "https://localhost:8080/"
        },
        "id": "1lhpbxcKR3u1",
        "outputId": "4ad34758-37ea-4235-a747-abb5437785b4"
      },
      "source": [
        "text = \"Backgammon is one of the oldest known board games. Its history can be traced back nearly 5,000 years to archeological discoveries in the Middle East. It is a two player game where each player has fifteen checkers which move between twenty-four points according to the roll of two dice.\"\n",
        "sentences = sent_tokenize(text)\n",
        "for sentence in sentences:\n",
        "    tokens = word_tokenize(sentence)\n",
        "    print(tokens)"
      ],
      "execution_count": null,
      "outputs": [
        {
          "output_type": "stream",
          "name": "stdout",
          "text": [
            "['Backgammon', 'is', 'one', 'of', 'the', 'oldest', 'known', 'board', 'games', '.']\n",
            "['Its', 'history', 'can', 'be', 'traced', 'back', 'nearly', '5,000', 'years', 'to', 'archeological', 'discoveries', 'in', 'the', 'Middle', 'East', '.']\n",
            "['It', 'is', 'a', 'two', 'player', 'game', 'where', 'each', 'player', 'has', 'fifteen', 'checkers', 'which', 'move', 'between', 'twenty-four', 'points', 'according', 'to', 'the', 'roll', 'of', 'two', 'dice', '.']\n"
          ]
        }
      ]
    },
    {
      "cell_type": "code",
      "source": [
        "sentences"
      ],
      "metadata": {
        "colab": {
          "base_uri": "https://localhost:8080/"
        },
        "id": "LWP1AnF42RZF",
        "outputId": "bc3d5177-1703-4c53-b21a-4dbfdcf7e6e0"
      },
      "execution_count": null,
      "outputs": [
        {
          "output_type": "execute_result",
          "data": {
            "text/plain": [
              "['Backgammon is one of the oldest known board games.',\n",
              " 'Its history can be traced back nearly 5,000 years to archeological discoveries in the Middle East.',\n",
              " 'It is a two player game where each player has fifteen checkers which move between twenty-four points according to the roll of two dice.']"
            ]
          },
          "metadata": {},
          "execution_count": 16
        }
      ]
    },
    {
      "cell_type": "code",
      "metadata": {
        "colab": {
          "base_uri": "https://localhost:8080/"
        },
        "id": "54NAHsgJTRed",
        "outputId": "e84258d1-7237-4855-aed4-b43aa1ec8470"
      },
      "source": [
        "!pip install pymorphy2"
      ],
      "execution_count": null,
      "outputs": [
        {
          "output_type": "stream",
          "name": "stdout",
          "text": [
            "Looking in indexes: https://pypi.org/simple, https://us-python.pkg.dev/colab-wheels/public/simple/\n",
            "Collecting pymorphy2\n",
            "  Downloading pymorphy2-0.9.1-py3-none-any.whl (55 kB)\n",
            "\u001b[2K     \u001b[90m━━━━━━━━━━━━━━━━━━━━━━━━━━━━━━━━━━━━━━━━\u001b[0m \u001b[32m55.5/55.5 kB\u001b[0m \u001b[31m2.9 MB/s\u001b[0m eta \u001b[36m0:00:00\u001b[0m\n",
            "\u001b[?25hCollecting dawg-python>=0.7.1 (from pymorphy2)\n",
            "  Downloading DAWG_Python-0.7.2-py2.py3-none-any.whl (11 kB)\n",
            "Collecting pymorphy2-dicts-ru<3.0,>=2.4 (from pymorphy2)\n",
            "  Downloading pymorphy2_dicts_ru-2.4.417127.4579844-py2.py3-none-any.whl (8.2 MB)\n",
            "\u001b[2K     \u001b[90m━━━━━━━━━━━━━━━━━━━━━━━━━━━━━━━━━━━━━━━━\u001b[0m \u001b[32m8.2/8.2 MB\u001b[0m \u001b[31m38.4 MB/s\u001b[0m eta \u001b[36m0:00:00\u001b[0m\n",
            "\u001b[?25hCollecting docopt>=0.6 (from pymorphy2)\n",
            "  Downloading docopt-0.6.2.tar.gz (25 kB)\n",
            "  Preparing metadata (setup.py) ... \u001b[?25l\u001b[?25hdone\n",
            "Building wheels for collected packages: docopt\n",
            "  Building wheel for docopt (setup.py) ... \u001b[?25l\u001b[?25hdone\n",
            "  Created wheel for docopt: filename=docopt-0.6.2-py2.py3-none-any.whl size=13707 sha256=b65f5b09811e20da5014fc263c96a41efd686faaab58288f44507f107e835e51\n",
            "  Stored in directory: /root/.cache/pip/wheels/fc/ab/d4/5da2067ac95b36618c629a5f93f809425700506f72c9732fac\n",
            "Successfully built docopt\n",
            "Installing collected packages: pymorphy2-dicts-ru, docopt, dawg-python, pymorphy2\n",
            "Successfully installed dawg-python-0.7.2 docopt-0.6.2 pymorphy2-0.9.1 pymorphy2-dicts-ru-2.4.417127.4579844\n"
          ]
        }
      ]
    },
    {
      "cell_type": "code",
      "metadata": {
        "colab": {
          "base_uri": "https://localhost:8080/"
        },
        "id": "OQUE8gYpSnBE",
        "outputId": "212468f6-d708-48c6-ff3e-6c11fb2f6b7d"
      },
      "source": [
        "import pymorphy2\n",
        "import re\n",
        "morph = pymorphy2.MorphAnalyzer()\n",
        "stop_words = stopwords.words('russian')\n",
        "\n",
        "text = \"Обработка текстов на естественном языке — общее направление искусственного интеллекта и математической лингвистики. Оно изучает проблемы компьютерного анализа и синтеза текстов на естественных языках. Применительно к искусственному интеллекту анализ означает понимание языка, а синтез — генерацию грамотного текста.\"\n",
        "sentences = nltk.sent_tokenize(text, language=\"russian\")\n",
        "\n",
        "for sentence in sentences:\n",
        "    print('___________________')\n",
        "    print(sentence)\n",
        "    sentence_ = re.sub(r\"[^А-Яа-яёЁ ]\", \"\", sentence)\n",
        "    print(sentence_)\n",
        "    tokens = nltk.word_tokenize(sentence_)\n",
        "    print(tokens)\n",
        "    tokens = [i for i in tokens if (i not in stop_words)]\n",
        "    print(tokens)\n",
        "    tokens = [morph.parse(i)[0].normal_form for i in tokens]\n",
        "    print(tokens)"
      ],
      "execution_count": null,
      "outputs": [
        {
          "output_type": "stream",
          "name": "stdout",
          "text": [
            "___________________\n",
            "Обработка текстов на естественном языке — общее направление искусственного интеллекта и математической лингвистики.\n",
            "Обработка текстов на естественном языке  общее направление искусственного интеллекта и математической лингвистики\n",
            "['Обработка', 'текстов', 'на', 'естественном', 'языке', 'общее', 'направление', 'искусственного', 'интеллекта', 'и', 'математической', 'лингвистики']\n",
            "['Обработка', 'текстов', 'естественном', 'языке', 'общее', 'направление', 'искусственного', 'интеллекта', 'математической', 'лингвистики']\n",
            "['обработка', 'текст', 'естественный', 'язык', 'общий', 'направление', 'искусственный', 'интеллект', 'математический', 'лингвистика']\n",
            "___________________\n",
            "Оно изучает проблемы компьютерного анализа и синтеза текстов на естественных языках.\n",
            "Оно изучает проблемы компьютерного анализа и синтеза текстов на естественных языках\n",
            "['Оно', 'изучает', 'проблемы', 'компьютерного', 'анализа', 'и', 'синтеза', 'текстов', 'на', 'естественных', 'языках']\n",
            "['Оно', 'изучает', 'проблемы', 'компьютерного', 'анализа', 'синтеза', 'текстов', 'естественных', 'языках']\n",
            "['оно', 'изучать', 'проблема', 'компьютерный', 'анализ', 'синтез', 'текст', 'естественный', 'язык']\n",
            "___________________\n",
            "Применительно к искусственному интеллекту анализ означает понимание языка, а синтез — генерацию грамотного текста.\n",
            "Применительно к искусственному интеллекту анализ означает понимание языка а синтез  генерацию грамотного текста\n",
            "['Применительно', 'к', 'искусственному', 'интеллекту', 'анализ', 'означает', 'понимание', 'языка', 'а', 'синтез', 'генерацию', 'грамотного', 'текста']\n",
            "['Применительно', 'искусственному', 'интеллекту', 'анализ', 'означает', 'понимание', 'языка', 'синтез', 'генерацию', 'грамотного', 'текста']\n",
            "['применительно', 'искусственный', 'интеллект', 'анализ', 'означать', 'понимание', 'язык', 'синтез', 'генерация', 'грамотный', 'текст']\n"
          ]
        }
      ]
    },
    {
      "cell_type": "markdown",
      "metadata": {
        "id": "tFV3mwv32tx6"
      },
      "source": [
        "## Распознание спама\n"
      ]
    },
    {
      "cell_type": "markdown",
      "source": [
        "Загружаем данные и разархивируем"
      ],
      "metadata": {
        "id": "Ohk86_AkEpHO"
      }
    },
    {
      "cell_type": "code",
      "metadata": {
        "id": "MmBl1kYSgYKT",
        "colab": {
          "base_uri": "https://localhost:8080/"
        },
        "outputId": "8e290b62-739b-42cc-d32f-48c4e781936a"
      },
      "source": [
        "!wget https://archive.ics.uci.edu/ml/machine-learning-databases/00228/smsspamcollection.zip"
      ],
      "execution_count": null,
      "outputs": [
        {
          "output_type": "stream",
          "name": "stdout",
          "text": [
            "--2023-06-15 16:23:40--  https://archive.ics.uci.edu/ml/machine-learning-databases/00228/smsspamcollection.zip\n",
            "Resolving archive.ics.uci.edu (archive.ics.uci.edu)... 128.195.10.252\n",
            "Connecting to archive.ics.uci.edu (archive.ics.uci.edu)|128.195.10.252|:443... connected.\n",
            "HTTP request sent, awaiting response... 200 OK\n",
            "Length: unspecified\n",
            "Saving to: ‘smsspamcollection.zip’\n",
            "\n",
            "smsspamcollection.z     [ <=>                ] 198.65K  1.02MB/s    in 0.2s    \n",
            "\n",
            "2023-06-15 16:23:40 (1.02 MB/s) - ‘smsspamcollection.zip’ saved [203415]\n",
            "\n"
          ]
        }
      ]
    },
    {
      "cell_type": "code",
      "metadata": {
        "id": "ou7R0VF0hLi0",
        "colab": {
          "base_uri": "https://localhost:8080/"
        },
        "outputId": "22310129-e2ca-4f09-f65b-7566e92ef044"
      },
      "source": [
        "!unzip smsspamcollection.zip"
      ],
      "execution_count": null,
      "outputs": [
        {
          "output_type": "stream",
          "name": "stdout",
          "text": [
            "Archive:  smsspamcollection.zip\n",
            "  inflating: SMSSpamCollection       \n",
            "  inflating: readme                  \n"
          ]
        }
      ]
    },
    {
      "cell_type": "code",
      "metadata": {
        "id": "Tjo8ESvlhcPo"
      },
      "source": [
        "import pandas as pd\n",
        "import numpy as np"
      ],
      "execution_count": null,
      "outputs": []
    },
    {
      "cell_type": "code",
      "metadata": {
        "id": "2u3JFt1_heVf"
      },
      "source": [
        "df = pd.read_table('SMSSpamCollection', sep='\\t', header=None, names=['label','sms_message'])"
      ],
      "execution_count": null,
      "outputs": []
    },
    {
      "cell_type": "code",
      "metadata": {
        "id": "x52h9vRChx6N",
        "colab": {
          "base_uri": "https://localhost:8080/",
          "height": 206
        },
        "outputId": "e5524f11-dfb2-412e-f3f7-bf1236a4a387"
      },
      "source": [
        "df.head()"
      ],
      "execution_count": null,
      "outputs": [
        {
          "output_type": "execute_result",
          "data": {
            "text/plain": [
              "  label                                        sms_message\n",
              "0   ham  Go until jurong point, crazy.. Available only ...\n",
              "1   ham                      Ok lar... Joking wif u oni...\n",
              "2  spam  Free entry in 2 a wkly comp to win FA Cup fina...\n",
              "3   ham  U dun say so early hor... U c already then say...\n",
              "4   ham  Nah I don't think he goes to usf, he lives aro..."
            ],
            "text/html": [
              "\n",
              "  <div id=\"df-952ff7bc-9ade-40a8-a076-0738cd919136\">\n",
              "    <div class=\"colab-df-container\">\n",
              "      <div>\n",
              "<style scoped>\n",
              "    .dataframe tbody tr th:only-of-type {\n",
              "        vertical-align: middle;\n",
              "    }\n",
              "\n",
              "    .dataframe tbody tr th {\n",
              "        vertical-align: top;\n",
              "    }\n",
              "\n",
              "    .dataframe thead th {\n",
              "        text-align: right;\n",
              "    }\n",
              "</style>\n",
              "<table border=\"1\" class=\"dataframe\">\n",
              "  <thead>\n",
              "    <tr style=\"text-align: right;\">\n",
              "      <th></th>\n",
              "      <th>label</th>\n",
              "      <th>sms_message</th>\n",
              "    </tr>\n",
              "  </thead>\n",
              "  <tbody>\n",
              "    <tr>\n",
              "      <th>0</th>\n",
              "      <td>ham</td>\n",
              "      <td>Go until jurong point, crazy.. Available only ...</td>\n",
              "    </tr>\n",
              "    <tr>\n",
              "      <th>1</th>\n",
              "      <td>ham</td>\n",
              "      <td>Ok lar... Joking wif u oni...</td>\n",
              "    </tr>\n",
              "    <tr>\n",
              "      <th>2</th>\n",
              "      <td>spam</td>\n",
              "      <td>Free entry in 2 a wkly comp to win FA Cup fina...</td>\n",
              "    </tr>\n",
              "    <tr>\n",
              "      <th>3</th>\n",
              "      <td>ham</td>\n",
              "      <td>U dun say so early hor... U c already then say...</td>\n",
              "    </tr>\n",
              "    <tr>\n",
              "      <th>4</th>\n",
              "      <td>ham</td>\n",
              "      <td>Nah I don't think he goes to usf, he lives aro...</td>\n",
              "    </tr>\n",
              "  </tbody>\n",
              "</table>\n",
              "</div>\n",
              "      <button class=\"colab-df-convert\" onclick=\"convertToInteractive('df-952ff7bc-9ade-40a8-a076-0738cd919136')\"\n",
              "              title=\"Convert this dataframe to an interactive table.\"\n",
              "              style=\"display:none;\">\n",
              "        \n",
              "  <svg xmlns=\"http://www.w3.org/2000/svg\" height=\"24px\"viewBox=\"0 0 24 24\"\n",
              "       width=\"24px\">\n",
              "    <path d=\"M0 0h24v24H0V0z\" fill=\"none\"/>\n",
              "    <path d=\"M18.56 5.44l.94 2.06.94-2.06 2.06-.94-2.06-.94-.94-2.06-.94 2.06-2.06.94zm-11 1L8.5 8.5l.94-2.06 2.06-.94-2.06-.94L8.5 2.5l-.94 2.06-2.06.94zm10 10l.94 2.06.94-2.06 2.06-.94-2.06-.94-.94-2.06-.94 2.06-2.06.94z\"/><path d=\"M17.41 7.96l-1.37-1.37c-.4-.4-.92-.59-1.43-.59-.52 0-1.04.2-1.43.59L10.3 9.45l-7.72 7.72c-.78.78-.78 2.05 0 2.83L4 21.41c.39.39.9.59 1.41.59.51 0 1.02-.2 1.41-.59l7.78-7.78 2.81-2.81c.8-.78.8-2.07 0-2.86zM5.41 20L4 18.59l7.72-7.72 1.47 1.35L5.41 20z\"/>\n",
              "  </svg>\n",
              "      </button>\n",
              "      \n",
              "  <style>\n",
              "    .colab-df-container {\n",
              "      display:flex;\n",
              "      flex-wrap:wrap;\n",
              "      gap: 12px;\n",
              "    }\n",
              "\n",
              "    .colab-df-convert {\n",
              "      background-color: #E8F0FE;\n",
              "      border: none;\n",
              "      border-radius: 50%;\n",
              "      cursor: pointer;\n",
              "      display: none;\n",
              "      fill: #1967D2;\n",
              "      height: 32px;\n",
              "      padding: 0 0 0 0;\n",
              "      width: 32px;\n",
              "    }\n",
              "\n",
              "    .colab-df-convert:hover {\n",
              "      background-color: #E2EBFA;\n",
              "      box-shadow: 0px 1px 2px rgba(60, 64, 67, 0.3), 0px 1px 3px 1px rgba(60, 64, 67, 0.15);\n",
              "      fill: #174EA6;\n",
              "    }\n",
              "\n",
              "    [theme=dark] .colab-df-convert {\n",
              "      background-color: #3B4455;\n",
              "      fill: #D2E3FC;\n",
              "    }\n",
              "\n",
              "    [theme=dark] .colab-df-convert:hover {\n",
              "      background-color: #434B5C;\n",
              "      box-shadow: 0px 1px 3px 1px rgba(0, 0, 0, 0.15);\n",
              "      filter: drop-shadow(0px 1px 2px rgba(0, 0, 0, 0.3));\n",
              "      fill: #FFFFFF;\n",
              "    }\n",
              "  </style>\n",
              "\n",
              "      <script>\n",
              "        const buttonEl =\n",
              "          document.querySelector('#df-952ff7bc-9ade-40a8-a076-0738cd919136 button.colab-df-convert');\n",
              "        buttonEl.style.display =\n",
              "          google.colab.kernel.accessAllowed ? 'block' : 'none';\n",
              "\n",
              "        async function convertToInteractive(key) {\n",
              "          const element = document.querySelector('#df-952ff7bc-9ade-40a8-a076-0738cd919136');\n",
              "          const dataTable =\n",
              "            await google.colab.kernel.invokeFunction('convertToInteractive',\n",
              "                                                     [key], {});\n",
              "          if (!dataTable) return;\n",
              "\n",
              "          const docLinkHtml = 'Like what you see? Visit the ' +\n",
              "            '<a target=\"_blank\" href=https://colab.research.google.com/notebooks/data_table.ipynb>data table notebook</a>'\n",
              "            + ' to learn more about interactive tables.';\n",
              "          element.innerHTML = '';\n",
              "          dataTable['output_type'] = 'display_data';\n",
              "          await google.colab.output.renderOutput(dataTable, element);\n",
              "          const docLink = document.createElement('div');\n",
              "          docLink.innerHTML = docLinkHtml;\n",
              "          element.appendChild(docLink);\n",
              "        }\n",
              "      </script>\n",
              "    </div>\n",
              "  </div>\n",
              "  "
            ]
          },
          "metadata": {},
          "execution_count": 21
        }
      ]
    },
    {
      "cell_type": "code",
      "source": [
        "df.shape"
      ],
      "metadata": {
        "colab": {
          "base_uri": "https://localhost:8080/"
        },
        "id": "W8kknxB-3rkQ",
        "outputId": "4504355f-b536-43e6-825c-a38c8af48996"
      },
      "execution_count": null,
      "outputs": [
        {
          "output_type": "execute_result",
          "data": {
            "text/plain": [
              "(5572, 2)"
            ]
          },
          "metadata": {},
          "execution_count": 22
        }
      ]
    },
    {
      "cell_type": "markdown",
      "metadata": {
        "id": "RUjie64471wp"
      },
      "source": [
        "### Логистическая регрессия + TFIDF"
      ]
    },
    {
      "cell_type": "code",
      "metadata": {
        "id": "7YQUvXHt6A_0",
        "colab": {
          "base_uri": "https://localhost:8080/",
          "height": 74
        },
        "outputId": "69408f8f-923e-42a5-dcee-7f5c1cc23f12"
      },
      "source": [
        "vectorizer = TfidfVectorizer()\n",
        "vectorizer.fit(df['sms_message'].tolist())"
      ],
      "execution_count": null,
      "outputs": [
        {
          "output_type": "execute_result",
          "data": {
            "text/plain": [
              "TfidfVectorizer()"
            ],
            "text/html": [
              "<style>#sk-container-id-6 {color: black;background-color: white;}#sk-container-id-6 pre{padding: 0;}#sk-container-id-6 div.sk-toggleable {background-color: white;}#sk-container-id-6 label.sk-toggleable__label {cursor: pointer;display: block;width: 100%;margin-bottom: 0;padding: 0.3em;box-sizing: border-box;text-align: center;}#sk-container-id-6 label.sk-toggleable__label-arrow:before {content: \"▸\";float: left;margin-right: 0.25em;color: #696969;}#sk-container-id-6 label.sk-toggleable__label-arrow:hover:before {color: black;}#sk-container-id-6 div.sk-estimator:hover label.sk-toggleable__label-arrow:before {color: black;}#sk-container-id-6 div.sk-toggleable__content {max-height: 0;max-width: 0;overflow: hidden;text-align: left;background-color: #f0f8ff;}#sk-container-id-6 div.sk-toggleable__content pre {margin: 0.2em;color: black;border-radius: 0.25em;background-color: #f0f8ff;}#sk-container-id-6 input.sk-toggleable__control:checked~div.sk-toggleable__content {max-height: 200px;max-width: 100%;overflow: auto;}#sk-container-id-6 input.sk-toggleable__control:checked~label.sk-toggleable__label-arrow:before {content: \"▾\";}#sk-container-id-6 div.sk-estimator input.sk-toggleable__control:checked~label.sk-toggleable__label {background-color: #d4ebff;}#sk-container-id-6 div.sk-label input.sk-toggleable__control:checked~label.sk-toggleable__label {background-color: #d4ebff;}#sk-container-id-6 input.sk-hidden--visually {border: 0;clip: rect(1px 1px 1px 1px);clip: rect(1px, 1px, 1px, 1px);height: 1px;margin: -1px;overflow: hidden;padding: 0;position: absolute;width: 1px;}#sk-container-id-6 div.sk-estimator {font-family: monospace;background-color: #f0f8ff;border: 1px dotted black;border-radius: 0.25em;box-sizing: border-box;margin-bottom: 0.5em;}#sk-container-id-6 div.sk-estimator:hover {background-color: #d4ebff;}#sk-container-id-6 div.sk-parallel-item::after {content: \"\";width: 100%;border-bottom: 1px solid gray;flex-grow: 1;}#sk-container-id-6 div.sk-label:hover label.sk-toggleable__label {background-color: #d4ebff;}#sk-container-id-6 div.sk-serial::before {content: \"\";position: absolute;border-left: 1px solid gray;box-sizing: border-box;top: 0;bottom: 0;left: 50%;z-index: 0;}#sk-container-id-6 div.sk-serial {display: flex;flex-direction: column;align-items: center;background-color: white;padding-right: 0.2em;padding-left: 0.2em;position: relative;}#sk-container-id-6 div.sk-item {position: relative;z-index: 1;}#sk-container-id-6 div.sk-parallel {display: flex;align-items: stretch;justify-content: center;background-color: white;position: relative;}#sk-container-id-6 div.sk-item::before, #sk-container-id-6 div.sk-parallel-item::before {content: \"\";position: absolute;border-left: 1px solid gray;box-sizing: border-box;top: 0;bottom: 0;left: 50%;z-index: -1;}#sk-container-id-6 div.sk-parallel-item {display: flex;flex-direction: column;z-index: 1;position: relative;background-color: white;}#sk-container-id-6 div.sk-parallel-item:first-child::after {align-self: flex-end;width: 50%;}#sk-container-id-6 div.sk-parallel-item:last-child::after {align-self: flex-start;width: 50%;}#sk-container-id-6 div.sk-parallel-item:only-child::after {width: 0;}#sk-container-id-6 div.sk-dashed-wrapped {border: 1px dashed gray;margin: 0 0.4em 0.5em 0.4em;box-sizing: border-box;padding-bottom: 0.4em;background-color: white;}#sk-container-id-6 div.sk-label label {font-family: monospace;font-weight: bold;display: inline-block;line-height: 1.2em;}#sk-container-id-6 div.sk-label-container {text-align: center;}#sk-container-id-6 div.sk-container {/* jupyter's `normalize.less` sets `[hidden] { display: none; }` but bootstrap.min.css set `[hidden] { display: none !important; }` so we also need the `!important` here to be able to override the default hidden behavior on the sphinx rendered scikit-learn.org. See: https://github.com/scikit-learn/scikit-learn/issues/21755 */display: inline-block !important;position: relative;}#sk-container-id-6 div.sk-text-repr-fallback {display: none;}</style><div id=\"sk-container-id-6\" class=\"sk-top-container\"><div class=\"sk-text-repr-fallback\"><pre>TfidfVectorizer()</pre><b>In a Jupyter environment, please rerun this cell to show the HTML representation or trust the notebook. <br />On GitHub, the HTML representation is unable to render, please try loading this page with nbviewer.org.</b></div><div class=\"sk-container\" hidden><div class=\"sk-item\"><div class=\"sk-estimator sk-toggleable\"><input class=\"sk-toggleable__control sk-hidden--visually\" id=\"sk-estimator-id-6\" type=\"checkbox\" checked><label for=\"sk-estimator-id-6\" class=\"sk-toggleable__label sk-toggleable__label-arrow\">TfidfVectorizer</label><div class=\"sk-toggleable__content\"><pre>TfidfVectorizer()</pre></div></div></div></div></div>"
            ]
          },
          "metadata": {},
          "execution_count": 50
        }
      ]
    },
    {
      "cell_type": "code",
      "metadata": {
        "colab": {
          "base_uri": "https://localhost:8080/"
        },
        "id": "uWOTxIgz_CYz",
        "outputId": "9e4e4715-9b7d-4c00-e750-7420a755870c"
      },
      "source": [
        "df['sms_message']"
      ],
      "execution_count": null,
      "outputs": [
        {
          "output_type": "execute_result",
          "data": {
            "text/plain": [
              "0       Go until jurong point, crazy.. Available only ...\n",
              "1                           Ok lar... Joking wif u oni...\n",
              "2       Free entry in 2 a wkly comp to win FA Cup fina...\n",
              "3       U dun say so early hor... U c already then say...\n",
              "4       Nah I don't think he goes to usf, he lives aro...\n",
              "                              ...                        \n",
              "5567    This is the 2nd time we have tried 2 contact u...\n",
              "5568                 Will ü b going to esplanade fr home?\n",
              "5569    Pity, * was in mood for that. So...any other s...\n",
              "5570    The guy did some bitching but I acted like i'd...\n",
              "5571                           Rofl. Its true to its name\n",
              "Name: sms_message, Length: 5572, dtype: object"
            ]
          },
          "metadata": {},
          "execution_count": 51
        }
      ]
    },
    {
      "cell_type": "code",
      "metadata": {
        "colab": {
          "base_uri": "https://localhost:8080/"
        },
        "id": "zNI_guxd_QEs",
        "outputId": "6188c287-a3bb-413e-83d2-5ec3930d727e"
      },
      "source": [
        "vectorizer.transform(['The guy did some bitching but I acted like'])"
      ],
      "execution_count": null,
      "outputs": [
        {
          "output_type": "execute_result",
          "data": {
            "text/plain": [
              "<1x8713 sparse matrix of type '<class 'numpy.float64'>'\n",
              "\twith 8 stored elements in Compressed Sparse Row format>"
            ]
          },
          "metadata": {},
          "execution_count": 52
        }
      ]
    },
    {
      "cell_type": "code",
      "metadata": {
        "id": "h9mCLOb_6BPH",
        "colab": {
          "base_uri": "https://localhost:8080/"
        },
        "outputId": "14a5aacc-06da-4968-808d-6f9231f6fab4"
      },
      "source": [
        "res_tfidf = vectorizer.transform(df['sms_message'].tolist())\n",
        "res_tfidf"
      ],
      "execution_count": null,
      "outputs": [
        {
          "output_type": "execute_result",
          "data": {
            "text/plain": [
              "<5572x8713 sparse matrix of type '<class 'numpy.float64'>'\n",
              "\twith 74169 stored elements in Compressed Sparse Row format>"
            ]
          },
          "metadata": {},
          "execution_count": 53
        }
      ]
    },
    {
      "cell_type": "code",
      "metadata": {
        "colab": {
          "base_uri": "https://localhost:8080/"
        },
        "id": "YqWVn3DS-zGe",
        "outputId": "4578ed7e-ef9f-4e00-f922-250c8c3f2719"
      },
      "source": [
        "res_tfidf[0].todense()"
      ],
      "execution_count": null,
      "outputs": [
        {
          "output_type": "execute_result",
          "data": {
            "text/plain": [
              "matrix([[0., 0., 0., ..., 0., 0., 0.]])"
            ]
          },
          "metadata": {},
          "execution_count": 54
        }
      ]
    },
    {
      "cell_type": "code",
      "metadata": {
        "id": "ab-HRqs0_TVY"
      },
      "source": [
        "from sklearn.linear_model import LogisticRegression\n",
        "from sklearn.model_selection import train_test_split\n",
        "from sklearn.metrics import f1_score, classification_report\n",
        "from sklearn.preprocessing import LabelEncoder"
      ],
      "execution_count": null,
      "outputs": []
    },
    {
      "cell_type": "code",
      "metadata": {
        "id": "SNd8vIeBGA2Z"
      },
      "source": [
        "le = LabelEncoder().fit(df['label'])"
      ],
      "execution_count": null,
      "outputs": []
    },
    {
      "cell_type": "code",
      "metadata": {
        "id": "g86tY5diGJFC"
      },
      "source": [
        "df['cat_label'] = le.transform(df['label'])"
      ],
      "execution_count": null,
      "outputs": []
    },
    {
      "cell_type": "code",
      "metadata": {
        "colab": {
          "base_uri": "https://localhost:8080/"
        },
        "id": "_1kNb0XNGTlj",
        "outputId": "56797640-f67c-49e8-9e07-93a295afbd4b"
      },
      "source": [
        "df['cat_label'].value_counts()"
      ],
      "execution_count": null,
      "outputs": [
        {
          "output_type": "execute_result",
          "data": {
            "text/plain": [
              "0    4825\n",
              "1     747\n",
              "Name: cat_label, dtype: int64"
            ]
          },
          "metadata": {},
          "execution_count": 58
        }
      ]
    },
    {
      "cell_type": "code",
      "metadata": {
        "id": "tA-aL6qjAVQl"
      },
      "source": [
        "X_tr, X_ts, y_tr, y_ts = train_test_split(res_tfidf, df['cat_label'], test_size=0.2, random_state=1)"
      ],
      "execution_count": null,
      "outputs": []
    },
    {
      "cell_type": "code",
      "metadata": {
        "id": "UPrLVzPG_uH1"
      },
      "source": [
        "lr = LogisticRegression().fit(X_tr, y_tr)"
      ],
      "execution_count": null,
      "outputs": []
    },
    {
      "cell_type": "code",
      "metadata": {
        "colab": {
          "base_uri": "https://localhost:8080/"
        },
        "id": "O6uRW_xr_uRq",
        "outputId": "527f82da-4001-4813-a712-55c814c8c6ae"
      },
      "source": [
        "y_pred = lr.predict(X_ts)\n",
        "f1_score(y_ts, y_pred)"
      ],
      "execution_count": null,
      "outputs": [
        {
          "output_type": "execute_result",
          "data": {
            "text/plain": [
              "0.8659003831417624"
            ]
          },
          "metadata": {},
          "execution_count": 62
        }
      ]
    },
    {
      "cell_type": "code",
      "metadata": {
        "colab": {
          "base_uri": "https://localhost:8080/"
        },
        "id": "M0IHod_fMsnN",
        "outputId": "c90b7add-6f24-4edf-cf86-d8887cd9934e"
      },
      "source": [
        "print(classification_report(y_ts, y_pred))"
      ],
      "execution_count": null,
      "outputs": [
        {
          "output_type": "stream",
          "name": "stdout",
          "text": [
            "              precision    recall  f1-score   support\n",
            "\n",
            "           0       0.97      1.00      0.98       968\n",
            "           1       0.99      0.77      0.87       147\n",
            "\n",
            "    accuracy                           0.97      1115\n",
            "   macro avg       0.98      0.88      0.92      1115\n",
            "weighted avg       0.97      0.97      0.97      1115\n",
            "\n"
          ]
        }
      ]
    },
    {
      "cell_type": "markdown",
      "metadata": {
        "id": "iOL8ZOTj7nLk"
      },
      "source": [
        "### Наивный Байесовский классификатор"
      ]
    },
    {
      "cell_type": "code",
      "metadata": {
        "id": "b_LGvC_eiO2R"
      },
      "source": [
        "#Делим на трейновую и тестовую выборку\n",
        "from sklearn.model_selection import train_test_split\n",
        "X_train, X_test, y_train, y_test = train_test_split(df['sms_message'], df['cat_label'], random_state=1)"
      ],
      "execution_count": null,
      "outputs": []
    },
    {
      "cell_type": "code",
      "metadata": {
        "id": "KGG3yn_ni4Fb"
      },
      "source": [
        "from sklearn.feature_extraction.text import CountVectorizer\n",
        "\n",
        "# Считаем количество слов в предложениях\n",
        "# получим матрицу размером (количество предложений Х размер словаря)\n",
        "\n",
        "count_vector = CountVectorizer(max_features=1000)\n",
        "train_tensor = count_vector.fit_transform(X_train).toarray().astype('float')\n",
        "test_tensor = count_vector.transform(X_test).toarray().astype('float')"
      ],
      "execution_count": null,
      "outputs": []
    },
    {
      "cell_type": "code",
      "metadata": {
        "id": "w-8u-n3JFMUc",
        "colab": {
          "base_uri": "https://localhost:8080/"
        },
        "outputId": "cb7f6927-c2b3-47ad-b757-e5ebb34c477b"
      },
      "source": [
        "# размер трейновой выборки\n",
        "train_tensor.shape"
      ],
      "execution_count": null,
      "outputs": [
        {
          "output_type": "execute_result",
          "data": {
            "text/plain": [
              "(4179, 1000)"
            ]
          },
          "metadata": {},
          "execution_count": 76
        }
      ]
    },
    {
      "cell_type": "code",
      "metadata": {
        "id": "6i7YMz6B--zl",
        "colab": {
          "base_uri": "https://localhost:8080/"
        },
        "outputId": "44caa8b4-b97f-43b7-cc22-9099eec1f84a"
      },
      "source": [
        "# всего слов в предложениях\n",
        "train_tensor.sum()"
      ],
      "execution_count": null,
      "outputs": [
        {
          "output_type": "execute_result",
          "data": {
            "text/plain": [
              "47637.0"
            ]
          },
          "metadata": {},
          "execution_count": 77
        }
      ]
    },
    {
      "cell_type": "code",
      "source": [
        "pd.DataFrame(train_tensor, columns=count_vector.get_feature_names_out())"
      ],
      "metadata": {
        "colab": {
          "base_uri": "https://localhost:8080/",
          "height": 424
        },
        "id": "-a5VHrWkUkYu",
        "outputId": "cc43ae51-0f90-469b-ff30-5c1d3b390282"
      },
      "execution_count": null,
      "outputs": [
        {
          "output_type": "execute_result",
          "data": {
            "text/plain": [
              "      000   04  0800  08000839402  08000930705   10  100  1000  10p   11  ...  \\\n",
              "0     0.0  0.0   0.0          0.0          0.0  0.0  0.0   0.0  0.0  0.0  ...   \n",
              "1     0.0  0.0   0.0          0.0          0.0  0.0  0.0   0.0  0.0  0.0  ...   \n",
              "2     0.0  0.0   0.0          0.0          0.0  0.0  0.0   0.0  0.0  0.0  ...   \n",
              "3     0.0  0.0   0.0          0.0          0.0  0.0  0.0   0.0  0.0  0.0  ...   \n",
              "4     0.0  0.0   0.0          0.0          0.0  0.0  0.0   0.0  0.0  0.0  ...   \n",
              "...   ...  ...   ...          ...          ...  ...  ...   ...  ...  ...  ...   \n",
              "4174  0.0  0.0   0.0          0.0          0.0  0.0  0.0   0.0  0.0  0.0  ...   \n",
              "4175  0.0  0.0   0.0          0.0          0.0  0.0  0.0   0.0  0.0  0.0  ...   \n",
              "4176  0.0  0.0   0.0          0.0          0.0  0.0  0.0   0.0  0.0  0.0  ...   \n",
              "4177  0.0  0.0   0.0          0.0          0.0  0.0  0.0   0.0  1.0  0.0  ...   \n",
              "4178  0.0  0.0   0.0          0.0          0.0  0.0  0.0   0.0  0.0  0.0  ...   \n",
              "\n",
              "      yes  yesterday  yet   yo  you  your  yours  yourself   yr  yup  \n",
              "0     0.0        0.0  0.0  0.0  0.0   1.0    0.0       0.0  0.0  0.0  \n",
              "1     0.0        0.0  0.0  0.0  1.0   0.0    0.0       0.0  0.0  0.0  \n",
              "2     0.0        0.0  0.0  0.0  1.0   1.0    0.0       0.0  0.0  0.0  \n",
              "3     0.0        0.0  0.0  0.0  0.0   0.0    0.0       0.0  0.0  0.0  \n",
              "4     0.0        0.0  0.0  0.0  0.0   0.0    0.0       0.0  0.0  0.0  \n",
              "...   ...        ...  ...  ...  ...   ...    ...       ...  ...  ...  \n",
              "4174  0.0        0.0  0.0  0.0  0.0   0.0    0.0       0.0  0.0  0.0  \n",
              "4175  0.0        0.0  0.0  0.0  0.0   0.0    0.0       0.0  0.0  0.0  \n",
              "4176  0.0        0.0  0.0  0.0  0.0   0.0    0.0       0.0  0.0  0.0  \n",
              "4177  0.0        0.0  0.0  0.0  0.0   0.0    0.0       0.0  0.0  0.0  \n",
              "4178  0.0        0.0  0.0  0.0  0.0   0.0    0.0       0.0  0.0  0.0  \n",
              "\n",
              "[4179 rows x 1000 columns]"
            ],
            "text/html": [
              "\n",
              "  <div id=\"df-53bc31b3-5139-4ef6-b32b-cdb93a734d1e\">\n",
              "    <div class=\"colab-df-container\">\n",
              "      <div>\n",
              "<style scoped>\n",
              "    .dataframe tbody tr th:only-of-type {\n",
              "        vertical-align: middle;\n",
              "    }\n",
              "\n",
              "    .dataframe tbody tr th {\n",
              "        vertical-align: top;\n",
              "    }\n",
              "\n",
              "    .dataframe thead th {\n",
              "        text-align: right;\n",
              "    }\n",
              "</style>\n",
              "<table border=\"1\" class=\"dataframe\">\n",
              "  <thead>\n",
              "    <tr style=\"text-align: right;\">\n",
              "      <th></th>\n",
              "      <th>000</th>\n",
              "      <th>04</th>\n",
              "      <th>0800</th>\n",
              "      <th>08000839402</th>\n",
              "      <th>08000930705</th>\n",
              "      <th>10</th>\n",
              "      <th>100</th>\n",
              "      <th>1000</th>\n",
              "      <th>10p</th>\n",
              "      <th>11</th>\n",
              "      <th>...</th>\n",
              "      <th>yes</th>\n",
              "      <th>yesterday</th>\n",
              "      <th>yet</th>\n",
              "      <th>yo</th>\n",
              "      <th>you</th>\n",
              "      <th>your</th>\n",
              "      <th>yours</th>\n",
              "      <th>yourself</th>\n",
              "      <th>yr</th>\n",
              "      <th>yup</th>\n",
              "    </tr>\n",
              "  </thead>\n",
              "  <tbody>\n",
              "    <tr>\n",
              "      <th>0</th>\n",
              "      <td>0.0</td>\n",
              "      <td>0.0</td>\n",
              "      <td>0.0</td>\n",
              "      <td>0.0</td>\n",
              "      <td>0.0</td>\n",
              "      <td>0.0</td>\n",
              "      <td>0.0</td>\n",
              "      <td>0.0</td>\n",
              "      <td>0.0</td>\n",
              "      <td>0.0</td>\n",
              "      <td>...</td>\n",
              "      <td>0.0</td>\n",
              "      <td>0.0</td>\n",
              "      <td>0.0</td>\n",
              "      <td>0.0</td>\n",
              "      <td>0.0</td>\n",
              "      <td>1.0</td>\n",
              "      <td>0.0</td>\n",
              "      <td>0.0</td>\n",
              "      <td>0.0</td>\n",
              "      <td>0.0</td>\n",
              "    </tr>\n",
              "    <tr>\n",
              "      <th>1</th>\n",
              "      <td>0.0</td>\n",
              "      <td>0.0</td>\n",
              "      <td>0.0</td>\n",
              "      <td>0.0</td>\n",
              "      <td>0.0</td>\n",
              "      <td>0.0</td>\n",
              "      <td>0.0</td>\n",
              "      <td>0.0</td>\n",
              "      <td>0.0</td>\n",
              "      <td>0.0</td>\n",
              "      <td>...</td>\n",
              "      <td>0.0</td>\n",
              "      <td>0.0</td>\n",
              "      <td>0.0</td>\n",
              "      <td>0.0</td>\n",
              "      <td>1.0</td>\n",
              "      <td>0.0</td>\n",
              "      <td>0.0</td>\n",
              "      <td>0.0</td>\n",
              "      <td>0.0</td>\n",
              "      <td>0.0</td>\n",
              "    </tr>\n",
              "    <tr>\n",
              "      <th>2</th>\n",
              "      <td>0.0</td>\n",
              "      <td>0.0</td>\n",
              "      <td>0.0</td>\n",
              "      <td>0.0</td>\n",
              "      <td>0.0</td>\n",
              "      <td>0.0</td>\n",
              "      <td>0.0</td>\n",
              "      <td>0.0</td>\n",
              "      <td>0.0</td>\n",
              "      <td>0.0</td>\n",
              "      <td>...</td>\n",
              "      <td>0.0</td>\n",
              "      <td>0.0</td>\n",
              "      <td>0.0</td>\n",
              "      <td>0.0</td>\n",
              "      <td>1.0</td>\n",
              "      <td>1.0</td>\n",
              "      <td>0.0</td>\n",
              "      <td>0.0</td>\n",
              "      <td>0.0</td>\n",
              "      <td>0.0</td>\n",
              "    </tr>\n",
              "    <tr>\n",
              "      <th>3</th>\n",
              "      <td>0.0</td>\n",
              "      <td>0.0</td>\n",
              "      <td>0.0</td>\n",
              "      <td>0.0</td>\n",
              "      <td>0.0</td>\n",
              "      <td>0.0</td>\n",
              "      <td>0.0</td>\n",
              "      <td>0.0</td>\n",
              "      <td>0.0</td>\n",
              "      <td>0.0</td>\n",
              "      <td>...</td>\n",
              "      <td>0.0</td>\n",
              "      <td>0.0</td>\n",
              "      <td>0.0</td>\n",
              "      <td>0.0</td>\n",
              "      <td>0.0</td>\n",
              "      <td>0.0</td>\n",
              "      <td>0.0</td>\n",
              "      <td>0.0</td>\n",
              "      <td>0.0</td>\n",
              "      <td>0.0</td>\n",
              "    </tr>\n",
              "    <tr>\n",
              "      <th>4</th>\n",
              "      <td>0.0</td>\n",
              "      <td>0.0</td>\n",
              "      <td>0.0</td>\n",
              "      <td>0.0</td>\n",
              "      <td>0.0</td>\n",
              "      <td>0.0</td>\n",
              "      <td>0.0</td>\n",
              "      <td>0.0</td>\n",
              "      <td>0.0</td>\n",
              "      <td>0.0</td>\n",
              "      <td>...</td>\n",
              "      <td>0.0</td>\n",
              "      <td>0.0</td>\n",
              "      <td>0.0</td>\n",
              "      <td>0.0</td>\n",
              "      <td>0.0</td>\n",
              "      <td>0.0</td>\n",
              "      <td>0.0</td>\n",
              "      <td>0.0</td>\n",
              "      <td>0.0</td>\n",
              "      <td>0.0</td>\n",
              "    </tr>\n",
              "    <tr>\n",
              "      <th>...</th>\n",
              "      <td>...</td>\n",
              "      <td>...</td>\n",
              "      <td>...</td>\n",
              "      <td>...</td>\n",
              "      <td>...</td>\n",
              "      <td>...</td>\n",
              "      <td>...</td>\n",
              "      <td>...</td>\n",
              "      <td>...</td>\n",
              "      <td>...</td>\n",
              "      <td>...</td>\n",
              "      <td>...</td>\n",
              "      <td>...</td>\n",
              "      <td>...</td>\n",
              "      <td>...</td>\n",
              "      <td>...</td>\n",
              "      <td>...</td>\n",
              "      <td>...</td>\n",
              "      <td>...</td>\n",
              "      <td>...</td>\n",
              "      <td>...</td>\n",
              "    </tr>\n",
              "    <tr>\n",
              "      <th>4174</th>\n",
              "      <td>0.0</td>\n",
              "      <td>0.0</td>\n",
              "      <td>0.0</td>\n",
              "      <td>0.0</td>\n",
              "      <td>0.0</td>\n",
              "      <td>0.0</td>\n",
              "      <td>0.0</td>\n",
              "      <td>0.0</td>\n",
              "      <td>0.0</td>\n",
              "      <td>0.0</td>\n",
              "      <td>...</td>\n",
              "      <td>0.0</td>\n",
              "      <td>0.0</td>\n",
              "      <td>0.0</td>\n",
              "      <td>0.0</td>\n",
              "      <td>0.0</td>\n",
              "      <td>0.0</td>\n",
              "      <td>0.0</td>\n",
              "      <td>0.0</td>\n",
              "      <td>0.0</td>\n",
              "      <td>0.0</td>\n",
              "    </tr>\n",
              "    <tr>\n",
              "      <th>4175</th>\n",
              "      <td>0.0</td>\n",
              "      <td>0.0</td>\n",
              "      <td>0.0</td>\n",
              "      <td>0.0</td>\n",
              "      <td>0.0</td>\n",
              "      <td>0.0</td>\n",
              "      <td>0.0</td>\n",
              "      <td>0.0</td>\n",
              "      <td>0.0</td>\n",
              "      <td>0.0</td>\n",
              "      <td>...</td>\n",
              "      <td>0.0</td>\n",
              "      <td>0.0</td>\n",
              "      <td>0.0</td>\n",
              "      <td>0.0</td>\n",
              "      <td>0.0</td>\n",
              "      <td>0.0</td>\n",
              "      <td>0.0</td>\n",
              "      <td>0.0</td>\n",
              "      <td>0.0</td>\n",
              "      <td>0.0</td>\n",
              "    </tr>\n",
              "    <tr>\n",
              "      <th>4176</th>\n",
              "      <td>0.0</td>\n",
              "      <td>0.0</td>\n",
              "      <td>0.0</td>\n",
              "      <td>0.0</td>\n",
              "      <td>0.0</td>\n",
              "      <td>0.0</td>\n",
              "      <td>0.0</td>\n",
              "      <td>0.0</td>\n",
              "      <td>0.0</td>\n",
              "      <td>0.0</td>\n",
              "      <td>...</td>\n",
              "      <td>0.0</td>\n",
              "      <td>0.0</td>\n",
              "      <td>0.0</td>\n",
              "      <td>0.0</td>\n",
              "      <td>0.0</td>\n",
              "      <td>0.0</td>\n",
              "      <td>0.0</td>\n",
              "      <td>0.0</td>\n",
              "      <td>0.0</td>\n",
              "      <td>0.0</td>\n",
              "    </tr>\n",
              "    <tr>\n",
              "      <th>4177</th>\n",
              "      <td>0.0</td>\n",
              "      <td>0.0</td>\n",
              "      <td>0.0</td>\n",
              "      <td>0.0</td>\n",
              "      <td>0.0</td>\n",
              "      <td>0.0</td>\n",
              "      <td>0.0</td>\n",
              "      <td>0.0</td>\n",
              "      <td>1.0</td>\n",
              "      <td>0.0</td>\n",
              "      <td>...</td>\n",
              "      <td>0.0</td>\n",
              "      <td>0.0</td>\n",
              "      <td>0.0</td>\n",
              "      <td>0.0</td>\n",
              "      <td>0.0</td>\n",
              "      <td>0.0</td>\n",
              "      <td>0.0</td>\n",
              "      <td>0.0</td>\n",
              "      <td>0.0</td>\n",
              "      <td>0.0</td>\n",
              "    </tr>\n",
              "    <tr>\n",
              "      <th>4178</th>\n",
              "      <td>0.0</td>\n",
              "      <td>0.0</td>\n",
              "      <td>0.0</td>\n",
              "      <td>0.0</td>\n",
              "      <td>0.0</td>\n",
              "      <td>0.0</td>\n",
              "      <td>0.0</td>\n",
              "      <td>0.0</td>\n",
              "      <td>0.0</td>\n",
              "      <td>0.0</td>\n",
              "      <td>...</td>\n",
              "      <td>0.0</td>\n",
              "      <td>0.0</td>\n",
              "      <td>0.0</td>\n",
              "      <td>0.0</td>\n",
              "      <td>0.0</td>\n",
              "      <td>0.0</td>\n",
              "      <td>0.0</td>\n",
              "      <td>0.0</td>\n",
              "      <td>0.0</td>\n",
              "      <td>0.0</td>\n",
              "    </tr>\n",
              "  </tbody>\n",
              "</table>\n",
              "<p>4179 rows × 1000 columns</p>\n",
              "</div>\n",
              "      <button class=\"colab-df-convert\" onclick=\"convertToInteractive('df-53bc31b3-5139-4ef6-b32b-cdb93a734d1e')\"\n",
              "              title=\"Convert this dataframe to an interactive table.\"\n",
              "              style=\"display:none;\">\n",
              "        \n",
              "  <svg xmlns=\"http://www.w3.org/2000/svg\" height=\"24px\"viewBox=\"0 0 24 24\"\n",
              "       width=\"24px\">\n",
              "    <path d=\"M0 0h24v24H0V0z\" fill=\"none\"/>\n",
              "    <path d=\"M18.56 5.44l.94 2.06.94-2.06 2.06-.94-2.06-.94-.94-2.06-.94 2.06-2.06.94zm-11 1L8.5 8.5l.94-2.06 2.06-.94-2.06-.94L8.5 2.5l-.94 2.06-2.06.94zm10 10l.94 2.06.94-2.06 2.06-.94-2.06-.94-.94-2.06-.94 2.06-2.06.94z\"/><path d=\"M17.41 7.96l-1.37-1.37c-.4-.4-.92-.59-1.43-.59-.52 0-1.04.2-1.43.59L10.3 9.45l-7.72 7.72c-.78.78-.78 2.05 0 2.83L4 21.41c.39.39.9.59 1.41.59.51 0 1.02-.2 1.41-.59l7.78-7.78 2.81-2.81c.8-.78.8-2.07 0-2.86zM5.41 20L4 18.59l7.72-7.72 1.47 1.35L5.41 20z\"/>\n",
              "  </svg>\n",
              "      </button>\n",
              "      \n",
              "  <style>\n",
              "    .colab-df-container {\n",
              "      display:flex;\n",
              "      flex-wrap:wrap;\n",
              "      gap: 12px;\n",
              "    }\n",
              "\n",
              "    .colab-df-convert {\n",
              "      background-color: #E8F0FE;\n",
              "      border: none;\n",
              "      border-radius: 50%;\n",
              "      cursor: pointer;\n",
              "      display: none;\n",
              "      fill: #1967D2;\n",
              "      height: 32px;\n",
              "      padding: 0 0 0 0;\n",
              "      width: 32px;\n",
              "    }\n",
              "\n",
              "    .colab-df-convert:hover {\n",
              "      background-color: #E2EBFA;\n",
              "      box-shadow: 0px 1px 2px rgba(60, 64, 67, 0.3), 0px 1px 3px 1px rgba(60, 64, 67, 0.15);\n",
              "      fill: #174EA6;\n",
              "    }\n",
              "\n",
              "    [theme=dark] .colab-df-convert {\n",
              "      background-color: #3B4455;\n",
              "      fill: #D2E3FC;\n",
              "    }\n",
              "\n",
              "    [theme=dark] .colab-df-convert:hover {\n",
              "      background-color: #434B5C;\n",
              "      box-shadow: 0px 1px 3px 1px rgba(0, 0, 0, 0.15);\n",
              "      filter: drop-shadow(0px 1px 2px rgba(0, 0, 0, 0.3));\n",
              "      fill: #FFFFFF;\n",
              "    }\n",
              "  </style>\n",
              "\n",
              "      <script>\n",
              "        const buttonEl =\n",
              "          document.querySelector('#df-53bc31b3-5139-4ef6-b32b-cdb93a734d1e button.colab-df-convert');\n",
              "        buttonEl.style.display =\n",
              "          google.colab.kernel.accessAllowed ? 'block' : 'none';\n",
              "\n",
              "        async function convertToInteractive(key) {\n",
              "          const element = document.querySelector('#df-53bc31b3-5139-4ef6-b32b-cdb93a734d1e');\n",
              "          const dataTable =\n",
              "            await google.colab.kernel.invokeFunction('convertToInteractive',\n",
              "                                                     [key], {});\n",
              "          if (!dataTable) return;\n",
              "\n",
              "          const docLinkHtml = 'Like what you see? Visit the ' +\n",
              "            '<a target=\"_blank\" href=https://colab.research.google.com/notebooks/data_table.ipynb>data table notebook</a>'\n",
              "            + ' to learn more about interactive tables.';\n",
              "          element.innerHTML = '';\n",
              "          dataTable['output_type'] = 'display_data';\n",
              "          await google.colab.output.renderOutput(dataTable, element);\n",
              "          const docLink = document.createElement('div');\n",
              "          docLink.innerHTML = docLinkHtml;\n",
              "          element.appendChild(docLink);\n",
              "        }\n",
              "      </script>\n",
              "    </div>\n",
              "  </div>\n",
              "  "
            ]
          },
          "metadata": {},
          "execution_count": 78
        }
      ]
    },
    {
      "cell_type": "code",
      "metadata": {
        "id": "jv_Ayn9y-lSu"
      },
      "source": [
        "# тензор с предложениями класса spam\n",
        "spam_train_tensor = train_tensor[(y_train == 1).values]\n",
        "\n",
        "# тензор с предложениями класса not_spam\n",
        "not_spam_train_tensor = train_tensor[(y_train == 0).values]"
      ],
      "execution_count": null,
      "outputs": []
    },
    {
      "cell_type": "code",
      "source": [
        "spam_train_tensor.sum()"
      ],
      "metadata": {
        "colab": {
          "base_uri": "https://localhost:8080/"
        },
        "id": "oV_zOTozZWgH",
        "outputId": "d3d179f7-3829-471e-b474-c41589da67ea"
      },
      "execution_count": null,
      "outputs": [
        {
          "output_type": "execute_result",
          "data": {
            "text/plain": [
              "9857.0"
            ]
          },
          "metadata": {},
          "execution_count": 80
        }
      ]
    },
    {
      "cell_type": "code",
      "source": [
        "not_spam_train_tensor.sum()"
      ],
      "metadata": {
        "colab": {
          "base_uri": "https://localhost:8080/"
        },
        "id": "5mL3YhF96pax",
        "outputId": "4b02a0bb-d5e1-45da-bece-c0944e15dfda"
      },
      "execution_count": null,
      "outputs": [
        {
          "output_type": "execute_result",
          "data": {
            "text/plain": [
              "37780.0"
            ]
          },
          "metadata": {},
          "execution_count": 81
        }
      ]
    },
    {
      "cell_type": "markdown",
      "source": [
        "![image.png](data:image/png;base64,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)"
      ],
      "metadata": {
        "id": "VSJvktOAZcFL"
      }
    },
    {
      "cell_type": "code",
      "source": [
        "# spam_train_tensor.sum(axis=0)"
      ],
      "metadata": {
        "id": "t2CYN1qoUwW0"
      },
      "execution_count": null,
      "outputs": []
    },
    {
      "cell_type": "code",
      "source": [
        "# spam_train_tensor[:, 1].sum()"
      ],
      "metadata": {
        "id": "aaJFDgkZU6sh"
      },
      "execution_count": null,
      "outputs": []
    },
    {
      "cell_type": "code",
      "metadata": {
        "id": "VeG_Gl8O_7D7"
      },
      "source": [
        "# Вероятность слова при условии что предложение спам\n",
        "p_w_spam = (spam_train_tensor.sum(axis=0) + 1) / (train_tensor.shape[0] + spam_train_tensor.sum())\n",
        "\n",
        "# Вероятность слова при условии что предложение не спам\n",
        "p_w_not_spam = (not_spam_train_tensor.sum(axis=0) + 1) / (train_tensor.shape[0] + not_spam_train_tensor.sum())"
      ],
      "execution_count": null,
      "outputs": []
    },
    {
      "cell_type": "code",
      "source": [
        "p_w_spam[:10], p_w_not_spam[:10]"
      ],
      "metadata": {
        "colab": {
          "base_uri": "https://localhost:8080/"
        },
        "id": "l4Ms2M1SWzFQ",
        "outputId": "bcdaae87-fb84-4c60-e00a-7ef329c0315d"
      },
      "execution_count": null,
      "outputs": [
        {
          "output_type": "execute_result",
          "data": {
            "text/plain": [
              "(array([0.00170989, 0.00071245, 0.0007837 , 0.0007837 , 0.00085494,\n",
              "        0.00142491, 0.00213736, 0.00227985, 0.00149615, 0.00085494]),\n",
              " array([2.38327892e-05, 2.38327892e-05, 2.38327892e-05, 2.38327892e-05,\n",
              "        2.38327892e-05, 2.14495102e-04, 4.76655783e-05, 2.38327892e-05,\n",
              "        2.38327892e-05, 7.14983675e-05]))"
            ]
          },
          "metadata": {},
          "execution_count": 86
        }
      ]
    },
    {
      "cell_type": "code",
      "metadata": {
        "id": "bueUTH1vQki-",
        "colab": {
          "base_uri": "https://localhost:8080/"
        },
        "outputId": "9059a290-9451-40c2-c329-ee95c0726bc2"
      },
      "source": [
        "# проверим на одном семпле\n",
        "test_sample = test_tensor[0]\n",
        "test_sample"
      ],
      "execution_count": null,
      "outputs": [
        {
          "output_type": "execute_result",
          "data": {
            "text/plain": [
              "array([0., 0., 0., 0., 0., 0., 0., 0., 0., 0., 0., 0., 0., 0., 0., 0., 0.,\n",
              "       0., 0., 0., 0., 0., 0., 0., 0., 0., 0., 0., 0., 0., 0., 0., 0., 0.,\n",
              "       0., 0., 0., 0., 0., 0., 0., 0., 0., 0., 0., 0., 0., 0., 0., 0., 0.,\n",
              "       0., 0., 0., 0., 0., 0., 0., 0., 0., 0., 0., 0., 0., 0., 0., 0., 0.,\n",
              "       0., 0., 0., 0., 0., 0., 0., 0., 0., 0., 0., 0., 0., 0., 0., 0., 0.,\n",
              "       0., 0., 0., 0., 0., 0., 0., 0., 0., 0., 0., 0., 0., 0., 0., 0., 0.,\n",
              "       0., 0., 0., 0., 0., 0., 0., 0., 0., 0., 0., 0., 0., 0., 0., 0., 0.,\n",
              "       0., 0., 0., 0., 0., 0., 0., 0., 0., 0., 0., 0., 0., 0., 0., 0., 0.,\n",
              "       0., 0., 0., 1., 0., 0., 0., 0., 0., 0., 0., 0., 0., 0., 0., 0., 0.,\n",
              "       0., 0., 0., 0., 0., 0., 0., 0., 0., 0., 0., 0., 0., 0., 0., 0., 0.,\n",
              "       0., 0., 0., 0., 0., 0., 0., 0., 0., 0., 0., 0., 0., 0., 0., 0., 0.,\n",
              "       0., 0., 0., 0., 0., 0., 0., 0., 0., 0., 0., 0., 0., 0., 0., 0., 0.,\n",
              "       0., 0., 0., 0., 0., 0., 0., 0., 0., 0., 0., 0., 0., 0., 0., 0., 0.,\n",
              "       0., 0., 0., 0., 0., 0., 0., 0., 0., 0., 0., 0., 0., 0., 0., 0., 0.,\n",
              "       0., 0., 0., 0., 0., 0., 0., 0., 0., 0., 0., 0., 0., 0., 0., 0., 0.,\n",
              "       0., 0., 0., 0., 0., 0., 0., 0., 0., 0., 0., 0., 0., 0., 0., 0., 0.,\n",
              "       0., 0., 0., 0., 0., 0., 0., 0., 0., 0., 0., 0., 0., 0., 0., 0., 0.,\n",
              "       0., 0., 0., 0., 0., 0., 0., 0., 0., 0., 0., 0., 0., 0., 0., 0., 0.,\n",
              "       0., 0., 0., 0., 0., 0., 0., 0., 0., 0., 0., 0., 0., 0., 0., 0., 0.,\n",
              "       0., 0., 0., 0., 0., 0., 0., 0., 0., 0., 0., 0., 0., 0., 0., 0., 0.,\n",
              "       0., 0., 0., 0., 0., 0., 0., 0., 0., 0., 0., 0., 0., 0., 0., 0., 0.,\n",
              "       0., 0., 0., 0., 0., 0., 0., 0., 0., 0., 0., 0., 0., 0., 0., 0., 0.,\n",
              "       0., 0., 0., 0., 0., 0., 0., 0., 0., 0., 0., 0., 0., 0., 0., 0., 0.,\n",
              "       0., 0., 0., 0., 0., 0., 0., 0., 0., 0., 0., 0., 0., 0., 0., 0., 0.,\n",
              "       0., 0., 0., 0., 0., 0., 0., 0., 0., 0., 0., 0., 0., 0., 0., 0., 0.,\n",
              "       0., 0., 0., 0., 0., 0., 0., 0., 0., 0., 0., 0., 0., 0., 0., 0., 0.,\n",
              "       0., 0., 0., 0., 0., 0., 0., 0., 0., 0., 0., 0., 0., 0., 0., 0., 0.,\n",
              "       0., 0., 0., 0., 0., 0., 0., 0., 0., 0., 0., 0., 0., 0., 0., 0., 0.,\n",
              "       0., 0., 0., 0., 0., 0., 0., 0., 0., 0., 0., 0., 0., 0., 0., 0., 0.,\n",
              "       0., 0., 0., 0., 0., 0., 0., 0., 0., 0., 0., 0., 0., 0., 0., 0., 0.,\n",
              "       0., 0., 0., 0., 0., 0., 0., 0., 0., 0., 0., 0., 0., 0., 0., 0., 0.,\n",
              "       0., 0., 0., 0., 0., 0., 0., 0., 0., 0., 0., 0., 0., 0., 0., 0., 0.,\n",
              "       0., 0., 0., 0., 0., 0., 0., 0., 0., 0., 0., 0., 0., 0., 0., 0., 0.,\n",
              "       0., 0., 0., 0., 0., 0., 0., 0., 0., 0., 0., 0., 0., 0., 0., 0., 0.,\n",
              "       0., 0., 0., 0., 0., 0., 0., 0., 0., 0., 0., 0., 0., 0., 0., 0., 0.,\n",
              "       0., 0., 0., 0., 0., 0., 0., 0., 0., 0., 0., 0., 0., 0., 0., 0., 0.,\n",
              "       0., 0., 0., 0., 0., 0., 0., 0., 0., 0., 0., 0., 0., 0., 0., 0., 0.,\n",
              "       0., 0., 0., 0., 0., 0., 0., 0., 0., 0., 0., 0., 0., 0., 0., 0., 0.,\n",
              "       0., 0., 0., 0., 0., 0., 0., 0., 0., 0., 0., 0., 0., 0., 0., 0., 0.,\n",
              "       0., 0., 0., 0., 0., 0., 1., 0., 0., 0., 0., 0., 0., 0., 0., 0., 0.,\n",
              "       0., 0., 0., 0., 0., 0., 0., 0., 0., 0., 0., 0., 0., 0., 0., 0., 0.,\n",
              "       0., 0., 0., 0., 0., 0., 0., 0., 0., 0., 0., 0., 0., 0., 0., 0., 0.,\n",
              "       0., 0., 0., 0., 0., 0., 0., 0., 0., 0., 0., 0., 0., 0., 0., 0., 0.,\n",
              "       0., 0., 0., 0., 0., 0., 0., 0., 0., 0., 0., 0., 0., 0., 0., 0., 0.,\n",
              "       0., 0., 0., 0., 0., 0., 0., 0., 0., 0., 0., 0., 0., 0., 0., 0., 0.,\n",
              "       0., 0., 0., 0., 0., 0., 0., 0., 0., 0., 0., 0., 0., 0., 0., 0., 0.,\n",
              "       0., 0., 0., 0., 0., 0., 0., 0., 0., 0., 0., 0., 0., 0., 0., 0., 0.,\n",
              "       0., 0., 0., 0., 0., 0., 0., 0., 0., 0., 0., 0., 0., 0., 0., 0., 0.,\n",
              "       0., 0., 0., 0., 0., 0., 0., 0., 0., 0., 1., 0., 0., 0., 0., 0., 0.,\n",
              "       0., 0., 0., 0., 0., 0., 0., 0., 0., 0., 0., 0., 0., 0., 0., 0., 0.,\n",
              "       0., 0., 0., 0., 0., 0., 0., 0., 0., 0., 0., 0., 0., 0., 0., 0., 0.,\n",
              "       0., 0., 0., 0., 0., 0., 0., 0., 0., 0., 0., 0., 0., 0., 0., 0., 0.,\n",
              "       0., 0., 0., 0., 0., 0., 0., 0., 0., 0., 0., 0., 0., 0., 0., 0., 0.,\n",
              "       0., 0., 0., 0., 0., 0., 0., 0., 0., 0., 0., 0., 0., 0., 0., 0., 0.,\n",
              "       0., 0., 0., 0., 0., 0., 0., 0., 0., 0., 0., 0., 0., 0., 0., 0., 0.,\n",
              "       0., 0., 0., 0., 0., 0., 0., 0., 0., 0., 0., 0., 0., 0., 0., 0., 0.,\n",
              "       0., 0., 0., 0., 0., 0., 0., 0., 0., 0., 0., 0., 0., 0., 0., 0., 0.,\n",
              "       0., 0., 0., 0., 0., 0., 0., 0., 0., 0., 0., 0., 0., 0., 0., 0., 0.,\n",
              "       0., 0., 0., 1., 0., 0., 0., 0., 0., 0., 0., 0., 0., 0.])"
            ]
          },
          "metadata": {},
          "execution_count": 87
        }
      ]
    },
    {
      "cell_type": "code",
      "source": [
        "(test_sample * p_w_spam).sum()"
      ],
      "metadata": {
        "colab": {
          "base_uri": "https://localhost:8080/"
        },
        "id": "3zewilq3ZrG8",
        "outputId": "74cd62c8-a1c1-4b59-904a-d8aefb327854"
      },
      "execution_count": null,
      "outputs": [
        {
          "output_type": "execute_result",
          "data": {
            "text/plain": [
              "0.013465374750641208"
            ]
          },
          "metadata": {},
          "execution_count": 88
        }
      ]
    },
    {
      "cell_type": "code",
      "source": [
        "(test_sample * p_w_not_spam).sum()"
      ],
      "metadata": {
        "colab": {
          "base_uri": "https://localhost:8080/"
        },
        "id": "t4sRlwteZvxo",
        "outputId": "a0cb6bfd-4cee-4b11-a801-f2ed336d4fe2"
      },
      "execution_count": null,
      "outputs": [
        {
          "output_type": "execute_result",
          "data": {
            "text/plain": [
              "0.023308467789985462"
            ]
          },
          "metadata": {},
          "execution_count": 89
        }
      ]
    },
    {
      "cell_type": "code",
      "metadata": {
        "id": "SLaVXqtVYNEx"
      },
      "source": [
        "# видно что значение против спама больше, чем значение за спам\n",
        "# соответственно значение не спам"
      ],
      "execution_count": null,
      "outputs": []
    },
    {
      "cell_type": "code",
      "metadata": {
        "id": "dOBlAOR2SXUk",
        "colab": {
          "base_uri": "https://localhost:8080/"
        },
        "outputId": "540f53bd-1fd5-403b-bbdc-e766207eda29"
      },
      "source": [
        "# посчитаем для всей тестовой выборки\n",
        "\n",
        "# размер тестовой выборки\n",
        "test_tensor.shape"
      ],
      "execution_count": null,
      "outputs": [
        {
          "output_type": "execute_result",
          "data": {
            "text/plain": [
              "(1393, 1000)"
            ]
          },
          "metadata": {},
          "execution_count": 90
        }
      ]
    },
    {
      "cell_type": "code",
      "metadata": {
        "id": "fu1eCJFxA_yw"
      },
      "source": [
        "#посчитаем предсказания как сравнение величинв за спам и против спама\n",
        "y_pred = (test_tensor*p_w_spam).sum(axis=1) >= (test_tensor*p_w_not_spam).sum(axis=1)"
      ],
      "execution_count": null,
      "outputs": []
    },
    {
      "cell_type": "code",
      "metadata": {
        "id": "EOIICObeUCRO",
        "colab": {
          "base_uri": "https://localhost:8080/"
        },
        "outputId": "6edbe906-eca5-4461-fa80-c7fd7a006f22"
      },
      "source": [
        "# предсказанные значения\n",
        "y_pred.astype(int)"
      ],
      "execution_count": null,
      "outputs": [
        {
          "output_type": "execute_result",
          "data": {
            "text/plain": [
              "array([0, 0, 0, ..., 0, 1, 0])"
            ]
          },
          "metadata": {},
          "execution_count": 92
        }
      ]
    },
    {
      "cell_type": "code",
      "metadata": {
        "id": "XboU8FR8T_2I",
        "colab": {
          "base_uri": "https://localhost:8080/"
        },
        "outputId": "defa6f0c-4be8-40e8-8fab-0d25a83e80b5"
      },
      "source": [
        "# истиные значение\n",
        "y_test.to_numpy()"
      ],
      "execution_count": null,
      "outputs": [
        {
          "output_type": "execute_result",
          "data": {
            "text/plain": [
              "array([0, 0, 0, ..., 0, 1, 0])"
            ]
          },
          "metadata": {},
          "execution_count": 93
        }
      ]
    },
    {
      "cell_type": "code",
      "metadata": {
        "id": "YUOya3FpTy-O"
      },
      "source": [
        "# сравним реальные метки с предсказанными\n",
        "test = (y_pred.astype(int) == y_test.to_numpy())"
      ],
      "execution_count": null,
      "outputs": []
    },
    {
      "cell_type": "code",
      "metadata": {
        "id": "dXUoRgb7UXZl",
        "colab": {
          "base_uri": "https://localhost:8080/"
        },
        "outputId": "613497b7-94e2-451e-e0b3-6e5648ce56ba"
      },
      "source": [
        "# посчитаем точность модели как отношение количество совпадений к размеру выборки\n",
        "test.sum().item() / test.shape[0]"
      ],
      "execution_count": null,
      "outputs": [
        {
          "output_type": "execute_result",
          "data": {
            "text/plain": [
              "0.9016511127063891"
            ]
          },
          "metadata": {},
          "execution_count": 95
        }
      ]
    },
    {
      "cell_type": "code",
      "metadata": {
        "colab": {
          "base_uri": "https://localhost:8080/"
        },
        "id": "6waGTJu4L6y7",
        "outputId": "cc546974-32f9-4904-c380-da87439b41d9"
      },
      "source": [
        "print(classification_report(y_test.to_numpy(), y_pred.astype(int)))"
      ],
      "execution_count": null,
      "outputs": [
        {
          "output_type": "stream",
          "name": "stdout",
          "text": [
            "              precision    recall  f1-score   support\n",
            "\n",
            "           0       0.97      0.91      0.94      1208\n",
            "           1       0.59      0.83      0.69       185\n",
            "\n",
            "    accuracy                           0.90      1393\n",
            "   macro avg       0.78      0.87      0.82      1393\n",
            "weighted avg       0.92      0.90      0.91      1393\n",
            "\n"
          ]
        }
      ]
    }
  ]
}