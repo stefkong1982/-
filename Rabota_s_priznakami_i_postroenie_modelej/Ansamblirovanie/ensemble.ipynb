{
  "nbformat": 4,
  "nbformat_minor": 0,
  "metadata": {
    "kernelspec": {
      "display_name": "Python 3",
      "language": "python",
      "name": "python3"
    },
    "language_info": {
      "codemirror_mode": {
        "name": "ipython",
        "version": 3
      },
      "file_extension": ".py",
      "mimetype": "text/x-python",
      "name": "python",
      "nbconvert_exporter": "python",
      "pygments_lexer": "ipython3",
      "version": "3.7.6"
    },
    "colab": {
      "provenance": [],
      "toc_visible": true,
      "collapsed_sections": [
        "UlQ0dTFLTEAv",
        "PqvgYDpT0Tx1",
        "AAluyC7FU6C-",
        "AJgSl3LNU8Cj"
      ]
    }
  },
  "cells": [
    {
      "cell_type": "markdown",
      "source": [
        "https://bit.ly/FEML-10-ensemble"
      ],
      "metadata": {
        "id": "NM6IQlbiPxd0"
      }
    },
    {
      "cell_type": "code",
      "metadata": {
        "id": "qtcjt-1Tz0mt"
      },
      "source": [
        "import pandas as pd\n",
        "import numpy as np\n",
        "from sklearn.ensemble import RandomForestRegressor\n",
        "from sklearn.model_selection import train_test_split\n",
        "from matplotlib import pyplot as plt\n",
        "from sklearn.model_selection import GridSearchCV\n",
        "from sklearn.metrics import make_scorer\n",
        "from sklearn.metrics import r2_score\n",
        "from sklearn.model_selection import ShuffleSplit"
      ],
      "execution_count": null,
      "outputs": []
    },
    {
      "cell_type": "code",
      "source": [
        "!wget 'https://drive.google.com/uc?id=1UyGD0iuIsO0Q7mBn8YY6lSuCc8r5MGzH' -O train.csv"
      ],
      "metadata": {
        "colab": {
          "base_uri": "https://localhost:8080/"
        },
        "id": "Kh9qPR79PygW",
        "outputId": "1bca4251-d97e-4d60-a95a-8a909feee61e"
      },
      "execution_count": null,
      "outputs": [
        {
          "output_type": "stream",
          "name": "stdout",
          "text": [
            "--2022-11-29 07:17:36--  https://drive.google.com/uc?id=1UyGD0iuIsO0Q7mBn8YY6lSuCc8r5MGzH\n",
            "Resolving drive.google.com (drive.google.com)... 173.194.217.100, 173.194.217.138, 173.194.217.139, ...\n",
            "Connecting to drive.google.com (drive.google.com)|173.194.217.100|:443... connected.\n",
            "HTTP request sent, awaiting response... 303 See Other\n",
            "Location: https://doc-0o-84-docs.googleusercontent.com/docs/securesc/ha0ro937gcuc7l7deffksulhg5h7mbp1/8hetorvu9isthgisnukida7cprpfjg7f/1669706250000/02611596255248067438/*/1UyGD0iuIsO0Q7mBn8YY6lSuCc8r5MGzH?uuid=21cc9626-4fbe-4a62-8e53-4add949e6f4e [following]\n",
            "Warning: wildcards not supported in HTTP.\n",
            "--2022-11-29 07:17:37--  https://doc-0o-84-docs.googleusercontent.com/docs/securesc/ha0ro937gcuc7l7deffksulhg5h7mbp1/8hetorvu9isthgisnukida7cprpfjg7f/1669706250000/02611596255248067438/*/1UyGD0iuIsO0Q7mBn8YY6lSuCc8r5MGzH?uuid=21cc9626-4fbe-4a62-8e53-4add949e6f4e\n",
            "Resolving doc-0o-84-docs.googleusercontent.com (doc-0o-84-docs.googleusercontent.com)... 74.125.31.132, 2607:f8b0:400c:c02::84\n",
            "Connecting to doc-0o-84-docs.googleusercontent.com (doc-0o-84-docs.googleusercontent.com)|74.125.31.132|:443... connected.\n",
            "HTTP request sent, awaiting response... 200 OK\n",
            "Length: 460676 (450K) [text/csv]\n",
            "Saving to: ‘train.csv’\n",
            "\n",
            "train.csv           100%[===================>] 449.88K  --.-KB/s    in 0.005s  \n",
            "\n",
            "2022-11-29 07:17:37 (81.2 MB/s) - ‘train.csv’ saved [460676/460676]\n",
            "\n"
          ]
        }
      ]
    },
    {
      "cell_type": "code",
      "metadata": {
        "id": "MkYXcbMaz0m5"
      },
      "source": [
        "data = pd.read_csv('train.csv')"
      ],
      "execution_count": null,
      "outputs": []
    },
    {
      "cell_type": "code",
      "metadata": {
        "colab": {
          "base_uri": "https://localhost:8080/",
          "height": 299
        },
        "id": "5dfSehsC1Mtb",
        "outputId": "dae3c62d-3197-408e-de3d-7f27c052f91b"
      },
      "source": [
        "data.head()"
      ],
      "execution_count": null,
      "outputs": [
        {
          "output_type": "execute_result",
          "data": {
            "text/plain": [
              "   Id  MSSubClass MSZoning  LotFrontage  LotArea Street Alley LotShape  \\\n",
              "0   1          60       RL         65.0     8450   Pave   NaN      Reg   \n",
              "1   2          20       RL         80.0     9600   Pave   NaN      Reg   \n",
              "2   3          60       RL         68.0    11250   Pave   NaN      IR1   \n",
              "3   4          70       RL         60.0     9550   Pave   NaN      IR1   \n",
              "4   5          60       RL         84.0    14260   Pave   NaN      IR1   \n",
              "\n",
              "  LandContour Utilities  ... PoolArea PoolQC Fence MiscFeature MiscVal MoSold  \\\n",
              "0         Lvl    AllPub  ...        0    NaN   NaN         NaN       0      2   \n",
              "1         Lvl    AllPub  ...        0    NaN   NaN         NaN       0      5   \n",
              "2         Lvl    AllPub  ...        0    NaN   NaN         NaN       0      9   \n",
              "3         Lvl    AllPub  ...        0    NaN   NaN         NaN       0      2   \n",
              "4         Lvl    AllPub  ...        0    NaN   NaN         NaN       0     12   \n",
              "\n",
              "  YrSold  SaleType  SaleCondition  SalePrice  \n",
              "0   2008        WD         Normal     208500  \n",
              "1   2007        WD         Normal     181500  \n",
              "2   2008        WD         Normal     223500  \n",
              "3   2006        WD        Abnorml     140000  \n",
              "4   2008        WD         Normal     250000  \n",
              "\n",
              "[5 rows x 81 columns]"
            ],
            "text/html": [
              "\n",
              "  <div id=\"df-d6d00155-0257-4fda-a1ab-3ad1f833caf1\">\n",
              "    <div class=\"colab-df-container\">\n",
              "      <div>\n",
              "<style scoped>\n",
              "    .dataframe tbody tr th:only-of-type {\n",
              "        vertical-align: middle;\n",
              "    }\n",
              "\n",
              "    .dataframe tbody tr th {\n",
              "        vertical-align: top;\n",
              "    }\n",
              "\n",
              "    .dataframe thead th {\n",
              "        text-align: right;\n",
              "    }\n",
              "</style>\n",
              "<table border=\"1\" class=\"dataframe\">\n",
              "  <thead>\n",
              "    <tr style=\"text-align: right;\">\n",
              "      <th></th>\n",
              "      <th>Id</th>\n",
              "      <th>MSSubClass</th>\n",
              "      <th>MSZoning</th>\n",
              "      <th>LotFrontage</th>\n",
              "      <th>LotArea</th>\n",
              "      <th>Street</th>\n",
              "      <th>Alley</th>\n",
              "      <th>LotShape</th>\n",
              "      <th>LandContour</th>\n",
              "      <th>Utilities</th>\n",
              "      <th>...</th>\n",
              "      <th>PoolArea</th>\n",
              "      <th>PoolQC</th>\n",
              "      <th>Fence</th>\n",
              "      <th>MiscFeature</th>\n",
              "      <th>MiscVal</th>\n",
              "      <th>MoSold</th>\n",
              "      <th>YrSold</th>\n",
              "      <th>SaleType</th>\n",
              "      <th>SaleCondition</th>\n",
              "      <th>SalePrice</th>\n",
              "    </tr>\n",
              "  </thead>\n",
              "  <tbody>\n",
              "    <tr>\n",
              "      <th>0</th>\n",
              "      <td>1</td>\n",
              "      <td>60</td>\n",
              "      <td>RL</td>\n",
              "      <td>65.0</td>\n",
              "      <td>8450</td>\n",
              "      <td>Pave</td>\n",
              "      <td>NaN</td>\n",
              "      <td>Reg</td>\n",
              "      <td>Lvl</td>\n",
              "      <td>AllPub</td>\n",
              "      <td>...</td>\n",
              "      <td>0</td>\n",
              "      <td>NaN</td>\n",
              "      <td>NaN</td>\n",
              "      <td>NaN</td>\n",
              "      <td>0</td>\n",
              "      <td>2</td>\n",
              "      <td>2008</td>\n",
              "      <td>WD</td>\n",
              "      <td>Normal</td>\n",
              "      <td>208500</td>\n",
              "    </tr>\n",
              "    <tr>\n",
              "      <th>1</th>\n",
              "      <td>2</td>\n",
              "      <td>20</td>\n",
              "      <td>RL</td>\n",
              "      <td>80.0</td>\n",
              "      <td>9600</td>\n",
              "      <td>Pave</td>\n",
              "      <td>NaN</td>\n",
              "      <td>Reg</td>\n",
              "      <td>Lvl</td>\n",
              "      <td>AllPub</td>\n",
              "      <td>...</td>\n",
              "      <td>0</td>\n",
              "      <td>NaN</td>\n",
              "      <td>NaN</td>\n",
              "      <td>NaN</td>\n",
              "      <td>0</td>\n",
              "      <td>5</td>\n",
              "      <td>2007</td>\n",
              "      <td>WD</td>\n",
              "      <td>Normal</td>\n",
              "      <td>181500</td>\n",
              "    </tr>\n",
              "    <tr>\n",
              "      <th>2</th>\n",
              "      <td>3</td>\n",
              "      <td>60</td>\n",
              "      <td>RL</td>\n",
              "      <td>68.0</td>\n",
              "      <td>11250</td>\n",
              "      <td>Pave</td>\n",
              "      <td>NaN</td>\n",
              "      <td>IR1</td>\n",
              "      <td>Lvl</td>\n",
              "      <td>AllPub</td>\n",
              "      <td>...</td>\n",
              "      <td>0</td>\n",
              "      <td>NaN</td>\n",
              "      <td>NaN</td>\n",
              "      <td>NaN</td>\n",
              "      <td>0</td>\n",
              "      <td>9</td>\n",
              "      <td>2008</td>\n",
              "      <td>WD</td>\n",
              "      <td>Normal</td>\n",
              "      <td>223500</td>\n",
              "    </tr>\n",
              "    <tr>\n",
              "      <th>3</th>\n",
              "      <td>4</td>\n",
              "      <td>70</td>\n",
              "      <td>RL</td>\n",
              "      <td>60.0</td>\n",
              "      <td>9550</td>\n",
              "      <td>Pave</td>\n",
              "      <td>NaN</td>\n",
              "      <td>IR1</td>\n",
              "      <td>Lvl</td>\n",
              "      <td>AllPub</td>\n",
              "      <td>...</td>\n",
              "      <td>0</td>\n",
              "      <td>NaN</td>\n",
              "      <td>NaN</td>\n",
              "      <td>NaN</td>\n",
              "      <td>0</td>\n",
              "      <td>2</td>\n",
              "      <td>2006</td>\n",
              "      <td>WD</td>\n",
              "      <td>Abnorml</td>\n",
              "      <td>140000</td>\n",
              "    </tr>\n",
              "    <tr>\n",
              "      <th>4</th>\n",
              "      <td>5</td>\n",
              "      <td>60</td>\n",
              "      <td>RL</td>\n",
              "      <td>84.0</td>\n",
              "      <td>14260</td>\n",
              "      <td>Pave</td>\n",
              "      <td>NaN</td>\n",
              "      <td>IR1</td>\n",
              "      <td>Lvl</td>\n",
              "      <td>AllPub</td>\n",
              "      <td>...</td>\n",
              "      <td>0</td>\n",
              "      <td>NaN</td>\n",
              "      <td>NaN</td>\n",
              "      <td>NaN</td>\n",
              "      <td>0</td>\n",
              "      <td>12</td>\n",
              "      <td>2008</td>\n",
              "      <td>WD</td>\n",
              "      <td>Normal</td>\n",
              "      <td>250000</td>\n",
              "    </tr>\n",
              "  </tbody>\n",
              "</table>\n",
              "<p>5 rows × 81 columns</p>\n",
              "</div>\n",
              "      <button class=\"colab-df-convert\" onclick=\"convertToInteractive('df-d6d00155-0257-4fda-a1ab-3ad1f833caf1')\"\n",
              "              title=\"Convert this dataframe to an interactive table.\"\n",
              "              style=\"display:none;\">\n",
              "        \n",
              "  <svg xmlns=\"http://www.w3.org/2000/svg\" height=\"24px\"viewBox=\"0 0 24 24\"\n",
              "       width=\"24px\">\n",
              "    <path d=\"M0 0h24v24H0V0z\" fill=\"none\"/>\n",
              "    <path d=\"M18.56 5.44l.94 2.06.94-2.06 2.06-.94-2.06-.94-.94-2.06-.94 2.06-2.06.94zm-11 1L8.5 8.5l.94-2.06 2.06-.94-2.06-.94L8.5 2.5l-.94 2.06-2.06.94zm10 10l.94 2.06.94-2.06 2.06-.94-2.06-.94-.94-2.06-.94 2.06-2.06.94z\"/><path d=\"M17.41 7.96l-1.37-1.37c-.4-.4-.92-.59-1.43-.59-.52 0-1.04.2-1.43.59L10.3 9.45l-7.72 7.72c-.78.78-.78 2.05 0 2.83L4 21.41c.39.39.9.59 1.41.59.51 0 1.02-.2 1.41-.59l7.78-7.78 2.81-2.81c.8-.78.8-2.07 0-2.86zM5.41 20L4 18.59l7.72-7.72 1.47 1.35L5.41 20z\"/>\n",
              "  </svg>\n",
              "      </button>\n",
              "      \n",
              "  <style>\n",
              "    .colab-df-container {\n",
              "      display:flex;\n",
              "      flex-wrap:wrap;\n",
              "      gap: 12px;\n",
              "    }\n",
              "\n",
              "    .colab-df-convert {\n",
              "      background-color: #E8F0FE;\n",
              "      border: none;\n",
              "      border-radius: 50%;\n",
              "      cursor: pointer;\n",
              "      display: none;\n",
              "      fill: #1967D2;\n",
              "      height: 32px;\n",
              "      padding: 0 0 0 0;\n",
              "      width: 32px;\n",
              "    }\n",
              "\n",
              "    .colab-df-convert:hover {\n",
              "      background-color: #E2EBFA;\n",
              "      box-shadow: 0px 1px 2px rgba(60, 64, 67, 0.3), 0px 1px 3px 1px rgba(60, 64, 67, 0.15);\n",
              "      fill: #174EA6;\n",
              "    }\n",
              "\n",
              "    [theme=dark] .colab-df-convert {\n",
              "      background-color: #3B4455;\n",
              "      fill: #D2E3FC;\n",
              "    }\n",
              "\n",
              "    [theme=dark] .colab-df-convert:hover {\n",
              "      background-color: #434B5C;\n",
              "      box-shadow: 0px 1px 3px 1px rgba(0, 0, 0, 0.15);\n",
              "      filter: drop-shadow(0px 1px 2px rgba(0, 0, 0, 0.3));\n",
              "      fill: #FFFFFF;\n",
              "    }\n",
              "  </style>\n",
              "\n",
              "      <script>\n",
              "        const buttonEl =\n",
              "          document.querySelector('#df-d6d00155-0257-4fda-a1ab-3ad1f833caf1 button.colab-df-convert');\n",
              "        buttonEl.style.display =\n",
              "          google.colab.kernel.accessAllowed ? 'block' : 'none';\n",
              "\n",
              "        async function convertToInteractive(key) {\n",
              "          const element = document.querySelector('#df-d6d00155-0257-4fda-a1ab-3ad1f833caf1');\n",
              "          const dataTable =\n",
              "            await google.colab.kernel.invokeFunction('convertToInteractive',\n",
              "                                                     [key], {});\n",
              "          if (!dataTable) return;\n",
              "\n",
              "          const docLinkHtml = 'Like what you see? Visit the ' +\n",
              "            '<a target=\"_blank\" href=https://colab.research.google.com/notebooks/data_table.ipynb>data table notebook</a>'\n",
              "            + ' to learn more about interactive tables.';\n",
              "          element.innerHTML = '';\n",
              "          dataTable['output_type'] = 'display_data';\n",
              "          await google.colab.output.renderOutput(dataTable, element);\n",
              "          const docLink = document.createElement('div');\n",
              "          docLink.innerHTML = docLinkHtml;\n",
              "          element.appendChild(docLink);\n",
              "        }\n",
              "      </script>\n",
              "    </div>\n",
              "  </div>\n",
              "  "
            ]
          },
          "metadata": {},
          "execution_count": 4
        }
      ]
    },
    {
      "cell_type": "code",
      "metadata": {
        "id": "90ch1_Xqz0m9",
        "colab": {
          "base_uri": "https://localhost:8080/"
        },
        "outputId": "c27f9097-ba03-46c3-c695-84cb36ec8e1d"
      },
      "source": [
        "# Разделяем на тренировочные и тестовые данные\n",
        "\n",
        "X_train, X_test, y_train, y_test = train_test_split(data.drop(columns='SalePrice'),\n",
        "                                                    data['SalePrice'],\n",
        "                                                    test_size=0.3,\n",
        "                                                    random_state=42)\n",
        "X_train.shape, X_test.shape"
      ],
      "execution_count": null,
      "outputs": [
        {
          "output_type": "execute_result",
          "data": {
            "text/plain": [
              "((1022, 80), (438, 80))"
            ]
          },
          "metadata": {},
          "execution_count": 5
        }
      ]
    },
    {
      "cell_type": "code",
      "source": [
        "# Находим категориальные признаки\n",
        "\n",
        "categorials = X_train.select_dtypes('object').columns\n",
        "categorials"
      ],
      "metadata": {
        "colab": {
          "base_uri": "https://localhost:8080/"
        },
        "id": "8ezuS0G-QlLw",
        "outputId": "7a9964a4-3586-45c8-e57a-2fabe679c071"
      },
      "execution_count": null,
      "outputs": [
        {
          "output_type": "execute_result",
          "data": {
            "text/plain": [
              "Index(['MSZoning', 'Street', 'Alley', 'LotShape', 'LandContour', 'Utilities',\n",
              "       'LotConfig', 'LandSlope', 'Neighborhood', 'Condition1', 'Condition2',\n",
              "       'BldgType', 'HouseStyle', 'RoofStyle', 'RoofMatl', 'Exterior1st',\n",
              "       'Exterior2nd', 'MasVnrType', 'ExterQual', 'ExterCond', 'Foundation',\n",
              "       'BsmtQual', 'BsmtCond', 'BsmtExposure', 'BsmtFinType1', 'BsmtFinType2',\n",
              "       'Heating', 'HeatingQC', 'CentralAir', 'Electrical', 'KitchenQual',\n",
              "       'Functional', 'FireplaceQu', 'GarageType', 'GarageFinish', 'GarageQual',\n",
              "       'GarageCond', 'PavedDrive', 'PoolQC', 'Fence', 'MiscFeature',\n",
              "       'SaleType', 'SaleCondition'],\n",
              "      dtype='object')"
            ]
          },
          "metadata": {},
          "execution_count": 8
        }
      ]
    },
    {
      "cell_type": "code",
      "metadata": {
        "id": "X1zKpAJFz0m9"
      },
      "source": [
        "# закодируем пропущенные значений строкой, факт пропущенного значения тоже может нести в себе информацию\n",
        "X_train[categorials] = X_train[categorials].fillna('nan')\n",
        "X_test[categorials] = X_test[categorials].fillna('nan')"
      ],
      "execution_count": null,
      "outputs": []
    },
    {
      "cell_type": "code",
      "metadata": {
        "id": "Ym8QnGbzz0m-",
        "colab": {
          "base_uri": "https://localhost:8080/",
          "height": 299
        },
        "outputId": "d4b1ab85-f4c2-4687-efee-0175fec0252a"
      },
      "source": [
        "# отфильтруем непрерывные признаки\n",
        "integer = X_train.select_dtypes(['int', 'float']).columns.tolist()\n",
        "integer.remove('Id')\n",
        "X_train[integer].head()"
      ],
      "execution_count": null,
      "outputs": [
        {
          "output_type": "execute_result",
          "data": {
            "text/plain": [
              "      MSSubClass  LotFrontage  LotArea  OverallQual  OverallCond  YearBuilt  \\\n",
              "135           20         80.0    10400            7            6       1970   \n",
              "1452         180         35.0     3675            5            5       2005   \n",
              "762           60         72.0     8640            7            5       2009   \n",
              "932           20         84.0    11670            9            5       2006   \n",
              "435           60         43.0    10667            7            6       1996   \n",
              "\n",
              "      YearRemodAdd  MasVnrArea  BsmtFinSF1  BsmtFinSF2  ...  GarageArea  \\\n",
              "135           1970       288.0           0           0  ...         530   \n",
              "1452          2005        80.0         547           0  ...         525   \n",
              "762           2009         0.0          24           0  ...         614   \n",
              "932           2006       302.0           0           0  ...         788   \n",
              "435           1996         0.0         385         344  ...         550   \n",
              "\n",
              "      WoodDeckSF  OpenPorchSF  EnclosedPorch  3SsnPorch  ScreenPorch  \\\n",
              "135           98            0              0          0            0   \n",
              "1452           0           28              0          0            0   \n",
              "762          169           45              0          0            0   \n",
              "932            0          191              0          0            0   \n",
              "435          158           61              0          0            0   \n",
              "\n",
              "      PoolArea  MiscVal  MoSold  YrSold  \n",
              "135          0        0       5    2008  \n",
              "1452         0        0       5    2006  \n",
              "762          0        0       6    2010  \n",
              "932          0        0       3    2007  \n",
              "435          0        0       4    2009  \n",
              "\n",
              "[5 rows x 36 columns]"
            ],
            "text/html": [
              "\n",
              "  <div id=\"df-05f3adb8-8575-41fd-a278-00aa8b616367\">\n",
              "    <div class=\"colab-df-container\">\n",
              "      <div>\n",
              "<style scoped>\n",
              "    .dataframe tbody tr th:only-of-type {\n",
              "        vertical-align: middle;\n",
              "    }\n",
              "\n",
              "    .dataframe tbody tr th {\n",
              "        vertical-align: top;\n",
              "    }\n",
              "\n",
              "    .dataframe thead th {\n",
              "        text-align: right;\n",
              "    }\n",
              "</style>\n",
              "<table border=\"1\" class=\"dataframe\">\n",
              "  <thead>\n",
              "    <tr style=\"text-align: right;\">\n",
              "      <th></th>\n",
              "      <th>MSSubClass</th>\n",
              "      <th>LotFrontage</th>\n",
              "      <th>LotArea</th>\n",
              "      <th>OverallQual</th>\n",
              "      <th>OverallCond</th>\n",
              "      <th>YearBuilt</th>\n",
              "      <th>YearRemodAdd</th>\n",
              "      <th>MasVnrArea</th>\n",
              "      <th>BsmtFinSF1</th>\n",
              "      <th>BsmtFinSF2</th>\n",
              "      <th>...</th>\n",
              "      <th>GarageArea</th>\n",
              "      <th>WoodDeckSF</th>\n",
              "      <th>OpenPorchSF</th>\n",
              "      <th>EnclosedPorch</th>\n",
              "      <th>3SsnPorch</th>\n",
              "      <th>ScreenPorch</th>\n",
              "      <th>PoolArea</th>\n",
              "      <th>MiscVal</th>\n",
              "      <th>MoSold</th>\n",
              "      <th>YrSold</th>\n",
              "    </tr>\n",
              "  </thead>\n",
              "  <tbody>\n",
              "    <tr>\n",
              "      <th>135</th>\n",
              "      <td>20</td>\n",
              "      <td>80.0</td>\n",
              "      <td>10400</td>\n",
              "      <td>7</td>\n",
              "      <td>6</td>\n",
              "      <td>1970</td>\n",
              "      <td>1970</td>\n",
              "      <td>288.0</td>\n",
              "      <td>0</td>\n",
              "      <td>0</td>\n",
              "      <td>...</td>\n",
              "      <td>530</td>\n",
              "      <td>98</td>\n",
              "      <td>0</td>\n",
              "      <td>0</td>\n",
              "      <td>0</td>\n",
              "      <td>0</td>\n",
              "      <td>0</td>\n",
              "      <td>0</td>\n",
              "      <td>5</td>\n",
              "      <td>2008</td>\n",
              "    </tr>\n",
              "    <tr>\n",
              "      <th>1452</th>\n",
              "      <td>180</td>\n",
              "      <td>35.0</td>\n",
              "      <td>3675</td>\n",
              "      <td>5</td>\n",
              "      <td>5</td>\n",
              "      <td>2005</td>\n",
              "      <td>2005</td>\n",
              "      <td>80.0</td>\n",
              "      <td>547</td>\n",
              "      <td>0</td>\n",
              "      <td>...</td>\n",
              "      <td>525</td>\n",
              "      <td>0</td>\n",
              "      <td>28</td>\n",
              "      <td>0</td>\n",
              "      <td>0</td>\n",
              "      <td>0</td>\n",
              "      <td>0</td>\n",
              "      <td>0</td>\n",
              "      <td>5</td>\n",
              "      <td>2006</td>\n",
              "    </tr>\n",
              "    <tr>\n",
              "      <th>762</th>\n",
              "      <td>60</td>\n",
              "      <td>72.0</td>\n",
              "      <td>8640</td>\n",
              "      <td>7</td>\n",
              "      <td>5</td>\n",
              "      <td>2009</td>\n",
              "      <td>2009</td>\n",
              "      <td>0.0</td>\n",
              "      <td>24</td>\n",
              "      <td>0</td>\n",
              "      <td>...</td>\n",
              "      <td>614</td>\n",
              "      <td>169</td>\n",
              "      <td>45</td>\n",
              "      <td>0</td>\n",
              "      <td>0</td>\n",
              "      <td>0</td>\n",
              "      <td>0</td>\n",
              "      <td>0</td>\n",
              "      <td>6</td>\n",
              "      <td>2010</td>\n",
              "    </tr>\n",
              "    <tr>\n",
              "      <th>932</th>\n",
              "      <td>20</td>\n",
              "      <td>84.0</td>\n",
              "      <td>11670</td>\n",
              "      <td>9</td>\n",
              "      <td>5</td>\n",
              "      <td>2006</td>\n",
              "      <td>2006</td>\n",
              "      <td>302.0</td>\n",
              "      <td>0</td>\n",
              "      <td>0</td>\n",
              "      <td>...</td>\n",
              "      <td>788</td>\n",
              "      <td>0</td>\n",
              "      <td>191</td>\n",
              "      <td>0</td>\n",
              "      <td>0</td>\n",
              "      <td>0</td>\n",
              "      <td>0</td>\n",
              "      <td>0</td>\n",
              "      <td>3</td>\n",
              "      <td>2007</td>\n",
              "    </tr>\n",
              "    <tr>\n",
              "      <th>435</th>\n",
              "      <td>60</td>\n",
              "      <td>43.0</td>\n",
              "      <td>10667</td>\n",
              "      <td>7</td>\n",
              "      <td>6</td>\n",
              "      <td>1996</td>\n",
              "      <td>1996</td>\n",
              "      <td>0.0</td>\n",
              "      <td>385</td>\n",
              "      <td>344</td>\n",
              "      <td>...</td>\n",
              "      <td>550</td>\n",
              "      <td>158</td>\n",
              "      <td>61</td>\n",
              "      <td>0</td>\n",
              "      <td>0</td>\n",
              "      <td>0</td>\n",
              "      <td>0</td>\n",
              "      <td>0</td>\n",
              "      <td>4</td>\n",
              "      <td>2009</td>\n",
              "    </tr>\n",
              "  </tbody>\n",
              "</table>\n",
              "<p>5 rows × 36 columns</p>\n",
              "</div>\n",
              "      <button class=\"colab-df-convert\" onclick=\"convertToInteractive('df-05f3adb8-8575-41fd-a278-00aa8b616367')\"\n",
              "              title=\"Convert this dataframe to an interactive table.\"\n",
              "              style=\"display:none;\">\n",
              "        \n",
              "  <svg xmlns=\"http://www.w3.org/2000/svg\" height=\"24px\"viewBox=\"0 0 24 24\"\n",
              "       width=\"24px\">\n",
              "    <path d=\"M0 0h24v24H0V0z\" fill=\"none\"/>\n",
              "    <path d=\"M18.56 5.44l.94 2.06.94-2.06 2.06-.94-2.06-.94-.94-2.06-.94 2.06-2.06.94zm-11 1L8.5 8.5l.94-2.06 2.06-.94-2.06-.94L8.5 2.5l-.94 2.06-2.06.94zm10 10l.94 2.06.94-2.06 2.06-.94-2.06-.94-.94-2.06-.94 2.06-2.06.94z\"/><path d=\"M17.41 7.96l-1.37-1.37c-.4-.4-.92-.59-1.43-.59-.52 0-1.04.2-1.43.59L10.3 9.45l-7.72 7.72c-.78.78-.78 2.05 0 2.83L4 21.41c.39.39.9.59 1.41.59.51 0 1.02-.2 1.41-.59l7.78-7.78 2.81-2.81c.8-.78.8-2.07 0-2.86zM5.41 20L4 18.59l7.72-7.72 1.47 1.35L5.41 20z\"/>\n",
              "  </svg>\n",
              "      </button>\n",
              "      \n",
              "  <style>\n",
              "    .colab-df-container {\n",
              "      display:flex;\n",
              "      flex-wrap:wrap;\n",
              "      gap: 12px;\n",
              "    }\n",
              "\n",
              "    .colab-df-convert {\n",
              "      background-color: #E8F0FE;\n",
              "      border: none;\n",
              "      border-radius: 50%;\n",
              "      cursor: pointer;\n",
              "      display: none;\n",
              "      fill: #1967D2;\n",
              "      height: 32px;\n",
              "      padding: 0 0 0 0;\n",
              "      width: 32px;\n",
              "    }\n",
              "\n",
              "    .colab-df-convert:hover {\n",
              "      background-color: #E2EBFA;\n",
              "      box-shadow: 0px 1px 2px rgba(60, 64, 67, 0.3), 0px 1px 3px 1px rgba(60, 64, 67, 0.15);\n",
              "      fill: #174EA6;\n",
              "    }\n",
              "\n",
              "    [theme=dark] .colab-df-convert {\n",
              "      background-color: #3B4455;\n",
              "      fill: #D2E3FC;\n",
              "    }\n",
              "\n",
              "    [theme=dark] .colab-df-convert:hover {\n",
              "      background-color: #434B5C;\n",
              "      box-shadow: 0px 1px 3px 1px rgba(0, 0, 0, 0.15);\n",
              "      filter: drop-shadow(0px 1px 2px rgba(0, 0, 0, 0.3));\n",
              "      fill: #FFFFFF;\n",
              "    }\n",
              "  </style>\n",
              "\n",
              "      <script>\n",
              "        const buttonEl =\n",
              "          document.querySelector('#df-05f3adb8-8575-41fd-a278-00aa8b616367 button.colab-df-convert');\n",
              "        buttonEl.style.display =\n",
              "          google.colab.kernel.accessAllowed ? 'block' : 'none';\n",
              "\n",
              "        async function convertToInteractive(key) {\n",
              "          const element = document.querySelector('#df-05f3adb8-8575-41fd-a278-00aa8b616367');\n",
              "          const dataTable =\n",
              "            await google.colab.kernel.invokeFunction('convertToInteractive',\n",
              "                                                     [key], {});\n",
              "          if (!dataTable) return;\n",
              "\n",
              "          const docLinkHtml = 'Like what you see? Visit the ' +\n",
              "            '<a target=\"_blank\" href=https://colab.research.google.com/notebooks/data_table.ipynb>data table notebook</a>'\n",
              "            + ' to learn more about interactive tables.';\n",
              "          element.innerHTML = '';\n",
              "          dataTable['output_type'] = 'display_data';\n",
              "          await google.colab.output.renderOutput(dataTable, element);\n",
              "          const docLink = document.createElement('div');\n",
              "          docLink.innerHTML = docLinkHtml;\n",
              "          element.appendChild(docLink);\n",
              "        }\n",
              "      </script>\n",
              "    </div>\n",
              "  </div>\n",
              "  "
            ]
          },
          "metadata": {},
          "execution_count": 20
        }
      ]
    },
    {
      "cell_type": "code",
      "metadata": {
        "id": "B0yS1rFsz0m_"
      },
      "source": [
        "# Создаем дамми-переменные для категорий\n",
        "dummy_train = pd.get_dummies(X_train[categorials], columns=categorials)\n",
        "dummy_test = pd.get_dummies(X_test[categorials], columns=categorials)\n",
        "\n",
        "dummy_cols = list(set(dummy_train) & set(dummy_test))\n",
        "\n",
        "dummy_train = dummy_train[dummy_cols]\n",
        "dummy_test = dummy_test[dummy_cols]\n",
        "\n",
        "# Заменяем пропуски на специальное значение -999, чтобы деревья могли их отличить\n",
        "X_train = pd.concat([X_train[integer].fillna(-999), dummy_train], axis=1)\n",
        "\n",
        "X_test = pd.concat([X_test[integer].fillna(-999), dummy_test], axis=1)"
      ],
      "execution_count": null,
      "outputs": []
    },
    {
      "cell_type": "code",
      "metadata": {
        "colab": {
          "base_uri": "https://localhost:8080/",
          "height": 317
        },
        "id": "7_WizSkWI8LR",
        "outputId": "38544a1e-7239-4ef1-e195-7c2c804af13e"
      },
      "source": [
        "X_train.head()"
      ],
      "execution_count": null,
      "outputs": [
        {
          "output_type": "execute_result",
          "data": {
            "text/plain": [
              "      MSSubClass  LotFrontage  LotArea  OverallQual  OverallCond  YearBuilt  \\\n",
              "135           20         80.0    10400            7            6       1970   \n",
              "1452         180         35.0     3675            5            5       2005   \n",
              "762           60         72.0     8640            7            5       2009   \n",
              "932           20         84.0    11670            9            5       2006   \n",
              "435           60         43.0    10667            7            6       1996   \n",
              "\n",
              "      YearRemodAdd  MasVnrArea  BsmtFinSF1  BsmtFinSF2  ...  Fence_MnWw  \\\n",
              "135           1970       288.0           0           0  ...           0   \n",
              "1452          2005        80.0         547           0  ...           0   \n",
              "762           2009         0.0          24           0  ...           0   \n",
              "932           2006       302.0           0           0  ...           0   \n",
              "435           1996         0.0         385         344  ...           0   \n",
              "\n",
              "      Exterior1st_BrkFace  Heating_Wall  LotShape_IR1  Exterior2nd_Wd Shng  \\\n",
              "135                     0             0             0                    0   \n",
              "1452                    0             0             0                    0   \n",
              "762                     0             0             0                    0   \n",
              "932                     0             0             1                    0   \n",
              "435                     0             0             0                    0   \n",
              "\n",
              "      Neighborhood_Crawfor  HouseStyle_1Story  Exterior2nd_ImStucc  \\\n",
              "135                      0                  1                    0   \n",
              "1452                     0                  0                    0   \n",
              "762                      0                  0                    0   \n",
              "932                      0                  1                    1   \n",
              "435                      0                  0                    0   \n",
              "\n",
              "      GarageCond_Po  HeatingQC_Ex  \n",
              "135               0             0  \n",
              "1452              0             0  \n",
              "762               0             1  \n",
              "932               0             1  \n",
              "435               0             1  \n",
              "\n",
              "[5 rows x 269 columns]"
            ],
            "text/html": [
              "\n",
              "  <div id=\"df-cc62682e-af81-4324-bc35-bca3fc25fb47\">\n",
              "    <div class=\"colab-df-container\">\n",
              "      <div>\n",
              "<style scoped>\n",
              "    .dataframe tbody tr th:only-of-type {\n",
              "        vertical-align: middle;\n",
              "    }\n",
              "\n",
              "    .dataframe tbody tr th {\n",
              "        vertical-align: top;\n",
              "    }\n",
              "\n",
              "    .dataframe thead th {\n",
              "        text-align: right;\n",
              "    }\n",
              "</style>\n",
              "<table border=\"1\" class=\"dataframe\">\n",
              "  <thead>\n",
              "    <tr style=\"text-align: right;\">\n",
              "      <th></th>\n",
              "      <th>MSSubClass</th>\n",
              "      <th>LotFrontage</th>\n",
              "      <th>LotArea</th>\n",
              "      <th>OverallQual</th>\n",
              "      <th>OverallCond</th>\n",
              "      <th>YearBuilt</th>\n",
              "      <th>YearRemodAdd</th>\n",
              "      <th>MasVnrArea</th>\n",
              "      <th>BsmtFinSF1</th>\n",
              "      <th>BsmtFinSF2</th>\n",
              "      <th>...</th>\n",
              "      <th>Fence_MnWw</th>\n",
              "      <th>Exterior1st_BrkFace</th>\n",
              "      <th>Heating_Wall</th>\n",
              "      <th>LotShape_IR1</th>\n",
              "      <th>Exterior2nd_Wd Shng</th>\n",
              "      <th>Neighborhood_Crawfor</th>\n",
              "      <th>HouseStyle_1Story</th>\n",
              "      <th>Exterior2nd_ImStucc</th>\n",
              "      <th>GarageCond_Po</th>\n",
              "      <th>HeatingQC_Ex</th>\n",
              "    </tr>\n",
              "  </thead>\n",
              "  <tbody>\n",
              "    <tr>\n",
              "      <th>135</th>\n",
              "      <td>20</td>\n",
              "      <td>80.0</td>\n",
              "      <td>10400</td>\n",
              "      <td>7</td>\n",
              "      <td>6</td>\n",
              "      <td>1970</td>\n",
              "      <td>1970</td>\n",
              "      <td>288.0</td>\n",
              "      <td>0</td>\n",
              "      <td>0</td>\n",
              "      <td>...</td>\n",
              "      <td>0</td>\n",
              "      <td>0</td>\n",
              "      <td>0</td>\n",
              "      <td>0</td>\n",
              "      <td>0</td>\n",
              "      <td>0</td>\n",
              "      <td>1</td>\n",
              "      <td>0</td>\n",
              "      <td>0</td>\n",
              "      <td>0</td>\n",
              "    </tr>\n",
              "    <tr>\n",
              "      <th>1452</th>\n",
              "      <td>180</td>\n",
              "      <td>35.0</td>\n",
              "      <td>3675</td>\n",
              "      <td>5</td>\n",
              "      <td>5</td>\n",
              "      <td>2005</td>\n",
              "      <td>2005</td>\n",
              "      <td>80.0</td>\n",
              "      <td>547</td>\n",
              "      <td>0</td>\n",
              "      <td>...</td>\n",
              "      <td>0</td>\n",
              "      <td>0</td>\n",
              "      <td>0</td>\n",
              "      <td>0</td>\n",
              "      <td>0</td>\n",
              "      <td>0</td>\n",
              "      <td>0</td>\n",
              "      <td>0</td>\n",
              "      <td>0</td>\n",
              "      <td>0</td>\n",
              "    </tr>\n",
              "    <tr>\n",
              "      <th>762</th>\n",
              "      <td>60</td>\n",
              "      <td>72.0</td>\n",
              "      <td>8640</td>\n",
              "      <td>7</td>\n",
              "      <td>5</td>\n",
              "      <td>2009</td>\n",
              "      <td>2009</td>\n",
              "      <td>0.0</td>\n",
              "      <td>24</td>\n",
              "      <td>0</td>\n",
              "      <td>...</td>\n",
              "      <td>0</td>\n",
              "      <td>0</td>\n",
              "      <td>0</td>\n",
              "      <td>0</td>\n",
              "      <td>0</td>\n",
              "      <td>0</td>\n",
              "      <td>0</td>\n",
              "      <td>0</td>\n",
              "      <td>0</td>\n",
              "      <td>1</td>\n",
              "    </tr>\n",
              "    <tr>\n",
              "      <th>932</th>\n",
              "      <td>20</td>\n",
              "      <td>84.0</td>\n",
              "      <td>11670</td>\n",
              "      <td>9</td>\n",
              "      <td>5</td>\n",
              "      <td>2006</td>\n",
              "      <td>2006</td>\n",
              "      <td>302.0</td>\n",
              "      <td>0</td>\n",
              "      <td>0</td>\n",
              "      <td>...</td>\n",
              "      <td>0</td>\n",
              "      <td>0</td>\n",
              "      <td>0</td>\n",
              "      <td>1</td>\n",
              "      <td>0</td>\n",
              "      <td>0</td>\n",
              "      <td>1</td>\n",
              "      <td>1</td>\n",
              "      <td>0</td>\n",
              "      <td>1</td>\n",
              "    </tr>\n",
              "    <tr>\n",
              "      <th>435</th>\n",
              "      <td>60</td>\n",
              "      <td>43.0</td>\n",
              "      <td>10667</td>\n",
              "      <td>7</td>\n",
              "      <td>6</td>\n",
              "      <td>1996</td>\n",
              "      <td>1996</td>\n",
              "      <td>0.0</td>\n",
              "      <td>385</td>\n",
              "      <td>344</td>\n",
              "      <td>...</td>\n",
              "      <td>0</td>\n",
              "      <td>0</td>\n",
              "      <td>0</td>\n",
              "      <td>0</td>\n",
              "      <td>0</td>\n",
              "      <td>0</td>\n",
              "      <td>0</td>\n",
              "      <td>0</td>\n",
              "      <td>0</td>\n",
              "      <td>1</td>\n",
              "    </tr>\n",
              "  </tbody>\n",
              "</table>\n",
              "<p>5 rows × 269 columns</p>\n",
              "</div>\n",
              "      <button class=\"colab-df-convert\" onclick=\"convertToInteractive('df-cc62682e-af81-4324-bc35-bca3fc25fb47')\"\n",
              "              title=\"Convert this dataframe to an interactive table.\"\n",
              "              style=\"display:none;\">\n",
              "        \n",
              "  <svg xmlns=\"http://www.w3.org/2000/svg\" height=\"24px\"viewBox=\"0 0 24 24\"\n",
              "       width=\"24px\">\n",
              "    <path d=\"M0 0h24v24H0V0z\" fill=\"none\"/>\n",
              "    <path d=\"M18.56 5.44l.94 2.06.94-2.06 2.06-.94-2.06-.94-.94-2.06-.94 2.06-2.06.94zm-11 1L8.5 8.5l.94-2.06 2.06-.94-2.06-.94L8.5 2.5l-.94 2.06-2.06.94zm10 10l.94 2.06.94-2.06 2.06-.94-2.06-.94-.94-2.06-.94 2.06-2.06.94z\"/><path d=\"M17.41 7.96l-1.37-1.37c-.4-.4-.92-.59-1.43-.59-.52 0-1.04.2-1.43.59L10.3 9.45l-7.72 7.72c-.78.78-.78 2.05 0 2.83L4 21.41c.39.39.9.59 1.41.59.51 0 1.02-.2 1.41-.59l7.78-7.78 2.81-2.81c.8-.78.8-2.07 0-2.86zM5.41 20L4 18.59l7.72-7.72 1.47 1.35L5.41 20z\"/>\n",
              "  </svg>\n",
              "      </button>\n",
              "      \n",
              "  <style>\n",
              "    .colab-df-container {\n",
              "      display:flex;\n",
              "      flex-wrap:wrap;\n",
              "      gap: 12px;\n",
              "    }\n",
              "\n",
              "    .colab-df-convert {\n",
              "      background-color: #E8F0FE;\n",
              "      border: none;\n",
              "      border-radius: 50%;\n",
              "      cursor: pointer;\n",
              "      display: none;\n",
              "      fill: #1967D2;\n",
              "      height: 32px;\n",
              "      padding: 0 0 0 0;\n",
              "      width: 32px;\n",
              "    }\n",
              "\n",
              "    .colab-df-convert:hover {\n",
              "      background-color: #E2EBFA;\n",
              "      box-shadow: 0px 1px 2px rgba(60, 64, 67, 0.3), 0px 1px 3px 1px rgba(60, 64, 67, 0.15);\n",
              "      fill: #174EA6;\n",
              "    }\n",
              "\n",
              "    [theme=dark] .colab-df-convert {\n",
              "      background-color: #3B4455;\n",
              "      fill: #D2E3FC;\n",
              "    }\n",
              "\n",
              "    [theme=dark] .colab-df-convert:hover {\n",
              "      background-color: #434B5C;\n",
              "      box-shadow: 0px 1px 3px 1px rgba(0, 0, 0, 0.15);\n",
              "      filter: drop-shadow(0px 1px 2px rgba(0, 0, 0, 0.3));\n",
              "      fill: #FFFFFF;\n",
              "    }\n",
              "  </style>\n",
              "\n",
              "      <script>\n",
              "        const buttonEl =\n",
              "          document.querySelector('#df-cc62682e-af81-4324-bc35-bca3fc25fb47 button.colab-df-convert');\n",
              "        buttonEl.style.display =\n",
              "          google.colab.kernel.accessAllowed ? 'block' : 'none';\n",
              "\n",
              "        async function convertToInteractive(key) {\n",
              "          const element = document.querySelector('#df-cc62682e-af81-4324-bc35-bca3fc25fb47');\n",
              "          const dataTable =\n",
              "            await google.colab.kernel.invokeFunction('convertToInteractive',\n",
              "                                                     [key], {});\n",
              "          if (!dataTable) return;\n",
              "\n",
              "          const docLinkHtml = 'Like what you see? Visit the ' +\n",
              "            '<a target=\"_blank\" href=https://colab.research.google.com/notebooks/data_table.ipynb>data table notebook</a>'\n",
              "            + ' to learn more about interactive tables.';\n",
              "          element.innerHTML = '';\n",
              "          dataTable['output_type'] = 'display_data';\n",
              "          await google.colab.output.renderOutput(dataTable, element);\n",
              "          const docLink = document.createElement('div');\n",
              "          docLink.innerHTML = docLinkHtml;\n",
              "          element.appendChild(docLink);\n",
              "        }\n",
              "      </script>\n",
              "    </div>\n",
              "  </div>\n",
              "  "
            ]
          },
          "metadata": {},
          "execution_count": 22
        }
      ]
    },
    {
      "cell_type": "markdown",
      "metadata": {
        "id": "ihcQMvaV0K96"
      },
      "source": [
        "## Бэггинг"
      ]
    },
    {
      "cell_type": "code",
      "metadata": {
        "id": "rrfCc-w_0KJG"
      },
      "source": [
        "from sklearn.ensemble import  BaggingRegressor\n",
        "from sklearn.neighbors import KNeighborsRegressor\n",
        "from sklearn.tree import DecisionTreeRegressor"
      ],
      "execution_count": null,
      "outputs": []
    },
    {
      "cell_type": "code",
      "metadata": {
        "colab": {
          "base_uri": "https://localhost:8080/"
        },
        "id": "RuCVBf941sgH",
        "outputId": "3893c11c-b0b5-461b-884f-ee9342a8b5dd"
      },
      "source": [
        "dt = DecisionTreeRegressor(random_state=10)\n",
        "dt.fit(X_train, y_train)\n",
        "dt.score(X_train, y_train)"
      ],
      "execution_count": null,
      "outputs": [
        {
          "output_type": "execute_result",
          "data": {
            "text/plain": [
              "1.0"
            ]
          },
          "metadata": {},
          "execution_count": 40
        }
      ]
    },
    {
      "cell_type": "code",
      "metadata": {
        "colab": {
          "base_uri": "https://localhost:8080/"
        },
        "id": "kSOkuspA1yfe",
        "outputId": "d9e1e908-75e0-4aae-d642-2f3810b7b855"
      },
      "source": [
        "dt.score(X_test, y_test)"
      ],
      "execution_count": null,
      "outputs": [
        {
          "output_type": "execute_result",
          "data": {
            "text/plain": [
              "0.7745519251034205"
            ]
          },
          "metadata": {},
          "execution_count": 41
        }
      ]
    },
    {
      "cell_type": "code",
      "metadata": {
        "id": "dFeG-sAI1TBg"
      },
      "source": [
        "bagging = BaggingRegressor(DecisionTreeRegressor(),\n",
        "                           n_estimators=10,\n",
        "                           max_samples=0.5,\n",
        "                           max_features=0.5,\n",
        "                           random_state=10)"
      ],
      "execution_count": null,
      "outputs": []
    },
    {
      "cell_type": "code",
      "metadata": {
        "id": "fq4DnZHL0_-9",
        "colab": {
          "base_uri": "https://localhost:8080/"
        },
        "outputId": "62db85b5-06e5-48c3-acca-0c27a6298db8"
      },
      "source": [
        "bagging.fit(X_train, y_train)"
      ],
      "execution_count": null,
      "outputs": [
        {
          "output_type": "execute_result",
          "data": {
            "text/plain": [
              "BaggingRegressor(base_estimator=DecisionTreeRegressor(), max_features=0.5,\n",
              "                 max_samples=0.5, random_state=10)"
            ]
          },
          "metadata": {},
          "execution_count": 43
        }
      ]
    },
    {
      "cell_type": "code",
      "metadata": {
        "id": "irJHN95g1Mqa",
        "colab": {
          "base_uri": "https://localhost:8080/"
        },
        "outputId": "c95c7d67-a21d-4ec1-8765-33e3debbc393"
      },
      "source": [
        "bagging.score(X_train, y_train)"
      ],
      "execution_count": null,
      "outputs": [
        {
          "output_type": "execute_result",
          "data": {
            "text/plain": [
              "0.907565878684704"
            ]
          },
          "metadata": {},
          "execution_count": 44
        }
      ]
    },
    {
      "cell_type": "code",
      "metadata": {
        "id": "VLympcrm1HkP",
        "colab": {
          "base_uri": "https://localhost:8080/"
        },
        "outputId": "dcc14cbd-bc9a-49c1-a52a-b4ce886e691c"
      },
      "source": [
        "bagging.score(X_test, y_test)"
      ],
      "execution_count": null,
      "outputs": [
        {
          "output_type": "execute_result",
          "data": {
            "text/plain": [
              "0.8559751260462529"
            ]
          },
          "metadata": {},
          "execution_count": 45
        }
      ]
    },
    {
      "cell_type": "code",
      "metadata": {
        "colab": {
          "base_uri": "https://localhost:8080/"
        },
        "id": "P2f-b8eB1-tf",
        "outputId": "d3bc9287-cacb-44be-ea20-ea95a075657f"
      },
      "source": [
        "kn = KNeighborsRegressor()\n",
        "kn.fit(X_train, y_train)\n",
        "kn.score(X_train, y_train)"
      ],
      "execution_count": null,
      "outputs": [
        {
          "output_type": "execute_result",
          "data": {
            "text/plain": [
              "0.750184842189582"
            ]
          },
          "metadata": {},
          "execution_count": 46
        }
      ]
    },
    {
      "cell_type": "code",
      "metadata": {
        "colab": {
          "base_uri": "https://localhost:8080/"
        },
        "id": "8AXaiTEU2DOE",
        "outputId": "346a9fdd-b700-43cd-ec51-4ae023529933"
      },
      "source": [
        "kn.score(X_test, y_test)"
      ],
      "execution_count": null,
      "outputs": [
        {
          "output_type": "execute_result",
          "data": {
            "text/plain": [
              "0.676138613361793"
            ]
          },
          "metadata": {},
          "execution_count": 47
        }
      ]
    },
    {
      "cell_type": "code",
      "metadata": {
        "id": "MXP2GEnz1YYj"
      },
      "source": [
        "bagging = BaggingRegressor(KNeighborsRegressor(),\n",
        "                           n_estimators=100,\n",
        "                           max_samples=0.5,\n",
        "                           max_features=0.5,\n",
        "                           random_state=10)"
      ],
      "execution_count": null,
      "outputs": []
    },
    {
      "cell_type": "code",
      "metadata": {
        "colab": {
          "base_uri": "https://localhost:8080/"
        },
        "id": "tXIq5Ejy1bDH",
        "outputId": "993ad6db-cd64-4241-dd2f-8c6f6a4c70cb"
      },
      "source": [
        "bagging.fit(X_train, y_train)"
      ],
      "execution_count": null,
      "outputs": [
        {
          "output_type": "execute_result",
          "data": {
            "text/plain": [
              "BaggingRegressor(base_estimator=KNeighborsRegressor(), max_features=0.5,\n",
              "                 max_samples=0.5, n_estimators=100, random_state=10)"
            ]
          },
          "metadata": {},
          "execution_count": 49
        }
      ]
    },
    {
      "cell_type": "code",
      "metadata": {
        "colab": {
          "base_uri": "https://localhost:8080/"
        },
        "id": "Qj8S9J_q1bHa",
        "outputId": "fb3baca3-89e8-4b23-b244-185fd1a4be2d"
      },
      "source": [
        "bagging.score(X_train, y_train)"
      ],
      "execution_count": null,
      "outputs": [
        {
          "output_type": "execute_result",
          "data": {
            "text/plain": [
              "0.7465540972252633"
            ]
          },
          "metadata": {},
          "execution_count": 50
        }
      ]
    },
    {
      "cell_type": "code",
      "metadata": {
        "colab": {
          "base_uri": "https://localhost:8080/"
        },
        "id": "qivc2t7J1naw",
        "outputId": "8e5fb6c5-6e33-4ac1-caa8-3de9e120622a"
      },
      "source": [
        "bagging.score(X_test, y_test)"
      ],
      "execution_count": null,
      "outputs": [
        {
          "output_type": "execute_result",
          "data": {
            "text/plain": [
              "0.7190374459124811"
            ]
          },
          "metadata": {},
          "execution_count": 51
        }
      ]
    },
    {
      "cell_type": "markdown",
      "source": [
        "### RandomForest"
      ],
      "metadata": {
        "id": "UlQ0dTFLTEAv"
      }
    },
    {
      "cell_type": "code",
      "metadata": {
        "id": "_ffu_hbgz0m_",
        "colab": {
          "base_uri": "https://localhost:8080/"
        },
        "outputId": "653b26ca-6a50-428e-bf1b-56621ed366c3"
      },
      "source": [
        "# Создаем модель RandomForest\n",
        "clf_rf = RandomForestRegressor(random_state=10)\n",
        "clf_rf.fit(X_train, y_train)"
      ],
      "execution_count": null,
      "outputs": [
        {
          "output_type": "execute_result",
          "data": {
            "text/plain": [
              "RandomForestRegressor(random_state=10)"
            ]
          },
          "metadata": {},
          "execution_count": 52
        }
      ]
    },
    {
      "cell_type": "code",
      "metadata": {
        "id": "_7prwcObz0nA",
        "colab": {
          "base_uri": "https://localhost:8080/"
        },
        "outputId": "804ab2cc-979c-447c-d164-2aeaf00601b2"
      },
      "source": [
        "# проверяем полученные данные на тренировочных данных\n",
        "\n",
        "clf_rf.score(X_train, y_train)"
      ],
      "execution_count": null,
      "outputs": [
        {
          "output_type": "execute_result",
          "data": {
            "text/plain": [
              "0.9772751978150257"
            ]
          },
          "metadata": {},
          "execution_count": 53
        }
      ]
    },
    {
      "cell_type": "code",
      "metadata": {
        "id": "J1iCfFMtz0nA",
        "colab": {
          "base_uri": "https://localhost:8080/"
        },
        "outputId": "2dade2ef-2e28-4c2b-ca22-59e40f423487"
      },
      "source": [
        "# проверяем полученные данные на тестовых данных\n",
        "\n",
        "clf_rf.score(X_test, y_test)"
      ],
      "execution_count": null,
      "outputs": [
        {
          "output_type": "execute_result",
          "data": {
            "text/plain": [
              "0.8932008184276262"
            ]
          },
          "metadata": {},
          "execution_count": 55
        }
      ]
    },
    {
      "cell_type": "code",
      "metadata": {
        "id": "fkh8jy7Zz0nC"
      },
      "source": [
        "# Выявляем наиболее важные признаки и выводим на график. Большое значение имеет признак Overall Qual, остальные почти равны нулю\n",
        "\n",
        "imp = pd.Series(clf_rf.feature_importances_)"
      ],
      "execution_count": null,
      "outputs": []
    },
    {
      "cell_type": "code",
      "metadata": {
        "id": "a1y_Yk7yz0nD"
      },
      "source": [
        "imp.index = pd.Series(X_train.columns)"
      ],
      "execution_count": null,
      "outputs": []
    },
    {
      "cell_type": "code",
      "source": [
        "imp = imp.sort_values(ascending=False)\n",
        "imp"
      ],
      "metadata": {
        "colab": {
          "base_uri": "https://localhost:8080/"
        },
        "id": "E_kAl6egTN5K",
        "outputId": "48d31d42-e2fa-4d43-a728-ec4a1644bdff"
      },
      "execution_count": null,
      "outputs": [
        {
          "output_type": "execute_result",
          "data": {
            "text/plain": [
              "OverallQual             0.539379\n",
              "GrLivArea               0.123713\n",
              "2ndFlrSF                0.039678\n",
              "TotalBsmtSF             0.029318\n",
              "BsmtFinSF1              0.022400\n",
              "                          ...   \n",
              "SaleType_Oth            0.000000\n",
              "MiscFeature_Gar2        0.000000\n",
              "PoolQC_Fa               0.000000\n",
              "Neighborhood_Blueste    0.000000\n",
              "BsmtCond_Po             0.000000\n",
              "Length: 269, dtype: float64"
            ]
          },
          "metadata": {},
          "execution_count": 60
        }
      ]
    },
    {
      "cell_type": "code",
      "metadata": {
        "id": "Ezg9a7nlz0nD",
        "colab": {
          "base_uri": "https://localhost:8080/",
          "height": 295
        },
        "outputId": "1b19ae8e-0857-4192-d867-db5d79e3e661"
      },
      "source": [
        "plt.title('Top 5 feature importances')\n",
        "plt.xlabel('Features')\n",
        "plt.ylabel('Gini')\n",
        "plt.bar(imp.head().index, imp.head())\n",
        "plt.show()"
      ],
      "execution_count": null,
      "outputs": [
        {
          "output_type": "display_data",
          "data": {
            "text/plain": [
              "<Figure size 432x288 with 1 Axes>"
            ],
            "image/png": "[encoded data removed]"
          },
          "metadata": {
            "needs_background": "light"
          }
        }
      ]
    },
    {
      "cell_type": "markdown",
      "metadata": {
        "id": "PqvgYDpT0Tx1"
      },
      "source": [
        "## Стекинг"
      ]
    },
    {
      "cell_type": "code",
      "metadata": {
        "id": "ExfQ01quz0nE"
      },
      "source": [
        "from sklearn.ensemble import StackingRegressor\n",
        "from sklearn.linear_model import LinearRegression\n",
        "from sklearn.neighbors import KNeighborsRegressor\n",
        "from sklearn.tree import DecisionTreeRegressor\n",
        "from sklearn.linear_model import RidgeCV"
      ],
      "execution_count": null,
      "outputs": []
    },
    {
      "cell_type": "code",
      "metadata": {
        "id": "vPsuVFCOz0nE"
      },
      "source": [
        "# Создаем стэккинг и обучаем его на наших данных \n",
        "\n",
        "Regressor = StackingRegressor(\n",
        "    [\n",
        "        ('LinearRegression', LinearRegression()),\n",
        "        ('KNeighborsRegressor', KNeighborsRegressor()),\n",
        "        ('DecisionTree', DecisionTreeRegressor())\n",
        "    ], RidgeCV())"
      ],
      "execution_count": null,
      "outputs": []
    },
    {
      "cell_type": "code",
      "metadata": {
        "id": "AloJkNmbz0nE",
        "colab": {
          "base_uri": "https://localhost:8080/"
        },
        "outputId": "d05cf8ae-1312-497b-bd27-bb283a9394ba"
      },
      "source": [
        "Regressor.fit(X_train, y_train)"
      ],
      "execution_count": null,
      "outputs": [
        {
          "output_type": "execute_result",
          "data": {
            "text/plain": [
              "StackingRegressor(estimators=[('LinearRegression', LinearRegression()),\n",
              "                              ('KNeighborsRegressor', KNeighborsRegressor()),\n",
              "                              ('DecisionTree', DecisionTreeRegressor())],\n",
              "                  final_estimator=RidgeCV(alphas=array([ 0.1,  1. , 10. ])))"
            ]
          },
          "metadata": {},
          "execution_count": 64
        }
      ]
    },
    {
      "cell_type": "code",
      "source": [
        "print(f'Score on train  {Regressor.score(X_train, y_train)}')\n",
        "print(f'Score on test  {Regressor.score(X_test, y_test)}')"
      ],
      "metadata": {
        "colab": {
          "base_uri": "https://localhost:8080/"
        },
        "id": "QEDrmuoLTdY3",
        "outputId": "9e8613a2-16cc-471b-a594-994f91615b28"
      },
      "execution_count": null,
      "outputs": [
        {
          "output_type": "stream",
          "name": "stdout",
          "text": [
            "Score on train  0.9537790554510085\n",
            "Score on test  0.8574484832739024\n"
          ]
        }
      ]
    },
    {
      "cell_type": "code",
      "metadata": {
        "id": "sc8zBKZOz0nF",
        "colab": {
          "base_uri": "https://localhost:8080/"
        },
        "outputId": "62f08e20-c946-45e7-d8fb-208b6e80c559"
      },
      "source": [
        "for i in Regressor.named_estimators:\n",
        "    print(f'Score on train  with model {i} {Regressor.named_estimators_[i].score(X_train, y_train)}')\n",
        "    print(f'Score on test  with model {i} {Regressor.named_estimators_[i].score(X_test, y_test)}')"
      ],
      "execution_count": null,
      "outputs": [
        {
          "output_type": "stream",
          "name": "stdout",
          "text": [
            "Score on train  with model LinearRegression 0.9324813510011757\n",
            "Score on test  with model LinearRegression 0.8089579218167169\n",
            "Score on train  with model KNeighborsRegressor 0.750184842189582\n",
            "Score on test  with model KNeighborsRegressor 0.676138613361793\n",
            "Score on train  with model DecisionTree 1.0\n",
            "Score on test  with model DecisionTree 0.7640406877449278\n"
          ]
        }
      ]
    },
    {
      "cell_type": "markdown",
      "metadata": {
        "id": "2s_FqILrz0nF"
      },
      "source": [
        "Лучше всех справилась Линейная регрессия.\n",
        "Деревья решений, как и предполагалось, переобучилась. Алгоритм ближайшего соседа тоже не плохо справилась с задачей. "
      ]
    },
    {
      "cell_type": "markdown",
      "metadata": {
        "id": "pzI5afrSCUsL"
      },
      "source": [
        "## Бустинг"
      ]
    },
    {
      "cell_type": "code",
      "source": [
        "from sklearn.ensemble import GradientBoostingRegressor\n",
        "\n",
        "boosting = GradientBoostingRegressor(n_estimators=100,\n",
        "                                     random_state=10)"
      ],
      "metadata": {
        "id": "WcEZUKKBTrnr"
      },
      "execution_count": null,
      "outputs": []
    },
    {
      "cell_type": "code",
      "metadata": {
        "colab": {
          "base_uri": "https://localhost:8080/"
        },
        "outputId": "8b517cf2-b37b-409e-b60c-06ddb49f3ffa",
        "id": "ao-tHtyLTrI8"
      },
      "source": [
        "boosting.fit(X_train, y_train)"
      ],
      "execution_count": null,
      "outputs": [
        {
          "output_type": "execute_result",
          "data": {
            "text/plain": [
              "GradientBoostingRegressor(random_state=10)"
            ]
          },
          "metadata": {},
          "execution_count": 70
        }
      ]
    },
    {
      "cell_type": "code",
      "metadata": {
        "colab": {
          "base_uri": "https://localhost:8080/"
        },
        "outputId": "a67ece52-916b-469e-dae8-501ee2decf2f",
        "id": "-uD7ki0gTrI-"
      },
      "source": [
        "boosting.score(X_train, y_train)"
      ],
      "execution_count": null,
      "outputs": [
        {
          "output_type": "execute_result",
          "data": {
            "text/plain": [
              "0.9715180667981475"
            ]
          },
          "metadata": {},
          "execution_count": 71
        }
      ]
    },
    {
      "cell_type": "code",
      "metadata": {
        "colab": {
          "base_uri": "https://localhost:8080/"
        },
        "outputId": "d9e968d3-0819-40b7-b8de-25133e968bb4",
        "id": "aCtGjHK2TrI-"
      },
      "source": [
        "boosting.score(X_test, y_test)"
      ],
      "execution_count": null,
      "outputs": [
        {
          "output_type": "execute_result",
          "data": {
            "text/plain": [
              "0.9141503779914885"
            ]
          },
          "metadata": {},
          "execution_count": 72
        }
      ]
    },
    {
      "cell_type": "markdown",
      "source": [
        "### lightgbm"
      ],
      "metadata": {
        "id": "AAluyC7FU6C-"
      }
    },
    {
      "cell_type": "code",
      "metadata": {
        "id": "Qp0iN4znAoFI"
      },
      "source": [
        "from lightgbm import LGBMRegressor"
      ],
      "execution_count": null,
      "outputs": []
    },
    {
      "cell_type": "code",
      "metadata": {
        "id": "UAyC_tjrAswB",
        "colab": {
          "base_uri": "https://localhost:8080/"
        },
        "outputId": "acbe1411-85e6-4610-f5cf-5602870d8299"
      },
      "source": [
        "lgbm = LGBMRegressor(random_state=10)\n",
        "lgbm.fit(X_train, y_train)"
      ],
      "execution_count": null,
      "outputs": [
        {
          "output_type": "execute_result",
          "data": {
            "text/plain": [
              "LGBMRegressor(random_state=10)"
            ]
          },
          "metadata": {},
          "execution_count": 74
        }
      ]
    },
    {
      "cell_type": "code",
      "metadata": {
        "colab": {
          "base_uri": "https://localhost:8080/"
        },
        "outputId": "6c74b4c0-ec9a-41c9-be3b-6fda6721e421",
        "id": "m9-8GphuUByT"
      },
      "source": [
        "lgbm.score(X_train, y_train)"
      ],
      "execution_count": null,
      "outputs": [
        {
          "output_type": "execute_result",
          "data": {
            "text/plain": [
              "0.9763722880428561"
            ]
          },
          "metadata": {},
          "execution_count": 75
        }
      ]
    },
    {
      "cell_type": "code",
      "metadata": {
        "colab": {
          "base_uri": "https://localhost:8080/"
        },
        "outputId": "ec5d3bfc-9323-4382-8f4d-2e29a38ecc6c",
        "id": "aJho2XqMUByV"
      },
      "source": [
        "lgbm.score(X_test, y_test)"
      ],
      "execution_count": null,
      "outputs": [
        {
          "output_type": "execute_result",
          "data": {
            "text/plain": [
              "0.902080756223816"
            ]
          },
          "metadata": {},
          "execution_count": 76
        }
      ]
    },
    {
      "cell_type": "markdown",
      "source": [
        "### xgboost"
      ],
      "metadata": {
        "id": "AJgSl3LNU8Cj"
      }
    },
    {
      "cell_type": "code",
      "metadata": {
        "id": "qA34ZWXyUKfI"
      },
      "source": [
        "from xgboost import XGBRegressor"
      ],
      "execution_count": null,
      "outputs": []
    },
    {
      "cell_type": "code",
      "metadata": {
        "colab": {
          "base_uri": "https://localhost:8080/"
        },
        "outputId": "53bc60be-57c5-4669-b552-d40016641493",
        "id": "RHMPNVFTUKfJ"
      },
      "source": [
        "xgb = XGBRegressor(random_state=10)\n",
        "xgb.fit(X_train, y_train)"
      ],
      "execution_count": null,
      "outputs": [
        {
          "output_type": "stream",
          "name": "stdout",
          "text": [
            "[07:36:41] WARNING: /workspace/src/objective/regression_obj.cu:152: reg:linear is now deprecated in favor of reg:squarederror.\n"
          ]
        },
        {
          "output_type": "execute_result",
          "data": {
            "text/plain": [
              "XGBRegressor(random_state=10)"
            ]
          },
          "metadata": {},
          "execution_count": 78
        }
      ]
    },
    {
      "cell_type": "code",
      "metadata": {
        "colab": {
          "base_uri": "https://localhost:8080/"
        },
        "outputId": "89611d8c-458e-454a-fc9c-de0c3a50cbb2",
        "id": "k_l_OW_UUKfL"
      },
      "source": [
        "xgb.score(X_train, y_train)"
      ],
      "execution_count": null,
      "outputs": [
        {
          "output_type": "execute_result",
          "data": {
            "text/plain": [
              "0.9667036051435475"
            ]
          },
          "metadata": {},
          "execution_count": 79
        }
      ]
    },
    {
      "cell_type": "code",
      "metadata": {
        "colab": {
          "base_uri": "https://localhost:8080/"
        },
        "outputId": "fe8aeba9-b33e-4c15-e2a0-69e2bf1ab89c",
        "id": "WQIO4HKwUKfM"
      },
      "source": [
        "xgb.score(X_test, y_test)"
      ],
      "execution_count": null,
      "outputs": [
        {
          "output_type": "execute_result",
          "data": {
            "text/plain": [
              "0.8920635669400951"
            ]
          },
          "metadata": {},
          "execution_count": 80
        }
      ]
    },
    {
      "cell_type": "markdown",
      "source": [
        "### catboost"
      ],
      "metadata": {
        "id": "MYeiJvMdU9g1"
      }
    },
    {
      "cell_type": "code",
      "source": [
        "!pip install catboost"
      ],
      "metadata": {
        "colab": {
          "base_uri": "https://localhost:8080/"
        },
        "id": "Sq51T8djUXUG",
        "outputId": "72eceb9e-9c7c-49f5-a6a4-63538516954d"
      },
      "execution_count": null,
      "outputs": [
        {
          "output_type": "stream",
          "name": "stdout",
          "text": [
            "Looking in indexes: https://pypi.org/simple, https://us-python.pkg.dev/colab-wheels/public/simple/\n",
            "Collecting catboost\n",
            "  Downloading catboost-1.1.1-cp37-none-manylinux1_x86_64.whl (76.6 MB)\n",
            "\u001b[K     |████████████████████████████████| 76.6 MB 88 kB/s \n",
            "\u001b[?25hRequirement already satisfied: pandas>=0.24.0 in /usr/local/lib/python3.7/dist-packages (from catboost) (1.3.5)\n",
            "Requirement already satisfied: numpy>=1.16.0 in /usr/local/lib/python3.7/dist-packages (from catboost) (1.21.6)\n",
            "Requirement already satisfied: plotly in /usr/local/lib/python3.7/dist-packages (from catboost) (5.5.0)\n",
            "Requirement already satisfied: matplotlib in /usr/local/lib/python3.7/dist-packages (from catboost) (3.2.2)\n",
            "Requirement already satisfied: graphviz in /usr/local/lib/python3.7/dist-packages (from catboost) (0.10.1)\n",
            "Requirement already satisfied: scipy in /usr/local/lib/python3.7/dist-packages (from catboost) (1.7.3)\n",
            "Requirement already satisfied: six in /usr/local/lib/python3.7/dist-packages (from catboost) (1.15.0)\n",
            "Requirement already satisfied: python-dateutil>=2.7.3 in /usr/local/lib/python3.7/dist-packages (from pandas>=0.24.0->catboost) (2.8.2)\n",
            "Requirement already satisfied: pytz>=2017.3 in /usr/local/lib/python3.7/dist-packages (from pandas>=0.24.0->catboost) (2022.6)\n",
            "Requirement already satisfied: pyparsing!=2.0.4,!=2.1.2,!=2.1.6,>=2.0.1 in /usr/local/lib/python3.7/dist-packages (from matplotlib->catboost) (3.0.9)\n",
            "Requirement already satisfied: kiwisolver>=1.0.1 in /usr/local/lib/python3.7/dist-packages (from matplotlib->catboost) (1.4.4)\n",
            "Requirement already satisfied: cycler>=0.10 in /usr/local/lib/python3.7/dist-packages (from matplotlib->catboost) (0.11.0)\n",
            "Requirement already satisfied: typing-extensions in /usr/local/lib/python3.7/dist-packages (from kiwisolver>=1.0.1->matplotlib->catboost) (4.1.1)\n",
            "Requirement already satisfied: tenacity>=6.2.0 in /usr/local/lib/python3.7/dist-packages (from plotly->catboost) (8.1.0)\n",
            "Installing collected packages: catboost\n",
            "Successfully installed catboost-1.1.1\n"
          ]
        }
      ]
    },
    {
      "cell_type": "code",
      "metadata": {
        "id": "gP2jCd2EUTPK"
      },
      "source": [
        "from catboost import CatBoostRegressor "
      ],
      "execution_count": null,
      "outputs": []
    },
    {
      "cell_type": "code",
      "metadata": {
        "colab": {
          "base_uri": "https://localhost:8080/"
        },
        "outputId": "62213c04-4153-4e13-fd77-c3ca7a4ead15",
        "id": "yhZUP8rwUTPN"
      },
      "source": [
        "cat = CatBoostRegressor(random_state=10)\n",
        "cat.fit(X_train, y_train)"
      ],
      "execution_count": null,
      "outputs": [
        {
          "output_type": "stream",
          "name": "stdout",
          "text": [
            "Learning rate set to 0.041084\n",
            "0:\tlearn: 75584.5202765\ttotal: 55.1ms\tremaining: 55.1s\n",
            "1:\tlearn: 73896.9793127\ttotal: 62.7ms\tremaining: 31.3s\n",
            "2:\tlearn: 71996.5931756\ttotal: 69.6ms\tremaining: 23.1s\n",
            "3:\tlearn: 70279.2481167\ttotal: 76.1ms\tremaining: 19s\n",
            "4:\tlearn: 68554.0367207\ttotal: 82.5ms\tremaining: 16.4s\n",
            "5:\tlearn: 67218.2073599\ttotal: 89.5ms\tremaining: 14.8s\n",
            "6:\tlearn: 65661.8358133\ttotal: 96.3ms\tremaining: 13.7s\n",
            "7:\tlearn: 64134.4971239\ttotal: 103ms\tremaining: 12.7s\n",
            "8:\tlearn: 62825.8674463\ttotal: 109ms\tremaining: 12s\n",
            "9:\tlearn: 61517.3265793\ttotal: 116ms\tremaining: 11.4s\n",
            "10:\tlearn: 60221.1749933\ttotal: 122ms\tremaining: 10.9s\n",
            "11:\tlearn: 58928.4605791\ttotal: 128ms\tremaining: 10.5s\n",
            "12:\tlearn: 57835.3166136\ttotal: 134ms\tremaining: 10.2s\n",
            "13:\tlearn: 56751.0317434\ttotal: 141ms\tremaining: 9.93s\n",
            "14:\tlearn: 55566.0605820\ttotal: 148ms\tremaining: 9.71s\n",
            "15:\tlearn: 54252.6864933\ttotal: 155ms\tremaining: 9.5s\n",
            "16:\tlearn: 53255.8256304\ttotal: 161ms\tremaining: 9.31s\n",
            "17:\tlearn: 52266.1147753\ttotal: 167ms\tremaining: 9.13s\n",
            "18:\tlearn: 51244.3763566\ttotal: 173ms\tremaining: 8.96s\n",
            "19:\tlearn: 50406.6368889\ttotal: 177ms\tremaining: 8.69s\n",
            "20:\tlearn: 49384.8357533\ttotal: 188ms\tremaining: 8.76s\n",
            "21:\tlearn: 48502.4799979\ttotal: 198ms\tremaining: 8.81s\n",
            "22:\tlearn: 47684.3148561\ttotal: 205ms\tremaining: 8.73s\n",
            "23:\tlearn: 46696.4602947\ttotal: 213ms\tremaining: 8.64s\n",
            "24:\tlearn: 45873.6287188\ttotal: 219ms\tremaining: 8.55s\n",
            "25:\tlearn: 45013.5759079\ttotal: 225ms\tremaining: 8.44s\n",
            "26:\tlearn: 44264.4624112\ttotal: 232ms\tremaining: 8.36s\n",
            "27:\tlearn: 43433.6482692\ttotal: 239ms\tremaining: 8.3s\n",
            "28:\tlearn: 42779.0635076\ttotal: 245ms\tremaining: 8.22s\n",
            "29:\tlearn: 42078.5545638\ttotal: 252ms\tremaining: 8.14s\n",
            "30:\tlearn: 41381.8934712\ttotal: 258ms\tremaining: 8.06s\n",
            "31:\tlearn: 40714.7231223\ttotal: 264ms\tremaining: 8s\n",
            "32:\tlearn: 40202.8613776\ttotal: 271ms\tremaining: 7.93s\n",
            "33:\tlearn: 39613.7774841\ttotal: 277ms\tremaining: 7.87s\n",
            "34:\tlearn: 39021.9710801\ttotal: 283ms\tremaining: 7.81s\n",
            "35:\tlearn: 38317.8737837\ttotal: 290ms\tremaining: 7.76s\n",
            "36:\tlearn: 37768.5672987\ttotal: 296ms\tremaining: 7.71s\n",
            "37:\tlearn: 37350.5504164\ttotal: 303ms\tremaining: 7.66s\n",
            "38:\tlearn: 36894.2317252\ttotal: 309ms\tremaining: 7.62s\n",
            "39:\tlearn: 36428.4043927\ttotal: 318ms\tremaining: 7.62s\n",
            "40:\tlearn: 35967.9006885\ttotal: 324ms\tremaining: 7.58s\n",
            "41:\tlearn: 35522.3269543\ttotal: 331ms\tremaining: 7.54s\n",
            "42:\tlearn: 35077.2414256\ttotal: 337ms\tremaining: 7.5s\n",
            "43:\tlearn: 34633.5259005\ttotal: 344ms\tremaining: 7.47s\n",
            "44:\tlearn: 34210.7180013\ttotal: 358ms\tremaining: 7.59s\n",
            "45:\tlearn: 33830.3508388\ttotal: 374ms\tremaining: 7.75s\n",
            "46:\tlearn: 33477.5126716\ttotal: 388ms\tremaining: 7.86s\n",
            "47:\tlearn: 33049.5855286\ttotal: 417ms\tremaining: 8.27s\n",
            "48:\tlearn: 32620.3405240\ttotal: 434ms\tremaining: 8.43s\n",
            "49:\tlearn: 32302.1926847\ttotal: 453ms\tremaining: 8.6s\n",
            "50:\tlearn: 31986.1554565\ttotal: 470ms\tremaining: 8.75s\n",
            "51:\tlearn: 31673.7348059\ttotal: 488ms\tremaining: 8.89s\n",
            "52:\tlearn: 31323.0957401\ttotal: 507ms\tremaining: 9.05s\n",
            "53:\tlearn: 30972.8081070\ttotal: 526ms\tremaining: 9.22s\n",
            "54:\tlearn: 30708.1555327\ttotal: 546ms\tremaining: 9.37s\n",
            "55:\tlearn: 30473.4296369\ttotal: 562ms\tremaining: 9.46s\n",
            "56:\tlearn: 30167.2223367\ttotal: 579ms\tremaining: 9.57s\n",
            "57:\tlearn: 29904.6855208\ttotal: 598ms\tremaining: 9.72s\n",
            "58:\tlearn: 29630.1713121\ttotal: 634ms\tremaining: 10.1s\n",
            "59:\tlearn: 29339.7437877\ttotal: 656ms\tremaining: 10.3s\n",
            "60:\tlearn: 29064.1206996\ttotal: 675ms\tremaining: 10.4s\n",
            "61:\tlearn: 28772.2268311\ttotal: 715ms\tremaining: 10.8s\n",
            "62:\tlearn: 28540.4319903\ttotal: 774ms\tremaining: 11.5s\n",
            "63:\tlearn: 28300.2734249\ttotal: 793ms\tremaining: 11.6s\n",
            "64:\tlearn: 28114.9421157\ttotal: 811ms\tremaining: 11.7s\n",
            "65:\tlearn: 27899.4184927\ttotal: 841ms\tremaining: 11.9s\n",
            "66:\tlearn: 27690.7864060\ttotal: 858ms\tremaining: 11.9s\n",
            "67:\tlearn: 27493.2506465\ttotal: 877ms\tremaining: 12s\n",
            "68:\tlearn: 27246.7330236\ttotal: 898ms\tremaining: 12.1s\n",
            "69:\tlearn: 27069.1289866\ttotal: 924ms\tremaining: 12.3s\n",
            "70:\tlearn: 26876.6880090\ttotal: 951ms\tremaining: 12.4s\n",
            "71:\tlearn: 26706.1735342\ttotal: 972ms\tremaining: 12.5s\n",
            "72:\tlearn: 26493.6694786\ttotal: 990ms\tremaining: 12.6s\n",
            "73:\tlearn: 26312.1147013\ttotal: 1.01s\tremaining: 12.7s\n",
            "74:\tlearn: 26143.2693027\ttotal: 1.03s\tremaining: 12.7s\n",
            "75:\tlearn: 25962.4248953\ttotal: 1.09s\tremaining: 13.3s\n",
            "76:\tlearn: 25789.0869595\ttotal: 1.12s\tremaining: 13.4s\n",
            "77:\tlearn: 25623.3246495\ttotal: 1.14s\tremaining: 13.5s\n",
            "78:\tlearn: 25501.1706772\ttotal: 1.16s\tremaining: 13.5s\n",
            "79:\tlearn: 25343.1161636\ttotal: 1.2s\tremaining: 13.8s\n",
            "80:\tlearn: 25168.3204843\ttotal: 1.22s\tremaining: 13.8s\n",
            "81:\tlearn: 25026.5486260\ttotal: 1.24s\tremaining: 13.9s\n",
            "82:\tlearn: 24849.6997803\ttotal: 1.26s\tremaining: 14s\n",
            "83:\tlearn: 24690.9530809\ttotal: 1.28s\tremaining: 14s\n",
            "84:\tlearn: 24497.5391402\ttotal: 1.31s\tremaining: 14.1s\n",
            "85:\tlearn: 24431.7952551\ttotal: 1.36s\tremaining: 14.5s\n",
            "86:\tlearn: 24307.6461354\ttotal: 1.38s\tremaining: 14.5s\n",
            "87:\tlearn: 24135.8188766\ttotal: 1.4s\tremaining: 14.5s\n",
            "88:\tlearn: 24010.9899011\ttotal: 1.42s\tremaining: 14.6s\n",
            "89:\tlearn: 23897.3250641\ttotal: 1.46s\tremaining: 14.8s\n",
            "90:\tlearn: 23775.5343160\ttotal: 1.49s\tremaining: 14.8s\n",
            "91:\tlearn: 23674.4509222\ttotal: 1.52s\tremaining: 15s\n",
            "92:\tlearn: 23555.6335161\ttotal: 1.54s\tremaining: 15s\n",
            "93:\tlearn: 23408.5625838\ttotal: 1.57s\tremaining: 15.1s\n",
            "94:\tlearn: 23326.0053457\ttotal: 1.59s\tremaining: 15.1s\n",
            "95:\tlearn: 23176.1456387\ttotal: 1.6s\tremaining: 15.1s\n",
            "96:\tlearn: 23043.2291891\ttotal: 1.63s\tremaining: 15.2s\n",
            "97:\tlearn: 22918.7791033\ttotal: 1.65s\tremaining: 15.2s\n",
            "98:\tlearn: 22807.3044432\ttotal: 1.67s\tremaining: 15.2s\n",
            "99:\tlearn: 22638.9973548\ttotal: 1.69s\tremaining: 15.2s\n",
            "100:\tlearn: 22527.3644683\ttotal: 1.73s\tremaining: 15.4s\n",
            "101:\tlearn: 22402.7219294\ttotal: 1.77s\tremaining: 15.6s\n",
            "102:\tlearn: 22327.8268438\ttotal: 1.81s\tremaining: 15.8s\n",
            "103:\tlearn: 22300.6518669\ttotal: 1.84s\tremaining: 15.8s\n",
            "104:\tlearn: 22176.0663784\ttotal: 1.86s\tremaining: 15.9s\n",
            "105:\tlearn: 22095.3134793\ttotal: 1.88s\tremaining: 15.9s\n",
            "106:\tlearn: 21966.7831423\ttotal: 1.92s\tremaining: 16s\n",
            "107:\tlearn: 21875.4203559\ttotal: 1.97s\tremaining: 16.3s\n",
            "108:\tlearn: 21776.7852643\ttotal: 1.99s\tremaining: 16.3s\n",
            "109:\tlearn: 21670.6893107\ttotal: 2.02s\tremaining: 16.3s\n",
            "110:\tlearn: 21586.9725896\ttotal: 2.04s\tremaining: 16.3s\n",
            "111:\tlearn: 21466.2040641\ttotal: 2.06s\tremaining: 16.3s\n",
            "112:\tlearn: 21429.3926954\ttotal: 2.08s\tremaining: 16.3s\n",
            "113:\tlearn: 21324.5081000\ttotal: 2.1s\tremaining: 16.3s\n",
            "114:\tlearn: 21211.6200056\ttotal: 2.12s\tremaining: 16.3s\n",
            "115:\tlearn: 21196.8933753\ttotal: 2.13s\tremaining: 16.2s\n",
            "116:\tlearn: 21087.8224588\ttotal: 2.15s\tremaining: 16.2s\n",
            "117:\tlearn: 21032.1070736\ttotal: 2.19s\tremaining: 16.4s\n",
            "118:\tlearn: 20938.1640816\ttotal: 2.21s\tremaining: 16.3s\n",
            "119:\tlearn: 20851.8494738\ttotal: 2.22s\tremaining: 16.3s\n",
            "120:\tlearn: 20718.2739219\ttotal: 2.24s\tremaining: 16.3s\n",
            "121:\tlearn: 20634.4435607\ttotal: 2.26s\tremaining: 16.3s\n",
            "122:\tlearn: 20574.2669987\ttotal: 2.28s\tremaining: 16.3s\n",
            "123:\tlearn: 20496.4696873\ttotal: 2.3s\tremaining: 16.2s\n",
            "124:\tlearn: 20379.5611826\ttotal: 2.31s\tremaining: 16.2s\n",
            "125:\tlearn: 20349.1749689\ttotal: 2.33s\tremaining: 16.2s\n",
            "126:\tlearn: 20315.7666338\ttotal: 2.35s\tremaining: 16.2s\n",
            "127:\tlearn: 20221.1995196\ttotal: 2.37s\tremaining: 16.1s\n",
            "128:\tlearn: 20131.3068540\ttotal: 2.4s\tremaining: 16.2s\n",
            "129:\tlearn: 20054.7065066\ttotal: 2.43s\tremaining: 16.3s\n",
            "130:\tlearn: 19985.1787989\ttotal: 2.5s\tremaining: 16.6s\n",
            "131:\tlearn: 19953.3638247\ttotal: 2.55s\tremaining: 16.8s\n",
            "132:\tlearn: 19896.4486487\ttotal: 2.59s\tremaining: 16.9s\n",
            "133:\tlearn: 19838.6717481\ttotal: 2.65s\tremaining: 17.1s\n",
            "134:\tlearn: 19778.4041917\ttotal: 2.68s\tremaining: 17.2s\n",
            "135:\tlearn: 19715.9555058\ttotal: 2.74s\tremaining: 17.4s\n",
            "136:\tlearn: 19655.8368741\ttotal: 2.8s\tremaining: 17.6s\n",
            "137:\tlearn: 19568.7544254\ttotal: 2.87s\tremaining: 17.9s\n",
            "138:\tlearn: 19507.5913757\ttotal: 2.93s\tremaining: 18.2s\n",
            "139:\tlearn: 19451.9696632\ttotal: 2.98s\tremaining: 18.3s\n",
            "140:\tlearn: 19392.4922198\ttotal: 3s\tremaining: 18.3s\n",
            "141:\tlearn: 19328.4795056\ttotal: 3.04s\tremaining: 18.3s\n",
            "142:\tlearn: 19264.6862821\ttotal: 3.09s\tremaining: 18.5s\n",
            "143:\tlearn: 19212.0881795\ttotal: 3.11s\tremaining: 18.5s\n",
            "144:\tlearn: 19161.7973063\ttotal: 3.15s\tremaining: 18.6s\n",
            "145:\tlearn: 19081.4351732\ttotal: 3.18s\tremaining: 18.6s\n",
            "146:\tlearn: 19061.7771420\ttotal: 3.2s\tremaining: 18.6s\n",
            "147:\tlearn: 19018.0968526\ttotal: 3.23s\tremaining: 18.6s\n",
            "148:\tlearn: 18958.8651929\ttotal: 3.25s\tremaining: 18.5s\n",
            "149:\tlearn: 18947.6852855\ttotal: 3.26s\tremaining: 18.5s\n",
            "150:\tlearn: 18893.6877845\ttotal: 3.27s\tremaining: 18.4s\n",
            "151:\tlearn: 18833.8932928\ttotal: 3.28s\tremaining: 18.3s\n",
            "152:\tlearn: 18785.7608828\ttotal: 3.3s\tremaining: 18.3s\n",
            "153:\tlearn: 18725.8745211\ttotal: 3.31s\tremaining: 18.2s\n",
            "154:\tlearn: 18693.7470053\ttotal: 3.32s\tremaining: 18.1s\n",
            "155:\tlearn: 18637.8379474\ttotal: 3.33s\tremaining: 18s\n",
            "156:\tlearn: 18576.8733991\ttotal: 3.34s\tremaining: 17.9s\n",
            "157:\tlearn: 18515.7208811\ttotal: 3.35s\tremaining: 17.9s\n",
            "158:\tlearn: 18441.9614123\ttotal: 3.37s\tremaining: 17.8s\n",
            "159:\tlearn: 18379.7776028\ttotal: 3.38s\tremaining: 17.7s\n",
            "160:\tlearn: 18338.8751359\ttotal: 3.39s\tremaining: 17.7s\n",
            "161:\tlearn: 18289.8403438\ttotal: 3.4s\tremaining: 17.6s\n",
            "162:\tlearn: 18221.9146545\ttotal: 3.42s\tremaining: 17.5s\n",
            "163:\tlearn: 18173.0747076\ttotal: 3.42s\tremaining: 17.5s\n",
            "164:\tlearn: 18131.1743033\ttotal: 3.43s\tremaining: 17.4s\n",
            "165:\tlearn: 18090.8157538\ttotal: 3.45s\tremaining: 17.3s\n",
            "166:\tlearn: 18036.5800559\ttotal: 3.46s\tremaining: 17.3s\n",
            "167:\tlearn: 17989.1787284\ttotal: 3.48s\tremaining: 17.2s\n",
            "168:\tlearn: 17926.8532020\ttotal: 3.5s\tremaining: 17.2s\n",
            "169:\tlearn: 17855.0745465\ttotal: 3.52s\tremaining: 17.2s\n",
            "170:\tlearn: 17815.3662226\ttotal: 3.53s\tremaining: 17.1s\n",
            "171:\tlearn: 17792.7151288\ttotal: 3.54s\tremaining: 17s\n",
            "172:\tlearn: 17773.6780736\ttotal: 3.55s\tremaining: 17s\n",
            "173:\tlearn: 17743.1763147\ttotal: 3.56s\tremaining: 16.9s\n",
            "174:\tlearn: 17704.1122714\ttotal: 3.57s\tremaining: 16.8s\n",
            "175:\tlearn: 17670.8791098\ttotal: 3.58s\tremaining: 16.8s\n",
            "176:\tlearn: 17627.3402701\ttotal: 3.59s\tremaining: 16.7s\n",
            "177:\tlearn: 17602.2498991\ttotal: 3.6s\tremaining: 16.6s\n",
            "178:\tlearn: 17540.3857381\ttotal: 3.61s\tremaining: 16.6s\n",
            "179:\tlearn: 17521.6149083\ttotal: 3.62s\tremaining: 16.5s\n",
            "180:\tlearn: 17501.4447795\ttotal: 3.63s\tremaining: 16.4s\n",
            "181:\tlearn: 17460.8590293\ttotal: 3.64s\tremaining: 16.4s\n",
            "182:\tlearn: 17423.8370890\ttotal: 3.65s\tremaining: 16.3s\n",
            "183:\tlearn: 17373.4510285\ttotal: 3.66s\tremaining: 16.2s\n",
            "184:\tlearn: 17329.5705014\ttotal: 3.68s\tremaining: 16.2s\n",
            "185:\tlearn: 17279.9928756\ttotal: 3.69s\tremaining: 16.1s\n",
            "186:\tlearn: 17245.5947435\ttotal: 3.7s\tremaining: 16.1s\n",
            "187:\tlearn: 17231.2630344\ttotal: 3.7s\tremaining: 16s\n",
            "188:\tlearn: 17167.6404011\ttotal: 3.71s\tremaining: 15.9s\n",
            "189:\tlearn: 17120.7450101\ttotal: 3.72s\tremaining: 15.9s\n",
            "190:\tlearn: 17060.3749383\ttotal: 3.73s\tremaining: 15.8s\n",
            "191:\tlearn: 17010.4270674\ttotal: 3.74s\tremaining: 15.7s\n",
            "192:\tlearn: 16990.0597951\ttotal: 3.75s\tremaining: 15.7s\n",
            "193:\tlearn: 16972.5441616\ttotal: 3.77s\tremaining: 15.7s\n",
            "194:\tlearn: 16940.8583467\ttotal: 3.8s\tremaining: 15.7s\n",
            "195:\tlearn: 16897.3985583\ttotal: 3.81s\tremaining: 15.6s\n",
            "196:\tlearn: 16838.8633681\ttotal: 3.83s\tremaining: 15.6s\n",
            "197:\tlearn: 16796.5766727\ttotal: 3.84s\tremaining: 15.6s\n",
            "198:\tlearn: 16764.0808271\ttotal: 3.87s\tremaining: 15.6s\n",
            "199:\tlearn: 16724.8399943\ttotal: 3.89s\tremaining: 15.5s\n",
            "200:\tlearn: 16683.9425006\ttotal: 3.9s\tremaining: 15.5s\n",
            "201:\tlearn: 16640.2128052\ttotal: 3.92s\tremaining: 15.5s\n",
            "202:\tlearn: 16590.3272913\ttotal: 3.94s\tremaining: 15.4s\n",
            "203:\tlearn: 16575.3436975\ttotal: 3.95s\tremaining: 15.4s\n",
            "204:\tlearn: 16551.9381447\ttotal: 3.96s\tremaining: 15.4s\n",
            "205:\tlearn: 16519.9773474\ttotal: 3.97s\tremaining: 15.3s\n",
            "206:\tlearn: 16484.5431361\ttotal: 3.98s\tremaining: 15.2s\n",
            "207:\tlearn: 16457.1193332\ttotal: 3.99s\tremaining: 15.2s\n",
            "208:\tlearn: 16410.7485393\ttotal: 4s\tremaining: 15.1s\n",
            "209:\tlearn: 16396.6792008\ttotal: 4.01s\tremaining: 15.1s\n",
            "210:\tlearn: 16349.7165678\ttotal: 4.02s\tremaining: 15s\n",
            "211:\tlearn: 16308.2301755\ttotal: 4.04s\tremaining: 15s\n",
            "212:\tlearn: 16279.2884554\ttotal: 4.06s\tremaining: 15s\n",
            "213:\tlearn: 16235.8692893\ttotal: 4.08s\tremaining: 15s\n",
            "214:\tlearn: 16226.9988468\ttotal: 4.1s\tremaining: 15s\n",
            "215:\tlearn: 16201.2766249\ttotal: 4.11s\tremaining: 14.9s\n",
            "216:\tlearn: 16152.8780234\ttotal: 4.13s\tremaining: 14.9s\n",
            "217:\tlearn: 16112.0812108\ttotal: 4.16s\tremaining: 14.9s\n",
            "218:\tlearn: 16075.9629934\ttotal: 4.18s\tremaining: 14.9s\n",
            "219:\tlearn: 16036.5854511\ttotal: 4.19s\tremaining: 14.9s\n",
            "220:\tlearn: 15999.6073423\ttotal: 4.21s\tremaining: 14.8s\n",
            "221:\tlearn: 15989.0868303\ttotal: 4.23s\tremaining: 14.8s\n",
            "222:\tlearn: 15976.8336759\ttotal: 4.24s\tremaining: 14.8s\n",
            "223:\tlearn: 15949.4396287\ttotal: 4.25s\tremaining: 14.7s\n",
            "224:\tlearn: 15938.2520955\ttotal: 4.29s\tremaining: 14.8s\n",
            "225:\tlearn: 15893.1968225\ttotal: 4.31s\tremaining: 14.8s\n",
            "226:\tlearn: 15855.9590335\ttotal: 4.32s\tremaining: 14.7s\n",
            "227:\tlearn: 15820.6001878\ttotal: 4.34s\tremaining: 14.7s\n",
            "228:\tlearn: 15767.3712842\ttotal: 4.37s\tremaining: 14.7s\n",
            "229:\tlearn: 15736.8206406\ttotal: 4.4s\tremaining: 14.7s\n",
            "230:\tlearn: 15708.7726990\ttotal: 4.43s\tremaining: 14.8s\n",
            "231:\tlearn: 15645.2792181\ttotal: 4.46s\tremaining: 14.7s\n",
            "232:\tlearn: 15620.5726382\ttotal: 4.48s\tremaining: 14.7s\n",
            "233:\tlearn: 15575.6875584\ttotal: 4.55s\tremaining: 14.9s\n",
            "234:\tlearn: 15521.6215717\ttotal: 4.56s\tremaining: 14.9s\n",
            "235:\tlearn: 15487.6803822\ttotal: 4.58s\tremaining: 14.8s\n",
            "236:\tlearn: 15462.3528254\ttotal: 4.61s\tremaining: 14.8s\n",
            "237:\tlearn: 15419.9242017\ttotal: 4.63s\tremaining: 14.8s\n",
            "238:\tlearn: 15387.2268355\ttotal: 4.65s\tremaining: 14.8s\n",
            "239:\tlearn: 15357.6388593\ttotal: 4.66s\tremaining: 14.8s\n",
            "240:\tlearn: 15314.9264557\ttotal: 4.68s\tremaining: 14.7s\n",
            "241:\tlearn: 15308.4822540\ttotal: 4.69s\tremaining: 14.7s\n",
            "242:\tlearn: 15301.2186968\ttotal: 4.71s\tremaining: 14.7s\n",
            "243:\tlearn: 15250.3628269\ttotal: 4.73s\tremaining: 14.7s\n",
            "244:\tlearn: 15216.4589797\ttotal: 4.77s\tremaining: 14.7s\n",
            "245:\tlearn: 15186.0791180\ttotal: 4.79s\tremaining: 14.7s\n",
            "246:\tlearn: 15171.8164770\ttotal: 4.81s\tremaining: 14.7s\n",
            "247:\tlearn: 15128.6925823\ttotal: 4.84s\tremaining: 14.7s\n",
            "248:\tlearn: 15089.5435714\ttotal: 4.85s\tremaining: 14.6s\n",
            "249:\tlearn: 15047.5184753\ttotal: 4.86s\tremaining: 14.6s\n",
            "250:\tlearn: 15029.8212430\ttotal: 4.88s\tremaining: 14.6s\n",
            "251:\tlearn: 15004.0836033\ttotal: 4.89s\tremaining: 14.5s\n",
            "252:\tlearn: 14968.7502394\ttotal: 4.91s\tremaining: 14.5s\n",
            "253:\tlearn: 14934.0161480\ttotal: 4.93s\tremaining: 14.5s\n",
            "254:\tlearn: 14910.0608842\ttotal: 4.95s\tremaining: 14.5s\n",
            "255:\tlearn: 14896.8384709\ttotal: 4.96s\tremaining: 14.4s\n",
            "256:\tlearn: 14866.8594541\ttotal: 4.98s\tremaining: 14.4s\n",
            "257:\tlearn: 14835.4288226\ttotal: 4.99s\tremaining: 14.3s\n",
            "258:\tlearn: 14808.3592868\ttotal: 5s\tremaining: 14.3s\n",
            "259:\tlearn: 14782.0351688\ttotal: 5.02s\tremaining: 14.3s\n",
            "260:\tlearn: 14746.5160010\ttotal: 5.04s\tremaining: 14.3s\n",
            "261:\tlearn: 14723.6749412\ttotal: 5.05s\tremaining: 14.2s\n",
            "262:\tlearn: 14717.7317417\ttotal: 5.06s\tremaining: 14.2s\n",
            "263:\tlearn: 14691.5701527\ttotal: 5.08s\tremaining: 14.2s\n",
            "264:\tlearn: 14649.8243411\ttotal: 5.1s\tremaining: 14.1s\n",
            "265:\tlearn: 14616.4041420\ttotal: 5.12s\tremaining: 14.1s\n",
            "266:\tlearn: 14589.9036820\ttotal: 5.13s\tremaining: 14.1s\n",
            "267:\tlearn: 14548.3539959\ttotal: 5.15s\tremaining: 14.1s\n",
            "268:\tlearn: 14517.7143294\ttotal: 5.17s\tremaining: 14s\n",
            "269:\tlearn: 14495.6068610\ttotal: 5.19s\tremaining: 14s\n",
            "270:\tlearn: 14481.4808320\ttotal: 5.22s\tremaining: 14s\n",
            "271:\tlearn: 14447.5154255\ttotal: 5.23s\tremaining: 14s\n",
            "272:\tlearn: 14421.1615235\ttotal: 5.25s\tremaining: 14s\n",
            "273:\tlearn: 14389.0325727\ttotal: 5.27s\tremaining: 14s\n",
            "274:\tlearn: 14349.8797508\ttotal: 5.29s\tremaining: 14s\n",
            "275:\tlearn: 14328.8555443\ttotal: 5.31s\tremaining: 13.9s\n",
            "276:\tlearn: 14296.4884165\ttotal: 5.33s\tremaining: 13.9s\n",
            "277:\tlearn: 14265.0881300\ttotal: 5.34s\tremaining: 13.9s\n",
            "278:\tlearn: 14213.7933918\ttotal: 5.35s\tremaining: 13.8s\n",
            "279:\tlearn: 14190.1259484\ttotal: 5.37s\tremaining: 13.8s\n",
            "280:\tlearn: 14159.6506989\ttotal: 5.4s\tremaining: 13.8s\n",
            "281:\tlearn: 14131.8257965\ttotal: 5.42s\tremaining: 13.8s\n",
            "282:\tlearn: 14102.9007133\ttotal: 5.44s\tremaining: 13.8s\n",
            "283:\tlearn: 14070.7855827\ttotal: 5.46s\tremaining: 13.8s\n",
            "284:\tlearn: 14031.0942343\ttotal: 5.5s\tremaining: 13.8s\n",
            "285:\tlearn: 13999.8550858\ttotal: 5.53s\tremaining: 13.8s\n",
            "286:\tlearn: 13969.1862800\ttotal: 5.55s\tremaining: 13.8s\n",
            "287:\tlearn: 13937.8018185\ttotal: 5.57s\tremaining: 13.8s\n",
            "288:\tlearn: 13915.5827441\ttotal: 5.6s\tremaining: 13.8s\n",
            "289:\tlearn: 13891.9687381\ttotal: 5.62s\tremaining: 13.8s\n",
            "290:\tlearn: 13864.8223109\ttotal: 5.64s\tremaining: 13.7s\n",
            "291:\tlearn: 13840.9056921\ttotal: 5.66s\tremaining: 13.7s\n",
            "292:\tlearn: 13812.8023756\ttotal: 5.68s\tremaining: 13.7s\n",
            "293:\tlearn: 13791.8121486\ttotal: 5.71s\tremaining: 13.7s\n",
            "294:\tlearn: 13766.9430299\ttotal: 5.73s\tremaining: 13.7s\n",
            "295:\tlearn: 13754.9470222\ttotal: 5.75s\tremaining: 13.7s\n",
            "296:\tlearn: 13750.4652733\ttotal: 5.76s\tremaining: 13.6s\n",
            "297:\tlearn: 13724.4965041\ttotal: 5.77s\tremaining: 13.6s\n",
            "298:\tlearn: 13708.0394838\ttotal: 5.79s\tremaining: 13.6s\n",
            "299:\tlearn: 13682.9590603\ttotal: 5.81s\tremaining: 13.6s\n",
            "300:\tlearn: 13653.7930247\ttotal: 5.84s\tremaining: 13.6s\n",
            "301:\tlearn: 13627.4420255\ttotal: 5.86s\tremaining: 13.5s\n",
            "302:\tlearn: 13602.9303032\ttotal: 5.87s\tremaining: 13.5s\n",
            "303:\tlearn: 13568.2043578\ttotal: 5.88s\tremaining: 13.5s\n",
            "304:\tlearn: 13551.8947611\ttotal: 5.89s\tremaining: 13.4s\n",
            "305:\tlearn: 13529.6692565\ttotal: 5.91s\tremaining: 13.4s\n",
            "306:\tlearn: 13495.2301643\ttotal: 5.93s\tremaining: 13.4s\n",
            "307:\tlearn: 13460.2263615\ttotal: 5.94s\tremaining: 13.4s\n",
            "308:\tlearn: 13441.7182994\ttotal: 5.96s\tremaining: 13.3s\n",
            "309:\tlearn: 13419.0174646\ttotal: 5.98s\tremaining: 13.3s\n",
            "310:\tlearn: 13396.3810931\ttotal: 5.99s\tremaining: 13.3s\n",
            "311:\tlearn: 13384.3299592\ttotal: 6.02s\tremaining: 13.3s\n",
            "312:\tlearn: 13365.0758321\ttotal: 6.06s\tremaining: 13.3s\n",
            "313:\tlearn: 13330.5938044\ttotal: 6.07s\tremaining: 13.3s\n",
            "314:\tlearn: 13317.8311551\ttotal: 6.09s\tremaining: 13.2s\n",
            "315:\tlearn: 13304.7347106\ttotal: 6.12s\tremaining: 13.3s\n",
            "316:\tlearn: 13294.3775065\ttotal: 6.15s\tremaining: 13.2s\n",
            "317:\tlearn: 13267.5389847\ttotal: 6.17s\tremaining: 13.2s\n",
            "318:\tlearn: 13245.6204253\ttotal: 6.2s\tremaining: 13.2s\n",
            "319:\tlearn: 13224.5743538\ttotal: 6.21s\tremaining: 13.2s\n",
            "320:\tlearn: 13206.3600393\ttotal: 6.23s\tremaining: 13.2s\n",
            "321:\tlearn: 13184.0724999\ttotal: 6.25s\tremaining: 13.2s\n",
            "322:\tlearn: 13156.3016927\ttotal: 6.27s\tremaining: 13.1s\n",
            "323:\tlearn: 13128.2369822\ttotal: 6.29s\tremaining: 13.1s\n",
            "324:\tlearn: 13116.9819422\ttotal: 6.3s\tremaining: 13.1s\n",
            "325:\tlearn: 13098.0363533\ttotal: 6.31s\tremaining: 13.1s\n",
            "326:\tlearn: 13089.6227169\ttotal: 6.33s\tremaining: 13s\n",
            "327:\tlearn: 13065.7959474\ttotal: 6.33s\tremaining: 13s\n",
            "328:\tlearn: 13039.2280949\ttotal: 6.35s\tremaining: 12.9s\n",
            "329:\tlearn: 13020.1271538\ttotal: 6.36s\tremaining: 12.9s\n",
            "330:\tlearn: 12995.0136299\ttotal: 6.37s\tremaining: 12.9s\n",
            "331:\tlearn: 12968.2531876\ttotal: 6.38s\tremaining: 12.8s\n",
            "332:\tlearn: 12946.0738159\ttotal: 6.39s\tremaining: 12.8s\n",
            "333:\tlearn: 12913.4655603\ttotal: 6.42s\tremaining: 12.8s\n",
            "334:\tlearn: 12897.4426887\ttotal: 6.44s\tremaining: 12.8s\n",
            "335:\tlearn: 12873.8947200\ttotal: 6.47s\tremaining: 12.8s\n",
            "336:\tlearn: 12845.5147170\ttotal: 6.49s\tremaining: 12.8s\n",
            "337:\tlearn: 12817.5198565\ttotal: 6.51s\tremaining: 12.8s\n",
            "338:\tlearn: 12794.4925235\ttotal: 6.54s\tremaining: 12.7s\n",
            "339:\tlearn: 12775.9225480\ttotal: 6.57s\tremaining: 12.8s\n",
            "340:\tlearn: 12756.3240407\ttotal: 6.61s\tremaining: 12.8s\n",
            "341:\tlearn: 12734.0037251\ttotal: 6.64s\tremaining: 12.8s\n",
            "342:\tlearn: 12709.6750889\ttotal: 6.68s\tremaining: 12.8s\n",
            "343:\tlearn: 12690.3996068\ttotal: 6.72s\tremaining: 12.8s\n",
            "344:\tlearn: 12669.9716687\ttotal: 6.74s\tremaining: 12.8s\n",
            "345:\tlearn: 12658.2567248\ttotal: 6.76s\tremaining: 12.8s\n",
            "346:\tlearn: 12631.4232810\ttotal: 6.77s\tremaining: 12.7s\n",
            "347:\tlearn: 12607.9611234\ttotal: 6.79s\tremaining: 12.7s\n",
            "348:\tlearn: 12582.8235704\ttotal: 6.81s\tremaining: 12.7s\n",
            "349:\tlearn: 12567.9219154\ttotal: 6.86s\tremaining: 12.7s\n",
            "350:\tlearn: 12549.4471396\ttotal: 6.88s\tremaining: 12.7s\n",
            "351:\tlearn: 12531.6554814\ttotal: 6.89s\tremaining: 12.7s\n",
            "352:\tlearn: 12502.9675716\ttotal: 6.91s\tremaining: 12.7s\n",
            "353:\tlearn: 12489.2166641\ttotal: 6.93s\tremaining: 12.6s\n",
            "354:\tlearn: 12459.5547724\ttotal: 6.97s\tremaining: 12.7s\n",
            "355:\tlearn: 12447.7054498\ttotal: 6.98s\tremaining: 12.6s\n",
            "356:\tlearn: 12418.5032342\ttotal: 7s\tremaining: 12.6s\n",
            "357:\tlearn: 12397.0608546\ttotal: 7.02s\tremaining: 12.6s\n",
            "358:\tlearn: 12378.3538491\ttotal: 7.03s\tremaining: 12.6s\n",
            "359:\tlearn: 12357.0276422\ttotal: 7.04s\tremaining: 12.5s\n",
            "360:\tlearn: 12325.5856402\ttotal: 7.06s\tremaining: 12.5s\n",
            "361:\tlearn: 12305.2454683\ttotal: 7.07s\tremaining: 12.5s\n",
            "362:\tlearn: 12289.1459075\ttotal: 7.08s\tremaining: 12.4s\n",
            "363:\tlearn: 12263.7935964\ttotal: 7.09s\tremaining: 12.4s\n",
            "364:\tlearn: 12245.0194985\ttotal: 7.12s\tremaining: 12.4s\n",
            "365:\tlearn: 12203.2104408\ttotal: 7.13s\tremaining: 12.4s\n",
            "366:\tlearn: 12174.8442475\ttotal: 7.15s\tremaining: 12.3s\n",
            "367:\tlearn: 12148.7932533\ttotal: 7.16s\tremaining: 12.3s\n",
            "368:\tlearn: 12117.2491634\ttotal: 7.17s\tremaining: 12.3s\n",
            "369:\tlearn: 12109.1963040\ttotal: 7.18s\tremaining: 12.2s\n",
            "370:\tlearn: 12093.8011364\ttotal: 7.2s\tremaining: 12.2s\n",
            "371:\tlearn: 12069.2288038\ttotal: 7.21s\tremaining: 12.2s\n",
            "372:\tlearn: 12061.1728317\ttotal: 7.23s\tremaining: 12.2s\n",
            "373:\tlearn: 12040.9339294\ttotal: 7.24s\tremaining: 12.1s\n",
            "374:\tlearn: 12032.4220097\ttotal: 7.27s\tremaining: 12.1s\n",
            "375:\tlearn: 12003.3195951\ttotal: 7.32s\tremaining: 12.1s\n",
            "376:\tlearn: 11989.2031421\ttotal: 7.34s\tremaining: 12.1s\n",
            "377:\tlearn: 11973.1354012\ttotal: 7.36s\tremaining: 12.1s\n",
            "378:\tlearn: 11954.9083268\ttotal: 7.37s\tremaining: 12.1s\n",
            "379:\tlearn: 11930.0712621\ttotal: 7.4s\tremaining: 12.1s\n",
            "380:\tlearn: 11902.8429817\ttotal: 7.43s\tremaining: 12.1s\n",
            "381:\tlearn: 11875.5002212\ttotal: 7.45s\tremaining: 12.1s\n",
            "382:\tlearn: 11851.3456911\ttotal: 7.47s\tremaining: 12s\n",
            "383:\tlearn: 11831.4183984\ttotal: 7.48s\tremaining: 12s\n",
            "384:\tlearn: 11809.4737364\ttotal: 7.5s\tremaining: 12s\n",
            "385:\tlearn: 11790.4741707\ttotal: 7.52s\tremaining: 12s\n",
            "386:\tlearn: 11768.1271861\ttotal: 7.53s\tremaining: 11.9s\n",
            "387:\tlearn: 11746.0027629\ttotal: 7.55s\tremaining: 11.9s\n",
            "388:\tlearn: 11723.4038571\ttotal: 7.57s\tremaining: 11.9s\n",
            "389:\tlearn: 11704.0734691\ttotal: 7.58s\tremaining: 11.9s\n",
            "390:\tlearn: 11689.8011200\ttotal: 7.59s\tremaining: 11.8s\n",
            "391:\tlearn: 11685.2324222\ttotal: 7.6s\tremaining: 11.8s\n",
            "392:\tlearn: 11654.6080215\ttotal: 7.61s\tremaining: 11.8s\n",
            "393:\tlearn: 11635.3531884\ttotal: 7.62s\tremaining: 11.7s\n",
            "394:\tlearn: 11632.3489223\ttotal: 7.63s\tremaining: 11.7s\n",
            "395:\tlearn: 11611.1118184\ttotal: 7.65s\tremaining: 11.7s\n",
            "396:\tlearn: 11607.2493811\ttotal: 7.66s\tremaining: 11.6s\n",
            "397:\tlearn: 11585.6724014\ttotal: 7.67s\tremaining: 11.6s\n",
            "398:\tlearn: 11566.8652714\ttotal: 7.68s\tremaining: 11.6s\n",
            "399:\tlearn: 11548.0039670\ttotal: 7.7s\tremaining: 11.5s\n",
            "400:\tlearn: 11525.1992416\ttotal: 7.71s\tremaining: 11.5s\n",
            "401:\tlearn: 11500.5335762\ttotal: 7.73s\tremaining: 11.5s\n",
            "402:\tlearn: 11488.1361891\ttotal: 7.74s\tremaining: 11.5s\n",
            "403:\tlearn: 11471.5652987\ttotal: 7.78s\tremaining: 11.5s\n",
            "404:\tlearn: 11461.3288518\ttotal: 7.79s\tremaining: 11.4s\n",
            "405:\tlearn: 11444.9283896\ttotal: 7.81s\tremaining: 11.4s\n",
            "406:\tlearn: 11432.4061630\ttotal: 7.83s\tremaining: 11.4s\n",
            "407:\tlearn: 11405.9356803\ttotal: 7.85s\tremaining: 11.4s\n",
            "408:\tlearn: 11379.0293754\ttotal: 7.88s\tremaining: 11.4s\n",
            "409:\tlearn: 11356.3418743\ttotal: 7.89s\tremaining: 11.3s\n",
            "410:\tlearn: 11330.1771951\ttotal: 7.9s\tremaining: 11.3s\n",
            "411:\tlearn: 11318.8566742\ttotal: 7.91s\tremaining: 11.3s\n",
            "412:\tlearn: 11304.8165924\ttotal: 7.93s\tremaining: 11.3s\n",
            "413:\tlearn: 11281.3786412\ttotal: 7.95s\tremaining: 11.2s\n",
            "414:\tlearn: 11261.5042304\ttotal: 7.96s\tremaining: 11.2s\n",
            "415:\tlearn: 11239.9495672\ttotal: 7.98s\tremaining: 11.2s\n",
            "416:\tlearn: 11233.2764117\ttotal: 8s\tremaining: 11.2s\n",
            "417:\tlearn: 11220.2864303\ttotal: 8.01s\tremaining: 11.2s\n",
            "418:\tlearn: 11208.3333948\ttotal: 8.03s\tremaining: 11.1s\n",
            "419:\tlearn: 11194.9089464\ttotal: 8.04s\tremaining: 11.1s\n",
            "420:\tlearn: 11190.4489743\ttotal: 8.06s\tremaining: 11.1s\n",
            "421:\tlearn: 11177.6681824\ttotal: 8.1s\tremaining: 11.1s\n",
            "422:\tlearn: 11170.7387444\ttotal: 8.11s\tremaining: 11.1s\n",
            "423:\tlearn: 11142.1235533\ttotal: 8.13s\tremaining: 11s\n",
            "424:\tlearn: 11138.1192728\ttotal: 8.14s\tremaining: 11s\n",
            "425:\tlearn: 11124.0585206\ttotal: 8.16s\tremaining: 11s\n",
            "426:\tlearn: 11108.7499362\ttotal: 8.18s\tremaining: 11s\n",
            "427:\tlearn: 11091.2368252\ttotal: 8.19s\tremaining: 11s\n",
            "428:\tlearn: 11068.3896214\ttotal: 8.21s\tremaining: 10.9s\n",
            "429:\tlearn: 11062.3507452\ttotal: 8.22s\tremaining: 10.9s\n",
            "430:\tlearn: 11048.4320202\ttotal: 8.24s\tremaining: 10.9s\n",
            "431:\tlearn: 11020.6273947\ttotal: 8.26s\tremaining: 10.9s\n",
            "432:\tlearn: 11018.0494544\ttotal: 8.28s\tremaining: 10.8s\n",
            "433:\tlearn: 11010.0098928\ttotal: 8.3s\tremaining: 10.8s\n",
            "434:\tlearn: 10993.9646224\ttotal: 8.35s\tremaining: 10.8s\n",
            "435:\tlearn: 10967.9007143\ttotal: 8.37s\tremaining: 10.8s\n",
            "436:\tlearn: 10964.4939633\ttotal: 8.4s\tremaining: 10.8s\n",
            "437:\tlearn: 10947.9316395\ttotal: 8.42s\tremaining: 10.8s\n",
            "438:\tlearn: 10934.8682754\ttotal: 8.45s\tremaining: 10.8s\n",
            "439:\tlearn: 10909.7009155\ttotal: 8.49s\tremaining: 10.8s\n",
            "440:\tlearn: 10890.1269412\ttotal: 8.52s\tremaining: 10.8s\n",
            "441:\tlearn: 10864.4733268\ttotal: 8.55s\tremaining: 10.8s\n",
            "442:\tlearn: 10838.3315757\ttotal: 8.58s\tremaining: 10.8s\n",
            "443:\tlearn: 10819.4650501\ttotal: 8.59s\tremaining: 10.8s\n",
            "444:\tlearn: 10803.0395232\ttotal: 8.6s\tremaining: 10.7s\n",
            "445:\tlearn: 10785.4463491\ttotal: 8.62s\tremaining: 10.7s\n",
            "446:\tlearn: 10766.3561010\ttotal: 8.64s\tremaining: 10.7s\n",
            "447:\tlearn: 10751.4641556\ttotal: 8.66s\tremaining: 10.7s\n",
            "448:\tlearn: 10726.8195393\ttotal: 8.67s\tremaining: 10.6s\n",
            "449:\tlearn: 10719.9840551\ttotal: 8.68s\tremaining: 10.6s\n",
            "450:\tlearn: 10704.4151288\ttotal: 8.69s\tremaining: 10.6s\n",
            "451:\tlearn: 10686.3048924\ttotal: 8.7s\tremaining: 10.5s\n",
            "452:\tlearn: 10665.5824148\ttotal: 8.72s\tremaining: 10.5s\n",
            "453:\tlearn: 10655.9305758\ttotal: 8.74s\tremaining: 10.5s\n",
            "454:\tlearn: 10650.5513516\ttotal: 8.76s\tremaining: 10.5s\n",
            "455:\tlearn: 10629.4800787\ttotal: 8.8s\tremaining: 10.5s\n",
            "456:\tlearn: 10617.2642436\ttotal: 8.81s\tremaining: 10.5s\n",
            "457:\tlearn: 10590.1656679\ttotal: 8.82s\tremaining: 10.4s\n",
            "458:\tlearn: 10583.4176089\ttotal: 8.85s\tremaining: 10.4s\n",
            "459:\tlearn: 10563.8162499\ttotal: 8.87s\tremaining: 10.4s\n",
            "460:\tlearn: 10539.9347006\ttotal: 8.92s\tremaining: 10.4s\n",
            "461:\tlearn: 10527.2496592\ttotal: 8.98s\tremaining: 10.5s\n",
            "462:\tlearn: 10511.6242597\ttotal: 9.04s\tremaining: 10.5s\n",
            "463:\tlearn: 10501.7667575\ttotal: 9.06s\tremaining: 10.5s\n",
            "464:\tlearn: 10471.4099648\ttotal: 9.08s\tremaining: 10.4s\n",
            "465:\tlearn: 10453.3085018\ttotal: 9.11s\tremaining: 10.4s\n",
            "466:\tlearn: 10433.0302850\ttotal: 9.19s\tremaining: 10.5s\n",
            "467:\tlearn: 10414.1182399\ttotal: 9.23s\tremaining: 10.5s\n",
            "468:\tlearn: 10402.5562151\ttotal: 9.28s\tremaining: 10.5s\n",
            "469:\tlearn: 10400.3716039\ttotal: 9.32s\tremaining: 10.5s\n",
            "470:\tlearn: 10384.1165788\ttotal: 9.34s\tremaining: 10.5s\n",
            "471:\tlearn: 10360.0941258\ttotal: 9.36s\tremaining: 10.5s\n",
            "472:\tlearn: 10342.7049170\ttotal: 9.38s\tremaining: 10.4s\n",
            "473:\tlearn: 10331.9400635\ttotal: 9.39s\tremaining: 10.4s\n",
            "474:\tlearn: 10325.3072232\ttotal: 9.4s\tremaining: 10.4s\n",
            "475:\tlearn: 10301.0670170\ttotal: 9.42s\tremaining: 10.4s\n",
            "476:\tlearn: 10275.4823356\ttotal: 9.44s\tremaining: 10.3s\n",
            "477:\tlearn: 10266.7572460\ttotal: 9.46s\tremaining: 10.3s\n",
            "478:\tlearn: 10252.8321481\ttotal: 9.47s\tremaining: 10.3s\n",
            "479:\tlearn: 10233.8559879\ttotal: 9.48s\tremaining: 10.3s\n",
            "480:\tlearn: 10213.8318526\ttotal: 9.5s\tremaining: 10.3s\n",
            "481:\tlearn: 10192.3521650\ttotal: 9.51s\tremaining: 10.2s\n",
            "482:\tlearn: 10175.8691476\ttotal: 9.53s\tremaining: 10.2s\n",
            "483:\tlearn: 10154.3491645\ttotal: 9.54s\tremaining: 10.2s\n",
            "484:\tlearn: 10136.1603997\ttotal: 9.56s\tremaining: 10.1s\n",
            "485:\tlearn: 10130.3121120\ttotal: 9.6s\tremaining: 10.2s\n",
            "486:\tlearn: 10126.5538849\ttotal: 9.64s\tremaining: 10.2s\n",
            "487:\tlearn: 10112.2657013\ttotal: 9.66s\tremaining: 10.1s\n",
            "488:\tlearn: 10090.3892959\ttotal: 9.7s\tremaining: 10.1s\n",
            "489:\tlearn: 10077.7252065\ttotal: 9.73s\tremaining: 10.1s\n",
            "490:\tlearn: 10065.7089648\ttotal: 9.76s\tremaining: 10.1s\n",
            "491:\tlearn: 10048.7579152\ttotal: 9.78s\tremaining: 10.1s\n",
            "492:\tlearn: 10036.9445398\ttotal: 9.81s\tremaining: 10.1s\n",
            "493:\tlearn: 10023.2081761\ttotal: 9.83s\tremaining: 10.1s\n",
            "494:\tlearn: 10013.7296915\ttotal: 9.85s\tremaining: 10.1s\n",
            "495:\tlearn: 10004.0311090\ttotal: 9.87s\tremaining: 10s\n",
            "496:\tlearn: 9991.0253511\ttotal: 9.88s\tremaining: 10s\n",
            "497:\tlearn: 9983.6841125\ttotal: 9.9s\tremaining: 9.98s\n",
            "498:\tlearn: 9966.4267527\ttotal: 9.92s\tremaining: 9.96s\n",
            "499:\tlearn: 9949.3998583\ttotal: 9.94s\tremaining: 9.94s\n",
            "500:\tlearn: 9943.5920180\ttotal: 9.96s\tremaining: 9.92s\n",
            "501:\tlearn: 9939.0773479\ttotal: 9.99s\tremaining: 9.92s\n",
            "502:\tlearn: 9919.9166408\ttotal: 10s\tremaining: 9.91s\n",
            "503:\tlearn: 9918.4030760\ttotal: 10s\tremaining: 9.89s\n",
            "504:\tlearn: 9916.2328479\ttotal: 10.1s\tremaining: 9.87s\n",
            "505:\tlearn: 9900.2886074\ttotal: 10.1s\tremaining: 9.85s\n",
            "506:\tlearn: 9881.6121298\ttotal: 10.1s\tremaining: 9.83s\n",
            "507:\tlearn: 9858.6385638\ttotal: 10.1s\tremaining: 9.81s\n",
            "508:\tlearn: 9844.7518351\ttotal: 10.2s\tremaining: 9.8s\n",
            "509:\tlearn: 9829.8475119\ttotal: 10.2s\tremaining: 9.78s\n",
            "510:\tlearn: 9819.1011897\ttotal: 10.2s\tremaining: 9.76s\n",
            "511:\tlearn: 9801.7982576\ttotal: 10.2s\tremaining: 9.75s\n",
            "512:\tlearn: 9798.6919496\ttotal: 10.3s\tremaining: 9.74s\n",
            "513:\tlearn: 9777.7347332\ttotal: 10.3s\tremaining: 9.73s\n",
            "514:\tlearn: 9762.8321313\ttotal: 10.3s\tremaining: 9.72s\n",
            "515:\tlearn: 9747.4705198\ttotal: 10.3s\tremaining: 9.7s\n",
            "516:\tlearn: 9738.4115358\ttotal: 10.4s\tremaining: 9.68s\n",
            "517:\tlearn: 9717.9755708\ttotal: 10.4s\tremaining: 9.67s\n",
            "518:\tlearn: 9704.2467281\ttotal: 10.4s\tremaining: 9.67s\n",
            "519:\tlearn: 9674.6551224\ttotal: 10.5s\tremaining: 9.66s\n",
            "520:\tlearn: 9671.1285162\ttotal: 10.5s\tremaining: 9.66s\n",
            "521:\tlearn: 9642.1669820\ttotal: 10.5s\tremaining: 9.65s\n",
            "522:\tlearn: 9623.1898484\ttotal: 10.6s\tremaining: 9.63s\n",
            "523:\tlearn: 9607.0044681\ttotal: 10.6s\tremaining: 9.61s\n",
            "524:\tlearn: 9600.2326790\ttotal: 10.6s\tremaining: 9.6s\n",
            "525:\tlearn: 9585.9165950\ttotal: 10.6s\tremaining: 9.6s\n",
            "526:\tlearn: 9564.2295782\ttotal: 10.7s\tremaining: 9.58s\n",
            "527:\tlearn: 9553.0042961\ttotal: 10.7s\tremaining: 9.56s\n",
            "528:\tlearn: 9544.7073256\ttotal: 10.7s\tremaining: 9.55s\n",
            "529:\tlearn: 9533.2439805\ttotal: 10.7s\tremaining: 9.53s\n",
            "530:\tlearn: 9531.3756167\ttotal: 10.8s\tremaining: 9.51s\n",
            "531:\tlearn: 9519.1922345\ttotal: 10.8s\tremaining: 9.49s\n",
            "532:\tlearn: 9516.8601338\ttotal: 10.8s\tremaining: 9.5s\n",
            "533:\tlearn: 9490.9082712\ttotal: 10.9s\tremaining: 9.47s\n",
            "534:\tlearn: 9478.8007817\ttotal: 10.9s\tremaining: 9.46s\n",
            "535:\tlearn: 9472.2003056\ttotal: 10.9s\tremaining: 9.44s\n",
            "536:\tlearn: 9468.2699254\ttotal: 10.9s\tremaining: 9.43s\n",
            "537:\tlearn: 9462.4976352\ttotal: 11s\tremaining: 9.42s\n",
            "538:\tlearn: 9446.8884641\ttotal: 11s\tremaining: 9.39s\n",
            "539:\tlearn: 9429.8966957\ttotal: 11s\tremaining: 9.37s\n",
            "540:\tlearn: 9416.2649330\ttotal: 11s\tremaining: 9.36s\n",
            "541:\tlearn: 9399.1604248\ttotal: 11s\tremaining: 9.34s\n",
            "542:\tlearn: 9384.1478647\ttotal: 11.1s\tremaining: 9.31s\n",
            "543:\tlearn: 9365.2163538\ttotal: 11.1s\tremaining: 9.3s\n",
            "544:\tlearn: 9349.4152420\ttotal: 11.1s\tremaining: 9.27s\n",
            "545:\tlearn: 9343.0626000\ttotal: 11.1s\tremaining: 9.25s\n",
            "546:\tlearn: 9331.2257652\ttotal: 11.1s\tremaining: 9.23s\n",
            "547:\tlearn: 9314.1639040\ttotal: 11.2s\tremaining: 9.22s\n",
            "548:\tlearn: 9309.4982217\ttotal: 11.2s\tremaining: 9.22s\n",
            "549:\tlearn: 9285.0445043\ttotal: 11.2s\tremaining: 9.2s\n",
            "550:\tlearn: 9270.5804566\ttotal: 11.3s\tremaining: 9.18s\n",
            "551:\tlearn: 9249.7558290\ttotal: 11.3s\tremaining: 9.16s\n",
            "552:\tlearn: 9232.7324155\ttotal: 11.3s\tremaining: 9.14s\n",
            "553:\tlearn: 9212.7245064\ttotal: 11.3s\tremaining: 9.13s\n",
            "554:\tlearn: 9209.9584646\ttotal: 11.4s\tremaining: 9.11s\n",
            "555:\tlearn: 9187.7403435\ttotal: 11.4s\tremaining: 9.09s\n",
            "556:\tlearn: 9169.9698418\ttotal: 11.4s\tremaining: 9.07s\n",
            "557:\tlearn: 9149.9487118\ttotal: 11.4s\tremaining: 9.05s\n",
            "558:\tlearn: 9142.3220153\ttotal: 11.4s\tremaining: 9.03s\n",
            "559:\tlearn: 9120.4915923\ttotal: 11.5s\tremaining: 9s\n",
            "560:\tlearn: 9107.6333604\ttotal: 11.5s\tremaining: 8.99s\n",
            "561:\tlearn: 9104.6397418\ttotal: 11.5s\tremaining: 8.97s\n",
            "562:\tlearn: 9082.0923200\ttotal: 11.5s\tremaining: 8.95s\n",
            "563:\tlearn: 9068.3347855\ttotal: 11.5s\tremaining: 8.92s\n",
            "564:\tlearn: 9052.7821668\ttotal: 11.6s\tremaining: 8.9s\n",
            "565:\tlearn: 9038.4865838\ttotal: 11.6s\tremaining: 8.88s\n",
            "566:\tlearn: 9018.8025269\ttotal: 11.6s\tremaining: 8.86s\n",
            "567:\tlearn: 9005.5531585\ttotal: 11.6s\tremaining: 8.84s\n",
            "568:\tlearn: 8991.9464909\ttotal: 11.6s\tremaining: 8.82s\n",
            "569:\tlearn: 8976.2817888\ttotal: 11.7s\tremaining: 8.79s\n",
            "570:\tlearn: 8963.1449585\ttotal: 11.7s\tremaining: 8.77s\n",
            "571:\tlearn: 8954.9184284\ttotal: 11.7s\tremaining: 8.75s\n",
            "572:\tlearn: 8933.8757401\ttotal: 11.8s\tremaining: 8.76s\n",
            "573:\tlearn: 8923.2060448\ttotal: 11.8s\tremaining: 8.74s\n",
            "574:\tlearn: 8907.6423664\ttotal: 11.8s\tremaining: 8.72s\n",
            "575:\tlearn: 8899.8100318\ttotal: 11.8s\tremaining: 8.7s\n",
            "576:\tlearn: 8897.1055511\ttotal: 11.8s\tremaining: 8.67s\n",
            "577:\tlearn: 8894.3429217\ttotal: 11.8s\tremaining: 8.64s\n",
            "578:\tlearn: 8893.2252724\ttotal: 11.8s\tremaining: 8.62s\n",
            "579:\tlearn: 8885.3574007\ttotal: 11.9s\tremaining: 8.58s\n",
            "580:\tlearn: 8870.7302963\ttotal: 11.9s\tremaining: 8.55s\n",
            "581:\tlearn: 8866.3447745\ttotal: 11.9s\tremaining: 8.53s\n",
            "582:\tlearn: 8857.2157480\ttotal: 11.9s\tremaining: 8.5s\n",
            "583:\tlearn: 8852.4502273\ttotal: 11.9s\tremaining: 8.47s\n",
            "584:\tlearn: 8845.0052948\ttotal: 11.9s\tremaining: 8.44s\n",
            "585:\tlearn: 8844.1454946\ttotal: 11.9s\tremaining: 8.41s\n",
            "586:\tlearn: 8833.3919385\ttotal: 11.9s\tremaining: 8.38s\n",
            "587:\tlearn: 8823.8961400\ttotal: 11.9s\tremaining: 8.36s\n",
            "588:\tlearn: 8809.5348796\ttotal: 11.9s\tremaining: 8.33s\n",
            "589:\tlearn: 8796.4141467\ttotal: 11.9s\tremaining: 8.3s\n",
            "590:\tlearn: 8780.6763010\ttotal: 12s\tremaining: 8.27s\n",
            "591:\tlearn: 8777.2664757\ttotal: 12s\tremaining: 8.25s\n",
            "592:\tlearn: 8776.0129195\ttotal: 12s\tremaining: 8.23s\n",
            "593:\tlearn: 8756.9187478\ttotal: 12s\tremaining: 8.21s\n",
            "594:\tlearn: 8733.2521264\ttotal: 12s\tremaining: 8.19s\n",
            "595:\tlearn: 8714.3956844\ttotal: 12.1s\tremaining: 8.17s\n",
            "596:\tlearn: 8696.4880810\ttotal: 12.1s\tremaining: 8.15s\n",
            "597:\tlearn: 8682.3830788\ttotal: 12.1s\tremaining: 8.13s\n",
            "598:\tlearn: 8664.2217245\ttotal: 12.1s\tremaining: 8.1s\n",
            "599:\tlearn: 8646.2319898\ttotal: 12.1s\tremaining: 8.07s\n",
            "600:\tlearn: 8632.5166008\ttotal: 12.1s\tremaining: 8.04s\n",
            "601:\tlearn: 8626.6426103\ttotal: 12.1s\tremaining: 8.01s\n",
            "602:\tlearn: 8613.0748966\ttotal: 12.1s\tremaining: 7.99s\n",
            "603:\tlearn: 8598.8462874\ttotal: 12.2s\tremaining: 7.97s\n",
            "604:\tlearn: 8597.0662526\ttotal: 12.2s\tremaining: 7.95s\n",
            "605:\tlearn: 8589.9527698\ttotal: 12.2s\tremaining: 7.93s\n",
            "606:\tlearn: 8574.2442313\ttotal: 12.2s\tremaining: 7.92s\n",
            "607:\tlearn: 8562.2221863\ttotal: 12.3s\tremaining: 7.9s\n",
            "608:\tlearn: 8552.9465274\ttotal: 12.3s\tremaining: 7.88s\n",
            "609:\tlearn: 8550.8872440\ttotal: 12.3s\tremaining: 7.86s\n",
            "610:\tlearn: 8537.6004875\ttotal: 12.3s\tremaining: 7.84s\n",
            "611:\tlearn: 8533.5605956\ttotal: 12.3s\tremaining: 7.81s\n",
            "612:\tlearn: 8512.3814089\ttotal: 12.3s\tremaining: 7.78s\n",
            "613:\tlearn: 8497.1297780\ttotal: 12.3s\tremaining: 7.75s\n",
            "614:\tlearn: 8489.4247623\ttotal: 12.3s\tremaining: 7.73s\n",
            "615:\tlearn: 8487.9429601\ttotal: 12.4s\tremaining: 7.7s\n",
            "616:\tlearn: 8473.4045636\ttotal: 12.4s\tremaining: 7.67s\n",
            "617:\tlearn: 8459.4983504\ttotal: 12.4s\tremaining: 7.65s\n",
            "618:\tlearn: 8437.0545899\ttotal: 12.4s\tremaining: 7.62s\n",
            "619:\tlearn: 8423.3871741\ttotal: 12.4s\tremaining: 7.59s\n",
            "620:\tlearn: 8401.4484438\ttotal: 12.4s\tremaining: 7.57s\n",
            "621:\tlearn: 8390.1571040\ttotal: 12.4s\tremaining: 7.55s\n",
            "622:\tlearn: 8380.2886484\ttotal: 12.4s\tremaining: 7.52s\n",
            "623:\tlearn: 8378.9915243\ttotal: 12.4s\tremaining: 7.49s\n",
            "624:\tlearn: 8368.6276646\ttotal: 12.4s\tremaining: 7.47s\n",
            "625:\tlearn: 8362.9243091\ttotal: 12.5s\tremaining: 7.44s\n",
            "626:\tlearn: 8345.9198602\ttotal: 12.5s\tremaining: 7.42s\n",
            "627:\tlearn: 8328.3213093\ttotal: 12.5s\tremaining: 7.39s\n",
            "628:\tlearn: 8317.6564785\ttotal: 12.5s\tremaining: 7.37s\n",
            "629:\tlearn: 8304.4322679\ttotal: 12.5s\tremaining: 7.35s\n",
            "630:\tlearn: 8292.1199758\ttotal: 12.5s\tremaining: 7.33s\n",
            "631:\tlearn: 8276.8124746\ttotal: 12.5s\tremaining: 7.3s\n",
            "632:\tlearn: 8261.3571493\ttotal: 12.5s\tremaining: 7.27s\n",
            "633:\tlearn: 8258.4840772\ttotal: 12.6s\tremaining: 7.25s\n",
            "634:\tlearn: 8245.0201484\ttotal: 12.6s\tremaining: 7.22s\n",
            "635:\tlearn: 8236.4887716\ttotal: 12.6s\tremaining: 7.19s\n",
            "636:\tlearn: 8234.3552307\ttotal: 12.6s\tremaining: 7.18s\n",
            "637:\tlearn: 8223.3622490\ttotal: 12.6s\tremaining: 7.17s\n",
            "638:\tlearn: 8205.5106946\ttotal: 12.7s\tremaining: 7.15s\n",
            "639:\tlearn: 8193.2013902\ttotal: 12.7s\tremaining: 7.14s\n",
            "640:\tlearn: 8178.1385060\ttotal: 12.7s\tremaining: 7.13s\n",
            "641:\tlearn: 8177.0498219\ttotal: 12.8s\tremaining: 7.11s\n",
            "642:\tlearn: 8166.8592357\ttotal: 12.8s\tremaining: 7.1s\n",
            "643:\tlearn: 8157.9405081\ttotal: 12.8s\tremaining: 7.08s\n",
            "644:\tlearn: 8155.6973239\ttotal: 12.8s\tremaining: 7.05s\n",
            "645:\tlearn: 8143.6537028\ttotal: 12.8s\tremaining: 7.03s\n",
            "646:\tlearn: 8134.1067762\ttotal: 12.8s\tremaining: 7.01s\n",
            "647:\tlearn: 8123.9764298\ttotal: 12.9s\tremaining: 6.98s\n",
            "648:\tlearn: 8108.8080725\ttotal: 12.9s\tremaining: 6.96s\n",
            "649:\tlearn: 8088.6659107\ttotal: 12.9s\tremaining: 6.95s\n",
            "650:\tlearn: 8078.7310598\ttotal: 12.9s\tremaining: 6.92s\n",
            "651:\tlearn: 8065.3375358\ttotal: 12.9s\tremaining: 6.91s\n",
            "652:\tlearn: 8051.6324829\ttotal: 13s\tremaining: 6.89s\n",
            "653:\tlearn: 8027.1439720\ttotal: 13s\tremaining: 6.86s\n",
            "654:\tlearn: 8009.7238001\ttotal: 13s\tremaining: 6.84s\n",
            "655:\tlearn: 7999.4152545\ttotal: 13s\tremaining: 6.82s\n",
            "656:\tlearn: 7985.8828257\ttotal: 13s\tremaining: 6.8s\n",
            "657:\tlearn: 7969.8056455\ttotal: 13s\tremaining: 6.77s\n",
            "658:\tlearn: 7957.6221582\ttotal: 13s\tremaining: 6.74s\n",
            "659:\tlearn: 7944.7594936\ttotal: 13s\tremaining: 6.72s\n",
            "660:\tlearn: 7932.4810566\ttotal: 13.1s\tremaining: 6.69s\n",
            "661:\tlearn: 7919.5516300\ttotal: 13.1s\tremaining: 6.67s\n",
            "662:\tlearn: 7911.4384376\ttotal: 13.1s\tremaining: 6.64s\n",
            "663:\tlearn: 7896.3032794\ttotal: 13.1s\tremaining: 6.62s\n",
            "664:\tlearn: 7879.1600261\ttotal: 13.1s\tremaining: 6.59s\n",
            "665:\tlearn: 7874.7181483\ttotal: 13.1s\tremaining: 6.58s\n",
            "666:\tlearn: 7865.1097800\ttotal: 13.1s\tremaining: 6.55s\n",
            "667:\tlearn: 7856.7051511\ttotal: 13.1s\tremaining: 6.53s\n",
            "668:\tlearn: 7840.4373645\ttotal: 13.2s\tremaining: 6.51s\n",
            "669:\tlearn: 7825.3581564\ttotal: 13.2s\tremaining: 6.49s\n",
            "670:\tlearn: 7810.8355823\ttotal: 13.2s\tremaining: 6.46s\n",
            "671:\tlearn: 7809.2219408\ttotal: 13.2s\tremaining: 6.44s\n",
            "672:\tlearn: 7792.3912268\ttotal: 13.2s\tremaining: 6.41s\n",
            "673:\tlearn: 7783.5055564\ttotal: 13.2s\tremaining: 6.39s\n",
            "674:\tlearn: 7772.0150922\ttotal: 13.2s\tremaining: 6.36s\n",
            "675:\tlearn: 7760.7600418\ttotal: 13.2s\tremaining: 6.34s\n",
            "676:\tlearn: 7745.3274627\ttotal: 13.2s\tremaining: 6.32s\n",
            "677:\tlearn: 7731.7814117\ttotal: 13.2s\tremaining: 6.29s\n",
            "678:\tlearn: 7730.2485785\ttotal: 13.3s\tremaining: 6.27s\n",
            "679:\tlearn: 7714.2393694\ttotal: 13.3s\tremaining: 6.24s\n",
            "680:\tlearn: 7713.2133685\ttotal: 13.3s\tremaining: 6.22s\n",
            "681:\tlearn: 7706.0215513\ttotal: 13.3s\tremaining: 6.19s\n",
            "682:\tlearn: 7692.3499057\ttotal: 13.3s\tremaining: 6.17s\n",
            "683:\tlearn: 7674.8463933\ttotal: 13.3s\tremaining: 6.15s\n",
            "684:\tlearn: 7658.7208852\ttotal: 13.3s\tremaining: 6.12s\n",
            "685:\tlearn: 7651.7827955\ttotal: 13.3s\tremaining: 6.1s\n",
            "686:\tlearn: 7650.4034009\ttotal: 13.3s\tremaining: 6.08s\n",
            "687:\tlearn: 7636.5458295\ttotal: 13.4s\tremaining: 6.06s\n",
            "688:\tlearn: 7631.4337779\ttotal: 13.4s\tremaining: 6.04s\n",
            "689:\tlearn: 7621.5446094\ttotal: 13.4s\tremaining: 6.02s\n",
            "690:\tlearn: 7612.9226919\ttotal: 13.4s\tremaining: 6.01s\n",
            "691:\tlearn: 7601.9771625\ttotal: 13.5s\tremaining: 5.99s\n",
            "692:\tlearn: 7587.3775832\ttotal: 13.5s\tremaining: 5.97s\n",
            "693:\tlearn: 7572.1216000\ttotal: 13.5s\tremaining: 5.96s\n",
            "694:\tlearn: 7559.8884418\ttotal: 13.5s\tremaining: 5.94s\n",
            "695:\tlearn: 7558.3923150\ttotal: 13.5s\tremaining: 5.91s\n",
            "696:\tlearn: 7548.7692827\ttotal: 13.5s\tremaining: 5.89s\n",
            "697:\tlearn: 7546.3962928\ttotal: 13.6s\tremaining: 5.87s\n",
            "698:\tlearn: 7532.9426447\ttotal: 13.6s\tremaining: 5.84s\n",
            "699:\tlearn: 7522.8974446\ttotal: 13.6s\tremaining: 5.82s\n",
            "700:\tlearn: 7515.3442677\ttotal: 13.6s\tremaining: 5.8s\n",
            "701:\tlearn: 7501.4159700\ttotal: 13.6s\tremaining: 5.78s\n",
            "702:\tlearn: 7493.8033921\ttotal: 13.6s\tremaining: 5.76s\n",
            "703:\tlearn: 7493.1663253\ttotal: 13.6s\tremaining: 5.74s\n",
            "704:\tlearn: 7483.8209271\ttotal: 13.7s\tremaining: 5.72s\n",
            "705:\tlearn: 7477.2325085\ttotal: 13.7s\tremaining: 5.7s\n",
            "706:\tlearn: 7466.6620973\ttotal: 13.7s\tremaining: 5.68s\n",
            "707:\tlearn: 7463.9507198\ttotal: 13.7s\tremaining: 5.66s\n",
            "708:\tlearn: 7451.4026046\ttotal: 13.7s\tremaining: 5.64s\n",
            "709:\tlearn: 7446.8622908\ttotal: 13.8s\tremaining: 5.62s\n",
            "710:\tlearn: 7433.3936751\ttotal: 13.8s\tremaining: 5.6s\n",
            "711:\tlearn: 7428.5715981\ttotal: 13.8s\tremaining: 5.58s\n",
            "712:\tlearn: 7416.8961841\ttotal: 13.8s\tremaining: 5.57s\n",
            "713:\tlearn: 7416.1597516\ttotal: 13.8s\tremaining: 5.55s\n",
            "714:\tlearn: 7412.0463181\ttotal: 13.9s\tremaining: 5.53s\n",
            "715:\tlearn: 7404.0818880\ttotal: 13.9s\tremaining: 5.51s\n",
            "716:\tlearn: 7391.1150025\ttotal: 13.9s\tremaining: 5.49s\n",
            "717:\tlearn: 7381.3126993\ttotal: 13.9s\tremaining: 5.47s\n",
            "718:\tlearn: 7367.5267495\ttotal: 13.9s\tremaining: 5.45s\n",
            "719:\tlearn: 7355.9175652\ttotal: 14s\tremaining: 5.43s\n",
            "720:\tlearn: 7355.1045312\ttotal: 14s\tremaining: 5.41s\n",
            "721:\tlearn: 7341.6135999\ttotal: 14s\tremaining: 5.39s\n",
            "722:\tlearn: 7333.7212383\ttotal: 14s\tremaining: 5.37s\n",
            "723:\tlearn: 7327.7910346\ttotal: 14s\tremaining: 5.35s\n",
            "724:\tlearn: 7314.6019068\ttotal: 14.1s\tremaining: 5.33s\n",
            "725:\tlearn: 7299.7934330\ttotal: 14.1s\tremaining: 5.31s\n",
            "726:\tlearn: 7290.3814475\ttotal: 14.1s\tremaining: 5.29s\n",
            "727:\tlearn: 7288.1939664\ttotal: 14.1s\tremaining: 5.26s\n",
            "728:\tlearn: 7274.1435727\ttotal: 14.1s\tremaining: 5.24s\n",
            "729:\tlearn: 7261.5643788\ttotal: 14.1s\tremaining: 5.22s\n",
            "730:\tlearn: 7253.4383435\ttotal: 14.1s\tremaining: 5.2s\n",
            "731:\tlearn: 7245.1797353\ttotal: 14.1s\tremaining: 5.17s\n",
            "732:\tlearn: 7236.7226074\ttotal: 14.1s\tremaining: 5.15s\n",
            "733:\tlearn: 7222.3717519\ttotal: 14.1s\tremaining: 5.13s\n",
            "734:\tlearn: 7220.9895646\ttotal: 14.2s\tremaining: 5.1s\n",
            "735:\tlearn: 7211.5608583\ttotal: 14.2s\tremaining: 5.08s\n",
            "736:\tlearn: 7203.1892151\ttotal: 14.2s\tremaining: 5.06s\n",
            "737:\tlearn: 7200.3606268\ttotal: 14.2s\tremaining: 5.04s\n",
            "738:\tlearn: 7196.5779955\ttotal: 14.2s\tremaining: 5.01s\n",
            "739:\tlearn: 7183.9862331\ttotal: 14.2s\tremaining: 4.99s\n",
            "740:\tlearn: 7172.2198376\ttotal: 14.2s\tremaining: 4.97s\n",
            "741:\tlearn: 7155.0337723\ttotal: 14.2s\tremaining: 4.95s\n",
            "742:\tlearn: 7142.9713044\ttotal: 14.2s\tremaining: 4.92s\n",
            "743:\tlearn: 7129.7134151\ttotal: 14.2s\tremaining: 4.9s\n",
            "744:\tlearn: 7116.8990847\ttotal: 14.3s\tremaining: 4.89s\n",
            "745:\tlearn: 7099.8527409\ttotal: 14.3s\tremaining: 4.86s\n",
            "746:\tlearn: 7099.1112794\ttotal: 14.3s\tremaining: 4.84s\n",
            "747:\tlearn: 7094.6000888\ttotal: 14.3s\tremaining: 4.82s\n",
            "748:\tlearn: 7083.0146242\ttotal: 14.3s\tremaining: 4.8s\n",
            "749:\tlearn: 7070.0460140\ttotal: 14.4s\tremaining: 4.79s\n",
            "750:\tlearn: 7059.2641148\ttotal: 14.4s\tremaining: 4.78s\n",
            "751:\tlearn: 7048.2527675\ttotal: 14.4s\tremaining: 4.76s\n",
            "752:\tlearn: 7036.8985970\ttotal: 14.5s\tremaining: 4.74s\n",
            "753:\tlearn: 7026.7760095\ttotal: 14.5s\tremaining: 4.72s\n",
            "754:\tlearn: 7016.0911906\ttotal: 14.5s\tremaining: 4.71s\n",
            "755:\tlearn: 6996.2711939\ttotal: 14.5s\tremaining: 4.69s\n",
            "756:\tlearn: 6982.2406193\ttotal: 14.6s\tremaining: 4.67s\n",
            "757:\tlearn: 6971.1617019\ttotal: 14.6s\tremaining: 4.66s\n",
            "758:\tlearn: 6958.6118383\ttotal: 14.6s\tremaining: 4.64s\n",
            "759:\tlearn: 6953.5030780\ttotal: 14.6s\tremaining: 4.63s\n",
            "760:\tlearn: 6942.4180727\ttotal: 14.7s\tremaining: 4.61s\n",
            "761:\tlearn: 6940.1375102\ttotal: 14.7s\tremaining: 4.59s\n",
            "762:\tlearn: 6929.2798698\ttotal: 14.7s\tremaining: 4.57s\n",
            "763:\tlearn: 6919.7750518\ttotal: 14.7s\tremaining: 4.55s\n",
            "764:\tlearn: 6918.9433820\ttotal: 14.7s\tremaining: 4.53s\n",
            "765:\tlearn: 6905.9606370\ttotal: 14.8s\tremaining: 4.51s\n",
            "766:\tlearn: 6889.9881291\ttotal: 14.8s\tremaining: 4.49s\n",
            "767:\tlearn: 6881.2043918\ttotal: 14.8s\tremaining: 4.48s\n",
            "768:\tlearn: 6879.8921712\ttotal: 14.8s\tremaining: 4.46s\n",
            "769:\tlearn: 6866.6430375\ttotal: 14.9s\tremaining: 4.44s\n",
            "770:\tlearn: 6858.8006891\ttotal: 14.9s\tremaining: 4.42s\n",
            "771:\tlearn: 6851.6457368\ttotal: 14.9s\tremaining: 4.4s\n",
            "772:\tlearn: 6836.9316865\ttotal: 14.9s\tremaining: 4.38s\n",
            "773:\tlearn: 6824.9416495\ttotal: 14.9s\tremaining: 4.37s\n",
            "774:\tlearn: 6817.2467544\ttotal: 15s\tremaining: 4.34s\n",
            "775:\tlearn: 6804.6764926\ttotal: 15s\tremaining: 4.33s\n",
            "776:\tlearn: 6791.5269219\ttotal: 15s\tremaining: 4.3s\n",
            "777:\tlearn: 6780.6495551\ttotal: 15s\tremaining: 4.28s\n",
            "778:\tlearn: 6769.6312429\ttotal: 15s\tremaining: 4.26s\n",
            "779:\tlearn: 6761.7093375\ttotal: 15.1s\tremaining: 4.25s\n",
            "780:\tlearn: 6757.1035277\ttotal: 15.1s\tremaining: 4.23s\n",
            "781:\tlearn: 6745.8548329\ttotal: 15.1s\tremaining: 4.21s\n",
            "782:\tlearn: 6737.5488950\ttotal: 15.1s\tremaining: 4.18s\n",
            "783:\tlearn: 6732.8015995\ttotal: 15.1s\tremaining: 4.16s\n",
            "784:\tlearn: 6723.3344492\ttotal: 15.1s\tremaining: 4.14s\n",
            "785:\tlearn: 6710.6924823\ttotal: 15.1s\tremaining: 4.12s\n",
            "786:\tlearn: 6704.3224802\ttotal: 15.1s\tremaining: 4.09s\n",
            "787:\tlearn: 6690.2289113\ttotal: 15.1s\tremaining: 4.07s\n",
            "788:\tlearn: 6687.5568605\ttotal: 15.1s\tremaining: 4.05s\n",
            "789:\tlearn: 6680.5667238\ttotal: 15.2s\tremaining: 4.03s\n",
            "790:\tlearn: 6678.3867164\ttotal: 15.2s\tremaining: 4.01s\n",
            "791:\tlearn: 6671.7489188\ttotal: 15.2s\tremaining: 3.98s\n",
            "792:\tlearn: 6656.6462324\ttotal: 15.2s\tremaining: 3.96s\n",
            "793:\tlearn: 6647.6577171\ttotal: 15.2s\tremaining: 3.94s\n",
            "794:\tlearn: 6640.8360876\ttotal: 15.2s\tremaining: 3.92s\n",
            "795:\tlearn: 6630.4455721\ttotal: 15.2s\tremaining: 3.9s\n",
            "796:\tlearn: 6619.3981558\ttotal: 15.2s\tremaining: 3.88s\n",
            "797:\tlearn: 6616.0431940\ttotal: 15.3s\tremaining: 3.86s\n",
            "798:\tlearn: 6603.5114716\ttotal: 15.3s\tremaining: 3.84s\n",
            "799:\tlearn: 6598.1084883\ttotal: 15.3s\tremaining: 3.82s\n",
            "800:\tlearn: 6591.2276153\ttotal: 15.3s\tremaining: 3.8s\n",
            "801:\tlearn: 6585.9284121\ttotal: 15.3s\tremaining: 3.78s\n",
            "802:\tlearn: 6577.0437659\ttotal: 15.3s\tremaining: 3.75s\n",
            "803:\tlearn: 6569.7323235\ttotal: 15.3s\tremaining: 3.73s\n",
            "804:\tlearn: 6569.0146398\ttotal: 15.3s\tremaining: 3.71s\n",
            "805:\tlearn: 6557.9479448\ttotal: 15.3s\tremaining: 3.69s\n",
            "806:\tlearn: 6553.5726274\ttotal: 15.3s\tremaining: 3.67s\n",
            "807:\tlearn: 6551.3708764\ttotal: 15.3s\tremaining: 3.65s\n",
            "808:\tlearn: 6538.3948893\ttotal: 15.4s\tremaining: 3.63s\n",
            "809:\tlearn: 6526.0202187\ttotal: 15.4s\tremaining: 3.6s\n",
            "810:\tlearn: 6517.7076584\ttotal: 15.4s\tremaining: 3.58s\n",
            "811:\tlearn: 6515.3144242\ttotal: 15.4s\tremaining: 3.56s\n",
            "812:\tlearn: 6513.3806433\ttotal: 15.4s\tremaining: 3.54s\n",
            "813:\tlearn: 6504.9815177\ttotal: 15.4s\tremaining: 3.52s\n",
            "814:\tlearn: 6497.6024068\ttotal: 15.4s\tremaining: 3.5s\n",
            "815:\tlearn: 6485.5332301\ttotal: 15.4s\tremaining: 3.48s\n",
            "816:\tlearn: 6483.3912276\ttotal: 15.4s\tremaining: 3.46s\n",
            "817:\tlearn: 6476.9861025\ttotal: 15.4s\tremaining: 3.44s\n",
            "818:\tlearn: 6467.3146304\ttotal: 15.4s\tremaining: 3.41s\n",
            "819:\tlearn: 6463.5162614\ttotal: 15.5s\tremaining: 3.39s\n",
            "820:\tlearn: 6461.4760888\ttotal: 15.5s\tremaining: 3.37s\n",
            "821:\tlearn: 6460.7467902\ttotal: 15.5s\tremaining: 3.35s\n",
            "822:\tlearn: 6451.9439287\ttotal: 15.5s\tremaining: 3.33s\n",
            "823:\tlearn: 6438.7264520\ttotal: 15.5s\tremaining: 3.31s\n",
            "824:\tlearn: 6424.7516997\ttotal: 15.5s\tremaining: 3.29s\n",
            "825:\tlearn: 6417.9755238\ttotal: 15.5s\tremaining: 3.27s\n",
            "826:\tlearn: 6411.2941553\ttotal: 15.5s\tremaining: 3.25s\n",
            "827:\tlearn: 6406.0422533\ttotal: 15.5s\tremaining: 3.23s\n",
            "828:\tlearn: 6403.6105361\ttotal: 15.6s\tremaining: 3.21s\n",
            "829:\tlearn: 6396.5980513\ttotal: 15.6s\tremaining: 3.19s\n",
            "830:\tlearn: 6388.7905176\ttotal: 15.6s\tremaining: 3.17s\n",
            "831:\tlearn: 6377.9377684\ttotal: 15.6s\tremaining: 3.15s\n",
            "832:\tlearn: 6364.7635174\ttotal: 15.6s\tremaining: 3.13s\n",
            "833:\tlearn: 6353.2751616\ttotal: 15.6s\tremaining: 3.1s\n",
            "834:\tlearn: 6342.2737478\ttotal: 15.6s\tremaining: 3.08s\n",
            "835:\tlearn: 6332.0765748\ttotal: 15.6s\tremaining: 3.06s\n",
            "836:\tlearn: 6323.2129731\ttotal: 15.6s\tremaining: 3.04s\n",
            "837:\tlearn: 6320.6293768\ttotal: 15.6s\tremaining: 3.02s\n",
            "838:\tlearn: 6316.7726149\ttotal: 15.6s\tremaining: 3s\n",
            "839:\tlearn: 6305.7841270\ttotal: 15.7s\tremaining: 2.98s\n",
            "840:\tlearn: 6302.7288278\ttotal: 15.7s\tremaining: 2.96s\n",
            "841:\tlearn: 6293.5842930\ttotal: 15.7s\tremaining: 2.95s\n",
            "842:\tlearn: 6278.2401266\ttotal: 15.7s\tremaining: 2.93s\n",
            "843:\tlearn: 6265.8662113\ttotal: 15.8s\tremaining: 2.91s\n",
            "844:\tlearn: 6261.5576762\ttotal: 15.8s\tremaining: 2.89s\n",
            "845:\tlearn: 6249.6671033\ttotal: 15.8s\tremaining: 2.88s\n",
            "846:\tlearn: 6240.9803839\ttotal: 15.8s\tremaining: 2.86s\n",
            "847:\tlearn: 6230.2740468\ttotal: 15.8s\tremaining: 2.84s\n",
            "848:\tlearn: 6222.6309153\ttotal: 15.9s\tremaining: 2.82s\n",
            "849:\tlearn: 6212.2799482\ttotal: 15.9s\tremaining: 2.8s\n",
            "850:\tlearn: 6198.3859898\ttotal: 15.9s\tremaining: 2.78s\n",
            "851:\tlearn: 6188.2680027\ttotal: 15.9s\tremaining: 2.77s\n",
            "852:\tlearn: 6178.6852020\ttotal: 16s\tremaining: 2.75s\n",
            "853:\tlearn: 6175.9200339\ttotal: 16s\tremaining: 2.73s\n",
            "854:\tlearn: 6169.5140700\ttotal: 16s\tremaining: 2.71s\n",
            "855:\tlearn: 6166.2406653\ttotal: 16s\tremaining: 2.69s\n",
            "856:\tlearn: 6154.6801800\ttotal: 16s\tremaining: 2.67s\n",
            "857:\tlearn: 6146.9179089\ttotal: 16s\tremaining: 2.65s\n",
            "858:\tlearn: 6139.5264002\ttotal: 16.1s\tremaining: 2.64s\n",
            "859:\tlearn: 6132.2710022\ttotal: 16.1s\tremaining: 2.62s\n",
            "860:\tlearn: 6122.3000253\ttotal: 16.1s\tremaining: 2.6s\n",
            "861:\tlearn: 6109.8099458\ttotal: 16.1s\tremaining: 2.58s\n",
            "862:\tlearn: 6101.1097378\ttotal: 16.1s\tremaining: 2.56s\n",
            "863:\tlearn: 6097.8035046\ttotal: 16.2s\tremaining: 2.54s\n",
            "864:\tlearn: 6087.7708810\ttotal: 16.2s\tremaining: 2.52s\n",
            "865:\tlearn: 6075.3704384\ttotal: 16.2s\tremaining: 2.5s\n",
            "866:\tlearn: 6072.6796551\ttotal: 16.2s\tremaining: 2.48s\n",
            "867:\tlearn: 6066.6781827\ttotal: 16.2s\tremaining: 2.46s\n",
            "868:\tlearn: 6058.6756905\ttotal: 16.2s\tremaining: 2.45s\n",
            "869:\tlearn: 6055.8592653\ttotal: 16.2s\tremaining: 2.42s\n",
            "870:\tlearn: 6046.7391770\ttotal: 16.2s\tremaining: 2.4s\n",
            "871:\tlearn: 6032.3057067\ttotal: 16.3s\tremaining: 2.39s\n",
            "872:\tlearn: 6023.2911808\ttotal: 16.3s\tremaining: 2.37s\n",
            "873:\tlearn: 6014.6084403\ttotal: 16.3s\tremaining: 2.35s\n",
            "874:\tlearn: 6007.5965497\ttotal: 16.3s\tremaining: 2.33s\n",
            "875:\tlearn: 6003.2579005\ttotal: 16.3s\tremaining: 2.31s\n",
            "876:\tlearn: 5992.1734685\ttotal: 16.3s\tremaining: 2.29s\n",
            "877:\tlearn: 5985.4819397\ttotal: 16.3s\tremaining: 2.27s\n",
            "878:\tlearn: 5975.9955211\ttotal: 16.3s\tremaining: 2.25s\n",
            "879:\tlearn: 5964.8996378\ttotal: 16.3s\tremaining: 2.23s\n",
            "880:\tlearn: 5962.3523036\ttotal: 16.3s\tremaining: 2.21s\n",
            "881:\tlearn: 5948.2810608\ttotal: 16.3s\tremaining: 2.19s\n",
            "882:\tlearn: 5935.9076512\ttotal: 16.3s\tremaining: 2.17s\n",
            "883:\tlearn: 5930.7743375\ttotal: 16.4s\tremaining: 2.15s\n",
            "884:\tlearn: 5924.5120994\ttotal: 16.4s\tremaining: 2.13s\n",
            "885:\tlearn: 5923.7683752\ttotal: 16.4s\tremaining: 2.11s\n",
            "886:\tlearn: 5916.0945100\ttotal: 16.4s\tremaining: 2.09s\n",
            "887:\tlearn: 5913.0995826\ttotal: 16.5s\tremaining: 2.08s\n",
            "888:\tlearn: 5906.4158950\ttotal: 16.5s\tremaining: 2.06s\n",
            "889:\tlearn: 5897.6145122\ttotal: 16.5s\tremaining: 2.04s\n",
            "890:\tlearn: 5888.6046044\ttotal: 16.5s\tremaining: 2.02s\n",
            "891:\tlearn: 5880.1800811\ttotal: 16.5s\tremaining: 2s\n",
            "892:\tlearn: 5873.8903449\ttotal: 16.5s\tremaining: 1.98s\n",
            "893:\tlearn: 5870.2926335\ttotal: 16.6s\tremaining: 1.96s\n",
            "894:\tlearn: 5862.4864489\ttotal: 16.6s\tremaining: 1.94s\n",
            "895:\tlearn: 5854.0827742\ttotal: 16.6s\tremaining: 1.92s\n",
            "896:\tlearn: 5848.4334655\ttotal: 16.6s\tremaining: 1.9s\n",
            "897:\tlearn: 5835.5496297\ttotal: 16.6s\tremaining: 1.89s\n",
            "898:\tlearn: 5826.3755330\ttotal: 16.6s\tremaining: 1.87s\n",
            "899:\tlearn: 5815.8354653\ttotal: 16.6s\tremaining: 1.85s\n",
            "900:\tlearn: 5809.5195007\ttotal: 16.6s\tremaining: 1.83s\n",
            "901:\tlearn: 5801.0017951\ttotal: 16.6s\tremaining: 1.81s\n",
            "902:\tlearn: 5797.3709789\ttotal: 16.6s\tremaining: 1.79s\n",
            "903:\tlearn: 5796.4064300\ttotal: 16.7s\tremaining: 1.77s\n",
            "904:\tlearn: 5793.9790531\ttotal: 16.7s\tremaining: 1.75s\n",
            "905:\tlearn: 5787.6644722\ttotal: 16.7s\tremaining: 1.73s\n",
            "906:\tlearn: 5780.4049757\ttotal: 16.7s\tremaining: 1.71s\n",
            "907:\tlearn: 5766.6505840\ttotal: 16.7s\tremaining: 1.69s\n",
            "908:\tlearn: 5760.3528432\ttotal: 16.7s\tremaining: 1.67s\n",
            "909:\tlearn: 5756.0660726\ttotal: 16.7s\tremaining: 1.66s\n",
            "910:\tlearn: 5749.8694451\ttotal: 16.8s\tremaining: 1.64s\n",
            "911:\tlearn: 5744.4197619\ttotal: 16.8s\tremaining: 1.62s\n",
            "912:\tlearn: 5735.1232079\ttotal: 16.8s\tremaining: 1.6s\n",
            "913:\tlearn: 5727.6411270\ttotal: 16.8s\tremaining: 1.58s\n",
            "914:\tlearn: 5726.5493995\ttotal: 16.8s\tremaining: 1.56s\n",
            "915:\tlearn: 5723.7925336\ttotal: 16.9s\tremaining: 1.54s\n",
            "916:\tlearn: 5717.1202058\ttotal: 16.9s\tremaining: 1.53s\n",
            "917:\tlearn: 5709.5180397\ttotal: 16.9s\tremaining: 1.51s\n",
            "918:\tlearn: 5700.9898495\ttotal: 16.9s\tremaining: 1.49s\n",
            "919:\tlearn: 5694.3470119\ttotal: 17s\tremaining: 1.48s\n",
            "920:\tlearn: 5688.1608609\ttotal: 17s\tremaining: 1.46s\n",
            "921:\tlearn: 5680.5789511\ttotal: 17s\tremaining: 1.44s\n",
            "922:\tlearn: 5675.1908753\ttotal: 17s\tremaining: 1.42s\n",
            "923:\tlearn: 5671.0333304\ttotal: 17.1s\tremaining: 1.4s\n",
            "924:\tlearn: 5659.9990041\ttotal: 17.1s\tremaining: 1.38s\n",
            "925:\tlearn: 5656.2933484\ttotal: 17.1s\tremaining: 1.37s\n",
            "926:\tlearn: 5652.9238406\ttotal: 17.1s\tremaining: 1.35s\n",
            "927:\tlearn: 5647.4471677\ttotal: 17.1s\tremaining: 1.33s\n",
            "928:\tlearn: 5638.3796308\ttotal: 17.2s\tremaining: 1.31s\n",
            "929:\tlearn: 5627.1381539\ttotal: 17.2s\tremaining: 1.29s\n",
            "930:\tlearn: 5622.1477975\ttotal: 17.2s\tremaining: 1.27s\n",
            "931:\tlearn: 5614.1184667\ttotal: 17.2s\tremaining: 1.26s\n",
            "932:\tlearn: 5610.0020070\ttotal: 17.2s\tremaining: 1.24s\n",
            "933:\tlearn: 5593.8230711\ttotal: 17.3s\tremaining: 1.22s\n",
            "934:\tlearn: 5590.2706533\ttotal: 17.3s\tremaining: 1.2s\n",
            "935:\tlearn: 5589.2977725\ttotal: 17.3s\tremaining: 1.18s\n",
            "936:\tlearn: 5580.2321521\ttotal: 17.3s\tremaining: 1.16s\n",
            "937:\tlearn: 5574.3995446\ttotal: 17.3s\tremaining: 1.14s\n",
            "938:\tlearn: 5564.9705510\ttotal: 17.3s\tremaining: 1.13s\n",
            "939:\tlearn: 5556.1560345\ttotal: 17.3s\tremaining: 1.11s\n",
            "940:\tlearn: 5547.0631891\ttotal: 17.3s\tremaining: 1.09s\n",
            "941:\tlearn: 5543.5722476\ttotal: 17.4s\tremaining: 1.07s\n",
            "942:\tlearn: 5533.0537790\ttotal: 17.4s\tremaining: 1.05s\n",
            "943:\tlearn: 5519.1095664\ttotal: 17.4s\tremaining: 1.03s\n",
            "944:\tlearn: 5513.2842514\ttotal: 17.4s\tremaining: 1.01s\n",
            "945:\tlearn: 5501.9875338\ttotal: 17.4s\tremaining: 994ms\n",
            "946:\tlearn: 5492.3148076\ttotal: 17.4s\tremaining: 976ms\n",
            "947:\tlearn: 5481.7635422\ttotal: 17.4s\tremaining: 957ms\n",
            "948:\tlearn: 5479.0236619\ttotal: 17.5s\tremaining: 938ms\n",
            "949:\tlearn: 5475.6488127\ttotal: 17.5s\tremaining: 919ms\n",
            "950:\tlearn: 5472.7768142\ttotal: 17.5s\tremaining: 900ms\n",
            "951:\tlearn: 5470.6266643\ttotal: 17.5s\tremaining: 882ms\n",
            "952:\tlearn: 5460.0253492\ttotal: 17.5s\tremaining: 863ms\n",
            "953:\tlearn: 5451.2757234\ttotal: 17.5s\tremaining: 844ms\n",
            "954:\tlearn: 5442.8468623\ttotal: 17.5s\tremaining: 826ms\n",
            "955:\tlearn: 5437.0228939\ttotal: 17.5s\tremaining: 807ms\n",
            "956:\tlearn: 5435.2337714\ttotal: 17.6s\tremaining: 789ms\n",
            "957:\tlearn: 5433.5106154\ttotal: 17.6s\tremaining: 770ms\n",
            "958:\tlearn: 5431.0485019\ttotal: 17.6s\tremaining: 751ms\n",
            "959:\tlearn: 5427.2781121\ttotal: 17.6s\tremaining: 732ms\n",
            "960:\tlearn: 5422.9699089\ttotal: 17.6s\tremaining: 714ms\n",
            "961:\tlearn: 5414.0814948\ttotal: 17.6s\tremaining: 695ms\n",
            "962:\tlearn: 5404.5896857\ttotal: 17.6s\tremaining: 676ms\n",
            "963:\tlearn: 5400.9882251\ttotal: 17.6s\tremaining: 658ms\n",
            "964:\tlearn: 5393.3149467\ttotal: 17.6s\tremaining: 639ms\n",
            "965:\tlearn: 5386.3669027\ttotal: 17.6s\tremaining: 620ms\n",
            "966:\tlearn: 5376.0489657\ttotal: 17.6s\tremaining: 602ms\n",
            "967:\tlearn: 5373.7431154\ttotal: 17.6s\tremaining: 583ms\n",
            "968:\tlearn: 5366.5073127\ttotal: 17.7s\tremaining: 565ms\n",
            "969:\tlearn: 5359.8690841\ttotal: 17.7s\tremaining: 546ms\n",
            "970:\tlearn: 5355.5944162\ttotal: 17.7s\tremaining: 528ms\n",
            "971:\tlearn: 5344.8593580\ttotal: 17.7s\tremaining: 509ms\n",
            "972:\tlearn: 5341.0726536\ttotal: 17.7s\tremaining: 491ms\n",
            "973:\tlearn: 5335.2552680\ttotal: 17.7s\tremaining: 472ms\n",
            "974:\tlearn: 5328.3882498\ttotal: 17.7s\tremaining: 454ms\n",
            "975:\tlearn: 5319.4238584\ttotal: 17.7s\tremaining: 436ms\n",
            "976:\tlearn: 5314.0723381\ttotal: 17.7s\tremaining: 418ms\n",
            "977:\tlearn: 5306.5016549\ttotal: 17.8s\tremaining: 399ms\n",
            "978:\tlearn: 5300.4566195\ttotal: 17.8s\tremaining: 381ms\n",
            "979:\tlearn: 5299.8943005\ttotal: 17.8s\tremaining: 363ms\n",
            "980:\tlearn: 5293.8483480\ttotal: 17.8s\tremaining: 344ms\n",
            "981:\tlearn: 5287.0393459\ttotal: 17.8s\tremaining: 326ms\n",
            "982:\tlearn: 5277.4389367\ttotal: 17.8s\tremaining: 308ms\n",
            "983:\tlearn: 5272.1599455\ttotal: 17.8s\tremaining: 289ms\n",
            "984:\tlearn: 5266.2130290\ttotal: 17.8s\tremaining: 271ms\n",
            "985:\tlearn: 5256.6364101\ttotal: 17.8s\tremaining: 253ms\n",
            "986:\tlearn: 5253.5547229\ttotal: 17.9s\tremaining: 235ms\n",
            "987:\tlearn: 5253.0447493\ttotal: 17.9s\tremaining: 217ms\n",
            "988:\tlearn: 5244.5136512\ttotal: 17.9s\tremaining: 199ms\n",
            "989:\tlearn: 5237.2353953\ttotal: 17.9s\tremaining: 181ms\n",
            "990:\tlearn: 5232.4164603\ttotal: 17.9s\tremaining: 163ms\n",
            "991:\tlearn: 5224.3070533\ttotal: 17.9s\tremaining: 145ms\n",
            "992:\tlearn: 5220.9642430\ttotal: 17.9s\tremaining: 127ms\n",
            "993:\tlearn: 5211.9072641\ttotal: 18s\tremaining: 109ms\n",
            "994:\tlearn: 5207.5807816\ttotal: 18s\tremaining: 90.5ms\n",
            "995:\tlearn: 5204.3766075\ttotal: 18s\tremaining: 72.4ms\n",
            "996:\tlearn: 5193.5847144\ttotal: 18.1s\tremaining: 54.3ms\n",
            "997:\tlearn: 5185.1403301\ttotal: 18.1s\tremaining: 36.2ms\n",
            "998:\tlearn: 5179.0897911\ttotal: 18.1s\tremaining: 18.1ms\n",
            "999:\tlearn: 5170.6210170\ttotal: 18.1s\tremaining: 0us\n"
          ]
        },
        {
          "output_type": "execute_result",
          "data": {
            "text/plain": [
              "<catboost.core.CatBoostRegressor at 0x7fcad02c70d0>"
            ]
          },
          "metadata": {},
          "execution_count": 84
        }
      ]
    },
    {
      "cell_type": "code",
      "metadata": {
        "colab": {
          "base_uri": "https://localhost:8080/"
        },
        "outputId": "b481af9c-ceb8-401c-d32e-aa7b5315ef62",
        "id": "LjYJtJVcUTPR"
      },
      "source": [
        "cat.score(X_train, y_train)"
      ],
      "execution_count": null,
      "outputs": [
        {
          "output_type": "execute_result",
          "data": {
            "text/plain": [
              "0.9955578655041462"
            ]
          },
          "metadata": {},
          "execution_count": 85
        }
      ]
    },
    {
      "cell_type": "code",
      "metadata": {
        "colab": {
          "base_uri": "https://localhost:8080/"
        },
        "outputId": "a51d057f-2897-4734-973a-69fe1c97d98c",
        "id": "fAH1BpVcUTPT"
      },
      "source": [
        "cat.score(X_test, y_test)"
      ],
      "execution_count": null,
      "outputs": [
        {
          "output_type": "execute_result",
          "data": {
            "text/plain": [
              "0.920340752259986"
            ]
          },
          "metadata": {},
          "execution_count": 86
        }
      ]
    },
    {
      "cell_type": "markdown",
      "source": [
        "# Дополнительные материалы:\n",
        "1. Ансамбли в машинном обучении - https://dyakonov.org/2019/04/19/%D0%B0%D0%BD%D1%81%D0%B0%D0%BC%D0%B1%D0%BB%D0%B8-%D0%B2-%D0%BC%D0%B0%D1%88%D0%B8%D0%BD%D0%BD%D0%BE%D0%BC-%D0%BE%D0%B1%D1%83%D1%87%D0%B5%D0%BD%D0%B8%D0%B8/\n",
        "2. Ансамблевые методы: бэггинг, бустинг и стекинг - https://neurohive.io/ru/osnovy-data-science/ansamblevye-metody-begging-busting-i-steking/\n",
        "3. Бэггинг и бутстрап + композиции в целом - https://habr.com/ru/company/ods/blog/324402/\n",
        "4. Бэггинг и случайный лес - https://youtu.be/rawnIo_XtYY\n",
        "5. Бустинг - https://medium.com/mlreview/gradient-boosting-from-scratch-1e317ae4587d\n",
        "6. CatBoost против Light GBM против XGBoost - https://machinelearningmastery.ru/catboost-vs-light-gbm-vs-xgboost-5f93620723db/\n"
      ],
      "metadata": {
        "id": "fTVjLNXtoJcp"
      }
    }
  ]
}