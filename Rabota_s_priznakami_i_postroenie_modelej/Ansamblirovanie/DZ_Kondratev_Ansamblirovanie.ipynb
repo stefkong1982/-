{
  "nbformat": 4,
  "nbformat_minor": 0,
  "metadata": {
    "colab": {
      "provenance": []
    },
    "kernelspec": {
      "name": "python3",
      "display_name": "Python 3"
    },
    "language_info": {
      "name": "python"
    }
  },
  "cells": [
    {
      "cell_type": "markdown",
      "source": [
        "# Домашнее задание по теме «Ансамблирование»\n",
        "\n",
        "**Преподаватель:** Наталья Баданина, Юлия Пономарева\n",
        "\n",
        "**Цель:** применить на практике базовые ансамбливые методы\n",
        "\n",
        "**Описание задания:**\n",
        "\n",
        "В домашнем задании нужно решить задачу классификации наличия болезни сердца у пациентов. Данные для обучения моделей необходимо загрузить самостоятельно с сайта. Целевая переменная – наличие болезни сердца (HeartDisease), принимает значения 0 или 1 в зависимости от отсутствия или наличия болезни соответственно. (Подробнее о признаках можно прочитать в описании датасета на сайте. Для выполнения работы не обязательно вникать в медицинские показатели.)\n",
        "\n",
        "**Этапы работы:**\n",
        "\n",
        "1. Получите данные и загрузите их в рабочую среду. (Jupyter Notebook или другую)\n",
        "2. Подготовьте датасет к обучению моделей.\n",
        "\n",
        "   a) Категориальные переменные переведите в цифровые значения. Можно использовать [pd.get_dummies](https://pandas.pydata.org/docs/reference/api/pandas.get_dummies.html), [preprocessing.LabelEncoder](https://scikit-learn.org/stable/modules/generated/sklearn.preprocessing.LabelEncoder.html). Старайтесь не использовать для этой задачи циклы.\n",
        "\n",
        "   b) Постройте 1-2 графика на выбор. Визуализация должна быть основана на исследуемых данных и быть полезной (из графика можно сделать вывод об особенностях датасета/класса/признака).\n",
        "\n",
        "3. Разделите выборку на обучающее и тестовое подмножество. 80% данных оставить на обучающее множество, 20% на тестовое.\n",
        "4. Обучите дерево решений на обучающем множестве. Используйте следующие модели:\n",
        "\n",
        "   a) [tree.DecisionTreeClassifier](https://scikit-learn.org/stable/modules/generated/sklearn.tree.DecisionTreeClassifier.html)\n",
        "\n",
        "   b) [ensemble.RandomForestClassifier](https://scikit-learn.org/stable/modules/generated/sklearn.ensemble.RandomForestClassifier.html)\n",
        "5. Для тестового множества сделайте предсказание целевой переменной. Выведите метрики для каждой построенной модели с помощью metrics.classification_report.\n",
        "6. Выведите важность признаков, полученную после обучения модели из п. 4b в виде столбчатой диаграммы. Отсортируйте важность по убыванию.\n",
        "7. Обучите бэггинг над моделью из п. 4a. Используйте [ensemble.BaggingClassifier](https://scikit-learn.org/stable/modules/generated/sklearn.ensemble.BaggingClassifier.html).\n",
        "\n",
        "   a) Повторите п. 5\n",
        "8. Обучите стекинг трех моделей: из п. 4a, п. 4b и [svm.LinearSVC](https://scikit-learn.org/stable/modules/generated/sklearn.svm.LinearSVC.html). Используйте [ensemble.StackingClassifier](https://scikit-learn.org/stable/modules/generated/sklearn.ensemble.StackingClassifier.html).\n",
        "\n",
        "   a) Повторите п. 5\n",
        "9. Сформулируйте выводы по проделанной работе.\n",
        "\n",
        "   a) Сравните метрики построенных моделей.\n",
        "   \n",
        "   b) Напишите свое мнение, какая модель наилучшая и почему.\n",
        "\n",
        "Для получения зачета по этому домашнему заданию, минимально, должны быть обучены следующие модели: дерево решений, стекинг трех моделей. В данных должны быть обработаны категориальные значения."
      ],
      "metadata": {
        "id": "w6ApGUy-1P0R"
      }
    },
    {
      "cell_type": "markdown",
      "source": [
        "# 1. Получение данных и подготовка датасета"
      ],
      "metadata": {
        "id": "PjTb593y9buM"
      }
    },
    {
      "cell_type": "markdown",
      "source": [
        "Для начала загрузим данные с сайта и посмотрим на первые строки датасета:"
      ],
      "metadata": {
        "id": "oZ8GjOUH9eR1"
      }
    },
    {
      "cell_type": "code",
      "source": [
        "import pandas as pd\n",
        "\n",
        "# Загрузка CSV-файла\n",
        "df = pd.read_csv('https://raw.githubusercontent.com/stefkong1982/netology.ru/Master/Rabota_s_priznakami_i_postroenie_modelej/Ansamblirovanie/heart.csv')\n",
        "\n",
        "# Предварительный просмотр данных\n",
        "print(df.head())  # Вывод первых нескольких строк данных"
      ],
      "metadata": {
        "colab": {
          "base_uri": "https://localhost:8080/"
        },
        "id": "Da6xju-34Tld",
        "outputId": "64feae3b-ec17-4f83-8a4f-23411a300da3"
      },
      "execution_count": 90,
      "outputs": [
        {
          "output_type": "stream",
          "name": "stdout",
          "text": [
            "   Age Sex ChestPainType  RestingBP  Cholesterol  FastingBS RestingECG  MaxHR  \\\n",
            "0   40   M           ATA        140          289          0     Normal    172   \n",
            "1   49   F           NAP        160          180          0     Normal    156   \n",
            "2   37   M           ATA        130          283          0         ST     98   \n",
            "3   48   F           ASY        138          214          0     Normal    108   \n",
            "4   54   M           NAP        150          195          0     Normal    122   \n",
            "\n",
            "  ExerciseAngina  Oldpeak ST_Slope  HeartDisease  \n",
            "0              N      0.0       Up             0  \n",
            "1              N      1.0     Flat             1  \n",
            "2              N      0.0       Up             0  \n",
            "3              Y      1.5     Flat             1  \n",
            "4              N      0.0       Up             0  \n"
          ]
        }
      ]
    },
    {
      "cell_type": "code",
      "source": [
        "df.info()"
      ],
      "metadata": {
        "colab": {
          "base_uri": "https://localhost:8080/"
        },
        "id": "zf0gRas_4lsb",
        "outputId": "3f889157-3d89-458a-87c3-6a894e261c2a"
      },
      "execution_count": 91,
      "outputs": [
        {
          "output_type": "stream",
          "name": "stdout",
          "text": [
            "<class 'pandas.core.frame.DataFrame'>\n",
            "RangeIndex: 918 entries, 0 to 917\n",
            "Data columns (total 12 columns):\n",
            " #   Column          Non-Null Count  Dtype  \n",
            "---  ------          --------------  -----  \n",
            " 0   Age             918 non-null    int64  \n",
            " 1   Sex             918 non-null    object \n",
            " 2   ChestPainType   918 non-null    object \n",
            " 3   RestingBP       918 non-null    int64  \n",
            " 4   Cholesterol     918 non-null    int64  \n",
            " 5   FastingBS       918 non-null    int64  \n",
            " 6   RestingECG      918 non-null    object \n",
            " 7   MaxHR           918 non-null    int64  \n",
            " 8   ExerciseAngina  918 non-null    object \n",
            " 9   Oldpeak         918 non-null    float64\n",
            " 10  ST_Slope        918 non-null    object \n",
            " 11  HeartDisease    918 non-null    int64  \n",
            "dtypes: float64(1), int64(6), object(5)\n",
            "memory usage: 86.2+ KB\n"
          ]
        }
      ]
    },
    {
      "cell_type": "markdown",
      "source": [
        "Датасет содержит информацию о 11 признаках, которые могут быть использованы для прогнозирования возможного наличия сердечной болезни. Эти признаки включают возраст пациента, его пол, тип боли в груди, кровяное давление в состоянии покоя, уровень холестерина, уровень сахара в крови натощак, результаты электрокардиограммы в состоянии покоя, максимальную частоту сердечных сокращений, наличие или отсутствие стенокардии при физической нагрузке, значение старого пика и наклон пика ST при физической нагрузке. Целевая переменная в датасете - наличие или отсутствие сердечной болезни."
      ],
      "metadata": {
        "id": "IwDMF07l5Xt_"
      }
    },
    {
      "cell_type": "markdown",
      "source": [
        "Датасет содержит следующие атрибуты:\n",
        "\n",
        "1. Возраст (Age) - возраст пациента в годах.\n",
        "2. Пол (Sex) - пол пациента (M - мужской, F - женский).\n",
        "3. Тип боли в груди (ChestPainType) - тип боли в груди (TA - типичная ангина, ATA - атипичная ангина, NAP - не-ангинальная боль, ASY - бессимптомный).\n",
        "4. Кровяное давление в состоянии покоя (RestingBP) - кровяное давление в состоянии покоя в мм рт. ст.\n",
        "5. Уровень холестерина (Cholesterol) - уровень холестерина в сыворотке крови в мм/дл.\n",
        "6. Уровень сахара в крови натощак (FastingBS) - уровень сахара в крови натощак (1 - если уровень сахара в крови натощак > 120 мг/дл, 0 - в противном случае).\n",
        "7. Результаты электрокардиограммы в состоянии покоя (RestingECG) - результаты электрокардиограммы в состоянии покоя (Normal - нормальный, ST - наличие ST-T волновой аномалии, LVH - указывающий на вероятную или определенную гипертрофию левого желудочка по критериям Estes).\n",
        "8. Максимальная частота сердечных сокращений (MaxHR) - максимальная частота сердечных сокращений, достигнутая во время теста (числовое значение в диапазоне от 60 до 202).\n",
        "9. Стенокардия при физической нагрузке (ExerciseAngina) - наличие или отсутствие стенокардии при физической нагрузке (Y - да, N - нет).\n",
        "10. Значение старого пика (Oldpeak) - значение старого пика (ST) в делениях (числовое значение, измеренное в делениях).\n",
        "11. Наклон пика ST при физической нагрузке (ST_Slope) - наклон пика ST при физической нагрузке (Up - восходящий, Flat - плоский, Down - нисходящий).\n",
        "\n",
        "Целевая переменная в датасете - наличие или отсутствие сердечной болезни (HeartDisease) - принимает значения 1 (сердечная болезнь) или 0 (норма)."
      ],
      "metadata": {
        "id": "ST8iQ-AP5cZB"
      }
    },
    {
      "cell_type": "code",
      "source": [
        "data = df"
      ],
      "metadata": {
        "id": "9iG0d4kL4q_c"
      },
      "execution_count": 92,
      "outputs": []
    },
    {
      "cell_type": "markdown",
      "source": [
        "Посмотрим пропуски и соответствие данных описанию"
      ],
      "metadata": {
        "id": "3npRAycN9koF"
      }
    },
    {
      "cell_type": "code",
      "source": [
        "# Проверяем, есть ли столбцы типа 'object'\n",
        "if data.select_dtypes(include=['object']).shape[1] == 0:\n",
        "    print(\"В данных нет столбцов типа 'object'.\")\n",
        "else:\n",
        "    # Анализ пропущенных значений в столбцах типа 'object'\n",
        "    for column in data.select_dtypes(include=['object']).columns:\n",
        "        nan_values = data[column].isnull().sum()  # Подсчет числа пропущенных значений (NaN)\n",
        "        unique_values = data[column].unique()     # Получение уникальных значений в столбце\n",
        "\n",
        "        # Ограничение вывода уникальных значений до первых 20\n",
        "        unique_values = unique_values[:20]\n",
        "\n",
        "        print(f\"В столбце '{column}' есть {nan_values} пропущенных значений (NaN)\")\n",
        "        print(f\"Уникальные значения в столбце '{column}': {unique_values}\\n\")"
      ],
      "metadata": {
        "colab": {
          "base_uri": "https://localhost:8080/"
        },
        "id": "ptfbRH2f5P5G",
        "outputId": "9c87a85b-a049-4cbd-814c-b1e2be36eb2f"
      },
      "execution_count": 93,
      "outputs": [
        {
          "output_type": "stream",
          "name": "stdout",
          "text": [
            "В столбце 'Sex' есть 0 пропущенных значений (NaN)\n",
            "Уникальные значения в столбце 'Sex': ['M' 'F']\n",
            "\n",
            "В столбце 'ChestPainType' есть 0 пропущенных значений (NaN)\n",
            "Уникальные значения в столбце 'ChestPainType': ['ATA' 'NAP' 'ASY' 'TA']\n",
            "\n",
            "В столбце 'RestingECG' есть 0 пропущенных значений (NaN)\n",
            "Уникальные значения в столбце 'RestingECG': ['Normal' 'ST' 'LVH']\n",
            "\n",
            "В столбце 'ExerciseAngina' есть 0 пропущенных значений (NaN)\n",
            "Уникальные значения в столбце 'ExerciseAngina': ['N' 'Y']\n",
            "\n",
            "В столбце 'ST_Slope' есть 0 пропущенных значений (NaN)\n",
            "Уникальные значения в столбце 'ST_Slope': ['Up' 'Flat' 'Down']\n",
            "\n"
          ]
        }
      ]
    },
    {
      "cell_type": "markdown",
      "source": [
        "Данные соответствуют описанию. Уникальные значения в каждом из этих столбцов соответствуют тем, что указаны в описании."
      ],
      "metadata": {
        "id": "QDivEpPY84PL"
      }
    },
    {
      "cell_type": "code",
      "source": [
        "# Пропущенные значения в != 'object':\n",
        "for column in data.columns:\n",
        "    if data[column].dtype != 'object':\n",
        "        nan_values = data[column].isnull().sum()  # Подсчет числа пропущенных значений (NaN)\n",
        "        unique_values = data[column].unique()     # Получение уникальных значений в столбце\n",
        "\n",
        "        print(f\"В столбце '{column}' есть {nan_values} пропущенных значений (NaN)\")\n",
        "        print(f\"Уникальные значения в столбце '{column}': {unique_values[:10]}...\\n\")  # Отображает первые 10 уникальных значений для краткости"
      ],
      "metadata": {
        "colab": {
          "base_uri": "https://localhost:8080/"
        },
        "id": "_s5xKoLb5_F2",
        "outputId": "ca8cec0e-306d-465d-d5a9-0c8b6d64845c"
      },
      "execution_count": 94,
      "outputs": [
        {
          "output_type": "stream",
          "name": "stdout",
          "text": [
            "В столбце 'Age' есть 0 пропущенных значений (NaN)\n",
            "Уникальные значения в столбце 'Age': [40 49 37 48 54 39 45 58 42 38]...\n",
            "\n",
            "В столбце 'RestingBP' есть 0 пропущенных значений (NaN)\n",
            "Уникальные значения в столбце 'RestingBP': [140 160 130 138 150 120 110 136 115 100]...\n",
            "\n",
            "В столбце 'Cholesterol' есть 0 пропущенных значений (NaN)\n",
            "Уникальные значения в столбце 'Cholesterol': [289 180 283 214 195 339 237 208 207 284]...\n",
            "\n",
            "В столбце 'FastingBS' есть 0 пропущенных значений (NaN)\n",
            "Уникальные значения в столбце 'FastingBS': [0 1]...\n",
            "\n",
            "В столбце 'MaxHR' есть 0 пропущенных значений (NaN)\n",
            "Уникальные значения в столбце 'MaxHR': [172 156  98 108 122 170 142 130 120  99]...\n",
            "\n",
            "В столбце 'Oldpeak' есть 0 пропущенных значений (NaN)\n",
            "Уникальные значения в столбце 'Oldpeak': [0.  1.  1.5 2.  3.  4.  0.5 2.5 5.  0.8]...\n",
            "\n",
            "В столбце 'HeartDisease' есть 0 пропущенных значений (NaN)\n",
            "Уникальные значения в столбце 'HeartDisease': [0 1]...\n",
            "\n"
          ]
        }
      ]
    },
    {
      "cell_type": "markdown",
      "source": [
        "Данные соответствуют описанию."
      ],
      "metadata": {
        "id": "6ClGcaT38sli"
      }
    },
    {
      "cell_type": "markdown",
      "source": [
        "# 2. Подготовка данных к обучению моделей"
      ],
      "metadata": {
        "id": "t5PafCN09wvG"
      }
    },
    {
      "cell_type": "markdown",
      "source": [
        "## a) Для преобразования категориальных переменных в числовые значения можно воспользоваться методом pd.get_dummies:"
      ],
      "metadata": {
        "id": "OQmCSV009xtG"
      }
    },
    {
      "cell_type": "code",
      "source": [
        "data = pd.get_dummies(data)"
      ],
      "metadata": {
        "id": "93CxW4pI92H8"
      },
      "execution_count": 95,
      "outputs": []
    },
    {
      "cell_type": "code",
      "source": [
        "data"
      ],
      "metadata": {
        "colab": {
          "base_uri": "https://localhost:8080/",
          "height": 439
        },
        "id": "Jep-5-8f94u8",
        "outputId": "a3b02182-d14f-4e9c-bc25-8ee22cde8f8f"
      },
      "execution_count": 96,
      "outputs": [
        {
          "output_type": "execute_result",
          "data": {
            "text/plain": [
              "     Age  RestingBP  Cholesterol  FastingBS  MaxHR  Oldpeak  HeartDisease  \\\n",
              "0     40        140          289          0    172      0.0             0   \n",
              "1     49        160          180          0    156      1.0             1   \n",
              "2     37        130          283          0     98      0.0             0   \n",
              "3     48        138          214          0    108      1.5             1   \n",
              "4     54        150          195          0    122      0.0             0   \n",
              "..   ...        ...          ...        ...    ...      ...           ...   \n",
              "913   45        110          264          0    132      1.2             1   \n",
              "914   68        144          193          1    141      3.4             1   \n",
              "915   57        130          131          0    115      1.2             1   \n",
              "916   57        130          236          0    174      0.0             1   \n",
              "917   38        138          175          0    173      0.0             0   \n",
              "\n",
              "     Sex_F  Sex_M  ChestPainType_ASY  ...  ChestPainType_NAP  \\\n",
              "0    False   True              False  ...              False   \n",
              "1     True  False              False  ...               True   \n",
              "2    False   True              False  ...              False   \n",
              "3     True  False               True  ...              False   \n",
              "4    False   True              False  ...               True   \n",
              "..     ...    ...                ...  ...                ...   \n",
              "913  False   True              False  ...              False   \n",
              "914  False   True               True  ...              False   \n",
              "915  False   True               True  ...              False   \n",
              "916   True  False              False  ...              False   \n",
              "917  False   True              False  ...               True   \n",
              "\n",
              "     ChestPainType_TA  RestingECG_LVH  RestingECG_Normal  RestingECG_ST  \\\n",
              "0               False           False               True          False   \n",
              "1               False           False               True          False   \n",
              "2               False           False              False           True   \n",
              "3               False           False               True          False   \n",
              "4               False           False               True          False   \n",
              "..                ...             ...                ...            ...   \n",
              "913              True           False               True          False   \n",
              "914             False           False               True          False   \n",
              "915             False           False               True          False   \n",
              "916             False            True              False          False   \n",
              "917             False           False               True          False   \n",
              "\n",
              "     ExerciseAngina_N  ExerciseAngina_Y  ST_Slope_Down  ST_Slope_Flat  \\\n",
              "0                True             False          False          False   \n",
              "1                True             False          False           True   \n",
              "2                True             False          False          False   \n",
              "3               False              True          False           True   \n",
              "4                True             False          False          False   \n",
              "..                ...               ...            ...            ...   \n",
              "913              True             False          False           True   \n",
              "914              True             False          False           True   \n",
              "915             False              True          False           True   \n",
              "916              True             False          False           True   \n",
              "917              True             False          False          False   \n",
              "\n",
              "     ST_Slope_Up  \n",
              "0           True  \n",
              "1          False  \n",
              "2           True  \n",
              "3          False  \n",
              "4           True  \n",
              "..           ...  \n",
              "913        False  \n",
              "914        False  \n",
              "915        False  \n",
              "916        False  \n",
              "917         True  \n",
              "\n",
              "[918 rows x 21 columns]"
            ],
            "text/html": [
              "\n",
              "  <div id=\"df-d8c9cea9-28b4-45b8-92e9-101b8ca5db82\" class=\"colab-df-container\">\n",
              "    <div>\n",
              "<style scoped>\n",
              "    .dataframe tbody tr th:only-of-type {\n",
              "        vertical-align: middle;\n",
              "    }\n",
              "\n",
              "    .dataframe tbody tr th {\n",
              "        vertical-align: top;\n",
              "    }\n",
              "\n",
              "    .dataframe thead th {\n",
              "        text-align: right;\n",
              "    }\n",
              "</style>\n",
              "<table border=\"1\" class=\"dataframe\">\n",
              "  <thead>\n",
              "    <tr style=\"text-align: right;\">\n",
              "      <th></th>\n",
              "      <th>Age</th>\n",
              "      <th>RestingBP</th>\n",
              "      <th>Cholesterol</th>\n",
              "      <th>FastingBS</th>\n",
              "      <th>MaxHR</th>\n",
              "      <th>Oldpeak</th>\n",
              "      <th>HeartDisease</th>\n",
              "      <th>Sex_F</th>\n",
              "      <th>Sex_M</th>\n",
              "      <th>ChestPainType_ASY</th>\n",
              "      <th>...</th>\n",
              "      <th>ChestPainType_NAP</th>\n",
              "      <th>ChestPainType_TA</th>\n",
              "      <th>RestingECG_LVH</th>\n",
              "      <th>RestingECG_Normal</th>\n",
              "      <th>RestingECG_ST</th>\n",
              "      <th>ExerciseAngina_N</th>\n",
              "      <th>ExerciseAngina_Y</th>\n",
              "      <th>ST_Slope_Down</th>\n",
              "      <th>ST_Slope_Flat</th>\n",
              "      <th>ST_Slope_Up</th>\n",
              "    </tr>\n",
              "  </thead>\n",
              "  <tbody>\n",
              "    <tr>\n",
              "      <th>0</th>\n",
              "      <td>40</td>\n",
              "      <td>140</td>\n",
              "      <td>289</td>\n",
              "      <td>0</td>\n",
              "      <td>172</td>\n",
              "      <td>0.0</td>\n",
              "      <td>0</td>\n",
              "      <td>False</td>\n",
              "      <td>True</td>\n",
              "      <td>False</td>\n",
              "      <td>...</td>\n",
              "      <td>False</td>\n",
              "      <td>False</td>\n",
              "      <td>False</td>\n",
              "      <td>True</td>\n",
              "      <td>False</td>\n",
              "      <td>True</td>\n",
              "      <td>False</td>\n",
              "      <td>False</td>\n",
              "      <td>False</td>\n",
              "      <td>True</td>\n",
              "    </tr>\n",
              "    <tr>\n",
              "      <th>1</th>\n",
              "      <td>49</td>\n",
              "      <td>160</td>\n",
              "      <td>180</td>\n",
              "      <td>0</td>\n",
              "      <td>156</td>\n",
              "      <td>1.0</td>\n",
              "      <td>1</td>\n",
              "      <td>True</td>\n",
              "      <td>False</td>\n",
              "      <td>False</td>\n",
              "      <td>...</td>\n",
              "      <td>True</td>\n",
              "      <td>False</td>\n",
              "      <td>False</td>\n",
              "      <td>True</td>\n",
              "      <td>False</td>\n",
              "      <td>True</td>\n",
              "      <td>False</td>\n",
              "      <td>False</td>\n",
              "      <td>True</td>\n",
              "      <td>False</td>\n",
              "    </tr>\n",
              "    <tr>\n",
              "      <th>2</th>\n",
              "      <td>37</td>\n",
              "      <td>130</td>\n",
              "      <td>283</td>\n",
              "      <td>0</td>\n",
              "      <td>98</td>\n",
              "      <td>0.0</td>\n",
              "      <td>0</td>\n",
              "      <td>False</td>\n",
              "      <td>True</td>\n",
              "      <td>False</td>\n",
              "      <td>...</td>\n",
              "      <td>False</td>\n",
              "      <td>False</td>\n",
              "      <td>False</td>\n",
              "      <td>False</td>\n",
              "      <td>True</td>\n",
              "      <td>True</td>\n",
              "      <td>False</td>\n",
              "      <td>False</td>\n",
              "      <td>False</td>\n",
              "      <td>True</td>\n",
              "    </tr>\n",
              "    <tr>\n",
              "      <th>3</th>\n",
              "      <td>48</td>\n",
              "      <td>138</td>\n",
              "      <td>214</td>\n",
              "      <td>0</td>\n",
              "      <td>108</td>\n",
              "      <td>1.5</td>\n",
              "      <td>1</td>\n",
              "      <td>True</td>\n",
              "      <td>False</td>\n",
              "      <td>True</td>\n",
              "      <td>...</td>\n",
              "      <td>False</td>\n",
              "      <td>False</td>\n",
              "      <td>False</td>\n",
              "      <td>True</td>\n",
              "      <td>False</td>\n",
              "      <td>False</td>\n",
              "      <td>True</td>\n",
              "      <td>False</td>\n",
              "      <td>True</td>\n",
              "      <td>False</td>\n",
              "    </tr>\n",
              "    <tr>\n",
              "      <th>4</th>\n",
              "      <td>54</td>\n",
              "      <td>150</td>\n",
              "      <td>195</td>\n",
              "      <td>0</td>\n",
              "      <td>122</td>\n",
              "      <td>0.0</td>\n",
              "      <td>0</td>\n",
              "      <td>False</td>\n",
              "      <td>True</td>\n",
              "      <td>False</td>\n",
              "      <td>...</td>\n",
              "      <td>True</td>\n",
              "      <td>False</td>\n",
              "      <td>False</td>\n",
              "      <td>True</td>\n",
              "      <td>False</td>\n",
              "      <td>True</td>\n",
              "      <td>False</td>\n",
              "      <td>False</td>\n",
              "      <td>False</td>\n",
              "      <td>True</td>\n",
              "    </tr>\n",
              "    <tr>\n",
              "      <th>...</th>\n",
              "      <td>...</td>\n",
              "      <td>...</td>\n",
              "      <td>...</td>\n",
              "      <td>...</td>\n",
              "      <td>...</td>\n",
              "      <td>...</td>\n",
              "      <td>...</td>\n",
              "      <td>...</td>\n",
              "      <td>...</td>\n",
              "      <td>...</td>\n",
              "      <td>...</td>\n",
              "      <td>...</td>\n",
              "      <td>...</td>\n",
              "      <td>...</td>\n",
              "      <td>...</td>\n",
              "      <td>...</td>\n",
              "      <td>...</td>\n",
              "      <td>...</td>\n",
              "      <td>...</td>\n",
              "      <td>...</td>\n",
              "      <td>...</td>\n",
              "    </tr>\n",
              "    <tr>\n",
              "      <th>913</th>\n",
              "      <td>45</td>\n",
              "      <td>110</td>\n",
              "      <td>264</td>\n",
              "      <td>0</td>\n",
              "      <td>132</td>\n",
              "      <td>1.2</td>\n",
              "      <td>1</td>\n",
              "      <td>False</td>\n",
              "      <td>True</td>\n",
              "      <td>False</td>\n",
              "      <td>...</td>\n",
              "      <td>False</td>\n",
              "      <td>True</td>\n",
              "      <td>False</td>\n",
              "      <td>True</td>\n",
              "      <td>False</td>\n",
              "      <td>True</td>\n",
              "      <td>False</td>\n",
              "      <td>False</td>\n",
              "      <td>True</td>\n",
              "      <td>False</td>\n",
              "    </tr>\n",
              "    <tr>\n",
              "      <th>914</th>\n",
              "      <td>68</td>\n",
              "      <td>144</td>\n",
              "      <td>193</td>\n",
              "      <td>1</td>\n",
              "      <td>141</td>\n",
              "      <td>3.4</td>\n",
              "      <td>1</td>\n",
              "      <td>False</td>\n",
              "      <td>True</td>\n",
              "      <td>True</td>\n",
              "      <td>...</td>\n",
              "      <td>False</td>\n",
              "      <td>False</td>\n",
              "      <td>False</td>\n",
              "      <td>True</td>\n",
              "      <td>False</td>\n",
              "      <td>True</td>\n",
              "      <td>False</td>\n",
              "      <td>False</td>\n",
              "      <td>True</td>\n",
              "      <td>False</td>\n",
              "    </tr>\n",
              "    <tr>\n",
              "      <th>915</th>\n",
              "      <td>57</td>\n",
              "      <td>130</td>\n",
              "      <td>131</td>\n",
              "      <td>0</td>\n",
              "      <td>115</td>\n",
              "      <td>1.2</td>\n",
              "      <td>1</td>\n",
              "      <td>False</td>\n",
              "      <td>True</td>\n",
              "      <td>True</td>\n",
              "      <td>...</td>\n",
              "      <td>False</td>\n",
              "      <td>False</td>\n",
              "      <td>False</td>\n",
              "      <td>True</td>\n",
              "      <td>False</td>\n",
              "      <td>False</td>\n",
              "      <td>True</td>\n",
              "      <td>False</td>\n",
              "      <td>True</td>\n",
              "      <td>False</td>\n",
              "    </tr>\n",
              "    <tr>\n",
              "      <th>916</th>\n",
              "      <td>57</td>\n",
              "      <td>130</td>\n",
              "      <td>236</td>\n",
              "      <td>0</td>\n",
              "      <td>174</td>\n",
              "      <td>0.0</td>\n",
              "      <td>1</td>\n",
              "      <td>True</td>\n",
              "      <td>False</td>\n",
              "      <td>False</td>\n",
              "      <td>...</td>\n",
              "      <td>False</td>\n",
              "      <td>False</td>\n",
              "      <td>True</td>\n",
              "      <td>False</td>\n",
              "      <td>False</td>\n",
              "      <td>True</td>\n",
              "      <td>False</td>\n",
              "      <td>False</td>\n",
              "      <td>True</td>\n",
              "      <td>False</td>\n",
              "    </tr>\n",
              "    <tr>\n",
              "      <th>917</th>\n",
              "      <td>38</td>\n",
              "      <td>138</td>\n",
              "      <td>175</td>\n",
              "      <td>0</td>\n",
              "      <td>173</td>\n",
              "      <td>0.0</td>\n",
              "      <td>0</td>\n",
              "      <td>False</td>\n",
              "      <td>True</td>\n",
              "      <td>False</td>\n",
              "      <td>...</td>\n",
              "      <td>True</td>\n",
              "      <td>False</td>\n",
              "      <td>False</td>\n",
              "      <td>True</td>\n",
              "      <td>False</td>\n",
              "      <td>True</td>\n",
              "      <td>False</td>\n",
              "      <td>False</td>\n",
              "      <td>False</td>\n",
              "      <td>True</td>\n",
              "    </tr>\n",
              "  </tbody>\n",
              "</table>\n",
              "<p>918 rows × 21 columns</p>\n",
              "</div>\n",
              "    <div class=\"colab-df-buttons\">\n",
              "\n",
              "  <div class=\"colab-df-container\">\n",
              "    <button class=\"colab-df-convert\" onclick=\"convertToInteractive('df-d8c9cea9-28b4-45b8-92e9-101b8ca5db82')\"\n",
              "            title=\"Convert this dataframe to an interactive table.\"\n",
              "            style=\"display:none;\">\n",
              "\n",
              "  <svg xmlns=\"http://www.w3.org/2000/svg\" height=\"24px\" viewBox=\"0 -960 960 960\">\n",
              "    <path d=\"M120-120v-720h720v720H120Zm60-500h600v-160H180v160Zm220 220h160v-160H400v160Zm0 220h160v-160H400v160ZM180-400h160v-160H180v160Zm440 0h160v-160H620v160ZM180-180h160v-160H180v160Zm440 0h160v-160H620v160Z\"/>\n",
              "  </svg>\n",
              "    </button>\n",
              "\n",
              "  <style>\n",
              "    .colab-df-container {\n",
              "      display:flex;\n",
              "      gap: 12px;\n",
              "    }\n",
              "\n",
              "    .colab-df-convert {\n",
              "      background-color: #E8F0FE;\n",
              "      border: none;\n",
              "      border-radius: 50%;\n",
              "      cursor: pointer;\n",
              "      display: none;\n",
              "      fill: #1967D2;\n",
              "      height: 32px;\n",
              "      padding: 0 0 0 0;\n",
              "      width: 32px;\n",
              "    }\n",
              "\n",
              "    .colab-df-convert:hover {\n",
              "      background-color: #E2EBFA;\n",
              "      box-shadow: 0px 1px 2px rgba(60, 64, 67, 0.3), 0px 1px 3px 1px rgba(60, 64, 67, 0.15);\n",
              "      fill: #174EA6;\n",
              "    }\n",
              "\n",
              "    .colab-df-buttons div {\n",
              "      margin-bottom: 4px;\n",
              "    }\n",
              "\n",
              "    [theme=dark] .colab-df-convert {\n",
              "      background-color: #3B4455;\n",
              "      fill: #D2E3FC;\n",
              "    }\n",
              "\n",
              "    [theme=dark] .colab-df-convert:hover {\n",
              "      background-color: #434B5C;\n",
              "      box-shadow: 0px 1px 3px 1px rgba(0, 0, 0, 0.15);\n",
              "      filter: drop-shadow(0px 1px 2px rgba(0, 0, 0, 0.3));\n",
              "      fill: #FFFFFF;\n",
              "    }\n",
              "  </style>\n",
              "\n",
              "    <script>\n",
              "      const buttonEl =\n",
              "        document.querySelector('#df-d8c9cea9-28b4-45b8-92e9-101b8ca5db82 button.colab-df-convert');\n",
              "      buttonEl.style.display =\n",
              "        google.colab.kernel.accessAllowed ? 'block' : 'none';\n",
              "\n",
              "      async function convertToInteractive(key) {\n",
              "        const element = document.querySelector('#df-d8c9cea9-28b4-45b8-92e9-101b8ca5db82');\n",
              "        const dataTable =\n",
              "          await google.colab.kernel.invokeFunction('convertToInteractive',\n",
              "                                                    [key], {});\n",
              "        if (!dataTable) return;\n",
              "\n",
              "        const docLinkHtml = 'Like what you see? Visit the ' +\n",
              "          '<a target=\"_blank\" href=https://colab.research.google.com/notebooks/data_table.ipynb>data table notebook</a>'\n",
              "          + ' to learn more about interactive tables.';\n",
              "        element.innerHTML = '';\n",
              "        dataTable['output_type'] = 'display_data';\n",
              "        await google.colab.output.renderOutput(dataTable, element);\n",
              "        const docLink = document.createElement('div');\n",
              "        docLink.innerHTML = docLinkHtml;\n",
              "        element.appendChild(docLink);\n",
              "      }\n",
              "    </script>\n",
              "  </div>\n",
              "\n",
              "\n",
              "<div id=\"df-420ed1b3-edcd-48c1-8bdf-746c5e1627dd\">\n",
              "  <button class=\"colab-df-quickchart\" onclick=\"quickchart('df-420ed1b3-edcd-48c1-8bdf-746c5e1627dd')\"\n",
              "            title=\"Suggest charts\"\n",
              "            style=\"display:none;\">\n",
              "\n",
              "<svg xmlns=\"http://www.w3.org/2000/svg\" height=\"24px\"viewBox=\"0 0 24 24\"\n",
              "     width=\"24px\">\n",
              "    <g>\n",
              "        <path d=\"M19 3H5c-1.1 0-2 .9-2 2v14c0 1.1.9 2 2 2h14c1.1 0 2-.9 2-2V5c0-1.1-.9-2-2-2zM9 17H7v-7h2v7zm4 0h-2V7h2v10zm4 0h-2v-4h2v4z\"/>\n",
              "    </g>\n",
              "</svg>\n",
              "  </button>\n",
              "\n",
              "<style>\n",
              "  .colab-df-quickchart {\n",
              "      --bg-color: #E8F0FE;\n",
              "      --fill-color: #1967D2;\n",
              "      --hover-bg-color: #E2EBFA;\n",
              "      --hover-fill-color: #174EA6;\n",
              "      --disabled-fill-color: #AAA;\n",
              "      --disabled-bg-color: #DDD;\n",
              "  }\n",
              "\n",
              "  [theme=dark] .colab-df-quickchart {\n",
              "      --bg-color: #3B4455;\n",
              "      --fill-color: #D2E3FC;\n",
              "      --hover-bg-color: #434B5C;\n",
              "      --hover-fill-color: #FFFFFF;\n",
              "      --disabled-bg-color: #3B4455;\n",
              "      --disabled-fill-color: #666;\n",
              "  }\n",
              "\n",
              "  .colab-df-quickchart {\n",
              "    background-color: var(--bg-color);\n",
              "    border: none;\n",
              "    border-radius: 50%;\n",
              "    cursor: pointer;\n",
              "    display: none;\n",
              "    fill: var(--fill-color);\n",
              "    height: 32px;\n",
              "    padding: 0;\n",
              "    width: 32px;\n",
              "  }\n",
              "\n",
              "  .colab-df-quickchart:hover {\n",
              "    background-color: var(--hover-bg-color);\n",
              "    box-shadow: 0 1px 2px rgba(60, 64, 67, 0.3), 0 1px 3px 1px rgba(60, 64, 67, 0.15);\n",
              "    fill: var(--button-hover-fill-color);\n",
              "  }\n",
              "\n",
              "  .colab-df-quickchart-complete:disabled,\n",
              "  .colab-df-quickchart-complete:disabled:hover {\n",
              "    background-color: var(--disabled-bg-color);\n",
              "    fill: var(--disabled-fill-color);\n",
              "    box-shadow: none;\n",
              "  }\n",
              "\n",
              "  .colab-df-spinner {\n",
              "    border: 2px solid var(--fill-color);\n",
              "    border-color: transparent;\n",
              "    border-bottom-color: var(--fill-color);\n",
              "    animation:\n",
              "      spin 1s steps(1) infinite;\n",
              "  }\n",
              "\n",
              "  @keyframes spin {\n",
              "    0% {\n",
              "      border-color: transparent;\n",
              "      border-bottom-color: var(--fill-color);\n",
              "      border-left-color: var(--fill-color);\n",
              "    }\n",
              "    20% {\n",
              "      border-color: transparent;\n",
              "      border-left-color: var(--fill-color);\n",
              "      border-top-color: var(--fill-color);\n",
              "    }\n",
              "    30% {\n",
              "      border-color: transparent;\n",
              "      border-left-color: var(--fill-color);\n",
              "      border-top-color: var(--fill-color);\n",
              "      border-right-color: var(--fill-color);\n",
              "    }\n",
              "    40% {\n",
              "      border-color: transparent;\n",
              "      border-right-color: var(--fill-color);\n",
              "      border-top-color: var(--fill-color);\n",
              "    }\n",
              "    60% {\n",
              "      border-color: transparent;\n",
              "      border-right-color: var(--fill-color);\n",
              "    }\n",
              "    80% {\n",
              "      border-color: transparent;\n",
              "      border-right-color: var(--fill-color);\n",
              "      border-bottom-color: var(--fill-color);\n",
              "    }\n",
              "    90% {\n",
              "      border-color: transparent;\n",
              "      border-bottom-color: var(--fill-color);\n",
              "    }\n",
              "  }\n",
              "</style>\n",
              "\n",
              "  <script>\n",
              "    async function quickchart(key) {\n",
              "      const quickchartButtonEl =\n",
              "        document.querySelector('#' + key + ' button');\n",
              "      quickchartButtonEl.disabled = true;  // To prevent multiple clicks.\n",
              "      quickchartButtonEl.classList.add('colab-df-spinner');\n",
              "      try {\n",
              "        const charts = await google.colab.kernel.invokeFunction(\n",
              "            'suggestCharts', [key], {});\n",
              "      } catch (error) {\n",
              "        console.error('Error during call to suggestCharts:', error);\n",
              "      }\n",
              "      quickchartButtonEl.classList.remove('colab-df-spinner');\n",
              "      quickchartButtonEl.classList.add('colab-df-quickchart-complete');\n",
              "    }\n",
              "    (() => {\n",
              "      let quickchartButtonEl =\n",
              "        document.querySelector('#df-420ed1b3-edcd-48c1-8bdf-746c5e1627dd button');\n",
              "      quickchartButtonEl.style.display =\n",
              "        google.colab.kernel.accessAllowed ? 'block' : 'none';\n",
              "    })();\n",
              "  </script>\n",
              "</div>\n",
              "    </div>\n",
              "  </div>\n"
            ],
            "application/vnd.google.colaboratory.intrinsic+json": {
              "type": "dataframe",
              "variable_name": "data"
            }
          },
          "metadata": {},
          "execution_count": 96
        }
      ]
    },
    {
      "cell_type": "markdown",
      "source": [
        "## b) Построим график распределения целевой переменной:"
      ],
      "metadata": {
        "id": "mOj25JCi9162"
      }
    },
    {
      "cell_type": "code",
      "source": [
        "import seaborn as sns\n",
        "import matplotlib.pyplot as plt\n",
        "\n",
        "# Устанавливаем размер графика\n",
        "plt.figure(figsize=(8, 6))\n",
        "\n",
        "# Построение графика распределения целевой переменной\n",
        "sns.countplot(x='HeartDisease', data=data)\n",
        "plt.title('Distribution of Heart Disease', fontsize=14)  # Добавляем заголовок и изменяем размер шрифта\n",
        "plt.xlabel('Heart Disease Status', fontsize=12)  # Подпись оси X\n",
        "plt.ylabel('Count', fontsize=12)  # Подпись оси Y\n",
        "\n",
        "plt.show()"
      ],
      "metadata": {
        "colab": {
          "base_uri": "https://localhost:8080/",
          "height": 569
        },
        "id": "ycyzec8t-O8u",
        "outputId": "3653ed22-cdc4-4280-8a82-8dbccfd900d3"
      },
      "execution_count": 97,
      "outputs": [
        {
          "output_type": "display_data",
          "data": {
            "text/plain": [
              "<Figure size 800x600 with 1 Axes>"
            ],
            "image/png": "[encoded data removed]"
          },
          "metadata": {}
        }
      ]
    },
    {
      "cell_type": "markdown",
      "source": [
        "Из вывода подсчета количества значений целевой переменной \"HeartDisease\" видно, что в датасете представлены два класса: 0 (отсутствие болезни сердца) и 1 (наличие болезни сердца).\n",
        "\n",
        "Количество записей пациентов без болезни сердца (HeartDisease=0) составляет 410, а количество записей пациентов с наличием болезни сердца (HeartDisease=1) составляет 508. Это говорит о том, что датасет не имеет ярко выраженного дисбаланса классов, что хорошо для построения модели и получения адекватных результатов предсказания.\n",
        "\n",
        "Таким образом, анализ распределения целевой переменной поможет правильно настроить модель и учесть особенности классов при дальнейшем обучении и оценке качества модели."
      ],
      "metadata": {
        "id": "kAisbbrt-xLh"
      }
    },
    {
      "cell_type": "markdown",
      "source": [
        "# 3. Разделение выборки на обучающее и тестовое подмножество:"
      ],
      "metadata": {
        "id": "8aObAQc_ACj_"
      }
    },
    {
      "cell_type": "code",
      "source": [
        "from sklearn.model_selection import train_test_split\n",
        "\n",
        "X = data.drop('HeartDisease', axis=1)\n",
        "y = data['HeartDisease']\n",
        "\n",
        "X_train, X_test, y_train, y_test = train_test_split(X, y, test_size=0.2, random_state=42)"
      ],
      "metadata": {
        "id": "EQzK1N7yADZ2"
      },
      "execution_count": 98,
      "outputs": []
    },
    {
      "cell_type": "markdown",
      "source": [
        "# 4. Обучение моделей"
      ],
      "metadata": {
        "id": "KQTWAjsHAI6x"
      }
    },
    {
      "cell_type": "markdown",
      "source": [
        "## a) tree.DecisionTreeClassifier"
      ],
      "metadata": {
        "id": "12Z4VG3C_hH3"
      }
    },
    {
      "cell_type": "code",
      "source": [
        "from sklearn.tree import DecisionTreeClassifier\n",
        "\n",
        "# Decision Tree\n",
        "dt = DecisionTreeClassifier(random_state=42)\n",
        "dt.fit(X_train, y_train)"
      ],
      "metadata": {
        "colab": {
          "base_uri": "https://localhost:8080/",
          "height": 74
        },
        "id": "XWJZeiSkAH23",
        "outputId": "34d386f1-5eb5-4d7f-9527-e0d15752b671"
      },
      "execution_count": 99,
      "outputs": [
        {
          "output_type": "execute_result",
          "data": {
            "text/plain": [
              "DecisionTreeClassifier(random_state=42)"
            ],
            "text/html": [
              "<style>#sk-container-id-9 {color: black;background-color: white;}#sk-container-id-9 pre{padding: 0;}#sk-container-id-9 div.sk-toggleable {background-color: white;}#sk-container-id-9 label.sk-toggleable__label {cursor: pointer;display: block;width: 100%;margin-bottom: 0;padding: 0.3em;box-sizing: border-box;text-align: center;}#sk-container-id-9 label.sk-toggleable__label-arrow:before {content: \"▸\";float: left;margin-right: 0.25em;color: #696969;}#sk-container-id-9 label.sk-toggleable__label-arrow:hover:before {color: black;}#sk-container-id-9 div.sk-estimator:hover label.sk-toggleable__label-arrow:before {color: black;}#sk-container-id-9 div.sk-toggleable__content {max-height: 0;max-width: 0;overflow: hidden;text-align: left;background-color: #f0f8ff;}#sk-container-id-9 div.sk-toggleable__content pre {margin: 0.2em;color: black;border-radius: 0.25em;background-color: #f0f8ff;}#sk-container-id-9 input.sk-toggleable__control:checked~div.sk-toggleable__content {max-height: 200px;max-width: 100%;overflow: auto;}#sk-container-id-9 input.sk-toggleable__control:checked~label.sk-toggleable__label-arrow:before {content: \"▾\";}#sk-container-id-9 div.sk-estimator input.sk-toggleable__control:checked~label.sk-toggleable__label {background-color: #d4ebff;}#sk-container-id-9 div.sk-label input.sk-toggleable__control:checked~label.sk-toggleable__label {background-color: #d4ebff;}#sk-container-id-9 input.sk-hidden--visually {border: 0;clip: rect(1px 1px 1px 1px);clip: rect(1px, 1px, 1px, 1px);height: 1px;margin: -1px;overflow: hidden;padding: 0;position: absolute;width: 1px;}#sk-container-id-9 div.sk-estimator {font-family: monospace;background-color: #f0f8ff;border: 1px dotted black;border-radius: 0.25em;box-sizing: border-box;margin-bottom: 0.5em;}#sk-container-id-9 div.sk-estimator:hover {background-color: #d4ebff;}#sk-container-id-9 div.sk-parallel-item::after {content: \"\";width: 100%;border-bottom: 1px solid gray;flex-grow: 1;}#sk-container-id-9 div.sk-label:hover label.sk-toggleable__label {background-color: #d4ebff;}#sk-container-id-9 div.sk-serial::before {content: \"\";position: absolute;border-left: 1px solid gray;box-sizing: border-box;top: 0;bottom: 0;left: 50%;z-index: 0;}#sk-container-id-9 div.sk-serial {display: flex;flex-direction: column;align-items: center;background-color: white;padding-right: 0.2em;padding-left: 0.2em;position: relative;}#sk-container-id-9 div.sk-item {position: relative;z-index: 1;}#sk-container-id-9 div.sk-parallel {display: flex;align-items: stretch;justify-content: center;background-color: white;position: relative;}#sk-container-id-9 div.sk-item::before, #sk-container-id-9 div.sk-parallel-item::before {content: \"\";position: absolute;border-left: 1px solid gray;box-sizing: border-box;top: 0;bottom: 0;left: 50%;z-index: -1;}#sk-container-id-9 div.sk-parallel-item {display: flex;flex-direction: column;z-index: 1;position: relative;background-color: white;}#sk-container-id-9 div.sk-parallel-item:first-child::after {align-self: flex-end;width: 50%;}#sk-container-id-9 div.sk-parallel-item:last-child::after {align-self: flex-start;width: 50%;}#sk-container-id-9 div.sk-parallel-item:only-child::after {width: 0;}#sk-container-id-9 div.sk-dashed-wrapped {border: 1px dashed gray;margin: 0 0.4em 0.5em 0.4em;box-sizing: border-box;padding-bottom: 0.4em;background-color: white;}#sk-container-id-9 div.sk-label label {font-family: monospace;font-weight: bold;display: inline-block;line-height: 1.2em;}#sk-container-id-9 div.sk-label-container {text-align: center;}#sk-container-id-9 div.sk-container {/* jupyter's `normalize.less` sets `[hidden] { display: none; }` but bootstrap.min.css set `[hidden] { display: none !important; }` so we also need the `!important` here to be able to override the default hidden behavior on the sphinx rendered scikit-learn.org. See: https://github.com/scikit-learn/scikit-learn/issues/21755 */display: inline-block !important;position: relative;}#sk-container-id-9 div.sk-text-repr-fallback {display: none;}</style><div id=\"sk-container-id-9\" class=\"sk-top-container\"><div class=\"sk-text-repr-fallback\"><pre>DecisionTreeClassifier(random_state=42)</pre><b>In a Jupyter environment, please rerun this cell to show the HTML representation or trust the notebook. <br />On GitHub, the HTML representation is unable to render, please try loading this page with nbviewer.org.</b></div><div class=\"sk-container\" hidden><div class=\"sk-item\"><div class=\"sk-estimator sk-toggleable\"><input class=\"sk-toggleable__control sk-hidden--visually\" id=\"sk-estimator-id-9\" type=\"checkbox\" checked><label for=\"sk-estimator-id-9\" class=\"sk-toggleable__label sk-toggleable__label-arrow\">DecisionTreeClassifier</label><div class=\"sk-toggleable__content\"><pre>DecisionTreeClassifier(random_state=42)</pre></div></div></div></div></div>"
            ]
          },
          "metadata": {},
          "execution_count": 99
        }
      ]
    },
    {
      "cell_type": "markdown",
      "source": [
        "## b) ensemble.RandomForestClassifier"
      ],
      "metadata": {
        "id": "PmBme_HRAZaW"
      }
    },
    {
      "cell_type": "code",
      "source": [
        "from sklearn.ensemble import RandomForestClassifier\n",
        "\n",
        "# Random Forest\n",
        "rf = RandomForestClassifier(random_state=42)\n",
        "rf.fit(X_train, y_train)"
      ],
      "metadata": {
        "colab": {
          "base_uri": "https://localhost:8080/",
          "height": 74
        },
        "id": "C0KdRi4SAPkq",
        "outputId": "3c468e32-03a4-4be4-91b3-3a8c10614c50"
      },
      "execution_count": 100,
      "outputs": [
        {
          "output_type": "execute_result",
          "data": {
            "text/plain": [
              "RandomForestClassifier(random_state=42)"
            ],
            "text/html": [
              "<style>#sk-container-id-10 {color: black;background-color: white;}#sk-container-id-10 pre{padding: 0;}#sk-container-id-10 div.sk-toggleable {background-color: white;}#sk-container-id-10 label.sk-toggleable__label {cursor: pointer;display: block;width: 100%;margin-bottom: 0;padding: 0.3em;box-sizing: border-box;text-align: center;}#sk-container-id-10 label.sk-toggleable__label-arrow:before {content: \"▸\";float: left;margin-right: 0.25em;color: #696969;}#sk-container-id-10 label.sk-toggleable__label-arrow:hover:before {color: black;}#sk-container-id-10 div.sk-estimator:hover label.sk-toggleable__label-arrow:before {color: black;}#sk-container-id-10 div.sk-toggleable__content {max-height: 0;max-width: 0;overflow: hidden;text-align: left;background-color: #f0f8ff;}#sk-container-id-10 div.sk-toggleable__content pre {margin: 0.2em;color: black;border-radius: 0.25em;background-color: #f0f8ff;}#sk-container-id-10 input.sk-toggleable__control:checked~div.sk-toggleable__content {max-height: 200px;max-width: 100%;overflow: auto;}#sk-container-id-10 input.sk-toggleable__control:checked~label.sk-toggleable__label-arrow:before {content: \"▾\";}#sk-container-id-10 div.sk-estimator input.sk-toggleable__control:checked~label.sk-toggleable__label {background-color: #d4ebff;}#sk-container-id-10 div.sk-label input.sk-toggleable__control:checked~label.sk-toggleable__label {background-color: #d4ebff;}#sk-container-id-10 input.sk-hidden--visually {border: 0;clip: rect(1px 1px 1px 1px);clip: rect(1px, 1px, 1px, 1px);height: 1px;margin: -1px;overflow: hidden;padding: 0;position: absolute;width: 1px;}#sk-container-id-10 div.sk-estimator {font-family: monospace;background-color: #f0f8ff;border: 1px dotted black;border-radius: 0.25em;box-sizing: border-box;margin-bottom: 0.5em;}#sk-container-id-10 div.sk-estimator:hover {background-color: #d4ebff;}#sk-container-id-10 div.sk-parallel-item::after {content: \"\";width: 100%;border-bottom: 1px solid gray;flex-grow: 1;}#sk-container-id-10 div.sk-label:hover label.sk-toggleable__label {background-color: #d4ebff;}#sk-container-id-10 div.sk-serial::before {content: \"\";position: absolute;border-left: 1px solid gray;box-sizing: border-box;top: 0;bottom: 0;left: 50%;z-index: 0;}#sk-container-id-10 div.sk-serial {display: flex;flex-direction: column;align-items: center;background-color: white;padding-right: 0.2em;padding-left: 0.2em;position: relative;}#sk-container-id-10 div.sk-item {position: relative;z-index: 1;}#sk-container-id-10 div.sk-parallel {display: flex;align-items: stretch;justify-content: center;background-color: white;position: relative;}#sk-container-id-10 div.sk-item::before, #sk-container-id-10 div.sk-parallel-item::before {content: \"\";position: absolute;border-left: 1px solid gray;box-sizing: border-box;top: 0;bottom: 0;left: 50%;z-index: -1;}#sk-container-id-10 div.sk-parallel-item {display: flex;flex-direction: column;z-index: 1;position: relative;background-color: white;}#sk-container-id-10 div.sk-parallel-item:first-child::after {align-self: flex-end;width: 50%;}#sk-container-id-10 div.sk-parallel-item:last-child::after {align-self: flex-start;width: 50%;}#sk-container-id-10 div.sk-parallel-item:only-child::after {width: 0;}#sk-container-id-10 div.sk-dashed-wrapped {border: 1px dashed gray;margin: 0 0.4em 0.5em 0.4em;box-sizing: border-box;padding-bottom: 0.4em;background-color: white;}#sk-container-id-10 div.sk-label label {font-family: monospace;font-weight: bold;display: inline-block;line-height: 1.2em;}#sk-container-id-10 div.sk-label-container {text-align: center;}#sk-container-id-10 div.sk-container {/* jupyter's `normalize.less` sets `[hidden] { display: none; }` but bootstrap.min.css set `[hidden] { display: none !important; }` so we also need the `!important` here to be able to override the default hidden behavior on the sphinx rendered scikit-learn.org. See: https://github.com/scikit-learn/scikit-learn/issues/21755 */display: inline-block !important;position: relative;}#sk-container-id-10 div.sk-text-repr-fallback {display: none;}</style><div id=\"sk-container-id-10\" class=\"sk-top-container\"><div class=\"sk-text-repr-fallback\"><pre>RandomForestClassifier(random_state=42)</pre><b>In a Jupyter environment, please rerun this cell to show the HTML representation or trust the notebook. <br />On GitHub, the HTML representation is unable to render, please try loading this page with nbviewer.org.</b></div><div class=\"sk-container\" hidden><div class=\"sk-item\"><div class=\"sk-estimator sk-toggleable\"><input class=\"sk-toggleable__control sk-hidden--visually\" id=\"sk-estimator-id-10\" type=\"checkbox\" checked><label for=\"sk-estimator-id-10\" class=\"sk-toggleable__label sk-toggleable__label-arrow\">RandomForestClassifier</label><div class=\"sk-toggleable__content\"><pre>RandomForestClassifier(random_state=42)</pre></div></div></div></div></div>"
            ]
          },
          "metadata": {},
          "execution_count": 100
        }
      ]
    },
    {
      "cell_type": "markdown",
      "source": [
        "# 5. Метрики для каждой построенной модели"
      ],
      "metadata": {
        "id": "h0hzPQlOAs-J"
      }
    },
    {
      "cell_type": "code",
      "source": [
        "from sklearn.metrics import classification_report"
      ],
      "metadata": {
        "id": "ryAVEDTO__MZ"
      },
      "execution_count": 101,
      "outputs": []
    },
    {
      "cell_type": "code",
      "source": [
        "dt_train_report = classification_report(y_train, dt.predict(X_train))\n",
        "print(\"Decision Tree Train:\")\n",
        "print(dt_train_report)\n",
        "\n",
        "dt_preds = dt.predict(X_test)\n",
        "print(\"Decision Tree:\")\n",
        "print(classification_report(y_test, dt_preds))"
      ],
      "metadata": {
        "colab": {
          "base_uri": "https://localhost:8080/"
        },
        "id": "lyqXRN-5Ab3w",
        "outputId": "eb32d9c9-125b-4f38-9cca-924f375d9110"
      },
      "execution_count": 102,
      "outputs": [
        {
          "output_type": "stream",
          "name": "stdout",
          "text": [
            "Decision Tree Train:\n",
            "              precision    recall  f1-score   support\n",
            "\n",
            "           0       1.00      1.00      1.00       333\n",
            "           1       1.00      1.00      1.00       401\n",
            "\n",
            "    accuracy                           1.00       734\n",
            "   macro avg       1.00      1.00      1.00       734\n",
            "weighted avg       1.00      1.00      1.00       734\n",
            "\n",
            "Decision Tree:\n",
            "              precision    recall  f1-score   support\n",
            "\n",
            "           0       0.73      0.83      0.78        77\n",
            "           1       0.86      0.78      0.82       107\n",
            "\n",
            "    accuracy                           0.80       184\n",
            "   macro avg       0.80      0.80      0.80       184\n",
            "weighted avg       0.81      0.80      0.80       184\n",
            "\n"
          ]
        }
      ]
    },
    {
      "cell_type": "code",
      "source": [
        "rf_train_report = classification_report(y_train, rf.predict(X_train))\n",
        "print(\"Random Forest Train:\")\n",
        "print(rf_train_report)\n",
        "\n",
        "rf_preds = rf.predict(X_test)\n",
        "print(\"Random Forest:\")\n",
        "print(classification_report(y_test, rf_preds))"
      ],
      "metadata": {
        "colab": {
          "base_uri": "https://localhost:8080/"
        },
        "id": "RmbFxRRNAf5T",
        "outputId": "d46ee36b-4c2d-4c82-f1c7-abf5bba3e6ad"
      },
      "execution_count": 103,
      "outputs": [
        {
          "output_type": "stream",
          "name": "stdout",
          "text": [
            "Random Forest Train:\n",
            "              precision    recall  f1-score   support\n",
            "\n",
            "           0       1.00      1.00      1.00       333\n",
            "           1       1.00      1.00      1.00       401\n",
            "\n",
            "    accuracy                           1.00       734\n",
            "   macro avg       1.00      1.00      1.00       734\n",
            "weighted avg       1.00      1.00      1.00       734\n",
            "\n",
            "Random Forest:\n",
            "              precision    recall  f1-score   support\n",
            "\n",
            "           0       0.85      0.87      0.86        77\n",
            "           1       0.90      0.89      0.90       107\n",
            "\n",
            "    accuracy                           0.88       184\n",
            "   macro avg       0.88      0.88      0.88       184\n",
            "weighted avg       0.88      0.88      0.88       184\n",
            "\n"
          ]
        }
      ]
    },
    {
      "cell_type": "markdown",
      "source": [
        "\n",
        "\n",
        "Из метрик видно, что обе модели (Decision Tree и Random Forest) показывают идеальную точность (accuracy = 1) на обучающей выборке, что может свидетельствовать о переобучении модели. При этом на тестовой выборке точность немного снижается, что указывает на то, что модели могут показывать плохую обобщающую способность.\n"
      ],
      "metadata": {
        "id": "LTTpp-O-BM5Z"
      }
    },
    {
      "cell_type": "markdown",
      "source": [
        "# 6. Вывод важности признаков для модели:"
      ],
      "metadata": {
        "id": "pMw-TKBpBw25"
      }
    },
    {
      "cell_type": "code",
      "source": [
        "# Вывод важности признаков\n",
        "import numpy as np\n",
        "import matplotlib.pyplot as plt\n",
        "\n",
        "feature_importances = rf.feature_importances_\n",
        "features = X.columns\n",
        "indices = np.argsort(feature_importances)[::-1]\n",
        "\n",
        "plt.figure(figsize=(10, 6))\n",
        "plt.bar(range(len(features)), feature_importances[indices])\n",
        "plt.xticks(range(len(features)), features[indices], rotation=90)\n",
        "plt.xlabel('Признаки')\n",
        "plt.ylabel('Важность признаков')\n",
        "plt.title('Важность признаков для Random Forest модели')\n",
        "plt.show()\n"
      ],
      "metadata": {
        "colab": {
          "base_uri": "https://localhost:8080/",
          "height": 688
        },
        "id": "q3a1kLGFByuC",
        "outputId": "2f3a8dde-6189-46ea-ff85-fd7a402494fc"
      },
      "execution_count": 104,
      "outputs": [
        {
          "output_type": "display_data",
          "data": {
            "text/plain": [
              "<Figure size 1000x600 with 1 Axes>"
            ],
            "image/png": "[encoded data removed]"
          },
          "metadata": {}
        }
      ]
    },
    {
      "cell_type": "markdown",
      "source": [
        "Анализ важности признаков, полученной из модели RandomForest, позволяет нам понять, какие признаки оказывают наибольшее влияние на прогнозирование наличия или отсутствия сердечных заболеваний.\n",
        "\n",
        "В данном случае, наиболее важными признаками являются:\n",
        "1. ST_Slope_Up: наклон сегмента ST при упражнении, имеет самую высокую важность среди всех признаков.\n",
        "2. Oldpeak: депрессия ST, также имеет высокую важность и вносит значительный вклад в прогнозирование.\n",
        "3. ST_Slope_Flat: плоский наклон сегмента ST при упражнении.\n",
        "4. Cholesterol: уровень холестерина в крови.\n",
        "5. MaxHR: максимальная достигнутая частота сердечных сокращений.\n",
        "6. Age: возраст пациента.\n"
      ],
      "metadata": {
        "id": "yVlv2ZFZHq6p"
      }
    },
    {
      "cell_type": "markdown",
      "source": [
        "# 7. Обучение бэггинга над моделью дерева решений:"
      ],
      "metadata": {
        "id": "ciTqa5akCiQX"
      }
    },
    {
      "cell_type": "code",
      "source": [
        "from sklearn.ensemble import BaggingClassifier\n",
        "\n",
        "# Bagging Classifier\n",
        "bagging_dt = BaggingClassifier(estimator=DecisionTreeClassifier(random_state=42), n_estimators=10, random_state=42)\n",
        "bagging_dt.fit(X_train, y_train)\n",
        "\n",
        "# Метрики для Bagging Classifier\n",
        "bagging_dt_train_report = classification_report(y_train, bagging_dt.predict(X_train))\n",
        "print(\"Bagging Decision Tree Train:\")\n",
        "print(bagging_dt_train_report)\n",
        "\n",
        "bagging_dt_preds = bagging_dt.predict(X_test)\n",
        "print(\"Bagging Decision Tree:\")\n",
        "print(classification_report(y_test, bagging_dt_preds))"
      ],
      "metadata": {
        "colab": {
          "base_uri": "https://localhost:8080/"
        },
        "id": "pn3jWpQWI4n_",
        "outputId": "898463b0-4bc3-413d-d5df-49c4b3f9d1ae"
      },
      "execution_count": 105,
      "outputs": [
        {
          "output_type": "stream",
          "name": "stdout",
          "text": [
            "Bagging Decision Tree Train:\n",
            "              precision    recall  f1-score   support\n",
            "\n",
            "           0       0.99      0.99      0.99       333\n",
            "           1       0.99      0.99      0.99       401\n",
            "\n",
            "    accuracy                           0.99       734\n",
            "   macro avg       0.99      0.99      0.99       734\n",
            "weighted avg       0.99      0.99      0.99       734\n",
            "\n",
            "Bagging Decision Tree:\n",
            "              precision    recall  f1-score   support\n",
            "\n",
            "           0       0.79      0.91      0.84        77\n",
            "           1       0.93      0.82      0.87       107\n",
            "\n",
            "    accuracy                           0.86       184\n",
            "   macro avg       0.86      0.87      0.86       184\n",
            "weighted avg       0.87      0.86      0.86       184\n",
            "\n"
          ]
        }
      ]
    },
    {
      "cell_type": "markdown",
      "source": [
        "По результатам обучения модели Bagging Decision Tree можно сделать следующие выводы:\n",
        "- На обучающем наборе данных модель показывает высокие показатели точности, полноты и f1-меры для обоих классов (0 и 1), что говорит о хорошем качестве обучения.\n",
        "- На тестовом наборе данных модель также показывает неплохие результаты, но немного ниже, чем на тренировочном наборе. Это может указывать на небольшое переобучение модели на тренировочных данных.\n"
      ],
      "metadata": {
        "id": "b_xPfRMMKLqS"
      }
    },
    {
      "cell_type": "markdown",
      "source": [
        "# 8. Обучение стекинга трех моделей (дерево решений, случайный лес и SVM):"
      ],
      "metadata": {
        "id": "NiFo07inDgod"
      }
    },
    {
      "cell_type": "code",
      "source": [
        "from sklearn.ensemble import StackingClassifier\n",
        "from sklearn.svm import LinearSVC\n",
        "from sklearn.linear_model import LogisticRegression\n",
        "\n",
        "# Stacking Classifier\n",
        "estimators = [\n",
        "    ('dt', DecisionTreeClassifier(random_state=42)),\n",
        "    ('rf', RandomForestClassifier(random_state=42)),\n",
        "    ('svm', LinearSVC(random_state=42, max_iter=10000))\n",
        "]\n",
        "\n",
        "stacking_model = StackingClassifier(estimators=estimators, final_estimator=LogisticRegression(random_state=42, max_iter=10000, solver='saga'), passthrough=True)\n",
        "stacking_model.fit(X_train, y_train)\n",
        "\n",
        "# Метрики для Stacking Classifier\n",
        "stacking_train_report = classification_report(y_train, stacking_model.predict(X_train))\n",
        "print(\"Stacking Classifier Train:\")\n",
        "print(stacking_train_report)\n",
        "\n",
        "stacking_preds = stacking_model.predict(X_test)\n",
        "print(\"Stacking Classifier:\")\n",
        "print(classification_report(y_test, stacking_preds))"
      ],
      "metadata": {
        "colab": {
          "base_uri": "https://localhost:8080/"
        },
        "id": "NUT_2dhDKszh",
        "outputId": "f6e6f0fd-39d3-4202-fc14-bff7036dc2e5"
      },
      "execution_count": 106,
      "outputs": [
        {
          "output_type": "stream",
          "name": "stderr",
          "text": [
            "/usr/local/lib/python3.10/dist-packages/sklearn/svm/_base.py:1244: ConvergenceWarning: Liblinear failed to converge, increase the number of iterations.\n",
            "  warnings.warn(\n",
            "/usr/local/lib/python3.10/dist-packages/sklearn/svm/_base.py:1244: ConvergenceWarning: Liblinear failed to converge, increase the number of iterations.\n",
            "  warnings.warn(\n",
            "/usr/local/lib/python3.10/dist-packages/sklearn/svm/_base.py:1244: ConvergenceWarning: Liblinear failed to converge, increase the number of iterations.\n",
            "  warnings.warn(\n",
            "/usr/local/lib/python3.10/dist-packages/sklearn/svm/_base.py:1244: ConvergenceWarning: Liblinear failed to converge, increase the number of iterations.\n",
            "  warnings.warn(\n",
            "/usr/local/lib/python3.10/dist-packages/sklearn/svm/_base.py:1244: ConvergenceWarning: Liblinear failed to converge, increase the number of iterations.\n",
            "  warnings.warn(\n",
            "/usr/local/lib/python3.10/dist-packages/sklearn/svm/_base.py:1244: ConvergenceWarning: Liblinear failed to converge, increase the number of iterations.\n",
            "  warnings.warn(\n"
          ]
        },
        {
          "output_type": "stream",
          "name": "stdout",
          "text": [
            "Stacking Classifier Train:\n",
            "              precision    recall  f1-score   support\n",
            "\n",
            "           0       0.91      0.84      0.87       333\n",
            "           1       0.87      0.94      0.90       401\n",
            "\n",
            "    accuracy                           0.89       734\n",
            "   macro avg       0.89      0.89      0.89       734\n",
            "weighted avg       0.89      0.89      0.89       734\n",
            "\n",
            "Stacking Classifier:\n",
            "              precision    recall  f1-score   support\n",
            "\n",
            "           0       0.81      0.83      0.82        77\n",
            "           1       0.88      0.86      0.87       107\n",
            "\n",
            "    accuracy                           0.85       184\n",
            "   macro avg       0.84      0.85      0.84       184\n",
            "weighted avg       0.85      0.85      0.85       184\n",
            "\n"
          ]
        }
      ]
    },
    {
      "cell_type": "markdown",
      "source": [
        "предупреждения о недостаточной сходимости модели LinearSVC, даже после увеличения количества итераций. В таком случае, можно попробовать еще один подход, который может помочь в сходимости моделей.\n",
        "\n",
        "Попробуем нормализовать исходные данные перед обучением моделей."
      ],
      "metadata": {
        "id": "8VwIOrUvPXCh"
      }
    },
    {
      "cell_type": "code",
      "source": [
        "from sklearn.preprocessing import StandardScaler\n",
        "\n",
        "scaler = StandardScaler()\n",
        "X_train_scaled = scaler.fit_transform(X_train)\n",
        "X_test_scaled = scaler.transform(X_test)\n",
        "\n",
        "# Обновленный Stacking Classifier с нормализованными данными\n",
        "stacking_model.fit(X_train_scaled, y_train)\n",
        "\n",
        "stacking_train_report = classification_report(y_train, stacking_model.predict(X_train_scaled))\n",
        "print(\"Stacking Classifier Train:\")\n",
        "print(stacking_train_report)\n",
        "\n",
        "stacking_preds = stacking_model.predict(X_test_scaled)\n",
        "print(\"Stacking Classifier:\")\n",
        "print(classification_report(y_test, stacking_preds))"
      ],
      "metadata": {
        "colab": {
          "base_uri": "https://localhost:8080/"
        },
        "id": "FdIZMp3eN5o8",
        "outputId": "07f0928a-9d31-40cf-d182-21b26dc1205d"
      },
      "execution_count": 107,
      "outputs": [
        {
          "output_type": "stream",
          "name": "stdout",
          "text": [
            "Stacking Classifier Train:\n",
            "              precision    recall  f1-score   support\n",
            "\n",
            "           0       0.91      0.87      0.89       333\n",
            "           1       0.90      0.93      0.91       401\n",
            "\n",
            "    accuracy                           0.90       734\n",
            "   macro avg       0.90      0.90      0.90       734\n",
            "weighted avg       0.90      0.90      0.90       734\n",
            "\n",
            "Stacking Classifier:\n",
            "              precision    recall  f1-score   support\n",
            "\n",
            "           0       0.83      0.87      0.85        77\n",
            "           1       0.90      0.87      0.89       107\n",
            "\n",
            "    accuracy                           0.87       184\n",
            "   macro avg       0.87      0.87      0.87       184\n",
            "weighted avg       0.87      0.87      0.87       184\n",
            "\n"
          ]
        }
      ]
    },
    {
      "cell_type": "markdown",
      "source": [
        "Метрики для Stacking Classifier на тренировочных и тестовых данных улучшились, и точность, полнота и F1-мера теперь составляют приблизительно 90% на обоих наборах данных. Это говорит о хорошем качестве модели и о том, что она правильно обобщает данные.\n"
      ],
      "metadata": {
        "id": "5WElHx7KKsaV"
      }
    },
    {
      "cell_type": "markdown",
      "source": [
        "# 9. Формулируем выводы по проделанной работе.\n"
      ],
      "metadata": {
        "id": "MX6oGBpkSE7Z"
      }
    },
    {
      "cell_type": "markdown",
      "source": [
        "a) По метрикам моделей можно сделать следующие выводы:\n",
        "\n",
        "- Decision Tree:\n",
        "Модель показывает высокую точность на обучающей выборке (100%), однако на тестовой выборке точность немного снижается (80%). Recall и F1-score также немного ниже на тестовой выборке.\n",
        "\n",
        "- Random Forest:\n",
        "Random Forest показывает более устойчивые результаты по сравнению с деревом решений. Точность на обучающей выборке составляет 100%, а на тестовой выборке - 88%. Recall и F1-score также выше по сравнению с Decision Tree.\n",
        "\n",
        "- Bagging Decision Tree:\n",
        "Bagging Decision Tree показывает хорошие результаты как на обучающей, так и на тестовой выборке. Точность на тестовой выборке составляет 86%, что выше, чем у Decision Tree и близко к Random Forest.\n",
        "\n",
        "- Stacking Classifier:\n",
        "Stacking Classifier сочетает в себе несколько моделей (Decision Tree, Random Forest, SVM) и дает хорошие результаты как на обучающей, так и на тестовой выборке. Точность на тестовой выборке составляет 87%, что является одним из лучших результатов среди всех моделей.\n",
        "\n",
        "b) Наилучшей моделью среди построенных является Stacking Classifier. Эта модель комбинирует преимущества нескольких различных моделей (дерево решений, случайный лес, SVM) и способствует улучшению обобщающей способности и уменьшению переобучения. Stacking Classifier дает хорошие показатели точности, recall и F1-score как на обучающей, так и на тестовой выборке, что делает ее наиболее эффективной для прогнозирования сердечных заболеваний по заданным признакам. Нормализация данных также улучшила результаты модели, что свидетельствует о ее универсальности и устойчивости к различным входным данным."
      ],
      "metadata": {
        "id": "R-kJipxgPl9J"
      }
    }
  ]
}