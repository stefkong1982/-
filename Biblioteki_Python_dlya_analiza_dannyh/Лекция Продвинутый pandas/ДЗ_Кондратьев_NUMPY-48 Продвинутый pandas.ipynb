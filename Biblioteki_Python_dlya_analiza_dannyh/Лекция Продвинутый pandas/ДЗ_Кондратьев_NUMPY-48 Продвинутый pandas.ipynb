{
  "cells": [
    {
      "cell_type": "markdown",
      "metadata": {
        "id": "view-in-github",
        "colab_type": "text"
      },
      "source": [
        "<a href=\"https://colab.research.google.com/github/stefkong1982/netology.ru/blob/Master/%D0%91%D0%B8%D0%B1%D0%BB%D0%B8%D0%BE%D1%82%D0%B5%D0%BA%D0%B8%20Python%20%D0%B4%D0%BB%D1%8F%20%D0%B0%D0%BD%D0%B0%D0%BB%D0%B8%D0%B7%D0%B0%20%D0%B4%D0%B0%D0%BD%D0%BD%D1%8B%D1%85/%D0%9B%D0%B5%D0%BA%D1%86%D0%B8%D1%8F%20%D0%9F%D1%80%D0%BE%D0%B4%D0%B2%D0%B8%D0%BD%D1%83%D1%82%D1%8B%D0%B9%20pandas/%D0%94%D0%97_%D0%9A%D0%BE%D0%BD%D0%B4%D1%80%D0%B0%D1%82%D1%8C%D0%B5%D0%B2_NUMPY-48%20%D0%9F%D1%80%D0%BE%D0%B4%D0%B2%D0%B8%D0%BD%D1%83%D1%82%D1%8B%D0%B9%20pandas.ipynb\" target=\"_parent\"><img src=\"https://colab.research.google.com/assets/colab-badge.svg\" alt=\"Open In Colab\"/></a>"
      ]
    },
    {
      "cell_type": "markdown",
      "metadata": {
        "id": "9GhqyMdow0QC"
      },
      "source": [
        "## Домашнее задание к лекции «Продвинутый pandas»"
      ]
    },
    {
      "cell_type": "markdown",
      "metadata": {
        "id": "aw1CWbMQw0QH"
      },
      "source": [
        "Преподаватель: Константин Башевой"
      ]
    },
    {
      "cell_type": "markdown",
      "metadata": {
        "id": "IKVCFeV0w0QH"
      },
      "source": [
        "### Задание 1\n",
        "Для датафрейма log из материалов занятия создайте столбец source_type по правилам:\n",
        "\n",
        "* если источник traffic_source равен Yandex или Google, то в source_type ставится organic;\n",
        "* для источников paid и email из России ставим ad;\n",
        "* для источников paid и email не из России ставим other;\n",
        "* все остальные варианты берём из traffic_source без изменений."
      ]
    },
    {
      "cell_type": "code",
      "execution_count": 1,
      "metadata": {
        "id": "nreA88t_w0QI"
      },
      "outputs": [],
      "source": [
        "import pandas as pd"
      ]
    },
    {
      "cell_type": "markdown",
      "metadata": {
        "id": "EfQNUKzww0QJ"
      },
      "source": [
        "Загружаем данные и изучаем"
      ]
    },
    {
      "cell_type": "code",
      "execution_count": null,
      "metadata": {
        "id": "su9bwBIJw0QK"
      },
      "outputs": [],
      "source": [
        "table = pd.read_csv('visit_log.csv', sep=';')\n",
        "table.head()"
      ]
    },
    {
      "cell_type": "code",
      "execution_count": null,
      "metadata": {
        "id": "Z7yHGbi6w0QL",
        "outputId": "fef5a989-ae56-4fb6-9b6a-bfa64cb8b4f3"
      },
      "outputs": [
        {
          "name": "stdout",
          "output_type": "stream",
          "text": [
            "<class 'pandas.core.frame.DataFrame'>\n",
            "RangeIndex: 18938 entries, 0 to 18937\n",
            "Data columns (total 6 columns):\n",
            " #   Column          Non-Null Count  Dtype \n",
            "---  ------          --------------  ----- \n",
            " 0   timestamp       18938 non-null  int64 \n",
            " 1   visit_id        18938 non-null  object\n",
            " 2   url             18938 non-null  object\n",
            " 3   region          18938 non-null  object\n",
            " 4   user_id         18938 non-null  object\n",
            " 5   traffic_source  18938 non-null  object\n",
            "dtypes: int64(1), object(5)\n",
            "memory usage: 887.8+ KB\n"
          ]
        }
      ],
      "source": [
        "table.info()"
      ]
    },
    {
      "cell_type": "markdown",
      "metadata": {
        "id": "E7O7wlkww0QM"
      },
      "source": [
        "Создаем функцию для определения значения source_type"
      ]
    },
    {
      "cell_type": "code",
      "execution_count": null,
      "metadata": {
        "id": "FAVEK1UOw0QM"
      },
      "outputs": [],
      "source": [
        "def get_source_type(row):\n",
        "    \"\"\"\n",
        "    Возвращает значение столбца 'source_type' на основе значения столбца 'traffic_source'\n",
        "    и 'region' в переданной строке данных.\n",
        "\n",
        "    Параметры:\n",
        "    - row: строка данных (запись), содержащая значения столбцов 'traffic_source' и 'region'\n",
        "\n",
        "    Возвращаемое значение:\n",
        "    Значение столбца 'source_type' на основе условий:\n",
        "\n",
        "    - Если значение столбца 'traffic_source' равно 'yandex' или 'google', возвращает 'organic'.\n",
        "    - Если значение столбца 'traffic_source' равно 'paid' или 'email' и значение столбца 'region' равно 'Russia', возвращает 'ad'.\n",
        "    - Если значение столбца 'traffic_source' равно 'paid' или 'email' и значение столбца 'region' не равно 'Russia', возвращает 'other'.\n",
        "    - В противном случае, возвращает значение столбца 'traffic_source'.\n",
        "    \"\"\"\n",
        "    if row['traffic_source'] in ['yandex', 'google']:\n",
        "        return 'organic'\n",
        "    elif row['traffic_source'] in ['paid', 'email']:\n",
        "        if row['region'] == 'Russia':\n",
        "            return 'ad'\n",
        "        else:\n",
        "            return 'other'\n",
        "    else:\n",
        "        return row['traffic_source']"
      ]
    },
    {
      "cell_type": "markdown",
      "metadata": {
        "id": "W8CqY7SMw0QN"
      },
      "source": [
        "Применяем функцию `get_source_type`"
      ]
    },
    {
      "cell_type": "code",
      "execution_count": null,
      "metadata": {
        "id": "No9QCdUdw0QO",
        "outputId": "cc788d80-afea-426c-938c-5a98dad79ac7"
      },
      "outputs": [
        {
          "data": {
            "text/html": [
              "<div>\n",
              "<style scoped>\n",
              "    .dataframe tbody tr th:only-of-type {\n",
              "        vertical-align: middle;\n",
              "    }\n",
              "\n",
              "    .dataframe tbody tr th {\n",
              "        vertical-align: top;\n",
              "    }\n",
              "\n",
              "    .dataframe thead th {\n",
              "        text-align: right;\n",
              "    }\n",
              "</style>\n",
              "<table border=\"1\" class=\"dataframe\">\n",
              "  <thead>\n",
              "    <tr style=\"text-align: right;\">\n",
              "      <th></th>\n",
              "      <th>timestamp</th>\n",
              "      <th>visit_id</th>\n",
              "      <th>url</th>\n",
              "      <th>region</th>\n",
              "      <th>user_id</th>\n",
              "      <th>traffic_source</th>\n",
              "      <th>source_type</th>\n",
              "    </tr>\n",
              "  </thead>\n",
              "  <tbody>\n",
              "    <tr>\n",
              "      <th>0</th>\n",
              "      <td>1549980692</td>\n",
              "      <td>e3b0c44298</td>\n",
              "      <td>https://host.ru/3c19b4ef7371864fa3</td>\n",
              "      <td>Russia</td>\n",
              "      <td>b1613cc09f</td>\n",
              "      <td>yandex</td>\n",
              "      <td>organic</td>\n",
              "    </tr>\n",
              "    <tr>\n",
              "      <th>1</th>\n",
              "      <td>1549980704</td>\n",
              "      <td>6e340b9cff</td>\n",
              "      <td>https://host.ru/c8d9213a31839f9a3a</td>\n",
              "      <td>Russia</td>\n",
              "      <td>4c3ec14bee</td>\n",
              "      <td>direct</td>\n",
              "      <td>direct</td>\n",
              "    </tr>\n",
              "    <tr>\n",
              "      <th>2</th>\n",
              "      <td>1549980715</td>\n",
              "      <td>96a296d224</td>\n",
              "      <td>https://host.ru/b8b58337d272ee7b15</td>\n",
              "      <td>Russia</td>\n",
              "      <td>a8c40697fb</td>\n",
              "      <td>yandex</td>\n",
              "      <td>organic</td>\n",
              "    </tr>\n",
              "    <tr>\n",
              "      <th>3</th>\n",
              "      <td>1549980725</td>\n",
              "      <td>709e80c884</td>\n",
              "      <td>https://host.ru/b8b58337d272ee7b15</td>\n",
              "      <td>Russia</td>\n",
              "      <td>521ac1d6a0</td>\n",
              "      <td>yandex</td>\n",
              "      <td>organic</td>\n",
              "    </tr>\n",
              "    <tr>\n",
              "      <th>4</th>\n",
              "      <td>1549980736</td>\n",
              "      <td>df3f619804</td>\n",
              "      <td>https://host.ru/b8b58337d272ee7b15</td>\n",
              "      <td>Russia</td>\n",
              "      <td>d7323c571c</td>\n",
              "      <td>yandex</td>\n",
              "      <td>organic</td>\n",
              "    </tr>\n",
              "  </tbody>\n",
              "</table>\n",
              "</div>"
            ],
            "text/plain": [
              "    timestamp    visit_id                                 url  region  \\\n",
              "0  1549980692  e3b0c44298  https://host.ru/3c19b4ef7371864fa3  Russia   \n",
              "1  1549980704  6e340b9cff  https://host.ru/c8d9213a31839f9a3a  Russia   \n",
              "2  1549980715  96a296d224  https://host.ru/b8b58337d272ee7b15  Russia   \n",
              "3  1549980725  709e80c884  https://host.ru/b8b58337d272ee7b15  Russia   \n",
              "4  1549980736  df3f619804  https://host.ru/b8b58337d272ee7b15  Russia   \n",
              "\n",
              "      user_id traffic_source source_type  \n",
              "0  b1613cc09f         yandex     organic  \n",
              "1  4c3ec14bee         direct      direct  \n",
              "2  a8c40697fb         yandex     organic  \n",
              "3  521ac1d6a0         yandex     organic  \n",
              "4  d7323c571c         yandex     organic  "
            ]
          },
          "execution_count": 28,
          "metadata": {},
          "output_type": "execute_result"
        }
      ],
      "source": [
        "table['source_type'] = table.apply(get_source_type, axis=1)\n",
        "table.head()"
      ]
    },
    {
      "cell_type": "markdown",
      "metadata": {
        "id": "O47zg0QZw0QO"
      },
      "source": [
        "Удаляем дубликаты, чтобы наглядно посмотреть как подставились значения."
      ]
    },
    {
      "cell_type": "code",
      "execution_count": null,
      "metadata": {
        "id": "_l4pZphRw0QP",
        "outputId": "de59def9-0e07-44b9-996b-4260b2509f15"
      },
      "outputs": [
        {
          "name": "stdout",
          "output_type": "stream",
          "text": [
            "   traffic_source source_type\n",
            "0          yandex     organic\n",
            "1          direct      direct\n",
            "6            paid          ad\n",
            "9           email          ad\n",
            "11         google     organic\n",
            "15           paid       other\n",
            "20          email       other\n"
          ]
        }
      ],
      "source": [
        "unique_values = table[['traffic_source', 'source_type']].drop_duplicates()\n",
        "print(unique_values)"
      ]
    },
    {
      "cell_type": "markdown",
      "metadata": {
        "id": "TIDQaBwCw0QP"
      },
      "source": [
        "Все сработало!"
      ]
    },
    {
      "cell_type": "markdown",
      "metadata": {
        "id": "ej64xRc8w0QP"
      },
      "source": [
        "### Задание 2\n",
        "В файле `URLs.txt` содержатся URL страниц новостного сайта. Вам нужно отфильтровать его по адресам страниц с текстами новостей. Известно, что шаблон страницы новостей имеет внутри URL конструкцию: /, затем 8 цифр, затем дефис. Выполните действия:\n",
        "\n",
        "Прочитайте содержимое файла с датафрейм.\n",
        "Отфильтруйте страницы с текстом новостей, используя метод `str.contains` и регулярное выражение в соответствие с заданным шаблоном."
      ]
    },
    {
      "cell_type": "code",
      "execution_count": null,
      "metadata": {
        "id": "cV5Z_XiTw0QQ"
      },
      "outputs": [],
      "source": [
        "import pandas as pd\n",
        "import re"
      ]
    },
    {
      "cell_type": "markdown",
      "metadata": {
        "id": "FuGG5eaaw0QQ"
      },
      "source": [
        "Загружаем файл `URLs.txt` в датафрейм и читаем содержимое"
      ]
    },
    {
      "cell_type": "code",
      "execution_count": null,
      "metadata": {
        "id": "E1Ul-XWqw0QQ",
        "outputId": "67f8a4df-bfed-48d7-e61d-3b1dba8bd51a"
      },
      "outputs": [
        {
          "data": {
            "text/html": [
              "<div>\n",
              "<style scoped>\n",
              "    .dataframe tbody tr th:only-of-type {\n",
              "        vertical-align: middle;\n",
              "    }\n",
              "\n",
              "    .dataframe tbody tr th {\n",
              "        vertical-align: top;\n",
              "    }\n",
              "\n",
              "    .dataframe thead th {\n",
              "        text-align: right;\n",
              "    }\n",
              "</style>\n",
              "<table border=\"1\" class=\"dataframe\">\n",
              "  <thead>\n",
              "    <tr style=\"text-align: right;\">\n",
              "      <th></th>\n",
              "      <th>url</th>\n",
              "    </tr>\n",
              "  </thead>\n",
              "  <tbody>\n",
              "    <tr>\n",
              "      <th>0</th>\n",
              "      <td>/world/</td>\n",
              "    </tr>\n",
              "    <tr>\n",
              "      <th>1</th>\n",
              "      <td>/latest/</td>\n",
              "    </tr>\n",
              "    <tr>\n",
              "      <th>2</th>\n",
              "      <td>/?updated=top</td>\n",
              "    </tr>\n",
              "    <tr>\n",
              "      <th>3</th>\n",
              "      <td>/politics/36188461-s-marta-zhizn-rossiyan-susc...</td>\n",
              "    </tr>\n",
              "    <tr>\n",
              "      <th>4</th>\n",
              "      <td>/world/36007585-tramp-pridumal-kak-reshit-ukra...</td>\n",
              "    </tr>\n",
              "  </tbody>\n",
              "</table>\n",
              "</div>"
            ],
            "text/plain": [
              "                                                 url\n",
              "0                                            /world/\n",
              "1                                           /latest/\n",
              "2                                      /?updated=top\n",
              "3  /politics/36188461-s-marta-zhizn-rossiyan-susc...\n",
              "4  /world/36007585-tramp-pridumal-kak-reshit-ukra..."
            ]
          },
          "execution_count": 31,
          "metadata": {},
          "output_type": "execute_result"
        }
      ],
      "source": [
        "df = pd.read_csv('URLs.txt')\n",
        "df.head()"
      ]
    },
    {
      "cell_type": "code",
      "execution_count": null,
      "metadata": {
        "id": "79o68EPWw0QR",
        "outputId": "2b1f31f5-dfd2-4621-9922-325e24de7f46"
      },
      "outputs": [
        {
          "data": {
            "text/html": [
              "<div>\n",
              "<style scoped>\n",
              "    .dataframe tbody tr th:only-of-type {\n",
              "        vertical-align: middle;\n",
              "    }\n",
              "\n",
              "    .dataframe tbody tr th {\n",
              "        vertical-align: top;\n",
              "    }\n",
              "\n",
              "    .dataframe thead th {\n",
              "        text-align: right;\n",
              "    }\n",
              "</style>\n",
              "<table border=\"1\" class=\"dataframe\">\n",
              "  <thead>\n",
              "    <tr style=\"text-align: right;\">\n",
              "      <th></th>\n",
              "      <th>url</th>\n",
              "    </tr>\n",
              "  </thead>\n",
              "  <tbody>\n",
              "    <tr>\n",
              "      <th>3</th>\n",
              "      <td>/politics/36188461-s-marta-zhizn-rossiyan-susc...</td>\n",
              "    </tr>\n",
              "    <tr>\n",
              "      <th>4</th>\n",
              "      <td>/world/36007585-tramp-pridumal-kak-reshit-ukra...</td>\n",
              "    </tr>\n",
              "    <tr>\n",
              "      <th>5</th>\n",
              "      <td>/science/36157853-nasa-sobiraet-ekstrennuyu-pr...</td>\n",
              "    </tr>\n",
              "    <tr>\n",
              "      <th>6</th>\n",
              "      <td>/video/36001498-poyavilis-pervye-podrobnosti-g...</td>\n",
              "    </tr>\n",
              "    <tr>\n",
              "      <th>7</th>\n",
              "      <td>/world/36007585-tramp-pridumal-kak-reshit-ukra...</td>\n",
              "    </tr>\n",
              "  </tbody>\n",
              "</table>\n",
              "</div>"
            ],
            "text/plain": [
              "                                                 url\n",
              "3  /politics/36188461-s-marta-zhizn-rossiyan-susc...\n",
              "4  /world/36007585-tramp-pridumal-kak-reshit-ukra...\n",
              "5  /science/36157853-nasa-sobiraet-ekstrennuyu-pr...\n",
              "6  /video/36001498-poyavilis-pervye-podrobnosti-g...\n",
              "7  /world/36007585-tramp-pridumal-kak-reshit-ukra..."
            ]
          },
          "execution_count": 32,
          "metadata": {},
          "output_type": "execute_result"
        }
      ],
      "source": [
        "news_df = df[df['url'].str.contains(r\"\\/\\d{8}-\", regex=True)]\n",
        "news_df.head()"
      ]
    },
    {
      "cell_type": "markdown",
      "metadata": {
        "id": "-a8lJjrdw0QR"
      },
      "source": [
        "Эта строка фильтрует исходный датафрейм `df` на основе условия, заданного внутри квадратных скобок (`[ ]`), и создает новый датафрейм `news_df` с отфильтрованными данными.\n",
        "\n",
        "Внутри скобок (`[ ]`) находится условие фильтрации:\n",
        "\n",
        "df['url'].str.contains(r\"\\/\\d{8}-\", regex=True)\n",
        "\n",
        "\n",
        "- `df['url']` обращается к столбцу 'url' в исходном датафрейме `df`.\n",
        "- `.str.contains()` является методом строки, который проверяет, содержит ли каждое значение в столбце 'url' заданное регулярное выражение или подстроку.\n",
        "- `r\"\\/\\d{8}-\"` - это регулярное выражение, используемое для поиска подстроки в тексте, соответствующей определенному шаблону. В данном регулярном выражении используются следующие элементы:\n",
        "\n",
        "- `r` перед кавычками, указывает на использование \"сырой\" строки (\"raw string\"), что означает, что обратная косая черта `\\` не будет интерпретироваться как специальный символ.\n",
        "- `\\/` - это обратная косая черта `\\`, за которой следует символ `/`. Обратная косая черта используется для экранирования символа `/`, чтобы он был интерпретирован как обычный символ, а не как разделитель шаблона.\n",
        "- `\\d` - это специальный символ, который соответствует любой цифре от 0 до 9.\n",
        "- `{8}` - это фигурные скобки, указывающие на количество повторений предыдущего элемента. В данном случае, `\\d{8}` означает, что мы ожидаем точно 8 цифр.\n",
        "- `-` - это символ тире, который ожидается после 8 цифр.\n",
        "\n",
        "Совместно все вышеперечисленные элементы образуют шаблон, который ищет подстроку, состоящую из символа `/`, за которым идут точно 8 цифр, а затем символ `-`.\n",
        "\n",
        "Примеры строк, которые могут соответствовать этому шаблону:\n",
        "\n",
        "- `/politics/36188461-`\n",
        "- `/world/36007585-`\n",
        "- `/science/36157853-`\n",
        "- `/video/36001498-`\n",
        "\n",
        "- `regex=True` указывает на использование регулярных выражений при поиске.\n",
        "\n",
        "Поэтому эта строка означает, что новый датафрейм `news_df` будет содержать только те строки из исходного датафрейма `df`, где столбец 'url' содержит подстроку, соответствующую заданному регулярному выражению."
      ]
    },
    {
      "cell_type": "markdown",
      "metadata": {
        "id": "CvBl8-cfw0QR"
      },
      "source": [
        "### Задание 3\n",
        "Используйте файл с оценками фильмов ml-latest-small/ratings.csv. Посчитайте среднее время жизни пользователей, которые выставили более 100 оценок. Под временем жизни понимается разница между максимальным и минимальным значениями столбца timestamp для данного значения userId."
      ]
    },
    {
      "cell_type": "code",
      "execution_count": null,
      "metadata": {
        "id": "RGfISgQBw0QS"
      },
      "outputs": [],
      "source": [
        "import pandas as pd"
      ]
    },
    {
      "cell_type": "code",
      "execution_count": null,
      "metadata": {
        "id": "-7RGZPZAw0QS",
        "outputId": "2adbbfaf-59eb-404a-e66d-719c1e56b919"
      },
      "outputs": [
        {
          "data": {
            "text/html": [
              "<div>\n",
              "<style scoped>\n",
              "    .dataframe tbody tr th:only-of-type {\n",
              "        vertical-align: middle;\n",
              "    }\n",
              "\n",
              "    .dataframe tbody tr th {\n",
              "        vertical-align: top;\n",
              "    }\n",
              "\n",
              "    .dataframe thead th {\n",
              "        text-align: right;\n",
              "    }\n",
              "</style>\n",
              "<table border=\"1\" class=\"dataframe\">\n",
              "  <thead>\n",
              "    <tr style=\"text-align: right;\">\n",
              "      <th></th>\n",
              "      <th>userId</th>\n",
              "      <th>movieId</th>\n",
              "      <th>rating</th>\n",
              "      <th>timestamp</th>\n",
              "    </tr>\n",
              "  </thead>\n",
              "  <tbody>\n",
              "    <tr>\n",
              "      <th>0</th>\n",
              "      <td>1</td>\n",
              "      <td>31</td>\n",
              "      <td>2.5</td>\n",
              "      <td>1260759144</td>\n",
              "    </tr>\n",
              "    <tr>\n",
              "      <th>1</th>\n",
              "      <td>1</td>\n",
              "      <td>1029</td>\n",
              "      <td>3.0</td>\n",
              "      <td>1260759179</td>\n",
              "    </tr>\n",
              "    <tr>\n",
              "      <th>2</th>\n",
              "      <td>1</td>\n",
              "      <td>1061</td>\n",
              "      <td>3.0</td>\n",
              "      <td>1260759182</td>\n",
              "    </tr>\n",
              "    <tr>\n",
              "      <th>3</th>\n",
              "      <td>1</td>\n",
              "      <td>1129</td>\n",
              "      <td>2.0</td>\n",
              "      <td>1260759185</td>\n",
              "    </tr>\n",
              "    <tr>\n",
              "      <th>4</th>\n",
              "      <td>1</td>\n",
              "      <td>1172</td>\n",
              "      <td>4.0</td>\n",
              "      <td>1260759205</td>\n",
              "    </tr>\n",
              "  </tbody>\n",
              "</table>\n",
              "</div>"
            ],
            "text/plain": [
              "   userId  movieId  rating   timestamp\n",
              "0       1       31     2.5  1260759144\n",
              "1       1     1029     3.0  1260759179\n",
              "2       1     1061     3.0  1260759182\n",
              "3       1     1129     2.0  1260759185\n",
              "4       1     1172     4.0  1260759205"
            ]
          },
          "execution_count": 34,
          "metadata": {},
          "output_type": "execute_result"
        }
      ],
      "source": [
        "ratings = pd.read_csv('ml-latest-small/ratings.csv')\n",
        "ratings.head()"
      ]
    },
    {
      "cell_type": "code",
      "execution_count": null,
      "metadata": {
        "id": "RfWH4dtsw0QS",
        "outputId": "be5d410a-a8da-4b80-a660-ce4d61343834"
      },
      "outputs": [
        {
          "data": {
            "text/html": [
              "<div>\n",
              "<style scoped>\n",
              "    .dataframe tbody tr th:only-of-type {\n",
              "        vertical-align: middle;\n",
              "    }\n",
              "\n",
              "    .dataframe tbody tr th {\n",
              "        vertical-align: top;\n",
              "    }\n",
              "\n",
              "    .dataframe thead th {\n",
              "        text-align: right;\n",
              "    }\n",
              "</style>\n",
              "<table border=\"1\" class=\"dataframe\">\n",
              "  <thead>\n",
              "    <tr style=\"text-align: right;\">\n",
              "      <th></th>\n",
              "      <th>userId</th>\n",
              "      <th>rating</th>\n",
              "    </tr>\n",
              "  </thead>\n",
              "  <tbody>\n",
              "    <tr>\n",
              "      <th>0</th>\n",
              "      <td>1</td>\n",
              "      <td>20</td>\n",
              "    </tr>\n",
              "    <tr>\n",
              "      <th>1</th>\n",
              "      <td>2</td>\n",
              "      <td>76</td>\n",
              "    </tr>\n",
              "    <tr>\n",
              "      <th>2</th>\n",
              "      <td>3</td>\n",
              "      <td>51</td>\n",
              "    </tr>\n",
              "    <tr>\n",
              "      <th>3</th>\n",
              "      <td>4</td>\n",
              "      <td>204</td>\n",
              "    </tr>\n",
              "    <tr>\n",
              "      <th>4</th>\n",
              "      <td>5</td>\n",
              "      <td>100</td>\n",
              "    </tr>\n",
              "  </tbody>\n",
              "</table>\n",
              "</div>"
            ],
            "text/plain": [
              "   userId  rating\n",
              "0       1      20\n",
              "1       2      76\n",
              "2       3      51\n",
              "3       4     204\n",
              "4       5     100"
            ]
          },
          "execution_count": 35,
          "metadata": {},
          "output_type": "execute_result"
        }
      ],
      "source": [
        "user_ratings_count = ratings.groupby('userId')['rating'].count().reset_index()\n",
        "user_ratings_count.head()"
      ]
    },
    {
      "cell_type": "markdown",
      "metadata": {
        "id": "efPxtF3Bw0QT"
      },
      "source": [
        "Данная строка выполняет следующие действия:\n",
        "\n",
        "1. `ratings.groupby('userId')` - группирует данные по столбцу \"userId\", что позволяет агрегировать данные для каждого уникального значения \"userId\".\n",
        "\n",
        "2. `['rating']` - указывает, что необходимо выполнить агрегацию для столбца \"rating\".\n",
        "\n",
        "3. `.count()` - вычисляет количество записей в каждой группе.\n",
        "\n",
        "4. `.reset_index()` - сбрасывает индекс групп и преобразует результат агрегации в DataFrame.\n",
        "\n",
        "Таким образом, `user_ratings_count` будет содержать DataFrame со столбцами \"userId\" и \"rating\", где в столбце \"rating\" указано количество оценок, которые каждый пользователь выставил."
      ]
    },
    {
      "cell_type": "code",
      "execution_count": null,
      "metadata": {
        "id": "t-u_nHyGw0QT",
        "outputId": "54ef0687-fc7e-48ab-f18b-fd24e29d0861"
      },
      "outputs": [
        {
          "data": {
            "text/html": [
              "<div>\n",
              "<style scoped>\n",
              "    .dataframe tbody tr th:only-of-type {\n",
              "        vertical-align: middle;\n",
              "    }\n",
              "\n",
              "    .dataframe tbody tr th {\n",
              "        vertical-align: top;\n",
              "    }\n",
              "\n",
              "    .dataframe thead th {\n",
              "        text-align: right;\n",
              "    }\n",
              "</style>\n",
              "<table border=\"1\" class=\"dataframe\">\n",
              "  <thead>\n",
              "    <tr style=\"text-align: right;\">\n",
              "      <th></th>\n",
              "      <th>userId</th>\n",
              "      <th>rating</th>\n",
              "    </tr>\n",
              "  </thead>\n",
              "  <tbody>\n",
              "    <tr>\n",
              "      <th>3</th>\n",
              "      <td>4</td>\n",
              "      <td>204</td>\n",
              "    </tr>\n",
              "    <tr>\n",
              "      <th>7</th>\n",
              "      <td>8</td>\n",
              "      <td>116</td>\n",
              "    </tr>\n",
              "    <tr>\n",
              "      <th>14</th>\n",
              "      <td>15</td>\n",
              "      <td>1700</td>\n",
              "    </tr>\n",
              "    <tr>\n",
              "      <th>16</th>\n",
              "      <td>17</td>\n",
              "      <td>363</td>\n",
              "    </tr>\n",
              "    <tr>\n",
              "      <th>18</th>\n",
              "      <td>19</td>\n",
              "      <td>423</td>\n",
              "    </tr>\n",
              "  </tbody>\n",
              "</table>\n",
              "</div>"
            ],
            "text/plain": [
              "    userId  rating\n",
              "3        4     204\n",
              "7        8     116\n",
              "14      15    1700\n",
              "16      17     363\n",
              "18      19     423"
            ]
          },
          "execution_count": 36,
          "metadata": {},
          "output_type": "execute_result"
        }
      ],
      "source": [
        "active_users = user_ratings_count[user_ratings_count['rating'] > 100]\n",
        "active_users.head()"
      ]
    },
    {
      "cell_type": "markdown",
      "metadata": {
        "id": "5DiPQxPuw0QT"
      },
      "source": [
        "Данная строка выполняет следующие действия:\n",
        "\n",
        "1. `user_ratings_count['rating']` - обращается к столбцу \"rating\" в DataFrame `user_ratings_count`, полученном на предыдущем шаге.\n",
        "\n",
        "2. `> 100` - сравнивает каждое значение столбца \"rating\" с числом 100. Результатом этого сравнения будет Series с булевыми значениями (True или False), где True будет соответствовать значениям столбца \"rating\", которые больше 100."
      ]
    },
    {
      "cell_type": "code",
      "execution_count": null,
      "metadata": {
        "id": "65bO9bWsw0QU",
        "outputId": "ba3180cb-9736-42f3-e43b-9f56adf17d4f"
      },
      "outputs": [
        {
          "data": {
            "text/html": [
              "<div>\n",
              "<style scoped>\n",
              "    .dataframe tbody tr th:only-of-type {\n",
              "        vertical-align: middle;\n",
              "    }\n",
              "\n",
              "    .dataframe tbody tr th {\n",
              "        vertical-align: top;\n",
              "    }\n",
              "\n",
              "    .dataframe thead th {\n",
              "        text-align: right;\n",
              "    }\n",
              "</style>\n",
              "<table border=\"1\" class=\"dataframe\">\n",
              "  <thead>\n",
              "    <tr style=\"text-align: right;\">\n",
              "      <th></th>\n",
              "      <th>userId</th>\n",
              "      <th>min</th>\n",
              "      <th>max</th>\n",
              "    </tr>\n",
              "  </thead>\n",
              "  <tbody>\n",
              "    <tr>\n",
              "      <th>0</th>\n",
              "      <td>1</td>\n",
              "      <td>1260759108</td>\n",
              "      <td>1260759205</td>\n",
              "    </tr>\n",
              "    <tr>\n",
              "      <th>1</th>\n",
              "      <td>2</td>\n",
              "      <td>835355395</td>\n",
              "      <td>835356246</td>\n",
              "    </tr>\n",
              "    <tr>\n",
              "      <th>2</th>\n",
              "      <td>3</td>\n",
              "      <td>1298861589</td>\n",
              "      <td>1298932787</td>\n",
              "    </tr>\n",
              "    <tr>\n",
              "      <th>3</th>\n",
              "      <td>4</td>\n",
              "      <td>949778714</td>\n",
              "      <td>949982274</td>\n",
              "    </tr>\n",
              "    <tr>\n",
              "      <th>4</th>\n",
              "      <td>5</td>\n",
              "      <td>1163373044</td>\n",
              "      <td>1163375145</td>\n",
              "    </tr>\n",
              "  </tbody>\n",
              "</table>\n",
              "</div>"
            ],
            "text/plain": [
              "   userId         min         max\n",
              "0       1  1260759108  1260759205\n",
              "1       2   835355395   835356246\n",
              "2       3  1298861589  1298932787\n",
              "3       4   949778714   949982274\n",
              "4       5  1163373044  1163375145"
            ]
          },
          "execution_count": 37,
          "metadata": {},
          "output_type": "execute_result"
        }
      ],
      "source": [
        "user_timestamps = ratings.groupby('userId')['timestamp'].agg(['min', 'max']).reset_index()\n",
        "user_timestamps.head()"
      ]
    },
    {
      "cell_type": "code",
      "execution_count": null,
      "metadata": {
        "id": "F1zaaUGKw0QU",
        "outputId": "fcd263c6-6b15-493c-d75b-e8281bb8e141"
      },
      "outputs": [
        {
          "data": {
            "text/html": [
              "<div>\n",
              "<style scoped>\n",
              "    .dataframe tbody tr th:only-of-type {\n",
              "        vertical-align: middle;\n",
              "    }\n",
              "\n",
              "    .dataframe tbody tr th {\n",
              "        vertical-align: top;\n",
              "    }\n",
              "\n",
              "    .dataframe thead th {\n",
              "        text-align: right;\n",
              "    }\n",
              "</style>\n",
              "<table border=\"1\" class=\"dataframe\">\n",
              "  <thead>\n",
              "    <tr style=\"text-align: right;\">\n",
              "      <th></th>\n",
              "      <th>userId</th>\n",
              "      <th>rating</th>\n",
              "      <th>min</th>\n",
              "      <th>max</th>\n",
              "    </tr>\n",
              "  </thead>\n",
              "  <tbody>\n",
              "    <tr>\n",
              "      <th>0</th>\n",
              "      <td>4</td>\n",
              "      <td>204</td>\n",
              "      <td>949778714</td>\n",
              "      <td>949982274</td>\n",
              "    </tr>\n",
              "    <tr>\n",
              "      <th>1</th>\n",
              "      <td>8</td>\n",
              "      <td>116</td>\n",
              "      <td>1154389340</td>\n",
              "      <td>1154474527</td>\n",
              "    </tr>\n",
              "    <tr>\n",
              "      <th>2</th>\n",
              "      <td>15</td>\n",
              "      <td>1700</td>\n",
              "      <td>997937239</td>\n",
              "      <td>1469330735</td>\n",
              "    </tr>\n",
              "    <tr>\n",
              "      <th>3</th>\n",
              "      <td>17</td>\n",
              "      <td>363</td>\n",
              "      <td>1127468587</td>\n",
              "      <td>1127476640</td>\n",
              "    </tr>\n",
              "    <tr>\n",
              "      <th>4</th>\n",
              "      <td>19</td>\n",
              "      <td>423</td>\n",
              "      <td>855190091</td>\n",
              "      <td>855195373</td>\n",
              "    </tr>\n",
              "  </tbody>\n",
              "</table>\n",
              "</div>"
            ],
            "text/plain": [
              "   userId  rating         min         max\n",
              "0       4     204   949778714   949982274\n",
              "1       8     116  1154389340  1154474527\n",
              "2      15    1700   997937239  1469330735\n",
              "3      17     363  1127468587  1127476640\n",
              "4      19     423   855190091   855195373"
            ]
          },
          "execution_count": 38,
          "metadata": {},
          "output_type": "execute_result"
        }
      ],
      "source": [
        "active_users_timestamps = pd.merge(active_users, user_timestamps, on='userId')\n",
        "active_users_timestamps.head()"
      ]
    },
    {
      "cell_type": "markdown",
      "metadata": {
        "id": "zPFLfKBsw0QU"
      },
      "source": [
        "Данная строка выполняет следующие действия:\n",
        "\n",
        "1. `ratings.groupby('userId')` - группирует данные по столбцу \"userId\", что позволяет агрегировать данные для каждого уникального значения \"userId\".\n",
        "\n",
        "2. `['timestamp']` - указывает, что необходимо выполнить агрегацию для столбца \"timestamp\".\n",
        "\n",
        "3. `.agg(['min', 'max'])` - применяет агрегирующую функцию для столбца \"timestamp\", в данном случае функции `min` и `max`. Эта операция вычисляет минимальное и максимальное значение \"timestamp\" для каждой группы.\n",
        "\n",
        "4. `.reset_index()` - сбрасывает индекс групп и преобразует результат агрегации в DataFrame.\n",
        "\n",
        "Таким образом, `user_timestamps` будет содержать DataFrame со столбцами \"userId\", \"min\" и \"max\", где \"min\" и \"max\" являются минимальным и максимальным значением \"timestamp\" для каждого пользователя. Это позволяет получить информацию о временном промежутке, в который пользователь давал оценки."
      ]
    },
    {
      "cell_type": "code",
      "execution_count": null,
      "metadata": {
        "id": "U0lcwcB2w0QU",
        "outputId": "799f1103-eba0-49e1-8a6a-39e1eb99a6bc"
      },
      "outputs": [
        {
          "data": {
            "text/html": [
              "<div>\n",
              "<style scoped>\n",
              "    .dataframe tbody tr th:only-of-type {\n",
              "        vertical-align: middle;\n",
              "    }\n",
              "\n",
              "    .dataframe tbody tr th {\n",
              "        vertical-align: top;\n",
              "    }\n",
              "\n",
              "    .dataframe thead th {\n",
              "        text-align: right;\n",
              "    }\n",
              "</style>\n",
              "<table border=\"1\" class=\"dataframe\">\n",
              "  <thead>\n",
              "    <tr style=\"text-align: right;\">\n",
              "      <th></th>\n",
              "      <th>userId</th>\n",
              "      <th>rating</th>\n",
              "      <th>min</th>\n",
              "      <th>max</th>\n",
              "    </tr>\n",
              "  </thead>\n",
              "  <tbody>\n",
              "    <tr>\n",
              "      <th>0</th>\n",
              "      <td>4</td>\n",
              "      <td>204</td>\n",
              "      <td>949778714</td>\n",
              "      <td>949982274</td>\n",
              "    </tr>\n",
              "    <tr>\n",
              "      <th>1</th>\n",
              "      <td>8</td>\n",
              "      <td>116</td>\n",
              "      <td>1154389340</td>\n",
              "      <td>1154474527</td>\n",
              "    </tr>\n",
              "    <tr>\n",
              "      <th>2</th>\n",
              "      <td>15</td>\n",
              "      <td>1700</td>\n",
              "      <td>997937239</td>\n",
              "      <td>1469330735</td>\n",
              "    </tr>\n",
              "    <tr>\n",
              "      <th>3</th>\n",
              "      <td>17</td>\n",
              "      <td>363</td>\n",
              "      <td>1127468587</td>\n",
              "      <td>1127476640</td>\n",
              "    </tr>\n",
              "    <tr>\n",
              "      <th>4</th>\n",
              "      <td>19</td>\n",
              "      <td>423</td>\n",
              "      <td>855190091</td>\n",
              "      <td>855195373</td>\n",
              "    </tr>\n",
              "  </tbody>\n",
              "</table>\n",
              "</div>"
            ],
            "text/plain": [
              "   userId  rating         min         max\n",
              "0       4     204   949778714   949982274\n",
              "1       8     116  1154389340  1154474527\n",
              "2      15    1700   997937239  1469330735\n",
              "3      17     363  1127468587  1127476640\n",
              "4      19     423   855190091   855195373"
            ]
          },
          "execution_count": 39,
          "metadata": {},
          "output_type": "execute_result"
        }
      ],
      "source": [
        "active_users_timestamps = pd.merge(active_users, user_timestamps, on='userId')\n",
        "active_users_timestamps.head()"
      ]
    },
    {
      "cell_type": "markdown",
      "metadata": {
        "id": "ERUjJ1W4w0QV"
      },
      "source": [
        "Данная строка выполняет следующие действия:\n",
        "\n",
        "1. `pd.merge()` - это функция из библиотеки pandas, которая выполняет операцию объединения (join) двух DataFrame по общему столбцу или нескольким общим столбцам.\n",
        "\n",
        "2. `active_users` - это DataFrame, содержащий информацию о активных пользователях, которые выставили более 100 оценок.\n",
        "\n",
        "3. `user_timestamps` - это DataFrame, содержащий информацию о временных промежутках, в которые каждый пользователь выставлял оценки.\n",
        "\n",
        "4. `on='userId'` - это параметр функции `pd.merge()`, указывающий, что объединение будет выполняться по столбцу 'userId'.\n",
        "\n",
        "Таким образом, `active_users_timestamps` будет содержать объединенный DataFrame, который будет включать информацию об активных пользователях и их временных промежутках, в которые они выставляли оценки. Результирующий DataFrame будет иметь все столбцы из `active_users` и `user_timestamps`, и строки будут объединены на основе значения столбца 'userId'.\n",
        "\n",
        "\n",
        "По умолчанию, функция `pd.merge()` выполняет левое объединение (left join). Это означает, что в результирующем DataFrame будут сохранены все строки из левого DataFrame (`active_users`), а значения столбцов из правого DataFrame (`user_timestamps`), которые соответствуют общим значениям столбца 'userId', также будут добавлены в результирующий DataFrame. Если значения столбца 'userId' отсутствуют в правом DataFrame, то соответствующие столбцы для этих значений будут заполнены пропущенными значениями (NaN).\n",
        "\n",
        "Таким образом, результат объединения (`active_users_timestamps`) будет содержать все строки из `active_users`, а также колонки из `user_timestamps`, которые соответствуют общим значениям столбца 'userId'.\n"
      ]
    },
    {
      "cell_type": "code",
      "execution_count": null,
      "metadata": {
        "id": "9v8X6FUSw0QV",
        "outputId": "5210b55d-7dbc-472f-ce7a-73f38526ac3f"
      },
      "outputs": [
        {
          "data": {
            "text/html": [
              "<div>\n",
              "<style scoped>\n",
              "    .dataframe tbody tr th:only-of-type {\n",
              "        vertical-align: middle;\n",
              "    }\n",
              "\n",
              "    .dataframe tbody tr th {\n",
              "        vertical-align: top;\n",
              "    }\n",
              "\n",
              "    .dataframe thead th {\n",
              "        text-align: right;\n",
              "    }\n",
              "</style>\n",
              "<table border=\"1\" class=\"dataframe\">\n",
              "  <thead>\n",
              "    <tr style=\"text-align: right;\">\n",
              "      <th></th>\n",
              "      <th>userId</th>\n",
              "      <th>rating</th>\n",
              "      <th>min</th>\n",
              "      <th>max</th>\n",
              "      <th>lifetime</th>\n",
              "    </tr>\n",
              "  </thead>\n",
              "  <tbody>\n",
              "    <tr>\n",
              "      <th>0</th>\n",
              "      <td>4</td>\n",
              "      <td>204</td>\n",
              "      <td>949778714</td>\n",
              "      <td>949982274</td>\n",
              "      <td>203560</td>\n",
              "    </tr>\n",
              "    <tr>\n",
              "      <th>1</th>\n",
              "      <td>8</td>\n",
              "      <td>116</td>\n",
              "      <td>1154389340</td>\n",
              "      <td>1154474527</td>\n",
              "      <td>85187</td>\n",
              "    </tr>\n",
              "    <tr>\n",
              "      <th>2</th>\n",
              "      <td>15</td>\n",
              "      <td>1700</td>\n",
              "      <td>997937239</td>\n",
              "      <td>1469330735</td>\n",
              "      <td>471393496</td>\n",
              "    </tr>\n",
              "    <tr>\n",
              "      <th>3</th>\n",
              "      <td>17</td>\n",
              "      <td>363</td>\n",
              "      <td>1127468587</td>\n",
              "      <td>1127476640</td>\n",
              "      <td>8053</td>\n",
              "    </tr>\n",
              "    <tr>\n",
              "      <th>4</th>\n",
              "      <td>19</td>\n",
              "      <td>423</td>\n",
              "      <td>855190091</td>\n",
              "      <td>855195373</td>\n",
              "      <td>5282</td>\n",
              "    </tr>\n",
              "  </tbody>\n",
              "</table>\n",
              "</div>"
            ],
            "text/plain": [
              "   userId  rating         min         max   lifetime\n",
              "0       4     204   949778714   949982274     203560\n",
              "1       8     116  1154389340  1154474527      85187\n",
              "2      15    1700   997937239  1469330735  471393496\n",
              "3      17     363  1127468587  1127476640       8053\n",
              "4      19     423   855190091   855195373       5282"
            ]
          },
          "execution_count": 40,
          "metadata": {},
          "output_type": "execute_result"
        }
      ],
      "source": [
        "active_users_timestamps['lifetime'] = active_users_timestamps['max'] - active_users_timestamps['min']\n",
        "active_users_timestamps.head()"
      ]
    },
    {
      "cell_type": "markdown",
      "metadata": {
        "id": "Y8eVnqHKw0QV"
      },
      "source": [
        "Данная строка выполняет следующие действия:\n",
        "\n",
        "\n",
        "1. `active_users_timestamps['lifetime']` - создание нового столбца 'lifetime' в DataFrame `active_users_timestamps` и присвоение ему значения, полученного на предыдущем шаге.\n",
        "\n",
        "2. `active_users_timestamps['max'] - active_users_timestamps['min']` - выполнение вычитания между значениями столбца 'max' и 'min' для каждой строки в DataFrame `active_users_timestamps`. Результатом этой операции будет новый Series, содержащий разницу между максимальным и минимальным значением 'timestamp' для каждого активного пользователя.\n",
        "\n",
        "\n",
        "\n",
        "Таким образом, после выполнения строки, DataFrame `active_users_timestamps` будет содержать новый столбец 'lifetime', содержащий разницу между максимальным и минимальным значением 'timestamp' для каждого активного пользователя. Этот столбец может представлять время активности (в промежутках), в которых каждый активный пользователь давал оценки."
      ]
    },
    {
      "cell_type": "code",
      "execution_count": null,
      "metadata": {
        "id": "aO5eAl84w0QV",
        "outputId": "f1cb7f9d-281e-4ec5-e67d-518327d5f8af"
      },
      "outputs": [
        {
          "name": "stdout",
          "output_type": "stream",
          "text": [
            "Среднее время жизни пользователей: 40080507.4496124\n"
          ]
        }
      ],
      "source": [
        "average_lifetime = active_users_timestamps['lifetime'].mean()\n",
        "print('Среднее время жизни пользователей:', average_lifetime)\n"
      ]
    },
    {
      "cell_type": "markdown",
      "metadata": {
        "id": "-hh1h95Bw0QW"
      },
      "source": [
        "`active_users_timestamps['lifetime'].mean()` - используется метод `.mean()` для подсчета среднего значения столбца 'lifetime'. Этот метод вычисляет среднее арифметическое всех значений в столбце 'lifetime'."
      ]
    },
    {
      "cell_type": "markdown",
      "metadata": {
        "id": "ILA13OUZw0QW"
      },
      "source": [
        "## Задание 4\n",
        "\n",
        "Дана статистика услуг перевозок клиентов компании по типам:\n",
        "- rzd - железнодорожные перевозки\n",
        "- auto - автомобильные перевозки\n",
        "- air - воздушные перевозки\n",
        "- client_base - адреса клиентов\n",
        "\n",
        "Нужно сформировать две таблицы:\n",
        "\n",
        "таблицу с тремя типами выручки для каждого client_id без указания адреса клиента;\n",
        "аналогичную таблицу по типам выручки с указанием адреса клиента.\n",
        "Обратите внимание, что в процессе объединения таблиц данные не должны теряться.\n"
      ]
    },
    {
      "cell_type": "markdown",
      "metadata": {
        "id": "aFzj9Ii3w0QW"
      },
      "source": [
        "Создаем новые объекты которые будут содержать статистику."
      ]
    },
    {
      "cell_type": "code",
      "execution_count": null,
      "metadata": {
        "id": "kJAsBwe1w0QW",
        "outputId": "13519194-8d6e-41cd-c815-b754f77d6f5b"
      },
      "outputs": [
        {
          "data": {
            "text/html": [
              "<div>\n",
              "<style scoped>\n",
              "    .dataframe tbody tr th:only-of-type {\n",
              "        vertical-align: middle;\n",
              "    }\n",
              "\n",
              "    .dataframe tbody tr th {\n",
              "        vertical-align: top;\n",
              "    }\n",
              "\n",
              "    .dataframe thead th {\n",
              "        text-align: right;\n",
              "    }\n",
              "</style>\n",
              "<table border=\"1\" class=\"dataframe\">\n",
              "  <thead>\n",
              "    <tr style=\"text-align: right;\">\n",
              "      <th></th>\n",
              "      <th>client_id</th>\n",
              "      <th>rzd_revenue</th>\n",
              "    </tr>\n",
              "  </thead>\n",
              "  <tbody>\n",
              "    <tr>\n",
              "      <th>0</th>\n",
              "      <td>111</td>\n",
              "      <td>1093</td>\n",
              "    </tr>\n",
              "    <tr>\n",
              "      <th>1</th>\n",
              "      <td>112</td>\n",
              "      <td>2810</td>\n",
              "    </tr>\n",
              "    <tr>\n",
              "      <th>2</th>\n",
              "      <td>113</td>\n",
              "      <td>10283</td>\n",
              "    </tr>\n",
              "    <tr>\n",
              "      <th>3</th>\n",
              "      <td>114</td>\n",
              "      <td>5774</td>\n",
              "    </tr>\n",
              "    <tr>\n",
              "      <th>4</th>\n",
              "      <td>115</td>\n",
              "      <td>981</td>\n",
              "    </tr>\n",
              "  </tbody>\n",
              "</table>\n",
              "</div>"
            ],
            "text/plain": [
              "   client_id  rzd_revenue\n",
              "0        111         1093\n",
              "1        112         2810\n",
              "2        113        10283\n",
              "3        114         5774\n",
              "4        115          981"
            ]
          },
          "execution_count": 42,
          "metadata": {},
          "output_type": "execute_result"
        }
      ],
      "source": [
        "rzd = pd.DataFrame(\n",
        "    {\n",
        "        'client_id': [111, 112, 113, 114, 115],\n",
        "        'rzd_revenue': [1093, 2810, 10283, 5774, 981]\n",
        "    }\n",
        ")\n",
        "rzd"
      ]
    },
    {
      "cell_type": "code",
      "execution_count": null,
      "metadata": {
        "id": "Jj3wQT85w0Qa",
        "outputId": "bd201556-a52a-4204-ff98-50e270ce4053"
      },
      "outputs": [
        {
          "data": {
            "text/html": [
              "<div>\n",
              "<style scoped>\n",
              "    .dataframe tbody tr th:only-of-type {\n",
              "        vertical-align: middle;\n",
              "    }\n",
              "\n",
              "    .dataframe tbody tr th {\n",
              "        vertical-align: top;\n",
              "    }\n",
              "\n",
              "    .dataframe thead th {\n",
              "        text-align: right;\n",
              "    }\n",
              "</style>\n",
              "<table border=\"1\" class=\"dataframe\">\n",
              "  <thead>\n",
              "    <tr style=\"text-align: right;\">\n",
              "      <th></th>\n",
              "      <th>client_id</th>\n",
              "      <th>auto_revenue</th>\n",
              "    </tr>\n",
              "  </thead>\n",
              "  <tbody>\n",
              "    <tr>\n",
              "      <th>0</th>\n",
              "      <td>113</td>\n",
              "      <td>57483</td>\n",
              "    </tr>\n",
              "    <tr>\n",
              "      <th>1</th>\n",
              "      <td>114</td>\n",
              "      <td>83</td>\n",
              "    </tr>\n",
              "    <tr>\n",
              "      <th>2</th>\n",
              "      <td>115</td>\n",
              "      <td>912</td>\n",
              "    </tr>\n",
              "    <tr>\n",
              "      <th>3</th>\n",
              "      <td>116</td>\n",
              "      <td>4834</td>\n",
              "    </tr>\n",
              "    <tr>\n",
              "      <th>4</th>\n",
              "      <td>117</td>\n",
              "      <td>98</td>\n",
              "    </tr>\n",
              "  </tbody>\n",
              "</table>\n",
              "</div>"
            ],
            "text/plain": [
              "   client_id  auto_revenue\n",
              "0        113         57483\n",
              "1        114            83\n",
              "2        115           912\n",
              "3        116          4834\n",
              "4        117            98"
            ]
          },
          "execution_count": 44,
          "metadata": {},
          "output_type": "execute_result"
        }
      ],
      "source": [
        "auto = pd.DataFrame(\n",
        "    {\n",
        "        'client_id': [113, 114, 115, 116, 117],\n",
        "        'auto_revenue': [57483, 83, 912, 4834, 98]\n",
        "    }\n",
        ")\n",
        "auto"
      ]
    },
    {
      "cell_type": "code",
      "execution_count": null,
      "metadata": {
        "id": "bbRVkjH5w0Qb",
        "outputId": "dfa75def-14d7-4673-8c03-3a334da3855c"
      },
      "outputs": [
        {
          "data": {
            "text/html": [
              "<div>\n",
              "<style scoped>\n",
              "    .dataframe tbody tr th:only-of-type {\n",
              "        vertical-align: middle;\n",
              "    }\n",
              "\n",
              "    .dataframe tbody tr th {\n",
              "        vertical-align: top;\n",
              "    }\n",
              "\n",
              "    .dataframe thead th {\n",
              "        text-align: right;\n",
              "    }\n",
              "</style>\n",
              "<table border=\"1\" class=\"dataframe\">\n",
              "  <thead>\n",
              "    <tr style=\"text-align: right;\">\n",
              "      <th></th>\n",
              "      <th>client_id</th>\n",
              "      <th>air_revenue</th>\n",
              "    </tr>\n",
              "  </thead>\n",
              "  <tbody>\n",
              "    <tr>\n",
              "      <th>0</th>\n",
              "      <td>115</td>\n",
              "      <td>81</td>\n",
              "    </tr>\n",
              "    <tr>\n",
              "      <th>1</th>\n",
              "      <td>116</td>\n",
              "      <td>4</td>\n",
              "    </tr>\n",
              "    <tr>\n",
              "      <th>2</th>\n",
              "      <td>117</td>\n",
              "      <td>13</td>\n",
              "    </tr>\n",
              "    <tr>\n",
              "      <th>3</th>\n",
              "      <td>118</td>\n",
              "      <td>173</td>\n",
              "    </tr>\n",
              "  </tbody>\n",
              "</table>\n",
              "</div>"
            ],
            "text/plain": [
              "   client_id  air_revenue\n",
              "0        115           81\n",
              "1        116            4\n",
              "2        117           13\n",
              "3        118          173"
            ]
          },
          "execution_count": 43,
          "metadata": {},
          "output_type": "execute_result"
        }
      ],
      "source": [
        "air = pd.DataFrame(\n",
        "    {\n",
        "        'client_id': [115, 116, 117, 118],\n",
        "        'air_revenue': [81, 4, 13, 173]\n",
        "    }\n",
        ")\n",
        "air"
      ]
    },
    {
      "cell_type": "code",
      "execution_count": null,
      "metadata": {
        "id": "qLWA9S0ww0Qb",
        "outputId": "747e738d-a846-4098-bc40-9c4739265c2d"
      },
      "outputs": [
        {
          "data": {
            "text/html": [
              "<div>\n",
              "<style scoped>\n",
              "    .dataframe tbody tr th:only-of-type {\n",
              "        vertical-align: middle;\n",
              "    }\n",
              "\n",
              "    .dataframe tbody tr th {\n",
              "        vertical-align: top;\n",
              "    }\n",
              "\n",
              "    .dataframe thead th {\n",
              "        text-align: right;\n",
              "    }\n",
              "</style>\n",
              "<table border=\"1\" class=\"dataframe\">\n",
              "  <thead>\n",
              "    <tr style=\"text-align: right;\">\n",
              "      <th></th>\n",
              "      <th>client_id</th>\n",
              "      <th>address</th>\n",
              "    </tr>\n",
              "  </thead>\n",
              "  <tbody>\n",
              "    <tr>\n",
              "      <th>0</th>\n",
              "      <td>111</td>\n",
              "      <td>Комсомольская 4</td>\n",
              "    </tr>\n",
              "    <tr>\n",
              "      <th>1</th>\n",
              "      <td>112</td>\n",
              "      <td>Энтузиастов 8а</td>\n",
              "    </tr>\n",
              "    <tr>\n",
              "      <th>2</th>\n",
              "      <td>113</td>\n",
              "      <td>Левобережная 1а</td>\n",
              "    </tr>\n",
              "    <tr>\n",
              "      <th>3</th>\n",
              "      <td>114</td>\n",
              "      <td>Мира 14</td>\n",
              "    </tr>\n",
              "    <tr>\n",
              "      <th>4</th>\n",
              "      <td>115</td>\n",
              "      <td>ЗЖБИиДК 1</td>\n",
              "    </tr>\n",
              "    <tr>\n",
              "      <th>5</th>\n",
              "      <td>116</td>\n",
              "      <td>Строителей 18</td>\n",
              "    </tr>\n",
              "    <tr>\n",
              "      <th>6</th>\n",
              "      <td>117</td>\n",
              "      <td>Панфиловская 33</td>\n",
              "    </tr>\n",
              "    <tr>\n",
              "      <th>7</th>\n",
              "      <td>118</td>\n",
              "      <td>Мастеркова 4</td>\n",
              "    </tr>\n",
              "  </tbody>\n",
              "</table>\n",
              "</div>"
            ],
            "text/plain": [
              "   client_id          address\n",
              "0        111  Комсомольская 4\n",
              "1        112   Энтузиастов 8а\n",
              "2        113  Левобережная 1а\n",
              "3        114          Мира 14\n",
              "4        115        ЗЖБИиДК 1\n",
              "5        116    Строителей 18\n",
              "6        117  Панфиловская 33\n",
              "7        118     Мастеркова 4"
            ]
          },
          "execution_count": 45,
          "metadata": {},
          "output_type": "execute_result"
        }
      ],
      "source": [
        "client_base = pd.DataFrame(\n",
        "    {\n",
        "        'client_id': [111, 112, 113, 114, 115, 116, 117, 118],\n",
        "        'address': ['Комсомольская 4', 'Энтузиастов 8а', 'Левобережная 1а', 'Мира 14', 'ЗЖБИиДК 1',\n",
        "                    'Строителей 18', 'Панфиловская 33', 'Мастеркова 4']\n",
        "    }\n",
        ")\n",
        "client_base"
      ]
    },
    {
      "cell_type": "code",
      "execution_count": null,
      "metadata": {
        "id": "gxVNoonKw0Qb",
        "outputId": "3dfda683-5685-40fc-800d-b6feb28cc64a"
      },
      "outputs": [
        {
          "data": {
            "text/html": [
              "<div>\n",
              "<style scoped>\n",
              "    .dataframe tbody tr th:only-of-type {\n",
              "        vertical-align: middle;\n",
              "    }\n",
              "\n",
              "    .dataframe tbody tr th {\n",
              "        vertical-align: top;\n",
              "    }\n",
              "\n",
              "    .dataframe thead th {\n",
              "        text-align: right;\n",
              "    }\n",
              "</style>\n",
              "<table border=\"1\" class=\"dataframe\">\n",
              "  <thead>\n",
              "    <tr style=\"text-align: right;\">\n",
              "      <th></th>\n",
              "      <th>client_id</th>\n",
              "      <th>rzd_revenue</th>\n",
              "      <th>auto_revenue</th>\n",
              "      <th>air_revenue</th>\n",
              "    </tr>\n",
              "  </thead>\n",
              "  <tbody>\n",
              "    <tr>\n",
              "      <th>0</th>\n",
              "      <td>111</td>\n",
              "      <td>1093.0</td>\n",
              "      <td>NaN</td>\n",
              "      <td>NaN</td>\n",
              "    </tr>\n",
              "    <tr>\n",
              "      <th>1</th>\n",
              "      <td>112</td>\n",
              "      <td>2810.0</td>\n",
              "      <td>NaN</td>\n",
              "      <td>NaN</td>\n",
              "    </tr>\n",
              "    <tr>\n",
              "      <th>2</th>\n",
              "      <td>113</td>\n",
              "      <td>10283.0</td>\n",
              "      <td>57483.0</td>\n",
              "      <td>NaN</td>\n",
              "    </tr>\n",
              "    <tr>\n",
              "      <th>3</th>\n",
              "      <td>114</td>\n",
              "      <td>5774.0</td>\n",
              "      <td>83.0</td>\n",
              "      <td>NaN</td>\n",
              "    </tr>\n",
              "    <tr>\n",
              "      <th>4</th>\n",
              "      <td>115</td>\n",
              "      <td>981.0</td>\n",
              "      <td>912.0</td>\n",
              "      <td>81.0</td>\n",
              "    </tr>\n",
              "    <tr>\n",
              "      <th>5</th>\n",
              "      <td>116</td>\n",
              "      <td>NaN</td>\n",
              "      <td>4834.0</td>\n",
              "      <td>4.0</td>\n",
              "    </tr>\n",
              "    <tr>\n",
              "      <th>6</th>\n",
              "      <td>117</td>\n",
              "      <td>NaN</td>\n",
              "      <td>98.0</td>\n",
              "      <td>13.0</td>\n",
              "    </tr>\n",
              "    <tr>\n",
              "      <th>7</th>\n",
              "      <td>118</td>\n",
              "      <td>NaN</td>\n",
              "      <td>NaN</td>\n",
              "      <td>173.0</td>\n",
              "    </tr>\n",
              "  </tbody>\n",
              "</table>\n",
              "</div>"
            ],
            "text/plain": [
              "   client_id  rzd_revenue  auto_revenue  air_revenue\n",
              "0        111       1093.0           NaN          NaN\n",
              "1        112       2810.0           NaN          NaN\n",
              "2        113      10283.0       57483.0          NaN\n",
              "3        114       5774.0          83.0          NaN\n",
              "4        115        981.0         912.0         81.0\n",
              "5        116          NaN        4834.0          4.0\n",
              "6        117          NaN          98.0         13.0\n",
              "7        118          NaN           NaN        173.0"
            ]
          },
          "execution_count": 46,
          "metadata": {},
          "output_type": "execute_result"
        }
      ],
      "source": [
        "revenue_without_address = pd.merge(rzd, auto, how='outer').merge(air, how='outer')\n",
        "revenue_without_address\n"
      ]
    },
    {
      "cell_type": "markdown",
      "metadata": {
        "id": "YfAwb1iUw0Qb"
      },
      "source": [
        "Данная строка кода выполняет объединение трех объектов DataFrame: `rzd`, `auto` и `air`. Результатом является новый DataFrame с названием `revenue_without_address`.\n",
        "\n",
        "Объединение происходит с помощью метода `merge()`, который применяется дважды. В первом вызове `merge()` объединяются DataFrame `rzd` и `auto`, а во втором - объединение этого результата с DataFrame `air`.\n",
        "\n",
        "Объединение происходит по уникальному столбцу, который присутствует в каждом из объектов DataFrame. В данном случае, такой столбец называется `client_id`.\n",
        "\n",
        "Параметр `how='outer'` указывает, что нужно использовать внешнее (внутреннее) объединение, то есть результат будет содержать все строки из каждого объекта DataFrame, даже если у них нет соответствующих значений в других объектах DataFrame.\n",
        "\n",
        "Результатом выполнения кода будет новый DataFrame `revenue_without_address`, который будет содержать все строки и столбцы из `rzd`, `auto` и `air`, объединенных по столбцу `client_id`, без дополнительных столбцов для адреса.\n",
        "\n",
        "По умолчанию, метод `pd.merge()` соединяет таблицы по общим столбцам. В случае, если в обеих таблицах есть столбец с одинаковым именем, то `pd.merge()` будет использовать этот столбец для соединения данных."
      ]
    },
    {
      "cell_type": "code",
      "execution_count": null,
      "metadata": {
        "id": "prL5yie-w0Qc",
        "outputId": "8f1448da-da21-431a-eb55-350d61f52e96"
      },
      "outputs": [
        {
          "data": {
            "text/html": [
              "<div>\n",
              "<style scoped>\n",
              "    .dataframe tbody tr th:only-of-type {\n",
              "        vertical-align: middle;\n",
              "    }\n",
              "\n",
              "    .dataframe tbody tr th {\n",
              "        vertical-align: top;\n",
              "    }\n",
              "\n",
              "    .dataframe thead th {\n",
              "        text-align: right;\n",
              "    }\n",
              "</style>\n",
              "<table border=\"1\" class=\"dataframe\">\n",
              "  <thead>\n",
              "    <tr style=\"text-align: right;\">\n",
              "      <th></th>\n",
              "      <th>client_id</th>\n",
              "      <th>rzd_revenue</th>\n",
              "      <th>auto_revenue</th>\n",
              "      <th>air_revenue</th>\n",
              "      <th>address</th>\n",
              "    </tr>\n",
              "  </thead>\n",
              "  <tbody>\n",
              "    <tr>\n",
              "      <th>0</th>\n",
              "      <td>111</td>\n",
              "      <td>1093.0</td>\n",
              "      <td>NaN</td>\n",
              "      <td>NaN</td>\n",
              "      <td>Комсомольская 4</td>\n",
              "    </tr>\n",
              "    <tr>\n",
              "      <th>1</th>\n",
              "      <td>112</td>\n",
              "      <td>2810.0</td>\n",
              "      <td>NaN</td>\n",
              "      <td>NaN</td>\n",
              "      <td>Энтузиастов 8а</td>\n",
              "    </tr>\n",
              "    <tr>\n",
              "      <th>2</th>\n",
              "      <td>113</td>\n",
              "      <td>10283.0</td>\n",
              "      <td>57483.0</td>\n",
              "      <td>NaN</td>\n",
              "      <td>Левобережная 1а</td>\n",
              "    </tr>\n",
              "    <tr>\n",
              "      <th>3</th>\n",
              "      <td>114</td>\n",
              "      <td>5774.0</td>\n",
              "      <td>83.0</td>\n",
              "      <td>NaN</td>\n",
              "      <td>Мира 14</td>\n",
              "    </tr>\n",
              "    <tr>\n",
              "      <th>4</th>\n",
              "      <td>115</td>\n",
              "      <td>981.0</td>\n",
              "      <td>912.0</td>\n",
              "      <td>81.0</td>\n",
              "      <td>ЗЖБИиДК 1</td>\n",
              "    </tr>\n",
              "    <tr>\n",
              "      <th>5</th>\n",
              "      <td>116</td>\n",
              "      <td>NaN</td>\n",
              "      <td>4834.0</td>\n",
              "      <td>4.0</td>\n",
              "      <td>Строителей 18</td>\n",
              "    </tr>\n",
              "    <tr>\n",
              "      <th>6</th>\n",
              "      <td>117</td>\n",
              "      <td>NaN</td>\n",
              "      <td>98.0</td>\n",
              "      <td>13.0</td>\n",
              "      <td>Панфиловская 33</td>\n",
              "    </tr>\n",
              "    <tr>\n",
              "      <th>7</th>\n",
              "      <td>118</td>\n",
              "      <td>NaN</td>\n",
              "      <td>NaN</td>\n",
              "      <td>173.0</td>\n",
              "      <td>Мастеркова 4</td>\n",
              "    </tr>\n",
              "  </tbody>\n",
              "</table>\n",
              "</div>"
            ],
            "text/plain": [
              "   client_id  rzd_revenue  auto_revenue  air_revenue          address\n",
              "0        111       1093.0           NaN          NaN  Комсомольская 4\n",
              "1        112       2810.0           NaN          NaN   Энтузиастов 8а\n",
              "2        113      10283.0       57483.0          NaN  Левобережная 1а\n",
              "3        114       5774.0          83.0          NaN          Мира 14\n",
              "4        115        981.0         912.0         81.0        ЗЖБИиДК 1\n",
              "5        116          NaN        4834.0          4.0    Строителей 18\n",
              "6        117          NaN          98.0         13.0  Панфиловская 33\n",
              "7        118          NaN           NaN        173.0     Мастеркова 4"
            ]
          },
          "execution_count": 49,
          "metadata": {},
          "output_type": "execute_result"
        }
      ],
      "source": [
        "revenue_with_address = pd.merge(revenue_without_address, client_base, how='outer')\n",
        "revenue_with_address"
      ]
    },
    {
      "cell_type": "markdown",
      "metadata": {
        "id": "deXdfIxPw0Qc"
      },
      "source": [
        "Данная строка кода выполняет объединение объекта DataFrame `revenue_without_address` и `client_base`. Результатом будет новый DataFrame с названием `revenue_with_address`.\n",
        "\n",
        "Объединение происходит с помощью метода `merge()`. В данном случае, объект DataFrame `revenue_without_address` объединяется с объектом DataFrame `client_base`.\n",
        "\n",
        "Объединение происходит по уникальному столбцу, который присутствует в каждом из объектов DataFrame. В данном случае, такой столбец называется `client_id`.\n",
        "\n",
        "Параметр `how='outer'` указывает, что нужно использовать внешнее (внутреннее) объединение, то есть результат будет содержать все строки из каждого объекта DataFrame, даже если у них нет соответствующих значений в других объектах DataFrame.\n",
        "\n",
        "Результатом выполнения кода будет новый DataFrame `revenue_with_address`, который будет содержать все строки и столбцы из `revenue_without_address` и `client_base`, объединенные по столбцу `client_id`."
      ]
    }
  ],
  "metadata": {
    "kernelspec": {
      "display_name": "Python 3",
      "language": "python",
      "name": "python3"
    },
    "language_info": {
      "codemirror_mode": {
        "name": "ipython",
        "version": 3
      },
      "file_extension": ".py",
      "mimetype": "text/x-python",
      "name": "python",
      "nbconvert_exporter": "python",
      "pygments_lexer": "ipython3",
      "version": "3.10.8"
    },
    "colab": {
      "provenance": [],
      "include_colab_link": true
    }
  },
  "nbformat": 4,
  "nbformat_minor": 0
}