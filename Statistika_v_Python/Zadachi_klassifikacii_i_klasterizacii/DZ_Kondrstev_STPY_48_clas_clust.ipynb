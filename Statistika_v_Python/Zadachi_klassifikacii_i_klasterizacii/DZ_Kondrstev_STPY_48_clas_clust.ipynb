{
  "nbformat": 4,
  "nbformat_minor": 0,
  "metadata": {
    "colab": {
      "provenance": [],
      "include_colab_link": true
    },
    "kernelspec": {
      "name": "python3",
      "display_name": "Python 3"
    },
    "language_info": {
      "name": "python"
    }
  },
  "cells": [
    {
      "cell_type": "markdown",
      "metadata": {
        "id": "view-in-github",
        "colab_type": "text"
      },
      "source": [
        "<a href=\"https://colab.research.google.com/github/stefkong1982/netology.ru/blob/Master/Statistika_v_Python/Zadachi_klassifikacii_i_klasterizacii/DZ_Kondrstev_STPY_48_clas_clust.ipynb\" target=\"_parent\"><img src=\"https://colab.research.google.com/assets/colab-badge.svg\" alt=\"Open In Colab\"/></a>"
      ]
    },
    {
      "cell_type": "markdown",
      "source": [
        "**Преподаватель:** Олег Булыгин\n",
        "\n",
        "### **Домашнее задание к лекции «Задачи классификации и кластеризации»**\n",
        "\n",
        "Задание.\n",
        "\n",
        "1. Возьмите датасет с цветками iris’а (функция load_iris из библиотеки sklearn)\n",
        "2. Оставьте два признака - sepal_length и sepal_width и целевую переменную - variety\n",
        "3. Разделите данные на выборку для обучения и тестирования\n",
        "4. Постройте модель LDA\n",
        "5. Визуализируйте предсказания для тестовой выборки и центры классов\n",
        "6. Отбросьте целевую переменную и оставьте только два признака - sepal_length и sepal_width\n",
        "7. Подберите оптимальное число кластеров для алгоритма kmeans и визуализируйте полученную кластеризацию"
      ],
      "metadata": {
        "id": "Rths75-Pe0VX"
      }
    },
    {
      "cell_type": "code",
      "source": [
        "from sklearn.datasets import load_iris # Датасет с цветками iris’а (функция load_iris из библиотеки sklearn)\n",
        "import pandas as pd\n",
        "import numpy as np\n",
        "import matplotlib.pyplot as plt\n",
        "import seaborn as sns\n",
        "from sklearn.model_selection import train_test_split\n",
        "from sklearn.discriminant_analysis import LinearDiscriminantAnalysis"
      ],
      "metadata": {
        "id": "kmEzw3gOin-z"
      },
      "execution_count": 16,
      "outputs": []
    },
    {
      "cell_type": "code",
      "source": [
        "# Загрузка данных из датасета iris\n",
        "iris = load_iris()"
      ],
      "metadata": {
        "id": "T0LBJBFmjlGA"
      },
      "execution_count": 9,
      "outputs": []
    },
    {
      "cell_type": "code",
      "source": [
        "print(iris.DESCR)"
      ],
      "metadata": {
        "id": "n_cKjcNSjwwi"
      },
      "execution_count": null,
      "outputs": []
    },
    {
      "cell_type": "code",
      "source": [
        "# Создание DataFrame с признаками\n",
        "data = pd.DataFrame(iris.data[:, :2], columns=iris.feature_names[:2])\n",
        "variety = iris.target"
      ],
      "metadata": {
        "id": "23XVcg1nuRW9"
      },
      "execution_count": 12,
      "outputs": []
    },
    {
      "cell_type": "code",
      "source": [
        "data"
      ],
      "metadata": {
        "id": "W0CmhPpoumX3"
      },
      "execution_count": null,
      "outputs": []
    },
    {
      "cell_type": "code",
      "source": [
        "variety"
      ],
      "metadata": {
        "id": "vfIA-3NPuwfK"
      },
      "execution_count": null,
      "outputs": []
    },
    {
      "cell_type": "code",
      "metadata": {
        "id": "lFjqjX-iwCaW"
      },
      "source": [
        "# разделяем выборку на тренировочную и тестовую\n",
        "X_train, X_test, y_train, y_test = train_test_split(data, variety, random_state=42)"
      ],
      "execution_count": 17,
      "outputs": []
    },
    {
      "cell_type": "code",
      "source": [
        "lda = LinearDiscriminantAnalysis()"
      ],
      "metadata": {
        "id": "Ua_6ZfaLvXfA"
      },
      "execution_count": 18,
      "outputs": []
    }
  ]
}