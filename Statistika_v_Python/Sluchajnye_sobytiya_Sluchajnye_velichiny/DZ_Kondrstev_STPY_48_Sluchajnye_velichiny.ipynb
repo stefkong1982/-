{
  "nbformat": 4,
  "nbformat_minor": 0,
  "metadata": {
    "colab": {
      "provenance": [],
      "include_colab_link": true
    },
    "kernelspec": {
      "name": "python3",
      "display_name": "Python 3"
    },
    "language_info": {
      "name": "python"
    }
  },
  "cells": [
    {
      "cell_type": "markdown",
      "metadata": {
        "id": "view-in-github",
        "colab_type": "text"
      },
      "source": [
        "<a href=\"https://colab.research.google.com/github/stefkong1982/netology.ru/blob/Master/Statistika_v_Python/Sluchajnye_sobytiya_Sluchajnye_velichiny/DZ_Kondrstev_STPY_48_Sluchajnye_velichiny.ipynb\" target=\"_parent\"><img src=\"https://colab.research.google.com/assets/colab-badge.svg\" alt=\"Open In Colab\"/></a>"
      ]
    },
    {
      "cell_type": "markdown",
      "source": [],
      "metadata": {
        "id": "itHu1CjfFBV2"
      }
    },
    {
      "cell_type": "markdown",
      "source": [
        "# Домашнее задание к лекции «Случайные события. Случайные величины»\n",
        "\n",
        "\n",
        "Задание\n",
        "Вопросы по заданию\n",
        "Преподаватель: Олег Булыгин\n",
        "Домашнее задание к лекции «Случайные события. Случайные величины»\n",
        "\n",
        "Смоделировать игру против лотерейного автомата типа “777”. Игрок платит 1 руб., после чего выпадает случайное целое число, равномерно распределенное от 0 до 999. При некоторых значениях числа игрок получает выигрыш.\n",
        "\n",
        "777: 200 руб.\n",
        "\n",
        "999: 100 руб.\n",
        "\n",
        "555: 50 руб.\n",
        "\n",
        "333: 15 руб.\n",
        "\n",
        "111: 10 руб.\n",
        "\n",
        "*77: 5 руб.\n",
        "\n",
        "**7: 3 руб.\n",
        "\n",
        "*00: 2 руб.\n",
        "\n",
        "**0: 1 руб.\n",
        "\n",
        "Вопросы:\n",
        "\n",
        "Выгодна ли игра игроку?\n",
        "Сколько в среднем приобретает или теряет игрок за одну игру?\n",
        "\n",
        "**Дополнительное задание повышенной сложности.**\n",
        "\n",
        "Теоретически рассчитать средний выигрыш (проигрыш) и сравнить с результатами моделирования\n",
        "\n",
        "`*` любая цифра"
      ],
      "metadata": {
        "id": "_sZMVyviFCj-"
      }
    },
    {
      "cell_type": "code",
      "source": [
        "import random\n",
        "\n",
        "def one_game():\n",
        "    result = random.randint(0, 999)\n",
        "    result_str = str(result).zfill(3)\n",
        "\n",
        "    if result_str == '777':\n",
        "        return 200\n",
        "    elif result_str == '999':\n",
        "        return 100\n",
        "    elif result_str == '555':\n",
        "        return 50\n",
        "    elif result_str == '333':\n",
        "        return 15\n",
        "    elif result_str == '111':\n",
        "        return 10\n",
        "    elif int(result_str) % 100 == 77:\n",
        "        return 5\n",
        "    elif int(result_str) % 10 == 7:\n",
        "        return 3\n",
        "    elif int(result_str) % 100 == 0:\n",
        "        return 2\n",
        "    elif int(result_str) % 10 == 0:\n",
        "        return 1\n",
        "    else:\n",
        "        return -1\n",
        "\n",
        "games_num = 1000000\n",
        "total = 0\n",
        "for i in range(games_num):\n",
        "    total += one_game()\n",
        "average_gain = total / games_num\n",
        "print('Средний выигрыш (проигрыш):', average_gain)\n",
        "total"
      ],
      "metadata": {
        "id": "0Gm3iE_XavGr",
        "outputId": "c89d3b09-a773-44c6-d04b-14cc29ce651b",
        "colab": {
          "base_uri": "https://localhost:8080/"
        }
      },
      "execution_count": 148,
      "outputs": [
        {
          "output_type": "stream",
          "name": "stdout",
          "text": [
            "Средний выигрыш (проигрыш): 0.003797\n"
          ]
        },
        {
          "output_type": "execute_result",
          "data": {
            "text/plain": [
              "3797"
            ]
          },
          "metadata": {},
          "execution_count": 148
        }
      ]
    },
    {
      "cell_type": "code",
      "source": [
        "sums = [200, 100, 50, 15, 10, 5, 3, 2, 1]\n",
        "prob = 1/1000\n",
        "\n",
        "average_win = sum([s * prob for s in sums])\n",
        "\n",
        "print(\"Средний выигрыш (проигрыш):\", average_win)\n"
      ],
      "metadata": {
        "id": "2Di6gZI4V_eG",
        "outputId": "b4c77855-4ab5-4dbd-bac8-e239fa50c084",
        "colab": {
          "base_uri": "https://localhost:8080/"
        }
      },
      "execution_count": 149,
      "outputs": [
        {
          "output_type": "stream",
          "name": "stdout",
          "text": [
            "Средний выигрыш (проигрыш): 0.38600000000000007\n"
          ]
        }
      ]
    }
  ]
}