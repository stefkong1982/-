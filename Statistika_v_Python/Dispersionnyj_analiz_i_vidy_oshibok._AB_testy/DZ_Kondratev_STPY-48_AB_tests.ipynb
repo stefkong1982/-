{
  "cells": [
    {
      "cell_type": "markdown",
      "metadata": {
        "id": "view-in-github",
        "colab_type": "text"
      },
      "source": [
        "<a href=\"https://colab.research.google.com/github/stefkong1982/netology.ru/blob/Master/Statistika_v_Python/Dispersionnyj_analiz_i_vidy_oshibok._AB_testy/DZ_Kondratev_STPY-48_AB_tests.ipynb\" target=\"_parent\"><img src=\"https://colab.research.google.com/assets/colab-badge.svg\" alt=\"Open In Colab\"/></a>"
      ]
    },
    {
      "cell_type": "markdown",
      "metadata": {
        "id": "IHmDeS2GqaAw"
      },
      "source": [
        "# Домашнее задание по теме \"Дисперсионный анализ и A/B-тесты\""
      ]
    },
    {
      "cell_type": "markdown",
      "metadata": {
        "id": "yOWsZUQ1qaA0"
      },
      "source": [
        "Ниже представлено несколько блоков задач. Пожалуйста, выполните их в этом ноутбуке, загрузите в [Google Colab](https://colab.research.google.com/notebooks/welcome.ipynb?hl=ru) и предоставьте ссылку на него эксперту через Личный Кабинет."
      ]
    },
    {
      "cell_type": "code",
      "execution_count": 71,
      "metadata": {
        "id": "vH_IO-njqaA1"
      },
      "outputs": [],
      "source": [
        " # Подгрузим пакеты\n",
        "import numpy as np\n",
        "import pandas as pd\n",
        "import scipy.stats as stats\n",
        "from scipy.stats import f_oneway\n",
        "import matplotlib.pyplot as plt\n",
        "import seaborn as sns"
      ]
    },
    {
      "cell_type": "markdown",
      "metadata": {
        "id": "ZA0JqxIxqaA3"
      },
      "source": [
        "### Блок 1"
      ]
    },
    {
      "cell_type": "markdown",
      "metadata": {
        "id": "8807LCN2qaA3"
      },
      "source": [
        "##### **Задание № 1**\n",
        "Вам даны результаты проверки двух препаратов.\n",
        "    \n",
        "Требуется:\n",
        "- Оценить, есть ли различие в эффекте у этих пациентов\n",
        "- Визуально подтвердить результат\n",
        "    \n",
        "`A` - результаты для группы людей получающих препарат А.\n",
        "\n",
        "`B` - результаты для другой группы людей, получающих препарат B."
      ]
    },
    {
      "cell_type": "markdown",
      "metadata": {
        "id": "4a0peMOM5bYD"
      },
      "source": [
        "##### Решение Задания № 1"
      ]
    },
    {
      "cell_type": "code",
      "execution_count": 72,
      "metadata": {
        "id": "ALJwhGq6qaA4"
      },
      "outputs": [],
      "source": [
        "np.random.seed(11)\n",
        "A = stats.norm.rvs(scale=30, loc=11, size=100)\n",
        "B = A + stats.norm.rvs(scale=54, loc=11, size=100)"
      ]
    },
    {
      "cell_type": "code",
      "execution_count": 73,
      "metadata": {
        "colab": {
          "base_uri": "https://localhost:8080/",
          "height": 481
        },
        "id": "2bw6etV8qY69",
        "outputId": "beb1d52b-c2fd-4e6f-984b-13f4e08347b9"
      },
      "outputs": [
        {
          "output_type": "display_data",
          "data": {
            "text/plain": [
              "<Figure size 640x480 with 1 Axes>"
            ],
            "image/png": "[encoded data removed]"
          },
          "metadata": {}
        },
        {
          "output_type": "stream",
          "name": "stdout",
          "text": [
            "Нет различия в эффекте у этих пациентов\n",
            "stat -1.733800647210997\n",
            "p 0.08451003973499756\n"
          ]
        }
      ],
      "source": [
        "# Оценка различия в эффекте\n",
        "stat, p = stats.ttest_ind(A, B)\n",
        "alpha = 0.05\n",
        "\n",
        "# Визуализация результатов\n",
        "plt.hist(A, alpha=0.5, label='Препарат A')\n",
        "plt.hist(B, alpha=0.5, label='Препарат B')\n",
        "plt.legend()\n",
        "plt.show()\n",
        "\n",
        "if p < alpha:\n",
        "    print('Есть различие в эффекте у этих пациентов')\n",
        "else:\n",
        "    print('Нет различия в эффекте у этих пациентов')\n",
        "\n",
        "print('stat', stat)\n",
        "print('p', p)"
      ]
    },
    {
      "cell_type": "markdown",
      "metadata": {
        "id": "7sxjGkwJqaA5"
      },
      "source": [
        "##### **Задание № 2**\n",
        "Допустим, вы решили устроить дачный эксперимент. Берем и поливаем одни огурцы водой, другие огурцы — водой с удобнением, третью группу огурцов будем поливать минералкой.\n",
        "    \n",
        " - Используя дисперсионный анализ, сделайте выводы о распредлениях результатов. Есть ли эффект от удобрения по сравнению с минералкой?\n",
        " - Помимо результата статистического теста, продемонстрируйте отличия визуально с помощью `boxplot` или `hist`\n",
        "    \n",
        "`water = [1,2,3,4,2,4,2,4,5,2,3,4,2,1,3,4,3,2,5,1]`\n",
        "\n",
        "`nutri = [1,2,4,6,5,6,7,5,4,5,6,7,4,3,5,5,6,5,4,3,5]`\n",
        "\n",
        "`mineral =[2,1,1,3,2,4,2,4,5,4,3,2,3,2,3,1,3,4,5,1,4]`"
      ]
    },
    {
      "cell_type": "markdown",
      "metadata": {
        "id": "hDKk2Ne05bYH"
      },
      "source": [
        "##### Решение Задания № 2"
      ]
    },
    {
      "cell_type": "code",
      "execution_count": 74,
      "metadata": {
        "id": "xXH94sI7qaA6"
      },
      "outputs": [],
      "source": [
        "water = [1,2,3,4,2,4,2,4,5,2,3,4,2,1,3,4,3,2,5,1]\n",
        "nutri = [1,2,4,6,5,6,7,5,4,5,6,7,4,3,5,5,6,5,4,3,5]\n",
        "mineral =[2,1,1,3,2,4,2,4,5,4,3,2,3,2,3,1,3,4,5,1,4]\n",
        "\n",
        "# Напишите Ваш код для решения задачи"
      ]
    },
    {
      "cell_type": "code",
      "execution_count": 75,
      "metadata": {
        "colab": {
          "base_uri": "https://localhost:8080/",
          "height": 523
        },
        "id": "TaHdNnI3qcx8",
        "outputId": "43201f34-8fa9-4768-d731-3da6e05f6b14"
      },
      "outputs": [
        {
          "output_type": "display_data",
          "data": {
            "text/plain": [
              "<Figure size 640x480 with 1 Axes>"
            ],
            "image/png": "[encoded data removed]"
          },
          "metadata": {}
        },
        {
          "output_type": "stream",
          "name": "stdout",
          "text": [
            "Есть эффект от удобрения по сравнению с минералкой\n",
            "stat 12.525963044834192\n",
            "p 2.9240047906326866e-05\n"
          ]
        }
      ],
      "source": [
        "# Дисперсионный анализ\n",
        "stat, p = stats.f_oneway(water, nutri, mineral)\n",
        "alpha = 0.05\n",
        "\n",
        "# Визуализация результатов\n",
        "data = [water, nutri, mineral]\n",
        "labels = ['Вода', 'Удобрение', 'Минералка']\n",
        "\n",
        "plt.boxplot(data, labels=labels)\n",
        "plt.xlabel('Группы')\n",
        "plt.ylabel('Значения')\n",
        "plt.title('Распределение результатов в разных группах')\n",
        "plt.show()\n",
        "\n",
        "if p < alpha:\n",
        "    print('Есть эффект от удобрения по сравнению с минералкой')\n",
        "else:\n",
        "    print('Нет эффекта от удобрения по сравнению с минералкой')\n",
        "\n",
        "print('stat', stat)\n",
        "print('p', p)"
      ]
    },
    {
      "cell_type": "markdown",
      "metadata": {
        "id": "O89dBYr8EeXt"
      },
      "source": [
        "можно сделать следующие выводы:\n",
        "\n",
        "- Значение `stat` составляет 12.53, что указывает на значительную разницу вариации между группами и внутри групп.\n",
        "- Значение `p` равно 2.92e-05 или 0.00002924, что является очень маленьким значением. Это означает, что вероятность получить наблюдаемую разницу между группами случайно очень низкая, поэтому мы можем отклонить нулевую гипотезу и сделать вывод, что есть статистически значимый эффект от удобрения по сравнению с минералкой.\n",
        "\n",
        "Для вывода более читаемого результата 0.00002924 вместо записи научной нотации 2.9240047906326866e-05, можно использовать форматирование строки с помощью метода `format` или модуля `f-string`."
      ]
    },
    {
      "cell_type": "markdown",
      "metadata": {
        "id": "6jIhDG1RqaA7"
      },
      "source": [
        "### Блок 2\n",
        "\n",
        "Cookie Cats"
      ]
    },
    {
      "cell_type": "markdown",
      "metadata": {
        "id": "lTpfmt5-5bYK"
      },
      "source": [
        "#### Задание № 1"
      ]
    },
    {
      "cell_type": "markdown",
      "metadata": {
        "id": "uKiyVvtsqaA7"
      },
      "source": [
        "Cookie Cats — чрезвычайно популярная мобильная игра, разработанная Tactile Entertainment. Это классическая игра-головоломка в стиле «соедините три», в которой игрок должен соединять плитки одного цвета, чтобы очистить поле и выиграть уровень. Здесь также есть поющие кошки.\n",
        "\n",
        "По мере прохождения уровней игроки время от времени сталкиваются с воротами, которые заставляют их ждать или совершать покупки в приложении, чтобы продолжить. Помимо стимулирования покупок в приложении, эти ворота дают игрокам вынужденный перерыв в игре, что, как мы надеемся, приведёт к увеличению времени, проведённому в игре, и продлению удовольствия от игры.\n",
        "\n",
        "<b>Но где ставить ворота? </b>\n",
        "Изначально первые ворота были размещены на уровне `30`. В этом проекте вам предлагается проанализировать A/B-тест, в котором создатели переместили первые ворота в Cookie Cats с `30` уровня на уровень `40`. В частности, вам надо рассмотреть влияние A/B-теста на удержание игроков."
      ]
    },
    {
      "cell_type": "markdown",
      "metadata": {
        "id": "hbiDy3_nqaA9"
      },
      "source": [
        "**Данные получены от 90 189 игроков, которые установили игру во время проведения A/B-теста. Переменные:**\n",
        "\n",
        "* `userid` - уникальный номер, идентифицирующий каждого игрока.\n",
        "* `version` - был ли игрок помещён в контрольную группу (gate_30 - ворота на уровне 30) или в тестовую группу (gate_40 - ворота на уровне 40).\n",
        "* `sum_gamerounds` - количество игровых раундов, сыгранных игроком в течение первой недели после установки\n",
        "* `retention_1` - игрок вернулся и поиграл через 1 день после установки?\n",
        "* `retention_7` - игрок вернулся и играл через 7 дней после установки?\n",
        "\n",
        "Когда игрок устанавливал игру, ему случайным образом назначали `gate_30` или `gate_40`.\n",
        "\n",
        "#### Задание: провести анализ данных и сделать выводы о лучшем месте для установки ворот.\n",
        "    \n",
        "**Замечание:** приведённых вспомогательных фрагментов кода не хватает для ответа на вопрос.\n",
        "\n",
        "Делать выводы необходимо, опираясь на статистические тесты, разобранные в лекции.\n",
        "\n",
        "Большим плюсом будет построение визуализиции для подтверждения ваших выводов. Рекомендуем использовать `seaborn` c его `sns.boxplot`/`sns.carplot`, `sns.barplot`, но можно обойтись и `matplotlib`"
      ]
    },
    {
      "cell_type": "markdown",
      "metadata": {
        "id": "KmjF3vS95bYL"
      },
      "source": [
        "#### Решение Задания № 1"
      ]
    },
    {
      "cell_type": "code",
      "execution_count": 76,
      "metadata": {
        "id": "rqXewMMs5bYL",
        "outputId": "d858b043-ead7-4c80-d8b9-5da6153df84d",
        "colab": {
          "base_uri": "https://localhost:8080/",
          "height": 204
        }
      },
      "outputs": [
        {
          "output_type": "execute_result",
          "data": {
            "text/plain": [
              "   userid  version  sum_gamerounds  retention_1  retention_7\n",
              "0     116  gate_30               3        False        False\n",
              "1     337  gate_30              38         True        False\n",
              "2     377  gate_40             165         True        False\n",
              "3     483  gate_40               1        False        False\n",
              "4     488  gate_40             179         True         True"
            ],
            "text/html": [
              "\n",
              "  <div id=\"df-4e689902-ece6-4b02-acda-6c09f4aebcf3\" class=\"colab-df-container\">\n",
              "    <div>\n",
              "<style scoped>\n",
              "    .dataframe tbody tr th:only-of-type {\n",
              "        vertical-align: middle;\n",
              "    }\n",
              "\n",
              "    .dataframe tbody tr th {\n",
              "        vertical-align: top;\n",
              "    }\n",
              "\n",
              "    .dataframe thead th {\n",
              "        text-align: right;\n",
              "    }\n",
              "</style>\n",
              "<table border=\"1\" class=\"dataframe\">\n",
              "  <thead>\n",
              "    <tr style=\"text-align: right;\">\n",
              "      <th></th>\n",
              "      <th>userid</th>\n",
              "      <th>version</th>\n",
              "      <th>sum_gamerounds</th>\n",
              "      <th>retention_1</th>\n",
              "      <th>retention_7</th>\n",
              "    </tr>\n",
              "  </thead>\n",
              "  <tbody>\n",
              "    <tr>\n",
              "      <th>0</th>\n",
              "      <td>116</td>\n",
              "      <td>gate_30</td>\n",
              "      <td>3</td>\n",
              "      <td>False</td>\n",
              "      <td>False</td>\n",
              "    </tr>\n",
              "    <tr>\n",
              "      <th>1</th>\n",
              "      <td>337</td>\n",
              "      <td>gate_30</td>\n",
              "      <td>38</td>\n",
              "      <td>True</td>\n",
              "      <td>False</td>\n",
              "    </tr>\n",
              "    <tr>\n",
              "      <th>2</th>\n",
              "      <td>377</td>\n",
              "      <td>gate_40</td>\n",
              "      <td>165</td>\n",
              "      <td>True</td>\n",
              "      <td>False</td>\n",
              "    </tr>\n",
              "    <tr>\n",
              "      <th>3</th>\n",
              "      <td>483</td>\n",
              "      <td>gate_40</td>\n",
              "      <td>1</td>\n",
              "      <td>False</td>\n",
              "      <td>False</td>\n",
              "    </tr>\n",
              "    <tr>\n",
              "      <th>4</th>\n",
              "      <td>488</td>\n",
              "      <td>gate_40</td>\n",
              "      <td>179</td>\n",
              "      <td>True</td>\n",
              "      <td>True</td>\n",
              "    </tr>\n",
              "  </tbody>\n",
              "</table>\n",
              "</div>\n",
              "    <div class=\"colab-df-buttons\">\n",
              "\n",
              "  <div class=\"colab-df-container\">\n",
              "    <button class=\"colab-df-convert\" onclick=\"convertToInteractive('df-4e689902-ece6-4b02-acda-6c09f4aebcf3')\"\n",
              "            title=\"Convert this dataframe to an interactive table.\"\n",
              "            style=\"display:none;\">\n",
              "\n",
              "  <svg xmlns=\"http://www.w3.org/2000/svg\" height=\"24px\" viewBox=\"0 -960 960 960\">\n",
              "    <path d=\"M120-120v-720h720v720H120Zm60-500h600v-160H180v160Zm220 220h160v-160H400v160Zm0 220h160v-160H400v160ZM180-400h160v-160H180v160Zm440 0h160v-160H620v160ZM180-180h160v-160H180v160Zm440 0h160v-160H620v160Z\"/>\n",
              "  </svg>\n",
              "    </button>\n",
              "\n",
              "  <style>\n",
              "    .colab-df-container {\n",
              "      display:flex;\n",
              "      gap: 12px;\n",
              "    }\n",
              "\n",
              "    .colab-df-convert {\n",
              "      background-color: #E8F0FE;\n",
              "      border: none;\n",
              "      border-radius: 50%;\n",
              "      cursor: pointer;\n",
              "      display: none;\n",
              "      fill: #1967D2;\n",
              "      height: 32px;\n",
              "      padding: 0 0 0 0;\n",
              "      width: 32px;\n",
              "    }\n",
              "\n",
              "    .colab-df-convert:hover {\n",
              "      background-color: #E2EBFA;\n",
              "      box-shadow: 0px 1px 2px rgba(60, 64, 67, 0.3), 0px 1px 3px 1px rgba(60, 64, 67, 0.15);\n",
              "      fill: #174EA6;\n",
              "    }\n",
              "\n",
              "    .colab-df-buttons div {\n",
              "      margin-bottom: 4px;\n",
              "    }\n",
              "\n",
              "    [theme=dark] .colab-df-convert {\n",
              "      background-color: #3B4455;\n",
              "      fill: #D2E3FC;\n",
              "    }\n",
              "\n",
              "    [theme=dark] .colab-df-convert:hover {\n",
              "      background-color: #434B5C;\n",
              "      box-shadow: 0px 1px 3px 1px rgba(0, 0, 0, 0.15);\n",
              "      filter: drop-shadow(0px 1px 2px rgba(0, 0, 0, 0.3));\n",
              "      fill: #FFFFFF;\n",
              "    }\n",
              "  </style>\n",
              "\n",
              "    <script>\n",
              "      const buttonEl =\n",
              "        document.querySelector('#df-4e689902-ece6-4b02-acda-6c09f4aebcf3 button.colab-df-convert');\n",
              "      buttonEl.style.display =\n",
              "        google.colab.kernel.accessAllowed ? 'block' : 'none';\n",
              "\n",
              "      async function convertToInteractive(key) {\n",
              "        const element = document.querySelector('#df-4e689902-ece6-4b02-acda-6c09f4aebcf3');\n",
              "        const dataTable =\n",
              "          await google.colab.kernel.invokeFunction('convertToInteractive',\n",
              "                                                    [key], {});\n",
              "        if (!dataTable) return;\n",
              "\n",
              "        const docLinkHtml = 'Like what you see? Visit the ' +\n",
              "          '<a target=\"_blank\" href=https://colab.research.google.com/notebooks/data_table.ipynb>data table notebook</a>'\n",
              "          + ' to learn more about interactive tables.';\n",
              "        element.innerHTML = '';\n",
              "        dataTable['output_type'] = 'display_data';\n",
              "        await google.colab.output.renderOutput(dataTable, element);\n",
              "        const docLink = document.createElement('div');\n",
              "        docLink.innerHTML = docLinkHtml;\n",
              "        element.appendChild(docLink);\n",
              "      }\n",
              "    </script>\n",
              "  </div>\n",
              "\n",
              "\n",
              "<div id=\"df-8f85d09f-686c-4f9c-a223-d9b3c3138855\">\n",
              "  <button class=\"colab-df-quickchart\" onclick=\"quickchart('df-8f85d09f-686c-4f9c-a223-d9b3c3138855')\"\n",
              "            title=\"Suggest charts\"\n",
              "            style=\"display:none;\">\n",
              "\n",
              "<svg xmlns=\"http://www.w3.org/2000/svg\" height=\"24px\"viewBox=\"0 0 24 24\"\n",
              "     width=\"24px\">\n",
              "    <g>\n",
              "        <path d=\"M19 3H5c-1.1 0-2 .9-2 2v14c0 1.1.9 2 2 2h14c1.1 0 2-.9 2-2V5c0-1.1-.9-2-2-2zM9 17H7v-7h2v7zm4 0h-2V7h2v10zm4 0h-2v-4h2v4z\"/>\n",
              "    </g>\n",
              "</svg>\n",
              "  </button>\n",
              "\n",
              "<style>\n",
              "  .colab-df-quickchart {\n",
              "      --bg-color: #E8F0FE;\n",
              "      --fill-color: #1967D2;\n",
              "      --hover-bg-color: #E2EBFA;\n",
              "      --hover-fill-color: #174EA6;\n",
              "      --disabled-fill-color: #AAA;\n",
              "      --disabled-bg-color: #DDD;\n",
              "  }\n",
              "\n",
              "  [theme=dark] .colab-df-quickchart {\n",
              "      --bg-color: #3B4455;\n",
              "      --fill-color: #D2E3FC;\n",
              "      --hover-bg-color: #434B5C;\n",
              "      --hover-fill-color: #FFFFFF;\n",
              "      --disabled-bg-color: #3B4455;\n",
              "      --disabled-fill-color: #666;\n",
              "  }\n",
              "\n",
              "  .colab-df-quickchart {\n",
              "    background-color: var(--bg-color);\n",
              "    border: none;\n",
              "    border-radius: 50%;\n",
              "    cursor: pointer;\n",
              "    display: none;\n",
              "    fill: var(--fill-color);\n",
              "    height: 32px;\n",
              "    padding: 0;\n",
              "    width: 32px;\n",
              "  }\n",
              "\n",
              "  .colab-df-quickchart:hover {\n",
              "    background-color: var(--hover-bg-color);\n",
              "    box-shadow: 0 1px 2px rgba(60, 64, 67, 0.3), 0 1px 3px 1px rgba(60, 64, 67, 0.15);\n",
              "    fill: var(--button-hover-fill-color);\n",
              "  }\n",
              "\n",
              "  .colab-df-quickchart-complete:disabled,\n",
              "  .colab-df-quickchart-complete:disabled:hover {\n",
              "    background-color: var(--disabled-bg-color);\n",
              "    fill: var(--disabled-fill-color);\n",
              "    box-shadow: none;\n",
              "  }\n",
              "\n",
              "  .colab-df-spinner {\n",
              "    border: 2px solid var(--fill-color);\n",
              "    border-color: transparent;\n",
              "    border-bottom-color: var(--fill-color);\n",
              "    animation:\n",
              "      spin 1s steps(1) infinite;\n",
              "  }\n",
              "\n",
              "  @keyframes spin {\n",
              "    0% {\n",
              "      border-color: transparent;\n",
              "      border-bottom-color: var(--fill-color);\n",
              "      border-left-color: var(--fill-color);\n",
              "    }\n",
              "    20% {\n",
              "      border-color: transparent;\n",
              "      border-left-color: var(--fill-color);\n",
              "      border-top-color: var(--fill-color);\n",
              "    }\n",
              "    30% {\n",
              "      border-color: transparent;\n",
              "      border-left-color: var(--fill-color);\n",
              "      border-top-color: var(--fill-color);\n",
              "      border-right-color: var(--fill-color);\n",
              "    }\n",
              "    40% {\n",
              "      border-color: transparent;\n",
              "      border-right-color: var(--fill-color);\n",
              "      border-top-color: var(--fill-color);\n",
              "    }\n",
              "    60% {\n",
              "      border-color: transparent;\n",
              "      border-right-color: var(--fill-color);\n",
              "    }\n",
              "    80% {\n",
              "      border-color: transparent;\n",
              "      border-right-color: var(--fill-color);\n",
              "      border-bottom-color: var(--fill-color);\n",
              "    }\n",
              "    90% {\n",
              "      border-color: transparent;\n",
              "      border-bottom-color: var(--fill-color);\n",
              "    }\n",
              "  }\n",
              "</style>\n",
              "\n",
              "  <script>\n",
              "    async function quickchart(key) {\n",
              "      const quickchartButtonEl =\n",
              "        document.querySelector('#' + key + ' button');\n",
              "      quickchartButtonEl.disabled = true;  // To prevent multiple clicks.\n",
              "      quickchartButtonEl.classList.add('colab-df-spinner');\n",
              "      try {\n",
              "        const charts = await google.colab.kernel.invokeFunction(\n",
              "            'suggestCharts', [key], {});\n",
              "      } catch (error) {\n",
              "        console.error('Error during call to suggestCharts:', error);\n",
              "      }\n",
              "      quickchartButtonEl.classList.remove('colab-df-spinner');\n",
              "      quickchartButtonEl.classList.add('colab-df-quickchart-complete');\n",
              "    }\n",
              "    (() => {\n",
              "      let quickchartButtonEl =\n",
              "        document.querySelector('#df-8f85d09f-686c-4f9c-a223-d9b3c3138855 button');\n",
              "      quickchartButtonEl.style.display =\n",
              "        google.colab.kernel.accessAllowed ? 'block' : 'none';\n",
              "    })();\n",
              "  </script>\n",
              "</div>\n",
              "    </div>\n",
              "  </div>\n"
            ]
          },
          "metadata": {},
          "execution_count": 76
        }
      ],
      "source": [
        "cookie_cats = 'https://raw.githubusercontent.com/a-milenkin/datasets_for_t-tests/main/cookie_cats.csv'\n",
        "\n",
        "data = pd.read_csv(cookie_cats, on_bad_lines='skip')  # Откроем датасет\n",
        "data.head()"
      ]
    },
    {
      "cell_type": "code",
      "execution_count": 77,
      "metadata": {
        "colab": {
          "base_uri": "https://localhost:8080/",
          "height": 875
        },
        "id": "opDApVYru7tB",
        "outputId": "c1dc6d4a-c838-49f7-e82a-66d1c0685167"
      },
      "outputs": [
        {
          "output_type": "display_data",
          "data": {
            "text/plain": [
              "<Figure size 1000x800 with 4 Axes>"
            ],
            "image/png": "[encoded data removed]"
          },
          "metadata": {}
        },
        {
          "output_type": "stream",
          "name": "stdout",
          "text": [
            "Установка ворот на 30 уровне приводит к лучшему удержанию игроков через 7 дней\n",
            "\n",
            "Stat: 3.1644994996802778\n",
            "p: 0.0015540151201088365\n"
          ]
        }
      ],
      "source": [
        "# Группировка данных по версиям игры\n",
        "grouped_data = data.groupby('version').agg({\n",
        "    'userid': 'count',\n",
        "    'sum_gamerounds': 'sum',\n",
        "    'retention_1': 'mean',\n",
        "    'retention_7': 'mean'\n",
        "}).rename(columns={'userid': 'count'})\n",
        "# В данном коде столбцы 'retention_1' и 'retention_7' являются бинарными,\n",
        "# содержащими значения True или False, представляющие соответственно удержание\n",
        "# пользователя на первый и седьмой день. Вычисление среднего значения для этих столбцов\n",
        "# даст нам пропорцию пользователей, которые остались на этих днях в каждой группе версий игры.\n",
        "\n",
        "# Визуализация с помощью графиков\n",
        "fig, axes = plt.subplots(2, 2, figsize=(10, 8))\n",
        "\n",
        "# Количество игроков в каждой версии\n",
        "sns.barplot(x=grouped_data.index, y='count', data=grouped_data, ax=axes[0, 0])\n",
        "axes[0, 0].set_title('Количество игроков')\n",
        "\n",
        "# Количество сыгранных раундов в каждой версии\n",
        "sns.barplot(x=grouped_data.index, y='sum_gamerounds', data=grouped_data, ax=axes[0, 1])\n",
        "axes[0, 1].set_title('Суммарное количество раундов')\n",
        "\n",
        "# Удержание игроков через 1 день после установки\n",
        "sns.barplot(x=grouped_data.index, y='retention_1', data=grouped_data, ax=axes[1, 0])\n",
        "axes[1, 0].set_title('Удержание через 1 день')\n",
        "\n",
        "# Удержание игроков через 7 дней после установки\n",
        "sns.barplot(x=grouped_data.index, y='retention_7', data=grouped_data, ax=axes[1, 1])\n",
        "axes[1, 1].set_title('Удержание через 7 дней')\n",
        "\n",
        "plt.tight_layout()\n",
        "plt.show()\n",
        "\n",
        "# Статистический тест для сравнения удержания\n",
        "gate_30_retention_7 = data[data['version'] == 'gate_30']['retention_7']\n",
        "gate_40_retention_7 = data[data['version'] == 'gate_40']['retention_7']\n",
        "\n",
        "stat, p = stats.ttest_ind(gate_30_retention_7, gate_40_retention_7)\n",
        "\n",
        "\n",
        "alpha = 0.05\n",
        "\n",
        "if p < alpha:\n",
        "    if stat < 0:\n",
        "        print('Установка ворот на 40 уровне приводит к лучшему удержанию игроков через 7 дней')\n",
        "    else:\n",
        "        print('Установка ворот на 30 уровне приводит к лучшему удержанию игроков через 7 дней')\n",
        "else:\n",
        "    print('Нет статистически значимой разницы между установкой ворот на 30 и 40 уровне в отношении удержания игроков через 7 дней')\n",
        "\n",
        "print('\\nStat:', stat)\n",
        "print('p:', p)\n"
      ]
    },
    {
      "cell_type": "markdown",
      "metadata": {
        "id": "7QE6JWVgqaBA"
      },
      "source": [
        "выводы:\n",
        "\n",
        "1. Количество игроков: Версия `gate_40` имеет незначительное преимущество в количестве игроков, но разница невелика.\n",
        "\n",
        "2. Суммарное количество раундов: Версии игры имеют примерно одинаковое количество сыгранных раундов, разница незначительна.\n",
        "\n",
        "3. Удержание через 1 день: Удержание игроков через 1 день после установки версии `gate_30` немного выше, чем у версии `gate_40`.\n",
        "\n",
        "4. Удержание через 7 дней: Удержание игроков через 7 дней после установки версии `gate_30` также немного выше, чем у версии `gate_40`.\n",
        "\n",
        "Проведенный `t-тест` показал значимую разницу между установкой ворот на 30 и 40 уровне в отношении удержания игроков через 7 дней. Установка ворот на 30 уровне оказывает более положительное влияние на удержание игроков, чем установка на 40 уровне. Это означает, что рассмотрение ворот на более низком уровне может быть перспективным для повышения ретенции игроков."
      ]
    },
    {
      "cell_type": "markdown",
      "metadata": {
        "id": "XZAHPt0vqaBA"
      },
      "source": [
        "### Блок 3\n",
        "#### Покемоны и A/B-тестирование"
      ]
    },
    {
      "cell_type": "markdown",
      "metadata": {
        "id": "dwFQ5JbJ5bYM"
      },
      "source": [
        "##### **Задание № 1**"
      ]
    },
    {
      "cell_type": "markdown",
      "metadata": {
        "id": "LTqTm9gOqaBB"
      },
      "source": [
        "Покемоны — это маленькие существа, которые сражаются друг с другом на соревнованиях. Все покемоны имеют разные характеристики (сила атаки, защиты и т. д.) и относятся к одному или двум так называемым классам (вода, огонь и т. д.).\n",
        "\n",
        "Профессор Оук является изобретателем Pokedex, портативного устройства, которое хранит информацию обо всех существующих покемонах. Как его ведущий специалист по данным, Вы только что получили от него запрос с просьбой осуществить аналитику данных на всех устройствах Pokedex.\n",
        "\n",
        "**Описание набора данных**\n",
        "Профессор Оук скопировал всё содержимое в память одного устройства Pokedex, в результате чего получился набор данных, с которым Вы будете работать в этой задаче. В этом файле каждая строка представляет характеристики одного покемона:\n",
        "\n",
        "* `pid`: Numeric - ID покемона\n",
        "* `HP`: Numeric - Очки здоровья\n",
        "* `Attack`: Numeric - Сила обычной атаки\n",
        "* `Defense`: Numeric - Сила обычной защиты\n",
        "* `Sp. Atk`: Numeric - Сила специальной атаки\n",
        "* `Sp. Def`: Numeric - Сила специальной защиты\n",
        "* `Speed`: Numeric - Скорость движений\n",
        "* `Legendary`: Boolean - «True», если покемон редкий\n",
        "* `Class 1`: Categorical - Класс покемона\n",
        "* `Class 2`: Categorical - Класс покемона\n",
        "\n",
        "**Обратите внимание, что у покемона может быть один или два класса. Если у покемона два класса, считается, что они имеют одинаковую значимость.**"
      ]
    },
    {
      "cell_type": "markdown",
      "metadata": {
        "id": "z6_doLEp5bYN"
      },
      "source": [
        "\n",
        "    \n",
        "Профессор Оук подозревает, что покемоны в классе `grass` имеют более сильную обычную атаку, чем покемоны в классе `rock`. Проверьте, прав ли он, и убедите его в своём выводе статистически.\n",
        "    \n",
        "Примечание:\n",
        "- покемоны, которые относятся к обоим классам, не должны входить в выборку;\n",
        "- Вы можете предположить, что распределение обычных атак является нормальным для всех классов покемонов."
      ]
    },
    {
      "cell_type": "markdown",
      "metadata": {
        "id": "s0sTOeLF5bYN"
      },
      "source": [
        "##### Решение Задания № 1"
      ]
    },
    {
      "cell_type": "code",
      "execution_count": 78,
      "metadata": {
        "colab": {
          "base_uri": "https://localhost:8080/",
          "height": 419
        },
        "id": "G_MYBCZdqaBB",
        "outputId": "ccb2f0dd-a226-4cdc-9255-706c9037406f"
      },
      "outputs": [
        {
          "output_type": "execute_result",
          "data": {
            "text/plain": [
              "     pid            Name  Class 1 Class 2  HP  Attack  Defense  Sp. Atk  \\\n",
              "0      1       Bulbasaur    Grass  Poison  45      49       49       65   \n",
              "1      2         Ivysaur    Grass  Poison  60      62       63       80   \n",
              "2      3        Venusaur    Grass  Poison  80      82       83      100   \n",
              "3      4   Mega Venusaur    Grass  Poison  80     100      123      122   \n",
              "4      5      Charmander     Fire     NaN  39      52       43       60   \n",
              "..   ...             ...      ...     ...  ..     ...      ...      ...   \n",
              "795  796         Diancie     Rock   Fairy  50     100      150      100   \n",
              "796  797    Mega Diancie     Rock   Fairy  50     160      110      160   \n",
              "797  798  Hoopa Confined  Psychic   Ghost  80     110       60      150   \n",
              "798  799   Hoopa Unbound  Psychic    Dark  80     160       60      170   \n",
              "799  800       Volcanion     Fire   Water  80     110      120      130   \n",
              "\n",
              "     Sp. Def  Speed  Legendary  \n",
              "0         65     45      False  \n",
              "1         80     60      False  \n",
              "2        100     80      False  \n",
              "3        120     80      False  \n",
              "4         50     65      False  \n",
              "..       ...    ...        ...  \n",
              "795      150     50       True  \n",
              "796      110    110       True  \n",
              "797      130     70       True  \n",
              "798      130     80       True  \n",
              "799       90     70       True  \n",
              "\n",
              "[800 rows x 11 columns]"
            ],
            "text/html": [
              "\n",
              "  <div id=\"df-08ee6b39-88f9-4d92-adc5-d2bb3578a676\" class=\"colab-df-container\">\n",
              "    <div>\n",
              "<style scoped>\n",
              "    .dataframe tbody tr th:only-of-type {\n",
              "        vertical-align: middle;\n",
              "    }\n",
              "\n",
              "    .dataframe tbody tr th {\n",
              "        vertical-align: top;\n",
              "    }\n",
              "\n",
              "    .dataframe thead th {\n",
              "        text-align: right;\n",
              "    }\n",
              "</style>\n",
              "<table border=\"1\" class=\"dataframe\">\n",
              "  <thead>\n",
              "    <tr style=\"text-align: right;\">\n",
              "      <th></th>\n",
              "      <th>pid</th>\n",
              "      <th>Name</th>\n",
              "      <th>Class 1</th>\n",
              "      <th>Class 2</th>\n",
              "      <th>HP</th>\n",
              "      <th>Attack</th>\n",
              "      <th>Defense</th>\n",
              "      <th>Sp. Atk</th>\n",
              "      <th>Sp. Def</th>\n",
              "      <th>Speed</th>\n",
              "      <th>Legendary</th>\n",
              "    </tr>\n",
              "  </thead>\n",
              "  <tbody>\n",
              "    <tr>\n",
              "      <th>0</th>\n",
              "      <td>1</td>\n",
              "      <td>Bulbasaur</td>\n",
              "      <td>Grass</td>\n",
              "      <td>Poison</td>\n",
              "      <td>45</td>\n",
              "      <td>49</td>\n",
              "      <td>49</td>\n",
              "      <td>65</td>\n",
              "      <td>65</td>\n",
              "      <td>45</td>\n",
              "      <td>False</td>\n",
              "    </tr>\n",
              "    <tr>\n",
              "      <th>1</th>\n",
              "      <td>2</td>\n",
              "      <td>Ivysaur</td>\n",
              "      <td>Grass</td>\n",
              "      <td>Poison</td>\n",
              "      <td>60</td>\n",
              "      <td>62</td>\n",
              "      <td>63</td>\n",
              "      <td>80</td>\n",
              "      <td>80</td>\n",
              "      <td>60</td>\n",
              "      <td>False</td>\n",
              "    </tr>\n",
              "    <tr>\n",
              "      <th>2</th>\n",
              "      <td>3</td>\n",
              "      <td>Venusaur</td>\n",
              "      <td>Grass</td>\n",
              "      <td>Poison</td>\n",
              "      <td>80</td>\n",
              "      <td>82</td>\n",
              "      <td>83</td>\n",
              "      <td>100</td>\n",
              "      <td>100</td>\n",
              "      <td>80</td>\n",
              "      <td>False</td>\n",
              "    </tr>\n",
              "    <tr>\n",
              "      <th>3</th>\n",
              "      <td>4</td>\n",
              "      <td>Mega Venusaur</td>\n",
              "      <td>Grass</td>\n",
              "      <td>Poison</td>\n",
              "      <td>80</td>\n",
              "      <td>100</td>\n",
              "      <td>123</td>\n",
              "      <td>122</td>\n",
              "      <td>120</td>\n",
              "      <td>80</td>\n",
              "      <td>False</td>\n",
              "    </tr>\n",
              "    <tr>\n",
              "      <th>4</th>\n",
              "      <td>5</td>\n",
              "      <td>Charmander</td>\n",
              "      <td>Fire</td>\n",
              "      <td>NaN</td>\n",
              "      <td>39</td>\n",
              "      <td>52</td>\n",
              "      <td>43</td>\n",
              "      <td>60</td>\n",
              "      <td>50</td>\n",
              "      <td>65</td>\n",
              "      <td>False</td>\n",
              "    </tr>\n",
              "    <tr>\n",
              "      <th>...</th>\n",
              "      <td>...</td>\n",
              "      <td>...</td>\n",
              "      <td>...</td>\n",
              "      <td>...</td>\n",
              "      <td>...</td>\n",
              "      <td>...</td>\n",
              "      <td>...</td>\n",
              "      <td>...</td>\n",
              "      <td>...</td>\n",
              "      <td>...</td>\n",
              "      <td>...</td>\n",
              "    </tr>\n",
              "    <tr>\n",
              "      <th>795</th>\n",
              "      <td>796</td>\n",
              "      <td>Diancie</td>\n",
              "      <td>Rock</td>\n",
              "      <td>Fairy</td>\n",
              "      <td>50</td>\n",
              "      <td>100</td>\n",
              "      <td>150</td>\n",
              "      <td>100</td>\n",
              "      <td>150</td>\n",
              "      <td>50</td>\n",
              "      <td>True</td>\n",
              "    </tr>\n",
              "    <tr>\n",
              "      <th>796</th>\n",
              "      <td>797</td>\n",
              "      <td>Mega Diancie</td>\n",
              "      <td>Rock</td>\n",
              "      <td>Fairy</td>\n",
              "      <td>50</td>\n",
              "      <td>160</td>\n",
              "      <td>110</td>\n",
              "      <td>160</td>\n",
              "      <td>110</td>\n",
              "      <td>110</td>\n",
              "      <td>True</td>\n",
              "    </tr>\n",
              "    <tr>\n",
              "      <th>797</th>\n",
              "      <td>798</td>\n",
              "      <td>Hoopa Confined</td>\n",
              "      <td>Psychic</td>\n",
              "      <td>Ghost</td>\n",
              "      <td>80</td>\n",
              "      <td>110</td>\n",
              "      <td>60</td>\n",
              "      <td>150</td>\n",
              "      <td>130</td>\n",
              "      <td>70</td>\n",
              "      <td>True</td>\n",
              "    </tr>\n",
              "    <tr>\n",
              "      <th>798</th>\n",
              "      <td>799</td>\n",
              "      <td>Hoopa Unbound</td>\n",
              "      <td>Psychic</td>\n",
              "      <td>Dark</td>\n",
              "      <td>80</td>\n",
              "      <td>160</td>\n",
              "      <td>60</td>\n",
              "      <td>170</td>\n",
              "      <td>130</td>\n",
              "      <td>80</td>\n",
              "      <td>True</td>\n",
              "    </tr>\n",
              "    <tr>\n",
              "      <th>799</th>\n",
              "      <td>800</td>\n",
              "      <td>Volcanion</td>\n",
              "      <td>Fire</td>\n",
              "      <td>Water</td>\n",
              "      <td>80</td>\n",
              "      <td>110</td>\n",
              "      <td>120</td>\n",
              "      <td>130</td>\n",
              "      <td>90</td>\n",
              "      <td>70</td>\n",
              "      <td>True</td>\n",
              "    </tr>\n",
              "  </tbody>\n",
              "</table>\n",
              "<p>800 rows × 11 columns</p>\n",
              "</div>\n",
              "    <div class=\"colab-df-buttons\">\n",
              "\n",
              "  <div class=\"colab-df-container\">\n",
              "    <button class=\"colab-df-convert\" onclick=\"convertToInteractive('df-08ee6b39-88f9-4d92-adc5-d2bb3578a676')\"\n",
              "            title=\"Convert this dataframe to an interactive table.\"\n",
              "            style=\"display:none;\">\n",
              "\n",
              "  <svg xmlns=\"http://www.w3.org/2000/svg\" height=\"24px\" viewBox=\"0 -960 960 960\">\n",
              "    <path d=\"M120-120v-720h720v720H120Zm60-500h600v-160H180v160Zm220 220h160v-160H400v160Zm0 220h160v-160H400v160ZM180-400h160v-160H180v160Zm440 0h160v-160H620v160ZM180-180h160v-160H180v160Zm440 0h160v-160H620v160Z\"/>\n",
              "  </svg>\n",
              "    </button>\n",
              "\n",
              "  <style>\n",
              "    .colab-df-container {\n",
              "      display:flex;\n",
              "      gap: 12px;\n",
              "    }\n",
              "\n",
              "    .colab-df-convert {\n",
              "      background-color: #E8F0FE;\n",
              "      border: none;\n",
              "      border-radius: 50%;\n",
              "      cursor: pointer;\n",
              "      display: none;\n",
              "      fill: #1967D2;\n",
              "      height: 32px;\n",
              "      padding: 0 0 0 0;\n",
              "      width: 32px;\n",
              "    }\n",
              "\n",
              "    .colab-df-convert:hover {\n",
              "      background-color: #E2EBFA;\n",
              "      box-shadow: 0px 1px 2px rgba(60, 64, 67, 0.3), 0px 1px 3px 1px rgba(60, 64, 67, 0.15);\n",
              "      fill: #174EA6;\n",
              "    }\n",
              "\n",
              "    .colab-df-buttons div {\n",
              "      margin-bottom: 4px;\n",
              "    }\n",
              "\n",
              "    [theme=dark] .colab-df-convert {\n",
              "      background-color: #3B4455;\n",
              "      fill: #D2E3FC;\n",
              "    }\n",
              "\n",
              "    [theme=dark] .colab-df-convert:hover {\n",
              "      background-color: #434B5C;\n",
              "      box-shadow: 0px 1px 3px 1px rgba(0, 0, 0, 0.15);\n",
              "      filter: drop-shadow(0px 1px 2px rgba(0, 0, 0, 0.3));\n",
              "      fill: #FFFFFF;\n",
              "    }\n",
              "  </style>\n",
              "\n",
              "    <script>\n",
              "      const buttonEl =\n",
              "        document.querySelector('#df-08ee6b39-88f9-4d92-adc5-d2bb3578a676 button.colab-df-convert');\n",
              "      buttonEl.style.display =\n",
              "        google.colab.kernel.accessAllowed ? 'block' : 'none';\n",
              "\n",
              "      async function convertToInteractive(key) {\n",
              "        const element = document.querySelector('#df-08ee6b39-88f9-4d92-adc5-d2bb3578a676');\n",
              "        const dataTable =\n",
              "          await google.colab.kernel.invokeFunction('convertToInteractive',\n",
              "                                                    [key], {});\n",
              "        if (!dataTable) return;\n",
              "\n",
              "        const docLinkHtml = 'Like what you see? Visit the ' +\n",
              "          '<a target=\"_blank\" href=https://colab.research.google.com/notebooks/data_table.ipynb>data table notebook</a>'\n",
              "          + ' to learn more about interactive tables.';\n",
              "        element.innerHTML = '';\n",
              "        dataTable['output_type'] = 'display_data';\n",
              "        await google.colab.output.renderOutput(dataTable, element);\n",
              "        const docLink = document.createElement('div');\n",
              "        docLink.innerHTML = docLinkHtml;\n",
              "        element.appendChild(docLink);\n",
              "      }\n",
              "    </script>\n",
              "  </div>\n",
              "\n",
              "\n",
              "<div id=\"df-449f8185-a0f9-4d65-b927-d724deccd331\">\n",
              "  <button class=\"colab-df-quickchart\" onclick=\"quickchart('df-449f8185-a0f9-4d65-b927-d724deccd331')\"\n",
              "            title=\"Suggest charts\"\n",
              "            style=\"display:none;\">\n",
              "\n",
              "<svg xmlns=\"http://www.w3.org/2000/svg\" height=\"24px\"viewBox=\"0 0 24 24\"\n",
              "     width=\"24px\">\n",
              "    <g>\n",
              "        <path d=\"M19 3H5c-1.1 0-2 .9-2 2v14c0 1.1.9 2 2 2h14c1.1 0 2-.9 2-2V5c0-1.1-.9-2-2-2zM9 17H7v-7h2v7zm4 0h-2V7h2v10zm4 0h-2v-4h2v4z\"/>\n",
              "    </g>\n",
              "</svg>\n",
              "  </button>\n",
              "\n",
              "<style>\n",
              "  .colab-df-quickchart {\n",
              "      --bg-color: #E8F0FE;\n",
              "      --fill-color: #1967D2;\n",
              "      --hover-bg-color: #E2EBFA;\n",
              "      --hover-fill-color: #174EA6;\n",
              "      --disabled-fill-color: #AAA;\n",
              "      --disabled-bg-color: #DDD;\n",
              "  }\n",
              "\n",
              "  [theme=dark] .colab-df-quickchart {\n",
              "      --bg-color: #3B4455;\n",
              "      --fill-color: #D2E3FC;\n",
              "      --hover-bg-color: #434B5C;\n",
              "      --hover-fill-color: #FFFFFF;\n",
              "      --disabled-bg-color: #3B4455;\n",
              "      --disabled-fill-color: #666;\n",
              "  }\n",
              "\n",
              "  .colab-df-quickchart {\n",
              "    background-color: var(--bg-color);\n",
              "    border: none;\n",
              "    border-radius: 50%;\n",
              "    cursor: pointer;\n",
              "    display: none;\n",
              "    fill: var(--fill-color);\n",
              "    height: 32px;\n",
              "    padding: 0;\n",
              "    width: 32px;\n",
              "  }\n",
              "\n",
              "  .colab-df-quickchart:hover {\n",
              "    background-color: var(--hover-bg-color);\n",
              "    box-shadow: 0 1px 2px rgba(60, 64, 67, 0.3), 0 1px 3px 1px rgba(60, 64, 67, 0.15);\n",
              "    fill: var(--button-hover-fill-color);\n",
              "  }\n",
              "\n",
              "  .colab-df-quickchart-complete:disabled,\n",
              "  .colab-df-quickchart-complete:disabled:hover {\n",
              "    background-color: var(--disabled-bg-color);\n",
              "    fill: var(--disabled-fill-color);\n",
              "    box-shadow: none;\n",
              "  }\n",
              "\n",
              "  .colab-df-spinner {\n",
              "    border: 2px solid var(--fill-color);\n",
              "    border-color: transparent;\n",
              "    border-bottom-color: var(--fill-color);\n",
              "    animation:\n",
              "      spin 1s steps(1) infinite;\n",
              "  }\n",
              "\n",
              "  @keyframes spin {\n",
              "    0% {\n",
              "      border-color: transparent;\n",
              "      border-bottom-color: var(--fill-color);\n",
              "      border-left-color: var(--fill-color);\n",
              "    }\n",
              "    20% {\n",
              "      border-color: transparent;\n",
              "      border-left-color: var(--fill-color);\n",
              "      border-top-color: var(--fill-color);\n",
              "    }\n",
              "    30% {\n",
              "      border-color: transparent;\n",
              "      border-left-color: var(--fill-color);\n",
              "      border-top-color: var(--fill-color);\n",
              "      border-right-color: var(--fill-color);\n",
              "    }\n",
              "    40% {\n",
              "      border-color: transparent;\n",
              "      border-right-color: var(--fill-color);\n",
              "      border-top-color: var(--fill-color);\n",
              "    }\n",
              "    60% {\n",
              "      border-color: transparent;\n",
              "      border-right-color: var(--fill-color);\n",
              "    }\n",
              "    80% {\n",
              "      border-color: transparent;\n",
              "      border-right-color: var(--fill-color);\n",
              "      border-bottom-color: var(--fill-color);\n",
              "    }\n",
              "    90% {\n",
              "      border-color: transparent;\n",
              "      border-bottom-color: var(--fill-color);\n",
              "    }\n",
              "  }\n",
              "</style>\n",
              "\n",
              "  <script>\n",
              "    async function quickchart(key) {\n",
              "      const quickchartButtonEl =\n",
              "        document.querySelector('#' + key + ' button');\n",
              "      quickchartButtonEl.disabled = true;  // To prevent multiple clicks.\n",
              "      quickchartButtonEl.classList.add('colab-df-spinner');\n",
              "      try {\n",
              "        const charts = await google.colab.kernel.invokeFunction(\n",
              "            'suggestCharts', [key], {});\n",
              "      } catch (error) {\n",
              "        console.error('Error during call to suggestCharts:', error);\n",
              "      }\n",
              "      quickchartButtonEl.classList.remove('colab-df-spinner');\n",
              "      quickchartButtonEl.classList.add('colab-df-quickchart-complete');\n",
              "    }\n",
              "    (() => {\n",
              "      let quickchartButtonEl =\n",
              "        document.querySelector('#df-449f8185-a0f9-4d65-b927-d724deccd331 button');\n",
              "      quickchartButtonEl.style.display =\n",
              "        google.colab.kernel.accessAllowed ? 'block' : 'none';\n",
              "    })();\n",
              "  </script>\n",
              "</div>\n",
              "    </div>\n",
              "  </div>\n"
            ]
          },
          "metadata": {},
          "execution_count": 78
        }
      ],
      "source": [
        "# Откроем датасет\n",
        "\n",
        "pokemon_path = 'https://raw.githubusercontent.com/a-milenkin/datasets_for_t-tests/main/pokemon.csv'\n",
        "pokemon = pd.read_csv(pokemon_path, on_bad_lines='skip')\n",
        "pokemon"
      ]
    },
    {
      "cell_type": "code",
      "execution_count": 79,
      "metadata": {
        "colab": {
          "base_uri": "https://localhost:8080/"
        },
        "id": "M0gAHDDaICNi",
        "outputId": "edec0502-b3ec-45ce-fa23-f638cccabcdf"
      },
      "outputs": [
        {
          "output_type": "stream",
          "name": "stdout",
          "text": [
            "Статистика для обычной атаки покемонов из класса Grass:\n",
            "count     33.000000\n",
            "mean      68.818182\n",
            "std       22.302543\n",
            "min       30.000000\n",
            "25%       53.000000\n",
            "50%       65.000000\n",
            "75%       85.000000\n",
            "max      110.000000\n",
            "Name: Attack, dtype: float64\n",
            "\n",
            "Статистика для обычной атаки покемонов из класса Rock:\n",
            "count      9.000000\n",
            "mean     103.333333\n",
            "std       35.443617\n",
            "min       45.000000\n",
            "25%       80.000000\n",
            "50%      100.000000\n",
            "75%      125.000000\n",
            "max      165.000000\n",
            "Name: Attack, dtype: float64\n"
          ]
        }
      ],
      "source": [
        "# Фильтрация по условиям \"Class 1 = Grass\" и \"Class 2 = NaN\" или \"Class 1 = Rock\"\n",
        "filtered_pokemon = pokemon[(pokemon['Class 1'].isin(['Grass', 'Rock'])) & (pokemon['Class 2'].isnull())]\n",
        "\n",
        "# Отбор нужных строк\n",
        "grass_pokemon = filtered_pokemon[filtered_pokemon['Class 1'] == 'Grass']['Attack']\n",
        "rock_pokemon = filtered_pokemon[filtered_pokemon['Class 1'] == 'Rock']['Attack']\n",
        "\n",
        "# Вывод статистики для переменной grass_pokemon\n",
        "print('Статистика для обычной атаки покемонов из класса Grass:')\n",
        "print(grass_pokemon.describe())\n",
        "\n",
        "# Вывод статистики для переменной rock_pokemon\n",
        "print('\\nСтатистика для обычной атаки покемонов из класса Rock:')\n",
        "print(rock_pokemon.describe())"
      ]
    },
    {
      "cell_type": "markdown",
      "metadata": {
        "id": "Qrexl-_fRnuq"
      },
      "source": [
        "Исходя из результатов статистики, имеющихся у нас, невозможно однозначно сказать, что покемоны из класса Grass имеют более сильную обычную атаку, чем покемоны из класса Rock.\n",
        "\n",
        "Статистика показывает, что средняя обычная атака у покемонов из класса Grass равна 68.82, в то время как у покемонов из класса Rock - 103.33. Однако, стандартное отклонение также учитывает разброс данных и показывает, что у покемонов из класса Rock имеется большее стандартное отклонение (35.44), что может указывать на больший разброс значений атаки в этом классе. Таким образом, необходима дальнейшая проверка этой гипотезы с использованием статистических методов, таких как t-тест."
      ]
    },
    {
      "cell_type": "code",
      "execution_count": 80,
      "metadata": {
        "colab": {
          "base_uri": "https://localhost:8080/",
          "height": 498
        },
        "id": "dUW5Sif7y7eq",
        "outputId": "8572f5d7-bf52-4712-99b9-79ea95b83219"
      },
      "outputs": [
        {
          "output_type": "display_data",
          "data": {
            "text/plain": [
              "<Figure size 640x480 with 1 Axes>"
            ],
            "image/png": "[encoded data removed]"
          },
          "metadata": {}
        },
        {
          "output_type": "stream",
          "name": "stdout",
          "text": [
            "Покемоны в классе Grass имеют более слабую обычную атаку, чем покемоны в классе Rock.\n",
            "\n",
            "Stat: -3.60232780765211\n",
            "p: 0.0008620463823202559\n"
          ]
        }
      ],
      "source": [
        "# Оценка различия в атаке\n",
        "stat, p = stats.ttest_ind(grass_pokemon, rock_pokemon)\n",
        "alpha = 0.05\n",
        "# При задании условий (if stat < 0:) и выборке для проведения t-теста, важно учитывать,\n",
        "# какие данные и на каком месте стоят в строке кода. Например,\n",
        "# в данном случае мы сравниваем атаку покемонов классов Grass и Rock,\n",
        "# поэтому сначала указываем выборку для Grass_pokemon, а затем для Rock_pokemon.\n",
        "\n",
        "# Визуализация результатов\n",
        "plt.hist(grass_pokemon, alpha=0.5, label='grass Attack')\n",
        "plt.hist(rock_pokemon, alpha=0.5, label='rock Attack')\n",
        "plt.legend()\n",
        "plt.show()\n",
        "\n",
        "if p < alpha:\n",
        "    if stat < 0:\n",
        "        print('Покемоны в классе Grass имеют более слабую обычную атаку, чем покемоны в классе Rock.')\n",
        "    else:\n",
        "        print('Покемоны в классе Rock имеют более слабую обычную атаку, чем покемоны в классе Grass.')\n",
        "else:\n",
        "    print('Нет статистически значимых различий в обычной атаке между покемонами классов Grass и Rock.')\n",
        "\n",
        "print('\\nStat:', stat)\n",
        "print('p:', p)"
      ]
    },
    {
      "cell_type": "markdown",
      "metadata": {
        "id": "8GU48-3S0Hjt"
      },
      "source": [
        "В результате проведенного `t-теста` выяснилось, что есть статистически значимая разница в обычной атаке между покемонами класса `Grass` и `Roc`. Значение статистики t равно -3.60232780765211, что указывает на отрицательное направление различия. Это говорит о том, что в среднем покемоны класса `Grass` имеют более слабую обычную атаку по сравнению с покемонами класса `Rock`."
      ]
    },
    {
      "cell_type": "markdown",
      "metadata": {
        "id": "mVrXnqjcqaBC"
      },
      "source": [
        "#### **Задание № 2**\n",
        "    \n",
        "Профессор Оук уже долго не может спать по ночам, ведь его волнует вопрос: а правда ли, что покемоны в классе `Water` в среднем быстрее покемонов в классе `Normal`.\n",
        "\n",
        "Проверьте, прав ли он, и убедите его в своем выводе статистически.\n",
        "    \n",
        "Примечание:\n",
        "- покемоны, которые относятся к обоим классам, не должны входить в выборку;\n",
        "- Вы можете предположить, что распределение обычных атак является нормальным для всех классов покемонов."
      ]
    },
    {
      "cell_type": "markdown",
      "metadata": {
        "id": "M8vkNOQA5bYP"
      },
      "source": [
        "#### Решение Задания № 2"
      ]
    },
    {
      "cell_type": "code",
      "execution_count": 81,
      "metadata": {
        "colab": {
          "base_uri": "https://localhost:8080/"
        },
        "id": "VekPx-BWSy9z",
        "outputId": "486c56bf-5e6f-4f5f-fe1f-56fd17440e64"
      },
      "outputs": [
        {
          "output_type": "stream",
          "name": "stdout",
          "text": [
            "Статистика для скорости покемонов из класса Water:\n",
            "count     59.000000\n",
            "mean      67.881356\n",
            "std       19.930988\n",
            "min       32.000000\n",
            "25%       52.000000\n",
            "50%       65.000000\n",
            "75%       85.000000\n",
            "max      115.000000\n",
            "Name: Speed, dtype: float64\n",
            "\n",
            "Статистика для скорости покемонов из класса Normal:\n",
            "count     61.000000\n",
            "mean      69.459016\n",
            "std       28.191946\n",
            "min        5.000000\n",
            "25%       50.000000\n",
            "50%       70.000000\n",
            "75%       90.000000\n",
            "max      120.000000\n",
            "Name: Speed, dtype: float64\n"
          ]
        }
      ],
      "source": [
        "# Фильтрация по условиям \"Class 1 = Water\" и \"Class 2 = NaN\" или \"Class 1 = Normal\"\n",
        "filtered_pokemon = pokemon[(pokemon['Class 1'].isin(['Water', 'Normal'])) & (pokemon['Class 2'].isnull())]\n",
        "\n",
        "# Отбор нужных строк\n",
        "water_pokemon = filtered_pokemon[filtered_pokemon['Class 1'] == 'Water']['Speed']\n",
        "normal_pokemon = filtered_pokemon[filtered_pokemon['Class 1'] == 'Normal']['Speed']\n",
        "\n",
        "# Вывод статистики для переменной water_pokemon\n",
        "print('Статистика для скорости покемонов из класса Water:')\n",
        "print(water_pokemon.describe())\n",
        "\n",
        "# Вывод статистики для переменной normal_pokemon\n",
        "print('\\nСтатистика для скорости покемонов из класса Normal:')\n",
        "print(normal_pokemon.describe())"
      ]
    },
    {
      "cell_type": "markdown",
      "metadata": {
        "id": "crN90OE-WcUt"
      },
      "source": [
        "Распределения скорости для обоих классов не являются строго нормальными. Класс `Water` имеет меньшее стандартное отклонение (19.930988), чем класс `Normal` (28.191946). Однако, средняя скорость покемонов из класса `Norma`  (69.459016) выше, чем у покемонов из класса `Water` (67.881356).\n",
        "\n",
        "Для проверки статистической значимости различий в средней скорости между покемонами из классов `Water` и `Normal`, необходимо провести соответствующий статистический тест. Один из возможных тестов - это `t-тест` Стьюдента для независимых выборок."
      ]
    },
    {
      "cell_type": "code",
      "execution_count": 82,
      "metadata": {
        "colab": {
          "base_uri": "https://localhost:8080/",
          "height": 481
        },
        "id": "2N_T-lVsUvGJ",
        "outputId": "e97ad52e-ebaf-4c00-8038-2d6ed0a582cb"
      },
      "outputs": [
        {
          "output_type": "display_data",
          "data": {
            "text/plain": [
              "<Figure size 640x480 with 1 Axes>"
            ],
            "image/png": "[encoded data removed]"
          },
          "metadata": {}
        },
        {
          "output_type": "stream",
          "name": "stdout",
          "text": [
            "Нет статистически значимой разницы в скорости между покемонами в классе Water и покемонами в классе Normal\n",
            "stat: -0.35290779696814856\n",
            "p: 0.7247871854890613\n"
          ]
        }
      ],
      "source": [
        "# Оценка различия в скорости\n",
        "stat, p = stats.ttest_ind(water_pokemon, normal_pokemon)\n",
        "alpha = 0.05\n",
        "\n",
        "# Визуализация результатов\n",
        "plt.hist(water_pokemon, alpha=0.5, label='water')\n",
        "plt.hist(normal_pokemon, alpha=0.5, label='normal')\n",
        "plt.legend()\n",
        "plt.show()\n",
        "\n",
        "if p < alpha:\n",
        "    if stat < 0:\n",
        "        print('Покемоны в классе Water в среднем двигаются медленнее, чем покемоны в классе Normal')\n",
        "    else:\n",
        "        print('Покемоны в классе Water в среднем двигаются быстрее, чем покемоны в классе Normal')\n",
        "else:\n",
        "    print('Нет статистически значимой разницы в скорости между покемонами в классе Water и покемонами в классе Normal')\n",
        "\n",
        "print('stat:', stat)\n",
        "print('p:', p)"
      ]
    },
    {
      "cell_type": "markdown",
      "source": [
        "Исходя из результатов `t-теста`, статистика равна -0.353, что говорит о том, что покемоны в классе `Water` имеют немного меньшую среднюю скорость по сравнению с покемонами в классе `Normal`. Однако, значение p-value равно 0.725, что говорит о том, что разница не является статистически значимой. То есть, мы  не можем с уверенностью сказать, что покемоны в классе Water действительно двигаются медленнее или быстрее."
      ],
      "metadata": {
        "id": "5pT72HE35yMr"
      }
    },
    {
      "cell_type": "markdown",
      "metadata": {
        "id": "sWuteBNvqaBC"
      },
      "source": [
        "#### **Задание № 3**\n",
        "    \n",
        "Профессор Оук тот еще безумец. Он изобрел сыворотку, способную ускорить покемона.\n",
        "Однако мы усомнились в эффективности его вакцины. Професоор дал эту сыворотку некоторым покемонам (массив `treathed_pokemon`).\n",
        "Проверьте, работает ли вообще его сыворотка, и убедите всех в своем выводе статистически.\n",
        "    \n",
        "    \n",
        "*Вы можете предположить, что распределение скорости движения является нормальным для всех классов покемонов.*"
      ]
    },
    {
      "cell_type": "markdown",
      "source": [
        "#### Решение Задания № 3"
      ],
      "metadata": {
        "id": "yLddRXSpI2hO"
      }
    },
    {
      "cell_type": "code",
      "source": [
        "# Покемоны, которые принимали сыворотку\n",
        "treathed_pokemon = ['Mega Beedrill', 'Mega Alakazam', 'Deoxys Normal Forme', 'Mega Lopunny']\n",
        "\n",
        "# Вычисляем средние скорости в выборках\n",
        "mean_treathed = pokemon.loc[pokemon['Name'].isin(treathed_pokemon), 'Speed'].mean()\n",
        "mean_non_treathed = pokemon.loc[~pokemon['Name'].isin(treathed_pokemon), 'Speed'].mean()\n",
        "\n",
        "# T-Test для сравнения средних скоростей\n",
        "t_statistic, p_value = stats.ttest_ind(pokemon.loc[pokemon['Name'].isin(treathed_pokemon), 'Speed'],\n",
        "                                       pokemon.loc[~pokemon['Name'].isin(treathed_pokemon), 'Speed'])\n",
        "\n",
        "# Выводим базовые статистики\n",
        "print(\"Базовые статистики для покемонов, принявших сыворотку:\")\n",
        "print(pokemon.loc[pokemon['Name'].isin(treathed_pokemon), 'Speed'].describe())\n",
        "\n",
        "print(\"\\nБазовые статистики для остальных покемонов:\")\n",
        "print(pokemon.loc[~pokemon['Name'].isin(treathed_pokemon), 'Speed'].describe())\n",
        "\n",
        "print(\"\\nРезультаты T-теста:\")\n",
        "print(\"t-статистика:\", t_statistic)\n",
        "print(\"p-значение:\", p_value)\n",
        "\n",
        "# Сравнение средних скоростей с выводом результата\n",
        "alpha = 0.05\n",
        "if p_value < alpha:\n",
        "    if t_statistic < 0:\n",
        "        print('\\nПокемоны, принявшие сыворотку, в среднем двигаются медленнее, чем остальные покемоны')\n",
        "    else:\n",
        "        print('\\nПокемоны, принявшие сыворотку, в среднем двигаются быстрее, чем остальные покемоны')\n",
        "else:\n",
        "    print('\\nНет статистически значимой разницы в скорости между покемонами, принявшими сыворотку, и остальными покемонами')"
      ],
      "metadata": {
        "id": "2sfxzVaPLS3e",
        "outputId": "238c4877-6055-4ec9-c589-8fe3e32a5439",
        "colab": {
          "base_uri": "https://localhost:8080/"
        }
      },
      "execution_count": 83,
      "outputs": [
        {
          "output_type": "stream",
          "name": "stdout",
          "text": [
            "Базовые статистики для покемонов, принявших сыворотку:\n",
            "count      4.000000\n",
            "mean     145.000000\n",
            "std        7.071068\n",
            "min      135.000000\n",
            "25%      142.500000\n",
            "50%      147.500000\n",
            "75%      150.000000\n",
            "max      150.000000\n",
            "Name: Speed, dtype: float64\n",
            "\n",
            "Базовые статистики для остальных покемонов:\n",
            "count    796.000000\n",
            "mean      67.891960\n",
            "std       28.614785\n",
            "min        5.000000\n",
            "25%       45.000000\n",
            "50%       65.000000\n",
            "75%       90.000000\n",
            "max      180.000000\n",
            "Name: Speed, dtype: float64\n",
            "\n",
            "Результаты T-теста:\n",
            "t-статистика: 5.385407401082377\n",
            "p-значение: 9.51510117630786e-08\n",
            "\n",
            "Покемоны, принявшие сыворотку, в среднем двигаются быстрее, чем остальные покемоны\n"
          ]
        }
      ]
    },
    {
      "cell_type": "markdown",
      "source": [
        "Результаты T-теста показывают, что t-статистика равна 5.385407401082377, а p-значение равно 0.00000010. Это означает, что p-значение значительно меньше заданного уровня значимости 0.05, что позволяет нам отвергнуть нулевую гипотезу о равенстве средних скоростей двух групп покемонов. Таким образом, можем сделать вывод, что покемоны, принявшие сыворотку, в среднем двигаются значительно быстрее, чем остальные покемоны."
      ],
      "metadata": {
        "id": "jh9gaj2aOkS4"
      }
    },
    {
      "cell_type": "markdown",
      "metadata": {
        "id": "bx4UM0c1qaBC"
      },
      "source": [
        "#### **Задание № 4**\n",
        "    \n",
        "Профессор Оук всегда любил истории про легендарных покемонов. Однако профессор не очень уверен, что они лучше остальных покемонов.\n",
        "Оук предложил разобраться в этом Вам.\n",
        "\n",
        "Действительно ли сумма характеристик `HP`, `Attack`, `Defense` у легендарных покемонов выше, чем у других покемонов? А произведение этих же параметров?\n",
        "\n",
        "Найдите ответы на эти вопросы и убедите всех в своем выводе статистически.\n",
        "\n",
        "*Вы можете предположить, что распределение сум и произведений этих параметров является нормальным для всех классов покемонов.*"
      ]
    },
    {
      "cell_type": "markdown",
      "source": [
        "#### Решение Задания № 4"
      ],
      "metadata": {
        "id": "dkDmdEXORz9R"
      }
    },
    {
      "cell_type": "code",
      "source": [
        "# Выберем данные только для легендарных покемонов и других покемонов\n",
        "legendary = pokemon[pokemon['Legendary'] == True]\n",
        "non_legendary = pokemon[pokemon['Legendary'] == False]\n",
        "\n",
        "# Вычислим сумму и произведение характеристик HP, Attack и Defense для каждой группы\n",
        "legendary_sum = legendary['HP'] + legendary['Attack'] + legendary['Defense']\n",
        "non_legendary_sum = non_legendary['HP'] + non_legendary['Attack'] + non_legendary['Defense']\n",
        "\n",
        "legendary_prod = legendary['HP'] * legendary['Attack'] * legendary['Defense']\n",
        "non_legendary_prod = non_legendary['HP'] * non_legendary['Attack'] * non_legendary['Defense']\n"
      ],
      "metadata": {
        "id": "vAuhvJvGT2Yy"
      },
      "execution_count": 84,
      "outputs": []
    },
    {
      "cell_type": "code",
      "source": [
        "# Проведем T-тест для суммы характеристик\n",
        "t_statistic_sum, p_value_sum = stats.ttest_ind(legendary_sum, non_legendary_sum)\n",
        "\n",
        "# Проведем T-тест для произведения характеристик\n",
        "t_statistic_prod, p_value_prod = stats.ttest_ind(legendary_prod, non_legendary_prod)\n",
        "\n",
        "print(\"Результаты T-теста для суммы характеристик:\")\n",
        "print(\"T-статистика:\", t_statistic_sum)\n",
        "print(\"p-значение:\", p_value_sum)\n",
        "\n",
        "print(\"\\nРезультаты T-теста для произведения характеристик:\")\n",
        "print(\"T-статистика:\", t_statistic_prod)\n",
        "print(\"p-значение:\", p_value_prod)\n",
        "\n",
        "alpha = 0.05\n",
        "if p_value_sum < alpha:\n",
        "    if t_statistic_sum < 0:\n",
        "        print('\\nЛегендарные покемоны в среднем имеют меньшую сумму характеристик по сравнению с другими покемонами')\n",
        "    else:\n",
        "        print('\\nЛегендарные покемоны в среднем имеют большую сумму характеристик по сравнению с другими покемонами')\n",
        "else:\n",
        "    print('\\nНет статистически значимой разницы в сумме характеристик между легендарными и другими покемонами')\n",
        "\n",
        "if p_value_prod < alpha:\n",
        "    if t_statistic_prod < 0:\n",
        "        print('\\nЛегендарные покемоны в среднем имеют меньшее произведение характеристик по сравнению с другими покемонами')\n",
        "    else:\n",
        "        print('\\nЛегендарные покемоны в среднем имеют большее произведение характеристик по сравнению с другими покемонами')\n",
        "else:\n",
        "    print('\\nНет статистически значимой разницы в произведении характеристик между легендарными и другими покемонами')\n",
        "\n",
        "\n",
        "# Выводим базовые статистики для суммы характеристик\n",
        "print(\"\\nБазовые статистики для суммы характеристик:\")\n",
        "print(\"Легендарные покемоны:\", legendary_sum.describe())\n",
        "print(\"\\nДругие покемоны:\", non_legendary_sum.describe())\n",
        "\n",
        "# Выводим базовые статистики для произведения характеристик\n",
        "print(\"\\nБазовые статистики для произведения характеристик:\")\n",
        "print(\"Легендарные покемоны:\", legendary_prod.describe())\n",
        "print(\"\\nДругие покемоны:\", non_legendary_prod.describe())"
      ],
      "metadata": {
        "id": "ibiR7FjZUyit",
        "outputId": "222f0241-4859-4422-9db0-675c75267b5a",
        "colab": {
          "base_uri": "https://localhost:8080/"
        }
      },
      "execution_count": 85,
      "outputs": [
        {
          "output_type": "stream",
          "name": "stdout",
          "text": [
            "Результаты T-теста для суммы характеристик:\n",
            "T-статистика: 11.591852366462316\n",
            "p-значение: 7.970942205722087e-29\n",
            "\n",
            "Результаты T-теста для произведения характеристик:\n",
            "T-статистика: 13.263253408231844\n",
            "p-значение: 1.992664308842282e-36\n",
            "\n",
            "Легендарные покемоны в среднем имеют большую сумму характеристик по сравнению с другими покемонами\n",
            "\n",
            "Легендарные покемоны в среднем имеют большее произведение характеристик по сравнению с другими покемонами\n",
            "\n",
            "Базовые статистики для суммы характеристик:\n",
            "Легендарные покемоны: count     65.000000\n",
            "mean     309.076923\n",
            "std       46.429822\n",
            "min      230.000000\n",
            "25%      275.000000\n",
            "50%      305.000000\n",
            "75%      340.000000\n",
            "max      440.000000\n",
            "dtype: float64\n",
            "\n",
            "Другие покемоны: count    735.000000\n",
            "mean     214.410884\n",
            "std       64.359599\n",
            "min       55.000000\n",
            "25%      165.000000\n",
            "50%      213.000000\n",
            "75%      258.000000\n",
            "max      440.000000\n",
            "dtype: float64\n",
            "\n",
            "Базовые статистики для произведения характеристик:\n",
            "Легендарные покемоны: count    6.500000e+01\n",
            "mean     1.085942e+06\n",
            "std      5.169911e+05\n",
            "min      1.800000e+05\n",
            "25%      6.885000e+05\n",
            "50%      1.000000e+06\n",
            "75%      1.350000e+06\n",
            "max      2.880000e+06\n",
            "dtype: float64\n",
            "\n",
            "Другие покемоны: count    7.350000e+02\n",
            "mean     4.250414e+05\n",
            "std      3.713542e+05\n",
            "min      2.500000e+03\n",
            "25%      1.512250e+05\n",
            "50%      3.315000e+05\n",
            "75%      5.735375e+05\n",
            "max      2.460000e+06\n",
            "dtype: float64\n"
          ]
        }
      ]
    },
    {
      "cell_type": "markdown",
      "source": [
        "Из результатов T-теста видно, что для обоих параметров (сумма и произведение характеристик) p-значение меньше заданного уровня значимости `alpha`, что говорит о статистически значимой разнице между легендарными и другими покемонами.\n",
        "\n",
        "Для суммы характеристик, `T-статистика` равна 11.59, что говорит о том, что легендарные покемоны в среднем имеют большую сумму характеристик по сравнению с другими покемонами.\n",
        "\n",
        "Для произведения характеристик, `T-статистика` равна 13.26, что также указывает на то, что легендарные покемоны в среднем имеют большее произведение характеристик по сравнению с другими покемонами.\n",
        "\n",
        "При анализе базовых статистик видно, что средняя сумма характеристик для легендарных покемонов составляет 309.08, в то время как у других покемонов она составляет 214.41. Также среднее произведение характеристик для легендарных покемонов составляет 1,085,942, в то время как у других покемонов оно составляет 425,041. Эти данные также указывают на то, что легендарные покемоны имеют более высокие значения характеристик.\n",
        "\n",
        "Вывод: Статистические результаты и базовые статистики указывают на то, что легендарные покемоны в среднем имеют выше сумму и произведение характеристик по сравнению с другими покемонами."
      ],
      "metadata": {
        "id": "SukeD9QiTK4l"
      }
    },
    {
      "cell_type": "markdown",
      "metadata": {
        "id": "0MwZDLMbqaBD"
      },
      "source": [
        "#### **Задание № 5**\n",
        "    \n",
        "Профессор Оук частенько наблюдает за боями покемонов. После очередных таких боев Оук выделил три класса (массив `best_defence_class`), которые на его взгляд одинаковы по \"силе обычной защиты\" `Defense`.\n",
        "\n",
        "Проверьте, действительно ли эти классы покемонов не отличаются по уровню защиты статистически значимо. Все та же статистика Вам в помощь!\n",
        "\n",
        "*Вы можете предположить, что распределение сум и произведений этих параметров является нормальным для всех классов покемонов.*"
      ]
    },
    {
      "cell_type": "markdown",
      "source": [
        "#### Решение Задания № 5"
      ],
      "metadata": {
        "id": "k5iYwKhZT0g1"
      }
    },
    {
      "cell_type": "code",
      "source": [
        "# Заданный массив best_defence_class\n",
        "best_defence_class = ['Rock', 'Ground', 'Steel', 'Ice']\n",
        "\n",
        "# Создаем пустой список для хранения подвыборок\n",
        "class_samples = []\n",
        "\n",
        "# Создаем подвыборки для каждого класса покемонов\n",
        "for class_name in best_defence_class:\n",
        "    class_pokemon = pokemon.loc[pokemon['Class 1'] == class_name]\n",
        "    class_samples.append(class_pokemon['Defense'])\n",
        "\n",
        "# Создаем матрицу данных из списка подвыборок\n",
        "data = pd.DataFrame(class_samples).T\n",
        "data.columns = best_defence_class\n",
        "\n",
        "# Создаем boxplot\n",
        "plt.figure(figsize=(10, 6))\n",
        "data.boxplot()\n",
        "plt.title('Уровень защиты для каждого класса покемонов')\n",
        "plt.ylabel('Защита')\n",
        "plt.xlabel('Классы')\n",
        "plt.show()\n",
        "\n",
        "# Проводим однофакторный ANOVA тест\n",
        "f_statistic, p_value = f_oneway(*class_samples)\n",
        "\n",
        "# Принтим значения F-статистики и p-значения\n",
        "print(\"F-статистика:\", f_statistic)\n",
        "print(\"p-значение:\", p_value)\n",
        "\n",
        "# Интерпретация статистической значимости различий\n",
        "alpha = 0.05\n",
        "if p_value < alpha:\n",
        "    print(\"\\nЕсть статистически значимые различия между классами по уровню защиты.\")\n",
        "else:\n",
        "    print(\"\\nСтатистически значимых различий между классами по уровню защиты нет.\")"
      ],
      "metadata": {
        "id": "ZLQWnjafZm79",
        "outputId": "bca0504e-0b6d-4980-a232-5664b3c9cd8f",
        "colab": {
          "base_uri": "https://localhost:8080/",
          "height": 632
        }
      },
      "execution_count": 87,
      "outputs": [
        {
          "output_type": "display_data",
          "data": {
            "text/plain": [
              "<Figure size 1000x600 with 1 Axes>"
            ],
            "image/png": "[encoded data removed]"
          },
          "metadata": {}
        },
        {
          "output_type": "stream",
          "name": "stdout",
          "text": [
            "F-статистика: 10.576882027817977\n",
            "p-значение: 3.0803014649204294e-06\n",
            "\n",
            "Есть статистически значимые различия между классами по уровню защиты.\n"
          ]
        }
      ]
    },
    {
      "cell_type": "markdown",
      "source": [
        "Класс `Rock` и `Steel` обладают более высокими значениями уровня защиты, в то время как классы `Ground` и `Ice` имеют более низкие значения."
      ],
      "metadata": {
        "id": "Wojd9bjHizsh"
      }
    },
    {
      "cell_type": "markdown",
      "source": [
        "Значение `F-статистики` равное 10.58 говорит о том, что существуют статистически значимые различия между классами по уровню защиты.\n",
        "\n",
        "`P-значение` (3.08e-06) является мерой статистической значимости различий. Очень низкое значение p-значения показывает, что различия между классами по уровню защиты являются статистически значимыми.\n",
        "\n",
        "На основе этих результатов можно сделать вывод, что классы покемонов в данных имеют статистически значимые различия в уровне защиты. Это означает, что распределение силы защиты по разным классам покемонов статистически отличается.\n",
        "\n",
        "На основе F-статистики и p-значения можно сделать вывод о наличии статистически значимых различий между классами в уровне защиты. Однако, мы не можем делать точные выводы о том, какие именно классы отличаются друг от друга без проведения дополнительного анализа."
      ],
      "metadata": {
        "id": "2i4Z3hybcwXu"
      }
    },
    {
      "cell_type": "code",
      "source": [
        "# Выводим базовые статистики для уровня защиты Defense только для выбранных классов\n",
        "stats = data.describe()\n",
        "stats = stats.loc[['count', 'mean', 'std', 'min', '25%', '50%', '75%', 'max'], best_defence_class]\n",
        "print(stats)"
      ],
      "metadata": {
        "id": "K3Bou8TzgDnX",
        "outputId": "e6f06a99-29fa-4085-cda1-bd6f70cc9814",
        "colab": {
          "base_uri": "https://localhost:8080/"
        }
      },
      "execution_count": 88,
      "outputs": [
        {
          "output_type": "stream",
          "name": "stdout",
          "text": [
            "             Rock      Ground       Steel         Ice\n",
            "count   44.000000   32.000000   27.000000   24.000000\n",
            "mean   100.795455   84.843750  126.370370   71.416667\n",
            "std     36.447209   33.786912   44.806548   34.387708\n",
            "min     40.000000   25.000000   50.000000   15.000000\n",
            "25%     71.500000   53.750000   97.500000   48.750000\n",
            "50%    100.000000   84.500000  120.000000   75.000000\n",
            "75%    120.500000  110.000000  150.000000   85.000000\n",
            "max    200.000000  160.000000  230.000000  184.000000\n"
          ]
        }
      ]
    },
    {
      "cell_type": "markdown",
      "source": [
        "Вывод:\n",
        "   - Класс `Rock` имеет высокий средний уровень защиты (около 100.8) и разнообразие значений от 40 до 200. Можно предположить, что покемоны этого класса обладают хорошими защитными способностями.\n",
        "   - Класс `Ground` имеет ниже средний уровень защиты (около 84.8), но все же в значительной степени разнообразен, с уровнем защиты от 25 до 160. Возможно, покемоны этого класса имеют различные стили защиты и способны успешно справляться с различными видами атак.\n",
        "   - Класс `Steel` имеет самый высокий средний уровень защиты (около 126.4), а также самый большой разброс значений от 50 до 230. Это может указывать на высокую степень защиты покемонов этого класса и их способность выдерживать сильные атаки.\n",
        "   - Класс `Ice` имеет самый низкий средний уровень защиты (около 71.4) и относительно узкий разброс значений от 15 до 184. Это говорит о том, что покемоны этого класса имеют более уязвимую защиту, что может сказаться на их способности выжить в боях."
      ],
      "metadata": {
        "id": "wfIC6m1ng8t6"
      }
    }
  ],
  "metadata": {
    "colab": {
      "provenance": [],
      "include_colab_link": true
    },
    "kernelspec": {
      "display_name": "Python 3",
      "name": "python3"
    },
    "language_info": {
      "codemirror_mode": {
        "name": "ipython",
        "version": 3
      },
      "file_extension": ".py",
      "mimetype": "text/x-python",
      "name": "python",
      "nbconvert_exporter": "python",
      "pygments_lexer": "ipython3",
      "version": "3.10.13"
    },
    "orig_nbformat": 4
  },
  "nbformat": 4,
  "nbformat_minor": 0
}