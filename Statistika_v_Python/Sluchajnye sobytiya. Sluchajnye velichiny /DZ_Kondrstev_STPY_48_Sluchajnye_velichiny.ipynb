{
  "nbformat": 4,
  "nbformat_minor": 0,
  "metadata": {
    "colab": {
      "provenance": [],
      "authorship_tag": "ABX9TyNFYLp3xl4N7aIXFqui0D4+",
      "include_colab_link": true
    },
    "kernelspec": {
      "name": "python3",
      "display_name": "Python 3"
    },
    "language_info": {
      "name": "python"
    }
  },
  "cells": [
    {
      "cell_type": "markdown",
      "metadata": {
        "id": "view-in-github",
        "colab_type": "text"
      },
      "source": [
        "<a href=\"https://colab.research.google.com/github/stefkong1982/netology.ru/blob/Master/Statistika_v_Python/Sluchajnye%20sobytiya.%20Sluchajnye%20velichiny%20/DZ_Kondrstev_STPY_48_Sluchajnye_velichiny.ipynb\" target=\"_parent\"><img src=\"https://colab.research.google.com/assets/colab-badge.svg\" alt=\"Open In Colab\"/></a>"
      ]
    },
    {
      "cell_type": "markdown",
      "source": [],
      "metadata": {
        "id": "itHu1CjfFBV2"
      }
    },
    {
      "cell_type": "markdown",
      "source": [
        "# Домашнее задание к лекции «Случайные события. Случайные величины»\n",
        "\n",
        "\n",
        "Задание\n",
        "Вопросы по заданию\n",
        "Преподаватель: Олег Булыгин\n",
        "Домашнее задание к лекции «Случайные события. Случайные величины»\n",
        "\n",
        "Смоделировать игру против лотерейного автомата типа “777”. Игрок платит 1 руб., после чего выпадает случайное целое число, равномерно распределенное от 0 до 999. При некоторых значениях числа игрок получает выигрыш.\n",
        "\n",
        "777: 200 руб.\n",
        "999: 100 руб.\n",
        "555: 50 руб.\n",
        "333: 15 руб.\n",
        "111: 10 руб.\n",
        "*77: 5 руб.\n",
        "**7: 3 руб.\n",
        "*00: 2 руб.\n",
        "**0: 1 руб.\n",
        "\n",
        "Вопросы:\n",
        "\n",
        "Выгодна ли игра игроку?\n",
        "Сколько в среднем приобретает или теряет игрок за одну игру?\n",
        "**Дополнительное задание повышенной сложности. **\n",
        "\n",
        "Теоретически рассчитать средний выигрыш (проигрыш) и сравнить с результатами моделирования\n",
        "\n",
        "– любая цифра"
      ],
      "metadata": {
        "id": "_sZMVyviFCj-"
      }
    }
  ]
}