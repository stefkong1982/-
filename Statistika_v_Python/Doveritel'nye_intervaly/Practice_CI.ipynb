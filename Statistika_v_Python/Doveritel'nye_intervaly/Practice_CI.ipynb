{
  "cells": [
    {
      "cell_type": "markdown",
      "metadata": {
        "id": "view-in-github",
        "colab_type": "text"
      },
      "source": [
        "<a href=\"https://colab.research.google.com/github/stefkong1982/netology.ru/blob/Master/Statistika_v_Python/Doveritel'nye_intervaly/Practice_CI.ipynb\" target=\"_parent\"><img src=\"https://colab.research.google.com/assets/colab-badge.svg\" alt=\"Open In Colab\"/></a>"
      ]
    },
    {
      "cell_type": "markdown",
      "metadata": {
        "id": "6U-b5m4yip5D"
      },
      "source": [
        "<h3 style=\"text-align: center;\"><b>«Практическое занятие по доверительным интервалам»</b></h3>"
      ]
    },
    {
      "cell_type": "code",
      "execution_count": null,
      "metadata": {
        "id": "_E7hq0Grip5H"
      },
      "outputs": [],
      "source": [
        "import numpy as np\n",
        "import scipy.stats as st\n",
        "import pandas as pd\n",
        "import math\n",
        "import matplotlib.pyplot as plt"
      ]
    },
    {
      "cell_type": "markdown",
      "metadata": {
        "id": "OHhwXRHuip5I"
      },
      "source": [
        "## Расчет по формуле"
      ]
    },
    {
      "cell_type": "markdown",
      "metadata": {
        "id": "rtrz1SoGip5J"
      },
      "source": [
        "<b>Пример.</b> По данным $7$ измерений некоторой величины найдены средняя результатов\n",
        "измерений, равная $30$ и выборочная дисперсия, равная $36$. Найдите границы, в которых с\n",
        "надежностью $0,95$ заключено истинное значение измеряемой величины."
      ]
    },
    {
      "cell_type": "code",
      "execution_count": null,
      "metadata": {
        "id": "1VVPBYCrip5J"
      },
      "outputs": [],
      "source": [
        "n = 7 # Размер выборки\n",
        "dof = n - 1 # Число степеней свободы\n",
        "mn = 30 # Среднее значение\n",
        "sigma = np.sqrt(36) # Стандартное отклонение\n",
        "T = 2.45  # Параметр t распределения. Таблицу значений можно легко найти в поисковике"
      ]
    },
    {
      "cell_type": "code",
      "execution_count": null,
      "metadata": {
        "id": "GbVG4994ip5K",
        "outputId": "4d468fd6-e1a5-4f63-e026-bd3dfe1e2430"
      },
      "outputs": [
        {
          "data": {
            "text/plain": [
              "(24.44392224676436, 35.55607775323564)"
            ]
          },
          "execution_count": 3,
          "metadata": {},
          "output_type": "execute_result"
        }
      ],
      "source": [
        "(mn - T*sigma/np.sqrt(n), mn + T*sigma/np.sqrt(n))"
      ]
    },
    {
      "cell_type": "markdown",
      "metadata": {
        "id": "n9K7Yu8Yip5L"
      },
      "source": [
        "## Собственная функция"
      ]
    },
    {
      "cell_type": "markdown",
      "metadata": {
        "id": "bsS1n-dPip5M"
      },
      "source": [
        "Вспомогательная функция для подсчета доверительного интервала для маленьких выборок (до 30 элементов, t распределение)."
      ]
    },
    {
      "cell_type": "code",
      "execution_count": null,
      "metadata": {
        "id": "G6E6pyUcip5M"
      },
      "outputs": [],
      "source": [
        "def mean_confidence_interval(data, confidence=0.95):\n",
        "    n = len(data)\n",
        "    m, se = np.mean(data), st.sem(data)\n",
        "    h = se * st.t.ppf((1 + confidence)/2, n-1)  #  функция ppf из scipy возвращает нам перцентиль\n",
        "    return m-h, m, m+h"
      ]
    },
    {
      "cell_type": "code",
      "execution_count": null,
      "metadata": {
        "id": "Nv5Q5Hzoip5N",
        "outputId": "226f1767-3a29-4017-9d6b-ecb51e4596a0"
      },
      "outputs": [
        {
          "name": "stdout",
          "output_type": "stream",
          "text": [
            "(11.707199792530355, 12.391304347826088, 13.07540890312182)\n",
            "(11.02260721314349, 12.391304347826088, 13.760001482508686)\n",
            "(10.1445373309875, 12.391304347826088, 14.638071364664675)\n"
          ]
        }
      ],
      "source": [
        "a =  [5,7,7,9,10,16,7,14,13,15,16,15,\n",
        "     16,17,18,13,14,15,6,13, 14, 12 ,13 ]\n",
        "\n",
        "print(mean_confidence_interval(a, 0.60))\n",
        "print(mean_confidence_interval(a, 0.90))\n",
        "print(mean_confidence_interval(a, 0.99))"
      ]
    },
    {
      "cell_type": "markdown",
      "metadata": {
        "id": "HSNkNNAdip5O"
      },
      "source": [
        "## Встроенные функции scipy.stats"
      ]
    },
    {
      "cell_type": "markdown",
      "metadata": {
        "id": "1MkrosDmip5O"
      },
      "source": [
        "### Расчет с использованием нормального распределения\n",
        "\n",
        "Длина выборки более 30 элементов."
      ]
    },
    {
      "cell_type": "markdown",
      "metadata": {
        "id": "sR0uS_d3ip5P"
      },
      "source": [
        "<b>Пример.</b> Используем выборку размером $n=100$ и определим $90\\%$ и $99\\%$ доверительные интервалы, используя нормальное распределение."
      ]
    },
    {
      "cell_type": "code",
      "execution_count": null,
      "metadata": {
        "id": "dBSqif64ip5P"
      },
      "outputs": [],
      "source": [
        "np.random.seed(54)  # Закрепим seed для воспроизводимости результата.\n",
        "\n",
        "# Генерируем случайное множество с нормальным распределением, где среднее = loc, а стандартное отклонение = scale\n",
        "dataN = st.norm.rvs(loc=25, scale=5, size=100)"
      ]
    },
    {
      "cell_type": "code",
      "execution_count": null,
      "metadata": {
        "id": "Clf0lF8aip5Q",
        "outputId": "c1910b02-1258-4f2c-9639-d1c97a763d1a"
      },
      "outputs": [
        {
          "name": "stdout",
          "output_type": "stream",
          "text": [
            "Мы уверены на 90%, что истинное среднее значение генеральной совокупности находится в диапазоне между 23.677 и 25.221\n"
          ]
        }
      ],
      "source": [
        "ci_lower, ci_upper = st.norm.interval(confidence=0.90, loc=np.mean(dataN), scale=st.sem(dataN))\n",
        "print(f'Мы уверены на 90%, что истинное среднее значение генеральной совокупности находится в диапазоне между {ci_lower:5.3f} и {ci_upper:5.3f}')"
      ]
    },
    {
      "cell_type": "code",
      "execution_count": null,
      "metadata": {
        "id": "xN0fb_Eeip5Q",
        "outputId": "f3bf37f1-32be-48d9-fcf0-73225701e73d"
      },
      "outputs": [
        {
          "name": "stdout",
          "output_type": "stream",
          "text": [
            "Мы уверены на 99%, что истинное среднее значение генеральной совокупности находится в диапазоне между 23.240 и 25.658\n"
          ]
        }
      ],
      "source": [
        "ci_lower, ci_upper = st.norm.interval(confidence=0.99, loc=np.mean(dataN), scale=st.sem(dataN))\n",
        "print(f'Мы уверены на 99%, что истинное среднее значение генеральной совокупности находится в диапазоне между {ci_lower:5.3f} и {ci_upper:5.3f}')"
      ]
    },
    {
      "cell_type": "markdown",
      "metadata": {
        "id": "w1NM9TBrip5R"
      },
      "source": [
        "### Расчет с использованием t распределения\n",
        "\n",
        "Длина выборки менее 30 элементов."
      ]
    },
    {
      "cell_type": "markdown",
      "metadata": {
        "id": "yxWhFK9cip5R"
      },
      "source": [
        "<b>Пример.</b> Используем выборку размером $n=20$ и определим $90\\%$ и $99\\%$ доверительные интервалы, используя t распределение."
      ]
    },
    {
      "cell_type": "code",
      "execution_count": null,
      "metadata": {
        "id": "lEQCP4Lrip5R",
        "outputId": "9766c403-201e-4ea4-83f4-f3e36d444bbc"
      },
      "outputs": [
        {
          "data": {
            "text/plain": [
              "array([15.73894628, 19.59500504, 25.39281913, 18.22932204, 28.1307423 ,\n",
              "       28.66693776, 17.64510722, 16.62290224, 27.91513782, 21.61269469,\n",
              "       28.38777594, 25.92764723, 19.2158274 , 20.90224588, 20.48267271,\n",
              "       22.35407158, 23.12972966, 23.19403118, 21.09564881, 37.54233791])"
            ]
          },
          "execution_count": 9,
          "metadata": {},
          "output_type": "execute_result"
        }
      ],
      "source": [
        "np.random.seed(54)  # Закрепим seed для воспроизводимости результата.\n",
        "\n",
        "# Генерируем случайное множество с нормальным распределением, где среднее = loc, а стандартное отклонение = scale\n",
        "dataT = st.norm.rvs(loc=25, scale=5, size=20)\n",
        "dataT"
      ]
    },
    {
      "cell_type": "code",
      "execution_count": null,
      "metadata": {
        "id": "FauKz1puip5S",
        "outputId": "47fb7981-f0b9-41f5-86ab-e7017b51623c"
      },
      "outputs": [
        {
          "name": "stdout",
          "output_type": "stream",
          "text": [
            "Мы уверены на 90%, что истинное среднее значение генеральной совокупности находится в диапазоне между 21.057 и 25.121\n"
          ]
        }
      ],
      "source": [
        "ci_lower, ci_upper = st.t.interval(confidence=0.90, df=len(dataT)-1, loc=np.mean(dataT), scale=st.sem(dataT))\n",
        "print(f'Мы уверены на 90%, что истинное среднее значение генеральной совокупности находится в диапазоне между {ci_lower:4.3f} и {ci_upper:5.3f}')"
      ]
    },
    {
      "cell_type": "code",
      "execution_count": null,
      "metadata": {
        "id": "6HqDX2kHip5S",
        "outputId": "da19b84f-f530-4f07-fa4a-28f64226e457"
      },
      "outputs": [
        {
          "name": "stdout",
          "output_type": "stream",
          "text": [
            "Мы уверены на 99%, что истинное среднее значение генеральной совокупности находится в диапазоне между 19.727 и 26.451\n"
          ]
        }
      ],
      "source": [
        "ci_lower, ci_upper = st.t.interval(confidence=0.99, df=len(dataT)-1, loc=np.mean(dataT), scale=st.sem(dataT))\n",
        "print(f'Мы уверены на 99%, что истинное среднее значение генеральной совокупности находится в диапазоне между {ci_lower:4.3f} и {ci_upper:5.3f}')"
      ]
    },
    {
      "cell_type": "markdown",
      "metadata": {
        "id": "3w91noVzip5T"
      },
      "source": [
        "## Определение размера выборки"
      ]
    },
    {
      "cell_type": "markdown",
      "metadata": {
        "id": "hf-1k4G-ip5T"
      },
      "source": [
        "<b>Пример.</b> Допустим, Вы журналист и оказались в 2016 году в преддверии выборов президента в США. Вы хотите по результатам своих исследований достаточно точно определить, кто победит на этих выборах. Сколько вам необходимо опросить людей, чтобы назвать будущего президента с точность в 95%?\n",
        "\n",
        "Результаты предшествующих исследований свидетельствуют, что стандартное отклонение генеральной совокупности приблизительно равно 15. Пусть погрешность измерений $\\Delta$ = 5. Таким образом, обозначим стандартное отклонение $\\sigma$ = 15 и квантиль нормального распределения Z = 1,96."
      ]
    },
    {
      "cell_type": "markdown",
      "metadata": {
        "id": "b7FGlgMFip5T"
      },
      "source": [
        "$$ n = (\\frac{Z*\\sigma}{\\Delta})^2$$\n",
        "- $\\Delta$ - допустимая ошибка/погрешность,\n",
        "\n",
        "- $\\sigma$ - стандартное отклонение,\n",
        "\n",
        "- Z - квантиль нормального распределения\n"
      ]
    },
    {
      "cell_type": "code",
      "execution_count": null,
      "metadata": {
        "id": "C73_gS35ip5T"
      },
      "outputs": [],
      "source": [
        "sigma = 15  # Стандартное отклонение\n",
        "Z = 1.96  # Квантиль нормального распределения.\n",
        "Delta = 5 # Погрешность"
      ]
    },
    {
      "cell_type": "code",
      "execution_count": null,
      "metadata": {
        "id": "k07cEm7iip5U",
        "outputId": "728c097d-a83b-4802-f5a1-db609a1c2e37"
      },
      "outputs": [
        {
          "data": {
            "text/plain": [
              "35"
            ]
          },
          "execution_count": 13,
          "metadata": {},
          "output_type": "execute_result"
        }
      ],
      "source": [
        "N = int(np.ceil(((sigma*Z)/Delta)**2))\n",
        "N"
      ]
    },
    {
      "cell_type": "markdown",
      "metadata": {
        "id": "QNtiBz6Qip5U"
      },
      "source": [
        "Сравним полученные результаты с генеральной совокупностью."
      ]
    },
    {
      "cell_type": "markdown",
      "metadata": {
        "id": "cKJffAMVip5U"
      },
      "source": [
        "<p style=\"align: center;\"><img align=center src=\"https://www.englisch-hilfen.de/images/usa/states/map.gif\"  width=400></p>"
      ]
    },
    {
      "cell_type": "code",
      "execution_count": null,
      "metadata": {
        "id": "Q95nEvCSip5U"
      },
      "outputs": [],
      "source": [
        "US_elect_county = 'https://raw.githubusercontent.com/a-milenkin/datasets_for_t-tests/main/2012_US_elect_county.csv'\n",
        "\n",
        "df = pd.read_csv(US_elect_county, sep=',') # Откроем датасет"
      ]
    },
    {
      "cell_type": "code",
      "execution_count": null,
      "metadata": {
        "id": "i_FOSn2qip5U",
        "outputId": "3d62380c-f07b-4447-de5e-0db00d3ea088"
      },
      "outputs": [
        {
          "data": {
            "text/html": [
              "<div>\n",
              "<style scoped>\n",
              "    .dataframe tbody tr th:only-of-type {\n",
              "        vertical-align: middle;\n",
              "    }\n",
              "\n",
              "    .dataframe tbody tr th {\n",
              "        vertical-align: top;\n",
              "    }\n",
              "\n",
              "    .dataframe thead th {\n",
              "        text-align: right;\n",
              "    }\n",
              "</style>\n",
              "<table border=\"1\" class=\"dataframe\">\n",
              "  <thead>\n",
              "    <tr style=\"text-align: right;\">\n",
              "      <th></th>\n",
              "      <th>State Postal</th>\n",
              "      <th>County Name</th>\n",
              "      <th>%</th>\n",
              "    </tr>\n",
              "  </thead>\n",
              "  <tbody>\n",
              "    <tr>\n",
              "      <th>0</th>\n",
              "      <td>AK</td>\n",
              "      <td>Alaska</td>\n",
              "      <td>41.6</td>\n",
              "    </tr>\n",
              "    <tr>\n",
              "      <th>1</th>\n",
              "      <td>AK</td>\n",
              "      <td>Alaska</td>\n",
              "      <td>41.6</td>\n",
              "    </tr>\n",
              "    <tr>\n",
              "      <th>2</th>\n",
              "      <td>AL</td>\n",
              "      <td>Alabama</td>\n",
              "      <td>38.4</td>\n",
              "    </tr>\n",
              "    <tr>\n",
              "      <th>3</th>\n",
              "      <td>AL</td>\n",
              "      <td>Autauga</td>\n",
              "      <td>26.6</td>\n",
              "    </tr>\n",
              "    <tr>\n",
              "      <th>4</th>\n",
              "      <td>AL</td>\n",
              "      <td>Baldwin</td>\n",
              "      <td>21.6</td>\n",
              "    </tr>\n",
              "  </tbody>\n",
              "</table>\n",
              "</div>"
            ],
            "text/plain": [
              "  State Postal County Name     %\n",
              "0           AK      Alaska  41.6\n",
              "1           AK      Alaska  41.6\n",
              "2           AL     Alabama  38.4\n",
              "3           AL     Autauga  26.6\n",
              "4           AL     Baldwin  21.6"
            ]
          },
          "execution_count": 15,
          "metadata": {},
          "output_type": "execute_result"
        }
      ],
      "source": [
        "df.dropna(how='any',inplace=True)  #Удалим пустые значения\n",
        "df=df[df['%']!='#DIV/0!'][['State Postal','County Name','%']] #Удалим мусор из данных и оставим только нужное\n",
        "df['%'] = df['%'].astype(float) # Приведем к численному значению результаты голосования\n",
        "df.head()"
      ]
    },
    {
      "cell_type": "code",
      "execution_count": null,
      "metadata": {
        "id": "YSCi5p-jip5V",
        "outputId": "82714c71-6a3f-4070-daa6-3095decf2f4b"
      },
      "outputs": [
        {
          "name": "stdout",
          "output_type": "stream",
          "text": [
            "Стандартное отклонение: 15.742\n",
            "Среднее: 44.079\n"
          ]
        },
        {
          "data": {
            "image/png": "[encoded data removed]",
            "text/plain": [
              "<Figure size 640x480 with 1 Axes>"
            ]
          },
          "metadata": {},
          "output_type": "display_data"
        }
      ],
      "source": [
        "print(f\"Стандартное отклонение: {df['%'].std():.3f}\")\n",
        "print(f\"Среднее: {df['%'].mean():.3f}\")\n",
        "df['%'].hist(bins=30);"
      ]
    },
    {
      "cell_type": "code",
      "execution_count": null,
      "metadata": {
        "id": "0z_t8usSip5V",
        "outputId": "0b001753-fbcc-484d-ee4f-6e646ee96783"
      },
      "outputs": [
        {
          "name": "stdout",
          "output_type": "stream",
          "text": [
            "Среднее выборки: 46.169\n",
            "Среднее генеральной совокупности: 44.079\n",
            "Доверительный интервал: (41.169, 51.169)\n"
          ]
        }
      ],
      "source": [
        "np.random.seed(67)  # Закрепим seed для воспроизводимости результата.\n",
        "\n",
        "mn = df['%'].sample(n = int(35)).mean()  # Возьмем выборку из случайных n значений\n",
        "print(f\"Среднее выборки: {mn:.3f}\")\n",
        "print(f\"Среднее генеральной совокупности: {df['%'].mean():.3f}\")\n",
        "print(f\"Доверительный интервал: ({mn-Delta:.3f}, {mn+Delta:.3f})\")"
      ]
    },
    {
      "cell_type": "markdown",
      "metadata": {
        "id": "eT1qTXOrip5V"
      },
      "source": [
        "<b>Пример.</b> Часто возникают ситуации, когда размер выборки может зависеть от оценки размера генеральной совокупности. Например, если мы хотим провести опрос клиентов банка на предмет удобства или качества обслуживания. Неужели размер выборки будет одинаковый если у нас 10 000 клиентов или 1 000 000 клиентов?\n",
        "\n",
        "В этом случае для определения размера выборки можно использовать оценку размера генеральной совокупности по следующей формуле."
      ]
    },
    {
      "cell_type": "code",
      "execution_count": null,
      "metadata": {
        "id": "oVdrVabTip5V"
      },
      "outputs": [],
      "source": [
        "p = 0.5 # распределение голосов\n",
        "Ddec = Delta/100.\n",
        "Pop = 10000000 # Оценка размера генеральной совокупности"
      ]
    },
    {
      "cell_type": "code",
      "execution_count": null,
      "metadata": {
        "id": "DQDh6wFOip5W",
        "outputId": "91c7dc5d-09f8-4b7e-c201-c83772ac742c"
      },
      "outputs": [
        {
          "data": {
            "text/plain": [
              "385"
            ]
          },
          "execution_count": 21,
          "metadata": {},
          "output_type": "execute_result"
        }
      ],
      "source": [
        "int(np.ceil((Z**2*p*(1-p)/Ddec**2)/(1+(Z**2*p*(1-p)/(Pop*Ddec**2)))))"
      ]
    },
    {
      "cell_type": "code",
      "execution_count": null,
      "metadata": {
        "id": "yYDesnewip5W"
      },
      "outputs": [],
      "source": []
    }
  ],
  "metadata": {
    "kernelspec": {
      "display_name": "Python 3 (ipykernel)",
      "language": "python",
      "name": "python3"
    },
    "language_info": {
      "codemirror_mode": {
        "name": "ipython",
        "version": 3
      },
      "file_extension": ".py",
      "mimetype": "text/x-python",
      "name": "python",
      "nbconvert_exporter": "python",
      "pygments_lexer": "ipython3",
      "version": "3.10.9"
    },
    "colab": {
      "provenance": [],
      "include_colab_link": true
    }
  },
  "nbformat": 4,
  "nbformat_minor": 0
}