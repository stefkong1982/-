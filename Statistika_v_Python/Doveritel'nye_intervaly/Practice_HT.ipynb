{
 "cells": [
  {
   "cell_type": "markdown",
   "metadata": {},
   "source": [
    "<h3 style=\"text-align: center;\"><b>«Практическое занятие по статистическим тестам»</b></h3>"
   ]
  },
  {
   "cell_type": "code",
   "execution_count": null,
   "metadata": {},
   "outputs": [],
   "source": [
    "import numpy as np\n",
    "import scipy.stats as st\n",
    "import pandas as pd\n",
    "import math\n",
    "import matplotlib.pyplot as plt"
   ]
  },
  {
   "cell_type": "markdown",
   "metadata": {},
   "source": [
    "## Параметрические тесты\n",
    "### Тест Стьюдента\n",
    "\n",
    "Проверка среднего значения двух выборок или одной выборки с целевым значением\n",
    "\n",
    "Допущения\n",
    "\n",
    "* Наблюдения внутри каждой выборки независимы друг от друга.\n",
    "* Распределение данных - нормальное или близкое к нормальному. Можно применять для других распределений, но осторожно.\n",
    "* Одинаковая вариация в выборках.\n",
    "\n",
    "Гипотеза\n",
    "\n",
    "* H0: Средние выборок одинаковы / Средние выборки совпадает с целевым значением \n",
    "* H1: Средние выборок различаются / Средние выборки отличается от целевого значения"
   ]
  },
  {
   "cell_type": "markdown",
   "metadata": {},
   "source": [
    "#### Одновыборочный тест"
   ]
  },
  {
   "cell_type": "markdown",
   "metadata": {},
   "source": [
    "<b>Пример.</b> Тест покажет нам, отличаются ли средние значения выборки и генеральной совокупности (сравниваем с генеральной!). Рассмотрим некоторое количество голосующих из Индии и население всего Мира. Отличается ли средний возраст избирателей Индии от возраста населения? Сейчас выясним!"
   ]
  },
  {
   "cell_type": "code",
   "execution_count": null,
   "metadata": {},
   "outputs": [],
   "source": [
    "np.random.seed(54)\n",
    "\n",
    "population_ages1=st.norm.rvs(loc=20, scale=45, size=15000)   \n",
    "population_ages2=st.norm.rvs(loc=20, scale=10, size=10000)\n",
    "population_ages=np.concatenate((population_ages1,population_ages2))  # Сгенерировали всю популяцию. \n",
    "\n",
    "india_ages1=st.norm.rvs(loc=19, scale=65, size=2000)  # Индия 1\n",
    "india_ages2=st.norm.rvs(loc=19, scale=55, size=2000)\n",
    "india_ages=np.concatenate((india_ages1, india_ages2)) #Выборка\n",
    "print('Средний возраст всего мира', population_ages.mean())\n",
    "print('Средний возраст индусов', india_ages.mean())"
   ]
  },
  {
   "cell_type": "code",
   "execution_count": null,
   "metadata": {},
   "outputs": [],
   "source": [
    "stat, p = st.ttest_1samp(a=india_ages, popmean=population_ages.mean())\n",
    "print(f\"Статистика = {stat:.3f}, p = {p:.3f}\")\n",
    "\n",
    "if p > 0.05:\n",
    "    print(\"Не отклоняем нулевую гипотезу, средний возраст в Индии, вероятно, не отличается от среднего по миру\")\n",
    "else:\n",
    "    print(\"Отклоняем нулевую гипотезу, средний возраст в Индии, вероятно, отличается от среднего по миру\")"
   ]
  },
  {
   "cell_type": "code",
   "execution_count": null,
   "metadata": {},
   "outputs": [],
   "source": [
    "plt.hist(population_ages, bins=120); # Вся популяция.\n",
    "plt.hist(india_ages, bins=120);  # Выборка"
   ]
  },
  {
   "cell_type": "markdown",
   "metadata": {},
   "source": [
    "#### Тест для двух выборок"
   ]
  },
  {
   "cell_type": "markdown",
   "metadata": {},
   "source": [
    "<b>Пример.</b> Такой тест показывает, имеют ли две выборки разные средние значения. Здесь нулевая гипотеза заключается в том, что обе группы имеют равные средние."
   ]
  },
  {
   "cell_type": "code",
   "execution_count": null,
   "metadata": {},
   "outputs": [],
   "source": [
    "np.random.seed(54)\n",
    "\n",
    "# Генерируем случайное множество с нормальным распределением, где среднее = loc, а стандартное отклонение = scale\n",
    "data1 = st.norm.rvs(loc=50, scale=10, size=100)  \n",
    "data2 = st.norm.rvs(loc=40, scale=15, size=100) \n",
    "\n",
    "stat, p = st.ttest_ind(data1, data2)\n",
    "\n",
    "print(f\"Статистика = {stat:.5f}, p = {p:.10f}\")\n",
    "\n",
    "if p > 0.05:\n",
    "    print('Не отклоняем нулевую гипотезу, средние, вероятно, одинаковые')\n",
    "else:\n",
    "    print('Отклоняем нулевую гипотезу, средние, вероятно, различаются')"
   ]
  },
  {
   "cell_type": "markdown",
   "metadata": {},
   "source": [
    "По умолчанию критерий Стьюдента подразумевает равенство дисперсий двух выборок. Если дисперсии отличаются (можно проверить с помощью F-теста), то нужно использовать поправку Уэлча (Welch). В scipy это реализовано через параметр функции ttest_ind: `equal_var = False`"
   ]
  },
  {
   "cell_type": "code",
   "execution_count": null,
   "metadata": {},
   "outputs": [],
   "source": [
    "stat, p = st.ttest_ind(data1, data2, equal_var = False)\n",
    "\n",
    "print(f\"Статистика = {stat:.5f}, p = {p:.10f}\")\n",
    "if p > 0.05:\n",
    "    print('Не отклоняем нулевую гипотезу, средние, вероятно, одинаковые')\n",
    "else:\n",
    "    print('Отклоняем нулевую гипотезу, средние, вероятно, различаются')"
   ]
  },
  {
   "cell_type": "code",
   "execution_count": null,
   "metadata": {},
   "outputs": [],
   "source": [
    "plt.hist(data2, bins=25); #Выборка A\n",
    "plt.hist(data1, bins=25);  #Выборка B"
   ]
  },
  {
   "cell_type": "code",
   "execution_count": null,
   "metadata": {},
   "outputs": [],
   "source": [
    "plt.boxplot(data1);\n",
    "plt.boxplot(data2);"
   ]
  },
  {
   "cell_type": "code",
   "execution_count": null,
   "metadata": {},
   "outputs": [],
   "source": [
    "def check_variance(group1, group2):\n",
    "    stat, p = st.levene(group1,group2)\n",
    "    print(f\"p = {p:.5f}\")\n",
    "    if p <0.05:\n",
    "        print(\"Отклоняем нулевую гипотезу >> Вариация в группах различается\")\n",
    "    else:\n",
    "        print(\"Не отклоняем нулевую гипотезу >> Вариация в группах одинаковая\")"
   ]
  },
  {
   "cell_type": "code",
   "execution_count": null,
   "metadata": {},
   "outputs": [],
   "source": [
    "check_variance(data1, data2)"
   ]
  },
  {
   "cell_type": "markdown",
   "metadata": {},
   "source": [
    "<b>Помимо проверки, что выборки могу значимо различаться, t-Тест еще полезен при поиске выбросов в данных.</b>"
   ]
  },
  {
   "cell_type": "markdown",
   "metadata": {},
   "source": [
    "### Парный тест Стьюдента\n",
    "Сравнивает средние значения при связанных данных, когда измерения проводились, например, до и после каких-то изменений. \n",
    "\n",
    "Допущения\n",
    "\n",
    "* Наблюдения внутри каждой выборки независимы друг от друга.\n",
    "* Распределение данных - нормлаьное или близкое к нормальному. Можно применять для других распределений, но осторожно.\n",
    "* Одинаковая вариация в выборках.\n",
    "* Наблюдения связаны попарно в двух выборках\n",
    "\n",
    "Гипотеза\n",
    "\n",
    "* H0: Средние выборок одинаковы.\n",
    "* H1: Средние выборок различаются."
   ]
  },
  {
   "cell_type": "markdown",
   "metadata": {},
   "source": [
    "<b>Пример.</b> В парном выборочном t-тесте каждый объект измеряется дважды, в результате чего получаются пары наблюдений. Предположим, нас интересует оценка эффективности программы обучения компании. Один из подходов, который вы можете рассмотреть, - это измерение производительности выборки сотрудников до и после завершения программы и анализ различий с использованием парного выборочного t-критерия. "
   ]
  },
  {
   "cell_type": "code",
   "execution_count": null,
   "metadata": {},
   "outputs": [],
   "source": [
    "np.random.seed(54)\n",
    "\n",
    "before = st.norm.rvs(scale = 30, loc = 250, size = 100)\n",
    "after = before + st.norm.rvs(scale = 5, loc = -.273, size = 100)\n",
    "weight_df = pd.DataFrame({\"вес_до\":before,\n",
    "                         \"вес_после\":after,\n",
    "                         \"вес_изменение\":after-before})\n",
    "weight_df.describe()"
   ]
  },
  {
   "cell_type": "code",
   "execution_count": null,
   "metadata": {},
   "outputs": [],
   "source": [
    "stat, p = st.ttest_rel(a=before, b=after)\n",
    "\n",
    "print(f\"Статистика = {stat:.3f}, p = {p:.3f}\")\n",
    "if p > 0.05:\n",
    "    print('Не отклоняем нулевую гипотезу, средние, вероятно, одинаковые')\n",
    "else:\n",
    "    print('Отклоняем нулевую гипотезу, средние, вероятно, различаются')"
   ]
  },
  {
   "cell_type": "markdown",
   "metadata": {},
   "source": [
    "### А если распределение не нормальное?\n",
    "В этом случае можно использовать непараметрические тесты или преобразования данных... С преобразованиями данных нужно быть аккуратнее, так как после преобразования меняется масштаб данных и единицы измерения, что может затруднять интерпретацию."
   ]
  },
  {
   "cell_type": "markdown",
   "metadata": {},
   "source": [
    "<b>Пример.</b> Рассмотрим рынок жилья в Нью-Йорке.\n",
    "\n",
    "New York City Airbnb Open Data Airbnb listings and metrics in NYC, NY, USA (2019)"
   ]
  },
  {
   "cell_type": "markdown",
   "metadata": {},
   "source": [
    "<p style=\"align: center;\"><img align=center src=\"https://upload.wikimedia.org/wikipedia/commons/5/5a/New_York_City_District_Map.png\n",
    "\"  width=400></p>"
   ]
  },
  {
   "cell_type": "code",
   "execution_count": null,
   "metadata": {},
   "outputs": [],
   "source": [
    "url  = 'https://raw.githubusercontent.com/a-milenkin/datasets_for_t-tests/main/AB_NYC_2019.csv'\n",
    "df = pd.read_csv(url, on_bad_lines='skip')\n",
    "df.dropna(how='any',inplace=True)\n",
    "df.head(3)"
   ]
  },
  {
   "cell_type": "code",
   "execution_count": null,
   "metadata": {},
   "outputs": [],
   "source": [
    "df[df.price<500].price.hist(bins=30);"
   ]
  },
  {
   "cell_type": "markdown",
   "metadata": {},
   "source": [
    "<b>Преобразуем данные</b>"
   ]
  },
  {
   "cell_type": "code",
   "execution_count": null,
   "metadata": {},
   "outputs": [],
   "source": [
    "np.log2(abs(df[df.price<500].price)+1).hist(bins=30);"
   ]
  },
  {
   "cell_type": "markdown",
   "metadata": {},
   "source": [
    "<b>Теперь можно применять параметрические тесты!</b>"
   ]
  },
  {
   "cell_type": "markdown",
   "metadata": {},
   "source": [
    "## Непараметрические тесты\n",
    "### Тест Манна-Уитни \n",
    "Критерий Манна-Уитни представляет непараметрическую альтернативу критерия Стьюдента для независимых выборок и используется для оценки различий между двумя независимыми выборками по уровню какого-либо признака, измеренного количественно. \n",
    "\n",
    "Допущения\n",
    "\n",
    "* Наблюдения внутри каждой выборки независимы друг от друга.\n",
    "* Наблюдения можно проранжировать.\n",
    "\n",
    "Гипотеза\n",
    "\n",
    "* H0: Распределения одинаковы.\n",
    "* H1: Распределения различаются."
   ]
  },
  {
   "cell_type": "code",
   "execution_count": null,
   "metadata": {},
   "outputs": [],
   "source": [
    "data1 = [0.873, 2.817, 0.121, -0.945, -0.055, -1.436, 0.360, -1.478, -1.637, -1.869]\n",
    "data2 = [1.142, -0.432, -0.938,-0.729, -0.846, -0.157, 0.500, 1.183, -1.075, -0.169]\n",
    "\n",
    "stat, p = st.mannwhitneyu(data1, data2)\n",
    "\n",
    "print(f\"Статистика = {stat:.5f}, p = {p:.5f}\")\n",
    "\n",
    "if p > 0.05:\n",
    "    print('Не отклоняем нулевую гипотезу, распределения, вероятно, одинаковые')\n",
    "else:\n",
    "    print('Отклоняем нулевую гипотезу, распределения, вероятно, различаются')"
   ]
  },
  {
   "cell_type": "markdown",
   "metadata": {},
   "source": [
    "### Тест Вилкоксона\n",
    "Тест Вилкоксона - это непараметрический аналог парного критерия Стьюдента. \n",
    "\n",
    "Допущения\n",
    "\n",
    "* Наблюдения внутри каждой выборки независимы друг от друга.\n",
    "* Наблюдения можно проранжировать.\n",
    "* Наблюдения связаны попарно в двух выборках\n",
    "\n",
    "Гипотеза\n",
    "\n",
    "* H0: Две связанные выборки принадлежат одному распределению.\n",
    "* H1: Две связанные выборки принадлежат разным распределениям."
   ]
  },
  {
   "cell_type": "code",
   "execution_count": null,
   "metadata": {},
   "outputs": [],
   "source": [
    "data1 = [0.873, 2.817, 0.121, -0.945, -0.055, -1.436, 0.360, -1.478, -1.637, -1.869]\n",
    "data2 = [1.142, -0.432, -0.938, -0.729, -0.846, -0.157, 0.500, 1.183, -1.075, -0.169]\n",
    "\n",
    "stat, p = st.wilcoxon(data1, data2)\n",
    "\n",
    "print(f\"Статистика = {stat:.5f}, p = {p:.5f}\")\n",
    "\n",
    "if p > 0.05:\n",
    "    print('Не отклоняем нулевую гипотезу, распределения, вероятно, одинаковые')\n",
    "else:\n",
    "    print('Отклоняем нулевую гипотезу, распределения, вероятно, различаются')"
   ]
  },
  {
   "cell_type": "code",
   "execution_count": null,
   "metadata": {},
   "outputs": [],
   "source": [
    "dif = np.array(data1) - np.array(data2)\n",
    "\n",
    "stat, p = st.wilcoxon(dif)\n",
    "\n",
    "print(f\"Статистика = {stat:.5f}, p = {p:.5f}\")\n",
    "\n",
    "if p > 0.05:\n",
    "    print('Не отклоняем нулевую гипотезу, распределения, вероятно, одинаковые')\n",
    "else:\n",
    "    print('Отклоняем нулевую гипотезу, распределения, вероятно, различаются')"
   ]
  },
  {
   "cell_type": "markdown",
   "metadata": {},
   "source": [
    "### Точный критерий Фишера\n",
    "Критерий Стьюдента позволяет работать с численными переменными, но не позволяет работать с категориальными. Для этого существует критерий Фишера (или Хи-квадрат). Одна из его задач сказать, насколько случайно распределены значения между группами. Позволяет проверить гипотезу, есть ли значимый перевес между группами. \n",
    "\n",
    "Допущения\n",
    "\n",
    "* Наблюдения независимы друг от друга.\n",
    "* Встречаются ограничения на минимальное число наблюдений. \n",
    "\n",
    "Гипотеза\n",
    "\n",
    "* H0: Выборки независимы.\n",
    "* H1: Есть некторая зависимость."
   ]
  },
  {
   "cell_type": "markdown",
   "metadata": {},
   "source": [
    "<b>Пример.</b> Мы хотим проверить нет ли дискриминации по половому признаку в сфере Data Science. Вы узнали, что в какой-то компании после серии собеседований 107 мужчин взяли на работу, а отказали 93-м мужчинам. А среди женщин 74 взяли, а отказали 45-и. Относится ли руководство компании предвзято к мужчинам или к женщинам?"
   ]
  },
  {
   "cell_type": "code",
   "execution_count": null,
   "metadata": {},
   "outputs": [],
   "source": [
    "x = [[107,93],[74,45]]\n",
    "\n",
    "oddsratio, p = st.fisher_exact(x) # Точный тест Фишера\n",
    "\n",
    "print(f\"Статистика = {oddsratio:.5f}, p = {p:.5f}\")\n",
    "\n",
    "if p > 0.05:\n",
    "    print('Не отклоняем нулевую гипотезу, выборки, вероятно, независимы')\n",
    "else:\n",
    "    print('Отклоняем нулевую гипотезу, вероятно, есть некоторая зависимость')"
   ]
  },
  {
   "cell_type": "markdown",
   "metadata": {},
   "source": [
    "### Тест Хи-квадрат\n",
    "Например, вы хотите проверить правда ли эксперт по Data Science таковым является. Вы составили список вопросов, спросили эксперта и случайных прохожих. Количество правильный вопросов по каждому разделу вы записали в таблицу (таблица смежности)\n",
    "\n",
    "Выясните, исходя из полученных данных, действительно ли перед вами носитель экспертности или пока что еще не очень опытный начинаюший?"
   ]
  },
  {
   "cell_type": "code",
   "execution_count": null,
   "metadata": {},
   "outputs": [],
   "source": [
    "contingency_table = pd.DataFrame(\n",
    "    [  \n",
    "[22, 99, 59],        \n",
    "[10, 12, 31]\n",
    "    ],\n",
    "    columns = ['Machine Learning', 'Data Science', 'Analytics'],\n",
    "    index = ['Эксперт', 'Случайный прохожий'])\n",
    "\n",
    "print('Реальная таблица')\n",
    "print(contingency_table)"
   ]
  },
  {
   "cell_type": "code",
   "execution_count": null,
   "metadata": {},
   "outputs": [],
   "source": [
    "chi, pval, dof, exp = st.chi2_contingency(contingency_table.values) #Критерий Пирсона (хи квадрат)\n",
    "significance = 0.05\n",
    "\n",
    "print(f\"p-value = {pval:.6f}, уровень значимости = {significance:.2f}\")\n",
    "\n",
    "print(pval)\n",
    "if pval < significance:\n",
    "    print(f\"На уровене значимости {significance:.2f}, мы отвергаем нулевые гипотезы и принимаем H1. Они не независимы.\")\n",
    "    print('Это правда эксперт!')\n",
    "else:\n",
    "    print(f\"На уровене значимости {significance:.2f}, мы не отвергаем нулевые гипотезы. Они независимы.\")\n",
    "    \n",
    "# Возвращает:\n",
    "# chi2 : Посчитанную статистику теста.\n",
    "# p :  p-value теста\n",
    "# dof : Степени свободы\n",
    "# expected : Ожидаемые частоты, основанные на предельных суммах таблицы."
   ]
  },
  {
   "cell_type": "code",
   "execution_count": null,
   "metadata": {},
   "outputs": [],
   "source": [
    "exp"
   ]
  },
  {
   "cell_type": "markdown",
   "metadata": {},
   "source": [
    "<p style=\"align: center;\"><img align=center src=\"cheatsheet.webp\"  width=900></p>"
   ]
  },
  {
   "cell_type": "code",
   "execution_count": null,
   "metadata": {},
   "outputs": [],
   "source": []
  }
 ],
 "metadata": {
  "kernelspec": {
   "display_name": "Python 3 (ipykernel)",
   "language": "python",
   "name": "python3"
  },
  "language_info": {
   "codemirror_mode": {
    "name": "ipython",
    "version": 3
   },
   "file_extension": ".py",
   "mimetype": "text/x-python",
   "name": "python",
   "nbconvert_exporter": "python",
   "pygments_lexer": "ipython3",
   "version": "3.10.9"
  }
 },
 "nbformat": 4,
 "nbformat_minor": 4
}
