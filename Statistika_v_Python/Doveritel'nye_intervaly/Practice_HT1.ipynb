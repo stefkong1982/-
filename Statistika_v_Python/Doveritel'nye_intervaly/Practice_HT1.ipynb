{
  "cells": [
    {
      "cell_type": "markdown",
      "metadata": {
        "id": "view-in-github",
        "colab_type": "text"
      },
      "source": [
        "<a href=\"https://colab.research.google.com/github/stefkong1982/netology.ru/blob/Master/Statistika_v_Python/Doveritel'nye_intervaly/Practice_HT1.ipynb\" target=\"_parent\"><img src=\"https://colab.research.google.com/assets/colab-badge.svg\" alt=\"Open In Colab\"/></a>"
      ]
    },
    {
      "cell_type": "markdown",
      "metadata": {
        "id": "xkGVc9nUi2Vt"
      },
      "source": [
        "<h3 style=\"text-align: center;\"><b>«Практическое занятие по статистическим тестам»</b></h3>"
      ]
    },
    {
      "cell_type": "code",
      "execution_count": null,
      "metadata": {
        "id": "MpMvyRSAi2V0"
      },
      "outputs": [],
      "source": [
        "import numpy as np\n",
        "import scipy.stats as st\n",
        "import pandas as pd\n",
        "import math\n",
        "import matplotlib.pyplot as plt"
      ]
    },
    {
      "cell_type": "markdown",
      "metadata": {
        "id": "HGFpSaHfi2V2"
      },
      "source": [
        "## Параметрические тесты\n",
        "### Тест Стьюдента\n",
        "\n",
        "Проверка среднего значения двух выборок или одной выборки с целевым значением\n",
        "\n",
        "Допущения\n",
        "\n",
        "* Наблюдения внутри каждой выборки независимы друг от друга.\n",
        "* Распределение данных - нормальное или близкое к нормальному. Можно применять для других распределений, но осторожно.\n",
        "* Одинаковая вариация в выборках.\n",
        "\n",
        "Гипотеза\n",
        "\n",
        "* H0: Средние выборок одинаковы / Средние выборки совпадает с целевым значением\n",
        "* H1: Средние выборок различаются / Средние выборки отличается от целевого значения"
      ]
    },
    {
      "cell_type": "markdown",
      "metadata": {
        "id": "NpIzJqCci2V2"
      },
      "source": [
        "#### Одновыборочный тест"
      ]
    },
    {
      "cell_type": "markdown",
      "metadata": {
        "id": "AELw8ktQi2V3"
      },
      "source": [
        "<b>Пример.</b> Тест покажет нам, отличаются ли средние значения выборки и генеральной совокупности (сравниваем с генеральной!). Рассмотрим некоторое количество голосующих из Индии и население всего Мира. Отличается ли средний возраст избирателей Индии от возраста населения? Сейчас выясним!"
      ]
    },
    {
      "cell_type": "code",
      "execution_count": null,
      "metadata": {
        "id": "ZrXq-4Uvi2V3",
        "outputId": "f840f2b1-b9cd-429b-8e84-5276d6669c16"
      },
      "outputs": [
        {
          "name": "stdout",
          "output_type": "stream",
          "text": [
            "Средний возраст всего мира 19.87059878444056\n",
            "Средний возраст индусов 20.815033188073294\n"
          ]
        }
      ],
      "source": [
        "np.random.seed(54)\n",
        "\n",
        "population_ages1=st.norm.rvs(loc=20, scale=45, size=15000)\n",
        "population_ages2=st.norm.rvs(loc=20, scale=10, size=10000)\n",
        "population_ages=np.concatenate((population_ages1,population_ages2))  # Сгенерировали всю популяцию.\n",
        "\n",
        "india_ages1=st.norm.rvs(loc=19, scale=65, size=2000)  # Индия 1\n",
        "india_ages2=st.norm.rvs(loc=19, scale=55, size=2000)\n",
        "india_ages=np.concatenate((india_ages1, india_ages2)) #Выборка\n",
        "print('Средний возраст всего мира', population_ages.mean())\n",
        "print('Средний возраст индусов', india_ages.mean())"
      ]
    },
    {
      "cell_type": "code",
      "execution_count": null,
      "metadata": {
        "id": "f6rlsdiqi2V5",
        "outputId": "b0b9ae68-723f-4034-9162-1b01cf2130e4"
      },
      "outputs": [
        {
          "name": "stdout",
          "output_type": "stream",
          "text": [
            "Статистика = 0.995, p = 0.320\n",
            "Не отклоняем нулевую гипотезу, средний возраст в Индии, вероятно, не отличается от среднего по миру\n"
          ]
        }
      ],
      "source": [
        "stat, p = st.ttest_1samp(a=india_ages, popmean=population_ages.mean())\n",
        "print(f\"Статистика = {stat:.3f}, p = {p:.3f}\")\n",
        "\n",
        "if p > 0.05:\n",
        "    print(\"Не отклоняем нулевую гипотезу, средний возраст в Индии, вероятно, не отличается от среднего по миру\")\n",
        "else:\n",
        "    print(\"Отклоняем нулевую гипотезу, средний возраст в Индии, вероятно, отличается от среднего по миру\")"
      ]
    },
    {
      "cell_type": "code",
      "execution_count": null,
      "metadata": {
        "id": "ZFCqnxsci2V6",
        "outputId": "8c63e41d-c2c2-4c5d-85e8-a2240646cf7b"
      },
      "outputs": [
        {
          "data": {
            "image/png": "[encoded data removed]",
            "text/plain": [
              "<Figure size 640x480 with 1 Axes>"
            ]
          },
          "metadata": {},
          "output_type": "display_data"
        }
      ],
      "source": [
        "plt.hist(population_ages, bins=120); # Вся популяция.\n",
        "plt.hist(india_ages, bins=120);  # Выборка"
      ]
    },
    {
      "cell_type": "markdown",
      "metadata": {
        "id": "WjGo7jyni2V7"
      },
      "source": [
        "#### Тест для двух выборок"
      ]
    },
    {
      "cell_type": "markdown",
      "metadata": {
        "id": "IkCZ9hHDi2V8"
      },
      "source": [
        "<b>Пример.</b> Такой тест показывает, имеют ли две выборки разные средние значения. Здесь нулевая гипотеза заключается в том, что обе группы имеют равные средние."
      ]
    },
    {
      "cell_type": "code",
      "execution_count": null,
      "metadata": {
        "id": "WM18-oUPi2V9",
        "outputId": "d79e5efd-5065-42c2-8618-42f51008d4a1"
      },
      "outputs": [
        {
          "name": "stdout",
          "output_type": "stream",
          "text": [
            "Статистика = 4.28499, p = 0.0000285042\n",
            "Отклоняем нулевую гипотезу, средние, вероятно, различаются\n"
          ]
        }
      ],
      "source": [
        "np.random.seed(54)\n",
        "\n",
        "# Генерируем случайное множество с нормальным распределением, где среднее = loc, а стандартное отклонение = scale\n",
        "data1 = st.norm.rvs(loc=50, scale=10, size=100)\n",
        "data2 = st.norm.rvs(loc=40, scale=15, size=100)\n",
        "\n",
        "stat, p = st.ttest_ind(data1, data2)\n",
        "\n",
        "print(f\"Статистика = {stat:.5f}, p = {p:.10f}\")\n",
        "\n",
        "if p > 0.05:\n",
        "    print('Не отклоняем нулевую гипотезу, средние, вероятно, одинаковые')\n",
        "else:\n",
        "    print('Отклоняем нулевую гипотезу, средние, вероятно, различаются')"
      ]
    },
    {
      "cell_type": "markdown",
      "metadata": {
        "id": "oHL_aqPpi2V9"
      },
      "source": [
        "По умолчанию критерий Стьюдента подразумевает равенство дисперсий двух выборок. Если дисперсии отличаются (можно проверить с помощью F-теста), то нужно использовать поправку Уэлча (Welch). В scipy это реализовано через параметр функции ttest_ind: `equal_var = False`"
      ]
    },
    {
      "cell_type": "code",
      "execution_count": null,
      "metadata": {
        "id": "zF0vNqAfi2V-",
        "outputId": "327e6102-4856-4364-b53c-ac50e3193f51"
      },
      "outputs": [
        {
          "name": "stdout",
          "output_type": "stream",
          "text": [
            "Статистика = 4.28499, p = 0.0000311336\n",
            "Отклоняем нулевую гипотезу, средние, вероятно, различаются\n"
          ]
        }
      ],
      "source": [
        "stat, p = st.ttest_ind(data1, data2, equal_var = False)\n",
        "\n",
        "print(f\"Статистика = {stat:.5f}, p = {p:.10f}\")\n",
        "if p > 0.05:\n",
        "    print('Не отклоняем нулевую гипотезу, средние, вероятно, одинаковые')\n",
        "else:\n",
        "    print('Отклоняем нулевую гипотезу, средние, вероятно, различаются')"
      ]
    },
    {
      "cell_type": "code",
      "execution_count": null,
      "metadata": {
        "id": "f4e3oL4Mi2V-"
      },
      "outputs": [],
      "source": [
        "plt.hist(data2, bins=25); #Выборка A\n",
        "plt.hist(data1, bins=25);  #Выборка B"
      ]
    },
    {
      "cell_type": "code",
      "execution_count": null,
      "metadata": {
        "id": "8uH9W8_9i2V_"
      },
      "outputs": [],
      "source": [
        "plt.boxplot(data1);\n",
        "plt.boxplot(data2);"
      ]
    },
    {
      "cell_type": "code",
      "execution_count": null,
      "metadata": {
        "id": "hCDo_Dsvi2V_"
      },
      "outputs": [],
      "source": [
        "def check_variance(group1, group2):\n",
        "    stat, p = st.levene(group1,group2)\n",
        "    print(f\"p = {p:.5f}\")\n",
        "    if p <0.05:\n",
        "        print(\"Отклоняем нулевую гипотезу >> Вариация в группах различается\")\n",
        "    else:\n",
        "        print(\"Не отклоняем нулевую гипотезу >> Вариация в группах одинаковая\")"
      ]
    },
    {
      "cell_type": "code",
      "execution_count": null,
      "metadata": {
        "id": "S1XndcmAi2WA",
        "outputId": "6e3e7189-d2bf-4a4c-f385-37787ab630e2"
      },
      "outputs": [
        {
          "name": "stdout",
          "output_type": "stream",
          "text": [
            "p = 0.00001\n",
            "Отклоняем нулевую гипотезу >> Вариация в группах различается\n"
          ]
        }
      ],
      "source": [
        "check_variance(data1, data2)"
      ]
    },
    {
      "cell_type": "markdown",
      "metadata": {
        "id": "s3TWwwwEi2WA"
      },
      "source": [
        "<b>Помимо проверки, что выборки могу значимо различаться, t-Тест еще полезен при поиске выбросов в данных.</b>"
      ]
    },
    {
      "cell_type": "markdown",
      "metadata": {
        "id": "yDpXJ_xMi2WA"
      },
      "source": [
        "### Парный тест Стьюдента\n",
        "Сравнивает средние значения при связанных данных, когда измерения проводились, например, до и после каких-то изменений.\n",
        "\n",
        "Допущения\n",
        "\n",
        "* Наблюдения внутри каждой выборки независимы друг от друга.\n",
        "* Распределение данных - нормлаьное или близкое к нормальному. Можно применять для других распределений, но осторожно.\n",
        "* Одинаковая вариация в выборках.\n",
        "* Наблюдения связаны попарно в двух выборках\n",
        "\n",
        "Гипотеза\n",
        "\n",
        "* H0: Средние выборок одинаковы.\n",
        "* H1: Средние выборок различаются."
      ]
    },
    {
      "cell_type": "markdown",
      "metadata": {
        "id": "cmW5pNkYi2WB"
      },
      "source": [
        "<b>Пример.</b> В парном выборочном t-тесте каждый объект измеряется дважды, в результате чего получаются пары наблюдений. Предположим, нас интересует оценка эффективности программы обучения компании. Один из подходов, который вы можете рассмотреть, - это измерение производительности выборки сотрудников до и после завершения программы и анализ различий с использованием парного выборочного t-критерия."
      ]
    },
    {
      "cell_type": "code",
      "execution_count": null,
      "metadata": {
        "id": "Z34RTdXqi2WB",
        "outputId": "785b0516-3719-44ed-e937-0e39b209db42"
      },
      "outputs": [
        {
          "data": {
            "text/html": [
              "<div>\n",
              "<style scoped>\n",
              "    .dataframe tbody tr th:only-of-type {\n",
              "        vertical-align: middle;\n",
              "    }\n",
              "\n",
              "    .dataframe tbody tr th {\n",
              "        vertical-align: top;\n",
              "    }\n",
              "\n",
              "    .dataframe thead th {\n",
              "        text-align: right;\n",
              "    }\n",
              "</style>\n",
              "<table border=\"1\" class=\"dataframe\">\n",
              "  <thead>\n",
              "    <tr style=\"text-align: right;\">\n",
              "      <th></th>\n",
              "      <th>вес_до</th>\n",
              "      <th>вес_после</th>\n",
              "      <th>вес_изменение</th>\n",
              "    </tr>\n",
              "  </thead>\n",
              "  <tbody>\n",
              "    <tr>\n",
              "      <th>count</th>\n",
              "      <td>100.000000</td>\n",
              "      <td>100.000000</td>\n",
              "      <td>100.000000</td>\n",
              "    </tr>\n",
              "    <tr>\n",
              "      <th>mean</th>\n",
              "      <td>246.691328</td>\n",
              "      <td>246.800651</td>\n",
              "      <td>0.109323</td>\n",
              "    </tr>\n",
              "    <tr>\n",
              "      <th>std</th>\n",
              "      <td>28.161039</td>\n",
              "      <td>28.746787</td>\n",
              "      <td>5.153353</td>\n",
              "    </tr>\n",
              "    <tr>\n",
              "      <th>min</th>\n",
              "      <td>192.332479</td>\n",
              "      <td>189.122861</td>\n",
              "      <td>-12.533319</td>\n",
              "    </tr>\n",
              "    <tr>\n",
              "      <th>25%</th>\n",
              "      <td>228.405828</td>\n",
              "      <td>225.747076</td>\n",
              "      <td>-2.846210</td>\n",
              "    </tr>\n",
              "    <tr>\n",
              "      <th>50%</th>\n",
              "      <td>245.169221</td>\n",
              "      <td>244.712994</td>\n",
              "      <td>-0.115017</td>\n",
              "    </tr>\n",
              "    <tr>\n",
              "      <th>75%</th>\n",
              "      <td>268.328626</td>\n",
              "      <td>266.582395</td>\n",
              "      <td>3.782396</td>\n",
              "    </tr>\n",
              "    <tr>\n",
              "      <th>max</th>\n",
              "      <td>325.254027</td>\n",
              "      <td>319.269443</td>\n",
              "      <td>11.587162</td>\n",
              "    </tr>\n",
              "  </tbody>\n",
              "</table>\n",
              "</div>"
            ],
            "text/plain": [
              "           вес_до   вес_после  вес_изменение\n",
              "count  100.000000  100.000000     100.000000\n",
              "mean   246.691328  246.800651       0.109323\n",
              "std     28.161039   28.746787       5.153353\n",
              "min    192.332479  189.122861     -12.533319\n",
              "25%    228.405828  225.747076      -2.846210\n",
              "50%    245.169221  244.712994      -0.115017\n",
              "75%    268.328626  266.582395       3.782396\n",
              "max    325.254027  319.269443      11.587162"
            ]
          },
          "execution_count": 9,
          "metadata": {},
          "output_type": "execute_result"
        }
      ],
      "source": [
        "np.random.seed(54)\n",
        "\n",
        "before = st.norm.rvs(scale = 30, loc = 250, size = 100)\n",
        "after = before + st.norm.rvs(scale = 5, loc = -.273, size = 100)\n",
        "weight_df = pd.DataFrame({\"вес_до\":before,\n",
        "                         \"вес_после\":after,\n",
        "                         \"вес_изменение\":after-before})\n",
        "weight_df.describe()"
      ]
    },
    {
      "cell_type": "code",
      "execution_count": null,
      "metadata": {
        "id": "09h3b3tCi2WB",
        "outputId": "5bf31760-d0d1-49d6-9033-8167837f66e0"
      },
      "outputs": [
        {
          "name": "stdout",
          "output_type": "stream",
          "text": [
            "Статистика = -0.212, p = 0.832\n",
            "Не отклоняем нулевую гипотезу, средние, вероятно, одинаковые\n"
          ]
        }
      ],
      "source": [
        "stat, p = st.ttest_rel(a=before, b=after)\n",
        "\n",
        "print(f\"Статистика = {stat:.3f}, p = {p:.3f}\")\n",
        "if p > 0.05:\n",
        "    print('Не отклоняем нулевую гипотезу, средние, вероятно, одинаковые')\n",
        "else:\n",
        "    print('Отклоняем нулевую гипотезу, средние, вероятно, различаются')"
      ]
    },
    {
      "cell_type": "markdown",
      "metadata": {
        "id": "TF-q1jp6i2WC"
      },
      "source": [
        "### А если распределение не нормальное?\n",
        "В этом случае можно использовать непараметрические тесты или преобразования данных... С преобразованиями данных нужно быть аккуратнее, так как после преобразования меняется масштаб данных и единицы измерения, что может затруднять интерпретацию."
      ]
    },
    {
      "cell_type": "markdown",
      "metadata": {
        "id": "0MUi-yEmi2WC"
      },
      "source": [
        "<b>Пример.</b> Рассмотрим рынок жилья в Нью-Йорке.\n",
        "\n",
        "New York City Airbnb Open Data Airbnb listings and metrics in NYC, NY, USA (2019)"
      ]
    },
    {
      "cell_type": "markdown",
      "metadata": {
        "id": "tWwao9h0i2WD"
      },
      "source": [
        "<p style=\"align: center;\"><img align=center src=\"https://upload.wikimedia.org/wikipedia/commons/5/5a/New_York_City_District_Map.png\n",
        "\"  width=400></p>"
      ]
    },
    {
      "cell_type": "code",
      "execution_count": null,
      "metadata": {
        "id": "ANlWtFAai2WD",
        "outputId": "8c232050-fd8e-4b20-f500-76e47f2fc3b9"
      },
      "outputs": [
        {
          "data": {
            "text/html": [
              "<div>\n",
              "<style scoped>\n",
              "    .dataframe tbody tr th:only-of-type {\n",
              "        vertical-align: middle;\n",
              "    }\n",
              "\n",
              "    .dataframe tbody tr th {\n",
              "        vertical-align: top;\n",
              "    }\n",
              "\n",
              "    .dataframe thead th {\n",
              "        text-align: right;\n",
              "    }\n",
              "</style>\n",
              "<table border=\"1\" class=\"dataframe\">\n",
              "  <thead>\n",
              "    <tr style=\"text-align: right;\">\n",
              "      <th></th>\n",
              "      <th>id</th>\n",
              "      <th>name</th>\n",
              "      <th>host_id</th>\n",
              "      <th>host_name</th>\n",
              "      <th>neighbourhood_group</th>\n",
              "      <th>neighbourhood</th>\n",
              "      <th>latitude</th>\n",
              "      <th>longitude</th>\n",
              "      <th>room_type</th>\n",
              "      <th>price</th>\n",
              "      <th>minimum_nights</th>\n",
              "      <th>number_of_reviews</th>\n",
              "      <th>last_review</th>\n",
              "      <th>reviews_per_month</th>\n",
              "      <th>calculated_host_listings_count</th>\n",
              "      <th>availability_365</th>\n",
              "    </tr>\n",
              "  </thead>\n",
              "  <tbody>\n",
              "    <tr>\n",
              "      <th>0</th>\n",
              "      <td>2539</td>\n",
              "      <td>Clean &amp; quiet apt home by the park</td>\n",
              "      <td>2787</td>\n",
              "      <td>John</td>\n",
              "      <td>Brooklyn</td>\n",
              "      <td>Kensington</td>\n",
              "      <td>40.64749</td>\n",
              "      <td>-73.97237</td>\n",
              "      <td>Private room</td>\n",
              "      <td>149</td>\n",
              "      <td>1</td>\n",
              "      <td>9</td>\n",
              "      <td>2018-10-19</td>\n",
              "      <td>0.21</td>\n",
              "      <td>6</td>\n",
              "      <td>365</td>\n",
              "    </tr>\n",
              "    <tr>\n",
              "      <th>1</th>\n",
              "      <td>2595</td>\n",
              "      <td>Skylit Midtown Castle</td>\n",
              "      <td>2845</td>\n",
              "      <td>Jennifer</td>\n",
              "      <td>Manhattan</td>\n",
              "      <td>Midtown</td>\n",
              "      <td>40.75362</td>\n",
              "      <td>-73.98377</td>\n",
              "      <td>Entire home/apt</td>\n",
              "      <td>225</td>\n",
              "      <td>1</td>\n",
              "      <td>45</td>\n",
              "      <td>2019-05-21</td>\n",
              "      <td>0.38</td>\n",
              "      <td>2</td>\n",
              "      <td>355</td>\n",
              "    </tr>\n",
              "    <tr>\n",
              "      <th>3</th>\n",
              "      <td>3831</td>\n",
              "      <td>Cozy Entire Floor of Brownstone</td>\n",
              "      <td>4869</td>\n",
              "      <td>LisaRoxanne</td>\n",
              "      <td>Brooklyn</td>\n",
              "      <td>Clinton Hill</td>\n",
              "      <td>40.68514</td>\n",
              "      <td>-73.95976</td>\n",
              "      <td>Entire home/apt</td>\n",
              "      <td>89</td>\n",
              "      <td>1</td>\n",
              "      <td>270</td>\n",
              "      <td>2019-07-05</td>\n",
              "      <td>4.64</td>\n",
              "      <td>1</td>\n",
              "      <td>194</td>\n",
              "    </tr>\n",
              "  </tbody>\n",
              "</table>\n",
              "</div>"
            ],
            "text/plain": [
              "     id                                name  host_id    host_name  \\\n",
              "0  2539  Clean & quiet apt home by the park     2787         John   \n",
              "1  2595               Skylit Midtown Castle     2845     Jennifer   \n",
              "3  3831     Cozy Entire Floor of Brownstone     4869  LisaRoxanne   \n",
              "\n",
              "  neighbourhood_group neighbourhood  latitude  longitude        room_type  \\\n",
              "0            Brooklyn    Kensington  40.64749  -73.97237     Private room   \n",
              "1           Manhattan       Midtown  40.75362  -73.98377  Entire home/apt   \n",
              "3            Brooklyn  Clinton Hill  40.68514  -73.95976  Entire home/apt   \n",
              "\n",
              "   price  minimum_nights  number_of_reviews last_review  reviews_per_month  \\\n",
              "0    149               1                  9  2018-10-19               0.21   \n",
              "1    225               1                 45  2019-05-21               0.38   \n",
              "3     89               1                270  2019-07-05               4.64   \n",
              "\n",
              "   calculated_host_listings_count  availability_365  \n",
              "0                               6               365  \n",
              "1                               2               355  \n",
              "3                               1               194  "
            ]
          },
          "execution_count": 11,
          "metadata": {},
          "output_type": "execute_result"
        }
      ],
      "source": [
        "url  = 'https://raw.githubusercontent.com/a-milenkin/datasets_for_t-tests/main/AB_NYC_2019.csv'\n",
        "df = pd.read_csv(url, on_bad_lines='skip')\n",
        "df.dropna(how='any',inplace=True)\n",
        "df.head(3)"
      ]
    },
    {
      "cell_type": "code",
      "execution_count": null,
      "metadata": {
        "id": "U_XNCdJ1i2WD",
        "outputId": "497b5dd9-5caf-44a8-f367-4459f34872ba"
      },
      "outputs": [
        {
          "data": {
            "image/png": "[encoded data removed]",
            "text/plain": [
              "<Figure size 640x480 with 1 Axes>"
            ]
          },
          "metadata": {},
          "output_type": "display_data"
        }
      ],
      "source": [
        "df[df.price<500].price.hist(bins=30);"
      ]
    },
    {
      "cell_type": "markdown",
      "metadata": {
        "id": "Wh-VHn0Ti2WE"
      },
      "source": [
        "<b>Преобразуем данные</b>"
      ]
    },
    {
      "cell_type": "code",
      "execution_count": null,
      "metadata": {
        "id": "ERdY6Hagi2WE",
        "outputId": "04ea8842-d057-4914-a024-a923455510ee"
      },
      "outputs": [
        {
          "data": {
            "image/png": "[encoded data removed]",
            "text/plain": [
              "<Figure size 640x480 with 1 Axes>"
            ]
          },
          "metadata": {},
          "output_type": "display_data"
        }
      ],
      "source": [
        "np.log2(abs(df[df.price<500].price)+1).hist(bins=30);"
      ]
    },
    {
      "cell_type": "markdown",
      "metadata": {
        "id": "lsH-f2eqi2WE"
      },
      "source": [
        "<b>Теперь можно применять параметрические тесты!</b>"
      ]
    },
    {
      "cell_type": "code",
      "execution_count": null,
      "metadata": {
        "id": "fABmMw3Li2WE"
      },
      "outputs": [],
      "source": []
    }
  ],
  "metadata": {
    "kernelspec": {
      "display_name": "Python 3 (ipykernel)",
      "language": "python",
      "name": "python3"
    },
    "language_info": {
      "codemirror_mode": {
        "name": "ipython",
        "version": 3
      },
      "file_extension": ".py",
      "mimetype": "text/x-python",
      "name": "python",
      "nbconvert_exporter": "python",
      "pygments_lexer": "ipython3",
      "version": "3.10.9"
    },
    "colab": {
      "provenance": [],
      "include_colab_link": true
    }
  },
  "nbformat": 4,
  "nbformat_minor": 0
}