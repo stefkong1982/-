{
  "cells": [
    {
      "cell_type": "markdown",
      "metadata": {
        "id": "view-in-github",
        "colab_type": "text"
      },
      "source": [
        "<a href=\"https://colab.research.google.com/github/stefkong1982/netology.ru/blob/Master/Statistika_v_Python/Korrelyaciya_i_korrelyacionnyj_analiz/DZ_Kondrstev_STPY-48_Korrelyaciya_i_regressiya.ipynb\" target=\"_parent\"><img src=\"https://colab.research.google.com/assets/colab-badge.svg\" alt=\"Open In Colab\"/></a>"
      ]
    },
    {
      "cell_type": "markdown",
      "metadata": {
        "id": "geNs_fffqen5"
      },
      "source": [
        "**Преподаватель:** Олег Булыгин\n",
        "\n",
        "### **Домашнее задание к лекции «Корреляция и корреляционный анализ»**\n",
        "\n",
        "Возьмите датасет Mortality and Water Hardness**\n",
        "\n",
        "www.kaggle.com...r-hardness\n",
        "\n",
        "В этом датасете содержатся данные по средней годовой смертности на\n",
        "100000 населения и концентрации кальция в питьевой воде для 61\n",
        "большого города в Англии и Уэльсе. Города дополнительно поделены на\n",
        "северные и южные.\n",
        "\n",
        "**Задание 1.**\n",
        "\n",
        "**Ответить на вопрос: есть ли связь между жёсткостью воды и средней годовой смертностью?**\n",
        "\n",
        "* Построить точечный график\n",
        "* Рассчитать коэффициенты корреляции Пирсона и Спирмена\n",
        "* Построить модель линейной регрессии\n",
        "* Рассчитать коэффициент детерминации\n",
        "* Вывести график остатков\n",
        "\n",
        "\n",
        "**Задание 2.**\n",
        "\n",
        "**Ответить на вопрос: сохраняется ли аналогичная зависимость для северных и южных городов по отдельности?**\n",
        "\n",
        "* Разделить данные на 2 группы\n",
        "* Повторить аналогичные шаги из пункта 1 для каждой группы по отдельности"
      ]
    },
    {
      "cell_type": "markdown",
      "source": [
        "## Задание 1.\n",
        "Проверяем есть ли связь между жёсткостью воды и средней годовой смертностью."
      ],
      "metadata": {
        "id": "avkroTmc2dMG"
      }
    },
    {
      "cell_type": "markdown",
      "source": [
        " **Описание столбцов датафрейма:**\n",
        "\n",
        "- `Unnamed`: 0: порядковый номер записи\n",
        "- `location`: местоположение города (South - южные города, North - северные города)\n",
        "- `town`: название города\n",
        "- `mortality`: средняя годовая смертность на 100000 населения\n",
        "- `hardness`: концентрация кальция в питьевой воде"
      ],
      "metadata": {
        "id": "849ZylEOjTzQ"
      }
    },
    {
      "cell_type": "markdown",
      "source": [
        "Загрузка данных"
      ],
      "metadata": {
        "id": "E2y01emnWjOd"
      }
    },
    {
      "cell_type": "code",
      "execution_count": 1,
      "metadata": {
        "id": "x6r4FX8lNlKx"
      },
      "outputs": [],
      "source": [
        "import pandas as pd\n",
        "import matplotlib.pyplot as plt\n",
        "import seaborn as sns\n",
        "import numpy as np\n",
        "from sklearn.model_selection import train_test_split\n",
        "from sklearn.linear_model import LinearRegression\n",
        "# Импорт библиотек"
      ]
    },
    {
      "cell_type": "code",
      "execution_count": 2,
      "metadata": {
        "id": "jWHHrKObNweV"
      },
      "outputs": [],
      "source": [
        "data = pd.read_csv('https://raw.githubusercontent.com/stefkong1982/netology.ru/Master/Statistika_v_Python/Korrelyaciya_i_korrelyacionnyj_analiz/water.csv')\n",
        "# Загружаем данные"
      ]
    },
    {
      "cell_type": "code",
      "execution_count": 3,
      "metadata": {
        "colab": {
          "base_uri": "https://localhost:8080/",
          "height": 423
        },
        "id": "a-4fZoIoChWj",
        "outputId": "a0d5c90e-fe73-426c-e814-2224eed5f455"
      },
      "outputs": [
        {
          "output_type": "execute_result",
          "data": {
            "text/plain": [
              "    Unnamed: 0 location           town  mortality  hardness\n",
              "0            1    South           Bath       1247       105\n",
              "1            2    North     Birkenhead       1668        17\n",
              "2            3    South     Birmingham       1466         5\n",
              "3            4    North      Blackburn       1800        14\n",
              "4            5    North      Blackpool       1609        18\n",
              "..         ...      ...            ...        ...       ...\n",
              "56          57    South        Walsall       1527        60\n",
              "57          58    South  West Bromwich       1627        53\n",
              "58          59    South       West Ham       1486       122\n",
              "59          60    South  Wolverhampton       1485        81\n",
              "60          61    North           York       1378        71\n",
              "\n",
              "[61 rows x 5 columns]"
            ],
            "text/html": [
              "\n",
              "  <div id=\"df-1b7aa9d2-e22a-4fdb-a0e3-997b3d93e43b\" class=\"colab-df-container\">\n",
              "    <div>\n",
              "<style scoped>\n",
              "    .dataframe tbody tr th:only-of-type {\n",
              "        vertical-align: middle;\n",
              "    }\n",
              "\n",
              "    .dataframe tbody tr th {\n",
              "        vertical-align: top;\n",
              "    }\n",
              "\n",
              "    .dataframe thead th {\n",
              "        text-align: right;\n",
              "    }\n",
              "</style>\n",
              "<table border=\"1\" class=\"dataframe\">\n",
              "  <thead>\n",
              "    <tr style=\"text-align: right;\">\n",
              "      <th></th>\n",
              "      <th>Unnamed: 0</th>\n",
              "      <th>location</th>\n",
              "      <th>town</th>\n",
              "      <th>mortality</th>\n",
              "      <th>hardness</th>\n",
              "    </tr>\n",
              "  </thead>\n",
              "  <tbody>\n",
              "    <tr>\n",
              "      <th>0</th>\n",
              "      <td>1</td>\n",
              "      <td>South</td>\n",
              "      <td>Bath</td>\n",
              "      <td>1247</td>\n",
              "      <td>105</td>\n",
              "    </tr>\n",
              "    <tr>\n",
              "      <th>1</th>\n",
              "      <td>2</td>\n",
              "      <td>North</td>\n",
              "      <td>Birkenhead</td>\n",
              "      <td>1668</td>\n",
              "      <td>17</td>\n",
              "    </tr>\n",
              "    <tr>\n",
              "      <th>2</th>\n",
              "      <td>3</td>\n",
              "      <td>South</td>\n",
              "      <td>Birmingham</td>\n",
              "      <td>1466</td>\n",
              "      <td>5</td>\n",
              "    </tr>\n",
              "    <tr>\n",
              "      <th>3</th>\n",
              "      <td>4</td>\n",
              "      <td>North</td>\n",
              "      <td>Blackburn</td>\n",
              "      <td>1800</td>\n",
              "      <td>14</td>\n",
              "    </tr>\n",
              "    <tr>\n",
              "      <th>4</th>\n",
              "      <td>5</td>\n",
              "      <td>North</td>\n",
              "      <td>Blackpool</td>\n",
              "      <td>1609</td>\n",
              "      <td>18</td>\n",
              "    </tr>\n",
              "    <tr>\n",
              "      <th>...</th>\n",
              "      <td>...</td>\n",
              "      <td>...</td>\n",
              "      <td>...</td>\n",
              "      <td>...</td>\n",
              "      <td>...</td>\n",
              "    </tr>\n",
              "    <tr>\n",
              "      <th>56</th>\n",
              "      <td>57</td>\n",
              "      <td>South</td>\n",
              "      <td>Walsall</td>\n",
              "      <td>1527</td>\n",
              "      <td>60</td>\n",
              "    </tr>\n",
              "    <tr>\n",
              "      <th>57</th>\n",
              "      <td>58</td>\n",
              "      <td>South</td>\n",
              "      <td>West Bromwich</td>\n",
              "      <td>1627</td>\n",
              "      <td>53</td>\n",
              "    </tr>\n",
              "    <tr>\n",
              "      <th>58</th>\n",
              "      <td>59</td>\n",
              "      <td>South</td>\n",
              "      <td>West Ham</td>\n",
              "      <td>1486</td>\n",
              "      <td>122</td>\n",
              "    </tr>\n",
              "    <tr>\n",
              "      <th>59</th>\n",
              "      <td>60</td>\n",
              "      <td>South</td>\n",
              "      <td>Wolverhampton</td>\n",
              "      <td>1485</td>\n",
              "      <td>81</td>\n",
              "    </tr>\n",
              "    <tr>\n",
              "      <th>60</th>\n",
              "      <td>61</td>\n",
              "      <td>North</td>\n",
              "      <td>York</td>\n",
              "      <td>1378</td>\n",
              "      <td>71</td>\n",
              "    </tr>\n",
              "  </tbody>\n",
              "</table>\n",
              "<p>61 rows × 5 columns</p>\n",
              "</div>\n",
              "    <div class=\"colab-df-buttons\">\n",
              "\n",
              "  <div class=\"colab-df-container\">\n",
              "    <button class=\"colab-df-convert\" onclick=\"convertToInteractive('df-1b7aa9d2-e22a-4fdb-a0e3-997b3d93e43b')\"\n",
              "            title=\"Convert this dataframe to an interactive table.\"\n",
              "            style=\"display:none;\">\n",
              "\n",
              "  <svg xmlns=\"http://www.w3.org/2000/svg\" height=\"24px\" viewBox=\"0 -960 960 960\">\n",
              "    <path d=\"M120-120v-720h720v720H120Zm60-500h600v-160H180v160Zm220 220h160v-160H400v160Zm0 220h160v-160H400v160ZM180-400h160v-160H180v160Zm440 0h160v-160H620v160ZM180-180h160v-160H180v160Zm440 0h160v-160H620v160Z\"/>\n",
              "  </svg>\n",
              "    </button>\n",
              "\n",
              "  <style>\n",
              "    .colab-df-container {\n",
              "      display:flex;\n",
              "      gap: 12px;\n",
              "    }\n",
              "\n",
              "    .colab-df-convert {\n",
              "      background-color: #E8F0FE;\n",
              "      border: none;\n",
              "      border-radius: 50%;\n",
              "      cursor: pointer;\n",
              "      display: none;\n",
              "      fill: #1967D2;\n",
              "      height: 32px;\n",
              "      padding: 0 0 0 0;\n",
              "      width: 32px;\n",
              "    }\n",
              "\n",
              "    .colab-df-convert:hover {\n",
              "      background-color: #E2EBFA;\n",
              "      box-shadow: 0px 1px 2px rgba(60, 64, 67, 0.3), 0px 1px 3px 1px rgba(60, 64, 67, 0.15);\n",
              "      fill: #174EA6;\n",
              "    }\n",
              "\n",
              "    .colab-df-buttons div {\n",
              "      margin-bottom: 4px;\n",
              "    }\n",
              "\n",
              "    [theme=dark] .colab-df-convert {\n",
              "      background-color: #3B4455;\n",
              "      fill: #D2E3FC;\n",
              "    }\n",
              "\n",
              "    [theme=dark] .colab-df-convert:hover {\n",
              "      background-color: #434B5C;\n",
              "      box-shadow: 0px 1px 3px 1px rgba(0, 0, 0, 0.15);\n",
              "      filter: drop-shadow(0px 1px 2px rgba(0, 0, 0, 0.3));\n",
              "      fill: #FFFFFF;\n",
              "    }\n",
              "  </style>\n",
              "\n",
              "    <script>\n",
              "      const buttonEl =\n",
              "        document.querySelector('#df-1b7aa9d2-e22a-4fdb-a0e3-997b3d93e43b button.colab-df-convert');\n",
              "      buttonEl.style.display =\n",
              "        google.colab.kernel.accessAllowed ? 'block' : 'none';\n",
              "\n",
              "      async function convertToInteractive(key) {\n",
              "        const element = document.querySelector('#df-1b7aa9d2-e22a-4fdb-a0e3-997b3d93e43b');\n",
              "        const dataTable =\n",
              "          await google.colab.kernel.invokeFunction('convertToInteractive',\n",
              "                                                    [key], {});\n",
              "        if (!dataTable) return;\n",
              "\n",
              "        const docLinkHtml = 'Like what you see? Visit the ' +\n",
              "          '<a target=\"_blank\" href=https://colab.research.google.com/notebooks/data_table.ipynb>data table notebook</a>'\n",
              "          + ' to learn more about interactive tables.';\n",
              "        element.innerHTML = '';\n",
              "        dataTable['output_type'] = 'display_data';\n",
              "        await google.colab.output.renderOutput(dataTable, element);\n",
              "        const docLink = document.createElement('div');\n",
              "        docLink.innerHTML = docLinkHtml;\n",
              "        element.appendChild(docLink);\n",
              "      }\n",
              "    </script>\n",
              "  </div>\n",
              "\n",
              "\n",
              "<div id=\"df-ce2ecd84-849c-4028-97f9-7e7b8bb89f65\">\n",
              "  <button class=\"colab-df-quickchart\" onclick=\"quickchart('df-ce2ecd84-849c-4028-97f9-7e7b8bb89f65')\"\n",
              "            title=\"Suggest charts\"\n",
              "            style=\"display:none;\">\n",
              "\n",
              "<svg xmlns=\"http://www.w3.org/2000/svg\" height=\"24px\"viewBox=\"0 0 24 24\"\n",
              "     width=\"24px\">\n",
              "    <g>\n",
              "        <path d=\"M19 3H5c-1.1 0-2 .9-2 2v14c0 1.1.9 2 2 2h14c1.1 0 2-.9 2-2V5c0-1.1-.9-2-2-2zM9 17H7v-7h2v7zm4 0h-2V7h2v10zm4 0h-2v-4h2v4z\"/>\n",
              "    </g>\n",
              "</svg>\n",
              "  </button>\n",
              "\n",
              "<style>\n",
              "  .colab-df-quickchart {\n",
              "      --bg-color: #E8F0FE;\n",
              "      --fill-color: #1967D2;\n",
              "      --hover-bg-color: #E2EBFA;\n",
              "      --hover-fill-color: #174EA6;\n",
              "      --disabled-fill-color: #AAA;\n",
              "      --disabled-bg-color: #DDD;\n",
              "  }\n",
              "\n",
              "  [theme=dark] .colab-df-quickchart {\n",
              "      --bg-color: #3B4455;\n",
              "      --fill-color: #D2E3FC;\n",
              "      --hover-bg-color: #434B5C;\n",
              "      --hover-fill-color: #FFFFFF;\n",
              "      --disabled-bg-color: #3B4455;\n",
              "      --disabled-fill-color: #666;\n",
              "  }\n",
              "\n",
              "  .colab-df-quickchart {\n",
              "    background-color: var(--bg-color);\n",
              "    border: none;\n",
              "    border-radius: 50%;\n",
              "    cursor: pointer;\n",
              "    display: none;\n",
              "    fill: var(--fill-color);\n",
              "    height: 32px;\n",
              "    padding: 0;\n",
              "    width: 32px;\n",
              "  }\n",
              "\n",
              "  .colab-df-quickchart:hover {\n",
              "    background-color: var(--hover-bg-color);\n",
              "    box-shadow: 0 1px 2px rgba(60, 64, 67, 0.3), 0 1px 3px 1px rgba(60, 64, 67, 0.15);\n",
              "    fill: var(--button-hover-fill-color);\n",
              "  }\n",
              "\n",
              "  .colab-df-quickchart-complete:disabled,\n",
              "  .colab-df-quickchart-complete:disabled:hover {\n",
              "    background-color: var(--disabled-bg-color);\n",
              "    fill: var(--disabled-fill-color);\n",
              "    box-shadow: none;\n",
              "  }\n",
              "\n",
              "  .colab-df-spinner {\n",
              "    border: 2px solid var(--fill-color);\n",
              "    border-color: transparent;\n",
              "    border-bottom-color: var(--fill-color);\n",
              "    animation:\n",
              "      spin 1s steps(1) infinite;\n",
              "  }\n",
              "\n",
              "  @keyframes spin {\n",
              "    0% {\n",
              "      border-color: transparent;\n",
              "      border-bottom-color: var(--fill-color);\n",
              "      border-left-color: var(--fill-color);\n",
              "    }\n",
              "    20% {\n",
              "      border-color: transparent;\n",
              "      border-left-color: var(--fill-color);\n",
              "      border-top-color: var(--fill-color);\n",
              "    }\n",
              "    30% {\n",
              "      border-color: transparent;\n",
              "      border-left-color: var(--fill-color);\n",
              "      border-top-color: var(--fill-color);\n",
              "      border-right-color: var(--fill-color);\n",
              "    }\n",
              "    40% {\n",
              "      border-color: transparent;\n",
              "      border-right-color: var(--fill-color);\n",
              "      border-top-color: var(--fill-color);\n",
              "    }\n",
              "    60% {\n",
              "      border-color: transparent;\n",
              "      border-right-color: var(--fill-color);\n",
              "    }\n",
              "    80% {\n",
              "      border-color: transparent;\n",
              "      border-right-color: var(--fill-color);\n",
              "      border-bottom-color: var(--fill-color);\n",
              "    }\n",
              "    90% {\n",
              "      border-color: transparent;\n",
              "      border-bottom-color: var(--fill-color);\n",
              "    }\n",
              "  }\n",
              "</style>\n",
              "\n",
              "  <script>\n",
              "    async function quickchart(key) {\n",
              "      const quickchartButtonEl =\n",
              "        document.querySelector('#' + key + ' button');\n",
              "      quickchartButtonEl.disabled = true;  // To prevent multiple clicks.\n",
              "      quickchartButtonEl.classList.add('colab-df-spinner');\n",
              "      try {\n",
              "        const charts = await google.colab.kernel.invokeFunction(\n",
              "            'suggestCharts', [key], {});\n",
              "      } catch (error) {\n",
              "        console.error('Error during call to suggestCharts:', error);\n",
              "      }\n",
              "      quickchartButtonEl.classList.remove('colab-df-spinner');\n",
              "      quickchartButtonEl.classList.add('colab-df-quickchart-complete');\n",
              "    }\n",
              "    (() => {\n",
              "      let quickchartButtonEl =\n",
              "        document.querySelector('#df-ce2ecd84-849c-4028-97f9-7e7b8bb89f65 button');\n",
              "      quickchartButtonEl.style.display =\n",
              "        google.colab.kernel.accessAllowed ? 'block' : 'none';\n",
              "    })();\n",
              "  </script>\n",
              "</div>\n",
              "    </div>\n",
              "  </div>\n"
            ]
          },
          "metadata": {},
          "execution_count": 3
        }
      ],
      "source": [
        "data\n",
        "# Смотрим наш дата фрейм"
      ]
    },
    {
      "cell_type": "code",
      "execution_count": 4,
      "metadata": {
        "colab": {
          "base_uri": "https://localhost:8080/"
        },
        "id": "jWzxiThDC6mf",
        "outputId": "7f0ff205-70fa-4e05-e20d-17b6dd2768c1"
      },
      "outputs": [
        {
          "output_type": "stream",
          "name": "stdout",
          "text": [
            "<class 'pandas.core.frame.DataFrame'>\n",
            "RangeIndex: 61 entries, 0 to 60\n",
            "Data columns (total 5 columns):\n",
            " #   Column      Non-Null Count  Dtype \n",
            "---  ------      --------------  ----- \n",
            " 0   Unnamed: 0  61 non-null     int64 \n",
            " 1   location    61 non-null     object\n",
            " 2   town        61 non-null     object\n",
            " 3   mortality   61 non-null     int64 \n",
            " 4   hardness    61 non-null     int64 \n",
            "dtypes: int64(3), object(2)\n",
            "memory usage: 2.5+ KB\n"
          ]
        }
      ],
      "source": [
        "data.info()\n",
        "# Смотрим информацию"
      ]
    },
    {
      "cell_type": "markdown",
      "source": [
        "### Первичное изучение данных"
      ],
      "metadata": {
        "id": "QBsgpC85W1MC"
      }
    },
    {
      "cell_type": "markdown",
      "source": [
        "### Анализ категориальных столбцов"
      ],
      "metadata": {
        "id": "2FZQc74hW76t"
      }
    },
    {
      "cell_type": "markdown",
      "source": [
        "Категориальные столбцы:\n",
        "- `location`: местоположение, которое может принимать значение \"South\" или \"North\"\n",
        "- `town`: город, представленный текстовыми значениями"
      ],
      "metadata": {
        "id": "r06O5MZFaWtw"
      }
    },
    {
      "cell_type": "code",
      "source": [
        "# Посчитаем количество уникальных значений в столбце \"location\" и их доли:\n",
        "location_counts = data['location'].value_counts()\n",
        "location_percentage = data['location'].value_counts(normalize=True) * 100\n",
        "print(\"Уникальные значения в столбце 'location':\")\n",
        "print(location_counts)\n",
        "print()\n",
        "print(\"Доля каждой категории в столбце 'location':\")\n",
        "print(location_percentage)\n",
        "print()\n",
        "\n",
        "# Провериv соответствие уникальных значений в столбце \"location\" с описанием данных:\n",
        "expected_location_categories = ['South', 'North']\n",
        "if set(data['location'].unique()) == set(expected_location_categories):\n",
        "    print(\"Уникальные значения в столбце 'location' соответствуют описанию данных.\")\n",
        "else:\n",
        "    print(\"Уникальные значения в столбце 'location' не соответствуют описанию данных.\")"
      ],
      "metadata": {
        "id": "fxG7ImZfY34w",
        "outputId": "9900fc76-8f14-4bc0-f06c-d5579030eb07",
        "colab": {
          "base_uri": "https://localhost:8080/"
        }
      },
      "execution_count": 5,
      "outputs": [
        {
          "output_type": "stream",
          "name": "stdout",
          "text": [
            "Уникальные значения в столбце 'location':\n",
            "North    35\n",
            "South    26\n",
            "Name: location, dtype: int64\n",
            "\n",
            "Доля каждой категории в столбце 'location':\n",
            "North    57.377049\n",
            "South    42.622951\n",
            "Name: location, dtype: float64\n",
            "\n",
            "Уникальные значения в столбце 'location' соответствуют описанию данных.\n"
          ]
        }
      ]
    },
    {
      "cell_type": "markdown",
      "source": [
        "### Анализ непрерывных величин\n",
        "\n",
        "\n"
      ],
      "metadata": {
        "id": "0eC5yfUpaLNQ"
      }
    },
    {
      "cell_type": "markdown",
      "source": [
        "Непрерывные величины:\n",
        "- `mortality`: смертность (целевая переменная), числовая величина\n",
        "- `hardness`: концентрация кальция в питьевой воде"
      ],
      "metadata": {
        "id": "u04SMQP-ahJp"
      }
    },
    {
      "cell_type": "markdown",
      "source": [
        "Базовые статистики"
      ],
      "metadata": {
        "id": "CuCU3QKw1juM"
      }
    },
    {
      "cell_type": "code",
      "source": [
        "mortality_stats = data['mortality'].describe()\n",
        "hardness_stats = data['hardness'].describe()\n",
        "\n",
        "print(\"Статистика по столбцу 'mortality':\")\n",
        "print(mortality_stats)\n",
        "print(\"\\nСтатистика по столбцу 'hardness':\")\n",
        "print(hardness_stats)\n"
      ],
      "metadata": {
        "id": "qjjumW_6bLrE",
        "outputId": "cbf15033-ae1c-4d98-b3ee-df7453dfa44d",
        "colab": {
          "base_uri": "https://localhost:8080/"
        }
      },
      "execution_count": 6,
      "outputs": [
        {
          "output_type": "stream",
          "name": "stdout",
          "text": [
            "Статистика по столбцу 'mortality':\n",
            "count      61.000000\n",
            "mean     1524.147541\n",
            "std       187.668754\n",
            "min      1096.000000\n",
            "25%      1379.000000\n",
            "50%      1555.000000\n",
            "75%      1668.000000\n",
            "max      1987.000000\n",
            "Name: mortality, dtype: float64\n",
            "\n",
            "Статистика по столбцу 'hardness':\n",
            "count     61.000000\n",
            "mean      47.180328\n",
            "std       38.093966\n",
            "min        5.000000\n",
            "25%       14.000000\n",
            "50%       39.000000\n",
            "75%       75.000000\n",
            "max      138.000000\n",
            "Name: hardness, dtype: float64\n"
          ]
        }
      ]
    },
    {
      "cell_type": "markdown",
      "source": [
        "Анализ статистики столбца `mortality` позволяет предположить, что распределение данных в нем скорее всего не является нормальным. Это подтверждается небольшим отличием среднего значения от медианы, большим значением стандартного отклонения и широким диапазоном значений.\n",
        "\n",
        "\n",
        "Анализ статистики столбца `hardness` позволяет предположить, что распределение данных в нем скорее всего не является нормальным. Это подтверждается небольшим отличием среднего значения от медианы, большим значением стандартного отклонения и широким диапазоном значений."
      ],
      "metadata": {
        "id": "7PzfYDRciw_J"
      }
    },
    {
      "cell_type": "markdown",
      "source": [
        "### Корреляция"
      ],
      "metadata": {
        "id": "2HZFf09PtsqN"
      }
    },
    {
      "cell_type": "markdown",
      "source": [
        "Посмотрим на график взаимосвязи между жёсткостью воды и средней годовой смертностью"
      ],
      "metadata": {
        "id": "SavrR9vxtx58"
      }
    },
    {
      "cell_type": "code",
      "source": [
        "sns.jointplot(x='hardness', y='mortality', data=data)\n",
        "plt.show()"
      ],
      "metadata": {
        "id": "h7xn4Uq_t9Cz",
        "outputId": "3c5ec7ba-e715-4cd4-a21c-60e14b39774f",
        "colab": {
          "base_uri": "https://localhost:8080/",
          "height": 607
        }
      },
      "execution_count": 7,
      "outputs": [
        {
          "output_type": "display_data",
          "data": {
            "text/plain": [
              "<Figure size 600x600 with 3 Axes>"
            ],
            "image/png": "[encoded data removed]"
          },
          "metadata": {}
        }
      ]
    },
    {
      "cell_type": "code",
      "source": [
        "# Коэффициент корреляции Пирсона\n",
        "corr_p = data['hardness'].corr(data['mortality'], method='pearson')\n",
        "corr_p"
      ],
      "metadata": {
        "id": "vXlc8_frlN1l",
        "outputId": "22884610-72f6-40aa-9478-210a8fa3d618",
        "colab": {
          "base_uri": "https://localhost:8080/"
        }
      },
      "execution_count": 8,
      "outputs": [
        {
          "output_type": "execute_result",
          "data": {
            "text/plain": [
              "-0.6548486232042463"
            ]
          },
          "metadata": {},
          "execution_count": 8
        }
      ]
    },
    {
      "cell_type": "markdown",
      "source": [
        "Результат коэффициента корреляции Пирсона (-0.6548486232042463) показывает наличие отрицательной корреляционной связи между переменными `hardness` (жесткость воды) и `mortality` (смертность).\n",
        "\n",
        "Отрицательное значение коэффициента корреляции означает, что при увеличении значений одной переменной, значения другой переменной снижаются. В данном случае, при увеличении жесткости воды, смертность снижается.\n",
        "\n",
        "Анализ коэффициента корреляции Пирсона может предоставить следующую информацию:\n",
        "- Корреляционная связь: Коэффициент -0.65 указывает на среднюю отрицательную корреляционную связь между жесткостью воды и смертностью. Это означает, что чем выше уровень жесткости воды, тем ниже смертность.\n",
        "- Сила связи: Значение коэффициента -0.65 говорит о том, что связь между переменными средней силы. Связь не является сильной, но она все равно значима и может быть использована для анализа и прогнозирования.\n",
        "- Направление связи: Отрицательное значение коэффициента означает, что при увеличении одной переменной (жесткости воды), другая переменная (смертность) снижается."
      ],
      "metadata": {
        "id": "PuaDYCW3qmJH"
      }
    },
    {
      "cell_type": "code",
      "source": [
        "# Коэффициент корреляции Спирмена\n",
        "corr_s = data['hardness'].corr(data['mortality'], method='spearman')\n",
        "corr_s"
      ],
      "metadata": {
        "id": "zg3BGdNxlWsg",
        "outputId": "b4205c47-32e0-4073-a7dc-b0532c4f0f7d",
        "colab": {
          "base_uri": "https://localhost:8080/"
        }
      },
      "execution_count": 9,
      "outputs": [
        {
          "output_type": "execute_result",
          "data": {
            "text/plain": [
              "-0.6316646189166502"
            ]
          },
          "metadata": {},
          "execution_count": 9
        }
      ]
    },
    {
      "cell_type": "markdown",
      "source": [
        "Близкое значение между коэффициентами корреляции Пирсона и Спирмена может быть обусловлено несколькими факторами:\n",
        "\n",
        "1. Распределение данных: Коэффициент корреляции Пирсона предполагает линейную связь между переменными и зависит от распределения данных. Если данные имеют близкое к линейному распределение, то коэффициент корреляции Пирсона будет близким к коэффициенту корреляции Спирмена. В данном случае, возможно, между переменными \"hardness\" и \"mortality\" существует линейная связь, что приводит к близким значениям коэффициентов.\n",
        "\n",
        "2. Количество выбросов: Коэффициент корреляции Спирмена более устойчив к выбросам, чем коэффициент корреляции Пирсона. Если в данных присутствуют выбросы, то коэффициент корреляции Пирсона может быть более сильно искажен, в то время как коэффициент корреляции Спирмена будет менее подвержен влиянию выбросов. Возможно, в данном наборе данных выбросы не сильно искажают связь, поэтому значение коэффициента корреляции Пирсона и Спирмена близко."
      ],
      "metadata": {
        "id": "2ijXjXcbv7G6"
      }
    },
    {
      "cell_type": "markdown",
      "source": [
        "### Регрессия"
      ],
      "metadata": {
        "id": "wqXGIJJZzDer"
      }
    },
    {
      "cell_type": "markdown",
      "source": [
        "Модели линейной регрессии"
      ],
      "metadata": {
        "id": "o-ruy2RSk7Lp"
      }
    },
    {
      "cell_type": "code",
      "source": [
        "# Матрица признаков `X` и вектор целевой переменной `y`.\n",
        "X = data[['hardness']]\n",
        "y = data['mortality']\n",
        "\n",
        "# Разделение данных на обучающую и тестовую выборки\n",
        "X_train, X_test, y_train, y_test = train_test_split(X, y, random_state=42)\n",
        "\n",
        "# Создание объекта модели линейной регрессии\n",
        "model = LinearRegression()\n",
        "\n",
        "# Обучение модели на обучающей выборке\n",
        "model.fit(X_train, y_train)\n",
        "\n",
        "# Коэффициенты регрессии\n",
        "print('Коэффициенты регрессии:', model.coef_)\n",
        "\n",
        "# Пересечение с осью y (то есть y, когда X=0)\n",
        "print('Пересечение с осью \"y\":', model.intercept_)"
      ],
      "metadata": {
        "id": "zmGezWv2lYzK",
        "outputId": "8d8eda61-4a3c-4901-d5ad-bb8475a0ad17",
        "colab": {
          "base_uri": "https://localhost:8080/"
        }
      },
      "execution_count": 10,
      "outputs": [
        {
          "output_type": "stream",
          "name": "stdout",
          "text": [
            "Коэффициенты регрессии: [-3.31576799]\n",
            "Пересечение с осью \"y\": 1678.9405326885008\n"
          ]
        }
      ]
    },
    {
      "cell_type": "markdown",
      "source": [
        "Результаты модели линейной регрессии можно проанализировать следующим образом:\n",
        "\n",
        "1. Коэффициенты регрессии (Coefficients):\n",
        "   - В данном случае получен один коэффициент регрессии, равный -3.31576799. Коэффициент регрессии показывает, как изменение одной единицы независимой переменной влияет на зависимую переменную. В данном случае, увеличение значения независимой переменной на 1 сопровождается уменьшением зависимой переменной примерно на 3.316.\n",
        "\n",
        "2. Пересечение с осью y (Intercept):\n",
        "   - Значение пересечения с осью y, то есть значение зависимой переменной, когда значение независимой переменной равно нулю, составляет 1678.94. Это означает, что при отсутствии независимых переменных значение зависимой переменной будет около 1679.\n",
        "\n",
        "Оценка значений коэффициентов и пересечения с осью y помогают понять, как независимые переменные влияют на зависимую переменную в модели линейной регрессии."
      ],
      "metadata": {
        "id": "ds7vsgCZqOn2"
      }
    },
    {
      "cell_type": "code",
      "source": [
        "# Получение прогнозов на тестовой выборке\n",
        "y_pred = model.predict(X_test)\n",
        "y_pred"
      ],
      "metadata": {
        "id": "jnCGubNBmMDa",
        "outputId": "304b443d-1981-41ac-f9c4-74e89efcfe80",
        "colab": {
          "base_uri": "https://localhost:8080/"
        }
      },
      "execution_count": 11,
      "outputs": [
        {
          "output_type": "execute_result",
          "data": {
            "text/plain": [
              "array([1330.78489376, 1645.78285279, 1632.51978083, 1533.04674114,\n",
              "       1420.31062948, 1612.62517289, 1237.94339004, 1430.25793345,\n",
              "       1609.3094049 , 1659.04592475, 1483.31022129, 1410.36332551,\n",
              "       1549.62558108, 1632.51978083, 1443.52100541, 1549.62558108])"
            ]
          },
          "metadata": {},
          "execution_count": 11
        }
      ]
    },
    {
      "cell_type": "code",
      "source": [
        "y_test"
      ],
      "metadata": {
        "id": "xYxqL2vao26t",
        "outputId": "cf2cfbfa-dbd9-4737-9f08-5867226ded90",
        "colab": {
          "base_uri": "https://localhost:8080/"
        }
      },
      "execution_count": 12,
      "outputs": [
        {
          "output_type": "execute_result",
          "data": {
            "text/plain": [
              "0     1247\n",
              "5     1558\n",
              "46    1495\n",
              "31    1702\n",
              "13    1307\n",
              "55    1625\n",
              "34    1259\n",
              "49    1587\n",
              "12    1519\n",
              "40    1696\n",
              "33    1309\n",
              "59    1485\n",
              "16    1555\n",
              "3     1800\n",
              "53    1709\n",
              "17    1428\n",
              "Name: mortality, dtype: int64"
            ]
          },
          "metadata": {},
          "execution_count": 12
        }
      ]
    },
    {
      "cell_type": "markdown",
      "source": [
        "Построим `scatter plot` (диаграмму рассеяния) с линейной линией, предсказывающей значения переменной `y`."
      ],
      "metadata": {
        "id": "RBSkk7z2D9gg"
      }
    },
    {
      "cell_type": "code",
      "source": [
        "plt.scatter(X_test, y_test)\n",
        "plt.plot(X_test, y_pred, c='r')\n",
        "plt.xlabel(\"hardness\")\n",
        "plt.ylabel(\"mortality\")\n",
        "plt.title(\"Диаграмма рассеяния с линией предсказания\")\n",
        "plt.show()"
      ],
      "metadata": {
        "id": "tsHZlTIPsp2N",
        "outputId": "a80b4119-1564-4c3b-c74c-cdf75111812c",
        "colab": {
          "base_uri": "https://localhost:8080/",
          "height": 472
        }
      },
      "execution_count": 13,
      "outputs": [
        {
          "output_type": "display_data",
          "data": {
            "text/plain": [
              "<Figure size 640x480 with 1 Axes>"
            ],
            "image/png": "[encoded data removed]"
          },
          "metadata": {}
        }
      ]
    },
    {
      "cell_type": "code",
      "source": [
        "# Расчет коэффициента детерминации\n",
        "import sklearn.metrics as metrics\n",
        "print(f'R2: {metrics.r2_score(y_test, y_pred)}')"
      ],
      "metadata": {
        "id": "gGXuOwOhxavj",
        "outputId": "e2953278-86c9-4e62-d041-4962fad26077",
        "colab": {
          "base_uri": "https://localhost:8080/"
        }
      },
      "execution_count": 14,
      "outputs": [
        {
          "output_type": "stream",
          "name": "stdout",
          "text": [
            "R2: 0.410213439338294\n"
          ]
        }
      ]
    },
    {
      "cell_type": "markdown",
      "source": [
        "Посмотрим на остатки"
      ],
      "metadata": {
        "id": "bLrQVrEGED8b"
      }
    },
    {
      "cell_type": "code",
      "source": [
        "diff = y_test - y_pred\n",
        "diff.describe()"
      ],
      "metadata": {
        "colab": {
          "base_uri": "https://localhost:8080/"
        },
        "id": "5jAA_vtNGG1v",
        "outputId": "979a7ede-d680-4f55-b999-851697b826b3"
      },
      "execution_count": 15,
      "outputs": [
        {
          "output_type": "execute_result",
          "data": {
            "text/plain": [
              "count     16.000000\n",
              "mean       6.275486\n",
              "std      131.246049\n",
              "min     -174.310221\n",
              "25%      -96.059711\n",
              "50%        8.874623\n",
              "75%       95.163023\n",
              "max      265.478995\n",
              "Name: mortality, dtype: float64"
            ]
          },
          "metadata": {},
          "execution_count": 15
        }
      ]
    },
    {
      "cell_type": "code",
      "source": [
        "sns.histplot((y_test-y_pred), kde=True, bins=20)\n",
        "plt.show()"
      ],
      "metadata": {
        "id": "QoMzeg2O1Ljr",
        "outputId": "397a7b8b-8fc8-47b8-eb08-03756d1e3d12",
        "colab": {
          "base_uri": "https://localhost:8080/",
          "height": 449
        }
      },
      "execution_count": 16,
      "outputs": [
        {
          "output_type": "display_data",
          "data": {
            "text/plain": [
              "<Figure size 640x480 with 1 Axes>"
            ],
            "image/png": "[encoded data removed]"
          },
          "metadata": {}
        }
      ]
    },
    {
      "cell_type": "code",
      "source": [
        "pd.DataFrame(model.coef_ , X.columns, columns=['Коэффициенты'])"
      ],
      "metadata": {
        "id": "DekDWqSVEyrN",
        "colab": {
          "base_uri": "https://localhost:8080/",
          "height": 81
        },
        "outputId": "7faf0eb6-722a-4afb-8344-90eaff4be0a2"
      },
      "execution_count": 17,
      "outputs": [
        {
          "output_type": "execute_result",
          "data": {
            "text/plain": [
              "          Коэффициенты\n",
              "hardness     -3.315768"
            ],
            "text/html": [
              "\n",
              "  <div id=\"df-4260e543-501f-487e-9506-d650bafd1548\" class=\"colab-df-container\">\n",
              "    <div>\n",
              "<style scoped>\n",
              "    .dataframe tbody tr th:only-of-type {\n",
              "        vertical-align: middle;\n",
              "    }\n",
              "\n",
              "    .dataframe tbody tr th {\n",
              "        vertical-align: top;\n",
              "    }\n",
              "\n",
              "    .dataframe thead th {\n",
              "        text-align: right;\n",
              "    }\n",
              "</style>\n",
              "<table border=\"1\" class=\"dataframe\">\n",
              "  <thead>\n",
              "    <tr style=\"text-align: right;\">\n",
              "      <th></th>\n",
              "      <th>Коэффициенты</th>\n",
              "    </tr>\n",
              "  </thead>\n",
              "  <tbody>\n",
              "    <tr>\n",
              "      <th>hardness</th>\n",
              "      <td>-3.315768</td>\n",
              "    </tr>\n",
              "  </tbody>\n",
              "</table>\n",
              "</div>\n",
              "    <div class=\"colab-df-buttons\">\n",
              "\n",
              "  <div class=\"colab-df-container\">\n",
              "    <button class=\"colab-df-convert\" onclick=\"convertToInteractive('df-4260e543-501f-487e-9506-d650bafd1548')\"\n",
              "            title=\"Convert this dataframe to an interactive table.\"\n",
              "            style=\"display:none;\">\n",
              "\n",
              "  <svg xmlns=\"http://www.w3.org/2000/svg\" height=\"24px\" viewBox=\"0 -960 960 960\">\n",
              "    <path d=\"M120-120v-720h720v720H120Zm60-500h600v-160H180v160Zm220 220h160v-160H400v160Zm0 220h160v-160H400v160ZM180-400h160v-160H180v160Zm440 0h160v-160H620v160ZM180-180h160v-160H180v160Zm440 0h160v-160H620v160Z\"/>\n",
              "  </svg>\n",
              "    </button>\n",
              "\n",
              "  <style>\n",
              "    .colab-df-container {\n",
              "      display:flex;\n",
              "      gap: 12px;\n",
              "    }\n",
              "\n",
              "    .colab-df-convert {\n",
              "      background-color: #E8F0FE;\n",
              "      border: none;\n",
              "      border-radius: 50%;\n",
              "      cursor: pointer;\n",
              "      display: none;\n",
              "      fill: #1967D2;\n",
              "      height: 32px;\n",
              "      padding: 0 0 0 0;\n",
              "      width: 32px;\n",
              "    }\n",
              "\n",
              "    .colab-df-convert:hover {\n",
              "      background-color: #E2EBFA;\n",
              "      box-shadow: 0px 1px 2px rgba(60, 64, 67, 0.3), 0px 1px 3px 1px rgba(60, 64, 67, 0.15);\n",
              "      fill: #174EA6;\n",
              "    }\n",
              "\n",
              "    .colab-df-buttons div {\n",
              "      margin-bottom: 4px;\n",
              "    }\n",
              "\n",
              "    [theme=dark] .colab-df-convert {\n",
              "      background-color: #3B4455;\n",
              "      fill: #D2E3FC;\n",
              "    }\n",
              "\n",
              "    [theme=dark] .colab-df-convert:hover {\n",
              "      background-color: #434B5C;\n",
              "      box-shadow: 0px 1px 3px 1px rgba(0, 0, 0, 0.15);\n",
              "      filter: drop-shadow(0px 1px 2px rgba(0, 0, 0, 0.3));\n",
              "      fill: #FFFFFF;\n",
              "    }\n",
              "  </style>\n",
              "\n",
              "    <script>\n",
              "      const buttonEl =\n",
              "        document.querySelector('#df-4260e543-501f-487e-9506-d650bafd1548 button.colab-df-convert');\n",
              "      buttonEl.style.display =\n",
              "        google.colab.kernel.accessAllowed ? 'block' : 'none';\n",
              "\n",
              "      async function convertToInteractive(key) {\n",
              "        const element = document.querySelector('#df-4260e543-501f-487e-9506-d650bafd1548');\n",
              "        const dataTable =\n",
              "          await google.colab.kernel.invokeFunction('convertToInteractive',\n",
              "                                                    [key], {});\n",
              "        if (!dataTable) return;\n",
              "\n",
              "        const docLinkHtml = 'Like what you see? Visit the ' +\n",
              "          '<a target=\"_blank\" href=https://colab.research.google.com/notebooks/data_table.ipynb>data table notebook</a>'\n",
              "          + ' to learn more about interactive tables.';\n",
              "        element.innerHTML = '';\n",
              "        dataTable['output_type'] = 'display_data';\n",
              "        await google.colab.output.renderOutput(dataTable, element);\n",
              "        const docLink = document.createElement('div');\n",
              "        docLink.innerHTML = docLinkHtml;\n",
              "        element.appendChild(docLink);\n",
              "      }\n",
              "    </script>\n",
              "  </div>\n",
              "\n",
              "    </div>\n",
              "  </div>\n"
            ]
          },
          "metadata": {},
          "execution_count": 17
        }
      ]
    },
    {
      "cell_type": "markdown",
      "source": [
        "Интерпретация этих результатов позволяет оценить распределение и разброс значений разницы между `y_test` и `y_pred`. Например, среднее значение 6.275486 указывает на небольшое смещение в положительную сторону, в то время как стандартное отклонение 131.246049 указывает на значительный разброс значений разницы. Процентили также позволяют понять, как распределены значения разницы относительно положительного и отрицательного направлений.\n",
        "\n",
        "Модель недостаточно точна, то есть не в состоянии правильно предсказать значения целевой переменной y, разница между реальными значениями (y_test) и предсказанными значениями (y_pred) значительно различаются.\n",
        "\n",
        "\n",
        "Недостаточное количество признаков, приводят к большим различиям между фактическими и предсказанными значениями.\n"
      ],
      "metadata": {
        "id": "pviAJC9Gvp6n"
      }
    },
    {
      "cell_type": "markdown",
      "source": [
        "## Задание 2.\n",
        "\n",
        "Проверим сохраняется ли аналогичная зависимость для северных и южных городов по отдельности."
      ],
      "metadata": {
        "id": "DCemCOTU2TCy"
      }
    },
    {
      "cell_type": "markdown",
      "source": [
        "### Подготовка данных"
      ],
      "metadata": {
        "id": "VVa5_7TL3vN1"
      }
    },
    {
      "cell_type": "code",
      "source": [
        "# Разбиение датафрейма на поднаборы по значению столбца \"location\"\n",
        "df_south = data[data['location'] == 'South']\n",
        "df_north = data[data['location'] == 'North']\n",
        "df_south.info()"
      ],
      "metadata": {
        "colab": {
          "base_uri": "https://localhost:8080/"
        },
        "id": "GePKjKxhLRL5",
        "outputId": "c4e38487-c310-4d28-f93c-c38bf65b0346"
      },
      "execution_count": 18,
      "outputs": [
        {
          "output_type": "stream",
          "name": "stdout",
          "text": [
            "<class 'pandas.core.frame.DataFrame'>\n",
            "Int64Index: 26 entries, 0 to 59\n",
            "Data columns (total 5 columns):\n",
            " #   Column      Non-Null Count  Dtype \n",
            "---  ------      --------------  ----- \n",
            " 0   Unnamed: 0  26 non-null     int64 \n",
            " 1   location    26 non-null     object\n",
            " 2   town        26 non-null     object\n",
            " 3   mortality   26 non-null     int64 \n",
            " 4   hardness    26 non-null     int64 \n",
            "dtypes: int64(3), object(2)\n",
            "memory usage: 1.2+ KB\n"
          ]
        }
      ]
    },
    {
      "cell_type": "code",
      "source": [
        "df_north.info()"
      ],
      "metadata": {
        "colab": {
          "base_uri": "https://localhost:8080/"
        },
        "id": "7pZlIPVmMDZ9",
        "outputId": "4f752563-7f5f-41c6-99fb-792ed5c54509"
      },
      "execution_count": 19,
      "outputs": [
        {
          "output_type": "stream",
          "name": "stdout",
          "text": [
            "<class 'pandas.core.frame.DataFrame'>\n",
            "Int64Index: 35 entries, 1 to 60\n",
            "Data columns (total 5 columns):\n",
            " #   Column      Non-Null Count  Dtype \n",
            "---  ------      --------------  ----- \n",
            " 0   Unnamed: 0  35 non-null     int64 \n",
            " 1   location    35 non-null     object\n",
            " 2   town        35 non-null     object\n",
            " 3   mortality   35 non-null     int64 \n",
            " 4   hardness    35 non-null     int64 \n",
            "dtypes: int64(3), object(2)\n",
            "memory usage: 1.6+ KB\n"
          ]
        }
      ]
    },
    {
      "cell_type": "markdown",
      "source": [
        "### Сравниваем базовые статистики"
      ],
      "metadata": {
        "id": "R6RNDECo3h7e"
      }
    },
    {
      "cell_type": "code",
      "source": [
        "mortality_stats = data['mortality'].describe()\n",
        "mortality_stats_df_south = df_south['mortality'].describe()\n",
        "mortality_stats_df_north = df_north['mortality'].describe()\n",
        "\n",
        "print(\"Статистика по столбцу 'mortality' общяя:\")\n",
        "print(mortality_stats)\n",
        "print(\"\\nСтатистика по столбцу 'mortality' для South:\")\n",
        "print(mortality_stats_df_south)\n",
        "print(\"\\nСтатистика по столбцу 'mortality' для North:\")\n",
        "print(mortality_stats_df_north)"
      ],
      "metadata": {
        "colab": {
          "base_uri": "https://localhost:8080/"
        },
        "id": "V1WDs0OANY4z",
        "outputId": "5c3e821a-c9a7-4cfc-c7d3-cc5aa88b143a"
      },
      "execution_count": 20,
      "outputs": [
        {
          "output_type": "stream",
          "name": "stdout",
          "text": [
            "Статистика по столбцу 'mortality' общяя:\n",
            "count      61.000000\n",
            "mean     1524.147541\n",
            "std       187.668754\n",
            "min      1096.000000\n",
            "25%      1379.000000\n",
            "50%      1555.000000\n",
            "75%      1668.000000\n",
            "max      1987.000000\n",
            "Name: mortality, dtype: float64\n",
            "\n",
            "Статистика по столбцу 'mortality' для South:\n",
            "count      26.000000\n",
            "mean     1376.807692\n",
            "std       140.269175\n",
            "min      1096.000000\n",
            "25%      1259.250000\n",
            "50%      1364.000000\n",
            "75%      1485.750000\n",
            "max      1627.000000\n",
            "Name: mortality, dtype: float64\n",
            "\n",
            "Статистика по столбцу 'mortality' для North:\n",
            "count      35.000000\n",
            "mean     1633.600000\n",
            "std       136.936911\n",
            "min      1378.000000\n",
            "25%      1557.500000\n",
            "50%      1637.000000\n",
            "75%      1718.000000\n",
            "max      1987.000000\n",
            "Name: mortality, dtype: float64\n"
          ]
        }
      ]
    },
    {
      "cell_type": "markdown",
      "source": [
        "Исходя из данных статистики по столбцу 'mortality', можно сделать следующие выводы:\n",
        "\n",
        "1. Общая средняя смертность во всех городах составляет 1524.15. Это значение является средним показателем и указывает на общий уровень смертности в рассматриваемых городах.\n",
        "\n",
        "2. Стандартное отклонение, равное 187.67, показывает разброс значений смертности в выборке. Это означает, что некоторые города могут иметь значительно высокий или низкий уровень смертности по сравнению с общим средним значением.\n",
        "\n",
        "3. Минимальное значение смертности составляет 1096 и максимальное значение - 1987. Это указывает на разнообразие в уровне смертности между разными городами.\n",
        "\n",
        "4. При анализе данных по регионам, можно заметить, что средний уровень смертности в южных городах (1376.81) ниже, чем в северных городах (1633.6). Также, стандартное отклонение для южных городов (140.27) ниже, чем для северных городов (136.94). Это говорит о том, что смертность в южных городах имеет меньший разброс значений, и в целом смертность в этом регионе склонна быть ниже, чем в северных городах."
      ],
      "metadata": {
        "id": "o5yK6Mhh3QlB"
      }
    },
    {
      "cell_type": "code",
      "source": [
        "hardness_stats = data['hardness'].describe()\n",
        "hardness_stats_df_south = df_south['hardness'].describe()\n",
        "hardness_stats_df_north = df_north['hardness'].describe()\n",
        "\n",
        "print(\"\\nСтатистика по столбцу 'hardness' общая:\")\n",
        "print(hardness_stats)\n",
        "print(\"\\nСтатистика по столбцу 'hardness' для South:\")\n",
        "print(hardness_stats_df_south)\n",
        "print(\"\\nСтатистика по столбцу 'hardness' для North:\")\n",
        "print(hardness_stats_df_north)"
      ],
      "metadata": {
        "colab": {
          "base_uri": "https://localhost:8080/"
        },
        "id": "K_T0SdRSQsk_",
        "outputId": "e2d0e409-98a8-44a5-8968-3c98225da86a"
      },
      "execution_count": 21,
      "outputs": [
        {
          "output_type": "stream",
          "name": "stdout",
          "text": [
            "\n",
            "Статистика по столбцу 'hardness' общая:\n",
            "count     61.000000\n",
            "mean      47.180328\n",
            "std       38.093966\n",
            "min        5.000000\n",
            "25%       14.000000\n",
            "50%       39.000000\n",
            "75%       75.000000\n",
            "max      138.000000\n",
            "Name: hardness, dtype: float64\n",
            "\n",
            "Статистика по столбцу 'hardness' для South:\n",
            "count     26.000000\n",
            "mean      69.769231\n",
            "std       40.360682\n",
            "min        5.000000\n",
            "25%       40.250000\n",
            "50%       75.500000\n",
            "75%       99.750000\n",
            "max      138.000000\n",
            "Name: hardness, dtype: float64\n",
            "\n",
            "Статистика по столбцу 'hardness' для North:\n",
            "count    35.000000\n",
            "mean     30.400000\n",
            "std      26.134494\n",
            "min       6.000000\n",
            "25%      12.500000\n",
            "50%      17.000000\n",
            "75%      44.000000\n",
            "max      94.000000\n",
            "Name: hardness, dtype: float64\n"
          ]
        }
      ]
    },
    {
      "cell_type": "markdown",
      "source": [
        "Исходя из данных статистики по столбцу 'hardness', можно сделать следующие выводы:\n",
        "\n",
        "1. Общее среднее значение жесткости воды составляет 47.18. Это указывает на средний уровень жесткости в рассматриваемых городах.\n",
        "\n",
        "2. Стандартное отклонение, равное 38.09, показывает разброс значений жесткости воды в выборке. Это означает, что некоторые города могут иметь очень низкую или высокую жесткость воды по сравнению с общим средним значением.\n",
        "\n",
        "3. Минимальное значение жесткости воды составляет 5, а максимальное значение - 138. Это указывает на вариативность уровня жесткости воды между разными городами.\n",
        "\n",
        "4. При анализе данных по регионам, можно заметить, что средний уровень жесткости воды в южных городах (69.77) выше, чем в северных городах (30.4). Также, стандартное отклонение для южных городов (40.36) больше, чем для северных городов (26.13). Это говорит о том, что уровень жесткости воды в южных городах имеет больший разброс значений и склонен быть выше, чем в северных городах."
      ],
      "metadata": {
        "id": "2xpILSc-QBTM"
      }
    },
    {
      "cell_type": "markdown",
      "source": [
        "### Корреляция"
      ],
      "metadata": {
        "id": "2R1G43g_5j_b"
      }
    },
    {
      "cell_type": "markdown",
      "source": [
        "#### Корреляция жесткости воды со смертностью южных округах"
      ],
      "metadata": {
        "id": "MCBQ3OIL6BL7"
      }
    },
    {
      "cell_type": "code",
      "source": [
        "sns.jointplot(x='hardness', y ='mortality', data=df_south)\n",
        "plt.show()"
      ],
      "metadata": {
        "colab": {
          "base_uri": "https://localhost:8080/",
          "height": 607
        },
        "id": "yrvbrQqfNb5C",
        "outputId": "77062c57-7378-4511-b598-66cb98e4d0b1"
      },
      "execution_count": 22,
      "outputs": [
        {
          "output_type": "display_data",
          "data": {
            "text/plain": [
              "<Figure size 600x600 with 3 Axes>"
            ],
            "image/png": "[encoded data removed]"
          },
          "metadata": {}
        }
      ]
    },
    {
      "cell_type": "markdown",
      "source": [
        "####Корреляция жесткости воды со смертностью в северных округах"
      ],
      "metadata": {
        "id": "6C2R85zE6MvO"
      }
    },
    {
      "cell_type": "code",
      "source": [
        "sns.jointplot(x='hardness', y ='mortality', data=df_north)\n",
        "plt.show()"
      ],
      "metadata": {
        "colab": {
          "base_uri": "https://localhost:8080/",
          "height": 607
        },
        "id": "TkPPCcyMTSJI",
        "outputId": "3bbc8dfb-7363-45ca-b9cc-bf44647bbcc3"
      },
      "execution_count": 23,
      "outputs": [
        {
          "output_type": "display_data",
          "data": {
            "text/plain": [
              "<Figure size 600x600 with 3 Axes>"
            ],
            "image/png": "[encoded data removed]"
          },
          "metadata": {}
        }
      ]
    },
    {
      "cell_type": "code",
      "source": [
        "# Коэффициент корреляции Пирсона общая (для северных и южных округов)\n",
        "corr_p = data['hardness'].corr(data['mortality'], method='pearson')\n",
        "corr_p"
      ],
      "metadata": {
        "id": "5oKWSyKh-l7m",
        "outputId": "265b3551-c5cf-4dd3-e637-3e8d936edb7c",
        "colab": {
          "base_uri": "https://localhost:8080/"
        }
      },
      "execution_count": 24,
      "outputs": [
        {
          "output_type": "execute_result",
          "data": {
            "text/plain": [
              "-0.6548486232042463"
            ]
          },
          "metadata": {},
          "execution_count": 24
        }
      ]
    },
    {
      "cell_type": "code",
      "source": [
        "# Коэффициент корреляции Пирсона для South\n",
        "corr_p_df_south = df_south['hardness'].corr(df_south['mortality'], method='pearson')\n",
        "corr_p_df_south"
      ],
      "metadata": {
        "colab": {
          "base_uri": "https://localhost:8080/"
        },
        "id": "gMN2ijPATjcy",
        "outputId": "49a6f42b-e16c-41e0-a571-0b108ada6321"
      },
      "execution_count": 25,
      "outputs": [
        {
          "output_type": "execute_result",
          "data": {
            "text/plain": [
              "-0.6021532715484156"
            ]
          },
          "metadata": {},
          "execution_count": 25
        }
      ]
    },
    {
      "cell_type": "code",
      "source": [
        "# Коэффициент корреляции Пирсона для North\n",
        "corr_p_df_north = df_north['hardness'].corr(df_north['mortality'], method='pearson')\n",
        "corr_p_df_north"
      ],
      "metadata": {
        "colab": {
          "base_uri": "https://localhost:8080/"
        },
        "id": "wny2d2v2T0Qz",
        "outputId": "a5c8fa78-4028-4851-e42f-b7310b41bfad"
      },
      "execution_count": 26,
      "outputs": [
        {
          "output_type": "execute_result",
          "data": {
            "text/plain": [
              "-0.3685978383288718"
            ]
          },
          "metadata": {},
          "execution_count": 26
        }
      ]
    },
    {
      "cell_type": "code",
      "source": [
        "# Коэффициент корреляции Спирмена для South\n",
        "corr_s_df_south = df_south['hardness'].corr(df_south['mortality'], method='spearman')\n",
        "corr_s_df_south"
      ],
      "metadata": {
        "colab": {
          "base_uri": "https://localhost:8080/"
        },
        "id": "-6uyLn2AVpfb",
        "outputId": "43dd18cc-1bb0-4b07-d5d0-7c691faa6dae"
      },
      "execution_count": 27,
      "outputs": [
        {
          "output_type": "execute_result",
          "data": {
            "text/plain": [
              "-0.5957229185013566"
            ]
          },
          "metadata": {},
          "execution_count": 27
        }
      ]
    },
    {
      "cell_type": "code",
      "source": [
        "# Коэффициент корреляции Спирмена для North\n",
        "corr_s_df_north = df_north['hardness'].corr(df_north['mortality'], method='spearman')\n",
        "corr_s_df_north"
      ],
      "metadata": {
        "colab": {
          "base_uri": "https://localhost:8080/"
        },
        "id": "flqUfJhBVZEG",
        "outputId": "4c6c06e8-a98c-45d8-f2f0-06c5bb8fffe4"
      },
      "execution_count": 28,
      "outputs": [
        {
          "output_type": "execute_result",
          "data": {
            "text/plain": [
              "-0.4042078956511175"
            ]
          },
          "metadata": {},
          "execution_count": 28
        }
      ]
    },
    {
      "cell_type": "markdown",
      "source": [
        "Вывод:\n",
        "Оба метода корреляции (Пирсона и Спирмена) показывают, что в южных и северных округах существует обратная связь между жесткостью воды и смертностью. Однако эта связь более выражена в южных округах, где жесткая вода связана с более низким уровнем смертности. В северных округах эта связь слабее и менее значительна.\n",
        "\n",
        "Общая корреляция (-0.655 по коэффициенту Пирсона и -0.632 по коэффициенту Спирмена) между жесткостью воды и смертностью показывает, что существует более сильная обратная связь между этими двумя переменными.\n",
        "\n",
        "Возможно, это объясняется тем, что включение данных из обоих округов увеличивает общий объем выборки, что повышает статистическую мощность и уменьшает вероятность случайных ошибок. Также можно предположить, что различия в северных и южных округах вносят вклад в общую корреляцию, усиливая связь между переменными.\n"
      ],
      "metadata": {
        "id": "yBQwLv_e7U6t"
      }
    },
    {
      "cell_type": "markdown",
      "source": [
        "### Регрессия"
      ],
      "metadata": {
        "id": "u2z9pvbMCHBK"
      }
    },
    {
      "cell_type": "code",
      "source": [
        "# Модели линейной регрессии для юга\n",
        "X = df_south[['hardness']]\n",
        "y = df_south['mortality']\n",
        "\n",
        "X_train_df_south, X_test_df_south, y_train_df_south, y_test_df_south = train_test_split(X, y, random_state=42)\n",
        "\n",
        "model_df_south = LinearRegression()\n",
        "\n",
        "model_df_south.fit(X_train_df_south, y_train_df_south)\n",
        "\n",
        "print('Коэффициенты регрессии для юга:', model_df_south.coef_)\n",
        "print('Пересечение с осью \"y\" для юга:', model_df_south.intercept_)"
      ],
      "metadata": {
        "id": "zHhw-N22CVqr",
        "outputId": "c04eab98-60fd-465a-f43f-3ec37fe77ca4",
        "colab": {
          "base_uri": "https://localhost:8080/"
        }
      },
      "execution_count": 29,
      "outputs": [
        {
          "output_type": "stream",
          "name": "stdout",
          "text": [
            "Коэффициенты регрессии для юга: [-3.12141428]\n",
            "Пересечение с осью \"y\" для юга: 1604.266282879566\n"
          ]
        }
      ]
    },
    {
      "cell_type": "code",
      "source": [
        "# Модели линейной регрессии для севера\n",
        "X = df_north[['hardness']]\n",
        "y = df_north['mortality']\n",
        "\n",
        "X_train_df_north, X_test_df_north, y_train_df_north, y_test_df_north = train_test_split(X, y, random_state=42)\n",
        "\n",
        "model_df_north = LinearRegression()\n",
        "\n",
        "model_df_north.fit(X_train_df_north, y_train_df_north)\n",
        "\n",
        "print('Коэффициенты регрессии для севера:', model_df_north.coef_)\n",
        "print('Пересечение с осью \"y\" для севера:', model_df_north.intercept_)"
      ],
      "metadata": {
        "id": "C-N4KIL_Eq49",
        "outputId": "6d7282df-94ff-416a-c65e-cf17de80132d",
        "colab": {
          "base_uri": "https://localhost:8080/"
        }
      },
      "execution_count": 30,
      "outputs": [
        {
          "output_type": "stream",
          "name": "stdout",
          "text": [
            "Коэффициенты регрессии для севера: [-2.14659196]\n",
            "Пересечение с осью \"y\" для севера: 1691.0175604303595\n"
          ]
        }
      ]
    },
    {
      "cell_type": "code",
      "source": [
        "# Коэффициенты регрессии общие\n",
        "print('Коэффициенты регрессии для севера и юга:', model.coef_)\n",
        "\n",
        "# Пересечение с осью y (то есть y, когда X=0)\n",
        "print('Пересечение с осью \"y\" для севера и юга:', model.intercept_)"
      ],
      "metadata": {
        "id": "Yly7xYe4FN67",
        "outputId": "9861d81c-01a6-4064-85a3-b25e8348462c",
        "colab": {
          "base_uri": "https://localhost:8080/"
        }
      },
      "execution_count": 31,
      "outputs": [
        {
          "output_type": "stream",
          "name": "stdout",
          "text": [
            "Коэффициенты регрессии для севера и юга: [-3.31576799]\n",
            "Пересечение с осью \"y\" для севера и юга: 1678.9405326885008\n"
          ]
        }
      ]
    },
    {
      "cell_type": "markdown",
      "source": [
        "Исходя из коэффициентов регрессии и пересечений с осью `y`, можно сделать следующие выводы:\n",
        "- Коэффициенты регрессии для юга и севера имеют отрицательные значения, что означает, что увеличение значения признака ведет к уменьшению значения целевой переменной.\n",
        "- Пересечения с осью `y` для юга, севера и севера и юга показывают базовое значение целевой переменной при значениях признаков равных нулю.\n",
        "- Значение коэффициента регрессии для севера и юга вместе взятых (-3.31576799) выше, чем для каждого региона по отдельности (юг: -3.12141428, север: -2.14659196), что может указывать на усиленное влияние признаков при объединении данных из обоих регионов."
      ],
      "metadata": {
        "id": "QaiBag4Okyuk"
      }
    },
    {
      "cell_type": "code",
      "source": [
        "# Получение прогнозов на тестовой выборке (общий)\n",
        "y_pred = model.predict(X_test)\n",
        "y_pred"
      ],
      "metadata": {
        "id": "nzteGEa8ttFL",
        "outputId": "8db4f7e5-6a89-4b56-9142-6d8384c09ed5",
        "colab": {
          "base_uri": "https://localhost:8080/"
        }
      },
      "execution_count": 32,
      "outputs": [
        {
          "output_type": "execute_result",
          "data": {
            "text/plain": [
              "array([1330.78489376, 1645.78285279, 1632.51978083, 1533.04674114,\n",
              "       1420.31062948, 1612.62517289, 1237.94339004, 1430.25793345,\n",
              "       1609.3094049 , 1659.04592475, 1483.31022129, 1410.36332551,\n",
              "       1549.62558108, 1632.51978083, 1443.52100541, 1549.62558108])"
            ]
          },
          "metadata": {},
          "execution_count": 32
        }
      ]
    },
    {
      "cell_type": "code",
      "source": [
        "y_test"
      ],
      "metadata": {
        "id": "_bTRn4jot18s",
        "outputId": "e449b3ee-4b6f-4793-a823-f3fe737919e0",
        "colab": {
          "base_uri": "https://localhost:8080/"
        }
      },
      "execution_count": 33,
      "outputs": [
        {
          "output_type": "execute_result",
          "data": {
            "text/plain": [
              "0     1247\n",
              "5     1558\n",
              "46    1495\n",
              "31    1702\n",
              "13    1307\n",
              "55    1625\n",
              "34    1259\n",
              "49    1587\n",
              "12    1519\n",
              "40    1696\n",
              "33    1309\n",
              "59    1485\n",
              "16    1555\n",
              "3     1800\n",
              "53    1709\n",
              "17    1428\n",
              "Name: mortality, dtype: int64"
            ]
          },
          "metadata": {},
          "execution_count": 33
        }
      ]
    },
    {
      "cell_type": "code",
      "source": [
        "# Получение прогнозов на тестовой выборке для юга\n",
        "y_pred_df_south = model_df_south.predict(X_test_df_south)\n",
        "y_pred_df_south"
      ],
      "metadata": {
        "id": "btSr3Arqlq_T",
        "outputId": "62fd1132-9a28-44b8-f3a2-b7754b8e5a69",
        "colab": {
          "base_uri": "https://localhost:8080/"
        }
      },
      "execution_count": 34,
      "outputs": [
        {
          "output_type": "execute_result",
          "data": {
            "text/plain": [
              "array([1223.45374102, 1588.65921149, 1276.51778374, 1223.45374102,\n",
              "       1488.77395461, 1538.71658305, 1420.10284051])"
            ]
          },
          "metadata": {},
          "execution_count": 34
        }
      ]
    },
    {
      "cell_type": "code",
      "source": [
        "y_test_df_south"
      ],
      "metadata": {
        "id": "FN7RY9gtm6XH",
        "outputId": "067e4c13-4035-4175-8a06-e966ddba958b",
        "colab": {
          "base_uri": "https://localhost:8080/"
        }
      },
      "execution_count": 35,
      "outputs": [
        {
          "output_type": "execute_result",
          "data": {
            "text/plain": [
              "18    1318\n",
              "38    1486\n",
              "0     1247\n",
              "58    1486\n",
              "27    1402\n",
              "19    1260\n",
              "33    1309\n",
              "Name: mortality, dtype: int64"
            ]
          },
          "metadata": {},
          "execution_count": 35
        }
      ]
    },
    {
      "cell_type": "code",
      "source": [
        "# Получение прогнозов на тестовой выборке для севера\n",
        "y_pred_df_north = model_df_north.predict(X_test_df_north)\n",
        "y_pred_df_north"
      ],
      "metadata": {
        "id": "3mJBP6PDmVYA",
        "outputId": "0839fc4a-3794-4078-c724-9765faffee13",
        "colab": {
          "base_uri": "https://localhost:8080/"
        }
      },
      "execution_count": 36,
      "outputs": [
        {
          "output_type": "execute_result",
          "data": {
            "text/plain": [
              "array([1673.84482478, 1671.69823282, 1660.96527304, 1678.13800869,\n",
              "       1656.67208912, 1538.60953151, 1596.56751434, 1673.84482478,\n",
              "       1607.30047412])"
            ]
          },
          "metadata": {},
          "execution_count": 36
        }
      ]
    },
    {
      "cell_type": "code",
      "source": [
        "y_test_df_north"
      ],
      "metadata": {
        "id": "1FCShR3SnWaa",
        "outputId": "98fcdeb1-0fe5-4fdc-afa0-6a533300c024",
        "colab": {
          "base_uri": "https://localhost:8080/"
        }
      },
      "execution_count": 37,
      "outputs": [
        {
          "output_type": "execute_result",
          "data": {
            "text/plain": [
              "45    1987\n",
              "23    1574\n",
              "43    1444\n",
              "36    1724\n",
              "26    1591\n",
              "50    1713\n",
              "31    1702\n",
              "22    1742\n",
              "16    1555\n",
              "Name: mortality, dtype: int64"
            ]
          },
          "metadata": {},
          "execution_count": 37
        }
      ]
    },
    {
      "cell_type": "markdown",
      "source": [
        "Можно провести следующие наблюдения:\n",
        "\n",
        "1. Для южных регионов (`y_pred_df_south`) модель в целом показывает недооценку смертности, так как большинство предсказанных значений ниже фактических значений.\n",
        "2. Для северных регионов (`y_pred_df_north`) модель также недооценивает смертность, но различия между предсказанными и фактическими значениями не такие значительные.\n",
        "3. Для общей выборки (`y_pred`) модель снова склонна недооценивать смертность, но есть случаи как недооценки, так и переоценки."
      ],
      "metadata": {
        "id": "gpL0YK5Yb5Qe"
      }
    },
    {
      "cell_type": "markdown",
      "source": [
        "#### Построим `scatter plot` (диаграмму рассеяния) с линейной линией, предсказывающей значения переменной `y`."
      ],
      "metadata": {
        "id": "_hfR1lcEoHz0"
      }
    },
    {
      "cell_type": "code",
      "source": [
        "# Диаграмма рассеяния с линией предсказания для юга\n",
        "plt.scatter(X_test_df_south, y_test_df_south)\n",
        "plt.plot(X_test_df_south, y_pred_df_south, c='r')\n",
        "plt.xlabel(\"hardness\")\n",
        "plt.ylabel(\"mortality\")\n",
        "plt.title(\"Диаграмма рассеяния с линией предсказания для юга\")\n",
        "plt.show()\n",
        "\n",
        "# Диаграмма рассеяния с линией предсказания для севера\n",
        "plt.scatter(X_test_df_north, y_test_df_north)\n",
        "plt.plot(X_test_df_north, y_pred_df_north, c='r')\n",
        "plt.xlabel(\"hardness\")\n",
        "plt.ylabel(\"mortality\")\n",
        "plt.title(\"Диаграмма рассеяния с линией предсказания для севера\")\n",
        "plt.show()"
      ],
      "metadata": {
        "id": "tvUPEoXzoHJ3",
        "outputId": "4287b7a6-c7fa-4059-f74f-87bda2a6b831",
        "colab": {
          "base_uri": "https://localhost:8080/",
          "height": 927
        }
      },
      "execution_count": 38,
      "outputs": [
        {
          "output_type": "display_data",
          "data": {
            "text/plain": [
              "<Figure size 640x480 with 1 Axes>"
            ],
            "image/png": "[encoded data removed]"
          },
          "metadata": {}
        },
        {
          "output_type": "display_data",
          "data": {
            "text/plain": [
              "<Figure size 640x480 with 1 Axes>"
            ],
            "image/png": "[encoded data removed]"
          },
          "metadata": {}
        }
      ]
    },
    {
      "cell_type": "markdown",
      "source": [
        "#### Посмотрим на остатки"
      ],
      "metadata": {
        "id": "mKDoYYmUwLAE"
      }
    },
    {
      "cell_type": "code",
      "source": [
        "diff_df_south = y_test_df_south - y_pred_df_south\n",
        "\n",
        "diff_df_north = y_test_df_north - y_pred_df_north\n",
        "\n",
        "print(\"Статистика по югу:\")\n",
        "print(diff_df_south.describe())\n",
        "print(\"\\nСтатистика по северу:\")\n",
        "print(diff_df_north.describe())\n",
        "print(\"\\nСтатистика общая:\")\n",
        "print(diff.describe())"
      ],
      "metadata": {
        "id": "PYnrqawYwbNK",
        "outputId": "5e27a483-354d-42ee-fbf2-7bf661861fe9",
        "colab": {
          "base_uri": "https://localhost:8080/"
        }
      },
      "execution_count": 39,
      "outputs": [
        {
          "output_type": "stream",
          "name": "stdout",
          "text": [
            "Статистика по югу:\n",
            "count      7.000000\n",
            "mean     -35.953979\n",
            "std      172.137261\n",
            "min     -278.716583\n",
            "25%     -106.881026\n",
            "50%      -86.773955\n",
            "75%       32.514238\n",
            "max      262.546259\n",
            "Name: mortality, dtype: float64\n",
            "\n",
            "Статистика по северу:\n",
            "count      9.000000\n",
            "mean      30.484359\n",
            "std      158.763201\n",
            "min     -216.965273\n",
            "25%      -65.672089\n",
            "50%       45.861991\n",
            "75%      105.432486\n",
            "max      313.155175\n",
            "Name: mortality, dtype: float64\n",
            "\n",
            "Статистика общая:\n",
            "count     16.000000\n",
            "mean       6.275486\n",
            "std      131.246049\n",
            "min     -174.310221\n",
            "25%      -96.059711\n",
            "50%        8.874623\n",
            "75%       95.163023\n",
            "max      265.478995\n",
            "Name: mortality, dtype: float64\n"
          ]
        }
      ]
    },
    {
      "cell_type": "markdown",
      "source": [
        "### Построим гистограммы распределения разницы между фактическими значениями и предсказанными значениями"
      ],
      "metadata": {
        "id": "QmcqYgqNZqMy"
      }
    },
    {
      "cell_type": "code",
      "source": [
        "sns.histplot((y_test-y_pred), kde=True, bins=20)\n",
        "plt.title(\"Гистограммы распределения разницы для общих данных\")\n",
        "plt.show()\n",
        "\n",
        "sns.histplot((y_test_df_south - y_pred_df_south), kde=True, bins=20)\n",
        "plt.title(\"Гистограммы распределения разницы для южных городов\")\n",
        "plt.show()\n",
        "\n",
        "sns.histplot((y_test_df_north - y_pred_df_north), kde=True, bins=20)\n",
        "plt.title(\"Гистограммы распределения разницы для северных городов\")\n",
        "plt.show()"
      ],
      "metadata": {
        "id": "dpu-f9-P4_7m",
        "outputId": "215a092e-e837-4046-f362-58a53d55fd04",
        "colab": {
          "base_uri": "https://localhost:8080/",
          "height": 1000
        }
      },
      "execution_count": 42,
      "outputs": [
        {
          "output_type": "display_data",
          "data": {
            "text/plain": [
              "<Figure size 640x480 with 1 Axes>"
            ],
            "image/png": "[encoded data removed]"
          },
          "metadata": {}
        },
        {
          "output_type": "display_data",
          "data": {
            "text/plain": [
              "<Figure size 640x480 with 1 Axes>"
            ],
            "image/png": "[encoded data removed]"
          },
          "metadata": {}
        },
        {
          "output_type": "display_data",
          "data": {
            "text/plain": [
              "<Figure size 640x480 with 1 Axes>"
            ],
            "image/png": "[encoded data removed]"
          },
          "metadata": {}
        }
      ]
    }
  ],
  "metadata": {
    "colab": {
      "provenance": [],
      "toc_visible": true,
      "include_colab_link": true
    },
    "kernelspec": {
      "display_name": "Python 3",
      "name": "python3"
    },
    "language_info": {
      "codemirror_mode": {
        "name": "ipython",
        "version": 3
      },
      "file_extension": ".py",
      "mimetype": "text/x-python",
      "name": "python",
      "nbconvert_exporter": "python",
      "pygments_lexer": "ipython3",
      "version": "3.10.8"
    }
  },
  "nbformat": 4,
  "nbformat_minor": 0
}