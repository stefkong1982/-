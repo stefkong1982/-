{
  "cells": [
    {
      "cell_type": "markdown",
      "metadata": {
        "id": "view-in-github",
        "colab_type": "text"
      },
      "source": [
        "<a href=\"https://colab.research.google.com/github/stefkong1982/netology.ru/blob/Master/Statistika_v_Python/Korrelyaciya_i_korrelyacionnyj_analiz/DZ_Kondrstev_STPY-48_Korrelyaciya_i_regressiya.ipynb\" target=\"_parent\"><img src=\"https://colab.research.google.com/assets/colab-badge.svg\" alt=\"Open In Colab\"/></a>"
      ]
    },
    {
      "cell_type": "markdown",
      "metadata": {
        "id": "geNs_fffqen5"
      },
      "source": [
        "**Преподаватель:** Олег Булыгин\n",
        "\n",
        "### **Домашнее задание к лекции «Корреляция и корреляционный анализ»**\n",
        "\n",
        "Возьмите датасет Mortality and Water Hardness**\n",
        "\n",
        "www.kaggle.com...r-hardness\n",
        "\n",
        "В этом датасете содержатся данные по средней годовой смертности на\n",
        "100000 населения и концентрации кальция в питьевой воде для 61\n",
        "большого города в Англии и Уэльсе. Города дополнительно поделены на\n",
        "северные и южные.\n",
        "\n",
        "**Задание 1.**\n",
        "\n",
        "**Ответить на вопрос: есть ли связь между жёсткостью воды и средней годовой смертностью?**\n",
        "\n",
        "* Построить точечный график\n",
        "* Рассчитать коэффициенты корреляции Пирсона и Спирмена\n",
        "* Построить модель линейной регрессии\n",
        "* Рассчитать коэффициент детерминации\n",
        "* Вывести график остатков\n",
        "\n",
        "\n",
        "**Задание 2.**\n",
        "\n",
        "**Ответить на вопрос: сохраняется ли аналогичная зависимость для северных и южных городов по отдельности?**\n",
        "\n",
        "* Разделить данные на 2 группы\n",
        "* Повторить аналогичные шаги из пункта 1 для каждой группы по отдельности"
      ]
    },
    {
      "cell_type": "markdown",
      "source": [
        "### **Описание столбцов датафрейма:**\n",
        "\n",
        "- `Unnamed`: 0: порядковый номер записи\n",
        "- `location`: местоположение города (South - южные города, North - северные города)\n",
        "- `town`: название города\n",
        "- `mortality`: средняя годовая смертность на 100000 населения\n",
        "- `hardness`: концентрация кальция в питьевой воде"
      ],
      "metadata": {
        "id": "849ZylEOjTzQ"
      }
    },
    {
      "cell_type": "markdown",
      "source": [
        "### Загрузка данных"
      ],
      "metadata": {
        "id": "E2y01emnWjOd"
      }
    },
    {
      "cell_type": "code",
      "execution_count": 44,
      "metadata": {
        "id": "x6r4FX8lNlKx"
      },
      "outputs": [],
      "source": [
        "import pandas as pd\n",
        "import matplotlib.pyplot as plt\n",
        "import seaborn as sns\n",
        "import numpy as np\n",
        "# Импорт библиотек"
      ]
    },
    {
      "cell_type": "code",
      "execution_count": 45,
      "metadata": {
        "id": "jWHHrKObNweV"
      },
      "outputs": [],
      "source": [
        "data = pd.read_csv('https://raw.githubusercontent.com/stefkong1982/netology.ru/Master/Statistika_v_Python/Korrelyaciya_i_korrelyacionnyj_analiz/water.csv')\n",
        "# Загружаем данные"
      ]
    },
    {
      "cell_type": "code",
      "execution_count": 46,
      "metadata": {
        "colab": {
          "base_uri": "https://localhost:8080/",
          "height": 423
        },
        "id": "a-4fZoIoChWj",
        "outputId": "c8b2ac23-ecf2-4067-d80f-fcba18cbe9d8"
      },
      "outputs": [
        {
          "output_type": "execute_result",
          "data": {
            "text/plain": [
              "    Unnamed: 0 location           town  mortality  hardness\n",
              "0            1    South           Bath       1247       105\n",
              "1            2    North     Birkenhead       1668        17\n",
              "2            3    South     Birmingham       1466         5\n",
              "3            4    North      Blackburn       1800        14\n",
              "4            5    North      Blackpool       1609        18\n",
              "..         ...      ...            ...        ...       ...\n",
              "56          57    South        Walsall       1527        60\n",
              "57          58    South  West Bromwich       1627        53\n",
              "58          59    South       West Ham       1486       122\n",
              "59          60    South  Wolverhampton       1485        81\n",
              "60          61    North           York       1378        71\n",
              "\n",
              "[61 rows x 5 columns]"
            ],
            "text/html": [
              "\n",
              "  <div id=\"df-4b86fb96-1a12-4718-83f5-f6690e37202b\" class=\"colab-df-container\">\n",
              "    <div>\n",
              "<style scoped>\n",
              "    .dataframe tbody tr th:only-of-type {\n",
              "        vertical-align: middle;\n",
              "    }\n",
              "\n",
              "    .dataframe tbody tr th {\n",
              "        vertical-align: top;\n",
              "    }\n",
              "\n",
              "    .dataframe thead th {\n",
              "        text-align: right;\n",
              "    }\n",
              "</style>\n",
              "<table border=\"1\" class=\"dataframe\">\n",
              "  <thead>\n",
              "    <tr style=\"text-align: right;\">\n",
              "      <th></th>\n",
              "      <th>Unnamed: 0</th>\n",
              "      <th>location</th>\n",
              "      <th>town</th>\n",
              "      <th>mortality</th>\n",
              "      <th>hardness</th>\n",
              "    </tr>\n",
              "  </thead>\n",
              "  <tbody>\n",
              "    <tr>\n",
              "      <th>0</th>\n",
              "      <td>1</td>\n",
              "      <td>South</td>\n",
              "      <td>Bath</td>\n",
              "      <td>1247</td>\n",
              "      <td>105</td>\n",
              "    </tr>\n",
              "    <tr>\n",
              "      <th>1</th>\n",
              "      <td>2</td>\n",
              "      <td>North</td>\n",
              "      <td>Birkenhead</td>\n",
              "      <td>1668</td>\n",
              "      <td>17</td>\n",
              "    </tr>\n",
              "    <tr>\n",
              "      <th>2</th>\n",
              "      <td>3</td>\n",
              "      <td>South</td>\n",
              "      <td>Birmingham</td>\n",
              "      <td>1466</td>\n",
              "      <td>5</td>\n",
              "    </tr>\n",
              "    <tr>\n",
              "      <th>3</th>\n",
              "      <td>4</td>\n",
              "      <td>North</td>\n",
              "      <td>Blackburn</td>\n",
              "      <td>1800</td>\n",
              "      <td>14</td>\n",
              "    </tr>\n",
              "    <tr>\n",
              "      <th>4</th>\n",
              "      <td>5</td>\n",
              "      <td>North</td>\n",
              "      <td>Blackpool</td>\n",
              "      <td>1609</td>\n",
              "      <td>18</td>\n",
              "    </tr>\n",
              "    <tr>\n",
              "      <th>...</th>\n",
              "      <td>...</td>\n",
              "      <td>...</td>\n",
              "      <td>...</td>\n",
              "      <td>...</td>\n",
              "      <td>...</td>\n",
              "    </tr>\n",
              "    <tr>\n",
              "      <th>56</th>\n",
              "      <td>57</td>\n",
              "      <td>South</td>\n",
              "      <td>Walsall</td>\n",
              "      <td>1527</td>\n",
              "      <td>60</td>\n",
              "    </tr>\n",
              "    <tr>\n",
              "      <th>57</th>\n",
              "      <td>58</td>\n",
              "      <td>South</td>\n",
              "      <td>West Bromwich</td>\n",
              "      <td>1627</td>\n",
              "      <td>53</td>\n",
              "    </tr>\n",
              "    <tr>\n",
              "      <th>58</th>\n",
              "      <td>59</td>\n",
              "      <td>South</td>\n",
              "      <td>West Ham</td>\n",
              "      <td>1486</td>\n",
              "      <td>122</td>\n",
              "    </tr>\n",
              "    <tr>\n",
              "      <th>59</th>\n",
              "      <td>60</td>\n",
              "      <td>South</td>\n",
              "      <td>Wolverhampton</td>\n",
              "      <td>1485</td>\n",
              "      <td>81</td>\n",
              "    </tr>\n",
              "    <tr>\n",
              "      <th>60</th>\n",
              "      <td>61</td>\n",
              "      <td>North</td>\n",
              "      <td>York</td>\n",
              "      <td>1378</td>\n",
              "      <td>71</td>\n",
              "    </tr>\n",
              "  </tbody>\n",
              "</table>\n",
              "<p>61 rows × 5 columns</p>\n",
              "</div>\n",
              "    <div class=\"colab-df-buttons\">\n",
              "\n",
              "  <div class=\"colab-df-container\">\n",
              "    <button class=\"colab-df-convert\" onclick=\"convertToInteractive('df-4b86fb96-1a12-4718-83f5-f6690e37202b')\"\n",
              "            title=\"Convert this dataframe to an interactive table.\"\n",
              "            style=\"display:none;\">\n",
              "\n",
              "  <svg xmlns=\"http://www.w3.org/2000/svg\" height=\"24px\" viewBox=\"0 -960 960 960\">\n",
              "    <path d=\"M120-120v-720h720v720H120Zm60-500h600v-160H180v160Zm220 220h160v-160H400v160Zm0 220h160v-160H400v160ZM180-400h160v-160H180v160Zm440 0h160v-160H620v160ZM180-180h160v-160H180v160Zm440 0h160v-160H620v160Z\"/>\n",
              "  </svg>\n",
              "    </button>\n",
              "\n",
              "  <style>\n",
              "    .colab-df-container {\n",
              "      display:flex;\n",
              "      gap: 12px;\n",
              "    }\n",
              "\n",
              "    .colab-df-convert {\n",
              "      background-color: #E8F0FE;\n",
              "      border: none;\n",
              "      border-radius: 50%;\n",
              "      cursor: pointer;\n",
              "      display: none;\n",
              "      fill: #1967D2;\n",
              "      height: 32px;\n",
              "      padding: 0 0 0 0;\n",
              "      width: 32px;\n",
              "    }\n",
              "\n",
              "    .colab-df-convert:hover {\n",
              "      background-color: #E2EBFA;\n",
              "      box-shadow: 0px 1px 2px rgba(60, 64, 67, 0.3), 0px 1px 3px 1px rgba(60, 64, 67, 0.15);\n",
              "      fill: #174EA6;\n",
              "    }\n",
              "\n",
              "    .colab-df-buttons div {\n",
              "      margin-bottom: 4px;\n",
              "    }\n",
              "\n",
              "    [theme=dark] .colab-df-convert {\n",
              "      background-color: #3B4455;\n",
              "      fill: #D2E3FC;\n",
              "    }\n",
              "\n",
              "    [theme=dark] .colab-df-convert:hover {\n",
              "      background-color: #434B5C;\n",
              "      box-shadow: 0px 1px 3px 1px rgba(0, 0, 0, 0.15);\n",
              "      filter: drop-shadow(0px 1px 2px rgba(0, 0, 0, 0.3));\n",
              "      fill: #FFFFFF;\n",
              "    }\n",
              "  </style>\n",
              "\n",
              "    <script>\n",
              "      const buttonEl =\n",
              "        document.querySelector('#df-4b86fb96-1a12-4718-83f5-f6690e37202b button.colab-df-convert');\n",
              "      buttonEl.style.display =\n",
              "        google.colab.kernel.accessAllowed ? 'block' : 'none';\n",
              "\n",
              "      async function convertToInteractive(key) {\n",
              "        const element = document.querySelector('#df-4b86fb96-1a12-4718-83f5-f6690e37202b');\n",
              "        const dataTable =\n",
              "          await google.colab.kernel.invokeFunction('convertToInteractive',\n",
              "                                                    [key], {});\n",
              "        if (!dataTable) return;\n",
              "\n",
              "        const docLinkHtml = 'Like what you see? Visit the ' +\n",
              "          '<a target=\"_blank\" href=https://colab.research.google.com/notebooks/data_table.ipynb>data table notebook</a>'\n",
              "          + ' to learn more about interactive tables.';\n",
              "        element.innerHTML = '';\n",
              "        dataTable['output_type'] = 'display_data';\n",
              "        await google.colab.output.renderOutput(dataTable, element);\n",
              "        const docLink = document.createElement('div');\n",
              "        docLink.innerHTML = docLinkHtml;\n",
              "        element.appendChild(docLink);\n",
              "      }\n",
              "    </script>\n",
              "  </div>\n",
              "\n",
              "\n",
              "<div id=\"df-5ab4e562-a256-4361-aa3d-118773a76653\">\n",
              "  <button class=\"colab-df-quickchart\" onclick=\"quickchart('df-5ab4e562-a256-4361-aa3d-118773a76653')\"\n",
              "            title=\"Suggest charts\"\n",
              "            style=\"display:none;\">\n",
              "\n",
              "<svg xmlns=\"http://www.w3.org/2000/svg\" height=\"24px\"viewBox=\"0 0 24 24\"\n",
              "     width=\"24px\">\n",
              "    <g>\n",
              "        <path d=\"M19 3H5c-1.1 0-2 .9-2 2v14c0 1.1.9 2 2 2h14c1.1 0 2-.9 2-2V5c0-1.1-.9-2-2-2zM9 17H7v-7h2v7zm4 0h-2V7h2v10zm4 0h-2v-4h2v4z\"/>\n",
              "    </g>\n",
              "</svg>\n",
              "  </button>\n",
              "\n",
              "<style>\n",
              "  .colab-df-quickchart {\n",
              "      --bg-color: #E8F0FE;\n",
              "      --fill-color: #1967D2;\n",
              "      --hover-bg-color: #E2EBFA;\n",
              "      --hover-fill-color: #174EA6;\n",
              "      --disabled-fill-color: #AAA;\n",
              "      --disabled-bg-color: #DDD;\n",
              "  }\n",
              "\n",
              "  [theme=dark] .colab-df-quickchart {\n",
              "      --bg-color: #3B4455;\n",
              "      --fill-color: #D2E3FC;\n",
              "      --hover-bg-color: #434B5C;\n",
              "      --hover-fill-color: #FFFFFF;\n",
              "      --disabled-bg-color: #3B4455;\n",
              "      --disabled-fill-color: #666;\n",
              "  }\n",
              "\n",
              "  .colab-df-quickchart {\n",
              "    background-color: var(--bg-color);\n",
              "    border: none;\n",
              "    border-radius: 50%;\n",
              "    cursor: pointer;\n",
              "    display: none;\n",
              "    fill: var(--fill-color);\n",
              "    height: 32px;\n",
              "    padding: 0;\n",
              "    width: 32px;\n",
              "  }\n",
              "\n",
              "  .colab-df-quickchart:hover {\n",
              "    background-color: var(--hover-bg-color);\n",
              "    box-shadow: 0 1px 2px rgba(60, 64, 67, 0.3), 0 1px 3px 1px rgba(60, 64, 67, 0.15);\n",
              "    fill: var(--button-hover-fill-color);\n",
              "  }\n",
              "\n",
              "  .colab-df-quickchart-complete:disabled,\n",
              "  .colab-df-quickchart-complete:disabled:hover {\n",
              "    background-color: var(--disabled-bg-color);\n",
              "    fill: var(--disabled-fill-color);\n",
              "    box-shadow: none;\n",
              "  }\n",
              "\n",
              "  .colab-df-spinner {\n",
              "    border: 2px solid var(--fill-color);\n",
              "    border-color: transparent;\n",
              "    border-bottom-color: var(--fill-color);\n",
              "    animation:\n",
              "      spin 1s steps(1) infinite;\n",
              "  }\n",
              "\n",
              "  @keyframes spin {\n",
              "    0% {\n",
              "      border-color: transparent;\n",
              "      border-bottom-color: var(--fill-color);\n",
              "      border-left-color: var(--fill-color);\n",
              "    }\n",
              "    20% {\n",
              "      border-color: transparent;\n",
              "      border-left-color: var(--fill-color);\n",
              "      border-top-color: var(--fill-color);\n",
              "    }\n",
              "    30% {\n",
              "      border-color: transparent;\n",
              "      border-left-color: var(--fill-color);\n",
              "      border-top-color: var(--fill-color);\n",
              "      border-right-color: var(--fill-color);\n",
              "    }\n",
              "    40% {\n",
              "      border-color: transparent;\n",
              "      border-right-color: var(--fill-color);\n",
              "      border-top-color: var(--fill-color);\n",
              "    }\n",
              "    60% {\n",
              "      border-color: transparent;\n",
              "      border-right-color: var(--fill-color);\n",
              "    }\n",
              "    80% {\n",
              "      border-color: transparent;\n",
              "      border-right-color: var(--fill-color);\n",
              "      border-bottom-color: var(--fill-color);\n",
              "    }\n",
              "    90% {\n",
              "      border-color: transparent;\n",
              "      border-bottom-color: var(--fill-color);\n",
              "    }\n",
              "  }\n",
              "</style>\n",
              "\n",
              "  <script>\n",
              "    async function quickchart(key) {\n",
              "      const quickchartButtonEl =\n",
              "        document.querySelector('#' + key + ' button');\n",
              "      quickchartButtonEl.disabled = true;  // To prevent multiple clicks.\n",
              "      quickchartButtonEl.classList.add('colab-df-spinner');\n",
              "      try {\n",
              "        const charts = await google.colab.kernel.invokeFunction(\n",
              "            'suggestCharts', [key], {});\n",
              "      } catch (error) {\n",
              "        console.error('Error during call to suggestCharts:', error);\n",
              "      }\n",
              "      quickchartButtonEl.classList.remove('colab-df-spinner');\n",
              "      quickchartButtonEl.classList.add('colab-df-quickchart-complete');\n",
              "    }\n",
              "    (() => {\n",
              "      let quickchartButtonEl =\n",
              "        document.querySelector('#df-5ab4e562-a256-4361-aa3d-118773a76653 button');\n",
              "      quickchartButtonEl.style.display =\n",
              "        google.colab.kernel.accessAllowed ? 'block' : 'none';\n",
              "    })();\n",
              "  </script>\n",
              "</div>\n",
              "    </div>\n",
              "  </div>\n"
            ]
          },
          "metadata": {},
          "execution_count": 46
        }
      ],
      "source": [
        "data\n",
        "# Смитрим наш дата фрейм"
      ]
    },
    {
      "cell_type": "code",
      "execution_count": 47,
      "metadata": {
        "colab": {
          "base_uri": "https://localhost:8080/"
        },
        "id": "jWzxiThDC6mf",
        "outputId": "029df3f0-af72-42a3-bd49-041a7e2cdae2"
      },
      "outputs": [
        {
          "output_type": "stream",
          "name": "stdout",
          "text": [
            "<class 'pandas.core.frame.DataFrame'>\n",
            "RangeIndex: 61 entries, 0 to 60\n",
            "Data columns (total 5 columns):\n",
            " #   Column      Non-Null Count  Dtype \n",
            "---  ------      --------------  ----- \n",
            " 0   Unnamed: 0  61 non-null     int64 \n",
            " 1   location    61 non-null     object\n",
            " 2   town        61 non-null     object\n",
            " 3   mortality   61 non-null     int64 \n",
            " 4   hardness    61 non-null     int64 \n",
            "dtypes: int64(3), object(2)\n",
            "memory usage: 2.5+ KB\n"
          ]
        }
      ],
      "source": [
        "data.info()\n",
        "# Смотрим информацию"
      ]
    },
    {
      "cell_type": "markdown",
      "source": [
        "## Первичное изучение данных"
      ],
      "metadata": {
        "id": "QBsgpC85W1MC"
      }
    },
    {
      "cell_type": "markdown",
      "source": [
        "### Анализ категориальных столбцов"
      ],
      "metadata": {
        "id": "2FZQc74hW76t"
      }
    },
    {
      "cell_type": "markdown",
      "source": [
        "Категориальные столбцы:\n",
        "- `location`: местоположение, которое может принимать значение \"South\" или \"North\"\n",
        "- `town`: город, представленный текстовыми значениями"
      ],
      "metadata": {
        "id": "r06O5MZFaWtw"
      }
    },
    {
      "cell_type": "code",
      "source": [
        "# Посчитаем количество уникальных значений в столбце \"location\" и их доли:\n",
        "location_counts = data['location'].value_counts()\n",
        "location_percentage = data['location'].value_counts(normalize=True) * 100\n",
        "print(\"Уникальные значения в столбце 'location':\")\n",
        "print(location_counts)\n",
        "print()\n",
        "print(\"Доля каждой категории в столбце 'location':\")\n",
        "print(location_percentage)\n",
        "print()\n",
        "\n",
        "# Провериv соответствие уникальных значений в столбце \"location\" с описанием данных:\n",
        "expected_location_categories = ['South', 'North']\n",
        "if set(data['location'].unique()) == set(expected_location_categories):\n",
        "    print(\"Уникальные значения в столбце 'location' соответствуют описанию данных.\")\n",
        "else:\n",
        "    print(\"Уникальные значения в столбце 'location' не соответствуют описанию данных.\")"
      ],
      "metadata": {
        "id": "fxG7ImZfY34w",
        "outputId": "357b9f78-2a58-4ab1-95c2-b100674157e4",
        "colab": {
          "base_uri": "https://localhost:8080/"
        }
      },
      "execution_count": 48,
      "outputs": [
        {
          "output_type": "stream",
          "name": "stdout",
          "text": [
            "Уникальные значения в столбце 'location':\n",
            "North    35\n",
            "South    26\n",
            "Name: location, dtype: int64\n",
            "\n",
            "Доля каждой категории в столбце 'location':\n",
            "North    57.377049\n",
            "South    42.622951\n",
            "Name: location, dtype: float64\n",
            "\n",
            "Уникальные значения в столбце 'location' соответствуют описанию данных.\n"
          ]
        }
      ]
    },
    {
      "cell_type": "markdown",
      "source": [
        "### Анализ непрерывных величин\n",
        "\n",
        "\n"
      ],
      "metadata": {
        "id": "0eC5yfUpaLNQ"
      }
    },
    {
      "cell_type": "markdown",
      "source": [
        "Непрерывные величины:\n",
        "- `mortality`: смертность (целевая переменная), числовая величина\n",
        "- `hardness`: концентрация кальция в питьевой воде"
      ],
      "metadata": {
        "id": "u04SMQP-ahJp"
      }
    },
    {
      "cell_type": "code",
      "source": [
        "mortality_stats = data['mortality'].describe()\n",
        "hardness_stats = data['hardness'].describe()\n",
        "\n",
        "print(\"Статистика по столбцу 'mortality':\")\n",
        "print(mortality_stats)\n",
        "print(\"\\nСтатистика по столбцу 'hardness':\")\n",
        "print(hardness_stats)\n"
      ],
      "metadata": {
        "id": "qjjumW_6bLrE",
        "outputId": "98f191c0-c111-4f4b-ba63-9f1ac9008212",
        "colab": {
          "base_uri": "https://localhost:8080/"
        }
      },
      "execution_count": 49,
      "outputs": [
        {
          "output_type": "stream",
          "name": "stdout",
          "text": [
            "Статистика по столбцу 'mortality':\n",
            "count      61.000000\n",
            "mean     1524.147541\n",
            "std       187.668754\n",
            "min      1096.000000\n",
            "25%      1379.000000\n",
            "50%      1555.000000\n",
            "75%      1668.000000\n",
            "max      1987.000000\n",
            "Name: mortality, dtype: float64\n",
            "\n",
            "Статистика по столбцу 'hardness':\n",
            "count     61.000000\n",
            "mean      47.180328\n",
            "std       38.093966\n",
            "min        5.000000\n",
            "25%       14.000000\n",
            "50%       39.000000\n",
            "75%       75.000000\n",
            "max      138.000000\n",
            "Name: hardness, dtype: float64\n"
          ]
        }
      ]
    },
    {
      "cell_type": "markdown",
      "source": [
        "Анализ статистики столбца `mortality` позволяет предположить, что распределение данных в нем скорее всего не является нормальным. Это подтверждается небольшим отличием среднего значения от медианы, большим значением стандартного отклонения и широким диапазоном значений.\n",
        "\n",
        "\n",
        "Анализ статистики столбца `hardness` позволяет предположить, что распределение данных в нем скорее всего не является нормальным. Это подтверждается небольшим отличием среднего значения от медианы, большим значением стандартного отклонения и широким диапазоном значений."
      ],
      "metadata": {
        "id": "7PzfYDRciw_J"
      }
    },
    {
      "cell_type": "markdown",
      "source": [
        "## Корреляция"
      ],
      "metadata": {
        "id": "2HZFf09PtsqN"
      }
    },
    {
      "cell_type": "markdown",
      "source": [
        "Посмотрим на график взаимосвязи между жёсткостью воды и средней годовой смертностью"
      ],
      "metadata": {
        "id": "SavrR9vxtx58"
      }
    },
    {
      "cell_type": "code",
      "source": [
        "sns.jointplot(x='hardness', y ='mortality', data=data)"
      ],
      "metadata": {
        "id": "h7xn4Uq_t9Cz",
        "outputId": "ef486d6e-955c-49dd-ae19-02c5cf41a2a2",
        "colab": {
          "base_uri": "https://localhost:8080/",
          "height": 625
        }
      },
      "execution_count": 50,
      "outputs": [
        {
          "output_type": "execute_result",
          "data": {
            "text/plain": [
              "<seaborn.axisgrid.JointGrid at 0x7c6eb12b97e0>"
            ]
          },
          "metadata": {},
          "execution_count": 50
        },
        {
          "output_type": "display_data",
          "data": {
            "text/plain": [
              "<Figure size 600x600 with 3 Axes>"
            ],
            "image/png": "[encoded data removed]"
          },
          "metadata": {}
        }
      ]
    },
    {
      "cell_type": "code",
      "source": [
        "# Коэффициент корреляции Пирсона\n",
        "corr_p = data['hardness'].corr(data['mortality'], method='pearson')\n",
        "corr_p"
      ],
      "metadata": {
        "id": "vXlc8_frlN1l",
        "outputId": "7d35c849-305b-4327-8234-815ac6467198",
        "colab": {
          "base_uri": "https://localhost:8080/"
        }
      },
      "execution_count": 51,
      "outputs": [
        {
          "output_type": "execute_result",
          "data": {
            "text/plain": [
              "-0.6548486232042463"
            ]
          },
          "metadata": {},
          "execution_count": 51
        }
      ]
    },
    {
      "cell_type": "markdown",
      "source": [
        "Результат коэффициента корреляции Пирсона (-0.6548486232042463) показывает наличие отрицательной корреляционной связи между переменными `hardness` (жесткость воды) и `mortality` (смертность).\n",
        "\n",
        "Отрицательное значение коэффициента корреляции означает, что при увеличении значений одной переменной, значения другой переменной снижаются. В данном случае, при увеличении жесткости воды, смертность снижается.\n",
        "\n",
        "Анализ коэффициента корреляции Пирсона может предоставить следующую информацию:\n",
        "- Корреляционная связь: Коэффициент -0.65 указывает на среднюю отрицательную корреляционную связь между жесткостью воды и смертностью. Это означает, что чем выше уровень жесткости воды, тем ниже смертность.\n",
        "- Сила связи: Значение коэффициента -0.65 говорит о том, что связь между переменными средней силы. Связь не является сильной, но она все равно значима и может быть использована для анализа и прогнозирования.\n",
        "- Направление связи: Отрицательное значение коэффициента означает, что при увеличении одной переменной (жесткости воды), другая переменная (смертность) снижается."
      ],
      "metadata": {
        "id": "PuaDYCW3qmJH"
      }
    },
    {
      "cell_type": "code",
      "source": [
        "# Коэффициент корреляции Спирмена\n",
        "corr_s = data['hardness'].corr(data['mortality'], method='spearman')\n",
        "corr_s"
      ],
      "metadata": {
        "id": "zg3BGdNxlWsg",
        "outputId": "2dfb9145-08bc-42c4-cac0-3d5a7de11cc0",
        "colab": {
          "base_uri": "https://localhost:8080/"
        }
      },
      "execution_count": 52,
      "outputs": [
        {
          "output_type": "execute_result",
          "data": {
            "text/plain": [
              "-0.6316646189166502"
            ]
          },
          "metadata": {},
          "execution_count": 52
        }
      ]
    },
    {
      "cell_type": "markdown",
      "source": [
        "Близкое значение между коэффициентами корреляции Пирсона и Спирмена может быть обусловлено несколькими факторами:\n",
        "\n",
        "1. Распределение данных: Коэффициент корреляции Пирсона предполагает линейную связь между переменными и зависит от распределения данных. Если данные имеют близкое к линейному распределение, то коэффициент корреляции Пирсона будет близким к коэффициенту корреляции Спирмена. В данном случае, возможно, между переменными \"hardness\" и \"mortality\" существует линейная связь, что приводит к близким значениям коэффициентов.\n",
        "\n",
        "2. Количество выбросов: Коэффициент корреляции Спирмена более устойчив к выбросам, чем коэффициент корреляции Пирсона. Если в данных присутствуют выбросы, то коэффициент корреляции Пирсона может быть более сильно искажен, в то время как коэффициент корреляции Спирмена будет менее подвержен влиянию выбросов. Возможно, в данном наборе данных выбросы не сильно искажают связь, поэтому значение коэффициента корреляции Пирсона и Спирмена близко."
      ],
      "metadata": {
        "id": "2ijXjXcbv7G6"
      }
    },
    {
      "cell_type": "markdown",
      "source": [
        "## Регрессия"
      ],
      "metadata": {
        "id": "wqXGIJJZzDer"
      }
    },
    {
      "cell_type": "code",
      "source": [
        "from sklearn.model_selection import train_test_split\n",
        "from sklearn.linear_model import LinearRegression\n",
        "\n",
        "# Матрица признаков `X` и вектор целевой переменной `y`.\n",
        "X = data[['hardness']]\n",
        "y = data['mortality']\n",
        "\n",
        "# Разделение данных на обучающую и тестовую выборки\n",
        "X_train, X_test, y_train, y_test = train_test_split(X, y, random_state=42)\n",
        "\n",
        "# Создание объекта модели линейной регрессии\n",
        "model = LinearRegression()\n",
        "\n",
        "# Обучение модели на обучающей выборке\n",
        "model.fit(X_train, y_train)\n",
        "\n",
        "# Коэффициенты регрессии\n",
        "print('Coefficients:', model.coef_)\n",
        "\n",
        "# Пересечение с осью y (то есть y, когда X=0)\n",
        "print('Intercept:', model.intercept_)"
      ],
      "metadata": {
        "id": "zmGezWv2lYzK",
        "outputId": "2c4388ff-9888-4476-b570-2da3880bf9aa",
        "colab": {
          "base_uri": "https://localhost:8080/"
        }
      },
      "execution_count": 53,
      "outputs": [
        {
          "output_type": "stream",
          "name": "stdout",
          "text": [
            "Coefficients: [-3.31576799]\n",
            "Intercept: 1678.9405326885008\n"
          ]
        }
      ]
    },
    {
      "cell_type": "markdown",
      "source": [
        "Результаты модели линейной регрессии можно проанализировать следующим образом:\n",
        "\n",
        "1. Коэффициенты регрессии (Coefficients):\n",
        "   - В данном случае получен один коэффициент регрессии, равный -3.31576799. Коэффициент регрессии показывает, как изменение одной единицы независимой переменной влияет на зависимую переменную. В данном случае, увеличение значения независимой переменной на 1 сопровождается уменьшением зависимой переменной примерно на 3.316.\n",
        "\n",
        "2. Пересечение с осью y (Intercept):\n",
        "   - Значение пересечения с осью y, то есть значение зависимой переменной, когда значение независимой переменной равно нулю, составляет 1678.94. Это означает, что при отсутствии независимых переменных значение зависимой переменной будет около 1679.\n",
        "\n",
        "Оценка значений коэффициентов и пересечения с осью y помогают понять, как независимые переменные влияют на зависимую переменную в модели линейной регрессии."
      ],
      "metadata": {
        "id": "ds7vsgCZqOn2"
      }
    },
    {
      "cell_type": "code",
      "source": [
        "# Получение прогнозов на тестовой выборке\n",
        "y_pred = model.predict(X_test)\n",
        "y_pred"
      ],
      "metadata": {
        "id": "jnCGubNBmMDa",
        "outputId": "53de9dcc-ec58-444c-857d-b220aa97c6a6",
        "colab": {
          "base_uri": "https://localhost:8080/"
        }
      },
      "execution_count": 54,
      "outputs": [
        {
          "output_type": "execute_result",
          "data": {
            "text/plain": [
              "array([1330.78489376, 1645.78285279, 1632.51978083, 1533.04674114,\n",
              "       1420.31062948, 1612.62517289, 1237.94339004, 1430.25793345,\n",
              "       1609.3094049 , 1659.04592475, 1483.31022129, 1410.36332551,\n",
              "       1549.62558108, 1632.51978083, 1443.52100541, 1549.62558108])"
            ]
          },
          "metadata": {},
          "execution_count": 54
        }
      ]
    },
    {
      "cell_type": "code",
      "source": [
        "y_test"
      ],
      "metadata": {
        "id": "xYxqL2vao26t",
        "outputId": "d2efc915-7016-448a-8f42-90d3f73393d0",
        "colab": {
          "base_uri": "https://localhost:8080/"
        }
      },
      "execution_count": 55,
      "outputs": [
        {
          "output_type": "execute_result",
          "data": {
            "text/plain": [
              "0     1247\n",
              "5     1558\n",
              "46    1495\n",
              "31    1702\n",
              "13    1307\n",
              "55    1625\n",
              "34    1259\n",
              "49    1587\n",
              "12    1519\n",
              "40    1696\n",
              "33    1309\n",
              "59    1485\n",
              "16    1555\n",
              "3     1800\n",
              "53    1709\n",
              "17    1428\n",
              "Name: mortality, dtype: int64"
            ]
          },
          "metadata": {},
          "execution_count": 55
        }
      ]
    },
    {
      "cell_type": "code",
      "source": [
        "plt.scatter(X_test, y_test)\n",
        "plt.plot(X_test, y_pred, c='r')"
      ],
      "metadata": {
        "id": "tsHZlTIPsp2N",
        "outputId": "921adf9e-3e46-4382-9e3f-d70812530027",
        "colab": {
          "base_uri": "https://localhost:8080/",
          "height": 448
        }
      },
      "execution_count": 56,
      "outputs": [
        {
          "output_type": "execute_result",
          "data": {
            "text/plain": [
              "[<matplotlib.lines.Line2D at 0x7c6eb4c81a20>]"
            ]
          },
          "metadata": {},
          "execution_count": 56
        },
        {
          "output_type": "display_data",
          "data": {
            "text/plain": [
              "<Figure size 640x480 with 1 Axes>"
            ],
            "image/png": "[encoded data removed]"
          },
          "metadata": {}
        }
      ]
    },
    {
      "cell_type": "code",
      "source": [
        "# Расчет коэффициента детерминации\n",
        "import sklearn.metrics as metrics\n",
        "print(f'Коэффициент детерминации: {metrics.r2_score(y_test, y_pred)}')"
      ],
      "metadata": {
        "id": "gGXuOwOhxavj",
        "outputId": "924d0993-fcf2-45a9-dcda-c5b6fc2e49d1",
        "colab": {
          "base_uri": "https://localhost:8080/"
        }
      },
      "execution_count": 57,
      "outputs": [
        {
          "output_type": "stream",
          "name": "stdout",
          "text": [
            "Коэффициент детерминации: 0.410213439338294\n"
          ]
        }
      ]
    },
    {
      "cell_type": "code",
      "source": [
        "sns.histplot((y_test-y_pred), kde=True, bins=20)"
      ],
      "metadata": {
        "id": "QoMzeg2O1Ljr",
        "outputId": "e5370ab4-747d-4108-a610-d9b04128b599",
        "colab": {
          "base_uri": "https://localhost:8080/",
          "height": 467
        }
      },
      "execution_count": 58,
      "outputs": [
        {
          "output_type": "execute_result",
          "data": {
            "text/plain": [
              "<Axes: xlabel='mortality', ylabel='Count'>"
            ]
          },
          "metadata": {},
          "execution_count": 58
        },
        {
          "output_type": "display_data",
          "data": {
            "text/plain": [
              "<Figure size 640x480 with 1 Axes>"
            ],
            "image/png": "[encoded data removed]"
          },
          "metadata": {}
        }
      ]
    },
    {
      "cell_type": "code",
      "source": [
        "pd.DataFrame(model.coef_ , X.columns, columns=['Коэффициенты'])"
      ],
      "metadata": {
        "id": "DekDWqSVEyrN",
        "colab": {
          "base_uri": "https://localhost:8080/",
          "height": 81
        },
        "outputId": "aec068c6-6a6e-41af-9425-39a37614ddf4"
      },
      "execution_count": 60,
      "outputs": [
        {
          "output_type": "execute_result",
          "data": {
            "text/plain": [
              "          Коэффициенты\n",
              "hardness     -3.315768"
            ],
            "text/html": [
              "\n",
              "  <div id=\"df-42862459-6630-42eb-aeb2-cdda47ea4ade\" class=\"colab-df-container\">\n",
              "    <div>\n",
              "<style scoped>\n",
              "    .dataframe tbody tr th:only-of-type {\n",
              "        vertical-align: middle;\n",
              "    }\n",
              "\n",
              "    .dataframe tbody tr th {\n",
              "        vertical-align: top;\n",
              "    }\n",
              "\n",
              "    .dataframe thead th {\n",
              "        text-align: right;\n",
              "    }\n",
              "</style>\n",
              "<table border=\"1\" class=\"dataframe\">\n",
              "  <thead>\n",
              "    <tr style=\"text-align: right;\">\n",
              "      <th></th>\n",
              "      <th>Коэффициенты</th>\n",
              "    </tr>\n",
              "  </thead>\n",
              "  <tbody>\n",
              "    <tr>\n",
              "      <th>hardness</th>\n",
              "      <td>-3.315768</td>\n",
              "    </tr>\n",
              "  </tbody>\n",
              "</table>\n",
              "</div>\n",
              "    <div class=\"colab-df-buttons\">\n",
              "\n",
              "  <div class=\"colab-df-container\">\n",
              "    <button class=\"colab-df-convert\" onclick=\"convertToInteractive('df-42862459-6630-42eb-aeb2-cdda47ea4ade')\"\n",
              "            title=\"Convert this dataframe to an interactive table.\"\n",
              "            style=\"display:none;\">\n",
              "\n",
              "  <svg xmlns=\"http://www.w3.org/2000/svg\" height=\"24px\" viewBox=\"0 -960 960 960\">\n",
              "    <path d=\"M120-120v-720h720v720H120Zm60-500h600v-160H180v160Zm220 220h160v-160H400v160Zm0 220h160v-160H400v160ZM180-400h160v-160H180v160Zm440 0h160v-160H620v160ZM180-180h160v-160H180v160Zm440 0h160v-160H620v160Z\"/>\n",
              "  </svg>\n",
              "    </button>\n",
              "\n",
              "  <style>\n",
              "    .colab-df-container {\n",
              "      display:flex;\n",
              "      gap: 12px;\n",
              "    }\n",
              "\n",
              "    .colab-df-convert {\n",
              "      background-color: #E8F0FE;\n",
              "      border: none;\n",
              "      border-radius: 50%;\n",
              "      cursor: pointer;\n",
              "      display: none;\n",
              "      fill: #1967D2;\n",
              "      height: 32px;\n",
              "      padding: 0 0 0 0;\n",
              "      width: 32px;\n",
              "    }\n",
              "\n",
              "    .colab-df-convert:hover {\n",
              "      background-color: #E2EBFA;\n",
              "      box-shadow: 0px 1px 2px rgba(60, 64, 67, 0.3), 0px 1px 3px 1px rgba(60, 64, 67, 0.15);\n",
              "      fill: #174EA6;\n",
              "    }\n",
              "\n",
              "    .colab-df-buttons div {\n",
              "      margin-bottom: 4px;\n",
              "    }\n",
              "\n",
              "    [theme=dark] .colab-df-convert {\n",
              "      background-color: #3B4455;\n",
              "      fill: #D2E3FC;\n",
              "    }\n",
              "\n",
              "    [theme=dark] .colab-df-convert:hover {\n",
              "      background-color: #434B5C;\n",
              "      box-shadow: 0px 1px 3px 1px rgba(0, 0, 0, 0.15);\n",
              "      filter: drop-shadow(0px 1px 2px rgba(0, 0, 0, 0.3));\n",
              "      fill: #FFFFFF;\n",
              "    }\n",
              "  </style>\n",
              "\n",
              "    <script>\n",
              "      const buttonEl =\n",
              "        document.querySelector('#df-42862459-6630-42eb-aeb2-cdda47ea4ade button.colab-df-convert');\n",
              "      buttonEl.style.display =\n",
              "        google.colab.kernel.accessAllowed ? 'block' : 'none';\n",
              "\n",
              "      async function convertToInteractive(key) {\n",
              "        const element = document.querySelector('#df-42862459-6630-42eb-aeb2-cdda47ea4ade');\n",
              "        const dataTable =\n",
              "          await google.colab.kernel.invokeFunction('convertToInteractive',\n",
              "                                                    [key], {});\n",
              "        if (!dataTable) return;\n",
              "\n",
              "        const docLinkHtml = 'Like what you see? Visit the ' +\n",
              "          '<a target=\"_blank\" href=https://colab.research.google.com/notebooks/data_table.ipynb>data table notebook</a>'\n",
              "          + ' to learn more about interactive tables.';\n",
              "        element.innerHTML = '';\n",
              "        dataTable['output_type'] = 'display_data';\n",
              "        await google.colab.output.renderOutput(dataTable, element);\n",
              "        const docLink = document.createElement('div');\n",
              "        docLink.innerHTML = docLinkHtml;\n",
              "        element.appendChild(docLink);\n",
              "      }\n",
              "    </script>\n",
              "  </div>\n",
              "\n",
              "    </div>\n",
              "  </div>\n"
            ]
          },
          "metadata": {},
          "execution_count": 60
        }
      ]
    }
  ],
  "metadata": {
    "colab": {
      "provenance": [],
      "toc_visible": true,
      "include_colab_link": true
    },
    "kernelspec": {
      "display_name": "Python 3",
      "name": "python3"
    },
    "language_info": {
      "codemirror_mode": {
        "name": "ipython",
        "version": 3
      },
      "file_extension": ".py",
      "mimetype": "text/x-python",
      "name": "python",
      "nbconvert_exporter": "python",
      "pygments_lexer": "ipython3",
      "version": "3.10.8"
    }
  },
  "nbformat": 4,
  "nbformat_minor": 0
}