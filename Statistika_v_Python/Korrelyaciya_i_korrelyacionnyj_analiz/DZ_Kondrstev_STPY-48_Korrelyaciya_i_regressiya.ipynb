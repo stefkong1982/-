{
  "cells": [
    {
      "cell_type": "markdown",
      "metadata": {
        "id": "view-in-github",
        "colab_type": "text"
      },
      "source": [
        "<a href=\"https://colab.research.google.com/github/stefkong1982/netology.ru/blob/Master/Statistika_v_Python/Korrelyaciya_i_korrelyacionnyj_analiz/DZ_Kondrstev_STPY-48_Korrelyaciya_i_regressiya.ipynb\" target=\"_parent\"><img src=\"https://colab.research.google.com/assets/colab-badge.svg\" alt=\"Open In Colab\"/></a>"
      ]
    },
    {
      "cell_type": "markdown",
      "metadata": {
        "id": "geNs_fffqen5"
      },
      "source": [
        "**Преподаватель:** Олег Булыгин\n",
        "\n",
        "### **Домашнее задание к лекции «Корреляция и корреляционный анализ»**\n",
        "\n",
        "Возьмите датасет Mortality and Water Hardness**\n",
        "\n",
        "www.kaggle.com...r-hardness\n",
        "\n",
        "В этом датасете содержатся данные по средней годовой смертности на\n",
        "100000 населения и концентрации кальция в питьевой воде для 61\n",
        "большого города в Англии и Уэльсе. Города дополнительно поделены на\n",
        "северные и южные.\n",
        "\n",
        "**Задание 1.**\n",
        "\n",
        "**Ответить на вопрос: есть ли связь между жёсткостью воды и средней годовой смертностью?**\n",
        "\n",
        "* Построить точечный график\n",
        "* Рассчитать коэффициенты корреляции Пирсона и Спирмена\n",
        "* Построить модель линейной регрессии\n",
        "* Рассчитать коэффициент детерминации\n",
        "* Вывести график остатков\n",
        "\n",
        "\n",
        "**Задание 2.**\n",
        "\n",
        "**Ответить на вопрос: сохраняется ли аналогичная зависимость для северных и южных городов по отдельности?**\n",
        "\n",
        "* Разделить данные на 2 группы\n",
        "* Повторить аналогичные шаги из пункта 1 для каждой группы по отдельности"
      ]
    },
    {
      "cell_type": "markdown",
      "source": [
        "### **Описание столбцов датафрейма:**\n",
        "\n",
        "- `Unnamed`: 0: порядковый номер записи\n",
        "- `location`: местоположение города (South - южные города, North - северные города)\n",
        "- `town`: название города\n",
        "- `mortality`: средняя годовая смертность на 100000 населения\n",
        "- `hardness`: концентрация кальция в питьевой воде"
      ],
      "metadata": {
        "id": "849ZylEOjTzQ"
      }
    },
    {
      "cell_type": "markdown",
      "source": [
        "### Загрузка данных"
      ],
      "metadata": {
        "id": "E2y01emnWjOd"
      }
    },
    {
      "cell_type": "code",
      "execution_count": 1,
      "metadata": {
        "id": "x6r4FX8lNlKx"
      },
      "outputs": [],
      "source": [
        "import pandas as pd\n",
        "import matplotlib.pyplot as plt\n",
        "import seaborn as sns\n",
        "import numpy as np\n",
        "# Импорт библиотек"
      ]
    },
    {
      "cell_type": "code",
      "execution_count": 2,
      "metadata": {
        "id": "jWHHrKObNweV"
      },
      "outputs": [],
      "source": [
        "data = pd.read_csv('https://raw.githubusercontent.com/stefkong1982/netology.ru/Master/Statistika_v_Python/Korrelyaciya_i_korrelyacionnyj_analiz/water.csv')\n",
        "# Загружаем данные"
      ]
    },
    {
      "cell_type": "code",
      "execution_count": 3,
      "metadata": {
        "colab": {
          "base_uri": "https://localhost:8080/",
          "height": 423
        },
        "id": "a-4fZoIoChWj",
        "outputId": "76e83df6-02e0-4d99-9ba9-e1e02d851750"
      },
      "outputs": [
        {
          "output_type": "execute_result",
          "data": {
            "text/plain": [
              "    Unnamed: 0 location           town  mortality  hardness\n",
              "0            1    South           Bath       1247       105\n",
              "1            2    North     Birkenhead       1668        17\n",
              "2            3    South     Birmingham       1466         5\n",
              "3            4    North      Blackburn       1800        14\n",
              "4            5    North      Blackpool       1609        18\n",
              "..         ...      ...            ...        ...       ...\n",
              "56          57    South        Walsall       1527        60\n",
              "57          58    South  West Bromwich       1627        53\n",
              "58          59    South       West Ham       1486       122\n",
              "59          60    South  Wolverhampton       1485        81\n",
              "60          61    North           York       1378        71\n",
              "\n",
              "[61 rows x 5 columns]"
            ],
            "text/html": [
              "\n",
              "  <div id=\"df-a3b46bc7-3c7b-4169-a426-8f997dfe8a6b\" class=\"colab-df-container\">\n",
              "    <div>\n",
              "<style scoped>\n",
              "    .dataframe tbody tr th:only-of-type {\n",
              "        vertical-align: middle;\n",
              "    }\n",
              "\n",
              "    .dataframe tbody tr th {\n",
              "        vertical-align: top;\n",
              "    }\n",
              "\n",
              "    .dataframe thead th {\n",
              "        text-align: right;\n",
              "    }\n",
              "</style>\n",
              "<table border=\"1\" class=\"dataframe\">\n",
              "  <thead>\n",
              "    <tr style=\"text-align: right;\">\n",
              "      <th></th>\n",
              "      <th>Unnamed: 0</th>\n",
              "      <th>location</th>\n",
              "      <th>town</th>\n",
              "      <th>mortality</th>\n",
              "      <th>hardness</th>\n",
              "    </tr>\n",
              "  </thead>\n",
              "  <tbody>\n",
              "    <tr>\n",
              "      <th>0</th>\n",
              "      <td>1</td>\n",
              "      <td>South</td>\n",
              "      <td>Bath</td>\n",
              "      <td>1247</td>\n",
              "      <td>105</td>\n",
              "    </tr>\n",
              "    <tr>\n",
              "      <th>1</th>\n",
              "      <td>2</td>\n",
              "      <td>North</td>\n",
              "      <td>Birkenhead</td>\n",
              "      <td>1668</td>\n",
              "      <td>17</td>\n",
              "    </tr>\n",
              "    <tr>\n",
              "      <th>2</th>\n",
              "      <td>3</td>\n",
              "      <td>South</td>\n",
              "      <td>Birmingham</td>\n",
              "      <td>1466</td>\n",
              "      <td>5</td>\n",
              "    </tr>\n",
              "    <tr>\n",
              "      <th>3</th>\n",
              "      <td>4</td>\n",
              "      <td>North</td>\n",
              "      <td>Blackburn</td>\n",
              "      <td>1800</td>\n",
              "      <td>14</td>\n",
              "    </tr>\n",
              "    <tr>\n",
              "      <th>4</th>\n",
              "      <td>5</td>\n",
              "      <td>North</td>\n",
              "      <td>Blackpool</td>\n",
              "      <td>1609</td>\n",
              "      <td>18</td>\n",
              "    </tr>\n",
              "    <tr>\n",
              "      <th>...</th>\n",
              "      <td>...</td>\n",
              "      <td>...</td>\n",
              "      <td>...</td>\n",
              "      <td>...</td>\n",
              "      <td>...</td>\n",
              "    </tr>\n",
              "    <tr>\n",
              "      <th>56</th>\n",
              "      <td>57</td>\n",
              "      <td>South</td>\n",
              "      <td>Walsall</td>\n",
              "      <td>1527</td>\n",
              "      <td>60</td>\n",
              "    </tr>\n",
              "    <tr>\n",
              "      <th>57</th>\n",
              "      <td>58</td>\n",
              "      <td>South</td>\n",
              "      <td>West Bromwich</td>\n",
              "      <td>1627</td>\n",
              "      <td>53</td>\n",
              "    </tr>\n",
              "    <tr>\n",
              "      <th>58</th>\n",
              "      <td>59</td>\n",
              "      <td>South</td>\n",
              "      <td>West Ham</td>\n",
              "      <td>1486</td>\n",
              "      <td>122</td>\n",
              "    </tr>\n",
              "    <tr>\n",
              "      <th>59</th>\n",
              "      <td>60</td>\n",
              "      <td>South</td>\n",
              "      <td>Wolverhampton</td>\n",
              "      <td>1485</td>\n",
              "      <td>81</td>\n",
              "    </tr>\n",
              "    <tr>\n",
              "      <th>60</th>\n",
              "      <td>61</td>\n",
              "      <td>North</td>\n",
              "      <td>York</td>\n",
              "      <td>1378</td>\n",
              "      <td>71</td>\n",
              "    </tr>\n",
              "  </tbody>\n",
              "</table>\n",
              "<p>61 rows × 5 columns</p>\n",
              "</div>\n",
              "    <div class=\"colab-df-buttons\">\n",
              "\n",
              "  <div class=\"colab-df-container\">\n",
              "    <button class=\"colab-df-convert\" onclick=\"convertToInteractive('df-a3b46bc7-3c7b-4169-a426-8f997dfe8a6b')\"\n",
              "            title=\"Convert this dataframe to an interactive table.\"\n",
              "            style=\"display:none;\">\n",
              "\n",
              "  <svg xmlns=\"http://www.w3.org/2000/svg\" height=\"24px\" viewBox=\"0 -960 960 960\">\n",
              "    <path d=\"M120-120v-720h720v720H120Zm60-500h600v-160H180v160Zm220 220h160v-160H400v160Zm0 220h160v-160H400v160ZM180-400h160v-160H180v160Zm440 0h160v-160H620v160ZM180-180h160v-160H180v160Zm440 0h160v-160H620v160Z\"/>\n",
              "  </svg>\n",
              "    </button>\n",
              "\n",
              "  <style>\n",
              "    .colab-df-container {\n",
              "      display:flex;\n",
              "      gap: 12px;\n",
              "    }\n",
              "\n",
              "    .colab-df-convert {\n",
              "      background-color: #E8F0FE;\n",
              "      border: none;\n",
              "      border-radius: 50%;\n",
              "      cursor: pointer;\n",
              "      display: none;\n",
              "      fill: #1967D2;\n",
              "      height: 32px;\n",
              "      padding: 0 0 0 0;\n",
              "      width: 32px;\n",
              "    }\n",
              "\n",
              "    .colab-df-convert:hover {\n",
              "      background-color: #E2EBFA;\n",
              "      box-shadow: 0px 1px 2px rgba(60, 64, 67, 0.3), 0px 1px 3px 1px rgba(60, 64, 67, 0.15);\n",
              "      fill: #174EA6;\n",
              "    }\n",
              "\n",
              "    .colab-df-buttons div {\n",
              "      margin-bottom: 4px;\n",
              "    }\n",
              "\n",
              "    [theme=dark] .colab-df-convert {\n",
              "      background-color: #3B4455;\n",
              "      fill: #D2E3FC;\n",
              "    }\n",
              "\n",
              "    [theme=dark] .colab-df-convert:hover {\n",
              "      background-color: #434B5C;\n",
              "      box-shadow: 0px 1px 3px 1px rgba(0, 0, 0, 0.15);\n",
              "      filter: drop-shadow(0px 1px 2px rgba(0, 0, 0, 0.3));\n",
              "      fill: #FFFFFF;\n",
              "    }\n",
              "  </style>\n",
              "\n",
              "    <script>\n",
              "      const buttonEl =\n",
              "        document.querySelector('#df-a3b46bc7-3c7b-4169-a426-8f997dfe8a6b button.colab-df-convert');\n",
              "      buttonEl.style.display =\n",
              "        google.colab.kernel.accessAllowed ? 'block' : 'none';\n",
              "\n",
              "      async function convertToInteractive(key) {\n",
              "        const element = document.querySelector('#df-a3b46bc7-3c7b-4169-a426-8f997dfe8a6b');\n",
              "        const dataTable =\n",
              "          await google.colab.kernel.invokeFunction('convertToInteractive',\n",
              "                                                    [key], {});\n",
              "        if (!dataTable) return;\n",
              "\n",
              "        const docLinkHtml = 'Like what you see? Visit the ' +\n",
              "          '<a target=\"_blank\" href=https://colab.research.google.com/notebooks/data_table.ipynb>data table notebook</a>'\n",
              "          + ' to learn more about interactive tables.';\n",
              "        element.innerHTML = '';\n",
              "        dataTable['output_type'] = 'display_data';\n",
              "        await google.colab.output.renderOutput(dataTable, element);\n",
              "        const docLink = document.createElement('div');\n",
              "        docLink.innerHTML = docLinkHtml;\n",
              "        element.appendChild(docLink);\n",
              "      }\n",
              "    </script>\n",
              "  </div>\n",
              "\n",
              "\n",
              "<div id=\"df-478b9d61-b1bc-442c-8f33-c86876cd83f7\">\n",
              "  <button class=\"colab-df-quickchart\" onclick=\"quickchart('df-478b9d61-b1bc-442c-8f33-c86876cd83f7')\"\n",
              "            title=\"Suggest charts\"\n",
              "            style=\"display:none;\">\n",
              "\n",
              "<svg xmlns=\"http://www.w3.org/2000/svg\" height=\"24px\"viewBox=\"0 0 24 24\"\n",
              "     width=\"24px\">\n",
              "    <g>\n",
              "        <path d=\"M19 3H5c-1.1 0-2 .9-2 2v14c0 1.1.9 2 2 2h14c1.1 0 2-.9 2-2V5c0-1.1-.9-2-2-2zM9 17H7v-7h2v7zm4 0h-2V7h2v10zm4 0h-2v-4h2v4z\"/>\n",
              "    </g>\n",
              "</svg>\n",
              "  </button>\n",
              "\n",
              "<style>\n",
              "  .colab-df-quickchart {\n",
              "      --bg-color: #E8F0FE;\n",
              "      --fill-color: #1967D2;\n",
              "      --hover-bg-color: #E2EBFA;\n",
              "      --hover-fill-color: #174EA6;\n",
              "      --disabled-fill-color: #AAA;\n",
              "      --disabled-bg-color: #DDD;\n",
              "  }\n",
              "\n",
              "  [theme=dark] .colab-df-quickchart {\n",
              "      --bg-color: #3B4455;\n",
              "      --fill-color: #D2E3FC;\n",
              "      --hover-bg-color: #434B5C;\n",
              "      --hover-fill-color: #FFFFFF;\n",
              "      --disabled-bg-color: #3B4455;\n",
              "      --disabled-fill-color: #666;\n",
              "  }\n",
              "\n",
              "  .colab-df-quickchart {\n",
              "    background-color: var(--bg-color);\n",
              "    border: none;\n",
              "    border-radius: 50%;\n",
              "    cursor: pointer;\n",
              "    display: none;\n",
              "    fill: var(--fill-color);\n",
              "    height: 32px;\n",
              "    padding: 0;\n",
              "    width: 32px;\n",
              "  }\n",
              "\n",
              "  .colab-df-quickchart:hover {\n",
              "    background-color: var(--hover-bg-color);\n",
              "    box-shadow: 0 1px 2px rgba(60, 64, 67, 0.3), 0 1px 3px 1px rgba(60, 64, 67, 0.15);\n",
              "    fill: var(--button-hover-fill-color);\n",
              "  }\n",
              "\n",
              "  .colab-df-quickchart-complete:disabled,\n",
              "  .colab-df-quickchart-complete:disabled:hover {\n",
              "    background-color: var(--disabled-bg-color);\n",
              "    fill: var(--disabled-fill-color);\n",
              "    box-shadow: none;\n",
              "  }\n",
              "\n",
              "  .colab-df-spinner {\n",
              "    border: 2px solid var(--fill-color);\n",
              "    border-color: transparent;\n",
              "    border-bottom-color: var(--fill-color);\n",
              "    animation:\n",
              "      spin 1s steps(1) infinite;\n",
              "  }\n",
              "\n",
              "  @keyframes spin {\n",
              "    0% {\n",
              "      border-color: transparent;\n",
              "      border-bottom-color: var(--fill-color);\n",
              "      border-left-color: var(--fill-color);\n",
              "    }\n",
              "    20% {\n",
              "      border-color: transparent;\n",
              "      border-left-color: var(--fill-color);\n",
              "      border-top-color: var(--fill-color);\n",
              "    }\n",
              "    30% {\n",
              "      border-color: transparent;\n",
              "      border-left-color: var(--fill-color);\n",
              "      border-top-color: var(--fill-color);\n",
              "      border-right-color: var(--fill-color);\n",
              "    }\n",
              "    40% {\n",
              "      border-color: transparent;\n",
              "      border-right-color: var(--fill-color);\n",
              "      border-top-color: var(--fill-color);\n",
              "    }\n",
              "    60% {\n",
              "      border-color: transparent;\n",
              "      border-right-color: var(--fill-color);\n",
              "    }\n",
              "    80% {\n",
              "      border-color: transparent;\n",
              "      border-right-color: var(--fill-color);\n",
              "      border-bottom-color: var(--fill-color);\n",
              "    }\n",
              "    90% {\n",
              "      border-color: transparent;\n",
              "      border-bottom-color: var(--fill-color);\n",
              "    }\n",
              "  }\n",
              "</style>\n",
              "\n",
              "  <script>\n",
              "    async function quickchart(key) {\n",
              "      const quickchartButtonEl =\n",
              "        document.querySelector('#' + key + ' button');\n",
              "      quickchartButtonEl.disabled = true;  // To prevent multiple clicks.\n",
              "      quickchartButtonEl.classList.add('colab-df-spinner');\n",
              "      try {\n",
              "        const charts = await google.colab.kernel.invokeFunction(\n",
              "            'suggestCharts', [key], {});\n",
              "      } catch (error) {\n",
              "        console.error('Error during call to suggestCharts:', error);\n",
              "      }\n",
              "      quickchartButtonEl.classList.remove('colab-df-spinner');\n",
              "      quickchartButtonEl.classList.add('colab-df-quickchart-complete');\n",
              "    }\n",
              "    (() => {\n",
              "      let quickchartButtonEl =\n",
              "        document.querySelector('#df-478b9d61-b1bc-442c-8f33-c86876cd83f7 button');\n",
              "      quickchartButtonEl.style.display =\n",
              "        google.colab.kernel.accessAllowed ? 'block' : 'none';\n",
              "    })();\n",
              "  </script>\n",
              "</div>\n",
              "    </div>\n",
              "  </div>\n"
            ]
          },
          "metadata": {},
          "execution_count": 3
        }
      ],
      "source": [
        "data\n",
        "# Смотрим наш дата фрейм"
      ]
    },
    {
      "cell_type": "code",
      "execution_count": 4,
      "metadata": {
        "colab": {
          "base_uri": "https://localhost:8080/"
        },
        "id": "jWzxiThDC6mf",
        "outputId": "59fe1bd2-87d1-4c82-e3ee-e94aa6532f44"
      },
      "outputs": [
        {
          "output_type": "stream",
          "name": "stdout",
          "text": [
            "<class 'pandas.core.frame.DataFrame'>\n",
            "RangeIndex: 61 entries, 0 to 60\n",
            "Data columns (total 5 columns):\n",
            " #   Column      Non-Null Count  Dtype \n",
            "---  ------      --------------  ----- \n",
            " 0   Unnamed: 0  61 non-null     int64 \n",
            " 1   location    61 non-null     object\n",
            " 2   town        61 non-null     object\n",
            " 3   mortality   61 non-null     int64 \n",
            " 4   hardness    61 non-null     int64 \n",
            "dtypes: int64(3), object(2)\n",
            "memory usage: 2.5+ KB\n"
          ]
        }
      ],
      "source": [
        "data.info()\n",
        "# Смотрим информацию"
      ]
    },
    {
      "cell_type": "markdown",
      "source": [
        "## Первичное изучение данных"
      ],
      "metadata": {
        "id": "QBsgpC85W1MC"
      }
    },
    {
      "cell_type": "markdown",
      "source": [
        "### Анализ категориальных столбцов"
      ],
      "metadata": {
        "id": "2FZQc74hW76t"
      }
    },
    {
      "cell_type": "markdown",
      "source": [
        "Категориальные столбцы:\n",
        "- `location`: местоположение, которое может принимать значение \"South\" или \"North\"\n",
        "- `town`: город, представленный текстовыми значениями"
      ],
      "metadata": {
        "id": "r06O5MZFaWtw"
      }
    },
    {
      "cell_type": "code",
      "source": [
        "# Посчитаем количество уникальных значений в столбце \"location\" и их доли:\n",
        "location_counts = data['location'].value_counts()\n",
        "location_percentage = data['location'].value_counts(normalize=True) * 100\n",
        "print(\"Уникальные значения в столбце 'location':\")\n",
        "print(location_counts)\n",
        "print()\n",
        "print(\"Доля каждой категории в столбце 'location':\")\n",
        "print(location_percentage)\n",
        "print()\n",
        "\n",
        "# Провериv соответствие уникальных значений в столбце \"location\" с описанием данных:\n",
        "expected_location_categories = ['South', 'North']\n",
        "if set(data['location'].unique()) == set(expected_location_categories):\n",
        "    print(\"Уникальные значения в столбце 'location' соответствуют описанию данных.\")\n",
        "else:\n",
        "    print(\"Уникальные значения в столбце 'location' не соответствуют описанию данных.\")"
      ],
      "metadata": {
        "id": "fxG7ImZfY34w",
        "outputId": "5fdc4d0b-ba3b-42ea-ad6c-c2eb59f71277",
        "colab": {
          "base_uri": "https://localhost:8080/"
        }
      },
      "execution_count": 5,
      "outputs": [
        {
          "output_type": "stream",
          "name": "stdout",
          "text": [
            "Уникальные значения в столбце 'location':\n",
            "North    35\n",
            "South    26\n",
            "Name: location, dtype: int64\n",
            "\n",
            "Доля каждой категории в столбце 'location':\n",
            "North    57.377049\n",
            "South    42.622951\n",
            "Name: location, dtype: float64\n",
            "\n",
            "Уникальные значения в столбце 'location' соответствуют описанию данных.\n"
          ]
        }
      ]
    },
    {
      "cell_type": "markdown",
      "source": [
        "### Анализ непрерывных величин\n",
        "\n",
        "\n"
      ],
      "metadata": {
        "id": "0eC5yfUpaLNQ"
      }
    },
    {
      "cell_type": "markdown",
      "source": [
        "Непрерывные величины:\n",
        "- `mortality`: смертность (целевая переменная), числовая величина\n",
        "- `hardness`: концентрация кальция в питьевой воде"
      ],
      "metadata": {
        "id": "u04SMQP-ahJp"
      }
    },
    {
      "cell_type": "code",
      "source": [
        "mortality_stats = data['mortality'].describe()\n",
        "hardness_stats = data['hardness'].describe()\n",
        "\n",
        "print(\"Статистика по столбцу 'mortality':\")\n",
        "print(mortality_stats)\n",
        "print(\"\\nСтатистика по столбцу 'hardness':\")\n",
        "print(hardness_stats)\n"
      ],
      "metadata": {
        "id": "qjjumW_6bLrE",
        "outputId": "124a4748-ca1b-4fc8-cd39-2f7264fc4f63",
        "colab": {
          "base_uri": "https://localhost:8080/"
        }
      },
      "execution_count": 6,
      "outputs": [
        {
          "output_type": "stream",
          "name": "stdout",
          "text": [
            "Статистика по столбцу 'mortality':\n",
            "count      61.000000\n",
            "mean     1524.147541\n",
            "std       187.668754\n",
            "min      1096.000000\n",
            "25%      1379.000000\n",
            "50%      1555.000000\n",
            "75%      1668.000000\n",
            "max      1987.000000\n",
            "Name: mortality, dtype: float64\n",
            "\n",
            "Статистика по столбцу 'hardness':\n",
            "count     61.000000\n",
            "mean      47.180328\n",
            "std       38.093966\n",
            "min        5.000000\n",
            "25%       14.000000\n",
            "50%       39.000000\n",
            "75%       75.000000\n",
            "max      138.000000\n",
            "Name: hardness, dtype: float64\n"
          ]
        }
      ]
    },
    {
      "cell_type": "markdown",
      "source": [
        "Анализ статистики столбца `mortality` позволяет предположить, что распределение данных в нем скорее всего не является нормальным. Это подтверждается небольшим отличием среднего значения от медианы, большим значением стандартного отклонения и широким диапазоном значений.\n",
        "\n",
        "\n",
        "Анализ статистики столбца `hardness` позволяет предположить, что распределение данных в нем скорее всего не является нормальным. Это подтверждается небольшим отличием среднего значения от медианы, большим значением стандартного отклонения и широким диапазоном значений."
      ],
      "metadata": {
        "id": "7PzfYDRciw_J"
      }
    },
    {
      "cell_type": "markdown",
      "source": [
        "## Корреляция"
      ],
      "metadata": {
        "id": "2HZFf09PtsqN"
      }
    },
    {
      "cell_type": "markdown",
      "source": [
        "Посмотрим на график взаимосвязи между жёсткостью воды и средней годовой смертностью"
      ],
      "metadata": {
        "id": "SavrR9vxtx58"
      }
    },
    {
      "cell_type": "code",
      "source": [
        "sns.jointplot(x='hardness', y ='mortality', data=data)"
      ],
      "metadata": {
        "id": "h7xn4Uq_t9Cz",
        "outputId": "b6520f03-600c-4ae8-81fe-7c180cd757d2",
        "colab": {
          "base_uri": "https://localhost:8080/",
          "height": 625
        }
      },
      "execution_count": 7,
      "outputs": [
        {
          "output_type": "execute_result",
          "data": {
            "text/plain": [
              "<seaborn.axisgrid.JointGrid at 0x7b916d494370>"
            ]
          },
          "metadata": {},
          "execution_count": 7
        },
        {
          "output_type": "display_data",
          "data": {
            "text/plain": [
              "<Figure size 600x600 with 3 Axes>"
            ],
            "image/png": "[encoded data removed]"
          },
          "metadata": {}
        }
      ]
    },
    {
      "cell_type": "code",
      "source": [
        "# Коэффициент корреляции Пирсона\n",
        "corr_p = data['hardness'].corr(data['mortality'], method='pearson')\n",
        "corr_p"
      ],
      "metadata": {
        "id": "vXlc8_frlN1l",
        "outputId": "810bbeda-61c6-4474-8d18-15fcb363653e",
        "colab": {
          "base_uri": "https://localhost:8080/"
        }
      },
      "execution_count": 8,
      "outputs": [
        {
          "output_type": "execute_result",
          "data": {
            "text/plain": [
              "-0.6548486232042463"
            ]
          },
          "metadata": {},
          "execution_count": 8
        }
      ]
    },
    {
      "cell_type": "markdown",
      "source": [
        "Результат коэффициента корреляции Пирсона (-0.6548486232042463) показывает наличие отрицательной корреляционной связи между переменными `hardness` (жесткость воды) и `mortality` (смертность).\n",
        "\n",
        "Отрицательное значение коэффициента корреляции означает, что при увеличении значений одной переменной, значения другой переменной снижаются. В данном случае, при увеличении жесткости воды, смертность снижается.\n",
        "\n",
        "Анализ коэффициента корреляции Пирсона может предоставить следующую информацию:\n",
        "- Корреляционная связь: Коэффициент -0.65 указывает на среднюю отрицательную корреляционную связь между жесткостью воды и смертностью. Это означает, что чем выше уровень жесткости воды, тем ниже смертность.\n",
        "- Сила связи: Значение коэффициента -0.65 говорит о том, что связь между переменными средней силы. Связь не является сильной, но она все равно значима и может быть использована для анализа и прогнозирования.\n",
        "- Направление связи: Отрицательное значение коэффициента означает, что при увеличении одной переменной (жесткости воды), другая переменная (смертность) снижается."
      ],
      "metadata": {
        "id": "PuaDYCW3qmJH"
      }
    },
    {
      "cell_type": "code",
      "source": [
        "# Коэффициент корреляции Спирмена\n",
        "corr_s = data['hardness'].corr(data['mortality'], method='spearman')\n",
        "corr_s"
      ],
      "metadata": {
        "id": "zg3BGdNxlWsg",
        "outputId": "b803c048-03f6-4792-d49c-e87d9f6e6c7e",
        "colab": {
          "base_uri": "https://localhost:8080/"
        }
      },
      "execution_count": 9,
      "outputs": [
        {
          "output_type": "execute_result",
          "data": {
            "text/plain": [
              "-0.6316646189166502"
            ]
          },
          "metadata": {},
          "execution_count": 9
        }
      ]
    },
    {
      "cell_type": "markdown",
      "source": [
        "Близкое значение между коэффициентами корреляции Пирсона и Спирмена может быть обусловлено несколькими факторами:\n",
        "\n",
        "1. Распределение данных: Коэффициент корреляции Пирсона предполагает линейную связь между переменными и зависит от распределения данных. Если данные имеют близкое к линейному распределение, то коэффициент корреляции Пирсона будет близким к коэффициенту корреляции Спирмена. В данном случае, возможно, между переменными \"hardness\" и \"mortality\" существует линейная связь, что приводит к близким значениям коэффициентов.\n",
        "\n",
        "2. Количество выбросов: Коэффициент корреляции Спирмена более устойчив к выбросам, чем коэффициент корреляции Пирсона. Если в данных присутствуют выбросы, то коэффициент корреляции Пирсона может быть более сильно искажен, в то время как коэффициент корреляции Спирмена будет менее подвержен влиянию выбросов. Возможно, в данном наборе данных выбросы не сильно искажают связь, поэтому значение коэффициента корреляции Пирсона и Спирмена близко."
      ],
      "metadata": {
        "id": "2ijXjXcbv7G6"
      }
    },
    {
      "cell_type": "markdown",
      "source": [
        "## Регрессия"
      ],
      "metadata": {
        "id": "wqXGIJJZzDer"
      }
    },
    {
      "cell_type": "code",
      "source": [
        "from sklearn.model_selection import train_test_split\n",
        "from sklearn.linear_model import LinearRegression\n",
        "\n",
        "# Матрица признаков `X` и вектор целевой переменной `y`.\n",
        "X = data[['hardness']]\n",
        "y = data['mortality']\n",
        "\n",
        "# Разделение данных на обучающую и тестовую выборки\n",
        "X_train, X_test, y_train, y_test = train_test_split(X, y, random_state=42)\n",
        "\n",
        "# Создание объекта модели линейной регрессии\n",
        "model = LinearRegression()\n",
        "\n",
        "# Обучение модели на обучающей выборке\n",
        "model.fit(X_train, y_train)\n",
        "\n",
        "# Коэффициенты регрессии\n",
        "print('Coefficients:', model.coef_)\n",
        "\n",
        "# Пересечение с осью y (то есть y, когда X=0)\n",
        "print('Intercept:', model.intercept_)"
      ],
      "metadata": {
        "id": "zmGezWv2lYzK",
        "outputId": "1a25c436-f519-4a92-bb34-2f939c0127c6",
        "colab": {
          "base_uri": "https://localhost:8080/"
        }
      },
      "execution_count": 10,
      "outputs": [
        {
          "output_type": "stream",
          "name": "stdout",
          "text": [
            "Coefficients: [-3.31576799]\n",
            "Intercept: 1678.9405326885008\n"
          ]
        }
      ]
    },
    {
      "cell_type": "markdown",
      "source": [
        "Результаты модели линейной регрессии можно проанализировать следующим образом:\n",
        "\n",
        "1. Коэффициенты регрессии (Coefficients):\n",
        "   - В данном случае получен один коэффициент регрессии, равный -3.31576799. Коэффициент регрессии показывает, как изменение одной единицы независимой переменной влияет на зависимую переменную. В данном случае, увеличение значения независимой переменной на 1 сопровождается уменьшением зависимой переменной примерно на 3.316.\n",
        "\n",
        "2. Пересечение с осью y (Intercept):\n",
        "   - Значение пересечения с осью y, то есть значение зависимой переменной, когда значение независимой переменной равно нулю, составляет 1678.94. Это означает, что при отсутствии независимых переменных значение зависимой переменной будет около 1679.\n",
        "\n",
        "Оценка значений коэффициентов и пересечения с осью y помогают понять, как независимые переменные влияют на зависимую переменную в модели линейной регрессии."
      ],
      "metadata": {
        "id": "ds7vsgCZqOn2"
      }
    },
    {
      "cell_type": "code",
      "source": [
        "# Получение прогнозов на тестовой выборке\n",
        "y_pred = model.predict(X_test)\n",
        "y_pred"
      ],
      "metadata": {
        "id": "jnCGubNBmMDa",
        "outputId": "aa559377-8b30-42cb-f50a-797317f3b2eb",
        "colab": {
          "base_uri": "https://localhost:8080/"
        }
      },
      "execution_count": 11,
      "outputs": [
        {
          "output_type": "execute_result",
          "data": {
            "text/plain": [
              "array([1330.78489376, 1645.78285279, 1632.51978083, 1533.04674114,\n",
              "       1420.31062948, 1612.62517289, 1237.94339004, 1430.25793345,\n",
              "       1609.3094049 , 1659.04592475, 1483.31022129, 1410.36332551,\n",
              "       1549.62558108, 1632.51978083, 1443.52100541, 1549.62558108])"
            ]
          },
          "metadata": {},
          "execution_count": 11
        }
      ]
    },
    {
      "cell_type": "code",
      "source": [
        "y_test"
      ],
      "metadata": {
        "id": "xYxqL2vao26t",
        "outputId": "30c71cfd-c810-4206-eb85-29d07380f5fe",
        "colab": {
          "base_uri": "https://localhost:8080/"
        }
      },
      "execution_count": 12,
      "outputs": [
        {
          "output_type": "execute_result",
          "data": {
            "text/plain": [
              "0     1247\n",
              "5     1558\n",
              "46    1495\n",
              "31    1702\n",
              "13    1307\n",
              "55    1625\n",
              "34    1259\n",
              "49    1587\n",
              "12    1519\n",
              "40    1696\n",
              "33    1309\n",
              "59    1485\n",
              "16    1555\n",
              "3     1800\n",
              "53    1709\n",
              "17    1428\n",
              "Name: mortality, dtype: int64"
            ]
          },
          "metadata": {},
          "execution_count": 12
        }
      ]
    },
    {
      "cell_type": "markdown",
      "source": [
        "Построим `scatter plot` (диаграмму рассеяния) с линейной линией, предсказывающей значения переменной `y`."
      ],
      "metadata": {
        "id": "RBSkk7z2D9gg"
      }
    },
    {
      "cell_type": "code",
      "source": [
        "plt.scatter(X_test, y_test)\n",
        "plt.plot(X_test, y_pred, c='r')\n",
        "plt.xlabel(\"hardness\")\n",
        "plt.ylabel(\"mortality\")"
      ],
      "metadata": {
        "id": "tsHZlTIPsp2N",
        "outputId": "e35c4097-872d-4bef-c5ba-b97561d5818b",
        "colab": {
          "base_uri": "https://localhost:8080/",
          "height": 467
        }
      },
      "execution_count": 21,
      "outputs": [
        {
          "output_type": "execute_result",
          "data": {
            "text/plain": [
              "Text(0, 0.5, 'mortality')"
            ]
          },
          "metadata": {},
          "execution_count": 21
        },
        {
          "output_type": "display_data",
          "data": {
            "text/plain": [
              "<Figure size 640x480 with 1 Axes>"
            ],
            "image/png": "[encoded data removed]"
          },
          "metadata": {}
        }
      ]
    },
    {
      "cell_type": "code",
      "source": [
        "# Расчет коэффициента детерминации\n",
        "import sklearn.metrics as metrics\n",
        "print(f'R2: {metrics.r2_score(y_test, y_pred)}')"
      ],
      "metadata": {
        "id": "gGXuOwOhxavj",
        "outputId": "6679f80d-515d-4b00-d117-466dfca1cce5",
        "colab": {
          "base_uri": "https://localhost:8080/"
        }
      },
      "execution_count": 17,
      "outputs": [
        {
          "output_type": "stream",
          "name": "stdout",
          "text": [
            "R2: 0.410213439338294\n"
          ]
        }
      ]
    },
    {
      "cell_type": "markdown",
      "source": [
        "Посмотрим ещё на остатки"
      ],
      "metadata": {
        "id": "bLrQVrEGED8b"
      }
    },
    {
      "cell_type": "code",
      "source": [
        "diff = y_test - y_pred\n",
        "diff.describe()"
      ],
      "metadata": {
        "id": "5jAA_vtNGG1v",
        "outputId": "1dbaf0d6-37fa-4f09-c14f-ac4dca89ace4",
        "colab": {
          "base_uri": "https://localhost:8080/"
        }
      },
      "execution_count": 19,
      "outputs": [
        {
          "output_type": "execute_result",
          "data": {
            "text/plain": [
              "count     16.000000\n",
              "mean       6.275486\n",
              "std      131.246049\n",
              "min     -174.310221\n",
              "25%      -96.059711\n",
              "50%        8.874623\n",
              "75%       95.163023\n",
              "max      265.478995\n",
              "Name: mortality, dtype: float64"
            ]
          },
          "metadata": {},
          "execution_count": 19
        }
      ]
    },
    {
      "cell_type": "code",
      "source": [
        "sns.histplot((y_test-y_pred), kde=True, bins=20)"
      ],
      "metadata": {
        "id": "QoMzeg2O1Ljr",
        "outputId": "cbed5496-651b-4b32-89aa-83df339c78c8",
        "colab": {
          "base_uri": "https://localhost:8080/",
          "height": 467
        }
      },
      "execution_count": 15,
      "outputs": [
        {
          "output_type": "execute_result",
          "data": {
            "text/plain": [
              "<Axes: xlabel='mortality', ylabel='Count'>"
            ]
          },
          "metadata": {},
          "execution_count": 15
        },
        {
          "output_type": "display_data",
          "data": {
            "text/plain": [
              "<Figure size 640x480 with 1 Axes>"
            ],
            "image/png": "[encoded data removed]"
          },
          "metadata": {}
        }
      ]
    },
    {
      "cell_type": "code",
      "source": [
        "pd.DataFrame(model.coef_ , X.columns, columns=['Коэффициенты'])"
      ],
      "metadata": {
        "id": "DekDWqSVEyrN",
        "colab": {
          "base_uri": "https://localhost:8080/",
          "height": 81
        },
        "outputId": "ef5b996e-7f3a-4dad-a0ff-1c033072d119"
      },
      "execution_count": 16,
      "outputs": [
        {
          "output_type": "execute_result",
          "data": {
            "text/plain": [
              "          Коэффициенты\n",
              "hardness     -3.315768"
            ],
            "text/html": [
              "\n",
              "  <div id=\"df-c81a454b-d6a7-4c4b-866f-61fc9123fab2\" class=\"colab-df-container\">\n",
              "    <div>\n",
              "<style scoped>\n",
              "    .dataframe tbody tr th:only-of-type {\n",
              "        vertical-align: middle;\n",
              "    }\n",
              "\n",
              "    .dataframe tbody tr th {\n",
              "        vertical-align: top;\n",
              "    }\n",
              "\n",
              "    .dataframe thead th {\n",
              "        text-align: right;\n",
              "    }\n",
              "</style>\n",
              "<table border=\"1\" class=\"dataframe\">\n",
              "  <thead>\n",
              "    <tr style=\"text-align: right;\">\n",
              "      <th></th>\n",
              "      <th>Коэффициенты</th>\n",
              "    </tr>\n",
              "  </thead>\n",
              "  <tbody>\n",
              "    <tr>\n",
              "      <th>hardness</th>\n",
              "      <td>-3.315768</td>\n",
              "    </tr>\n",
              "  </tbody>\n",
              "</table>\n",
              "</div>\n",
              "    <div class=\"colab-df-buttons\">\n",
              "\n",
              "  <div class=\"colab-df-container\">\n",
              "    <button class=\"colab-df-convert\" onclick=\"convertToInteractive('df-c81a454b-d6a7-4c4b-866f-61fc9123fab2')\"\n",
              "            title=\"Convert this dataframe to an interactive table.\"\n",
              "            style=\"display:none;\">\n",
              "\n",
              "  <svg xmlns=\"http://www.w3.org/2000/svg\" height=\"24px\" viewBox=\"0 -960 960 960\">\n",
              "    <path d=\"M120-120v-720h720v720H120Zm60-500h600v-160H180v160Zm220 220h160v-160H400v160Zm0 220h160v-160H400v160ZM180-400h160v-160H180v160Zm440 0h160v-160H620v160ZM180-180h160v-160H180v160Zm440 0h160v-160H620v160Z\"/>\n",
              "  </svg>\n",
              "    </button>\n",
              "\n",
              "  <style>\n",
              "    .colab-df-container {\n",
              "      display:flex;\n",
              "      gap: 12px;\n",
              "    }\n",
              "\n",
              "    .colab-df-convert {\n",
              "      background-color: #E8F0FE;\n",
              "      border: none;\n",
              "      border-radius: 50%;\n",
              "      cursor: pointer;\n",
              "      display: none;\n",
              "      fill: #1967D2;\n",
              "      height: 32px;\n",
              "      padding: 0 0 0 0;\n",
              "      width: 32px;\n",
              "    }\n",
              "\n",
              "    .colab-df-convert:hover {\n",
              "      background-color: #E2EBFA;\n",
              "      box-shadow: 0px 1px 2px rgba(60, 64, 67, 0.3), 0px 1px 3px 1px rgba(60, 64, 67, 0.15);\n",
              "      fill: #174EA6;\n",
              "    }\n",
              "\n",
              "    .colab-df-buttons div {\n",
              "      margin-bottom: 4px;\n",
              "    }\n",
              "\n",
              "    [theme=dark] .colab-df-convert {\n",
              "      background-color: #3B4455;\n",
              "      fill: #D2E3FC;\n",
              "    }\n",
              "\n",
              "    [theme=dark] .colab-df-convert:hover {\n",
              "      background-color: #434B5C;\n",
              "      box-shadow: 0px 1px 3px 1px rgba(0, 0, 0, 0.15);\n",
              "      filter: drop-shadow(0px 1px 2px rgba(0, 0, 0, 0.3));\n",
              "      fill: #FFFFFF;\n",
              "    }\n",
              "  </style>\n",
              "\n",
              "    <script>\n",
              "      const buttonEl =\n",
              "        document.querySelector('#df-c81a454b-d6a7-4c4b-866f-61fc9123fab2 button.colab-df-convert');\n",
              "      buttonEl.style.display =\n",
              "        google.colab.kernel.accessAllowed ? 'block' : 'none';\n",
              "\n",
              "      async function convertToInteractive(key) {\n",
              "        const element = document.querySelector('#df-c81a454b-d6a7-4c4b-866f-61fc9123fab2');\n",
              "        const dataTable =\n",
              "          await google.colab.kernel.invokeFunction('convertToInteractive',\n",
              "                                                    [key], {});\n",
              "        if (!dataTable) return;\n",
              "\n",
              "        const docLinkHtml = 'Like what you see? Visit the ' +\n",
              "          '<a target=\"_blank\" href=https://colab.research.google.com/notebooks/data_table.ipynb>data table notebook</a>'\n",
              "          + ' to learn more about interactive tables.';\n",
              "        element.innerHTML = '';\n",
              "        dataTable['output_type'] = 'display_data';\n",
              "        await google.colab.output.renderOutput(dataTable, element);\n",
              "        const docLink = document.createElement('div');\n",
              "        docLink.innerHTML = docLinkHtml;\n",
              "        element.appendChild(docLink);\n",
              "      }\n",
              "    </script>\n",
              "  </div>\n",
              "\n",
              "    </div>\n",
              "  </div>\n"
            ]
          },
          "metadata": {},
          "execution_count": 16
        }
      ]
    },
    {
      "cell_type": "code",
      "source": [
        "# Разбиение датафрейма на поднаборы по значению столбца \"location\"\n",
        "df_south = data[data['location'] == 'South']\n",
        "df_north = data[data['location'] == 'North']\n",
        "df_south.info()"
      ],
      "metadata": {
        "id": "GePKjKxhLRL5",
        "outputId": "b9478254-f532-431a-a02d-f2c450e9ba9b",
        "colab": {
          "base_uri": "https://localhost:8080/"
        }
      },
      "execution_count": 35,
      "outputs": [
        {
          "output_type": "stream",
          "name": "stdout",
          "text": [
            "<class 'pandas.core.frame.DataFrame'>\n",
            "Int64Index: 26 entries, 0 to 59\n",
            "Data columns (total 5 columns):\n",
            " #   Column      Non-Null Count  Dtype \n",
            "---  ------      --------------  ----- \n",
            " 0   Unnamed: 0  26 non-null     int64 \n",
            " 1   location    26 non-null     object\n",
            " 2   town        26 non-null     object\n",
            " 3   mortality   26 non-null     int64 \n",
            " 4   hardness    26 non-null     int64 \n",
            "dtypes: int64(3), object(2)\n",
            "memory usage: 1.2+ KB\n"
          ]
        }
      ]
    },
    {
      "cell_type": "code",
      "source": [
        "df_north.info()"
      ],
      "metadata": {
        "id": "7pZlIPVmMDZ9",
        "outputId": "b134aa93-0bb3-46dd-bacf-a41f7ed06a63",
        "colab": {
          "base_uri": "https://localhost:8080/"
        }
      },
      "execution_count": 36,
      "outputs": [
        {
          "output_type": "stream",
          "name": "stdout",
          "text": [
            "<class 'pandas.core.frame.DataFrame'>\n",
            "Int64Index: 35 entries, 1 to 60\n",
            "Data columns (total 5 columns):\n",
            " #   Column      Non-Null Count  Dtype \n",
            "---  ------      --------------  ----- \n",
            " 0   Unnamed: 0  35 non-null     int64 \n",
            " 1   location    35 non-null     object\n",
            " 2   town        35 non-null     object\n",
            " 3   mortality   35 non-null     int64 \n",
            " 4   hardness    35 non-null     int64 \n",
            "dtypes: int64(3), object(2)\n",
            "memory usage: 1.6+ KB\n"
          ]
        }
      ]
    },
    {
      "cell_type": "code",
      "source": [
        "mortality_stats = data['mortality'].describe()\n",
        "mortality_stats_df_south = df_south['mortality'].describe()\n",
        "mortality_stats_df_north = df_north['mortality'].describe()\n",
        "\n",
        "print(\"Статистика по столбцу 'mortality' общяя:\")\n",
        "print(mortality_stats)\n",
        "print(\"\\nСтатистика по столбцу 'mortality' для South:\")\n",
        "print(mortality_stats_df_south)\n",
        "print(\"\\nСтатистика по столбцу 'mortality' для North:\")\n",
        "print(mortality_stats_df_north)"
      ],
      "metadata": {
        "id": "V1WDs0OANY4z",
        "outputId": "f1ef0e7b-8a41-4480-b499-dd33f6cdf7bb",
        "colab": {
          "base_uri": "https://localhost:8080/"
        }
      },
      "execution_count": 48,
      "outputs": [
        {
          "output_type": "stream",
          "name": "stdout",
          "text": [
            "Статистика по столбцу 'mortality' общяя:\n",
            "count      61.000000\n",
            "mean     1524.147541\n",
            "std       187.668754\n",
            "min      1096.000000\n",
            "25%      1379.000000\n",
            "50%      1555.000000\n",
            "75%      1668.000000\n",
            "max      1987.000000\n",
            "Name: mortality, dtype: float64\n",
            "\n",
            "Статистика по столбцу 'mortality' для South:\n",
            "count      26.000000\n",
            "mean     1376.807692\n",
            "std       140.269175\n",
            "min      1096.000000\n",
            "25%      1259.250000\n",
            "50%      1364.000000\n",
            "75%      1485.750000\n",
            "max      1627.000000\n",
            "Name: mortality, dtype: float64\n",
            "\n",
            "Статистика по столбцу 'mortality' для North:\n",
            "count      35.000000\n",
            "mean     1633.600000\n",
            "std       136.936911\n",
            "min      1378.000000\n",
            "25%      1557.500000\n",
            "50%      1637.000000\n",
            "75%      1718.000000\n",
            "max      1987.000000\n",
            "Name: mortality, dtype: float64\n"
          ]
        }
      ]
    },
    {
      "cell_type": "code",
      "source": [
        "hardness_stats = data['hardness'].describe()\n",
        "hardness_stats_df_south = df_south['hardness'].describe()\n",
        "hardness_stats_df_north = df_north['hardness'].describe()\n",
        "\n",
        "print(\"\\nСтатистика по столбцу 'hardness' общая:\")\n",
        "print(hardness_stats)\n",
        "print(\"\\nСтатистика по столбцу 'hardness' для South:\")\n",
        "print(hardness_stats_df_south)\n",
        "print(\"\\nСтатистика по столбцу 'hardness' для North:\")\n",
        "print(hardness_stats_df_north)"
      ],
      "metadata": {
        "id": "K_T0SdRSQsk_",
        "outputId": "b519cf4f-8e91-4018-eda0-2da49990347b",
        "colab": {
          "base_uri": "https://localhost:8080/"
        }
      },
      "execution_count": 50,
      "outputs": [
        {
          "output_type": "stream",
          "name": "stdout",
          "text": [
            "\n",
            "Статистика по столбцу 'hardness' общая:\n",
            "count     61.000000\n",
            "mean      47.180328\n",
            "std       38.093966\n",
            "min        5.000000\n",
            "25%       14.000000\n",
            "50%       39.000000\n",
            "75%       75.000000\n",
            "max      138.000000\n",
            "Name: hardness, dtype: float64\n",
            "\n",
            "Статистика по столбцу 'hardness' для South:\n",
            "count     26.000000\n",
            "mean      69.769231\n",
            "std       40.360682\n",
            "min        5.000000\n",
            "25%       40.250000\n",
            "50%       75.500000\n",
            "75%       99.750000\n",
            "max      138.000000\n",
            "Name: hardness, dtype: float64\n",
            "\n",
            "Статистика по столбцу 'hardness' для North:\n",
            "count    35.000000\n",
            "mean     30.400000\n",
            "std      26.134494\n",
            "min       6.000000\n",
            "25%      12.500000\n",
            "50%      17.000000\n",
            "75%      44.000000\n",
            "max      94.000000\n",
            "Name: hardness, dtype: float64\n"
          ]
        }
      ]
    },
    {
      "cell_type": "markdown",
      "source": [
        "Сравнивая статистику по общим значениям со статистикой для каждого округа, мы видим следующие различия:\n",
        "\n",
        "- `mortality`: Среднее значение смертности для South (1376.81) ниже, чем для общих значений (1524.15), что может указывать на то, что в южных округах смертность ниже.\n",
        "- `hardness`: Среднее значение жесткости воды для South (69.77) выше, чем в общих значениях (47.18), что может указывать на то, что в южных округах вода более жесткая.\n",
        "\n",
        "- На основании этих результатов можно предположить, что в южных округах вода обычно более жесткая (высокий уровень минералов), чем в северных округах, а уровень смертности южных округах ниже, чем в северных округах."
      ],
      "metadata": {
        "id": "2xpILSc-QBTM"
      }
    },
    {
      "cell_type": "code",
      "source": [
        "sns.jointplot(x='hardness', y ='mortality', data=df_south)"
      ],
      "metadata": {
        "id": "yrvbrQqfNb5C",
        "outputId": "318686bc-1ceb-4d31-f573-0e14eef19c9a",
        "colab": {
          "base_uri": "https://localhost:8080/",
          "height": 625
        }
      },
      "execution_count": 52,
      "outputs": [
        {
          "output_type": "execute_result",
          "data": {
            "text/plain": [
              "<seaborn.axisgrid.JointGrid at 0x7b91664b0f40>"
            ]
          },
          "metadata": {},
          "execution_count": 52
        },
        {
          "output_type": "display_data",
          "data": {
            "text/plain": [
              "<Figure size 600x600 with 3 Axes>"
            ],
            "image/png": "[encoded data removed]"
          },
          "metadata": {}
        }
      ]
    },
    {
      "cell_type": "code",
      "source": [
        "sns.jointplot(x='hardness', y ='mortality', data=df_north)"
      ],
      "metadata": {
        "id": "TkPPCcyMTSJI",
        "outputId": "b59300ba-cc2a-4f8c-b111-6ab9c89cb9cb",
        "colab": {
          "base_uri": "https://localhost:8080/",
          "height": 625
        }
      },
      "execution_count": 53,
      "outputs": [
        {
          "output_type": "execute_result",
          "data": {
            "text/plain": [
              "<seaborn.axisgrid.JointGrid at 0x7b91664b01f0>"
            ]
          },
          "metadata": {},
          "execution_count": 53
        },
        {
          "output_type": "display_data",
          "data": {
            "text/plain": [
              "<Figure size 600x600 with 3 Axes>"
            ],
            "image/png": "[encoded data removed]"
          },
          "metadata": {}
        }
      ]
    },
    {
      "cell_type": "code",
      "source": [
        "# Коэффициент корреляции Пирсона для South\n",
        "corr_p_df_south = df_south['hardness'].corr(df_south['mortality'], method='pearson')\n",
        "corr_p_df_south"
      ],
      "metadata": {
        "id": "gMN2ijPATjcy",
        "outputId": "ec8ed78e-73bf-459a-f5e5-9fc2d395f58c",
        "colab": {
          "base_uri": "https://localhost:8080/"
        }
      },
      "execution_count": 66,
      "outputs": [
        {
          "output_type": "execute_result",
          "data": {
            "text/plain": [
              "-0.6021532715484156"
            ]
          },
          "metadata": {},
          "execution_count": 66
        }
      ]
    },
    {
      "cell_type": "code",
      "source": [
        "# Коэффициент корреляции Пирсона для North\n",
        "corr_p_df_north = df_north['hardness'].corr(df_north['mortality'], method='pearson')\n",
        "corr_p_df_north"
      ],
      "metadata": {
        "id": "wny2d2v2T0Qz",
        "outputId": "44908040-e67a-426f-aa18-5f9484ac9b7a",
        "colab": {
          "base_uri": "https://localhost:8080/"
        }
      },
      "execution_count": 65,
      "outputs": [
        {
          "output_type": "execute_result",
          "data": {
            "text/plain": [
              "-0.3685978383288718"
            ]
          },
          "metadata": {},
          "execution_count": 65
        }
      ]
    },
    {
      "cell_type": "code",
      "source": [
        "# Коэффициент корреляции Спирмена для South\n",
        "corr_s_df_south = df_south['hardness'].corr(df_south['mortality'], method='spearman')\n",
        "corr_s_df_south"
      ],
      "metadata": {
        "id": "-6uyLn2AVpfb",
        "outputId": "16a757aa-47df-4519-9095-811badff9a80",
        "colab": {
          "base_uri": "https://localhost:8080/"
        }
      },
      "execution_count": 64,
      "outputs": [
        {
          "output_type": "execute_result",
          "data": {
            "text/plain": [
              "-0.5957229185013566"
            ]
          },
          "metadata": {},
          "execution_count": 64
        }
      ]
    },
    {
      "cell_type": "code",
      "source": [
        "# Коэффициент корреляции Спирмена для North\n",
        "corr_s_df_north = df_north['hardness'].corr(df_north['mortality'], method='spearman')\n",
        "corr_s_df_north"
      ],
      "metadata": {
        "id": "flqUfJhBVZEG",
        "outputId": "2d3b93ed-2869-44fc-f2eb-91693b38bb9a",
        "colab": {
          "base_uri": "https://localhost:8080/"
        }
      },
      "execution_count": 63,
      "outputs": [
        {
          "output_type": "execute_result",
          "data": {
            "text/plain": [
              "-0.4042078956511175"
            ]
          },
          "metadata": {},
          "execution_count": 63
        }
      ]
    }
  ],
  "metadata": {
    "colab": {
      "provenance": [],
      "toc_visible": true,
      "include_colab_link": true
    },
    "kernelspec": {
      "display_name": "Python 3",
      "name": "python3"
    },
    "language_info": {
      "codemirror_mode": {
        "name": "ipython",
        "version": 3
      },
      "file_extension": ".py",
      "mimetype": "text/x-python",
      "name": "python",
      "nbconvert_exporter": "python",
      "pygments_lexer": "ipython3",
      "version": "3.10.8"
    }
  },
  "nbformat": 4,
  "nbformat_minor": 0
}