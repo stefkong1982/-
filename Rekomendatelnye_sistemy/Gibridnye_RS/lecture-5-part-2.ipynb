{
  "cells": [
    {
      "cell_type": "markdown",
      "metadata": {
        "id": "view-in-github",
        "colab_type": "text"
      },
      "source": [
        "<a href=\"https://colab.research.google.com/github/stefkong1982/netology.ru/blob/Master/Rekomendatelnye_sistemy/Gibridnye_RS/lecture-5-part-2.ipynb\" target=\"_parent\"><img src=\"https://colab.research.google.com/assets/colab-badge.svg\" alt=\"Open In Colab\"/></a>"
      ]
    },
    {
      "cell_type": "code",
      "execution_count": null,
      "metadata": {
        "id": "Te_E9ml9-Tuj",
        "outputId": "367c382d-e6ee-427e-fe76-8addaaf94ba7"
      },
      "outputs": [
        {
          "name": "stderr",
          "output_type": "stream",
          "text": [
            "/Users/aleksandrkondraskin/anaconda3/lib/python3.6/site-packages/lightfm/_lightfm_fast.py:9: UserWarning: LightFM was compiled without OpenMP support. Only a single thread will be used.\n",
            "  warnings.warn('LightFM was compiled without OpenMP support. '\n"
          ]
        }
      ],
      "source": [
        "import numpy as np\n",
        "\n",
        "from lightfm.datasets import fetch_movielens\n",
        "\n",
        "movielens = fetch_movielens()"
      ]
    },
    {
      "cell_type": "code",
      "execution_count": null,
      "metadata": {
        "id": "aoIlir2r-Tuk",
        "outputId": "5800b489-e995-4847-aafe-e73a9cc3756f"
      },
      "outputs": [
        {
          "name": "stdout",
          "output_type": "stream",
          "text": [
            "train <class 'scipy.sparse.coo.coo_matrix'> (943, 1682)\n",
            "test <class 'scipy.sparse.coo.coo_matrix'> (943, 1682)\n",
            "item_features <class 'scipy.sparse.csr.csr_matrix'> (1682, 1682)\n",
            "item_feature_labels <class 'numpy.ndarray'> (1682,)\n",
            "item_labels <class 'numpy.ndarray'> (1682,)\n"
          ]
        }
      ],
      "source": [
        "for key, value in movielens.items():\n",
        "    print(key, type(value), value.shape)"
      ]
    },
    {
      "cell_type": "code",
      "execution_count": null,
      "metadata": {
        "id": "UN85laAI-Tul"
      },
      "outputs": [],
      "source": [
        "train = movielens['train']\n",
        "test = movielens['test']"
      ]
    },
    {
      "cell_type": "code",
      "execution_count": null,
      "metadata": {
        "id": "xJ9DLXpZ-Tul",
        "outputId": "a18a754f-f973-48d4-af95-9f32cf394b0f"
      },
      "outputs": [
        {
          "name": "stdout",
          "output_type": "stream",
          "text": [
            "Precision: train 0.43, test 0.13.\n"
          ]
        }
      ],
      "source": [
        "from lightfm import LightFM\n",
        "from lightfm.evaluation import precision_at_k\n",
        "from lightfm.evaluation import auc_score\n",
        "\n",
        "model = LightFM()\n",
        "model.fit(train, epochs=10)\n",
        "\n",
        "train_precision = precision_at_k(model, train, k=10).mean()\n",
        "test_precision = precision_at_k(model, test, k=10, train_interactions=train).mean()\n",
        "\n",
        "print('Precision: train %.2f, test %.2f.' % (train_precision, test_precision))"
      ]
    },
    {
      "cell_type": "code",
      "execution_count": null,
      "metadata": {
        "id": "NKxkEBp--Tul",
        "outputId": "af558f7c-0ce4-4866-f16f-7f4380f82b31"
      },
      "outputs": [
        {
          "name": "stdout",
          "output_type": "stream",
          "text": [
            "Precision: train 0.61, test 0.23.\n"
          ]
        }
      ],
      "source": [
        "model = LightFM(learning_rate=0.05, loss='warp')\n",
        "\n",
        "model.fit_partial(train, epochs=10)\n",
        "\n",
        "train_precision = precision_at_k(model, train, k=10).mean()\n",
        "test_precision = precision_at_k(model, test, k=10, train_interactions=train).mean()\n",
        "\n",
        "print('Precision: train %.2f, test %.2f.' % (train_precision, test_precision))"
      ]
    },
    {
      "cell_type": "code",
      "execution_count": null,
      "metadata": {
        "id": "A3satH5_-Tum"
      },
      "outputs": [],
      "source": [
        "def sample_recommendation(model, data, user_ids):\n",
        "    n_users, n_items = data['train'].shape\n",
        "    for user_id in user_ids:\n",
        "        known_positives = data['item_labels'][data['train'].tocsr()\n",
        "                          [user_id].indices]\n",
        "\n",
        "        scores = model.predict(user_id, np.arange(n_items))\n",
        "\n",
        "        top_items = data['item_labels'][np.argsort(-scores)]\n",
        "\n",
        "        print(\"User %s\" % user_id)\n",
        "        print(\"     Known positives:\")\n",
        "\n",
        "        for x in known_positives[:3]:\n",
        "            print(\"        %s\" % x)\n",
        "\n",
        "        print(\"     Recommended:\")\n",
        "\n",
        "        for x in top_items[:3]:\n",
        "            print(\"        %s\" % x)"
      ]
    },
    {
      "cell_type": "code",
      "execution_count": null,
      "metadata": {
        "id": "byhQgvAM-Tun",
        "outputId": "994f6e28-0ce4-4066-d460-928ac7ae9454"
      },
      "outputs": [
        {
          "name": "stdout",
          "output_type": "stream",
          "text": [
            "User 10\n",
            "     Known positives:\n",
            "        Babe (1995)\n",
            "        Dead Man Walking (1995)\n",
            "        Seven (Se7en) (1995)\n",
            "     Recommended:\n",
            "        Raiders of the Lost Ark (1981)\n",
            "        Star Wars (1977)\n",
            "        Return of the Jedi (1983)\n",
            "User 25\n",
            "     Known positives:\n",
            "        Toy Story (1995)\n",
            "        Twelve Monkeys (1995)\n",
            "        Dead Man Walking (1995)\n",
            "     Recommended:\n",
            "        Scream (1996)\n",
            "        Contact (1997)\n",
            "        Fargo (1996)\n",
            "User 451\n",
            "     Known positives:\n",
            "        Twelve Monkeys (1995)\n",
            "        Babe (1995)\n",
            "        Postino, Il (1994)\n",
            "     Recommended:\n",
            "        Raiders of the Lost Ark (1981)\n",
            "        Amadeus (1984)\n",
            "        Star Wars (1977)\n"
          ]
        }
      ],
      "source": [
        "sample_recommendation(model, movielens, [10, 25, 451])"
      ]
    },
    {
      "cell_type": "code",
      "execution_count": null,
      "metadata": {
        "id": "4MaYUHei-Tun"
      },
      "outputs": [],
      "source": []
    }
  ],
  "metadata": {
    "kernelspec": {
      "display_name": "Python 3",
      "language": "python",
      "name": "python3"
    },
    "language_info": {
      "codemirror_mode": {
        "name": "ipython",
        "version": 3
      },
      "file_extension": ".py",
      "mimetype": "text/x-python",
      "name": "python",
      "nbconvert_exporter": "python",
      "pygments_lexer": "ipython3",
      "version": "3.6.4"
    },
    "colab": {
      "provenance": [],
      "include_colab_link": true
    }
  },
  "nbformat": 4,
  "nbformat_minor": 0
}