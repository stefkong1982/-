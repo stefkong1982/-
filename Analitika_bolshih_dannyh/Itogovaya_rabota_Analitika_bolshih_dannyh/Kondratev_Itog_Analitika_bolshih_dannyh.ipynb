{
  "cells": [
    {
      "cell_type": "markdown",
      "metadata": {
        "colab_type": "text",
        "id": "view-in-github"
      },
      "source": [
        "<a href=\"https://colab.research.google.com/github/stefkong1982/netology.ru/blob/Master/Analitika_bolshih_dannyh/Itogovaya_rabota_Analitika_bolshih_dannyh/Kondratev_Itog_Analitika_bolshih_dannyh.ipynb\" target=\"_parent\"><img src=\"https://colab.research.google.com/assets/colab-badge.svg\" alt=\"Open In Colab\"/></a>"
      ]
    },
    {
      "cell_type": "markdown",
      "metadata": {
        "id": "57UAsdUO8yxx"
      },
      "source": [
        "## Итоговая работа \"Аналитика больших данных\""
      ]
    },
    {
      "cell_type": "markdown",
      "metadata": {
        "id": "_6eHg0Af85KZ"
      },
      "source": [
        "**Преподаватель:** Алексей Кузьмин"
      ]
    },
    {
      "cell_type": "markdown",
      "metadata": {
        "id": "aLfUghOM9AIR"
      },
      "source": [
        "В данном разделе мы выступим в роли data scientist и попытаемся построить простую модель для рекомендации фильмов пользователям.\n",
        "\n",
        "**1. Загрузите в колаб файлы по оценкам (ratings) и фильмам (movies) и создайте на их основе pandas-датафреймы**\n",
        "\n",
        "\n",
        "\n",
        "Сформировав общий топ фильмов в прошлой практике, мы хотим сделать шаг вперед и начать советовать пользователю те фильмы, которые могли бы быть для него наиболее интересны. Наша цель - научится предсказывать оценку фильма пользователем. Для тестирования модели найдем пользователя, который поставил больше всего оценок\n",
        "\n",
        "**2. Средствами Pandas, используя dataframe ratings, найдите id пользователя, поставившего больше всего оценок**\n",
        "\n",
        "\n",
        "\n",
        "Отберем фильмы, которые оценил данный пользователь\n",
        "\n",
        "**3. Оставьте в датафрейме ratings только те фильмы, который оценил данный пользователь**\n",
        "\n",
        "\n",
        "\n",
        "Для построения модели нам нужны признаки. В качестве таковых будем использовать:\n",
        "\n",
        "* Год выхода\n",
        "\n",
        "* Жанры\n",
        "* Общее количество оценок\n",
        "\n",
        "* Суммарную оценку\n",
        "\n",
        "\n",
        "\n",
        "\n",
        "**4. Добавьте к датафрейму из задания 3 столбцы:**\n",
        "\n",
        "  * По жанрам. Каждый столбец - это жанр. Единицу записываем, если фильм принадлежит данному жанру и 0 - если нет\n",
        "\n",
        "  * столбцы с общим количеством оценок от всех пользователей на фильм и суммарной оценкой от всех пользователей\n",
        "\n",
        "\n",
        "\n",
        "Теперь все готово и можно строить модель\n",
        "\n",
        "\n",
        "**5. Сформируйте X_train, X_test, y_train, y_test**\n",
        "\n",
        "**6. Возьмите модель линейной регрессии (или любую другую для задачи регрессии)  и обучите ее на фильмах**\n",
        "\n",
        "**7. Оцените качество модели на X_test, y_test при помощи метрик для задачи регрессии**\n",
        "\n",
        "\n",
        "Вторая часть практики Python связана со Spark’ом\n",
        "\n",
        "**8. Загрузить данные в spark**\n",
        "\n",
        "**9. Средствами спарка вывести среднюю оценку для каждого фильма**\n",
        "\n",
        "**10. Посчитайте средствами спарка среднюю оценку для каждого жанра**\n",
        "\n",
        "**11. В спарке получить 2 датафрейма с 5-ю самыми популярными и самыми непопулярными фильмами (по количеству оценок, либо по самой оценке - на Ваш выбор)**\n"
      ]
    },
    {
      "cell_type": "markdown",
      "metadata": {
        "id": "TpmHaUmBlF2m"
      },
      "source": [
        "## Решение"
      ]
    },
    {
      "cell_type": "markdown",
      "metadata": {
        "id": "5fZOMgEesy03"
      },
      "source": [
        "**В данном разделе мы выступим в роли data scientist и попытаемся построить простую модель для рекомендации фильмов пользователям.**"
      ]
    },
    {
      "cell_type": "markdown",
      "metadata": {
        "id": "zCpDsFwtM3hB"
      },
      "source": [
        "### 1 - Загрузите в колаб файлы по оценкам (ratings) и фильмам (movies) и создайте на их основе pandas-датафреймы"
      ]
    },
    {
      "cell_type": "markdown",
      "metadata": {
        "id": "88TVoyjMqg7o"
      },
      "source": [
        "**Сформировав общий топ фильмов в прошлой практике, мы хотим сделать шаг вперед и начать советовать пользователю те фильмы, которые могли бы быть для него наиболее интересны. Наша цель - научится предсказывать оценку фильма пользователем. Для тестирования модели найдем пользователя, который поставил больше всего оценок**"
      ]
    },
    {
      "cell_type": "code",
      "execution_count": 52,
      "metadata": {
        "id": "NWkVGhAkS6bI"
      },
      "outputs": [],
      "source": [
        "import pandas as pd\n",
        "\n",
        "# Ссылка на файл с оценками\n",
        "ratings_url = \"https://github.com/stefkong1982/netology.ru/raw/Master/Analitika_bolshih_dannyh/Itogovaya_rabota_Analitika_bolshih_dannyh/u.data.csv\"\n",
        "\n",
        "# Загружаем файл с оценками в датафрейм\n",
        "ratings = pd.read_csv(ratings_url, sep='\\t', names=['user_id', 'movie_id', 'rating', 'timestamp'])\n",
        "\n",
        "# Ссылка на файл с фильмами\n",
        "movies_url = \"https://github.com/stefkong1982/netology.ru/raw/Master/Analitika_bolshih_dannyh/Itogovaya_rabota_Analitika_bolshih_dannyh/u.item.csv\"\n",
        "\n",
        "# Загружаем файл с фильмами в датафрейм\n",
        "movies = pd.read_csv(movies_url, sep='|', encoding='latin-1', header=None,\n",
        "                     names=['movie_id', 'movie_title', 'release_date', 'video_release_date', 'IMDb_URL',\n",
        "                            'unknown', 'Action', 'Adventure', 'Animation', 'Children', 'Comedy', 'Crime',\n",
        "                            'Documentary', 'Drama', 'Fantasy', 'Film-Noir', 'Horror', 'Musical', 'Mystery',\n",
        "                            'Romance', 'Sci-Fi', 'Thriller', 'War', 'Western'])"
      ]
    },
    {
      "cell_type": "markdown",
      "metadata": {
        "id": "jpfsYwG9IbfW"
      },
      "source": [
        "**Смотрим файл по оценкам (ratings)**"
      ]
    },
    {
      "cell_type": "code",
      "execution_count": 53,
      "metadata": {
        "colab": {
          "base_uri": "https://localhost:8080/"
        },
        "id": "0DJftqNY9R34",
        "outputId": "7267df1e-48e5-429a-f105-1a97da05c5ae"
      },
      "outputs": [
        {
          "name": "stdout",
          "output_type": "stream",
          "text": [
            "<class 'pandas.core.frame.DataFrame'>\n",
            "RangeIndex: 100000 entries, 0 to 99999\n",
            "Data columns (total 4 columns):\n",
            " #   Column     Non-Null Count   Dtype\n",
            "---  ------     --------------   -----\n",
            " 0   user_id    100000 non-null  int64\n",
            " 1   movie_id   100000 non-null  int64\n",
            " 2   rating     100000 non-null  int64\n",
            " 3   timestamp  100000 non-null  int64\n",
            "dtypes: int64(4)\n",
            "memory usage: 3.1 MB\n"
          ]
        }
      ],
      "source": [
        "ratings.info()"
      ]
    },
    {
      "cell_type": "code",
      "execution_count": 54,
      "metadata": {
        "colab": {
          "base_uri": "https://localhost:8080/"
        },
        "id": "1YZCH0yIHjDo",
        "outputId": "6807c0e9-2f07-488d-fc2e-7baef9aa587a"
      },
      "outputs": [
        {
          "data": {
            "text/plain": [
              "[]"
            ]
          },
          "execution_count": 54,
          "metadata": {},
          "output_type": "execute_result"
        }
      ],
      "source": [
        "# Список столбцов в датафрейме 'ratings', где есть пустые значения NaN\n",
        "ratings.columns[ratings.isnull().any()].tolist()"
      ]
    },
    {
      "cell_type": "code",
      "execution_count": 55,
      "metadata": {
        "colab": {
          "base_uri": "https://localhost:8080/",
          "height": 423
        },
        "id": "7VIXYFGlQsQD",
        "outputId": "674bbe2c-fd1f-44d4-b372-37bdb9ee11f0"
      },
      "outputs": [
        {
          "data": {
            "text/html": [
              "<div>\n",
              "<style scoped>\n",
              "    .dataframe tbody tr th:only-of-type {\n",
              "        vertical-align: middle;\n",
              "    }\n",
              "\n",
              "    .dataframe tbody tr th {\n",
              "        vertical-align: top;\n",
              "    }\n",
              "\n",
              "    .dataframe thead th {\n",
              "        text-align: right;\n",
              "    }\n",
              "</style>\n",
              "<table border=\"1\" class=\"dataframe\">\n",
              "  <thead>\n",
              "    <tr style=\"text-align: right;\">\n",
              "      <th></th>\n",
              "      <th>user_id</th>\n",
              "      <th>movie_id</th>\n",
              "      <th>rating</th>\n",
              "      <th>timestamp</th>\n",
              "    </tr>\n",
              "  </thead>\n",
              "  <tbody>\n",
              "    <tr>\n",
              "      <th>0</th>\n",
              "      <td>196</td>\n",
              "      <td>242</td>\n",
              "      <td>3</td>\n",
              "      <td>881250949</td>\n",
              "    </tr>\n",
              "    <tr>\n",
              "      <th>1</th>\n",
              "      <td>186</td>\n",
              "      <td>302</td>\n",
              "      <td>3</td>\n",
              "      <td>891717742</td>\n",
              "    </tr>\n",
              "    <tr>\n",
              "      <th>2</th>\n",
              "      <td>22</td>\n",
              "      <td>377</td>\n",
              "      <td>1</td>\n",
              "      <td>878887116</td>\n",
              "    </tr>\n",
              "    <tr>\n",
              "      <th>3</th>\n",
              "      <td>244</td>\n",
              "      <td>51</td>\n",
              "      <td>2</td>\n",
              "      <td>880606923</td>\n",
              "    </tr>\n",
              "    <tr>\n",
              "      <th>4</th>\n",
              "      <td>166</td>\n",
              "      <td>346</td>\n",
              "      <td>1</td>\n",
              "      <td>886397596</td>\n",
              "    </tr>\n",
              "    <tr>\n",
              "      <th>...</th>\n",
              "      <td>...</td>\n",
              "      <td>...</td>\n",
              "      <td>...</td>\n",
              "      <td>...</td>\n",
              "    </tr>\n",
              "    <tr>\n",
              "      <th>99995</th>\n",
              "      <td>880</td>\n",
              "      <td>476</td>\n",
              "      <td>3</td>\n",
              "      <td>880175444</td>\n",
              "    </tr>\n",
              "    <tr>\n",
              "      <th>99996</th>\n",
              "      <td>716</td>\n",
              "      <td>204</td>\n",
              "      <td>5</td>\n",
              "      <td>879795543</td>\n",
              "    </tr>\n",
              "    <tr>\n",
              "      <th>99997</th>\n",
              "      <td>276</td>\n",
              "      <td>1090</td>\n",
              "      <td>1</td>\n",
              "      <td>874795795</td>\n",
              "    </tr>\n",
              "    <tr>\n",
              "      <th>99998</th>\n",
              "      <td>13</td>\n",
              "      <td>225</td>\n",
              "      <td>2</td>\n",
              "      <td>882399156</td>\n",
              "    </tr>\n",
              "    <tr>\n",
              "      <th>99999</th>\n",
              "      <td>12</td>\n",
              "      <td>203</td>\n",
              "      <td>3</td>\n",
              "      <td>879959583</td>\n",
              "    </tr>\n",
              "  </tbody>\n",
              "</table>\n",
              "<p>100000 rows × 4 columns</p>\n",
              "</div>"
            ],
            "text/plain": [
              "       user_id  movie_id  rating  timestamp\n",
              "0          196       242       3  881250949\n",
              "1          186       302       3  891717742\n",
              "2           22       377       1  878887116\n",
              "3          244        51       2  880606923\n",
              "4          166       346       1  886397596\n",
              "...        ...       ...     ...        ...\n",
              "99995      880       476       3  880175444\n",
              "99996      716       204       5  879795543\n",
              "99997      276      1090       1  874795795\n",
              "99998       13       225       2  882399156\n",
              "99999       12       203       3  879959583\n",
              "\n",
              "[100000 rows x 4 columns]"
            ]
          },
          "execution_count": 55,
          "metadata": {},
          "output_type": "execute_result"
        }
      ],
      "source": [
        "# Посмотрим на первые строки каждого датафрейма\n",
        "ratings"
      ]
    },
    {
      "cell_type": "markdown",
      "metadata": {
        "id": "uNxpwGtTW4pT"
      },
      "source": [
        "```\n",
        "u.data — полный набор данных u, 100 000 оценок 943 пользователей по 1682 элементам.\n",
        "```\n",
        "```\n",
        "Каждый пользователь оценил не менее 20 фильмов. Пользователи и элементы\n",
        "пронумерованы последовательно с 1. Данные случайным образом\n",
        "заказал.\n",
        "```\n",
        "\n",
        "```\n",
        "Столбцы:\n",
        "\n",
        "user_id\t                          item_id\t      rating\t      timestamp\n",
        "идентификатор пользователя | идентификатор элемента | рейтинг | временная метка\n",
        "```\n",
        "```\n",
        "Это список с разделителем табуляция sep='\\t'\n",
        "```\n",
        "```\n",
        "Временные метки представляют собой unix-секунды с 01.01.1970 UTC.\n",
        "```"
      ]
    },
    {
      "cell_type": "markdown",
      "metadata": {
        "id": "GAi6tkmmIlqw"
      },
      "source": [
        "**Смотрим файл фильмам (movies)**"
      ]
    },
    {
      "cell_type": "code",
      "execution_count": 56,
      "metadata": {
        "colab": {
          "base_uri": "https://localhost:8080/"
        },
        "id": "iZCq1-8PQtaU",
        "outputId": "8edaa4b3-3e4f-4a84-8087-b9c2e169f463"
      },
      "outputs": [
        {
          "name": "stdout",
          "output_type": "stream",
          "text": [
            "<class 'pandas.core.frame.DataFrame'>\n",
            "RangeIndex: 1682 entries, 0 to 1681\n",
            "Data columns (total 24 columns):\n",
            " #   Column              Non-Null Count  Dtype  \n",
            "---  ------              --------------  -----  \n",
            " 0   movie_id            1682 non-null   int64  \n",
            " 1   movie_title         1682 non-null   object \n",
            " 2   release_date        1681 non-null   object \n",
            " 3   video_release_date  0 non-null      float64\n",
            " 4   IMDb_URL            1679 non-null   object \n",
            " 5   unknown             1682 non-null   int64  \n",
            " 6   Action              1682 non-null   int64  \n",
            " 7   Adventure           1682 non-null   int64  \n",
            " 8   Animation           1682 non-null   int64  \n",
            " 9   Children            1682 non-null   int64  \n",
            " 10  Comedy              1682 non-null   int64  \n",
            " 11  Crime               1682 non-null   int64  \n",
            " 12  Documentary         1682 non-null   int64  \n",
            " 13  Drama               1682 non-null   int64  \n",
            " 14  Fantasy             1682 non-null   int64  \n",
            " 15  Film-Noir           1682 non-null   int64  \n",
            " 16  Horror              1682 non-null   int64  \n",
            " 17  Musical             1682 non-null   int64  \n",
            " 18  Mystery             1682 non-null   int64  \n",
            " 19  Romance             1682 non-null   int64  \n",
            " 20  Sci-Fi              1682 non-null   int64  \n",
            " 21  Thriller            1682 non-null   int64  \n",
            " 22  War                 1682 non-null   int64  \n",
            " 23  Western             1682 non-null   int64  \n",
            "dtypes: float64(1), int64(20), object(3)\n",
            "memory usage: 315.5+ KB\n"
          ]
        }
      ],
      "source": [
        "movies.info()"
      ]
    },
    {
      "cell_type": "code",
      "execution_count": 57,
      "metadata": {
        "colab": {
          "base_uri": "https://localhost:8080/"
        },
        "id": "pYOdxchUBBha",
        "outputId": "93dfb601-664d-4e92-c5e3-0eeff1311895"
      },
      "outputs": [
        {
          "data": {
            "text/plain": [
              "['release_date', 'video_release_date', 'IMDb_URL']"
            ]
          },
          "execution_count": 57,
          "metadata": {},
          "output_type": "execute_result"
        }
      ],
      "source": [
        "# Список столбцов в датафрейме 'movies', где есть пустые значения NaN\n",
        "movies.columns[movies.isnull().any()].tolist()"
      ]
    },
    {
      "cell_type": "code",
      "execution_count": 58,
      "metadata": {
        "colab": {
          "base_uri": "https://localhost:8080/",
          "height": 147
        },
        "id": "4pud2HdG-UWG",
        "outputId": "eb815b6d-ec0e-400b-b1f8-158dd5906919"
      },
      "outputs": [
        {
          "data": {
            "text/html": [
              "<div>\n",
              "<style scoped>\n",
              "    .dataframe tbody tr th:only-of-type {\n",
              "        vertical-align: middle;\n",
              "    }\n",
              "\n",
              "    .dataframe tbody tr th {\n",
              "        vertical-align: top;\n",
              "    }\n",
              "\n",
              "    .dataframe thead th {\n",
              "        text-align: right;\n",
              "    }\n",
              "</style>\n",
              "<table border=\"1\" class=\"dataframe\">\n",
              "  <thead>\n",
              "    <tr style=\"text-align: right;\">\n",
              "      <th></th>\n",
              "      <th>movie_id</th>\n",
              "      <th>movie_title</th>\n",
              "      <th>release_date</th>\n",
              "      <th>video_release_date</th>\n",
              "      <th>IMDb_URL</th>\n",
              "      <th>unknown</th>\n",
              "      <th>Action</th>\n",
              "      <th>Adventure</th>\n",
              "      <th>Animation</th>\n",
              "      <th>Children</th>\n",
              "      <th>...</th>\n",
              "      <th>Fantasy</th>\n",
              "      <th>Film-Noir</th>\n",
              "      <th>Horror</th>\n",
              "      <th>Musical</th>\n",
              "      <th>Mystery</th>\n",
              "      <th>Romance</th>\n",
              "      <th>Sci-Fi</th>\n",
              "      <th>Thriller</th>\n",
              "      <th>War</th>\n",
              "      <th>Western</th>\n",
              "    </tr>\n",
              "  </thead>\n",
              "  <tbody>\n",
              "    <tr>\n",
              "      <th>266</th>\n",
              "      <td>267</td>\n",
              "      <td>unknown</td>\n",
              "      <td>NaN</td>\n",
              "      <td>NaN</td>\n",
              "      <td>NaN</td>\n",
              "      <td>1</td>\n",
              "      <td>0</td>\n",
              "      <td>0</td>\n",
              "      <td>0</td>\n",
              "      <td>0</td>\n",
              "      <td>...</td>\n",
              "      <td>0</td>\n",
              "      <td>0</td>\n",
              "      <td>0</td>\n",
              "      <td>0</td>\n",
              "      <td>0</td>\n",
              "      <td>0</td>\n",
              "      <td>0</td>\n",
              "      <td>0</td>\n",
              "      <td>0</td>\n",
              "      <td>0</td>\n",
              "    </tr>\n",
              "  </tbody>\n",
              "</table>\n",
              "<p>1 rows × 24 columns</p>\n",
              "</div>"
            ],
            "text/plain": [
              "     movie_id movie_title release_date  video_release_date IMDb_URL  unknown  \\\n",
              "266       267     unknown          NaN                 NaN      NaN        1   \n",
              "\n",
              "     Action  Adventure  Animation  Children  ...  Fantasy  Film-Noir  Horror  \\\n",
              "266       0          0          0         0  ...        0          0       0   \n",
              "\n",
              "     Musical  Mystery  Romance  Sci-Fi  Thriller  War  Western  \n",
              "266        0        0        0       0         0    0        0  \n",
              "\n",
              "[1 rows x 24 columns]"
            ]
          },
          "execution_count": 58,
          "metadata": {},
          "output_type": "execute_result"
        }
      ],
      "source": [
        "# print(\"Строки с пустым значением в столбце 'release_date':\")\n",
        "movies.loc[movies['release_date'].isnull()]"
      ]
    },
    {
      "cell_type": "code",
      "execution_count": 59,
      "metadata": {
        "colab": {
          "base_uri": "https://localhost:8080/",
          "height": 738
        },
        "id": "-n9SGQPwFFKL",
        "outputId": "f27184ca-14a1-41ea-c602-bfdb4a9e4c42"
      },
      "outputs": [
        {
          "data": {
            "text/html": [
              "<div>\n",
              "<style scoped>\n",
              "    .dataframe tbody tr th:only-of-type {\n",
              "        vertical-align: middle;\n",
              "    }\n",
              "\n",
              "    .dataframe tbody tr th {\n",
              "        vertical-align: top;\n",
              "    }\n",
              "\n",
              "    .dataframe thead th {\n",
              "        text-align: right;\n",
              "    }\n",
              "</style>\n",
              "<table border=\"1\" class=\"dataframe\">\n",
              "  <thead>\n",
              "    <tr style=\"text-align: right;\">\n",
              "      <th></th>\n",
              "      <th>movie_id</th>\n",
              "      <th>movie_title</th>\n",
              "      <th>release_date</th>\n",
              "      <th>video_release_date</th>\n",
              "      <th>IMDb_URL</th>\n",
              "      <th>unknown</th>\n",
              "      <th>Action</th>\n",
              "      <th>Adventure</th>\n",
              "      <th>Animation</th>\n",
              "      <th>Children</th>\n",
              "      <th>...</th>\n",
              "      <th>Fantasy</th>\n",
              "      <th>Film-Noir</th>\n",
              "      <th>Horror</th>\n",
              "      <th>Musical</th>\n",
              "      <th>Mystery</th>\n",
              "      <th>Romance</th>\n",
              "      <th>Sci-Fi</th>\n",
              "      <th>Thriller</th>\n",
              "      <th>War</th>\n",
              "      <th>Western</th>\n",
              "    </tr>\n",
              "  </thead>\n",
              "  <tbody>\n",
              "    <tr>\n",
              "      <th>0</th>\n",
              "      <td>1</td>\n",
              "      <td>Toy Story (1995)</td>\n",
              "      <td>01-Jan-1995</td>\n",
              "      <td>NaN</td>\n",
              "      <td>http://us.imdb.com/M/title-exact?Toy%20Story%2...</td>\n",
              "      <td>0</td>\n",
              "      <td>0</td>\n",
              "      <td>0</td>\n",
              "      <td>1</td>\n",
              "      <td>1</td>\n",
              "      <td>...</td>\n",
              "      <td>0</td>\n",
              "      <td>0</td>\n",
              "      <td>0</td>\n",
              "      <td>0</td>\n",
              "      <td>0</td>\n",
              "      <td>0</td>\n",
              "      <td>0</td>\n",
              "      <td>0</td>\n",
              "      <td>0</td>\n",
              "      <td>0</td>\n",
              "    </tr>\n",
              "    <tr>\n",
              "      <th>1</th>\n",
              "      <td>2</td>\n",
              "      <td>GoldenEye (1995)</td>\n",
              "      <td>01-Jan-1995</td>\n",
              "      <td>NaN</td>\n",
              "      <td>http://us.imdb.com/M/title-exact?GoldenEye%20(...</td>\n",
              "      <td>0</td>\n",
              "      <td>1</td>\n",
              "      <td>1</td>\n",
              "      <td>0</td>\n",
              "      <td>0</td>\n",
              "      <td>...</td>\n",
              "      <td>0</td>\n",
              "      <td>0</td>\n",
              "      <td>0</td>\n",
              "      <td>0</td>\n",
              "      <td>0</td>\n",
              "      <td>0</td>\n",
              "      <td>0</td>\n",
              "      <td>1</td>\n",
              "      <td>0</td>\n",
              "      <td>0</td>\n",
              "    </tr>\n",
              "    <tr>\n",
              "      <th>2</th>\n",
              "      <td>3</td>\n",
              "      <td>Four Rooms (1995)</td>\n",
              "      <td>01-Jan-1995</td>\n",
              "      <td>NaN</td>\n",
              "      <td>http://us.imdb.com/M/title-exact?Four%20Rooms%...</td>\n",
              "      <td>0</td>\n",
              "      <td>0</td>\n",
              "      <td>0</td>\n",
              "      <td>0</td>\n",
              "      <td>0</td>\n",
              "      <td>...</td>\n",
              "      <td>0</td>\n",
              "      <td>0</td>\n",
              "      <td>0</td>\n",
              "      <td>0</td>\n",
              "      <td>0</td>\n",
              "      <td>0</td>\n",
              "      <td>0</td>\n",
              "      <td>1</td>\n",
              "      <td>0</td>\n",
              "      <td>0</td>\n",
              "    </tr>\n",
              "    <tr>\n",
              "      <th>3</th>\n",
              "      <td>4</td>\n",
              "      <td>Get Shorty (1995)</td>\n",
              "      <td>01-Jan-1995</td>\n",
              "      <td>NaN</td>\n",
              "      <td>http://us.imdb.com/M/title-exact?Get%20Shorty%...</td>\n",
              "      <td>0</td>\n",
              "      <td>1</td>\n",
              "      <td>0</td>\n",
              "      <td>0</td>\n",
              "      <td>0</td>\n",
              "      <td>...</td>\n",
              "      <td>0</td>\n",
              "      <td>0</td>\n",
              "      <td>0</td>\n",
              "      <td>0</td>\n",
              "      <td>0</td>\n",
              "      <td>0</td>\n",
              "      <td>0</td>\n",
              "      <td>0</td>\n",
              "      <td>0</td>\n",
              "      <td>0</td>\n",
              "    </tr>\n",
              "    <tr>\n",
              "      <th>4</th>\n",
              "      <td>5</td>\n",
              "      <td>Copycat (1995)</td>\n",
              "      <td>01-Jan-1995</td>\n",
              "      <td>NaN</td>\n",
              "      <td>http://us.imdb.com/M/title-exact?Copycat%20(1995)</td>\n",
              "      <td>0</td>\n",
              "      <td>0</td>\n",
              "      <td>0</td>\n",
              "      <td>0</td>\n",
              "      <td>0</td>\n",
              "      <td>...</td>\n",
              "      <td>0</td>\n",
              "      <td>0</td>\n",
              "      <td>0</td>\n",
              "      <td>0</td>\n",
              "      <td>0</td>\n",
              "      <td>0</td>\n",
              "      <td>0</td>\n",
              "      <td>1</td>\n",
              "      <td>0</td>\n",
              "      <td>0</td>\n",
              "    </tr>\n",
              "    <tr>\n",
              "      <th>...</th>\n",
              "      <td>...</td>\n",
              "      <td>...</td>\n",
              "      <td>...</td>\n",
              "      <td>...</td>\n",
              "      <td>...</td>\n",
              "      <td>...</td>\n",
              "      <td>...</td>\n",
              "      <td>...</td>\n",
              "      <td>...</td>\n",
              "      <td>...</td>\n",
              "      <td>...</td>\n",
              "      <td>...</td>\n",
              "      <td>...</td>\n",
              "      <td>...</td>\n",
              "      <td>...</td>\n",
              "      <td>...</td>\n",
              "      <td>...</td>\n",
              "      <td>...</td>\n",
              "      <td>...</td>\n",
              "      <td>...</td>\n",
              "      <td>...</td>\n",
              "    </tr>\n",
              "    <tr>\n",
              "      <th>1677</th>\n",
              "      <td>1678</td>\n",
              "      <td>Mat' i syn (1997)</td>\n",
              "      <td>06-Feb-1998</td>\n",
              "      <td>NaN</td>\n",
              "      <td>http://us.imdb.com/M/title-exact?Mat%27+i+syn+...</td>\n",
              "      <td>0</td>\n",
              "      <td>0</td>\n",
              "      <td>0</td>\n",
              "      <td>0</td>\n",
              "      <td>0</td>\n",
              "      <td>...</td>\n",
              "      <td>0</td>\n",
              "      <td>0</td>\n",
              "      <td>0</td>\n",
              "      <td>0</td>\n",
              "      <td>0</td>\n",
              "      <td>0</td>\n",
              "      <td>0</td>\n",
              "      <td>0</td>\n",
              "      <td>0</td>\n",
              "      <td>0</td>\n",
              "    </tr>\n",
              "    <tr>\n",
              "      <th>1678</th>\n",
              "      <td>1679</td>\n",
              "      <td>B. Monkey (1998)</td>\n",
              "      <td>06-Feb-1998</td>\n",
              "      <td>NaN</td>\n",
              "      <td>http://us.imdb.com/M/title-exact?B%2E+Monkey+(...</td>\n",
              "      <td>0</td>\n",
              "      <td>0</td>\n",
              "      <td>0</td>\n",
              "      <td>0</td>\n",
              "      <td>0</td>\n",
              "      <td>...</td>\n",
              "      <td>0</td>\n",
              "      <td>0</td>\n",
              "      <td>0</td>\n",
              "      <td>0</td>\n",
              "      <td>0</td>\n",
              "      <td>1</td>\n",
              "      <td>0</td>\n",
              "      <td>1</td>\n",
              "      <td>0</td>\n",
              "      <td>0</td>\n",
              "    </tr>\n",
              "    <tr>\n",
              "      <th>1679</th>\n",
              "      <td>1680</td>\n",
              "      <td>Sliding Doors (1998)</td>\n",
              "      <td>01-Jan-1998</td>\n",
              "      <td>NaN</td>\n",
              "      <td>http://us.imdb.com/Title?Sliding+Doors+(1998)</td>\n",
              "      <td>0</td>\n",
              "      <td>0</td>\n",
              "      <td>0</td>\n",
              "      <td>0</td>\n",
              "      <td>0</td>\n",
              "      <td>...</td>\n",
              "      <td>0</td>\n",
              "      <td>0</td>\n",
              "      <td>0</td>\n",
              "      <td>0</td>\n",
              "      <td>0</td>\n",
              "      <td>1</td>\n",
              "      <td>0</td>\n",
              "      <td>0</td>\n",
              "      <td>0</td>\n",
              "      <td>0</td>\n",
              "    </tr>\n",
              "    <tr>\n",
              "      <th>1680</th>\n",
              "      <td>1681</td>\n",
              "      <td>You So Crazy (1994)</td>\n",
              "      <td>01-Jan-1994</td>\n",
              "      <td>NaN</td>\n",
              "      <td>http://us.imdb.com/M/title-exact?You%20So%20Cr...</td>\n",
              "      <td>0</td>\n",
              "      <td>0</td>\n",
              "      <td>0</td>\n",
              "      <td>0</td>\n",
              "      <td>0</td>\n",
              "      <td>...</td>\n",
              "      <td>0</td>\n",
              "      <td>0</td>\n",
              "      <td>0</td>\n",
              "      <td>0</td>\n",
              "      <td>0</td>\n",
              "      <td>0</td>\n",
              "      <td>0</td>\n",
              "      <td>0</td>\n",
              "      <td>0</td>\n",
              "      <td>0</td>\n",
              "    </tr>\n",
              "    <tr>\n",
              "      <th>1681</th>\n",
              "      <td>1682</td>\n",
              "      <td>Scream of Stone (Schrei aus Stein) (1991)</td>\n",
              "      <td>08-Mar-1996</td>\n",
              "      <td>NaN</td>\n",
              "      <td>http://us.imdb.com/M/title-exact?Schrei%20aus%...</td>\n",
              "      <td>0</td>\n",
              "      <td>0</td>\n",
              "      <td>0</td>\n",
              "      <td>0</td>\n",
              "      <td>0</td>\n",
              "      <td>...</td>\n",
              "      <td>0</td>\n",
              "      <td>0</td>\n",
              "      <td>0</td>\n",
              "      <td>0</td>\n",
              "      <td>0</td>\n",
              "      <td>0</td>\n",
              "      <td>0</td>\n",
              "      <td>0</td>\n",
              "      <td>0</td>\n",
              "      <td>0</td>\n",
              "    </tr>\n",
              "  </tbody>\n",
              "</table>\n",
              "<p>1682 rows × 24 columns</p>\n",
              "</div>"
            ],
            "text/plain": [
              "      movie_id                                movie_title release_date  \\\n",
              "0            1                           Toy Story (1995)  01-Jan-1995   \n",
              "1            2                           GoldenEye (1995)  01-Jan-1995   \n",
              "2            3                          Four Rooms (1995)  01-Jan-1995   \n",
              "3            4                          Get Shorty (1995)  01-Jan-1995   \n",
              "4            5                             Copycat (1995)  01-Jan-1995   \n",
              "...        ...                                        ...          ...   \n",
              "1677      1678                          Mat' i syn (1997)  06-Feb-1998   \n",
              "1678      1679                           B. Monkey (1998)  06-Feb-1998   \n",
              "1679      1680                       Sliding Doors (1998)  01-Jan-1998   \n",
              "1680      1681                        You So Crazy (1994)  01-Jan-1994   \n",
              "1681      1682  Scream of Stone (Schrei aus Stein) (1991)  08-Mar-1996   \n",
              "\n",
              "      video_release_date                                           IMDb_URL  \\\n",
              "0                    NaN  http://us.imdb.com/M/title-exact?Toy%20Story%2...   \n",
              "1                    NaN  http://us.imdb.com/M/title-exact?GoldenEye%20(...   \n",
              "2                    NaN  http://us.imdb.com/M/title-exact?Four%20Rooms%...   \n",
              "3                    NaN  http://us.imdb.com/M/title-exact?Get%20Shorty%...   \n",
              "4                    NaN  http://us.imdb.com/M/title-exact?Copycat%20(1995)   \n",
              "...                  ...                                                ...   \n",
              "1677                 NaN  http://us.imdb.com/M/title-exact?Mat%27+i+syn+...   \n",
              "1678                 NaN  http://us.imdb.com/M/title-exact?B%2E+Monkey+(...   \n",
              "1679                 NaN      http://us.imdb.com/Title?Sliding+Doors+(1998)   \n",
              "1680                 NaN  http://us.imdb.com/M/title-exact?You%20So%20Cr...   \n",
              "1681                 NaN  http://us.imdb.com/M/title-exact?Schrei%20aus%...   \n",
              "\n",
              "      unknown  Action  Adventure  Animation  Children  ...  Fantasy  \\\n",
              "0           0       0          0          1         1  ...        0   \n",
              "1           0       1          1          0         0  ...        0   \n",
              "2           0       0          0          0         0  ...        0   \n",
              "3           0       1          0          0         0  ...        0   \n",
              "4           0       0          0          0         0  ...        0   \n",
              "...       ...     ...        ...        ...       ...  ...      ...   \n",
              "1677        0       0          0          0         0  ...        0   \n",
              "1678        0       0          0          0         0  ...        0   \n",
              "1679        0       0          0          0         0  ...        0   \n",
              "1680        0       0          0          0         0  ...        0   \n",
              "1681        0       0          0          0         0  ...        0   \n",
              "\n",
              "      Film-Noir  Horror  Musical  Mystery  Romance  Sci-Fi  Thriller  War  \\\n",
              "0             0       0        0        0        0       0         0    0   \n",
              "1             0       0        0        0        0       0         1    0   \n",
              "2             0       0        0        0        0       0         1    0   \n",
              "3             0       0        0        0        0       0         0    0   \n",
              "4             0       0        0        0        0       0         1    0   \n",
              "...         ...     ...      ...      ...      ...     ...       ...  ...   \n",
              "1677          0       0        0        0        0       0         0    0   \n",
              "1678          0       0        0        0        1       0         1    0   \n",
              "1679          0       0        0        0        1       0         0    0   \n",
              "1680          0       0        0        0        0       0         0    0   \n",
              "1681          0       0        0        0        0       0         0    0   \n",
              "\n",
              "      Western  \n",
              "0           0  \n",
              "1           0  \n",
              "2           0  \n",
              "3           0  \n",
              "4           0  \n",
              "...       ...  \n",
              "1677        0  \n",
              "1678        0  \n",
              "1679        0  \n",
              "1680        0  \n",
              "1681        0  \n",
              "\n",
              "[1682 rows x 24 columns]"
            ]
          },
          "execution_count": 59,
          "metadata": {},
          "output_type": "execute_result"
        }
      ],
      "source": [
        "# print(\"Строки с пустым значением в столбце 'video_release_date':\")\n",
        "movies.loc[movies['video_release_date'].isnull()]"
      ]
    },
    {
      "cell_type": "code",
      "execution_count": 60,
      "metadata": {
        "colab": {
          "base_uri": "https://localhost:8080/",
          "height": 262
        },
        "id": "bKpIutlIE4cI",
        "outputId": "17027c80-dd78-4011-a1e9-d5b58fc41f06"
      },
      "outputs": [
        {
          "data": {
            "text/html": [
              "<div>\n",
              "<style scoped>\n",
              "    .dataframe tbody tr th:only-of-type {\n",
              "        vertical-align: middle;\n",
              "    }\n",
              "\n",
              "    .dataframe tbody tr th {\n",
              "        vertical-align: top;\n",
              "    }\n",
              "\n",
              "    .dataframe thead th {\n",
              "        text-align: right;\n",
              "    }\n",
              "</style>\n",
              "<table border=\"1\" class=\"dataframe\">\n",
              "  <thead>\n",
              "    <tr style=\"text-align: right;\">\n",
              "      <th></th>\n",
              "      <th>movie_id</th>\n",
              "      <th>movie_title</th>\n",
              "      <th>release_date</th>\n",
              "      <th>video_release_date</th>\n",
              "      <th>IMDb_URL</th>\n",
              "      <th>unknown</th>\n",
              "      <th>Action</th>\n",
              "      <th>Adventure</th>\n",
              "      <th>Animation</th>\n",
              "      <th>Children</th>\n",
              "      <th>...</th>\n",
              "      <th>Fantasy</th>\n",
              "      <th>Film-Noir</th>\n",
              "      <th>Horror</th>\n",
              "      <th>Musical</th>\n",
              "      <th>Mystery</th>\n",
              "      <th>Romance</th>\n",
              "      <th>Sci-Fi</th>\n",
              "      <th>Thriller</th>\n",
              "      <th>War</th>\n",
              "      <th>Western</th>\n",
              "    </tr>\n",
              "  </thead>\n",
              "  <tbody>\n",
              "    <tr>\n",
              "      <th>266</th>\n",
              "      <td>267</td>\n",
              "      <td>unknown</td>\n",
              "      <td>NaN</td>\n",
              "      <td>NaN</td>\n",
              "      <td>NaN</td>\n",
              "      <td>1</td>\n",
              "      <td>0</td>\n",
              "      <td>0</td>\n",
              "      <td>0</td>\n",
              "      <td>0</td>\n",
              "      <td>...</td>\n",
              "      <td>0</td>\n",
              "      <td>0</td>\n",
              "      <td>0</td>\n",
              "      <td>0</td>\n",
              "      <td>0</td>\n",
              "      <td>0</td>\n",
              "      <td>0</td>\n",
              "      <td>0</td>\n",
              "      <td>0</td>\n",
              "      <td>0</td>\n",
              "    </tr>\n",
              "    <tr>\n",
              "      <th>1357</th>\n",
              "      <td>1358</td>\n",
              "      <td>The Deadly Cure (1996)</td>\n",
              "      <td>16-Sep-1996</td>\n",
              "      <td>NaN</td>\n",
              "      <td>NaN</td>\n",
              "      <td>0</td>\n",
              "      <td>1</td>\n",
              "      <td>0</td>\n",
              "      <td>0</td>\n",
              "      <td>0</td>\n",
              "      <td>...</td>\n",
              "      <td>0</td>\n",
              "      <td>0</td>\n",
              "      <td>0</td>\n",
              "      <td>0</td>\n",
              "      <td>0</td>\n",
              "      <td>0</td>\n",
              "      <td>0</td>\n",
              "      <td>0</td>\n",
              "      <td>0</td>\n",
              "      <td>0</td>\n",
              "    </tr>\n",
              "    <tr>\n",
              "      <th>1358</th>\n",
              "      <td>1359</td>\n",
              "      <td>Boys in Venice (1996)</td>\n",
              "      <td>24-Sep-1996</td>\n",
              "      <td>NaN</td>\n",
              "      <td>NaN</td>\n",
              "      <td>0</td>\n",
              "      <td>0</td>\n",
              "      <td>0</td>\n",
              "      <td>0</td>\n",
              "      <td>0</td>\n",
              "      <td>...</td>\n",
              "      <td>0</td>\n",
              "      <td>0</td>\n",
              "      <td>0</td>\n",
              "      <td>0</td>\n",
              "      <td>0</td>\n",
              "      <td>0</td>\n",
              "      <td>0</td>\n",
              "      <td>0</td>\n",
              "      <td>0</td>\n",
              "      <td>0</td>\n",
              "    </tr>\n",
              "  </tbody>\n",
              "</table>\n",
              "<p>3 rows × 24 columns</p>\n",
              "</div>"
            ],
            "text/plain": [
              "      movie_id             movie_title release_date  video_release_date  \\\n",
              "266        267                 unknown          NaN                 NaN   \n",
              "1357      1358  The Deadly Cure (1996)  16-Sep-1996                 NaN   \n",
              "1358      1359   Boys in Venice (1996)  24-Sep-1996                 NaN   \n",
              "\n",
              "     IMDb_URL  unknown  Action  Adventure  Animation  Children  ...  Fantasy  \\\n",
              "266       NaN        1       0          0          0         0  ...        0   \n",
              "1357      NaN        0       1          0          0         0  ...        0   \n",
              "1358      NaN        0       0          0          0         0  ...        0   \n",
              "\n",
              "      Film-Noir  Horror  Musical  Mystery  Romance  Sci-Fi  Thriller  War  \\\n",
              "266           0       0        0        0        0       0         0    0   \n",
              "1357          0       0        0        0        0       0         0    0   \n",
              "1358          0       0        0        0        0       0         0    0   \n",
              "\n",
              "      Western  \n",
              "266         0  \n",
              "1357        0  \n",
              "1358        0  \n",
              "\n",
              "[3 rows x 24 columns]"
            ]
          },
          "execution_count": 60,
          "metadata": {},
          "output_type": "execute_result"
        }
      ],
      "source": [
        "# print(\"Строки с пустым значением в столбце 'IMDb_URL':\")\n",
        "movies.loc[movies['IMDb_URL'].isnull()]"
      ]
    },
    {
      "cell_type": "code",
      "execution_count": 61,
      "metadata": {
        "colab": {
          "base_uri": "https://localhost:8080/",
          "height": 147
        },
        "id": "HLC7IOy9Gi2i",
        "outputId": "211ae2f1-23dd-45d6-ddf6-6e5c0c2ae539"
      },
      "outputs": [
        {
          "data": {
            "text/html": [
              "<div>\n",
              "<style scoped>\n",
              "    .dataframe tbody tr th:only-of-type {\n",
              "        vertical-align: middle;\n",
              "    }\n",
              "\n",
              "    .dataframe tbody tr th {\n",
              "        vertical-align: top;\n",
              "    }\n",
              "\n",
              "    .dataframe thead th {\n",
              "        text-align: right;\n",
              "    }\n",
              "</style>\n",
              "<table border=\"1\" class=\"dataframe\">\n",
              "  <thead>\n",
              "    <tr style=\"text-align: right;\">\n",
              "      <th></th>\n",
              "      <th>movie_id</th>\n",
              "      <th>movie_title</th>\n",
              "      <th>release_date</th>\n",
              "      <th>video_release_date</th>\n",
              "      <th>IMDb_URL</th>\n",
              "      <th>unknown</th>\n",
              "      <th>Action</th>\n",
              "      <th>Adventure</th>\n",
              "      <th>Animation</th>\n",
              "      <th>Children</th>\n",
              "      <th>...</th>\n",
              "      <th>Fantasy</th>\n",
              "      <th>Film-Noir</th>\n",
              "      <th>Horror</th>\n",
              "      <th>Musical</th>\n",
              "      <th>Mystery</th>\n",
              "      <th>Romance</th>\n",
              "      <th>Sci-Fi</th>\n",
              "      <th>Thriller</th>\n",
              "      <th>War</th>\n",
              "      <th>Western</th>\n",
              "    </tr>\n",
              "  </thead>\n",
              "  <tbody>\n",
              "    <tr>\n",
              "      <th>266</th>\n",
              "      <td>267</td>\n",
              "      <td>unknown</td>\n",
              "      <td>NaN</td>\n",
              "      <td>NaN</td>\n",
              "      <td>NaN</td>\n",
              "      <td>1</td>\n",
              "      <td>0</td>\n",
              "      <td>0</td>\n",
              "      <td>0</td>\n",
              "      <td>0</td>\n",
              "      <td>...</td>\n",
              "      <td>0</td>\n",
              "      <td>0</td>\n",
              "      <td>0</td>\n",
              "      <td>0</td>\n",
              "      <td>0</td>\n",
              "      <td>0</td>\n",
              "      <td>0</td>\n",
              "      <td>0</td>\n",
              "      <td>0</td>\n",
              "      <td>0</td>\n",
              "    </tr>\n",
              "  </tbody>\n",
              "</table>\n",
              "<p>1 rows × 24 columns</p>\n",
              "</div>"
            ],
            "text/plain": [
              "     movie_id movie_title release_date  video_release_date IMDb_URL  unknown  \\\n",
              "266       267     unknown          NaN                 NaN      NaN        1   \n",
              "\n",
              "     Action  Adventure  Animation  Children  ...  Fantasy  Film-Noir  Horror  \\\n",
              "266       0          0          0         0  ...        0          0       0   \n",
              "\n",
              "     Musical  Mystery  Romance  Sci-Fi  Thriller  War  Western  \n",
              "266        0        0        0       0         0    0        0  \n",
              "\n",
              "[1 rows x 24 columns]"
            ]
          },
          "execution_count": 61,
          "metadata": {},
          "output_type": "execute_result"
        }
      ],
      "source": [
        "# print(\"Строки с movie_title = 'unknown':\")\n",
        "movies.loc[movies['movie_title'] == 'unknown']"
      ]
    },
    {
      "cell_type": "code",
      "execution_count": 62,
      "metadata": {
        "colab": {
          "base_uri": "https://localhost:8080/",
          "height": 331
        },
        "id": "PzOwAYtTKd2i",
        "outputId": "9be439cf-307d-4b4c-cc26-841715689607"
      },
      "outputs": [
        {
          "data": {
            "text/html": [
              "<div>\n",
              "<style scoped>\n",
              "    .dataframe tbody tr th:only-of-type {\n",
              "        vertical-align: middle;\n",
              "    }\n",
              "\n",
              "    .dataframe tbody tr th {\n",
              "        vertical-align: top;\n",
              "    }\n",
              "\n",
              "    .dataframe thead th {\n",
              "        text-align: right;\n",
              "    }\n",
              "</style>\n",
              "<table border=\"1\" class=\"dataframe\">\n",
              "  <thead>\n",
              "    <tr style=\"text-align: right;\">\n",
              "      <th></th>\n",
              "      <th>user_id</th>\n",
              "      <th>movie_id</th>\n",
              "      <th>rating</th>\n",
              "      <th>timestamp</th>\n",
              "    </tr>\n",
              "  </thead>\n",
              "  <tbody>\n",
              "    <tr>\n",
              "      <th>2172</th>\n",
              "      <td>130</td>\n",
              "      <td>267</td>\n",
              "      <td>5</td>\n",
              "      <td>875801239</td>\n",
              "    </tr>\n",
              "    <tr>\n",
              "      <th>3781</th>\n",
              "      <td>5</td>\n",
              "      <td>267</td>\n",
              "      <td>4</td>\n",
              "      <td>875635064</td>\n",
              "    </tr>\n",
              "    <tr>\n",
              "      <th>7245</th>\n",
              "      <td>268</td>\n",
              "      <td>267</td>\n",
              "      <td>3</td>\n",
              "      <td>875742077</td>\n",
              "    </tr>\n",
              "    <tr>\n",
              "      <th>12475</th>\n",
              "      <td>297</td>\n",
              "      <td>267</td>\n",
              "      <td>3</td>\n",
              "      <td>875409139</td>\n",
              "    </tr>\n",
              "    <tr>\n",
              "      <th>14756</th>\n",
              "      <td>319</td>\n",
              "      <td>267</td>\n",
              "      <td>4</td>\n",
              "      <td>875707690</td>\n",
              "    </tr>\n",
              "    <tr>\n",
              "      <th>15292</th>\n",
              "      <td>1</td>\n",
              "      <td>267</td>\n",
              "      <td>4</td>\n",
              "      <td>875692955</td>\n",
              "    </tr>\n",
              "    <tr>\n",
              "      <th>49295</th>\n",
              "      <td>532</td>\n",
              "      <td>267</td>\n",
              "      <td>3</td>\n",
              "      <td>875441348</td>\n",
              "    </tr>\n",
              "    <tr>\n",
              "      <th>93523</th>\n",
              "      <td>833</td>\n",
              "      <td>267</td>\n",
              "      <td>1</td>\n",
              "      <td>875655669</td>\n",
              "    </tr>\n",
              "    <tr>\n",
              "      <th>99723</th>\n",
              "      <td>422</td>\n",
              "      <td>267</td>\n",
              "      <td>4</td>\n",
              "      <td>875655986</td>\n",
              "    </tr>\n",
              "  </tbody>\n",
              "</table>\n",
              "</div>"
            ],
            "text/plain": [
              "       user_id  movie_id  rating  timestamp\n",
              "2172       130       267       5  875801239\n",
              "3781         5       267       4  875635064\n",
              "7245       268       267       3  875742077\n",
              "12475      297       267       3  875409139\n",
              "14756      319       267       4  875707690\n",
              "15292        1       267       4  875692955\n",
              "49295      532       267       3  875441348\n",
              "93523      833       267       1  875655669\n",
              "99723      422       267       4  875655986"
            ]
          },
          "execution_count": 62,
          "metadata": {},
          "output_type": "execute_result"
        }
      ],
      "source": [
        "# информация из таблицы ratings по фильму movie_title = 'unknown', movie_id = 267\n",
        "ratings[ratings['movie_id'] == 267]"
      ]
    },
    {
      "cell_type": "code",
      "execution_count": 63,
      "metadata": {
        "colab": {
          "base_uri": "https://localhost:8080/",
          "height": 738
        },
        "id": "9M1Pn7fc9FXv",
        "outputId": "d8dfd1c2-21fa-4791-e0c2-05e75cd51122"
      },
      "outputs": [
        {
          "data": {
            "text/html": [
              "<div>\n",
              "<style scoped>\n",
              "    .dataframe tbody tr th:only-of-type {\n",
              "        vertical-align: middle;\n",
              "    }\n",
              "\n",
              "    .dataframe tbody tr th {\n",
              "        vertical-align: top;\n",
              "    }\n",
              "\n",
              "    .dataframe thead th {\n",
              "        text-align: right;\n",
              "    }\n",
              "</style>\n",
              "<table border=\"1\" class=\"dataframe\">\n",
              "  <thead>\n",
              "    <tr style=\"text-align: right;\">\n",
              "      <th></th>\n",
              "      <th>movie_id</th>\n",
              "      <th>movie_title</th>\n",
              "      <th>release_date</th>\n",
              "      <th>video_release_date</th>\n",
              "      <th>IMDb_URL</th>\n",
              "      <th>unknown</th>\n",
              "      <th>Action</th>\n",
              "      <th>Adventure</th>\n",
              "      <th>Animation</th>\n",
              "      <th>Children</th>\n",
              "      <th>...</th>\n",
              "      <th>Fantasy</th>\n",
              "      <th>Film-Noir</th>\n",
              "      <th>Horror</th>\n",
              "      <th>Musical</th>\n",
              "      <th>Mystery</th>\n",
              "      <th>Romance</th>\n",
              "      <th>Sci-Fi</th>\n",
              "      <th>Thriller</th>\n",
              "      <th>War</th>\n",
              "      <th>Western</th>\n",
              "    </tr>\n",
              "  </thead>\n",
              "  <tbody>\n",
              "    <tr>\n",
              "      <th>0</th>\n",
              "      <td>1</td>\n",
              "      <td>Toy Story (1995)</td>\n",
              "      <td>01-Jan-1995</td>\n",
              "      <td>NaN</td>\n",
              "      <td>http://us.imdb.com/M/title-exact?Toy%20Story%2...</td>\n",
              "      <td>0</td>\n",
              "      <td>0</td>\n",
              "      <td>0</td>\n",
              "      <td>1</td>\n",
              "      <td>1</td>\n",
              "      <td>...</td>\n",
              "      <td>0</td>\n",
              "      <td>0</td>\n",
              "      <td>0</td>\n",
              "      <td>0</td>\n",
              "      <td>0</td>\n",
              "      <td>0</td>\n",
              "      <td>0</td>\n",
              "      <td>0</td>\n",
              "      <td>0</td>\n",
              "      <td>0</td>\n",
              "    </tr>\n",
              "    <tr>\n",
              "      <th>1</th>\n",
              "      <td>2</td>\n",
              "      <td>GoldenEye (1995)</td>\n",
              "      <td>01-Jan-1995</td>\n",
              "      <td>NaN</td>\n",
              "      <td>http://us.imdb.com/M/title-exact?GoldenEye%20(...</td>\n",
              "      <td>0</td>\n",
              "      <td>1</td>\n",
              "      <td>1</td>\n",
              "      <td>0</td>\n",
              "      <td>0</td>\n",
              "      <td>...</td>\n",
              "      <td>0</td>\n",
              "      <td>0</td>\n",
              "      <td>0</td>\n",
              "      <td>0</td>\n",
              "      <td>0</td>\n",
              "      <td>0</td>\n",
              "      <td>0</td>\n",
              "      <td>1</td>\n",
              "      <td>0</td>\n",
              "      <td>0</td>\n",
              "    </tr>\n",
              "    <tr>\n",
              "      <th>2</th>\n",
              "      <td>3</td>\n",
              "      <td>Four Rooms (1995)</td>\n",
              "      <td>01-Jan-1995</td>\n",
              "      <td>NaN</td>\n",
              "      <td>http://us.imdb.com/M/title-exact?Four%20Rooms%...</td>\n",
              "      <td>0</td>\n",
              "      <td>0</td>\n",
              "      <td>0</td>\n",
              "      <td>0</td>\n",
              "      <td>0</td>\n",
              "      <td>...</td>\n",
              "      <td>0</td>\n",
              "      <td>0</td>\n",
              "      <td>0</td>\n",
              "      <td>0</td>\n",
              "      <td>0</td>\n",
              "      <td>0</td>\n",
              "      <td>0</td>\n",
              "      <td>1</td>\n",
              "      <td>0</td>\n",
              "      <td>0</td>\n",
              "    </tr>\n",
              "    <tr>\n",
              "      <th>3</th>\n",
              "      <td>4</td>\n",
              "      <td>Get Shorty (1995)</td>\n",
              "      <td>01-Jan-1995</td>\n",
              "      <td>NaN</td>\n",
              "      <td>http://us.imdb.com/M/title-exact?Get%20Shorty%...</td>\n",
              "      <td>0</td>\n",
              "      <td>1</td>\n",
              "      <td>0</td>\n",
              "      <td>0</td>\n",
              "      <td>0</td>\n",
              "      <td>...</td>\n",
              "      <td>0</td>\n",
              "      <td>0</td>\n",
              "      <td>0</td>\n",
              "      <td>0</td>\n",
              "      <td>0</td>\n",
              "      <td>0</td>\n",
              "      <td>0</td>\n",
              "      <td>0</td>\n",
              "      <td>0</td>\n",
              "      <td>0</td>\n",
              "    </tr>\n",
              "    <tr>\n",
              "      <th>4</th>\n",
              "      <td>5</td>\n",
              "      <td>Copycat (1995)</td>\n",
              "      <td>01-Jan-1995</td>\n",
              "      <td>NaN</td>\n",
              "      <td>http://us.imdb.com/M/title-exact?Copycat%20(1995)</td>\n",
              "      <td>0</td>\n",
              "      <td>0</td>\n",
              "      <td>0</td>\n",
              "      <td>0</td>\n",
              "      <td>0</td>\n",
              "      <td>...</td>\n",
              "      <td>0</td>\n",
              "      <td>0</td>\n",
              "      <td>0</td>\n",
              "      <td>0</td>\n",
              "      <td>0</td>\n",
              "      <td>0</td>\n",
              "      <td>0</td>\n",
              "      <td>1</td>\n",
              "      <td>0</td>\n",
              "      <td>0</td>\n",
              "    </tr>\n",
              "    <tr>\n",
              "      <th>...</th>\n",
              "      <td>...</td>\n",
              "      <td>...</td>\n",
              "      <td>...</td>\n",
              "      <td>...</td>\n",
              "      <td>...</td>\n",
              "      <td>...</td>\n",
              "      <td>...</td>\n",
              "      <td>...</td>\n",
              "      <td>...</td>\n",
              "      <td>...</td>\n",
              "      <td>...</td>\n",
              "      <td>...</td>\n",
              "      <td>...</td>\n",
              "      <td>...</td>\n",
              "      <td>...</td>\n",
              "      <td>...</td>\n",
              "      <td>...</td>\n",
              "      <td>...</td>\n",
              "      <td>...</td>\n",
              "      <td>...</td>\n",
              "      <td>...</td>\n",
              "    </tr>\n",
              "    <tr>\n",
              "      <th>1677</th>\n",
              "      <td>1678</td>\n",
              "      <td>Mat' i syn (1997)</td>\n",
              "      <td>06-Feb-1998</td>\n",
              "      <td>NaN</td>\n",
              "      <td>http://us.imdb.com/M/title-exact?Mat%27+i+syn+...</td>\n",
              "      <td>0</td>\n",
              "      <td>0</td>\n",
              "      <td>0</td>\n",
              "      <td>0</td>\n",
              "      <td>0</td>\n",
              "      <td>...</td>\n",
              "      <td>0</td>\n",
              "      <td>0</td>\n",
              "      <td>0</td>\n",
              "      <td>0</td>\n",
              "      <td>0</td>\n",
              "      <td>0</td>\n",
              "      <td>0</td>\n",
              "      <td>0</td>\n",
              "      <td>0</td>\n",
              "      <td>0</td>\n",
              "    </tr>\n",
              "    <tr>\n",
              "      <th>1678</th>\n",
              "      <td>1679</td>\n",
              "      <td>B. Monkey (1998)</td>\n",
              "      <td>06-Feb-1998</td>\n",
              "      <td>NaN</td>\n",
              "      <td>http://us.imdb.com/M/title-exact?B%2E+Monkey+(...</td>\n",
              "      <td>0</td>\n",
              "      <td>0</td>\n",
              "      <td>0</td>\n",
              "      <td>0</td>\n",
              "      <td>0</td>\n",
              "      <td>...</td>\n",
              "      <td>0</td>\n",
              "      <td>0</td>\n",
              "      <td>0</td>\n",
              "      <td>0</td>\n",
              "      <td>0</td>\n",
              "      <td>1</td>\n",
              "      <td>0</td>\n",
              "      <td>1</td>\n",
              "      <td>0</td>\n",
              "      <td>0</td>\n",
              "    </tr>\n",
              "    <tr>\n",
              "      <th>1679</th>\n",
              "      <td>1680</td>\n",
              "      <td>Sliding Doors (1998)</td>\n",
              "      <td>01-Jan-1998</td>\n",
              "      <td>NaN</td>\n",
              "      <td>http://us.imdb.com/Title?Sliding+Doors+(1998)</td>\n",
              "      <td>0</td>\n",
              "      <td>0</td>\n",
              "      <td>0</td>\n",
              "      <td>0</td>\n",
              "      <td>0</td>\n",
              "      <td>...</td>\n",
              "      <td>0</td>\n",
              "      <td>0</td>\n",
              "      <td>0</td>\n",
              "      <td>0</td>\n",
              "      <td>0</td>\n",
              "      <td>1</td>\n",
              "      <td>0</td>\n",
              "      <td>0</td>\n",
              "      <td>0</td>\n",
              "      <td>0</td>\n",
              "    </tr>\n",
              "    <tr>\n",
              "      <th>1680</th>\n",
              "      <td>1681</td>\n",
              "      <td>You So Crazy (1994)</td>\n",
              "      <td>01-Jan-1994</td>\n",
              "      <td>NaN</td>\n",
              "      <td>http://us.imdb.com/M/title-exact?You%20So%20Cr...</td>\n",
              "      <td>0</td>\n",
              "      <td>0</td>\n",
              "      <td>0</td>\n",
              "      <td>0</td>\n",
              "      <td>0</td>\n",
              "      <td>...</td>\n",
              "      <td>0</td>\n",
              "      <td>0</td>\n",
              "      <td>0</td>\n",
              "      <td>0</td>\n",
              "      <td>0</td>\n",
              "      <td>0</td>\n",
              "      <td>0</td>\n",
              "      <td>0</td>\n",
              "      <td>0</td>\n",
              "      <td>0</td>\n",
              "    </tr>\n",
              "    <tr>\n",
              "      <th>1681</th>\n",
              "      <td>1682</td>\n",
              "      <td>Scream of Stone (Schrei aus Stein) (1991)</td>\n",
              "      <td>08-Mar-1996</td>\n",
              "      <td>NaN</td>\n",
              "      <td>http://us.imdb.com/M/title-exact?Schrei%20aus%...</td>\n",
              "      <td>0</td>\n",
              "      <td>0</td>\n",
              "      <td>0</td>\n",
              "      <td>0</td>\n",
              "      <td>0</td>\n",
              "      <td>...</td>\n",
              "      <td>0</td>\n",
              "      <td>0</td>\n",
              "      <td>0</td>\n",
              "      <td>0</td>\n",
              "      <td>0</td>\n",
              "      <td>0</td>\n",
              "      <td>0</td>\n",
              "      <td>0</td>\n",
              "      <td>0</td>\n",
              "      <td>0</td>\n",
              "    </tr>\n",
              "  </tbody>\n",
              "</table>\n",
              "<p>1682 rows × 24 columns</p>\n",
              "</div>"
            ],
            "text/plain": [
              "      movie_id                                movie_title release_date  \\\n",
              "0            1                           Toy Story (1995)  01-Jan-1995   \n",
              "1            2                           GoldenEye (1995)  01-Jan-1995   \n",
              "2            3                          Four Rooms (1995)  01-Jan-1995   \n",
              "3            4                          Get Shorty (1995)  01-Jan-1995   \n",
              "4            5                             Copycat (1995)  01-Jan-1995   \n",
              "...        ...                                        ...          ...   \n",
              "1677      1678                          Mat' i syn (1997)  06-Feb-1998   \n",
              "1678      1679                           B. Monkey (1998)  06-Feb-1998   \n",
              "1679      1680                       Sliding Doors (1998)  01-Jan-1998   \n",
              "1680      1681                        You So Crazy (1994)  01-Jan-1994   \n",
              "1681      1682  Scream of Stone (Schrei aus Stein) (1991)  08-Mar-1996   \n",
              "\n",
              "      video_release_date                                           IMDb_URL  \\\n",
              "0                    NaN  http://us.imdb.com/M/title-exact?Toy%20Story%2...   \n",
              "1                    NaN  http://us.imdb.com/M/title-exact?GoldenEye%20(...   \n",
              "2                    NaN  http://us.imdb.com/M/title-exact?Four%20Rooms%...   \n",
              "3                    NaN  http://us.imdb.com/M/title-exact?Get%20Shorty%...   \n",
              "4                    NaN  http://us.imdb.com/M/title-exact?Copycat%20(1995)   \n",
              "...                  ...                                                ...   \n",
              "1677                 NaN  http://us.imdb.com/M/title-exact?Mat%27+i+syn+...   \n",
              "1678                 NaN  http://us.imdb.com/M/title-exact?B%2E+Monkey+(...   \n",
              "1679                 NaN      http://us.imdb.com/Title?Sliding+Doors+(1998)   \n",
              "1680                 NaN  http://us.imdb.com/M/title-exact?You%20So%20Cr...   \n",
              "1681                 NaN  http://us.imdb.com/M/title-exact?Schrei%20aus%...   \n",
              "\n",
              "      unknown  Action  Adventure  Animation  Children  ...  Fantasy  \\\n",
              "0           0       0          0          1         1  ...        0   \n",
              "1           0       1          1          0         0  ...        0   \n",
              "2           0       0          0          0         0  ...        0   \n",
              "3           0       1          0          0         0  ...        0   \n",
              "4           0       0          0          0         0  ...        0   \n",
              "...       ...     ...        ...        ...       ...  ...      ...   \n",
              "1677        0       0          0          0         0  ...        0   \n",
              "1678        0       0          0          0         0  ...        0   \n",
              "1679        0       0          0          0         0  ...        0   \n",
              "1680        0       0          0          0         0  ...        0   \n",
              "1681        0       0          0          0         0  ...        0   \n",
              "\n",
              "      Film-Noir  Horror  Musical  Mystery  Romance  Sci-Fi  Thriller  War  \\\n",
              "0             0       0        0        0        0       0         0    0   \n",
              "1             0       0        0        0        0       0         1    0   \n",
              "2             0       0        0        0        0       0         1    0   \n",
              "3             0       0        0        0        0       0         0    0   \n",
              "4             0       0        0        0        0       0         1    0   \n",
              "...         ...     ...      ...      ...      ...     ...       ...  ...   \n",
              "1677          0       0        0        0        0       0         0    0   \n",
              "1678          0       0        0        0        1       0         1    0   \n",
              "1679          0       0        0        0        1       0         0    0   \n",
              "1680          0       0        0        0        0       0         0    0   \n",
              "1681          0       0        0        0        0       0         0    0   \n",
              "\n",
              "      Western  \n",
              "0           0  \n",
              "1           0  \n",
              "2           0  \n",
              "3           0  \n",
              "4           0  \n",
              "...       ...  \n",
              "1677        0  \n",
              "1678        0  \n",
              "1679        0  \n",
              "1680        0  \n",
              "1681        0  \n",
              "\n",
              "[1682 rows x 24 columns]"
            ]
          },
          "execution_count": 63,
          "metadata": {},
          "output_type": "execute_result"
        }
      ],
      "source": [
        "movies"
      ]
    },
    {
      "cell_type": "markdown",
      "metadata": {
        "id": "uDBH3hRuVdkc"
      },
      "source": [
        "```\n",
        "u.item - Информация фильмах:\n",
        "```\n",
        "\n",
        "```\n",
        "Столбцы:\n",
        "\n",
        "идентификатор фильма | название фильма | дата выпуска | дата выхода видео |\n",
        "URL-адрес IMDb | неизвестный | Действие | Приключения | Анимация |\n",
        "Детская | комедия | Преступность | Документальный | Драма | Фэнтези |\n",
        "Фильм-Нуар | Ужасы | Музыкальный | Тайна | Романтика | Научная фантастика |\n",
        "Триллер | Война | Западная |\n",
        "```           \n",
        "```\n",
        "Это список с разделителем sep='|'\n",
        "```\n",
        "```\n",
        "Последние 19 полей — жанры,\n",
        "\n",
        "1 — фильм. относится к этому жанру\n",
        "\n",
        "0 - означает, что это не так\n",
        "\n",
        "фильмы могут быть внесколько жанров одновременно\n",
        "```\n",
        "```\n",
        "Идентификаторы фильмов (movie_id) — это те, которые используются в наборе данных u.data.\n",
        "```"
      ]
    },
    {
      "cell_type": "markdown",
      "metadata": {
        "id": "rZ2JZvxSky8M"
      },
      "source": [
        "### 2 - Средствами Pandas, используя dataframe `ratings`, найдите id пользователя, поставившего больше всего оценок"
      ]
    },
    {
      "cell_type": "code",
      "execution_count": 64,
      "metadata": {
        "colab": {
          "base_uri": "https://localhost:8080/"
        },
        "id": "XxgMJMEj0aMj",
        "outputId": "28f12a6e-9a95-41ff-a3ec-ccb37d7278ed"
      },
      "outputs": [
        {
          "name": "stdout",
          "output_type": "stream",
          "text": [
            "ID пользователя с наибольшим количеством оценок: 405\n",
            "Количество оценок пользователя: 737\n"
          ]
        }
      ],
      "source": [
        "# Группируем данные по 'user_id' и считаем количество оценок каждого пользователя\n",
        "# По умолчанию метод `value_counts()` в Pandas сортирует уникальные значения в порядке убывания количества их появлений.\n",
        "user_ratings_count = ratings['user_id'].value_counts()\n",
        "\n",
        "# Определяем top_user_id - ID пользователя с наибольшим количеством оценок\n",
        "top_user_id = user_ratings_count.index[0]\n",
        "\n",
        "print(f\"ID пользователя с наибольшим количеством оценок: {top_user_id}\")\n",
        "print(f\"Количество оценок пользователя: {user_ratings_count.values[0]}\")\n"
      ]
    },
    {
      "cell_type": "markdown",
      "metadata": {
        "id": "gfUCmJ_TqoXC"
      },
      "source": [
        "**Отберем фильмы, которые оценил данный пользователь**"
      ]
    },
    {
      "cell_type": "markdown",
      "metadata": {
        "id": "lIgsQfrpLNcN"
      },
      "source": [
        "### 3 - Оставьте в датафрейме ratings только те фильмы, который оценил данный пользователь"
      ]
    },
    {
      "cell_type": "markdown",
      "metadata": {
        "id": "IAiM6ZhCoHI8"
      },
      "source": [
        "Для построения модели нам нужны признаки. В качестве таковых будем использовать:\n",
        "* Год выхода\n",
        "* Жанры\n",
        "* Общее количество оценок\n",
        "* Суммарную оценку\n"
      ]
    },
    {
      "cell_type": "code",
      "execution_count": 65,
      "metadata": {
        "colab": {
          "base_uri": "https://localhost:8080/",
          "height": 423
        },
        "id": "2Cqxsig4kEHA",
        "outputId": "e3379c9d-42d6-40bd-d438-250f86fd70df"
      },
      "outputs": [
        {
          "data": {
            "text/html": [
              "<div>\n",
              "<style scoped>\n",
              "    .dataframe tbody tr th:only-of-type {\n",
              "        vertical-align: middle;\n",
              "    }\n",
              "\n",
              "    .dataframe tbody tr th {\n",
              "        vertical-align: top;\n",
              "    }\n",
              "\n",
              "    .dataframe thead th {\n",
              "        text-align: right;\n",
              "    }\n",
              "</style>\n",
              "<table border=\"1\" class=\"dataframe\">\n",
              "  <thead>\n",
              "    <tr style=\"text-align: right;\">\n",
              "      <th></th>\n",
              "      <th>user_id</th>\n",
              "      <th>movie_id</th>\n",
              "      <th>rating</th>\n",
              "      <th>timestamp</th>\n",
              "      <th>total_ratings_all</th>\n",
              "      <th>sum_ratings_all</th>\n",
              "    </tr>\n",
              "  </thead>\n",
              "  <tbody>\n",
              "    <tr>\n",
              "      <th>0</th>\n",
              "      <td>196</td>\n",
              "      <td>242</td>\n",
              "      <td>3</td>\n",
              "      <td>881250949</td>\n",
              "      <td>117</td>\n",
              "      <td>467</td>\n",
              "    </tr>\n",
              "    <tr>\n",
              "      <th>1</th>\n",
              "      <td>186</td>\n",
              "      <td>302</td>\n",
              "      <td>3</td>\n",
              "      <td>891717742</td>\n",
              "      <td>297</td>\n",
              "      <td>1236</td>\n",
              "    </tr>\n",
              "    <tr>\n",
              "      <th>2</th>\n",
              "      <td>22</td>\n",
              "      <td>377</td>\n",
              "      <td>1</td>\n",
              "      <td>878887116</td>\n",
              "      <td>13</td>\n",
              "      <td>28</td>\n",
              "    </tr>\n",
              "    <tr>\n",
              "      <th>3</th>\n",
              "      <td>244</td>\n",
              "      <td>51</td>\n",
              "      <td>2</td>\n",
              "      <td>880606923</td>\n",
              "      <td>81</td>\n",
              "      <td>280</td>\n",
              "    </tr>\n",
              "    <tr>\n",
              "      <th>4</th>\n",
              "      <td>166</td>\n",
              "      <td>346</td>\n",
              "      <td>1</td>\n",
              "      <td>886397596</td>\n",
              "      <td>126</td>\n",
              "      <td>459</td>\n",
              "    </tr>\n",
              "    <tr>\n",
              "      <th>...</th>\n",
              "      <td>...</td>\n",
              "      <td>...</td>\n",
              "      <td>...</td>\n",
              "      <td>...</td>\n",
              "      <td>...</td>\n",
              "      <td>...</td>\n",
              "    </tr>\n",
              "    <tr>\n",
              "      <th>99995</th>\n",
              "      <td>880</td>\n",
              "      <td>476</td>\n",
              "      <td>3</td>\n",
              "      <td>880175444</td>\n",
              "      <td>160</td>\n",
              "      <td>483</td>\n",
              "    </tr>\n",
              "    <tr>\n",
              "      <th>99996</th>\n",
              "      <td>716</td>\n",
              "      <td>204</td>\n",
              "      <td>5</td>\n",
              "      <td>879795543</td>\n",
              "      <td>350</td>\n",
              "      <td>1342</td>\n",
              "    </tr>\n",
              "    <tr>\n",
              "      <th>99997</th>\n",
              "      <td>276</td>\n",
              "      <td>1090</td>\n",
              "      <td>1</td>\n",
              "      <td>874795795</td>\n",
              "      <td>37</td>\n",
              "      <td>89</td>\n",
              "    </tr>\n",
              "    <tr>\n",
              "      <th>99998</th>\n",
              "      <td>13</td>\n",
              "      <td>225</td>\n",
              "      <td>2</td>\n",
              "      <td>882399156</td>\n",
              "      <td>109</td>\n",
              "      <td>317</td>\n",
              "    </tr>\n",
              "    <tr>\n",
              "      <th>99999</th>\n",
              "      <td>12</td>\n",
              "      <td>203</td>\n",
              "      <td>3</td>\n",
              "      <td>879959583</td>\n",
              "      <td>182</td>\n",
              "      <td>704</td>\n",
              "    </tr>\n",
              "  </tbody>\n",
              "</table>\n",
              "<p>100000 rows × 6 columns</p>\n",
              "</div>"
            ],
            "text/plain": [
              "       user_id  movie_id  rating  timestamp  total_ratings_all  \\\n",
              "0          196       242       3  881250949                117   \n",
              "1          186       302       3  891717742                297   \n",
              "2           22       377       1  878887116                 13   \n",
              "3          244        51       2  880606923                 81   \n",
              "4          166       346       1  886397596                126   \n",
              "...        ...       ...     ...        ...                ...   \n",
              "99995      880       476       3  880175444                160   \n",
              "99996      716       204       5  879795543                350   \n",
              "99997      276      1090       1  874795795                 37   \n",
              "99998       13       225       2  882399156                109   \n",
              "99999       12       203       3  879959583                182   \n",
              "\n",
              "       sum_ratings_all  \n",
              "0                  467  \n",
              "1                 1236  \n",
              "2                   28  \n",
              "3                  280  \n",
              "4                  459  \n",
              "...                ...  \n",
              "99995              483  \n",
              "99996             1342  \n",
              "99997               89  \n",
              "99998              317  \n",
              "99999              704  \n",
              "\n",
              "[100000 rows x 6 columns]"
            ]
          },
          "execution_count": 65,
          "metadata": {},
          "output_type": "execute_result"
        }
      ],
      "source": [
        "# Вычисляем общее количество оценок и суммарную оценку от всех пользователей для каждого фильма\n",
        "ratings['total_ratings_all'] = ratings.groupby('movie_id')['rating'].transform('count')\n",
        "ratings['sum_ratings_all'] = ratings.groupby('movie_id')['rating'].transform('sum')\n",
        "\n",
        "# Отображаем обновленный датафрейм ratings\n",
        "ratings"
      ]
    },
    {
      "cell_type": "code",
      "execution_count": 66,
      "metadata": {
        "colab": {
          "base_uri": "https://localhost:8080/",
          "height": 143
        },
        "id": "bSas3kP8LU_k",
        "outputId": "a8278d01-e964-48f7-e696-11b5d5b7de2a"
      },
      "outputs": [
        {
          "data": {
            "text/html": [
              "<div>\n",
              "<style scoped>\n",
              "    .dataframe tbody tr th:only-of-type {\n",
              "        vertical-align: middle;\n",
              "    }\n",
              "\n",
              "    .dataframe tbody tr th {\n",
              "        vertical-align: top;\n",
              "    }\n",
              "\n",
              "    .dataframe thead th {\n",
              "        text-align: right;\n",
              "    }\n",
              "</style>\n",
              "<table border=\"1\" class=\"dataframe\">\n",
              "  <thead>\n",
              "    <tr style=\"text-align: right;\">\n",
              "      <th></th>\n",
              "      <th>user_id</th>\n",
              "      <th>movie_id</th>\n",
              "      <th>rating</th>\n",
              "      <th>timestamp</th>\n",
              "      <th>total_ratings_all</th>\n",
              "      <th>sum_ratings_all</th>\n",
              "    </tr>\n",
              "  </thead>\n",
              "  <tbody>\n",
              "    <tr>\n",
              "      <th>12276</th>\n",
              "      <td>405</td>\n",
              "      <td>56</td>\n",
              "      <td>4</td>\n",
              "      <td>885544911</td>\n",
              "      <td>394</td>\n",
              "      <td>1600</td>\n",
              "    </tr>\n",
              "    <tr>\n",
              "      <th>12383</th>\n",
              "      <td>405</td>\n",
              "      <td>592</td>\n",
              "      <td>1</td>\n",
              "      <td>885548670</td>\n",
              "      <td>9</td>\n",
              "      <td>30</td>\n",
              "    </tr>\n",
              "    <tr>\n",
              "      <th>12430</th>\n",
              "      <td>405</td>\n",
              "      <td>1582</td>\n",
              "      <td>1</td>\n",
              "      <td>885548670</td>\n",
              "      <td>1</td>\n",
              "      <td>1</td>\n",
              "    </tr>\n",
              "  </tbody>\n",
              "</table>\n",
              "</div>"
            ],
            "text/plain": [
              "       user_id  movie_id  rating  timestamp  total_ratings_all  \\\n",
              "12276      405        56       4  885544911                394   \n",
              "12383      405       592       1  885548670                  9   \n",
              "12430      405      1582       1  885548670                  1   \n",
              "\n",
              "       sum_ratings_all  \n",
              "12276             1600  \n",
              "12383               30  \n",
              "12430                1  "
            ]
          },
          "execution_count": 66,
          "metadata": {},
          "output_type": "execute_result"
        }
      ],
      "source": [
        "# Оставляем только фильмы, оцененные пользователем - 405 (top_user_id)\n",
        "user_ratings = ratings[ratings['user_id'] == top_user_id]\n",
        "user_ratings.head(3)"
      ]
    },
    {
      "cell_type": "markdown",
      "metadata": {
        "id": "dA7wquz_S-0o"
      },
      "source": [
        "### 4 - Добавьте к датафрейму из задания 3 столбцы:\n",
        "\n",
        "* Жанр\n",
        "* Год выхода\n",
        "* столбец с общим количеством оценок от всех пользователей на фильм - уже добавили на в 3-м задании\n",
        "* столбец и суммарной оценкой от всех пользователей - уже добавили на в 3-м задании\n"
      ]
    },
    {
      "cell_type": "code",
      "execution_count": 67,
      "metadata": {
        "colab": {
          "base_uri": "https://localhost:8080/",
          "height": 147
        },
        "id": "Aa2LBo9NUnS2",
        "outputId": "4e56c9a6-5d9d-497b-cf3f-b8fd86a9a03e"
      },
      "outputs": [
        {
          "data": {
            "text/html": [
              "<div>\n",
              "<style scoped>\n",
              "    .dataframe tbody tr th:only-of-type {\n",
              "        vertical-align: middle;\n",
              "    }\n",
              "\n",
              "    .dataframe tbody tr th {\n",
              "        vertical-align: top;\n",
              "    }\n",
              "\n",
              "    .dataframe thead th {\n",
              "        text-align: right;\n",
              "    }\n",
              "</style>\n",
              "<table border=\"1\" class=\"dataframe\">\n",
              "  <thead>\n",
              "    <tr style=\"text-align: right;\">\n",
              "      <th></th>\n",
              "      <th>user_id</th>\n",
              "      <th>movie_id</th>\n",
              "      <th>rating</th>\n",
              "      <th>timestamp</th>\n",
              "      <th>total_ratings_all</th>\n",
              "      <th>sum_ratings_all</th>\n",
              "      <th>release_date</th>\n",
              "      <th>unknown</th>\n",
              "      <th>Action</th>\n",
              "      <th>Adventure</th>\n",
              "      <th>...</th>\n",
              "      <th>Fantasy</th>\n",
              "      <th>Film-Noir</th>\n",
              "      <th>Horror</th>\n",
              "      <th>Musical</th>\n",
              "      <th>Mystery</th>\n",
              "      <th>Romance</th>\n",
              "      <th>Sci-Fi</th>\n",
              "      <th>Thriller</th>\n",
              "      <th>War</th>\n",
              "      <th>Western</th>\n",
              "    </tr>\n",
              "  </thead>\n",
              "  <tbody>\n",
              "    <tr>\n",
              "      <th>0</th>\n",
              "      <td>405</td>\n",
              "      <td>56</td>\n",
              "      <td>4</td>\n",
              "      <td>885544911</td>\n",
              "      <td>394</td>\n",
              "      <td>1600</td>\n",
              "      <td>01-Jan-1994</td>\n",
              "      <td>0</td>\n",
              "      <td>0</td>\n",
              "      <td>0</td>\n",
              "      <td>...</td>\n",
              "      <td>0</td>\n",
              "      <td>0</td>\n",
              "      <td>0</td>\n",
              "      <td>0</td>\n",
              "      <td>0</td>\n",
              "      <td>0</td>\n",
              "      <td>0</td>\n",
              "      <td>0</td>\n",
              "      <td>0</td>\n",
              "      <td>0</td>\n",
              "    </tr>\n",
              "  </tbody>\n",
              "</table>\n",
              "<p>1 rows × 26 columns</p>\n",
              "</div>"
            ],
            "text/plain": [
              "   user_id  movie_id  rating  timestamp  total_ratings_all  sum_ratings_all  \\\n",
              "0      405        56       4  885544911                394             1600   \n",
              "\n",
              "  release_date  unknown  Action  Adventure  ...  Fantasy  Film-Noir  Horror  \\\n",
              "0  01-Jan-1994        0       0          0  ...        0          0       0   \n",
              "\n",
              "   Musical  Mystery  Romance  Sci-Fi  Thriller  War  Western  \n",
              "0        0        0        0       0         0    0        0  \n",
              "\n",
              "[1 rows x 26 columns]"
            ]
          },
          "execution_count": 67,
          "metadata": {},
          "output_type": "execute_result"
        }
      ],
      "source": [
        "# Добавляем к датафрейму столбцы 'жанр', 'год выхода'\n",
        "user_ratings = user_ratings.merge(movies[['movie_id', 'release_date'] + list(movies.columns[5:24])], on='movie_id', how='left')\n",
        "user_ratings.head(1)"
      ]
    },
    {
      "cell_type": "code",
      "execution_count": 68,
      "metadata": {
        "colab": {
          "base_uri": "https://localhost:8080/",
          "height": 147
        },
        "id": "zjeOPtc90sGK",
        "outputId": "323f1dc9-948e-49f8-ae99-7ef5add95ac9"
      },
      "outputs": [
        {
          "data": {
            "text/html": [
              "<div>\n",
              "<style scoped>\n",
              "    .dataframe tbody tr th:only-of-type {\n",
              "        vertical-align: middle;\n",
              "    }\n",
              "\n",
              "    .dataframe tbody tr th {\n",
              "        vertical-align: top;\n",
              "    }\n",
              "\n",
              "    .dataframe thead th {\n",
              "        text-align: right;\n",
              "    }\n",
              "</style>\n",
              "<table border=\"1\" class=\"dataframe\">\n",
              "  <thead>\n",
              "    <tr style=\"text-align: right;\">\n",
              "      <th></th>\n",
              "      <th>user_id</th>\n",
              "      <th>movie_id</th>\n",
              "      <th>rating</th>\n",
              "      <th>timestamp</th>\n",
              "      <th>total_ratings_all</th>\n",
              "      <th>sum_ratings_all</th>\n",
              "      <th>release_date</th>\n",
              "      <th>unknown</th>\n",
              "      <th>Action</th>\n",
              "      <th>Adventure</th>\n",
              "      <th>...</th>\n",
              "      <th>Fantasy</th>\n",
              "      <th>Film-Noir</th>\n",
              "      <th>Horror</th>\n",
              "      <th>Musical</th>\n",
              "      <th>Mystery</th>\n",
              "      <th>Romance</th>\n",
              "      <th>Sci-Fi</th>\n",
              "      <th>Thriller</th>\n",
              "      <th>War</th>\n",
              "      <th>Western</th>\n",
              "    </tr>\n",
              "  </thead>\n",
              "  <tbody>\n",
              "    <tr>\n",
              "      <th>0</th>\n",
              "      <td>405</td>\n",
              "      <td>56</td>\n",
              "      <td>4</td>\n",
              "      <td>885544911</td>\n",
              "      <td>394</td>\n",
              "      <td>1600</td>\n",
              "      <td>1994-01-01</td>\n",
              "      <td>0</td>\n",
              "      <td>0</td>\n",
              "      <td>0</td>\n",
              "      <td>...</td>\n",
              "      <td>0</td>\n",
              "      <td>0</td>\n",
              "      <td>0</td>\n",
              "      <td>0</td>\n",
              "      <td>0</td>\n",
              "      <td>0</td>\n",
              "      <td>0</td>\n",
              "      <td>0</td>\n",
              "      <td>0</td>\n",
              "      <td>0</td>\n",
              "    </tr>\n",
              "  </tbody>\n",
              "</table>\n",
              "<p>1 rows × 26 columns</p>\n",
              "</div>"
            ],
            "text/plain": [
              "   user_id  movie_id  rating  timestamp  total_ratings_all  sum_ratings_all  \\\n",
              "0      405        56       4  885544911                394             1600   \n",
              "\n",
              "  release_date  unknown  Action  Adventure  ...  Fantasy  Film-Noir  Horror  \\\n",
              "0   1994-01-01        0       0          0  ...        0          0       0   \n",
              "\n",
              "   Musical  Mystery  Romance  Sci-Fi  Thriller  War  Western  \n",
              "0        0        0        0       0         0    0        0  \n",
              "\n",
              "[1 rows x 26 columns]"
            ]
          },
          "execution_count": 68,
          "metadata": {},
          "output_type": "execute_result"
        }
      ],
      "source": [
        "# Преобразование столбца с датой\n",
        "user_ratings['release_date'] = pd.to_datetime(user_ratings['release_date'])\n",
        "user_ratings.head(1)"
      ]
    },
    {
      "cell_type": "code",
      "execution_count": 69,
      "metadata": {
        "colab": {
          "base_uri": "https://localhost:8080/",
          "height": 147
        },
        "id": "gtyL1Q7B0uVv",
        "outputId": "10ce0568-6e58-464e-ae81-e94d00469e56"
      },
      "outputs": [
        {
          "data": {
            "text/html": [
              "<div>\n",
              "<style scoped>\n",
              "    .dataframe tbody tr th:only-of-type {\n",
              "        vertical-align: middle;\n",
              "    }\n",
              "\n",
              "    .dataframe tbody tr th {\n",
              "        vertical-align: top;\n",
              "    }\n",
              "\n",
              "    .dataframe thead th {\n",
              "        text-align: right;\n",
              "    }\n",
              "</style>\n",
              "<table border=\"1\" class=\"dataframe\">\n",
              "  <thead>\n",
              "    <tr style=\"text-align: right;\">\n",
              "      <th></th>\n",
              "      <th>user_id</th>\n",
              "      <th>movie_id</th>\n",
              "      <th>rating</th>\n",
              "      <th>timestamp</th>\n",
              "      <th>total_ratings_all</th>\n",
              "      <th>sum_ratings_all</th>\n",
              "      <th>release_date</th>\n",
              "      <th>unknown</th>\n",
              "      <th>Action</th>\n",
              "      <th>Adventure</th>\n",
              "      <th>...</th>\n",
              "      <th>Fantasy</th>\n",
              "      <th>Film-Noir</th>\n",
              "      <th>Horror</th>\n",
              "      <th>Musical</th>\n",
              "      <th>Mystery</th>\n",
              "      <th>Romance</th>\n",
              "      <th>Sci-Fi</th>\n",
              "      <th>Thriller</th>\n",
              "      <th>War</th>\n",
              "      <th>Western</th>\n",
              "    </tr>\n",
              "  </thead>\n",
              "  <tbody>\n",
              "    <tr>\n",
              "      <th>0</th>\n",
              "      <td>405</td>\n",
              "      <td>56</td>\n",
              "      <td>4</td>\n",
              "      <td>885544911</td>\n",
              "      <td>394</td>\n",
              "      <td>1600</td>\n",
              "      <td>1994</td>\n",
              "      <td>0</td>\n",
              "      <td>0</td>\n",
              "      <td>0</td>\n",
              "      <td>...</td>\n",
              "      <td>0</td>\n",
              "      <td>0</td>\n",
              "      <td>0</td>\n",
              "      <td>0</td>\n",
              "      <td>0</td>\n",
              "      <td>0</td>\n",
              "      <td>0</td>\n",
              "      <td>0</td>\n",
              "      <td>0</td>\n",
              "      <td>0</td>\n",
              "    </tr>\n",
              "  </tbody>\n",
              "</table>\n",
              "<p>1 rows × 26 columns</p>\n",
              "</div>"
            ],
            "text/plain": [
              "   user_id  movie_id  rating  timestamp  total_ratings_all  sum_ratings_all  \\\n",
              "0      405        56       4  885544911                394             1600   \n",
              "\n",
              "   release_date  unknown  Action  Adventure  ...  Fantasy  Film-Noir  Horror  \\\n",
              "0          1994        0       0          0  ...        0          0       0   \n",
              "\n",
              "   Musical  Mystery  Romance  Sci-Fi  Thriller  War  Western  \n",
              "0        0        0        0       0         0    0        0  \n",
              "\n",
              "[1 rows x 26 columns]"
            ]
          },
          "execution_count": 69,
          "metadata": {},
          "output_type": "execute_result"
        }
      ],
      "source": [
        "# Извлечение года из даты и замена этим значением столбца release_date\n",
        "user_ratings['release_date'] = user_ratings['release_date'].dt.year\n",
        "user_ratings.head(1)"
      ]
    },
    {
      "cell_type": "markdown",
      "metadata": {
        "id": "X4l1ufGVsYVU"
      },
      "source": [
        "**Теперь все готово и можно строить модель**"
      ]
    },
    {
      "cell_type": "markdown",
      "metadata": {
        "id": "aC8mAsm9sacd"
      },
      "source": [
        "### 5 - Сформируйте X_train, X_test, y_train, y_test"
      ]
    },
    {
      "cell_type": "code",
      "execution_count": 70,
      "metadata": {
        "id": "Z2x9uNW87sQn"
      },
      "outputs": [],
      "source": [
        "from sklearn.model_selection import train_test_split\n",
        "from sklearn.linear_model import LinearRegression\n",
        "from sklearn.metrics import mean_absolute_error, r2_score, mean_absolute_percentage_error, mean_squared_error"
      ]
    },
    {
      "cell_type": "code",
      "execution_count": 71,
      "metadata": {
        "id": "8GhrMPrOxubU"
      },
      "outputs": [],
      "source": [
        "# Выделение признаков (X) и целевой переменной (y)\n",
        "X = user_ratings[list(user_ratings.columns[4:26])]\n",
        "y = user_ratings['rating']"
      ]
    },
    {
      "cell_type": "code",
      "execution_count": 72,
      "metadata": {
        "colab": {
          "base_uri": "https://localhost:8080/",
          "height": 147
        },
        "id": "5VovTSzH1EYd",
        "outputId": "9ae5c606-f664-42cb-9b42-aefe3e1a7f38"
      },
      "outputs": [
        {
          "data": {
            "text/html": [
              "<div>\n",
              "<style scoped>\n",
              "    .dataframe tbody tr th:only-of-type {\n",
              "        vertical-align: middle;\n",
              "    }\n",
              "\n",
              "    .dataframe tbody tr th {\n",
              "        vertical-align: top;\n",
              "    }\n",
              "\n",
              "    .dataframe thead th {\n",
              "        text-align: right;\n",
              "    }\n",
              "</style>\n",
              "<table border=\"1\" class=\"dataframe\">\n",
              "  <thead>\n",
              "    <tr style=\"text-align: right;\">\n",
              "      <th></th>\n",
              "      <th>total_ratings_all</th>\n",
              "      <th>sum_ratings_all</th>\n",
              "      <th>release_date</th>\n",
              "      <th>unknown</th>\n",
              "      <th>Action</th>\n",
              "      <th>Adventure</th>\n",
              "      <th>Animation</th>\n",
              "      <th>Children</th>\n",
              "      <th>Comedy</th>\n",
              "      <th>Crime</th>\n",
              "      <th>...</th>\n",
              "      <th>Fantasy</th>\n",
              "      <th>Film-Noir</th>\n",
              "      <th>Horror</th>\n",
              "      <th>Musical</th>\n",
              "      <th>Mystery</th>\n",
              "      <th>Romance</th>\n",
              "      <th>Sci-Fi</th>\n",
              "      <th>Thriller</th>\n",
              "      <th>War</th>\n",
              "      <th>Western</th>\n",
              "    </tr>\n",
              "  </thead>\n",
              "  <tbody>\n",
              "    <tr>\n",
              "      <th>0</th>\n",
              "      <td>394</td>\n",
              "      <td>1600</td>\n",
              "      <td>1994</td>\n",
              "      <td>0</td>\n",
              "      <td>0</td>\n",
              "      <td>0</td>\n",
              "      <td>0</td>\n",
              "      <td>0</td>\n",
              "      <td>0</td>\n",
              "      <td>1</td>\n",
              "      <td>...</td>\n",
              "      <td>0</td>\n",
              "      <td>0</td>\n",
              "      <td>0</td>\n",
              "      <td>0</td>\n",
              "      <td>0</td>\n",
              "      <td>0</td>\n",
              "      <td>0</td>\n",
              "      <td>0</td>\n",
              "      <td>0</td>\n",
              "      <td>0</td>\n",
              "    </tr>\n",
              "  </tbody>\n",
              "</table>\n",
              "<p>1 rows × 22 columns</p>\n",
              "</div>"
            ],
            "text/plain": [
              "   total_ratings_all  sum_ratings_all  release_date  unknown  Action  \\\n",
              "0                394             1600          1994        0       0   \n",
              "\n",
              "   Adventure  Animation  Children  Comedy  Crime  ...  Fantasy  Film-Noir  \\\n",
              "0          0          0         0       0      1  ...        0          0   \n",
              "\n",
              "   Horror  Musical  Mystery  Romance  Sci-Fi  Thriller  War  Western  \n",
              "0       0        0        0        0       0         0    0        0  \n",
              "\n",
              "[1 rows x 22 columns]"
            ]
          },
          "execution_count": 72,
          "metadata": {},
          "output_type": "execute_result"
        }
      ],
      "source": [
        "X.head(1)"
      ]
    },
    {
      "cell_type": "code",
      "execution_count": 73,
      "metadata": {
        "id": "7u_4jfyi1nxP"
      },
      "outputs": [],
      "source": [
        "# Разбиение данных на обучающий и тестовый наборы\n",
        "X_train, X_test, y_train, y_test = train_test_split(X, y, test_size=0.2, random_state=42)"
      ]
    },
    {
      "cell_type": "markdown",
      "metadata": {
        "id": "jYQxoTnAtwFl"
      },
      "source": [
        "### 6 - Возьмите модель линейной регрессии (или любую другую для задачи регрессии)  и обучите ее на фильмах"
      ]
    },
    {
      "cell_type": "code",
      "execution_count": 74,
      "metadata": {
        "colab": {
          "base_uri": "https://localhost:8080/",
          "height": 75
        },
        "id": "SPmD5nZ3qkv2",
        "outputId": "7d79b1a1-5c56-4a81-8a8e-daa17905714e"
      },
      "outputs": [
        {
          "data": {
            "text/html": [
              "<style>#sk-container-id-2 {color: black;}#sk-container-id-2 pre{padding: 0;}#sk-container-id-2 div.sk-toggleable {background-color: white;}#sk-container-id-2 label.sk-toggleable__label {cursor: pointer;display: block;width: 100%;margin-bottom: 0;padding: 0.3em;box-sizing: border-box;text-align: center;}#sk-container-id-2 label.sk-toggleable__label-arrow:before {content: \"▸\";float: left;margin-right: 0.25em;color: #696969;}#sk-container-id-2 label.sk-toggleable__label-arrow:hover:before {color: black;}#sk-container-id-2 div.sk-estimator:hover label.sk-toggleable__label-arrow:before {color: black;}#sk-container-id-2 div.sk-toggleable__content {max-height: 0;max-width: 0;overflow: hidden;text-align: left;background-color: #f0f8ff;}#sk-container-id-2 div.sk-toggleable__content pre {margin: 0.2em;color: black;border-radius: 0.25em;background-color: #f0f8ff;}#sk-container-id-2 input.sk-toggleable__control:checked~div.sk-toggleable__content {max-height: 200px;max-width: 100%;overflow: auto;}#sk-container-id-2 input.sk-toggleable__control:checked~label.sk-toggleable__label-arrow:before {content: \"▾\";}#sk-container-id-2 div.sk-estimator input.sk-toggleable__control:checked~label.sk-toggleable__label {background-color: #d4ebff;}#sk-container-id-2 div.sk-label input.sk-toggleable__control:checked~label.sk-toggleable__label {background-color: #d4ebff;}#sk-container-id-2 input.sk-hidden--visually {border: 0;clip: rect(1px 1px 1px 1px);clip: rect(1px, 1px, 1px, 1px);height: 1px;margin: -1px;overflow: hidden;padding: 0;position: absolute;width: 1px;}#sk-container-id-2 div.sk-estimator {font-family: monospace;background-color: #f0f8ff;border: 1px dotted black;border-radius: 0.25em;box-sizing: border-box;margin-bottom: 0.5em;}#sk-container-id-2 div.sk-estimator:hover {background-color: #d4ebff;}#sk-container-id-2 div.sk-parallel-item::after {content: \"\";width: 100%;border-bottom: 1px solid gray;flex-grow: 1;}#sk-container-id-2 div.sk-label:hover label.sk-toggleable__label {background-color: #d4ebff;}#sk-container-id-2 div.sk-serial::before {content: \"\";position: absolute;border-left: 1px solid gray;box-sizing: border-box;top: 0;bottom: 0;left: 50%;z-index: 0;}#sk-container-id-2 div.sk-serial {display: flex;flex-direction: column;align-items: center;background-color: white;padding-right: 0.2em;padding-left: 0.2em;position: relative;}#sk-container-id-2 div.sk-item {position: relative;z-index: 1;}#sk-container-id-2 div.sk-parallel {display: flex;align-items: stretch;justify-content: center;background-color: white;position: relative;}#sk-container-id-2 div.sk-item::before, #sk-container-id-2 div.sk-parallel-item::before {content: \"\";position: absolute;border-left: 1px solid gray;box-sizing: border-box;top: 0;bottom: 0;left: 50%;z-index: -1;}#sk-container-id-2 div.sk-parallel-item {display: flex;flex-direction: column;z-index: 1;position: relative;background-color: white;}#sk-container-id-2 div.sk-parallel-item:first-child::after {align-self: flex-end;width: 50%;}#sk-container-id-2 div.sk-parallel-item:last-child::after {align-self: flex-start;width: 50%;}#sk-container-id-2 div.sk-parallel-item:only-child::after {width: 0;}#sk-container-id-2 div.sk-dashed-wrapped {border: 1px dashed gray;margin: 0 0.4em 0.5em 0.4em;box-sizing: border-box;padding-bottom: 0.4em;background-color: white;}#sk-container-id-2 div.sk-label label {font-family: monospace;font-weight: bold;display: inline-block;line-height: 1.2em;}#sk-container-id-2 div.sk-label-container {text-align: center;}#sk-container-id-2 div.sk-container {/* jupyter's `normalize.less` sets `[hidden] { display: none; }` but bootstrap.min.css set `[hidden] { display: none !important; }` so we also need the `!important` here to be able to override the default hidden behavior on the sphinx rendered scikit-learn.org. See: https://github.com/scikit-learn/scikit-learn/issues/21755 */display: inline-block !important;position: relative;}#sk-container-id-2 div.sk-text-repr-fallback {display: none;}</style><div id=\"sk-container-id-2\" class=\"sk-top-container\"><div class=\"sk-text-repr-fallback\"><pre>LinearRegression()</pre><b>In a Jupyter environment, please rerun this cell to show the HTML representation or trust the notebook. <br />On GitHub, the HTML representation is unable to render, please try loading this page with nbviewer.org.</b></div><div class=\"sk-container\" hidden><div class=\"sk-item\"><div class=\"sk-estimator sk-toggleable\"><input class=\"sk-toggleable__control sk-hidden--visually\" id=\"sk-estimator-id-2\" type=\"checkbox\" checked><label for=\"sk-estimator-id-2\" class=\"sk-toggleable__label sk-toggleable__label-arrow\">LinearRegression</label><div class=\"sk-toggleable__content\"><pre>LinearRegression()</pre></div></div></div></div></div>"
            ],
            "text/plain": [
              "LinearRegression()"
            ]
          },
          "execution_count": 74,
          "metadata": {},
          "output_type": "execute_result"
        }
      ],
      "source": [
        "# Создание модели линейной регрессии\n",
        "model = LinearRegression()\n",
        "\n",
        "# Обучение модели на данных\n",
        "model.fit(X_train, y_train)"
      ]
    },
    {
      "cell_type": "markdown",
      "metadata": {
        "id": "0rMoXjOmt3pF"
      },
      "source": [
        "### 7 - Оцените качество модели на X_test, y_test при помощи метрик для задачи регрессии"
      ]
    },
    {
      "cell_type": "code",
      "execution_count": 75,
      "metadata": {
        "id": "agzISLj-2De0"
      },
      "outputs": [],
      "source": [
        "# Предсказание на тестовом наборе\n",
        "y_pred = model.predict(X_test)"
      ]
    },
    {
      "cell_type": "code",
      "execution_count": 76,
      "metadata": {
        "colab": {
          "base_uri": "https://localhost:8080/",
          "height": 206
        },
        "id": "Y4PDI1jzVq6M",
        "outputId": "b4bf1301-ef10-49c2-f7af-c39d4718f5ff"
      },
      "outputs": [
        {
          "data": {
            "text/html": [
              "<div>\n",
              "<style scoped>\n",
              "    .dataframe tbody tr th:only-of-type {\n",
              "        vertical-align: middle;\n",
              "    }\n",
              "\n",
              "    .dataframe tbody tr th {\n",
              "        vertical-align: top;\n",
              "    }\n",
              "\n",
              "    .dataframe thead th {\n",
              "        text-align: right;\n",
              "    }\n",
              "</style>\n",
              "<table border=\"1\" class=\"dataframe\">\n",
              "  <thead>\n",
              "    <tr style=\"text-align: right;\">\n",
              "      <th></th>\n",
              "      <th>Фактическое значение</th>\n",
              "      <th>Предсказанное значение</th>\n",
              "    </tr>\n",
              "  </thead>\n",
              "  <tbody>\n",
              "    <tr>\n",
              "      <th>669</th>\n",
              "      <td>1</td>\n",
              "      <td>1.136713</td>\n",
              "    </tr>\n",
              "    <tr>\n",
              "      <th>33</th>\n",
              "      <td>1</td>\n",
              "      <td>1.775713</td>\n",
              "    </tr>\n",
              "    <tr>\n",
              "      <th>549</th>\n",
              "      <td>1</td>\n",
              "      <td>1.083887</td>\n",
              "    </tr>\n",
              "    <tr>\n",
              "      <th>199</th>\n",
              "      <td>1</td>\n",
              "      <td>1.341517</td>\n",
              "    </tr>\n",
              "    <tr>\n",
              "      <th>264</th>\n",
              "      <td>1</td>\n",
              "      <td>3.029876</td>\n",
              "    </tr>\n",
              "  </tbody>\n",
              "</table>\n",
              "</div>"
            ],
            "text/plain": [
              "     Фактическое значение  Предсказанное значение\n",
              "669                     1                1.136713\n",
              "33                      1                1.775713\n",
              "549                     1                1.083887\n",
              "199                     1                1.341517\n",
              "264                     1                3.029876"
            ]
          },
          "execution_count": 76,
          "metadata": {},
          "output_type": "execute_result"
        }
      ],
      "source": [
        "# DataFrame для удобства сравнения\n",
        "predictions = pd.DataFrame({'Фактическое значение': y_test, 'Предсказанное значение': y_pred})\n",
        "predictions.head()"
      ]
    },
    {
      "cell_type": "code",
      "execution_count": 77,
      "metadata": {
        "colab": {
          "base_uri": "https://localhost:8080/"
        },
        "id": "GWx_XMh_4G1r",
        "outputId": "2aacd87b-2414-470c-b354-fc52c7009dec"
      },
      "outputs": [
        {
          "name": "stdout",
          "output_type": "stream",
          "text": [
            "Mean Absolute Error (MAE): 0.95\n",
            "R^2 Score: 0.16\n",
            "Mean Absolute Percentage Error (MAPE): 0.55\n",
            "Root Mean Squared Error (RMSE): 1.30\n"
          ]
        }
      ],
      "source": [
        "# Вычисление точности модели с использованием различных метрик\n",
        "mae = mean_absolute_error(y_test, y_pred)\n",
        "r2 = r2_score(y_test, y_pred)\n",
        "mape = mean_absolute_percentage_error(y_test, y_pred)\n",
        "rmse = mean_squared_error(y_test, y_pred, squared=False)  # RMSE - корень из MSE\n",
        "\n",
        "print(f'Mean Absolute Error (MAE): {mae:.2f}')\n",
        "print(f'R^2 Score: {r2:.2f}')\n",
        "print(f'Mean Absolute Percentage Error (MAPE): {mape:.2f}')\n",
        "print(f'Root Mean Squared Error (RMSE): {rmse:.2f}')"
      ]
    },
    {
      "cell_type": "markdown",
      "metadata": {
        "id": "atzTa3jF5AQL"
      },
      "source": [
        "Значения метрик ошибок (MAE, R^2, MAPE, RMSE) в контексте задачи предсказания рейтинга.\n",
        "\n",
        "1. Mean Absolute Error (MAE) равный 0.95:\n",
        "   - MAE измеряет среднюю абсолютную ошибку модели. Значение 0.95 означает, что в среднем модель ошибается на примерно 0.95 балла в оценке рейтинга. Чем ниже MAE, тем лучше.\n",
        "\n",
        "2. R^2 Score равный 0.16:\n",
        "   - R^2 Score или коэффициент детерминации измеряет объясненную вариацию моделью. Значение 0.16 говорит о том, что модель объясняет примерно 16% изменчивости целевой переменной. Чем ближе значение R^2 к 1, тем лучше модель объясняет данные.\n",
        "\n",
        "3. Mean Absolute Percentage Error (MAPE) равный 0.55:\n",
        "   - MAPE измеряет среднюю абсолютную процентную ошибку модели. Значение 0.55 означает, что модель в среднем ошибается на 55% от фактического значения рейтинга. Чем ниже MAPE, тем лучше.\n",
        "\n",
        "4. Root Mean Squared Error (RMSE) равный 1.30:\n",
        "   - RMSE измеряет среднеквадратичную ошибку модели. Значение 1.30 означает, что корень из среднеквадратичной ошибки составляет приблизительно 1.30 балла. Чем ниже RMSE, тем лучше модель предсказывает.\n",
        "\n",
        "Исходя из значений метрик, модель, вероятно, не слишком точно предсказывает рейтинги и есть место для улучшения. Будет полезно анализировать причины ошибок и возможно рассмотреть использование других признаков или моделей для повышения точности предсказаний."
      ]
    },
    {
      "cell_type": "markdown",
      "metadata": {
        "id": "TofwZB4k__gg"
      },
      "source": [
        "**Вторая часть практики Python связана со Spark’ом**\n",
        "\n",
        "\n"
      ]
    },
    {
      "cell_type": "code",
      "execution_count": 78,
      "metadata": {
        "colab": {
          "base_uri": "https://localhost:8080/"
        },
        "id": "HRMecBB4-iA6",
        "outputId": "e096f0d3-b4ac-4b58-b08a-dafcbffdfd12"
      },
      "outputs": [
        {
          "name": "stdout",
          "output_type": "stream",
          "text": [
            "Requirement already satisfied: pyspark in /usr/local/python/3.10.13/lib/python3.10/site-packages (3.5.1)\n",
            "Requirement already satisfied: py4j==0.10.9.7 in /usr/local/python/3.10.13/lib/python3.10/site-packages (from pyspark) (0.10.9.7)\n"
          ]
        },
        {
          "name": "stdout",
          "output_type": "stream",
          "text": [
            "\n",
            "\u001b[1m[\u001b[0m\u001b[34;49mnotice\u001b[0m\u001b[1;39;49m]\u001b[0m\u001b[39;49m A new release of pip is available: \u001b[0m\u001b[31;49m23.3.2\u001b[0m\u001b[39;49m -> \u001b[0m\u001b[32;49m24.0\u001b[0m\n",
            "\u001b[1m[\u001b[0m\u001b[34;49mnotice\u001b[0m\u001b[1;39;49m]\u001b[0m\u001b[39;49m To update, run: \u001b[0m\u001b[32;49mpip install --upgrade pip\u001b[0m\n",
            "Note: you may need to restart the kernel to use updated packages.\n"
          ]
        }
      ],
      "source": [
        "pip install pyspark"
      ]
    },
    {
      "cell_type": "markdown",
      "metadata": {
        "id": "rS0YwU8fAVhb"
      },
      "source": [
        "### 8 - Загрузить данные в spark"
      ]
    },
    {
      "cell_type": "code",
      "execution_count": 79,
      "metadata": {
        "colab": {
          "base_uri": "https://localhost:8080/"
        },
        "id": "d1Nt8XTVAjVc",
        "outputId": "c6e96da6-e1b1-431e-cb36-367179c68c43"
      },
      "outputs": [
        {
          "name": "stderr",
          "output_type": "stream",
          "text": [
            "/home/codespace/.python/current/lib/python3.10/site-packages/pyspark/sql/context.py:113: FutureWarning: Deprecated in 3.0.0. Use SparkSession.builder.getOrCreate() instead.\n",
            "  warnings.warn(\n"
          ]
        }
      ],
      "source": [
        "from pyspark.sql import SparkSession\n",
        "from pyspark.sql import SQLContext\n",
        "\n",
        "# Создаем сессию Spark\n",
        "spark = SparkSession.builder.appName(\"PandasToSpark\").getOrCreate()\n",
        "sqlContext = SQLContext(spark)"
      ]
    },
    {
      "cell_type": "code",
      "execution_count": 80,
      "metadata": {
        "id": "e0Fov4zz0HEP"
      },
      "outputs": [],
      "source": [
        "# Преобразуем Pandas DataFrame в Spark DataFrame\n",
        "ratings_spark = sqlContext.createDataFrame(ratings)\n",
        "movies_spark = sqlContext.createDataFrame(movies)"
      ]
    },
    {
      "cell_type": "code",
      "execution_count": 81,
      "metadata": {
        "colab": {
          "base_uri": "https://localhost:8080/"
        },
        "id": "8nn_TQfMA2VK",
        "outputId": "2889ea06-430c-4029-defd-343a0274e40f"
      },
      "outputs": [
        {
          "name": "stderr",
          "output_type": "stream",
          "text": [
            "[Stage 0:>                                                          (0 + 1) / 1]\r"
          ]
        },
        {
          "name": "stdout",
          "output_type": "stream",
          "text": [
            "+-------+--------+------+---------+-----------------+---------------+\n",
            "|user_id|movie_id|rating|timestamp|total_ratings_all|sum_ratings_all|\n",
            "+-------+--------+------+---------+-----------------+---------------+\n",
            "|    196|     242|     3|881250949|              117|            467|\n",
            "|    186|     302|     3|891717742|              297|           1236|\n",
            "|     22|     377|     1|878887116|               13|             28|\n",
            "+-------+--------+------+---------+-----------------+---------------+\n",
            "only showing top 3 rows\n",
            "\n"
          ]
        },
        {
          "name": "stderr",
          "output_type": "stream",
          "text": [
            "                                                                                \r"
          ]
        }
      ],
      "source": [
        "# Отображение первых строк Spark DataFrame\n",
        "ratings_spark.show(3)"
      ]
    },
    {
      "cell_type": "code",
      "execution_count": 82,
      "metadata": {
        "colab": {
          "base_uri": "https://localhost:8080/"
        },
        "id": "Ky9KMx5OA88I",
        "outputId": "2534d713-e5b7-48d0-f35e-d4fba447b030"
      },
      "outputs": [
        {
          "name": "stdout",
          "output_type": "stream",
          "text": [
            "+--------+-----------------+------------+------------------+--------------------+-------+------+---------+---------+--------+------+-----+-----------+-----+-------+---------+------+-------+-------+-------+------+--------+---+-------+\n",
            "|movie_id|      movie_title|release_date|video_release_date|            IMDb_URL|unknown|Action|Adventure|Animation|Children|Comedy|Crime|Documentary|Drama|Fantasy|Film-Noir|Horror|Musical|Mystery|Romance|Sci-Fi|Thriller|War|Western|\n",
            "+--------+-----------------+------------+------------------+--------------------+-------+------+---------+---------+--------+------+-----+-----------+-----+-------+---------+------+-------+-------+-------+------+--------+---+-------+\n",
            "|       1| Toy Story (1995)| 01-Jan-1995|               NaN|http://us.imdb.co...|      0|     0|        0|        1|       1|     1|    0|          0|    0|      0|        0|     0|      0|      0|      0|     0|       0|  0|      0|\n",
            "|       2| GoldenEye (1995)| 01-Jan-1995|               NaN|http://us.imdb.co...|      0|     1|        1|        0|       0|     0|    0|          0|    0|      0|        0|     0|      0|      0|      0|     0|       1|  0|      0|\n",
            "|       3|Four Rooms (1995)| 01-Jan-1995|               NaN|http://us.imdb.co...|      0|     0|        0|        0|       0|     0|    0|          0|    0|      0|        0|     0|      0|      0|      0|     0|       1|  0|      0|\n",
            "+--------+-----------------+------------+------------------+--------------------+-------+------+---------+---------+--------+------+-----+-----------+-----+-------+---------+------+-------+-------+-------+------+--------+---+-------+\n",
            "only showing top 3 rows\n",
            "\n"
          ]
        }
      ],
      "source": [
        "movies_spark.show(3)"
      ]
    },
    {
      "cell_type": "markdown",
      "metadata": {
        "id": "7FKi2EIPBNMY"
      },
      "source": [
        "### 9 - Средствами спарка вывести среднюю оценку для каждого фильма"
      ]
    },
    {
      "cell_type": "code",
      "execution_count": 83,
      "metadata": {
        "colab": {
          "base_uri": "https://localhost:8080/"
        },
        "id": "dIfvrJTFByYL",
        "outputId": "b3455c85-342e-4ad5-d93d-69d502064d2b"
      },
      "outputs": [
        {
          "name": "stderr",
          "output_type": "stream",
          "text": [
            "24/03/04 08:50:14 WARN TaskSetManager: Stage 2 contains a task of very large size (1004 KiB). The maximum recommended task size is 1000 KiB.\n",
            "[Stage 2:>                                                          (0 + 2) / 2]\r"
          ]
        },
        {
          "name": "stdout",
          "output_type": "stream",
          "text": [
            "+--------+------------------+\n",
            "|movie_id|    average_rating|\n",
            "+--------+------------------+\n",
            "|     474| 4.252577319587629|\n",
            "|      29|2.6666666666666665|\n",
            "|      26| 3.452054794520548|\n",
            "+--------+------------------+\n",
            "only showing top 3 rows\n",
            "\n"
          ]
        },
        {
          "name": "stderr",
          "output_type": "stream",
          "text": [
            "                                                                                \r"
          ]
        }
      ],
      "source": [
        "from pyspark.sql.functions import avg\n",
        "\n",
        "# Рассчитываем среднюю оценку для каждого фильма\n",
        "average_ratings = ratings_spark.groupBy(\"movie_id\").agg(avg(\"rating\").alias(\"average_rating\"))\n",
        "average_ratings.show(3)"
      ]
    },
    {
      "cell_type": "code",
      "execution_count": 84,
      "metadata": {
        "colab": {
          "base_uri": "https://localhost:8080/"
        },
        "id": "gVt7MeXWClfO",
        "outputId": "e8e97aee-4df3-4ce3-a043-1af3c31238e7"
      },
      "outputs": [
        {
          "name": "stderr",
          "output_type": "stream",
          "text": [
            "24/03/04 08:50:15 WARN TaskSetManager: Stage 5 contains a task of very large size (1004 KiB). The maximum recommended task size is 1000 KiB.\n",
            "[Stage 6:>                                                          (0 + 2) / 2]\r"
          ]
        },
        {
          "name": "stdout",
          "output_type": "stream",
          "text": [
            "+--------+------------------+--------------------+------------+------------------+--------------------+-------+------+---------+---------+--------+------+-----+-----------+-----+-------+---------+------+-------+-------+-------+------+--------+---+-------+\n",
            "|movie_id|    average_rating|         movie_title|release_date|video_release_date|            IMDb_URL|unknown|Action|Adventure|Animation|Children|Comedy|Crime|Documentary|Drama|Fantasy|Film-Noir|Horror|Musical|Mystery|Romance|Sci-Fi|Thriller|War|Western|\n",
            "+--------+------------------+--------------------+------------+------------------+--------------------+-------+------+---------+---------+--------+------+-----+-----------+-----+-------+---------+------+-------+-------+-------+------+--------+---+-------+\n",
            "|      26| 3.452054794520548|Brothers McMullen...| 01-Jan-1995|               NaN|http://us.imdb.co...|      0|     0|        0|        0|       0|     1|    0|          0|    0|      0|        0|     0|      0|      0|      0|     0|       0|  0|      0|\n",
            "|      29|2.6666666666666665|Batman Forever (1...| 01-Jan-1995|               NaN|http://us.imdb.co...|      0|     1|        1|        0|       0|     1|    1|          0|    0|      0|        0|     0|      0|      0|      0|     0|       0|  0|      0|\n",
            "|     474| 4.252577319587629|Dr. Strangelove o...| 01-Jan-1963|               NaN|http://us.imdb.co...|      0|     0|        0|        0|       0|     0|    0|          0|    0|      0|        0|     0|      0|      0|      0|     1|       0|  1|      0|\n",
            "+--------+------------------+--------------------+------------+------------------+--------------------+-------+------+---------+---------+--------+------+-----+-----------+-----+-------+---------+------+-------+-------+-------+------+--------+---+-------+\n",
            "only showing top 3 rows\n",
            "\n"
          ]
        },
        {
          "name": "stderr",
          "output_type": "stream",
          "text": [
            "                                                                                \r"
          ]
        }
      ],
      "source": [
        "# Присоединяем информацию о фильмах к таблице средних оценок\n",
        "result = average_ratings.join(movies_spark, \"movie_id\")\n",
        "result.show(3)"
      ]
    },
    {
      "cell_type": "code",
      "execution_count": 85,
      "metadata": {
        "colab": {
          "base_uri": "https://localhost:8080/"
        },
        "id": "tV4FB-vSB-xT",
        "outputId": "57190c2e-cee1-49a0-c4d7-7ed9f36b5de9"
      },
      "outputs": [
        {
          "name": "stderr",
          "output_type": "stream",
          "text": [
            "24/03/04 08:50:16 WARN TaskSetManager: Stage 11 contains a task of very large size (1004 KiB). The maximum recommended task size is 1000 KiB.\n",
            "                                                                                \r"
          ]
        },
        {
          "name": "stdout",
          "output_type": "stream",
          "text": [
            "+--------+--------------------+------------------+\n",
            "|movie_id|         movie_title|    average_rating|\n",
            "+--------+--------------------+------------------+\n",
            "|      26|Brothers McMullen...| 3.452054794520548|\n",
            "|      29|Batman Forever (1...|2.6666666666666665|\n",
            "|     474|Dr. Strangelove o...| 4.252577319587629|\n",
            "+--------+--------------------+------------------+\n",
            "only showing top 3 rows\n",
            "\n"
          ]
        }
      ],
      "source": [
        "# Показываем результат\n",
        "result.select(\"movie_id\", \"movie_title\", \"average_rating\").show(3)"
      ]
    },
    {
      "cell_type": "markdown",
      "metadata": {
        "id": "Mc_hNtZGDWxQ"
      },
      "source": [
        "### 10 - Посчитайте средствами спарка среднюю оценку для каждого жанра"
      ]
    },
    {
      "cell_type": "code",
      "execution_count": 86,
      "metadata": {
        "colab": {
          "base_uri": "https://localhost:8080/"
        },
        "id": "SmViNECCEDnJ",
        "outputId": "738db79b-4e7e-4723-e994-79b7fab24029"
      },
      "outputs": [
        {
          "name": "stderr",
          "output_type": "stream",
          "text": [
            "24/03/04 08:50:17 WARN TaskSetManager: Stage 17 contains a task of very large size (1004 KiB). The maximum recommended task size is 1000 KiB.\n",
            "                                                                                \r"
          ]
        },
        {
          "name": "stdout",
          "output_type": "stream",
          "text": [
            "+--------+-------+------+---------+-----------------+---------------+--------------------+------------+------------------+--------------------+-------+------+---------+---------+--------+------+-----+-----------+-----+-------+---------+------+-------+-------+-------+------+--------+---+-------+\n",
            "|movie_id|user_id|rating|timestamp|total_ratings_all|sum_ratings_all|         movie_title|release_date|video_release_date|            IMDb_URL|unknown|Action|Adventure|Animation|Children|Comedy|Crime|Documentary|Drama|Fantasy|Film-Noir|Horror|Musical|Mystery|Romance|Sci-Fi|Thriller|War|Western|\n",
            "+--------+-------+------+---------+-----------------+---------------+--------------------+------------+------------------+--------------------+-------+------+---------+---------+--------+------+-----+-----------+-----+-------+---------+------+-------+-------+-------+------+--------+---+-------+\n",
            "|      26|    686|     5|879546847|               73|            252|Brothers McMullen...| 01-Jan-1995|               NaN|http://us.imdb.co...|      0|     0|        0|        0|       0|     1|    0|          0|    0|      0|        0|     0|      0|      0|      0|     0|       0|  0|      0|\n",
            "|      26|    833|     1|875133661|               73|            252|Brothers McMullen...| 01-Jan-1995|               NaN|http://us.imdb.co...|      0|     0|        0|        0|       0|     1|    0|          0|    0|      0|        0|     0|      0|      0|      0|     0|       0|  0|      0|\n",
            "|      26|    911|     4|892840048|               73|            252|Brothers McMullen...| 01-Jan-1995|               NaN|http://us.imdb.co...|      0|     0|        0|        0|       0|     1|    0|          0|    0|      0|        0|     0|      0|      0|      0|     0|       0|  0|      0|\n",
            "+--------+-------+------+---------+-----------------+---------------+--------------------+------------+------------------+--------------------+-------+------+---------+---------+--------+------+-----+-----------+-----+-------+---------+------+-------+-------+-------+------+--------+---+-------+\n",
            "only showing top 3 rows\n",
            "\n"
          ]
        }
      ],
      "source": [
        "# Объединяем таблицы рейтингов и фильмов по movie_id\n",
        "merged_data = ratings_spark.join(movies_spark, \"movie_id\")\n",
        "merged_data.show(3)"
      ]
    },
    {
      "cell_type": "code",
      "execution_count": 87,
      "metadata": {
        "id": "-sgysOk87Yjp"
      },
      "outputs": [],
      "source": [
        "# Создаем новый DataFrame final_data на основе merged_data\n",
        "final_data = merged_data"
      ]
    },
    {
      "cell_type": "code",
      "execution_count": 88,
      "metadata": {
        "id": "p1VtcA-duud_"
      },
      "outputs": [],
      "source": [
        "from pyspark.sql.window import Window\n",
        "from pyspark.sql.functions import avg, col, when"
      ]
    },
    {
      "cell_type": "code",
      "execution_count": 89,
      "metadata": {
        "colab": {
          "base_uri": "https://localhost:8080/"
        },
        "id": "4zWjmzuS5rJE",
        "outputId": "60ee6f39-4579-40ca-932d-d8ddc6f665af"
      },
      "outputs": [
        {
          "data": {
            "text/plain": [
              "['unknown',\n",
              " 'Action',\n",
              " 'Adventure',\n",
              " 'Animation',\n",
              " 'Children',\n",
              " 'Comedy',\n",
              " 'Crime',\n",
              " 'Documentary',\n",
              " 'Drama',\n",
              " 'Fantasy',\n",
              " 'Film-Noir',\n",
              " 'Horror',\n",
              " 'Musical',\n",
              " 'Mystery',\n",
              " 'Romance',\n",
              " 'Sci-Fi',\n",
              " 'Thriller',\n",
              " 'War',\n",
              " 'Western']"
            ]
          },
          "execution_count": 89,
          "metadata": {},
          "output_type": "execute_result"
        }
      ],
      "source": [
        "# Создаем список всех жанров\n",
        "genres = ['unknown', 'Action', 'Adventure', 'Animation', 'Children', 'Comedy', 'Crime', 'Documentary', 'Drama',\n",
        "          'Fantasy', 'Film-Noir', 'Horror', 'Musical', 'Mystery', 'Romance', 'Sci-Fi', 'Thriller', 'War', 'Western']\n",
        "\n",
        "genres"
      ]
    },
    {
      "cell_type": "code",
      "execution_count": 90,
      "metadata": {
        "colab": {
          "base_uri": "https://localhost:8080/"
        },
        "id": "hRPiiDPjNwMl",
        "outputId": "eaafbcf4-71f5-43d2-a668-d2ea5bf48bd9"
      },
      "outputs": [
        {
          "name": "stderr",
          "output_type": "stream",
          "text": [
            "24/03/04 08:50:19 WARN TaskSetManager: Stage 23 contains a task of very large size (1004 KiB). The maximum recommended task size is 1000 KiB.\n",
            "[Stage 24:>                                                         (0 + 2) / 2]\r"
          ]
        },
        {
          "name": "stderr",
          "output_type": "stream",
          "text": [
            "24/03/04 08:50:20 WARN TaskSetManager: Stage 32 contains a task of very large size (1004 KiB). The maximum recommended task size is 1000 KiB.\n"
          ]
        },
        {
          "name": "stdout",
          "output_type": "stream",
          "text": [
            "Средняя оценка по жанру unknown: 3.2\n"
          ]
        },
        {
          "name": "stderr",
          "output_type": "stream",
          "text": [
            "                                                                                \r"
          ]
        },
        {
          "name": "stdout",
          "output_type": "stream",
          "text": [
            "Средняя оценка по жанру Action: 3.48\n"
          ]
        },
        {
          "name": "stderr",
          "output_type": "stream",
          "text": [
            "24/03/04 08:50:21 WARN TaskSetManager: Stage 41 contains a task of very large size (1004 KiB). The maximum recommended task size is 1000 KiB.\n",
            "                                                                                \r"
          ]
        },
        {
          "name": "stdout",
          "output_type": "stream",
          "text": [
            "Средняя оценка по жанру Adventure: 3.5\n"
          ]
        },
        {
          "name": "stderr",
          "output_type": "stream",
          "text": [
            "24/03/04 08:50:22 WARN TaskSetManager: Stage 50 contains a task of very large size (1004 KiB). The maximum recommended task size is 1000 KiB.\n",
            "                                                                                \r"
          ]
        },
        {
          "name": "stdout",
          "output_type": "stream",
          "text": [
            "Средняя оценка по жанру Animation: 3.58\n"
          ]
        },
        {
          "name": "stderr",
          "output_type": "stream",
          "text": [
            "24/03/04 08:50:23 WARN TaskSetManager: Stage 59 contains a task of very large size (1004 KiB). The maximum recommended task size is 1000 KiB.\n"
          ]
        },
        {
          "name": "stdout",
          "output_type": "stream",
          "text": [
            "Средняя оценка по жанру Children: 3.35\n"
          ]
        },
        {
          "name": "stderr",
          "output_type": "stream",
          "text": [
            "24/03/04 08:50:24 WARN TaskSetManager: Stage 68 contains a task of very large size (1004 KiB). The maximum recommended task size is 1000 KiB.\n"
          ]
        },
        {
          "name": "stdout",
          "output_type": "stream",
          "text": [
            "Средняя оценка по жанру Comedy: 3.39\n"
          ]
        },
        {
          "name": "stderr",
          "output_type": "stream",
          "text": [
            "24/03/04 08:50:25 WARN TaskSetManager: Stage 77 contains a task of very large size (1004 KiB). The maximum recommended task size is 1000 KiB.\n",
            "24/03/04 08:50:26 WARN TaskSetManager: Stage 86 contains a task of very large size (1004 KiB). The maximum recommended task size is 1000 KiB.\n"
          ]
        },
        {
          "name": "stdout",
          "output_type": "stream",
          "text": [
            "Средняя оценка по жанру Crime: 3.63\n"
          ]
        },
        {
          "name": "stderr",
          "output_type": "stream",
          "text": [
            "24/03/04 08:50:27 WARN TaskSetManager: Stage 95 contains a task of very large size (1004 KiB). The maximum recommended task size is 1000 KiB.\n"
          ]
        },
        {
          "name": "stdout",
          "output_type": "stream",
          "text": [
            "Средняя оценка по жанру Documentary: 3.67\n"
          ]
        },
        {
          "name": "stderr",
          "output_type": "stream",
          "text": [
            "                                                                                \r"
          ]
        },
        {
          "name": "stdout",
          "output_type": "stream",
          "text": [
            "Средняя оценка по жанру Drama: 3.69\n"
          ]
        },
        {
          "name": "stderr",
          "output_type": "stream",
          "text": [
            "24/03/04 08:50:28 WARN TaskSetManager: Stage 104 contains a task of very large size (1004 KiB). The maximum recommended task size is 1000 KiB.\n",
            "24/03/04 08:50:29 WARN TaskSetManager: Stage 113 contains a task of very large size (1004 KiB). The maximum recommended task size is 1000 KiB.\n"
          ]
        },
        {
          "name": "stdout",
          "output_type": "stream",
          "text": [
            "Средняя оценка по жанру Fantasy: 3.22\n"
          ]
        },
        {
          "name": "stderr",
          "output_type": "stream",
          "text": [
            "24/03/04 08:50:30 WARN TaskSetManager: Stage 122 contains a task of very large size (1004 KiB). The maximum recommended task size is 1000 KiB.\n"
          ]
        },
        {
          "name": "stdout",
          "output_type": "stream",
          "text": [
            "Средняя оценка по жанру Film-Noir: 3.92\n"
          ]
        },
        {
          "name": "stderr",
          "output_type": "stream",
          "text": [
            "                                                                                \r"
          ]
        },
        {
          "name": "stdout",
          "output_type": "stream",
          "text": [
            "Средняя оценка по жанру Horror: 3.29\n"
          ]
        },
        {
          "name": "stderr",
          "output_type": "stream",
          "text": [
            "24/03/04 08:50:31 WARN TaskSetManager: Stage 131 contains a task of very large size (1004 KiB). The maximum recommended task size is 1000 KiB.\n",
            "24/03/04 08:50:32 WARN TaskSetManager: Stage 140 contains a task of very large size (1004 KiB). The maximum recommended task size is 1000 KiB.\n"
          ]
        },
        {
          "name": "stdout",
          "output_type": "stream",
          "text": [
            "Средняя оценка по жанру Musical: 3.52\n"
          ]
        },
        {
          "name": "stderr",
          "output_type": "stream",
          "text": [
            "                                                                                \r"
          ]
        },
        {
          "name": "stdout",
          "output_type": "stream",
          "text": [
            "Средняя оценка по жанру Mystery: 3.64\n"
          ]
        },
        {
          "name": "stderr",
          "output_type": "stream",
          "text": [
            "24/03/04 08:50:33 WARN TaskSetManager: Stage 149 contains a task of very large size (1004 KiB). The maximum recommended task size is 1000 KiB.\n"
          ]
        },
        {
          "name": "stdout",
          "output_type": "stream",
          "text": [
            "Средняя оценка по жанру Romance: 3.62\n"
          ]
        },
        {
          "name": "stderr",
          "output_type": "stream",
          "text": [
            "24/03/04 08:50:34 WARN TaskSetManager: Stage 158 contains a task of very large size (1004 KiB). The maximum recommended task size is 1000 KiB.\n",
            "                                                                                \r"
          ]
        },
        {
          "name": "stdout",
          "output_type": "stream",
          "text": [
            "Средняя оценка по жанру Sci-Fi: 3.56\n"
          ]
        },
        {
          "name": "stderr",
          "output_type": "stream",
          "text": [
            "24/03/04 08:50:35 WARN TaskSetManager: Stage 167 contains a task of very large size (1004 KiB). The maximum recommended task size is 1000 KiB.\n",
            "24/03/04 08:50:36 WARN TaskSetManager: Stage 176 contains a task of very large size (1004 KiB). The maximum recommended task size is 1000 KiB.\n"
          ]
        },
        {
          "name": "stdout",
          "output_type": "stream",
          "text": [
            "Средняя оценка по жанру Thriller: 3.51\n",
            "Средняя оценка по жанру War: 3.82\n"
          ]
        },
        {
          "name": "stderr",
          "output_type": "stream",
          "text": [
            "24/03/04 08:50:37 WARN TaskSetManager: Stage 185 contains a task of very large size (1004 KiB). The maximum recommended task size is 1000 KiB.\n",
            "[Stage 186:>                                                        (0 + 2) / 2]\r"
          ]
        },
        {
          "name": "stdout",
          "output_type": "stream",
          "text": [
            "Средняя оценка по жанру Western: 3.61\n"
          ]
        },
        {
          "name": "stderr",
          "output_type": "stream",
          "text": [
            "                                                                                \r"
          ]
        }
      ],
      "source": [
        "# Создаем новые столбцы для каждого жанра и вычисляем среднюю оценку по каждому жанру, только для фильмов с жанром, у которого значение равно 1\n",
        "for genre in genres:\n",
        "    filtered_data = final_data.filter(col(genre) == 1)\n",
        "    avg_rating = filtered_data.groupBy().avg(\"rating\").collect()[0][0]\n",
        "    avg_rating_rounded = round(avg_rating, 2)  # Округляем до 2 знаков после запятой\n",
        "    print(f\"Средняя оценка по жанру {genre}: {avg_rating_rounded}\")"
      ]
    },
    {
      "cell_type": "markdown",
      "metadata": {
        "id": "t-ZYzHMwATS8"
      },
      "source": [
        "\n",
        "\n",
        "\n",
        "\n",
        "11. В спарке получить 2 датафрейма с 5-ю самыми популярными и самыми непопулярными фильмами (по количеству оценок, либо по самой оценке - на Ваш выбор)\n"
      ]
    },
    {
      "cell_type": "code",
      "execution_count": 91,
      "metadata": {
        "colab": {
          "base_uri": "https://localhost:8080/"
        },
        "id": "2meMVqx5Owhv",
        "outputId": "5b8269ed-ad90-4e12-c970-4436a6f4b6d2"
      },
      "outputs": [
        {
          "name": "stderr",
          "output_type": "stream",
          "text": [
            "24/03/04 08:50:38 WARN TaskSetManager: Stage 194 contains a task of very large size (1004 KiB). The maximum recommended task size is 1000 KiB.\n"
          ]
        },
        {
          "name": "stderr",
          "output_type": "stream",
          "text": [
            "[Stage 195:============================>                            (1 + 1) / 2]\r"
          ]
        },
        {
          "name": "stdout",
          "output_type": "stream",
          "text": [
            "+--------+------------------+\n",
            "|movie_id|        avg_rating|\n",
            "+--------+------------------+\n",
            "|      26| 3.452054794520548|\n",
            "|      29|2.6666666666666665|\n",
            "|     474| 4.252577319587629|\n",
            "+--------+------------------+\n",
            "only showing top 3 rows\n",
            "\n"
          ]
        },
        {
          "name": "stderr",
          "output_type": "stream",
          "text": [
            "                                                                                \r"
          ]
        }
      ],
      "source": [
        "from pyspark.sql import SparkSession\n",
        "from pyspark.sql import functions as F\n",
        "from pyspark.sql.window import Window\n",
        "\n",
        "# Группируем данные по movie_id и вычисляем средний рейтинг\n",
        "avg_ratings = merged_data.groupBy(\"movie_id\").agg(F.avg(\"rating\").alias(\"avg_rating\"))\n",
        "avg_ratings.show(3)"
      ]
    },
    {
      "cell_type": "code",
      "execution_count": 92,
      "metadata": {
        "colab": {
          "base_uri": "https://localhost:8080/"
        },
        "id": "tHMhR75CSmfG",
        "outputId": "f2008843-6dcc-41a7-92e9-e19f6b580d0b"
      },
      "outputs": [
        {
          "name": "stderr",
          "output_type": "stream",
          "text": [
            "24/03/04 08:50:39 WARN TaskSetManager: Stage 200 contains a task of very large size (1004 KiB). The maximum recommended task size is 1000 KiB.\n",
            "                                                                                \r"
          ]
        },
        {
          "name": "stdout",
          "output_type": "stream",
          "text": [
            "+--------+------------------+--------------------+------------+------------------+--------------------+-------+------+---------+---------+--------+------+-----+-----------+-----+-------+---------+------+-------+-------+-------+------+--------+---+-------+\n",
            "|movie_id|        avg_rating|         movie_title|release_date|video_release_date|            IMDb_URL|unknown|Action|Adventure|Animation|Children|Comedy|Crime|Documentary|Drama|Fantasy|Film-Noir|Horror|Musical|Mystery|Romance|Sci-Fi|Thriller|War|Western|\n",
            "+--------+------------------+--------------------+------------+------------------+--------------------+-------+------+---------+---------+--------+------+-----+-----------+-----+-------+---------+------+-------+-------+-------+------+--------+---+-------+\n",
            "|      26| 3.452054794520548|Brothers McMullen...| 01-Jan-1995|               NaN|http://us.imdb.co...|      0|     0|        0|        0|       0|     1|    0|          0|    0|      0|        0|     0|      0|      0|      0|     0|       0|  0|      0|\n",
            "|      29|2.6666666666666665|Batman Forever (1...| 01-Jan-1995|               NaN|http://us.imdb.co...|      0|     1|        1|        0|       0|     1|    1|          0|    0|      0|        0|     0|      0|      0|      0|     0|       0|  0|      0|\n",
            "|     474| 4.252577319587629|Dr. Strangelove o...| 01-Jan-1963|               NaN|http://us.imdb.co...|      0|     0|        0|        0|       0|     0|    0|          0|    0|      0|        0|     0|      0|      0|      0|     1|       0|  1|      0|\n",
            "+--------+------------------+--------------------+------------+------------------+--------------------+-------+------+---------+---------+--------+------+-----+-----------+-----+-------+---------+------+-------+-------+-------+------+--------+---+-------+\n",
            "only showing top 3 rows\n",
            "\n"
          ]
        }
      ],
      "source": [
        "# Присоединяем название фильма к датафрейму avg_ratings\n",
        "avg_ratings_with_title = avg_ratings.join(movies_spark, \"movie_id\")\n",
        "avg_ratings_with_title.show(3)"
      ]
    },
    {
      "cell_type": "code",
      "execution_count": 93,
      "metadata": {
        "colab": {
          "base_uri": "https://localhost:8080/"
        },
        "id": "fzmT4jJUTNs6",
        "outputId": "529ae563-e9af-4bf1-e2a3-cb65a6584d3d"
      },
      "outputs": [
        {
          "name": "stderr",
          "output_type": "stream",
          "text": [
            "24/03/04 08:50:41 WARN TaskSetManager: Stage 209 contains a task of very large size (1004 KiB). The maximum recommended task size is 1000 KiB.\n",
            "                                                                                \r"
          ]
        },
        {
          "name": "stdout",
          "output_type": "stream",
          "text": [
            "+--------+--------------------+----------+\n",
            "|movie_id|         movie_title|avg_rating|\n",
            "+--------+--------------------+----------+\n",
            "|     814|Great Day in Harl...|       5.0|\n",
            "|    1189|  Prefontaine (1997)|       5.0|\n",
            "|    1599|Someone Else's Am...|       5.0|\n",
            "|    1536|Aiqing wansui (1994)|       5.0|\n",
            "|    1122|They Made Me a Cr...|       5.0|\n",
            "+--------+--------------------+----------+\n",
            "only showing top 5 rows\n",
            "\n"
          ]
        }
      ],
      "source": [
        "# Сортируем по убыванию среднего рейтинга и выводим топ-5 фильмов с самым высоким рейтингом\n",
        "avg_ratings_with_title.select(\"movie_id\", \"movie_title\", \"avg_rating\").sort(\"avg_rating\", ascending=False).show(5)"
      ]
    },
    {
      "cell_type": "code",
      "execution_count": 94,
      "metadata": {
        "colab": {
          "base_uri": "https://localhost:8080/"
        },
        "id": "dv3PRXRNQn_K",
        "outputId": "30e21925-4350-401f-d2e8-cb8cbaa7dc30"
      },
      "outputs": [
        {
          "name": "stderr",
          "output_type": "stream",
          "text": [
            "24/03/04 08:50:42 WARN TaskSetManager: Stage 218 contains a task of very large size (1004 KiB). The maximum recommended task size is 1000 KiB.\n",
            "[Stage 220:>                                                        (0 + 2) / 2]\r"
          ]
        },
        {
          "name": "stdout",
          "output_type": "stream",
          "text": [
            "+--------+--------------------+----------+\n",
            "|movie_id|         movie_title|avg_rating|\n",
            "+--------+--------------------+----------+\n",
            "|     784|Beyond Bedlam (1993)|       1.0|\n",
            "|    1671|Further Gesture, ...|       1.0|\n",
            "|     437|Amityville 1992: ...|       1.0|\n",
            "|     599|Police Story 4: P...|       1.0|\n",
            "|     314|3 Ninjas: High No...|       1.0|\n",
            "+--------+--------------------+----------+\n",
            "only showing top 5 rows\n",
            "\n"
          ]
        },
        {
          "name": "stderr",
          "output_type": "stream",
          "text": [
            "                                                                                \r"
          ]
        }
      ],
      "source": [
        "# Сортируем по возрастанию среднего рейтинга и выводим топ-5 фильмов с самыми низкими рейтингами\n",
        "# (без указания направления сортировки она автоматически будет возрастающей).\n",
        "avg_ratings_with_title.select(\"movie_id\", \"movie_title\", \"avg_rating\").sort(\"avg_rating\").show(5)"
      ]
    },
    {
      "cell_type": "code",
      "execution_count": 95,
      "metadata": {
        "id": "SmqYgyzTO63o"
      },
      "outputs": [],
      "source": [
        "# Завершаем Spark сессию\n",
        "spark.stop()"
      ]
    }
  ],
  "metadata": {
    "colab": {
      "include_colab_link": true,
      "provenance": [],
      "toc_visible": true
    },
    "kernelspec": {
      "display_name": "Python 3",
      "name": "python3"
    },
    "language_info": {
      "codemirror_mode": {
        "name": "ipython",
        "version": 3
      },
      "file_extension": ".py",
      "mimetype": "text/x-python",
      "name": "python",
      "nbconvert_exporter": "python",
      "pygments_lexer": "ipython3",
      "version": "3.10.13"
    }
  },
  "nbformat": 4,
  "nbformat_minor": 0
}
