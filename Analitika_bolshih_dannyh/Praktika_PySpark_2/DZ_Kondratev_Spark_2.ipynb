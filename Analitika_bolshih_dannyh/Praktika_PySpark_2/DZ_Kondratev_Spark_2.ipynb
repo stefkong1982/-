{
  "nbformat": 4,
  "nbformat_minor": 0,
  "metadata": {
    "colab": {
      "provenance": [],
      "include_colab_link": true
    },
    "kernelspec": {
      "name": "python3",
      "display_name": "Python 3"
    }
  },
  "cells": [
    {
      "cell_type": "markdown",
      "metadata": {
        "id": "view-in-github",
        "colab_type": "text"
      },
      "source": [
        "<a href=\"https://colab.research.google.com/github/stefkong1982/netology.ru/blob/Master/Analitika_bolshih_dannyh/Praktika_PySpark_2/DZ_Kondratev_Spark_2.ipynb\" target=\"_parent\"><img src=\"https://colab.research.google.com/assets/colab-badge.svg\" alt=\"Open In Colab\"/></a>"
      ]
    },
    {
      "cell_type": "markdown",
      "source": [
        "### Домашнее задание «Практика PySpark (часть 2)»\n",
        "\n",
        "**Преподаватель:** Алексей Кузьмин\n",
        "\n",
        "Обучите модель классификации для цветков Iris.\n",
        "Примерная последовательность действий:\n",
        "\n",
        "1. [Взять данные.](https://drive.google.com/file/d/18ksAxTxBkp15LToEg46BHhwp3sPIoeUU/view?usp=sharing![изображение_2024-02-08_151549849.png](data:image/png;base64,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![изображение_2024-02-08_151610360.png](data:image/png;base64,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)))\n",
        "2. Загрузить в PySpark.\n",
        "3. При помощи VectorAssembler преобразовать все колонки с признаками в одну (использовать Pipeline — опционально).\n",
        "4. Разбить данные на train и test.\n",
        "5. Создать модель логистической регреcсии или модель дерева и обучить её.\n",
        "6. Воспользоваться MulticlassClassificationEvaluator для оценки качества на train и test множестве."
      ],
      "metadata": {
        "id": "ZXHGm7bul18a"
      }
    },
    {
      "cell_type": "markdown",
      "metadata": {
        "id": "HkjqeMDxpo-a"
      },
      "source": [
        "Установка Spark"
      ]
    },
    {
      "cell_type": "code",
      "metadata": {
        "id": "etFJ7ZgKpl41"
      },
      "source": [
        "# Обновляем пакеты системы с помощью apt-get update\n",
        "!apt-get update"
      ],
      "execution_count": null,
      "outputs": []
    },
    {
      "cell_type": "code",
      "metadata": {
        "id": "N0HaFRkEps1B"
      },
      "source": [
        "# Устанавливаем OpenJDK 8 с помощью apt-get install.\n",
        "!apt-get install openjdk-8-jdk-headless -qq > /dev/null"
      ],
      "execution_count": 198,
      "outputs": []
    },
    {
      "cell_type": "code",
      "metadata": {
        "id": "Jy_sIJ6ypyIv"
      },
      "source": [
        "# Скачиваем архив Spark с официального сайта с помощью wget.\n",
        "!wget -q https://downloads.apache.org/spark/spark-3.5.0/spark-3.5.0-bin-hadoop3.tgz"
      ],
      "execution_count": 199,
      "outputs": []
    },
    {
      "cell_type": "code",
      "metadata": {
        "id": "1Q5LMILepz_N"
      },
      "source": [
        "# Распаковываем архив Spark с помощью tar -xvf.\n",
        "!tar -xvf spark-3.5.0-bin-hadoop3.tgz"
      ],
      "execution_count": null,
      "outputs": []
    },
    {
      "cell_type": "code",
      "metadata": {
        "id": "JiQOFODip19a"
      },
      "source": [
        "# Устанавливаем findspark с помощью pip install.\n",
        "!pip install -q findspark"
      ],
      "execution_count": 201,
      "outputs": []
    },
    {
      "cell_type": "code",
      "metadata": {
        "id": "kJCFdpyJp4Oe"
      },
      "source": [
        "# Устанавливаем переменные окружения JAVA_HOME и SPARK_HOME для работы с Spark.\n",
        "import os\n",
        "os.environ[\"JAVA_HOME\"] = \"/usr/lib/jvm/java-8-openjdk-amd64\"\n",
        "os.environ[\"SPARK_HOME\"] = \"/content/spark-3.5.0-bin-hadoop3\""
      ],
      "execution_count": 202,
      "outputs": []
    },
    {
      "cell_type": "code",
      "source": [
        "# Инициализируем findspark для работы с Spark.\n",
        "import findspark\n",
        "findspark.init()\n",
        "\n",
        "# Создаем экземпляр SparkSession для работы с Spark.\n",
        "from pyspark.sql import SparkSession\n",
        "spark = SparkSession.builder.master(\"local[*]\").getOrCreate()\n",
        "\n",
        "# Получаем контекст SparkContext для работы с Spark.\n",
        "sc = spark.sparkContext"
      ],
      "metadata": {
        "id": "iRGY9sdmFNp1"
      },
      "execution_count": 203,
      "outputs": []
    },
    {
      "cell_type": "markdown",
      "source": [
        "### Загрузите данные при помощи spark.read.csv из приложенного файла"
      ],
      "metadata": {
        "id": "7YHTh16z4k8O"
      }
    },
    {
      "cell_type": "markdown",
      "source": [
        "\n",
        "Набор данных растений ириса\n",
        "\n",
        "\n",
        "**Характеристики набора данных:**\n",
        "\n",
        "    :Количество экземпляров: 150 (по 50 в каждом из трёх классов)\n",
        "    :Количество атрибутов: 4 числовых, прогнозируемых атрибута и класс.\n",
        "    :Информация об атрибутах:\n",
        "        - sepal length - длина чашелистика в см\n",
        "        - sepal width - ширина чашелистика в см\n",
        "        - petal length - длина лепестка в см\n",
        "        - petal width - ширина лепестка в см\n",
        "        - Класс:\n",
        "                - 0-Setosa\n",
        "                - 1-Versicolour\n",
        "                - 2-Virginica\n"
      ],
      "metadata": {
        "id": "p7sJnZq8lcML"
      }
    },
    {
      "cell_type": "code",
      "source": [
        "# Загрузка данных: Данные загружаются из файла 'iris.CSV' в датафрейм Spark\n",
        "# с помощью метода read.csv(). Параметры inferSchema=True и header=True\n",
        "# используются для автоматического определения схемы данных и загрузки заголовка CSV-файла соответственно.\n",
        "\n",
        "df=spark.read.csv('iris.CSV', inferSchema=True, header=True)"
      ],
      "metadata": {
        "id": "Etnqphj_DWBk"
      },
      "execution_count": 204,
      "outputs": []
    },
    {
      "cell_type": "code",
      "source": [
        "# Отображаем первые 5 строк датафрейма.\n",
        "df.show(150)"
      ],
      "metadata": {
        "id": "sj0Mbw4G090m"
      },
      "execution_count": null,
      "outputs": []
    },
    {
      "cell_type": "markdown",
      "source": [
        "### При помощи VectorAssembler преобразовать все колонки с признаками в одну (использовать Pipeline — опционально).\n"
      ],
      "metadata": {
        "id": "klvlesUK40lp"
      }
    },
    {
      "cell_type": "code",
      "source": [
        "from pyspark.ml.linalg import Vectors\n",
        "from pyspark.ml.feature import VectorAssembler\n",
        "\n",
        "# В данном коде мы импортируем модули Vectors и VectorAssembler из PySpark.\n",
        "# Модуль Vectors содержит классы и функции для работы с векторами признаков,\n",
        "# а модуль VectorAssembler используется для сборки признаков в вектор."
      ],
      "metadata": {
        "id": "RY-XVXr74_YO"
      },
      "execution_count": 206,
      "outputs": []
    },
    {
      "cell_type": "code",
      "source": [
        "# Метод df.columns возвращает список столбцов датафрейма df.\n",
        "\n",
        "df.columns"
      ],
      "metadata": {
        "id": "whLkOZiPy4HW",
        "outputId": "5696a510-186d-4ddb-ca3f-35e6d2474798",
        "colab": {
          "base_uri": "https://localhost:8080/"
        }
      },
      "execution_count": 207,
      "outputs": [
        {
          "output_type": "execute_result",
          "data": {
            "text/plain": [
              "['sepal_length',\n",
              " 'sepal_width',\n",
              " 'petal_length',\n",
              " 'petal_width',\n",
              " 'variety',\n",
              " 'variety_num']"
            ]
          },
          "metadata": {},
          "execution_count": 207
        }
      ]
    },
    {
      "cell_type": "code",
      "source": [
        "# Преобразование признаков:\n",
        "# Функция VectorAssembler используется для преобразования признаков\n",
        "# 'sepal_length', 'sepal_width', 'petal_length', 'petal_width' в вектор признаков 'Features'.\n",
        "\n",
        "assembler = VectorAssembler(inputCols=[\n",
        " 'sepal_length',\n",
        " 'sepal_width',\n",
        " 'petal_length',\n",
        " 'petal_width',\n",
        " ], outputCol='Features')"
      ],
      "metadata": {
        "id": "RFxDtGc50DCF"
      },
      "execution_count": 208,
      "outputs": []
    },
    {
      "cell_type": "code",
      "source": [
        "df = assembler.transform(df)\n",
        "\n",
        "# В данном коде мы применяем функцию VectorAssembler к датафрейму df с помощью метода transform().\n",
        "# Метод transform() применяет функцию к каждому ряду датафрейма и возвращает новый датафрейм с преобразованными данными.\n",
        "# В результате применения VectorAssembler к df, мы получаем новый датафрейм, в котором все признаки\n",
        "# 'sepal_length', 'sepal_width', 'petal_length', 'petal_width' объединены в один столбец 'Features'."
      ],
      "metadata": {
        "id": "nQ2BJJ0p1tGW"
      },
      "execution_count": 209,
      "outputs": []
    },
    {
      "cell_type": "code",
      "source": [
        "df.show(5)"
      ],
      "metadata": {
        "id": "T0KnF8rP0j21",
        "outputId": "97d5bd88-ba3a-4d4f-ec52-9bdec5f68a80",
        "colab": {
          "base_uri": "https://localhost:8080/"
        }
      },
      "execution_count": 226,
      "outputs": [
        {
          "output_type": "stream",
          "name": "stdout",
          "text": [
            "+------------+-----------+------------+-----------+-------+-----------+-----------------+\n",
            "|sepal_length|sepal_width|petal_length|petal_width|variety|variety_num|         Features|\n",
            "+------------+-----------+------------+-----------+-------+-----------+-----------------+\n",
            "|         5.1|        3.5|         1.4|        0.2| Setosa|          0|[5.1,3.5,1.4,0.2]|\n",
            "|         4.9|        3.0|         1.4|        0.2| Setosa|          0|[4.9,3.0,1.4,0.2]|\n",
            "|         4.7|        3.2|         1.3|        0.2| Setosa|          0|[4.7,3.2,1.3,0.2]|\n",
            "|         4.6|        3.1|         1.5|        0.2| Setosa|          0|[4.6,3.1,1.5,0.2]|\n",
            "|         5.0|        3.6|         1.4|        0.2| Setosa|          0|[5.0,3.6,1.4,0.2]|\n",
            "+------------+-----------+------------+-----------+-------+-----------+-----------------+\n",
            "only showing top 5 rows\n",
            "\n"
          ]
        }
      ]
    },
    {
      "cell_type": "markdown",
      "source": [
        "### Разобьем данные на данные для обучения и проверки"
      ],
      "metadata": {
        "id": "SJU8qQVaWv7l"
      }
    },
    {
      "cell_type": "code",
      "source": [
        "train, test = df.randomSplit([0.8, 0.2], seed=12345)\n",
        "\n",
        "# Разбиение данных на обучающую и тестовую выборки:\n",
        "# Метод randomSplit() используется для случайного разделения датафрейма\n",
        "# на обучающую и тестовую выборки с заданными пропорциями.\n",
        "\n",
        "#В данном случае, 80% данных используется для обучения, а 20% - для тестирования.\n",
        "\n",
        "# Параметр seed=12345 в методе randomSplit()\n",
        "# используется для задания начального значения генератора случайных чисел.\n",
        "\n",
        "# Это позволяет получить воспроизводимые результаты разделения данных на обучающую и тестовую выборки.\n",
        "# Если вы используете один и тот же код и зададите тот же seed, то получите одни и те же случайные числа,\n",
        "# и, следовательно, одни и те же обучающую и тестовую выборки"
      ],
      "metadata": {
        "id": "NO4HzbICT8kv"
      },
      "execution_count": 211,
      "outputs": []
    },
    {
      "cell_type": "code",
      "source": [
        "train.show(5)"
      ],
      "metadata": {
        "id": "6UiPxGbLpQmW",
        "outputId": "649aa547-e00c-4c39-cdac-dc084002d713",
        "colab": {
          "base_uri": "https://localhost:8080/"
        }
      },
      "execution_count": 227,
      "outputs": [
        {
          "output_type": "stream",
          "name": "stdout",
          "text": [
            "+------------+-----------+------------+-----------+-------+-----------+-----------------+\n",
            "|sepal_length|sepal_width|petal_length|petal_width|variety|variety_num|         Features|\n",
            "+------------+-----------+------------+-----------+-------+-----------+-----------------+\n",
            "|         4.3|        3.0|         1.1|        0.1| Setosa|          0|[4.3,3.0,1.1,0.1]|\n",
            "|         4.4|        2.9|         1.4|        0.2| Setosa|          0|[4.4,2.9,1.4,0.2]|\n",
            "|         4.4|        3.0|         1.3|        0.2| Setosa|          0|[4.4,3.0,1.3,0.2]|\n",
            "|         4.4|        3.2|         1.3|        0.2| Setosa|          0|[4.4,3.2,1.3,0.2]|\n",
            "|         4.5|        2.3|         1.3|        0.3| Setosa|          0|[4.5,2.3,1.3,0.3]|\n",
            "+------------+-----------+------------+-----------+-------+-----------+-----------------+\n",
            "only showing top 5 rows\n",
            "\n"
          ]
        }
      ]
    },
    {
      "cell_type": "markdown",
      "source": [
        "### Создадим и обучим модель логистической регрессии"
      ],
      "metadata": {
        "id": "lnJHcaSA5XPb"
      }
    },
    {
      "cell_type": "code",
      "source": [
        "from pyspark.ml.classification import LogisticRegression\n",
        "\n",
        "# В данном коде мы импортируем класс LogisticRegression из модуля pyspark.ml.classification.\n",
        "# Класс LogisticRegression используется для обучения модели логистической регрессии."
      ],
      "metadata": {
        "id": "s0d9_QT8WlSH"
      },
      "execution_count": 228,
      "outputs": []
    },
    {
      "cell_type": "code",
      "source": [
        "lr = LogisticRegression(featuresCol = 'Features', labelCol = 'variety_num')\n",
        "lrModel = lr.fit(train)\n",
        "\n",
        "# Обучение модели логистической регрессии:\n",
        "# Создается экземпляр класса LogisticRegression\n",
        "# с указанием столбца признаков 'Features' и столбца меток 'variety_num'.\n",
        "\n",
        "# Затем модель обучается на обучающей выборке с помощью метода fit()."
      ],
      "metadata": {
        "id": "uvrsUBz92UzV"
      },
      "execution_count": 229,
      "outputs": []
    },
    {
      "cell_type": "code",
      "source": [
        "train_res = lrModel.transform(train)\n",
        "test_res = lrModel.transform(test)\n",
        "\n",
        "# В данном коде мы применяем обученную модель логистической регрессии lrModel\n",
        "# к обучающей выборке train и тестовой выборке test с помощью метода transform().\n",
        "\n",
        "# Метод transform() применяет модель к данным и возвращает новый датафрейм с предсказаниями модели.\n",
        "# В результате, мы получаем датафреймы train_res и test_res, которые содержат исходные данные и предсказания модели для каждой строки."
      ],
      "metadata": {
        "id": "lzpggDOp2rZj"
      },
      "execution_count": 230,
      "outputs": []
    },
    {
      "cell_type": "code",
      "source": [
        "df_pandas = train_res.toPandas()\n",
        "df_pandas.head(1)\n",
        "\n",
        "# Данный код преобразует датафрейм train_res из PySpark в pandas.DataFrame с помощью метода toPandas().\n",
        "# Затем он выводит на экран первую строку преобразованного датафрейма с помощью метода head(1).\n",
        "# Этот код позволяет просмотреть первые несколько строк датафрейма train_res как полноценный датафрейм в pandas."
      ],
      "metadata": {
        "id": "77YLuvws2wbD",
        "outputId": "e4025f97-f54e-4db0-ad9a-bb6cf3f36adf",
        "colab": {
          "base_uri": "https://localhost:8080/",
          "height": 98
        }
      },
      "execution_count": 231,
      "outputs": [
        {
          "output_type": "execute_result",
          "data": {
            "text/plain": [
              "   sepal_length  sepal_width  petal_length  petal_width variety  variety_num  \\\n",
              "0           4.3          3.0           1.1          0.1  Setosa            0   \n",
              "\n",
              "               Features                                      rawPrediction  \\\n",
              "0  [4.3, 3.0, 1.1, 0.1]  [67.70279195875312, -5.483728693221446, -62.21...   \n",
              "\n",
              "                                         probability  prediction  \n",
              "0  [1.0, 1.642471835404166e-32, 3.764048385223648...         0.0  "
            ],
            "text/html": [
              "\n",
              "  <div id=\"df-3e859555-060a-4781-b6ac-e5812db277bc\" class=\"colab-df-container\">\n",
              "    <div>\n",
              "<style scoped>\n",
              "    .dataframe tbody tr th:only-of-type {\n",
              "        vertical-align: middle;\n",
              "    }\n",
              "\n",
              "    .dataframe tbody tr th {\n",
              "        vertical-align: top;\n",
              "    }\n",
              "\n",
              "    .dataframe thead th {\n",
              "        text-align: right;\n",
              "    }\n",
              "</style>\n",
              "<table border=\"1\" class=\"dataframe\">\n",
              "  <thead>\n",
              "    <tr style=\"text-align: right;\">\n",
              "      <th></th>\n",
              "      <th>sepal_length</th>\n",
              "      <th>sepal_width</th>\n",
              "      <th>petal_length</th>\n",
              "      <th>petal_width</th>\n",
              "      <th>variety</th>\n",
              "      <th>variety_num</th>\n",
              "      <th>Features</th>\n",
              "      <th>rawPrediction</th>\n",
              "      <th>probability</th>\n",
              "      <th>prediction</th>\n",
              "    </tr>\n",
              "  </thead>\n",
              "  <tbody>\n",
              "    <tr>\n",
              "      <th>0</th>\n",
              "      <td>4.3</td>\n",
              "      <td>3.0</td>\n",
              "      <td>1.1</td>\n",
              "      <td>0.1</td>\n",
              "      <td>Setosa</td>\n",
              "      <td>0</td>\n",
              "      <td>[4.3, 3.0, 1.1, 0.1]</td>\n",
              "      <td>[67.70279195875312, -5.483728693221446, -62.21...</td>\n",
              "      <td>[1.0, 1.642471835404166e-32, 3.764048385223648...</td>\n",
              "      <td>0.0</td>\n",
              "    </tr>\n",
              "  </tbody>\n",
              "</table>\n",
              "</div>\n",
              "    <div class=\"colab-df-buttons\">\n",
              "\n",
              "  <div class=\"colab-df-container\">\n",
              "    <button class=\"colab-df-convert\" onclick=\"convertToInteractive('df-3e859555-060a-4781-b6ac-e5812db277bc')\"\n",
              "            title=\"Convert this dataframe to an interactive table.\"\n",
              "            style=\"display:none;\">\n",
              "\n",
              "  <svg xmlns=\"http://www.w3.org/2000/svg\" height=\"24px\" viewBox=\"0 -960 960 960\">\n",
              "    <path d=\"M120-120v-720h720v720H120Zm60-500h600v-160H180v160Zm220 220h160v-160H400v160Zm0 220h160v-160H400v160ZM180-400h160v-160H180v160Zm440 0h160v-160H620v160ZM180-180h160v-160H180v160Zm440 0h160v-160H620v160Z\"/>\n",
              "  </svg>\n",
              "    </button>\n",
              "\n",
              "  <style>\n",
              "    .colab-df-container {\n",
              "      display:flex;\n",
              "      gap: 12px;\n",
              "    }\n",
              "\n",
              "    .colab-df-convert {\n",
              "      background-color: #E8F0FE;\n",
              "      border: none;\n",
              "      border-radius: 50%;\n",
              "      cursor: pointer;\n",
              "      display: none;\n",
              "      fill: #1967D2;\n",
              "      height: 32px;\n",
              "      padding: 0 0 0 0;\n",
              "      width: 32px;\n",
              "    }\n",
              "\n",
              "    .colab-df-convert:hover {\n",
              "      background-color: #E2EBFA;\n",
              "      box-shadow: 0px 1px 2px rgba(60, 64, 67, 0.3), 0px 1px 3px 1px rgba(60, 64, 67, 0.15);\n",
              "      fill: #174EA6;\n",
              "    }\n",
              "\n",
              "    .colab-df-buttons div {\n",
              "      margin-bottom: 4px;\n",
              "    }\n",
              "\n",
              "    [theme=dark] .colab-df-convert {\n",
              "      background-color: #3B4455;\n",
              "      fill: #D2E3FC;\n",
              "    }\n",
              "\n",
              "    [theme=dark] .colab-df-convert:hover {\n",
              "      background-color: #434B5C;\n",
              "      box-shadow: 0px 1px 3px 1px rgba(0, 0, 0, 0.15);\n",
              "      filter: drop-shadow(0px 1px 2px rgba(0, 0, 0, 0.3));\n",
              "      fill: #FFFFFF;\n",
              "    }\n",
              "  </style>\n",
              "\n",
              "    <script>\n",
              "      const buttonEl =\n",
              "        document.querySelector('#df-3e859555-060a-4781-b6ac-e5812db277bc button.colab-df-convert');\n",
              "      buttonEl.style.display =\n",
              "        google.colab.kernel.accessAllowed ? 'block' : 'none';\n",
              "\n",
              "      async function convertToInteractive(key) {\n",
              "        const element = document.querySelector('#df-3e859555-060a-4781-b6ac-e5812db277bc');\n",
              "        const dataTable =\n",
              "          await google.colab.kernel.invokeFunction('convertToInteractive',\n",
              "                                                    [key], {});\n",
              "        if (!dataTable) return;\n",
              "\n",
              "        const docLinkHtml = 'Like what you see? Visit the ' +\n",
              "          '<a target=\"_blank\" href=https://colab.research.google.com/notebooks/data_table.ipynb>data table notebook</a>'\n",
              "          + ' to learn more about interactive tables.';\n",
              "        element.innerHTML = '';\n",
              "        dataTable['output_type'] = 'display_data';\n",
              "        await google.colab.output.renderOutput(dataTable, element);\n",
              "        const docLink = document.createElement('div');\n",
              "        docLink.innerHTML = docLinkHtml;\n",
              "        element.appendChild(docLink);\n",
              "      }\n",
              "    </script>\n",
              "  </div>\n",
              "\n",
              "    </div>\n",
              "  </div>\n"
            ]
          },
          "metadata": {},
          "execution_count": 231
        }
      ]
    },
    {
      "cell_type": "markdown",
      "source": [
        "1. Значения `rawPrediction` представляют собой скалярное произведение вектора признаков и вектора коэффициентов модели.\n",
        "\n",
        "* `67.70279195875312` - это предсказание модели для класса `Setosa`.\n",
        "\n",
        "* `-5.483728693221446` - это предсказание модели для класса `Versicolor`.\n",
        "\n",
        "* `-62.21906326553166` - это предсказание модели для класса `Virginica`.\n",
        "\n",
        "Чем больше это значение, тем больше вероятность того, что наблюдение принадлежит к соответствующему классу.\n",
        "\n",
        "\n",
        "2. Pначения `probability` представляют собой вероятности принадлежности каждого наблюдения к каждому из классов.\n",
        "\n",
        "* `1.0` - это вероятность принадлежности наблюдения к классу `Setosa`.\n",
        "\n",
        "* `1.642471835404166e-32` - это вероятность принадлежности наблюдения к классу `Versicolor`.\n",
        "\n",
        "\n",
        "* `3.764048385223648e-57` - это вероятность принадлежности наблюдения к классу `Virginica`.\n",
        "\n",
        "Это значение может быть интерпретировано как степень уверенности модели в принадлежности данного наблюдения к классу. Чем ближе значение к 1, тем больше вероятность того, что наблюдение принадлежит к соответствующему классу.\n",
        "\n",
        "3. `prediction` - это предсказанный класс для каждого наблюдения. В данном случае, наблюдение было предсказано как класс `Setosa`.\n",
        "\n"
      ],
      "metadata": {
        "id": "AIwcNxT3Jvpi"
      }
    },
    {
      "cell_type": "markdown",
      "source": [
        "### Оценим качество\n",
        "\n",
        "Для оценки качества предсказания в spark реализованно несколько классов\n",
        "\n",
        "Если мы решаем задачу бинарной классификации (то есть классов - 2),\n",
        "\n",
        "то нам подойдет `BinaryCLassificationEvaluator`,\n",
        "\n",
        "а если классов больше 2-х, то `MulticlassClassificationEvaluator`"
      ],
      "metadata": {
        "id": "-ttDlzuedZCB"
      }
    },
    {
      "cell_type": "code",
      "source": [
        "from pyspark.ml.evaluation import MulticlassClassificationEvaluator\n",
        "\n",
        "# Библиотека pyspark.ml.evaluation содержит классы и функции\n",
        "# для оценки качества моделей машинного обучения в PySpark.\n",
        "\n",
        "# В данном случае, мы используем класс MulticlassClassificationEvaluator\n",
        "# для оценки качества модели логистической регрессии на основе метрики точности."
      ],
      "metadata": {
        "id": "_WJzd21g2v31"
      },
      "execution_count": 232,
      "outputs": []
    },
    {
      "cell_type": "code",
      "source": [
        "ev = MulticlassClassificationEvaluator(labelCol='variety_num')\n",
        "\n",
        "# Оценка качества модели: Для оценки качества модели используется MulticlassClassificationEvaluator.\n",
        "# Создается экземпляр класса MulticlassClassificationEvaluator с указанием столбца меток 'variety_num'."
      ],
      "metadata": {
        "id": "TX3UVe-zgqRu"
      },
      "execution_count": 233,
      "outputs": []
    },
    {
      "cell_type": "code",
      "source": [
        "# Метод evaluate() применяется к результатам обучения и тестирования модели. Значение точности выводится на экран.\n",
        "\n",
        "ev.evaluate(train_res)\n",
        "print(\"Точность модели на обучающей выборке: %.2f\" % ev.evaluate(train_res))\n",
        "\n",
        "ev.evaluate(test_res)\n",
        "print(\"Точность модели на тестовой выборке: %.2f\" % ev.evaluate(test_res))"
      ],
      "metadata": {
        "id": "tgtP-OIsYIT_",
        "outputId": "485f0291-15ec-454b-9112-a01eb79c3af4",
        "colab": {
          "base_uri": "https://localhost:8080/"
        }
      },
      "execution_count": 234,
      "outputs": [
        {
          "output_type": "stream",
          "name": "stdout",
          "text": [
            "Точность модели на обучающей выборке: 0.98\n",
            "Точность модели на тестовой выборке: 1.00\n"
          ]
        }
      ]
    },
    {
      "cell_type": "markdown",
      "source": [
        "### Обучите модель дерева решений и оцените его качество\n",
        "\n",
        "\n",
        "\n"
      ],
      "metadata": {
        "id": "oP6zkL66d2R0"
      }
    },
    {
      "cell_type": "code",
      "source": [
        "from pyspark.ml.classification import DecisionTreeClassifier"
      ],
      "metadata": {
        "id": "S0QEv8VucaHJ"
      },
      "execution_count": 220,
      "outputs": []
    },
    {
      "cell_type": "code",
      "source": [
        "tr = DecisionTreeClassifier(featuresCol='Features', labelCol='variety_num')\n",
        "trFitted = tr.fit(train)\n",
        "\n",
        "# Обучение модели дерева решений:\n",
        "# Аналогично предыдущему шагу, создается экземпляр класса DecisionTreeClassifier\n",
        "# с указанием столбца признаков 'Features' и столбца меток 'variety_num'.\n",
        "# Затем модель обучается на обучающей выборке с помощью метода fit()."
      ],
      "metadata": {
        "id": "0t4jhIVj4oXH"
      },
      "execution_count": 221,
      "outputs": []
    },
    {
      "cell_type": "code",
      "source": [
        "train_tr_res=trFitted.transform(train)\n",
        "test_tr_res=trFitted.transform(test)\n",
        "\n",
        "# В данном коде мы применяем обученную модель логистической регрессии lrModel\n",
        "# к обучающей выборке train и тестовой выборке test с помощью метода transform()."
      ],
      "metadata": {
        "id": "3Ir9Epj76btx"
      },
      "execution_count": 222,
      "outputs": []
    },
    {
      "cell_type": "code",
      "source": [
        "train_tr_res.show(5)"
      ],
      "metadata": {
        "id": "4JSs8Dsk6b6m",
        "outputId": "0002567a-cc10-4266-8ef8-2473abb2293e",
        "colab": {
          "base_uri": "https://localhost:8080/"
        }
      },
      "execution_count": 236,
      "outputs": [
        {
          "output_type": "stream",
          "name": "stdout",
          "text": [
            "+------------+-----------+------------+-----------+-------+-----------+-----------------+--------------+-------------+----------+\n",
            "|sepal_length|sepal_width|petal_length|petal_width|variety|variety_num|         Features| rawPrediction|  probability|prediction|\n",
            "+------------+-----------+------------+-----------+-------+-----------+-----------------+--------------+-------------+----------+\n",
            "|         4.3|        3.0|         1.1|        0.1| Setosa|          0|[4.3,3.0,1.1,0.1]|[43.0,0.0,0.0]|[1.0,0.0,0.0]|       0.0|\n",
            "|         4.4|        2.9|         1.4|        0.2| Setosa|          0|[4.4,2.9,1.4,0.2]|[43.0,0.0,0.0]|[1.0,0.0,0.0]|       0.0|\n",
            "|         4.4|        3.0|         1.3|        0.2| Setosa|          0|[4.4,3.0,1.3,0.2]|[43.0,0.0,0.0]|[1.0,0.0,0.0]|       0.0|\n",
            "|         4.4|        3.2|         1.3|        0.2| Setosa|          0|[4.4,3.2,1.3,0.2]|[43.0,0.0,0.0]|[1.0,0.0,0.0]|       0.0|\n",
            "|         4.5|        2.3|         1.3|        0.3| Setosa|          0|[4.5,2.3,1.3,0.3]|[43.0,0.0,0.0]|[1.0,0.0,0.0]|       0.0|\n",
            "+------------+-----------+------------+-----------+-------+-----------+-----------------+--------------+-------------+----------+\n",
            "only showing top 5 rows\n",
            "\n"
          ]
        }
      ]
    },
    {
      "cell_type": "code",
      "source": [
        "# Метод evaluate() применяется к результатам обучения и тестирования модели. Значение точности выводится на экран.\n",
        "\n",
        "ev.evaluate(train_tr_res)\n",
        "print(\"Точность модели дерева решений на обучающей выборке: %.2f\" % ev.evaluate(train_tr_res))\n",
        "\n",
        "ev.evaluate(test_tr_res)\n",
        "print(\"Точность модели дерева решений на тестовой выборке: %.2f\" % ev.evaluate(test_tr_res))"
      ],
      "metadata": {
        "id": "qpEN4bGg6hy2",
        "outputId": "c118d6e8-c648-4075-cab5-3084ba027974",
        "colab": {
          "base_uri": "https://localhost:8080/"
        }
      },
      "execution_count": 225,
      "outputs": [
        {
          "output_type": "stream",
          "name": "stdout",
          "text": [
            "Точность модели дерева решений на обучающей выборке: 0.99\n",
            "Точность модели дерева решений на тестовой выборке: 1.00\n"
          ]
        }
      ]
    },
    {
      "cell_type": "markdown",
      "source": [
        "По результатам оценки моделей логистической регрессии и дерева решений с использованием библиотеки PySpark можно сделать следующие выводы:\n",
        "\n",
        "1. Модель логистической регрессии показала высокую точность на обучающей выборке (98%) и отличную точность на тестовой выборке (100%). Это говорит о том, что модель хорошо обобщает данные и способна делать точные прогнозы как на известных, так и на новых данных.\n",
        "\n",
        "2. Модель дерева решений также продемонстрировала высокую точность на обучающей выборке (99%) и отличную точность на тестовой выборке (100%). Это указывает на то, что модель дерева решений эффективно обучается на данных и хорошо обобщает информацию для делания точных прогнозов.\n",
        "\n",
        "Обе модели показали высокие показатели точности как на обучающей, так и на тестовой выборках, что свидетельствует о их хорошей способности к классификации. Однако, у модели логистической регрессии наблюдается небольшое снижение точности на тестовой выборке по сравнению с обучающей, в то время как у модели дерева решений точность остается на одном уровне. Таким образом, обе модели могут быть использованы для классификации данных, но стоит учитывать особенности каждой из них при принятии окончательного решения."
      ],
      "metadata": {
        "id": "GppiO8K1gVWj"
      }
    }
  ]
}