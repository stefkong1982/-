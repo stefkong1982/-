{
  "nbformat": 4,
  "nbformat_minor": 0,
  "metadata": {
    "colab": {
      "provenance": []
    },
    "kernelspec": {
      "name": "python3",
      "display_name": "Python 3"
    }
  },
  "cells": [
    {
      "cell_type": "code",
      "metadata": {
        "id": "Bp9wLiF1hcTH"
      },
      "source": [
        "!apt-get install openjdk-8-jdk-headless -qq > /dev/null"
      ],
      "execution_count": null,
      "outputs": []
    },
    {
      "cell_type": "code",
      "metadata": {
        "id": "n2KTesZqhn8R"
      },
      "source": [
        "!wget -q https://dlcdn.apache.org/spark/spark-3.3.1/spark-3.3.1-bin-hadoop3.tgz"
      ],
      "execution_count": null,
      "outputs": []
    },
    {
      "cell_type": "code",
      "metadata": {
        "id": "H0dOI6VThrjo"
      },
      "source": [
        "!tar -xf spark-3.3.1-bin-hadoop3.tgz"
      ],
      "execution_count": null,
      "outputs": []
    },
    {
      "cell_type": "code",
      "metadata": {
        "id": "4qcJmPOyhtzo"
      },
      "source": [
        "!pip install -q findspark"
      ],
      "execution_count": null,
      "outputs": []
    },
    {
      "cell_type": "code",
      "metadata": {
        "id": "XHkc73G6hvQc"
      },
      "source": [
        "import os\n",
        "os.environ[\"JAVA_HOME\"] = \"/usr/lib/jvm/java-8-openjdk-amd64\"\n",
        "os.environ[\"SPARK_HOME\"] = \"/content/spark-3.3.1-bin-hadoop3\""
      ],
      "execution_count": null,
      "outputs": []
    },
    {
      "cell_type": "markdown",
      "source": [],
      "metadata": {
        "id": "8XzxmEpcGe-J"
      }
    },
    {
      "cell_type": "code",
      "metadata": {
        "id": "l-EjuU-fhw-l"
      },
      "source": [
        "import findspark\n",
        "findspark.init()\n",
        "from pyspark.sql import SparkSession\n",
        "\n",
        "spark = SparkSession.builder.master(\"local[*]\").getOrCreate()"
      ],
      "execution_count": null,
      "outputs": []
    },
    {
      "cell_type": "code",
      "metadata": {
        "id": "iTyCfbjEhyOq"
      },
      "source": [
        "df = spark.read.csv('churn.csv', inferSchema=True, header=True)"
      ],
      "execution_count": null,
      "outputs": []
    },
    {
      "cell_type": "code",
      "metadata": {
        "id": "CN61OqKkh5BA",
        "outputId": "4437f3c4-bb94-4dcc-b0a3-457376f1e9a4",
        "colab": {
          "base_uri": "https://localhost:8080/"
        }
      },
      "source": [
        "df.show()"
      ],
      "execution_count": null,
      "outputs": [
        {
          "output_type": "stream",
          "name": "stdout",
          "text": [
            "+-----+--------------+---------+------------+------------------+---------------+---------------------+-----------------+---------------+----------------+-----------------+---------------+----------------+-------------------+-----------------+------------------+------------------+----------------+-----------------+-----------------------------+-------+\n",
            "|state|account_length|area_code|phone_number|international_plan|voice_mail_plan|number_vmail_messages|total_day_minutes|total_day_calls|total_day_charge|total_eve_minutes|total_eve_calls|total_eve_charge|total_night_minutes|total_night_calls|total_night_charge|total_intl_minutes|total_intl_calls|total_intl_charge|number_customer_service_calls|churned|\n",
            "+-----+--------------+---------+------------+------------------+---------------+---------------------+-----------------+---------------+----------------+-----------------+---------------+----------------+-------------------+-----------------+------------------+------------------+----------------+-----------------+-----------------------------+-------+\n",
            "|   KS|           128|      415|    382-4657|                no|            yes|                   25|            265.1|            110|           45.07|            197.4|             99|           16.78|              244.7|               91|             11.01|              10.0|               3|              2.7|                            1|  false|\n",
            "|   OH|           107|      415|    371-7191|                no|            yes|                   26|            161.6|            123|           27.47|            195.5|            103|           16.62|              254.4|              103|             11.45|              13.7|               3|              3.7|                            1|  false|\n",
            "|   NJ|           137|      415|    358-1921|                no|             no|                    0|            243.4|            114|           41.38|            121.2|            110|            10.3|              162.6|              104|              7.32|              12.2|               5|             3.29|                            0|  false|\n",
            "|   OH|            84|      408|    375-9999|               yes|             no|                    0|            299.4|             71|            50.9|             61.9|             88|            5.26|              196.9|               89|              8.86|               6.6|               7|             1.78|                            2|  false|\n",
            "|   OK|            75|      415|    330-6626|               yes|             no|                    0|            166.7|            113|           28.34|            148.3|            122|           12.61|              186.9|              121|              8.41|              10.1|               3|             2.73|                            3|  false|\n",
            "|   AL|           118|      510|    391-8027|               yes|             no|                    0|            223.4|             98|           37.98|            220.6|            101|           18.75|              203.9|              118|              9.18|               6.3|               6|              1.7|                            0|  false|\n",
            "|   MA|           121|      510|    355-9993|                no|            yes|                   24|            218.2|             88|           37.09|            348.5|            108|           29.62|              212.6|              118|              9.57|               7.5|               7|             2.03|                            3|  false|\n",
            "|   MO|           147|      415|    329-9001|               yes|             no|                    0|            157.0|             79|           26.69|            103.1|             94|            8.76|              211.8|               96|              9.53|               7.1|               6|             1.92|                            0|  false|\n",
            "|   LA|           117|      408|    335-4719|                no|             no|                    0|            184.5|             97|           31.37|            351.6|             80|           29.89|              215.8|               90|              9.71|               8.7|               4|             2.35|                            1|  false|\n",
            "|   WV|           141|      415|    330-8173|               yes|            yes|                   37|            258.6|             84|           43.96|            222.0|            111|           18.87|              326.4|               97|             14.69|              11.2|               5|             3.02|                            0|  false|\n",
            "|   IN|            65|      415|    329-6603|                no|             no|                    0|            129.1|            137|           21.95|            228.5|             83|           19.42|              208.8|              111|               9.4|              12.7|               6|             3.43|                            4|   true|\n",
            "|   RI|            74|      415|    344-9403|                no|             no|                    0|            187.7|            127|           31.91|            163.4|            148|           13.89|              196.0|               94|              8.82|               9.1|               5|             2.46|                            0|  false|\n",
            "|   IA|           168|      408|    363-1107|                no|             no|                    0|            128.8|             96|            21.9|            104.9|             71|            8.92|              141.1|              128|              6.35|              11.2|               2|             3.02|                            1|  false|\n",
            "|   MT|            95|      510|    394-8006|                no|             no|                    0|            156.6|             88|           26.62|            247.6|             75|           21.05|              192.3|              115|              8.65|              12.3|               5|             3.32|                            3|  false|\n",
            "|   IA|            62|      415|    366-9238|                no|             no|                    0|            120.7|             70|           20.52|            307.2|             76|           26.11|              203.0|               99|              9.14|              13.1|               6|             3.54|                            4|  false|\n",
            "|   NY|           161|      415|    351-7269|                no|             no|                    0|            332.9|             67|           56.59|            317.8|             97|           27.01|              160.6|              128|              7.23|               5.4|               9|             1.46|                            4|   true|\n",
            "|   ID|            85|      408|    350-8884|                no|            yes|                   27|            196.4|            139|           33.39|            280.9|             90|           23.88|               89.3|               75|              4.02|              13.8|               4|             3.73|                            1|  false|\n",
            "|   VT|            93|      510|    386-2923|                no|             no|                    0|            190.7|            114|           32.42|            218.2|            111|           18.55|              129.6|              121|              5.83|               8.1|               3|             2.19|                            3|  false|\n",
            "|   VA|            76|      510|    356-2992|                no|            yes|                   33|            189.7|             66|           32.25|            212.8|             65|           18.09|              165.7|              108|              7.46|              10.0|               5|              2.7|                            1|  false|\n",
            "|   TX|            73|      415|    373-2782|                no|             no|                    0|            224.4|             90|           38.15|            159.5|             88|           13.56|              192.8|               74|              8.68|              13.0|               2|             3.51|                            1|  false|\n",
            "+-----+--------------+---------+------------+------------------+---------------+---------------------+-----------------+---------------+----------------+-----------------+---------------+----------------+-------------------+-----------------+------------------+------------------+----------------+-----------------+-----------------------------+-------+\n",
            "only showing top 20 rows\n",
            "\n"
          ]
        }
      ]
    },
    {
      "cell_type": "markdown",
      "metadata": {
        "id": "EGhp3SBgh93g"
      },
      "source": [
        "1. Построить гистограмму количества звонков в техническую поддержку"
      ]
    },
    {
      "cell_type": "code",
      "metadata": {
        "id": "T3Mc7UKth8gB"
      },
      "source": [
        "import matplotlib.pyplot as plt\n"
      ],
      "execution_count": null,
      "outputs": []
    },
    {
      "cell_type": "code",
      "metadata": {
        "id": "frOgCEjViGuj"
      },
      "source": [
        "number_of_calls = [v.number_customer_service_calls for v in df[['number_customer_service_calls']].collect()]"
      ],
      "execution_count": null,
      "outputs": []
    },
    {
      "cell_type": "code",
      "metadata": {
        "id": "-yLaDxn8iOfG",
        "outputId": "9f1963bd-ae20-40d1-fe9c-7771da892494",
        "colab": {
          "base_uri": "https://localhost:8080/",
          "height": 338
        }
      },
      "source": [
        "plt.hist(number_of_calls)"
      ],
      "execution_count": null,
      "outputs": [
        {
          "output_type": "execute_result",
          "data": {
            "text/plain": [
              "(array([1023., 1786., 1127.,  665.,  252.,   96.,   34.,   13.,    2.,\n",
              "           2.]),\n",
              " array([0. , 0.9, 1.8, 2.7, 3.6, 4.5, 5.4, 6.3, 7.2, 8.1, 9. ]),\n",
              " <a list of 10 Patch objects>)"
            ]
          },
          "metadata": {},
          "execution_count": 11
        },
        {
          "output_type": "display_data",
          "data": {
            "text/plain": [
              "<Figure size 432x288 with 1 Axes>"
            ],
            "image/png": "[encoded data removed]"
          },
          "metadata": {
            "needs_background": "light"
          }
        }
      ]
    },
    {
      "cell_type": "markdown",
      "metadata": {
        "id": "fd6QGSqbjSWG"
      },
      "source": [
        "2.Рассчитать и построить гистограмму общей длительности звонков клиента (дневных + ночных + вечерних + международны)"
      ]
    },
    {
      "cell_type": "code",
      "metadata": {
        "id": "GjN2kKbQiQ3p"
      },
      "source": [
        "df = df.withColumn('total_calls', df['total_day_minutes'] + df['total_eve_minutes'] + df['total_night_minutes'] + df['total_intl_minutes'])"
      ],
      "execution_count": null,
      "outputs": []
    },
    {
      "cell_type": "code",
      "metadata": {
        "id": "DNb4hhfNjcWl",
        "outputId": "7248040d-3b18-42d3-b433-45dbee4d9624",
        "colab": {
          "base_uri": "https://localhost:8080/",
          "height": 356
        }
      },
      "source": [
        "plt.hist([v.total_calls for v in df[['total_calls']].collect()])"
      ],
      "execution_count": null,
      "outputs": [
        {
          "output_type": "execute_result",
          "data": {
            "text/plain": [
              "(array([  10.,   88.,  267.,  784., 1206., 1268.,  864.,  381.,  109.,\n",
              "          23.]),\n",
              " array([284.3 , 344.37, 404.44, 464.51, 524.58, 584.65, 644.72, 704.79,\n",
              "        764.86, 824.93, 885.  ]),\n",
              " <a list of 10 Patch objects>)"
            ]
          },
          "metadata": {},
          "execution_count": 13
        },
        {
          "output_type": "display_data",
          "data": {
            "text/plain": [
              "<Figure size 432x288 with 1 Axes>"
            ],
            "image/png": "[encoded data removed]"
          },
          "metadata": {
            "needs_background": "light"
          }
        }
      ]
    },
    {
      "cell_type": "markdown",
      "metadata": {
        "id": "svrWXHMYjhIh"
      },
      "source": [
        "3. Собственноручно (не используя встроенных функций) рассчитать линейный коэффициент корреляции (https://ru.wikipedia.org/wiki/Корреляция) общего количества минут и количества звонков в техподдержку"
      ]
    },
    {
      "cell_type": "markdown",
      "metadata": {
        "id": "cBI4LCRXniKH"
      },
      "source": []
    },
    {
      "cell_type": "code",
      "metadata": {
        "id": "cM5ZPK5Ojf34"
      },
      "source": [
        "from pyspark.sql.functions import mean as _mean, stddev as _stddev, sum as _sum, sqrt as _sqrt, pow as _pow, col"
      ],
      "execution_count": null,
      "outputs": []
    },
    {
      "cell_type": "code",
      "metadata": {
        "id": "k5Cp71BAjogV"
      },
      "source": [
        "df_stats = df.select(\n",
        "    _mean(col('total_calls')).alias('mean_calls'),\n",
        "    _mean(col('number_customer_service_calls')).alias('mean_service')\n",
        ").collect()\n",
        "\n",
        "mean_calls = df_stats[0]['mean_calls']\n",
        "mean_service = df_stats[0]['mean_service']"
      ],
      "execution_count": null,
      "outputs": []
    },
    {
      "cell_type": "code",
      "metadata": {
        "id": "SdlHRR6gkI-I",
        "outputId": "a56b96d5-0869-4dfd-ad5c-115fc152cd29",
        "colab": {
          "base_uri": "https://localhost:8080/"
        }
      },
      "source": [
        "df.select( (_sum( (col('total_calls') - mean_calls) * (col('number_customer_service_calls') - mean_service ) ) /  _sqrt( _sum( _pow(col('total_calls') - mean_calls, 2) ) * _sum( _pow(col('number_customer_service_calls') - mean_service, 2) ) )).alias('r')).collect()"
      ],
      "execution_count": null,
      "outputs": [
        {
          "output_type": "execute_result",
          "data": {
            "text/plain": [
              "[Row(r=-0.01140791082744116)]"
            ]
          },
          "metadata": {},
          "execution_count": 16
        }
      ]
    },
    {
      "cell_type": "markdown",
      "metadata": {
        "id": "B0Dex-nMlIAO"
      },
      "source": [
        "4. Визуализировать точечный график по общему количеству минут / количеству звонков в поддержку, подкрасив точки в зависимости от оттока абонента"
      ]
    },
    {
      "cell_type": "code",
      "metadata": {
        "id": "jOCfKu11kule",
        "outputId": "12710599-9ae6-4f3f-ef00-bd59c0b3bf10",
        "colab": {
          "base_uri": "https://localhost:8080/",
          "height": 283
        }
      },
      "source": [
        "plt.scatter(\n",
        "    [v.total_calls for v in df[['total_calls']].collect()],\n",
        "    number_of_calls,\n",
        "    c=[v.churned for v in df[['churned']].collect()]\n",
        ")"
      ],
      "execution_count": null,
      "outputs": [
        {
          "output_type": "execute_result",
          "data": {
            "text/plain": [
              "<matplotlib.collections.PathCollection at 0x7fc716b9dc40>"
            ]
          },
          "metadata": {},
          "execution_count": 17
        },
        {
          "output_type": "display_data",
          "data": {
            "text/plain": [
              "<Figure size 432x288 with 1 Axes>"
            ],
            "image/png": "[encoded data removed]"
          },
          "metadata": {
            "needs_background": "light"
          }
        }
      ]
    },
    {
      "cell_type": "markdown",
      "metadata": {
        "id": "b5kp1hfpld97"
      },
      "source": [
        "5. Вывести top-5 самых много и самых мало говорящих клиентов"
      ]
    },
    {
      "cell_type": "code",
      "metadata": {
        "id": "LLdxoURtlccZ",
        "colab": {
          "base_uri": "https://localhost:8080/"
        },
        "outputId": "da013183-5c9b-4fb2-c23e-1ccac24cdf91"
      },
      "source": [
        "df.orderBy('total_calls', ascending=False).show(5)"
      ],
      "execution_count": null,
      "outputs": [
        {
          "output_type": "stream",
          "name": "stdout",
          "text": [
            "+-----+--------------+---------+------------+------------------+---------------+---------------------+-----------------+---------------+----------------+-----------------+---------------+----------------+-------------------+-----------------+------------------+------------------+----------------+-----------------+-----------------------------+-------+-----------------+\n",
            "|state|account_length|area_code|phone_number|international_plan|voice_mail_plan|number_vmail_messages|total_day_minutes|total_day_calls|total_day_charge|total_eve_minutes|total_eve_calls|total_eve_charge|total_night_minutes|total_night_calls|total_night_charge|total_intl_minutes|total_intl_calls|total_intl_charge|number_customer_service_calls|churned|      total_calls|\n",
            "+-----+--------------+---------+------------+------------------+---------------+---------------------+-----------------+---------------+----------------+-----------------+---------------+----------------+-------------------+-----------------+------------------+------------------+----------------+-----------------+-----------------------------+-------+-----------------+\n",
            "|   NY|            64|      415|    345-9140|               yes|             no|                    0|            346.8|             55|           58.96|            249.5|             79|           21.21|              275.4|              102|             12.39|              13.3|               9|             3.59|                            1|   true|884.9999999999999|\n",
            "|   OK|            89|      510|    352-6976|                no|             no|                    0|            303.9|             95|           51.66|            260.9|            114|           22.18|              312.1|               89|             14.04|               5.3|               3|             1.43|                            1|   true|882.1999999999999|\n",
            "|   MS|           111|      408|    345-3787|                no|             no|                    0|            294.7|             90|            50.1|            294.6|             72|           25.04|              260.1|              121|              11.7|              10.8|               3|             2.92|                            1|   true|860.1999999999999|\n",
            "|   AZ|            97|      510|    410-3888|                no|             no|                    0|            252.6|             89|           42.94|            340.3|             91|           28.93|              256.5|               67|             11.54|               8.8|               5|             2.38|                            1|   true|858.1999999999999|\n",
            "|   MO|           103|      415|    370-4667|                no|            yes|                   37|            230.7|            112|           39.22|            319.4|            116|           27.15|              299.4|               77|             13.47|               7.9|               3|             2.13|                            2|  false|857.3999999999999|\n",
            "+-----+--------------+---------+------------+------------------+---------------+---------------------+-----------------+---------------+----------------+-----------------+---------------+----------------+-------------------+-----------------+------------------+------------------+----------------+-----------------+-----------------------------+-------+-----------------+\n",
            "only showing top 5 rows\n",
            "\n"
          ]
        }
      ]
    },
    {
      "cell_type": "code",
      "metadata": {
        "id": "Z7givM4Em2Ns",
        "colab": {
          "base_uri": "https://localhost:8080/"
        },
        "outputId": "76b2fad9-5ca4-4f7b-be79-0305d5f56540"
      },
      "source": [
        "df.orderBy('total_calls', ascending=True).show(5)"
      ],
      "execution_count": null,
      "outputs": [
        {
          "output_type": "stream",
          "name": "stdout",
          "text": [
            "+-----+--------------+---------+------------+------------------+---------------+---------------------+-----------------+---------------+----------------+-----------------+---------------+----------------+-------------------+-----------------+------------------+------------------+----------------+-----------------+-----------------------------+-------+------------------+\n",
            "|state|account_length|area_code|phone_number|international_plan|voice_mail_plan|number_vmail_messages|total_day_minutes|total_day_calls|total_day_charge|total_eve_minutes|total_eve_calls|total_eve_charge|total_night_minutes|total_night_calls|total_night_charge|total_intl_minutes|total_intl_calls|total_intl_charge|number_customer_service_calls|churned|       total_calls|\n",
            "+-----+--------------+---------+------------+------------------+---------------+---------------------+-----------------+---------------+----------------+-----------------+---------------+----------------+-------------------+-----------------+------------------+------------------+----------------+-----------------+-----------------------------+-------+------------------+\n",
            "|   WI|           131|      415|    331-3174|                no|            yes|                   39|             69.1|            122|           11.75|            101.3|            136|            8.61|              104.8|               94|              4.72|               9.1|               4|             2.46|                            0|  false|             284.3|\n",
            "|   IL|            48|      510|    380-5246|                no|             no|                    0|            128.2|             71|           21.79|             48.1|             78|            4.09|              116.3|               80|              5.23|               8.9|               3|              2.4|                            0|  false|301.49999999999994|\n",
            "|   MN|           141|      408|    362-8044|                no|             no|                    0|             77.8|            123|           13.23|            144.4|            119|           12.27|               75.3|               65|              3.39|               5.7|               7|             1.54|                            1|  false|             303.2|\n",
            "|   WI|            70|      415|    405-9233|                no|             no|                    0|              7.9|            100|            1.34|            136.4|             83|           11.59|              156.6|               89|              7.05|              12.1|               1|             3.27|                            0|  false|             313.0|\n",
            "|   MI|            45|      510|    375-8934|                no|            yes|                   26|             91.7|            104|           15.59|            150.6|            119|            12.8|               63.3|              103|              2.85|               7.7|               5|             2.08|                            1|  false|             313.3|\n",
            "+-----+--------------+---------+------------+------------------+---------------+---------------------+-----------------+---------------+----------------+-----------------+---------------+----------------+-------------------+-----------------+------------------+------------------+----------------+-----------------+-----------------------------+-------+------------------+\n",
            "only showing top 5 rows\n",
            "\n"
          ]
        }
      ]
    },
    {
      "cell_type": "markdown",
      "metadata": {
        "id": "KGljOgvVm4RC"
      },
      "source": [
        "6. Вывести долю оттока клиентов и среднюю стоимость минуты дневного времени разговора  в зависимости от штата"
      ]
    },
    {
      "cell_type": "code",
      "source": [
        "df = df.withColumn('day_minute_cost', col('total_day_charge') / col('total_day_minutes'))"
      ],
      "metadata": {
        "id": "oGrQnkzSGwgm"
      },
      "execution_count": null,
      "outputs": []
    },
    {
      "cell_type": "code",
      "metadata": {
        "id": "2kJen1-xm3lS",
        "colab": {
          "base_uri": "https://localhost:8080/"
        },
        "outputId": "2f7c5f47-6ad1-41e3-8be1-c6d98228593c"
      },
      "source": [
        "df.withColumn('churned_int', col('churned').cast('int')).select('state', 'churned_int', 'day_minute_cost').groupby('state').mean().show()"
      ],
      "execution_count": null,
      "outputs": [
        {
          "output_type": "stream",
          "name": "stdout",
          "text": [
            "+-----+-------------------+--------------------+\n",
            "|state|   avg(churned_int)|avg(day_minute_cost)|\n",
            "+-----+-------------------+--------------------+\n",
            "|   AZ|0.10112359550561797| 0.17000187550447118|\n",
            "|   SC|0.17582417582417584| 0.17000791222234876|\n",
            "|   LA|0.08536585365853659| 0.17000424778238132|\n",
            "|   MN|               0.16| 0.17000450198197306|\n",
            "|   NJ|               0.25|  0.1700009208899428|\n",
            "|   DC|0.10227272727272728| 0.17000856850114776|\n",
            "|   OR|0.15789473684210525| 0.17000899578287715|\n",
            "|   VA|0.05084745762711865| 0.17000288054980883|\n",
            "|   RI| 0.0707070707070707|  0.1700044882289804|\n",
            "|   WY|0.09565217391304348|   0.170003269363282|\n",
            "|   KY|0.15151515151515152| 0.17000800973759486|\n",
            "|   NH|0.12631578947368421| 0.17000429440804155|\n",
            "|   MI|0.17475728155339806|  0.1700027573580645|\n",
            "|   NV|0.18888888888888888| 0.17000296414860694|\n",
            "|   WI|0.07547169811320754| 0.16999870695631594|\n",
            "|   ID|0.11764705882352941| 0.17000328448548618|\n",
            "|   CA| 0.2692307692307692| 0.17000349532173592|\n",
            "|   NE|0.06818181818181818|  0.1700029043457196|\n",
            "|   CT|0.16161616161616163|  0.1700016593171857|\n",
            "|   MT|0.21212121212121213|  0.1700005779827964|\n",
            "+-----+-------------------+--------------------+\n",
            "only showing top 20 rows\n",
            "\n"
          ]
        }
      ]
    },
    {
      "cell_type": "markdown",
      "metadata": {
        "id": "i061zB4JntPt"
      },
      "source": [
        "7. перевести штат в one-hot формат при помощи pandas-функции get_dummies или удалите колонку, если вы делаете решение на pyspark\n",
        "8. Разбить данные на множество для обучения и для проверки, отобрав признаки для обучения модели классификации (убрать номер телефона, код региона, признаки планов + все добавленные аттрибуты)\n",
        "9. Привести данные к одному масштабу при помощи StandardScaler в случае Pandas (в случае спарка - не надо)\n",
        "10. Обучить какую-нибудь модель классификации и оценить качество (точность) на отложенной выборке\n"
      ]
    },
    {
      "cell_type": "code",
      "metadata": {
        "id": "wpdjrb0im-wi"
      },
      "source": [
        "from pyspark.ml.feature import StringIndexer, VectorAssembler\n",
        "\n",
        "\n",
        "label_indexer = StringIndexer(inputCol = 'churned_int', outputCol = 'label')\n",
        "cols = ['account_length', 'number_vmail_messages', 'total_day_minutes',\n",
        "       'total_day_calls', 'total_day_charge', 'total_eve_minutes',\n",
        "       'total_eve_calls', 'total_eve_charge', 'total_night_minutes',\n",
        "       'total_night_calls', 'total_night_charge', 'total_intl_minutes',\n",
        "       'total_intl_calls', 'total_intl_charge',\n",
        "       'number_customer_service_calls']"
      ],
      "execution_count": null,
      "outputs": []
    },
    {
      "cell_type": "code",
      "metadata": {
        "id": "DmjSOG0Qn2xG"
      },
      "source": [
        "assembler = VectorAssembler(\n",
        "\n",
        "    inputCols = cols,\n",
        "\n",
        "    outputCol = 'features')"
      ],
      "execution_count": null,
      "outputs": []
    },
    {
      "cell_type": "code",
      "metadata": {
        "id": "cKg1-rp8oZ_n"
      },
      "source": [
        "(train, test) = df.withColumn('churned_int', col('churned').cast('int')).randomSplit([0.7, 0.3])"
      ],
      "execution_count": null,
      "outputs": []
    },
    {
      "cell_type": "code",
      "metadata": {
        "id": "MTQhRXZZooT8"
      },
      "source": [
        "from pyspark.ml import Pipeline\n",
        "\n",
        "from pyspark.ml.classification import RandomForestClassifier\n",
        "\n",
        "classifier = RandomForestClassifier(labelCol = 'label', featuresCol = 'features')\n",
        "\n",
        "pipeline = Pipeline(stages=[label_indexer, assembler, classifier])\n",
        "\n",
        "model = pipeline.fit(train)"
      ],
      "execution_count": null,
      "outputs": []
    },
    {
      "cell_type": "code",
      "metadata": {
        "id": "2Z6FLaYeosps"
      },
      "source": [
        "from pyspark.ml.evaluation import MulticlassClassificationEvaluator\n",
        "\n",
        "predictions = model.transform(test)\n",
        "\n",
        "evaluator = MulticlassClassificationEvaluator()\n",
        "\n",
        "auroc = evaluator.evaluate(predictions, {evaluator.metricName: \"accuracy\"})"
      ],
      "execution_count": null,
      "outputs": []
    },
    {
      "cell_type": "code",
      "metadata": {
        "id": "QbuH7vu8pnVY",
        "colab": {
          "base_uri": "https://localhost:8080/",
          "height": 34
        },
        "outputId": "4af98223-2e3e-44aa-ef62-08e121204c5d"
      },
      "source": [
        "auroc"
      ],
      "execution_count": null,
      "outputs": [
        {
          "output_type": "execute_result",
          "data": {
            "text/plain": [
              "0.89375"
            ]
          },
          "metadata": {
            "tags": []
          },
          "execution_count": 92
        }
      ]
    },
    {
      "cell_type": "code",
      "metadata": {
        "id": "XWRU_KAfp9a5"
      },
      "source": [],
      "execution_count": null,
      "outputs": []
    }
  ]
}