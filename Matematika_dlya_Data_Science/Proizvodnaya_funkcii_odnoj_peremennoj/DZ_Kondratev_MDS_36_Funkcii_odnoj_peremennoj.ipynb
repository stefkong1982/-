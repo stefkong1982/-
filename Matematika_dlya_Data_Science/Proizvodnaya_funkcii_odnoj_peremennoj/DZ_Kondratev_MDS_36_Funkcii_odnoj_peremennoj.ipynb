{
  "nbformat": 4,
  "nbformat_minor": 0,
  "metadata": {
    "colab": {
      "provenance": []
    },
    "kernelspec": {
      "name": "python3",
      "display_name": "Python 3"
    },
    "language_info": {
      "name": "python"
    }
  },
  "cells": [
    {
      "cell_type": "markdown",
      "source": [
        "Задание 1\n",
        "\n",
        "Вычислить значение первой производной функции\n",
        "\n",
        "f(x) = 4 * x^3 - 2 * x^2 - 3 * x +3\n",
        "\n",
        "в точке\n",
        "\n",
        "x = -2\n",
        "\n",
        "Задание 2\n",
        "\n",
        "Вычислить значение второй производной функции\n",
        "\n",
        "f(x) = 4 * x^3 - 2 * x^2 - 3 * x +3\n",
        "\n",
        "в точке\n",
        "\n",
        "x = -2\n",
        "\n",
        "Задание 3\n",
        "\n",
        "Вычислить значение первой производной функции\n",
        "\n",
        "f(x) = 4 * sin (x^2) - 3 * cos (2 * x) + 2 * sin (3 * x)\n",
        "\n",
        "в точке\n",
        "\n",
        "x = 𝝅/6\n",
        "\n",
        "Ответ округлить до сотых долей.\n",
        "Важно! В качестве разделителя в ответе должна использоваться точка, а не запятая.\n",
        "\n",
        "Задание 4\n",
        "\n",
        "Вычислить значение второй производной функции\n",
        "\n",
        "f(x) = 4 * sin (x^2) - 3 * cos (2 * x) + 2 * sin (3 * x)\n",
        "\n",
        "в точке\n",
        "\n",
        "x = 𝝅/6\n",
        "\n",
        "Ответ округлить до сотых долей.\n",
        "Важно! В качестве разделителя в ответе должна использоваться точка, а не запятая.\n",
        "\n",
        "Задание 5\n",
        "\n",
        "Вычислить значение первой производной функции\n",
        "\n",
        "f(x) = e^(-3*x) + 2 * x^2 + 5\n",
        "\n",
        "в точке\n",
        "\n",
        "x = 2\n",
        "\n",
        "Ответ округлить до сотых долей.\n",
        "Важно! В качестве разделителя в ответе должна использоваться точка, а не запятая.\n",
        "\n",
        "Задание 6\n",
        "\n",
        "Вычислить значение второй производной функции\n",
        "\n",
        "f(x) = e^(-3*x) + 2 * x^2 + 5\n",
        "\n",
        "в точке\n",
        "\n",
        "x = 2\n",
        "\n",
        "Ответ округлить до сотых долей.\n",
        "Важно! В качестве разделителя в ответе должна использоваться точка, а не запятая.\n",
        "\n",
        "Задание 7\n",
        "\n",
        "Вычислить значение первой производной функции\n",
        "\n",
        "f(x) = sin(x^2) - 3 * ln(x)\n",
        "\n",
        "в точке\n",
        "\n",
        "x = 3\n",
        "\n",
        "Ответ округлить до сотых долей.\n",
        "Важно! В качестве разделителя в ответе должна использоваться точка, а не запятая.\n",
        "\n",
        "Задание 8\n",
        "\n",
        "Вычислить значение второй производной функции\n",
        "\n",
        "f(x) = sin(x^2) - 3 * ln(x)\n",
        "\n",
        "в точке\n",
        "\n",
        "x = 3\n",
        "\n",
        "Ответ округлить до сотых долей.\n",
        "Важно! В качестве разделителя в ответе должна использоваться точка, а не запятая.\n",
        "\n",
        "Задание 9\n",
        "\n",
        "Вычислить значение первой производной функции\n",
        "\n",
        "f(x) = (x^3 + 3 *X +1)/(X^2 - 2 *x +5)\n",
        "\n",
        "в точке\n",
        "\n",
        "x =4\n",
        "\n",
        "Ответ округлить до сотых долей.\n",
        "Важно! В качестве разделителя в ответе должна использоваться точка, а не запятая.\n",
        "\n",
        "Задание 10\n",
        "\n",
        "Вычислить значение второй производной функции\n",
        "\n",
        "f(x) = (x^3 + 3 *X +1)/(X^2 - 2 *x +5)\n",
        "\n",
        "в точке\n",
        "\n",
        "x =4\n",
        "\n",
        "Ответ округлить до сотых долей.\n",
        "Важно! В качестве разделителя в ответе должна использоваться точка, а не запятая.   "
      ],
      "metadata": {
        "id": "Sjkr3gnWyRUX"
      }
    },
    {
      "cell_type": "markdown",
      "source": [
        "## Задание 1, 2"
      ],
      "metadata": {
        "id": "KdEKVt24Iqdn"
      }
    },
    {
      "cell_type": "code",
      "execution_count": 5,
      "metadata": {
        "colab": {
          "base_uri": "https://localhost:8080/"
        },
        "id": "TgeRd8ayutP0",
        "outputId": "c310ae9a-4331-435e-cd7e-d76c8bdfa57c"
      },
      "outputs": [
        {
          "output_type": "stream",
          "name": "stdout",
          "text": [
            "53\n",
            "-52\n"
          ]
        }
      ],
      "source": [
        "from sympy import symbols, diff\n",
        "\n",
        "# Определение переменной x\n",
        "x = symbols('x')\n",
        "\n",
        "# Определение функции f(x)\n",
        "f = 4 * x**3 - 2 * x**2 - 3 * x + 3\n",
        "\n",
        "# Вычисление первой производной функции f(x)\n",
        "f_prime = diff(f, x)\n",
        "\n",
        "# Вычисление значения первой производной в точке x = -2\n",
        "x_value = -2\n",
        "f_prime_value = f_prime.subs(x, x_value)\n",
        "\n",
        "print(f_prime_value)\n",
        "\n",
        "# Вычисление второй производной функции f(x)\n",
        "f_double_prime = diff(diff(f, x), x)\n",
        "\n",
        "# Вычисление значения второй производной в точке x = -2\n",
        "x_value = -2\n",
        "f_double_prime_value = f_double_prime.subs(x, x_value)\n",
        "\n",
        "print(f_double_prime_value)"
      ]
    },
    {
      "cell_type": "markdown",
      "source": [
        "## Задание 3, 4"
      ],
      "metadata": {
        "id": "8m4YF9ZxI0mx"
      }
    },
    {
      "cell_type": "code",
      "source": [
        "from sympy import symbols, sin, cos, diff\n",
        "import math\n",
        "\n",
        "# Определение переменной x\n",
        "x = symbols('x')\n",
        "\n",
        "# Определение функции f(x)\n",
        "f = 4 * sin(x**2) - 3 * cos(2 * x) + 2 * sin(3 * x)\n",
        "\n",
        "# Вычисление первой производной функции f(x)\n",
        "f_prime = diff(f, x)\n",
        "\n",
        "# Вычисление значения первой производной в точке x = pi/6\n",
        "x_value = math.pi/6\n",
        "f_prime_value = f_prime.subs(x, x_value)\n",
        "\n",
        "# Округление значения первой производной до сотых долей\n",
        "f_prime_value_rounded = round(f_prime_value, 2)\n",
        "\n",
        "print(f_prime_value_rounded)\n",
        "\n",
        "\n",
        "# Вычисление второй производной функции f(x)\n",
        "f_double_prime = diff(diff(f, x), x)\n",
        "\n",
        "# Вычисление значения второй производной в точке x = pi/6\n",
        "f_double_prime_value = f_double_prime.subs(x, x_value)\n",
        "\n",
        "# Округление значения второй производной до сотых долей\n",
        "f_double_prime_value_rounded = round(f_double_prime_value, 2)\n",
        "\n",
        "print(f_double_prime_value_rounded)\n"
      ],
      "metadata": {
        "colab": {
          "base_uri": "https://localhost:8080/"
        },
        "id": "dIh6_8Q5xw-M",
        "outputId": "20bd8b57-a3ff-4cc8-ccb4-9bca60389f2a"
      },
      "execution_count": 12,
      "outputs": [
        {
          "output_type": "stream",
          "name": "stdout",
          "text": [
            "9.23\n",
            "-5.49\n"
          ]
        }
      ]
    },
    {
      "cell_type": "markdown",
      "source": [
        "## Задание 5, 6"
      ],
      "metadata": {
        "id": "SqaIXmNZI3K3"
      }
    },
    {
      "cell_type": "code",
      "source": [
        "from sympy import symbols, exp, diff\n",
        "\n",
        "# Определение переменной x\n",
        "x = symbols('x')\n",
        "\n",
        "# Определение функции f(x)\n",
        "f = exp(-3*x) + 2 * x**2 + 5\n",
        "\n",
        "# Вычисление первой производной функции f(x)\n",
        "f_prime = diff(f, x)\n",
        "\n",
        "# Вычисление значения первой производной в точке x = 2\n",
        "x_value = 2\n",
        "f_prime_value = f_prime.subs(x, x_value)\n",
        "\n",
        "# Округление значения первой производной до сотых долей\n",
        "f_prime_value_rounded = round(f_prime_value, 2)\n",
        "\n",
        "print(f_prime_value_rounded)\n",
        "\n",
        "\n",
        "# Вычисление второй производной функции f(x)\n",
        "f_double_prime = diff(diff(f, x), x)\n",
        "\n",
        "# Вычисление значения второй производной в точке x = 2\n",
        "f_double_prime_value = f_double_prime.subs(x, x_value)\n",
        "\n",
        "# Округление значения второй производной до сотых долей\n",
        "f_double_prime_value_rounded = round(f_double_prime_value, 2)\n",
        "\n",
        "print(f_double_prime_value_rounded)\n"
      ],
      "metadata": {
        "colab": {
          "base_uri": "https://localhost:8080/"
        },
        "id": "8bIn0LA8yEAM",
        "outputId": "cf8b74a8-4766-4da8-dbdb-febed30ffa98"
      },
      "execution_count": 13,
      "outputs": [
        {
          "output_type": "stream",
          "name": "stdout",
          "text": [
            "7.99\n",
            "4.02\n"
          ]
        }
      ]
    },
    {
      "cell_type": "markdown",
      "source": [
        "## Задание 7, 8"
      ],
      "metadata": {
        "id": "xes5c7akJAP7"
      }
    },
    {
      "cell_type": "code",
      "source": [
        "from sympy import symbols, sin, ln, diff\n",
        "\n",
        "# Определение переменной x\n",
        "x = symbols('x')\n",
        "\n",
        "# Определение функции f(x)\n",
        "f = sin(x**2) - 3 * ln(x)\n",
        "\n",
        "# Вычисление первой производной функции f(x)\n",
        "f_prime = diff(f, x)\n",
        "\n",
        "# Вычисление значения первой производной в точке x = 3\n",
        "x_value = 3\n",
        "f_prime_value = f_prime.subs(x, x_value)\n",
        "\n",
        "# Округление значения первой производной до сотых долей\n",
        "f_prime_value_rounded = round(f_prime_value, 2)\n",
        "\n",
        "print(f_prime_value_rounded)\n",
        "\n",
        "\n",
        "# Вычисление второй производной функции f(x)\n",
        "f_double_prime = diff(diff(f, x), x)\n",
        "\n",
        "# Вычисление значения второй производной в точке x = 3\n",
        "f_double_prime_value = f_double_prime.subs(x, x_value)\n",
        "\n",
        "# Округление значения второй производной до сотых долей\n",
        "f_double_prime_value_rounded = round(f_double_prime_value, 2)\n",
        "\n",
        "print(f_double_prime_value_rounded)"
      ],
      "metadata": {
        "colab": {
          "base_uri": "https://localhost:8080/"
        },
        "id": "I8x_1gISyYmA",
        "outputId": "97e16730-de52-4d9e-dde2-ef5aa3d28482"
      },
      "execution_count": 10,
      "outputs": [
        {
          "output_type": "stream",
          "name": "stdout",
          "text": [
            "-6.47\n",
            "-16.33\n"
          ]
        }
      ]
    },
    {
      "cell_type": "markdown",
      "source": [
        "## Задание 9, 10"
      ],
      "metadata": {
        "id": "N8UKqdCkJDdR"
      }
    },
    {
      "cell_type": "code",
      "source": [
        "from sympy import symbols, diff\n",
        "\n",
        "# Определение переменной x\n",
        "x = symbols('x')\n",
        "\n",
        "# Определение функции f(x)\n",
        "f = (x**3 + 3*x + 1) / (x**2 - 2*x + 5)\n",
        "\n",
        "# Вычисление первой производной функции f(x)\n",
        "f_prime = diff(f, x)\n",
        "\n",
        "# Вычисление значения первой производной в точке x = 4\n",
        "x_value = 4\n",
        "f_prime_value = f_prime.subs(x, x_value)\n",
        "\n",
        "# Округление значения первой производной до сотых долей\n",
        "f_prime_value_rounded = round(f_prime_value, 2)\n",
        "\n",
        "print(f_prime_value_rounded)\n",
        "\n",
        "\n",
        "# Вычисление второй производной функции f(x)\n",
        "f_double_prime = diff(diff(f, x), x)\n",
        "\n",
        "# Вычисление значения второй производной в точке x = 4\n",
        "f_double_prime_value = f_double_prime.subs(x, x_value)\n",
        "\n",
        "# Округление значения второй производной до сотых долей\n",
        "f_double_prime_value_rounded = round(f_double_prime_value, 2)\n",
        "\n",
        "print(f_double_prime_value_rounded)\n"
      ],
      "metadata": {
        "colab": {
          "base_uri": "https://localhost:8080/"
        },
        "id": "Efql3U_GymKb",
        "outputId": "42fdafbf-d530-47dd-f64d-f8ee629122da"
      },
      "execution_count": 11,
      "outputs": [
        {
          "output_type": "stream",
          "name": "stdout",
          "text": [
            "1.19\n",
            "-0.16\n"
          ]
        }
      ]
    }
  ]
}