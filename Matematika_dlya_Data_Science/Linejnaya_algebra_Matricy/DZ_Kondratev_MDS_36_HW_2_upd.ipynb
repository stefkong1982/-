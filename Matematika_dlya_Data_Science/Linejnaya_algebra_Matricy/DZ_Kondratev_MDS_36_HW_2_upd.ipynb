{
  "nbformat": 4,
  "nbformat_minor": 0,
  "metadata": {
    "colab": {
      "provenance": [],
      "include_colab_link": true
    },
    "kernelspec": {
      "name": "python3",
      "display_name": "Python 3"
    }
  },
  "cells": [
    {
      "cell_type": "markdown",
      "metadata": {
        "id": "view-in-github",
        "colab_type": "text"
      },
      "source": [
        "<a href=\"https://colab.research.google.com/github/stefkong1982/netology.ru/blob/Master/Matematika_dlya_Data_Science/Linejnaya_algebra_Matricy/DZ_Kondratev_MDS_36_HW_2_upd.ipynb\" target=\"_parent\"><img src=\"https://colab.research.google.com/assets/colab-badge.svg\" alt=\"Open In Colab\"/></a>"
      ]
    },
    {
      "cell_type": "markdown",
      "metadata": {
        "id": "_kX74ytuOfgy"
      },
      "source": [
        "# Домашнее задание \"Линейная алгебра. Матрицы\"."
      ]
    },
    {
      "cell_type": "markdown",
      "source": [
        "## Уровень 0:\n"
      ],
      "metadata": {
        "id": "t69IZulqTZMz"
      }
    },
    {
      "cell_type": "markdown",
      "source": [
        "### Задание 1"
      ],
      "metadata": {
        "id": "9JUikPzroAL8"
      }
    },
    {
      "cell_type": "markdown",
      "source": [
        " - Создайте матрицу 3 на 3, заполненную числами от 1 до 9\n",
        " - Прибавьте к ней матрицу с единицами на диагонале\n",
        " - Умножьте полученную матрицу на вектор (1, 2, 3)\n",
        " - Вычислить транспонированную матрицу $A^T$ от полученной в результате прибавления матрицы\n",
        " - Посчитайте обратную матрицу к полученной в результате прибавления матрице\n"
      ],
      "metadata": {
        "id": "ya8BlSO5nQ9a"
      }
    },
    {
      "cell_type": "code",
      "source": [
        "import numpy as np\n",
        "\n",
        "# Создание матрицы A\n",
        "A = np.array([[1, 2, 3],\n",
        "              [4, 5, 6],\n",
        "              [7, 8, 9]])\n",
        "\n",
        "# Создание матрицы B (единичная матрица)\n",
        "B = np.eye(3)\n",
        "\n",
        "# Сложение матриц A и B\n",
        "C = np.add(A, B)\n",
        "\n",
        "# Создание вектора\n",
        "D = np.array([1, 2, 3])\n",
        "\n",
        "# Умножение матрицы C на вектор D\n",
        "result = np.dot(C, D)\n",
        "\n",
        "# Транспонирование матрицы C\n",
        "AT = np.transpose(C)\n",
        "\n",
        "# Вычисление обратной матрицы к C\n",
        "try:\n",
        "    inv_C = np.linalg.inv(C)\n",
        "except np.linalg.LinAlgError:\n",
        "    inv_C = None\n",
        "\n",
        "print(\"Сумма матриц A и B:\")\n",
        "print(C)\n",
        "\n",
        "print(\"\\nУмножение матрицы C на вектор D:\")\n",
        "print(result)\n",
        "\n",
        "print(\"\\nТранспонированная матрица C:\")\n",
        "print(AT)\n",
        "\n",
        "if inv_C is not None:\n",
        "    print(\"\\nОбратная матрица к матрице C:\")\n",
        "    print(inv_C)\n",
        "else:\n",
        "    print(\"\\nОбратная матрица к матрице C не существует.\")\n"
      ],
      "metadata": {
        "id": "2nphsJdNCfCS",
        "outputId": "73fc9b53-d4eb-4abb-c9b3-72a4ac99b825",
        "colab": {
          "base_uri": "https://localhost:8080/"
        }
      },
      "execution_count": null,
      "outputs": [
        {
          "output_type": "stream",
          "name": "stdout",
          "text": [
            "Сумма матриц A и B:\n",
            "[[ 2.  2.  3.]\n",
            " [ 4.  6.  6.]\n",
            " [ 7.  8. 10.]]\n",
            "\n",
            "Умножение матрицы C на вектор D:\n",
            "[15. 34. 53.]\n",
            "\n",
            "Транспонированная матрица C:\n",
            "[[ 2.  4.  7.]\n",
            " [ 2.  6.  8.]\n",
            " [ 3.  6. 10.]]\n",
            "\n",
            "Обратная матрица к матрице C:\n",
            "[[-6.00000000e+00 -2.00000000e+00  3.00000000e+00]\n",
            " [-1.00000000e+00  5.00000000e-01 -2.33146835e-16]\n",
            " [ 5.00000000e+00  1.00000000e+00 -2.00000000e+00]]\n"
          ]
        }
      ]
    },
    {
      "cell_type": "markdown",
      "source": [
        "## Уровень 1:"
      ],
      "metadata": {
        "id": "qZxS_tEVTapE"
      }
    },
    {
      "cell_type": "markdown",
      "source": [
        "### Задание 2"
      ],
      "metadata": {
        "id": "gUB5Tx31oDZB"
      }
    },
    {
      "cell_type": "markdown",
      "source": [
        "Найдите собственные значения и собственные вектора матрицы:\n",
        "```\n",
        "m = np.array([[2, 2],\n",
        "              [1, 3]])\n",
        "print(m)\n",
        "```\n",
        "\n"
      ],
      "metadata": {
        "id": "Jh-pEPj-TcDQ"
      }
    },
    {
      "cell_type": "code",
      "source": [
        "import numpy as np\n",
        "\n",
        "m = np.array([[2, 2],\n",
        "              [1, 3]])\n",
        "\n",
        "# Вычисление собственных значений\n",
        "eigenvalues = np.linalg.eigvals(m)\n",
        "\n",
        "# Вычисление собственных векторов\n",
        "eigenvectors = np.linalg.eig(m)[1]\n",
        "\n",
        "# Вывод собственных значений и векторов\n",
        "print(\"Собственные значения:\")\n",
        "print(eigenvalues)\n",
        "\n",
        "print(\"\\nСобственные векторы:\")\n",
        "print(eigenvectors)\n"
      ],
      "metadata": {
        "id": "_pnwMJ7xJw0P",
        "outputId": "6e9cab48-f596-423e-9988-cdc7ed753370",
        "colab": {
          "base_uri": "https://localhost:8080/"
        }
      },
      "execution_count": null,
      "outputs": [
        {
          "output_type": "stream",
          "name": "stdout",
          "text": [
            "Собственные значения:\n",
            "[1. 4.]\n",
            "\n",
            "Собственные векторы:\n",
            "[[-0.89442719 -0.70710678]\n",
            " [ 0.4472136  -0.70710678]]\n"
          ]
        }
      ]
    },
    {
      "cell_type": "markdown",
      "source": [
        "### Задание 3\n"
      ],
      "metadata": {
        "id": "Tj14Nn3NOp8s"
      }
    },
    {
      "cell_type": "markdown",
      "source": [
        "Придумайте матрицу, у которой определитель = 1, и все элементы не равны 0.\n",
        "\n",
        "P.S. Матрица должна быть ненулевой и размерностью не менее 2!"
      ],
      "metadata": {
        "id": "JMjSYrp4OrpG"
      }
    },
    {
      "cell_type": "code",
      "source": [
        "import numpy as np\n",
        "import random\n",
        "\n",
        "while True:\n",
        "    m = np.zeros((2, 2))\n",
        "\n",
        "    # Генерируем случайные ненулевые элементы для каждой строки матрицы\n",
        "    for i in range(2):\n",
        "        non_zero_elements = random.sample(range(1, 10), 2)\n",
        "        m[i] = non_zero_elements\n",
        "\n",
        "    # Проверяем условие, что определитель матрицы равен 1\n",
        "    if np.linalg.det(m) == 1:\n",
        "        break\n",
        "\n",
        "print(\"Сгенерированная матрица:\")\n",
        "print(m)"
      ],
      "metadata": {
        "id": "ySCrf2g6Oko5",
        "outputId": "356257ff-ca15-4620-8248-87030f65c3b8",
        "colab": {
          "base_uri": "https://localhost:8080/"
        }
      },
      "execution_count": null,
      "outputs": [
        {
          "output_type": "stream",
          "name": "stdout",
          "text": [
            "Сгенерированная матрица:\n",
            "[[4. 5.]\n",
            " [3. 4.]]\n"
          ]
        }
      ]
    }
  ]
}