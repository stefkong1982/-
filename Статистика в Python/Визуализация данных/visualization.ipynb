{
  "cells": [
    {
      "cell_type": "markdown",
      "metadata": {
        "id": "view-in-github",
        "colab_type": "text"
      },
      "source": [
        "<a href=\"https://colab.research.google.com/github/stefkong1982/netology.ru/blob/Master/%D0%A1%D1%82%D0%B0%D1%82%D0%B8%D1%81%D1%82%D0%B8%D0%BA%D0%B0%20%D0%B2%20Python/%D0%92%D0%B8%D0%B7%D1%83%D0%B0%D0%BB%D0%B8%D0%B7%D0%B0%D1%86%D0%B8%D1%8F%20%D0%B4%D0%B0%D0%BD%D0%BD%D1%8B%D1%85/visualization.ipynb\" target=\"_parent\"><img src=\"https://colab.research.google.com/assets/colab-badge.svg\" alt=\"Open In Colab\"/></a>"
      ]
    },
    {
      "cell_type": "markdown",
      "metadata": {
        "id": "CF2ybuOu-N_I"
      },
      "source": [
        "# Домашнее задание к лекции \"Визуализация данных\""
      ]
    },
    {
      "cell_type": "markdown",
      "metadata": {
        "id": "Qa9PH_kw-N_M"
      },
      "source": [
        "## Обязательная часть\n",
        "\n",
        "Вам необходимо провести базовый [EDA](https://en.wikipedia.org/wiki/Exploratory_data_analysis) выбранного набора данных.\n",
        "\n",
        "Требования к анализу:\n",
        "- построить не менее 4 визуализаций различных видов;\n",
        "- каждая визуализация должным образом оформлена и читается даже в отрыве от контекста;\n",
        "- по каждой визуализации необходимо написать вывод (какую гипотезу на ее основе можно выдвинуть?).\n",
        "\n",
        "**Откуда брать данные?**\n",
        "\n",
        "Можете взять свои рабочие данные, либо найти открытые данные (например, на [kaggle.com](https://www.kaggle.com/)) по интересующей вас предметной области (тогда не забудьте приложить ссылку на данные). Если идей нет, можете взять один из перечисленных ниже:\n",
        "- [данные приложений из Google Play](https://www.kaggle.com/lava18/google-play-store-apps);\n",
        "- [данные о видео из трендов YouTube](https://www.kaggle.com/datasnaek/youtube-new);\n",
        "- [данные об уровне счастья в разных странах](https://www.kaggle.com/unsdsn/world-happiness).\n"
      ]
    },
    {
      "cell_type": "markdown",
      "metadata": {
        "id": "dGFdBkTm-N_O"
      },
      "source": [
        "### Дополнительная часть (необязательная)\n",
        "\n",
        "* построить дополнительно не менее 2 визуализаций (итого не менее 6);\n",
        "* в работе должны присутствовать следующие визуализации: boxplot, heatmap, scatter plot matrix;\n"
      ]
    },
    {
      "cell_type": "markdown",
      "metadata": {
        "id": "oCdKVGAV-N_O"
      },
      "source": [
        "#### ПРИМЕЧАНИЕ\n",
        "Домашнее задание сдается ссылкой [Google Colab](https://colab.research.google.com/).\n",
        "Не сможем проверить или помочь, если вы пришлете:\n",
        "- файлы;\n",
        "- архивы;\n",
        "- скриншоты кода.\n",
        "\n",
        "Все обсуждения и консультации по выполнению домашнего задания ведутся только на соответствующем канале в Discord.\n",
        "\n",
        "##### Как правильно задавать вопросы аспирантам, преподавателям и коллегам\n",
        "Прежде чем задать вопрос, попробуйте найти ответ в интернете. Навык самостоятельного поиска информации — один из важнейших. Каждый практикующий специалист любого уровня делает это ежедневно.\n",
        "\n",
        "Сформулируйте вопрос по алгоритму:  \n",
        "1) Что я делаю?  \n",
        "2) Какого результата я ожидаю?  \n",
        "3) Как фактический результат отличается от ожидаемого?  \n",
        "4) Что я уже попробовал сделать, чтобы исправить проблему?  \n",
        "\n",
        "По возможности прикрепите к вопросу скриншоты либо ссылки на код. Не выкладывайте все решение, оставляйте только проблемный и воспроизводимый участок кода."
      ]
    },
    {
      "cell_type": "markdown",
      "source": [
        "test"
      ],
      "metadata": {
        "id": "R7le8aj8-h8D"
      }
    }
  ],
  "metadata": {
    "kernelspec": {
      "display_name": "Python 3",
      "language": "python",
      "name": "python3"
    },
    "language_info": {
      "codemirror_mode": {
        "name": "ipython",
        "version": 3
      },
      "file_extension": ".py",
      "mimetype": "text/x-python",
      "name": "python",
      "nbconvert_exporter": "python",
      "pygments_lexer": "ipython3",
      "version": "3.8.5"
    },
    "colab": {
      "provenance": [],
      "include_colab_link": true
    }
  },
  "nbformat": 4,
  "nbformat_minor": 0
}