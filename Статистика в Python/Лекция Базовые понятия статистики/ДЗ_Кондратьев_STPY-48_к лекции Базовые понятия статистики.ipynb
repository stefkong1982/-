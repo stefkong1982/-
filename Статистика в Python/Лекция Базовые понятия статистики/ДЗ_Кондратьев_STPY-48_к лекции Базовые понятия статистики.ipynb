{
  "cells": [
    {
      "cell_type": "markdown",
      "metadata": {
        "id": "view-in-github",
        "colab_type": "text"
      },
      "source": [
        "<a href=\"https://colab.research.google.com/github/stefkong1982/netology.ru/blob/Master/%D0%A1%D1%82%D0%B0%D1%82%D0%B8%D1%81%D1%82%D0%B8%D0%BA%D0%B0%20%D0%B2%20Python/%D0%9B%D0%B5%D0%BA%D1%86%D0%B8%D1%8F%20%D0%91%D0%B0%D0%B7%D0%BE%D0%B2%D1%8B%D0%B5%20%D0%BF%D0%BE%D0%BD%D1%8F%D1%82%D0%B8%D1%8F%20%D1%81%D1%82%D0%B0%D1%82%D0%B8%D1%81%D1%82%D0%B8%D0%BA%D0%B8/%D0%94%D0%97_%D0%9A%D0%BE%D0%BD%D0%B4%D1%80%D0%B0%D1%82%D1%8C%D0%B5%D0%B2_STPY-48_%D0%BA%20%D0%BB%D0%B5%D0%BA%D1%86%D0%B8%D0%B8%20%D0%91%D0%B0%D0%B7%D0%BE%D0%B2%D1%8B%D0%B5%20%D0%BF%D0%BE%D0%BD%D1%8F%D1%82%D0%B8%D1%8F%20%D1%81%D1%82%D0%B0%D1%82%D0%B8%D1%81%D1%82%D0%B8%D0%BA%D0%B8.ipynb\" target=\"_parent\"><img src=\"https://colab.research.google.com/assets/colab-badge.svg\" alt=\"Open In Colab\"/></a>"
      ]
    },
    {
      "cell_type": "markdown",
      "metadata": {
        "id": "zimiAXacgnc9"
      },
      "source": [
        "# Домашнее задание к лекции \"Базовые понятия статистики\""
      ]
    },
    {
      "cell_type": "markdown",
      "metadata": {
        "id": "IoPImNY4gndF"
      },
      "source": [
        "Будем осуществлять работу с непростым [набором данных](https://raw.githubusercontent.com/obulygin/pyda_homeworks/master/statistics_basics/horse_data.csv) о состоянии здоровья лошадей, испытывающих кишечные колики. Цель – максимально корректно заполнить пропуски.\n",
        "\n",
        "### Задание 1. Загрузка данных\n",
        "\n",
        "Изучить представленный набор данных на основе [описания его столбцов](https://raw.githubusercontent.com/obulygin/pyda_homeworks/master/statistics_basics/horse_data.names), загрузить его и оставить 8 столбцов для дальнейшего изучения: `surgery?`, `Age`, `rectal temperature`, `pulse`, `respiratory rate`, `temperature of extremities`, `pain`, `outcome`.\n",
        "\n",
        "### Задание 2. Первичное изучение данных\n",
        "\n",
        "Проанализировать значения по столбцам, рассчитать базовые статистики, найти выбросы.\n",
        "\n",
        "\n",
        "### Задание 3. Работа с пропусками\n",
        "\n",
        "Рассчитать количество пропусков для всех выбранных столбцов. Принять и обосновать решение о методе заполнения пропусков по каждому столбцу на основе рассчитанных статистик и возможной взаимосвязи значений в них. Сформировать датафрейм, в котором пропуски будут отсутствовать."
      ]
    },
    {
      "cell_type": "markdown",
      "source": [
        "### 1. Загрузка данных"
      ],
      "metadata": {
        "id": "xIvh6i16mw-t"
      }
    },
    {
      "cell_type": "code",
      "source": [
        "# Импорт библиотеки Pandas\n",
        "import pandas as pd\n",
        "import matplotlib.pyplot as plt\n",
        "import seaborn as sns\n",
        "\n",
        "# Загрузка файла \"horse_data.csv\" с указанием, что в файле нет заголовков столбцов (header=None)\n",
        "# И указанием, что знак \"?\" следует интерпретировать как пропущенное значение (наличие пропущенных значений обозначено в данных именно знаком \"?\")\n",
        "# Используя параметр usecols, указываем список индексов столбцов, которые нужно загрузить (в данном случае это столбцы с индексами 0, 1, 3, 4, 5, 6, 10 и 22)\n",
        "# И задаем названия столбцов с помощью параметра names\n",
        "data = pd.read_csv('horse_data.csv',\n",
        "                   header=None,\n",
        "                   usecols=[0, 1, 3, 4, 5, 6, 10, 22],\n",
        "                   names=['surgery?', 'Age', 'rectal temperature', 'pulse', 'respiratory rate', 'temperature of extremities', 'pain', 'outcome'],\n",
        "                   na_values=['?'])\n"
      ],
      "metadata": {
        "id": "FpkVosb2YI-L",
        "colab": {
          "base_uri": "https://localhost:8080/",
          "height": 406
        },
        "outputId": "90182708-9df7-4d48-f22f-a12d352f2a90"
      },
      "execution_count": 1,
      "outputs": [
        {
          "output_type": "error",
          "ename": "FileNotFoundError",
          "evalue": "ignored",
          "traceback": [
            "\u001b[0;31m---------------------------------------------------------------------------\u001b[0m",
            "\u001b[0;31mFileNotFoundError\u001b[0m                         Traceback (most recent call last)",
            "\u001b[0;32m<ipython-input-1-61480f6b635b>\u001b[0m in \u001b[0;36m<cell line: 10>\u001b[0;34m()\u001b[0m\n\u001b[1;32m      8\u001b[0m \u001b[0;31m# Используя параметр usecols, указываем список индексов столбцов, которые нужно загрузить (в данном случае это столбцы с индексами 0, 1, 3, 4, 5, 6, 10 и 22)\u001b[0m\u001b[0;34m\u001b[0m\u001b[0;34m\u001b[0m\u001b[0m\n\u001b[1;32m      9\u001b[0m \u001b[0;31m# И задаем названия столбцов с помощью параметра names\u001b[0m\u001b[0;34m\u001b[0m\u001b[0;34m\u001b[0m\u001b[0m\n\u001b[0;32m---> 10\u001b[0;31m data = pd.read_csv('horse_data.csv',\n\u001b[0m\u001b[1;32m     11\u001b[0m                    \u001b[0mheader\u001b[0m\u001b[0;34m=\u001b[0m\u001b[0;32mNone\u001b[0m\u001b[0;34m,\u001b[0m\u001b[0;34m\u001b[0m\u001b[0;34m\u001b[0m\u001b[0m\n\u001b[1;32m     12\u001b[0m                    \u001b[0musecols\u001b[0m\u001b[0;34m=\u001b[0m\u001b[0;34m[\u001b[0m\u001b[0;36m0\u001b[0m\u001b[0;34m,\u001b[0m \u001b[0;36m1\u001b[0m\u001b[0;34m,\u001b[0m \u001b[0;36m3\u001b[0m\u001b[0;34m,\u001b[0m \u001b[0;36m4\u001b[0m\u001b[0;34m,\u001b[0m \u001b[0;36m5\u001b[0m\u001b[0;34m,\u001b[0m \u001b[0;36m6\u001b[0m\u001b[0;34m,\u001b[0m \u001b[0;36m10\u001b[0m\u001b[0;34m,\u001b[0m \u001b[0;36m22\u001b[0m\u001b[0;34m]\u001b[0m\u001b[0;34m,\u001b[0m\u001b[0;34m\u001b[0m\u001b[0;34m\u001b[0m\u001b[0m\n",
            "\u001b[0;32m/usr/local/lib/python3.10/dist-packages/pandas/util/_decorators.py\u001b[0m in \u001b[0;36mwrapper\u001b[0;34m(*args, **kwargs)\u001b[0m\n\u001b[1;32m    209\u001b[0m                 \u001b[0;32melse\u001b[0m\u001b[0;34m:\u001b[0m\u001b[0;34m\u001b[0m\u001b[0;34m\u001b[0m\u001b[0m\n\u001b[1;32m    210\u001b[0m                     \u001b[0mkwargs\u001b[0m\u001b[0;34m[\u001b[0m\u001b[0mnew_arg_name\u001b[0m\u001b[0;34m]\u001b[0m \u001b[0;34m=\u001b[0m \u001b[0mnew_arg_value\u001b[0m\u001b[0;34m\u001b[0m\u001b[0;34m\u001b[0m\u001b[0m\n\u001b[0;32m--> 211\u001b[0;31m             \u001b[0;32mreturn\u001b[0m \u001b[0mfunc\u001b[0m\u001b[0;34m(\u001b[0m\u001b[0;34m*\u001b[0m\u001b[0margs\u001b[0m\u001b[0;34m,\u001b[0m \u001b[0;34m**\u001b[0m\u001b[0mkwargs\u001b[0m\u001b[0;34m)\u001b[0m\u001b[0;34m\u001b[0m\u001b[0;34m\u001b[0m\u001b[0m\n\u001b[0m\u001b[1;32m    212\u001b[0m \u001b[0;34m\u001b[0m\u001b[0m\n\u001b[1;32m    213\u001b[0m         \u001b[0;32mreturn\u001b[0m \u001b[0mcast\u001b[0m\u001b[0;34m(\u001b[0m\u001b[0mF\u001b[0m\u001b[0;34m,\u001b[0m \u001b[0mwrapper\u001b[0m\u001b[0;34m)\u001b[0m\u001b[0;34m\u001b[0m\u001b[0;34m\u001b[0m\u001b[0m\n",
            "\u001b[0;32m/usr/local/lib/python3.10/dist-packages/pandas/util/_decorators.py\u001b[0m in \u001b[0;36mwrapper\u001b[0;34m(*args, **kwargs)\u001b[0m\n\u001b[1;32m    329\u001b[0m                     \u001b[0mstacklevel\u001b[0m\u001b[0;34m=\u001b[0m\u001b[0mfind_stack_level\u001b[0m\u001b[0;34m(\u001b[0m\u001b[0;34m)\u001b[0m\u001b[0;34m,\u001b[0m\u001b[0;34m\u001b[0m\u001b[0;34m\u001b[0m\u001b[0m\n\u001b[1;32m    330\u001b[0m                 )\n\u001b[0;32m--> 331\u001b[0;31m             \u001b[0;32mreturn\u001b[0m \u001b[0mfunc\u001b[0m\u001b[0;34m(\u001b[0m\u001b[0;34m*\u001b[0m\u001b[0margs\u001b[0m\u001b[0;34m,\u001b[0m \u001b[0;34m**\u001b[0m\u001b[0mkwargs\u001b[0m\u001b[0;34m)\u001b[0m\u001b[0;34m\u001b[0m\u001b[0;34m\u001b[0m\u001b[0m\n\u001b[0m\u001b[1;32m    332\u001b[0m \u001b[0;34m\u001b[0m\u001b[0m\n\u001b[1;32m    333\u001b[0m         \u001b[0;31m# error: \"Callable[[VarArg(Any), KwArg(Any)], Any]\" has no\u001b[0m\u001b[0;34m\u001b[0m\u001b[0;34m\u001b[0m\u001b[0m\n",
            "\u001b[0;32m/usr/local/lib/python3.10/dist-packages/pandas/io/parsers/readers.py\u001b[0m in \u001b[0;36mread_csv\u001b[0;34m(filepath_or_buffer, sep, delimiter, header, names, index_col, usecols, squeeze, prefix, mangle_dupe_cols, dtype, engine, converters, true_values, false_values, skipinitialspace, skiprows, skipfooter, nrows, na_values, keep_default_na, na_filter, verbose, skip_blank_lines, parse_dates, infer_datetime_format, keep_date_col, date_parser, dayfirst, cache_dates, iterator, chunksize, compression, thousands, decimal, lineterminator, quotechar, quoting, doublequote, escapechar, comment, encoding, encoding_errors, dialect, error_bad_lines, warn_bad_lines, on_bad_lines, delim_whitespace, low_memory, memory_map, float_precision, storage_options)\u001b[0m\n\u001b[1;32m    948\u001b[0m     \u001b[0mkwds\u001b[0m\u001b[0;34m.\u001b[0m\u001b[0mupdate\u001b[0m\u001b[0;34m(\u001b[0m\u001b[0mkwds_defaults\u001b[0m\u001b[0;34m)\u001b[0m\u001b[0;34m\u001b[0m\u001b[0;34m\u001b[0m\u001b[0m\n\u001b[1;32m    949\u001b[0m \u001b[0;34m\u001b[0m\u001b[0m\n\u001b[0;32m--> 950\u001b[0;31m     \u001b[0;32mreturn\u001b[0m \u001b[0m_read\u001b[0m\u001b[0;34m(\u001b[0m\u001b[0mfilepath_or_buffer\u001b[0m\u001b[0;34m,\u001b[0m \u001b[0mkwds\u001b[0m\u001b[0;34m)\u001b[0m\u001b[0;34m\u001b[0m\u001b[0;34m\u001b[0m\u001b[0m\n\u001b[0m\u001b[1;32m    951\u001b[0m \u001b[0;34m\u001b[0m\u001b[0m\n\u001b[1;32m    952\u001b[0m \u001b[0;34m\u001b[0m\u001b[0m\n",
            "\u001b[0;32m/usr/local/lib/python3.10/dist-packages/pandas/io/parsers/readers.py\u001b[0m in \u001b[0;36m_read\u001b[0;34m(filepath_or_buffer, kwds)\u001b[0m\n\u001b[1;32m    603\u001b[0m \u001b[0;34m\u001b[0m\u001b[0m\n\u001b[1;32m    604\u001b[0m     \u001b[0;31m# Create the parser.\u001b[0m\u001b[0;34m\u001b[0m\u001b[0;34m\u001b[0m\u001b[0m\n\u001b[0;32m--> 605\u001b[0;31m     \u001b[0mparser\u001b[0m \u001b[0;34m=\u001b[0m \u001b[0mTextFileReader\u001b[0m\u001b[0;34m(\u001b[0m\u001b[0mfilepath_or_buffer\u001b[0m\u001b[0;34m,\u001b[0m \u001b[0;34m**\u001b[0m\u001b[0mkwds\u001b[0m\u001b[0;34m)\u001b[0m\u001b[0;34m\u001b[0m\u001b[0;34m\u001b[0m\u001b[0m\n\u001b[0m\u001b[1;32m    606\u001b[0m \u001b[0;34m\u001b[0m\u001b[0m\n\u001b[1;32m    607\u001b[0m     \u001b[0;32mif\u001b[0m \u001b[0mchunksize\u001b[0m \u001b[0;32mor\u001b[0m \u001b[0miterator\u001b[0m\u001b[0;34m:\u001b[0m\u001b[0;34m\u001b[0m\u001b[0;34m\u001b[0m\u001b[0m\n",
            "\u001b[0;32m/usr/local/lib/python3.10/dist-packages/pandas/io/parsers/readers.py\u001b[0m in \u001b[0;36m__init__\u001b[0;34m(self, f, engine, **kwds)\u001b[0m\n\u001b[1;32m   1440\u001b[0m \u001b[0;34m\u001b[0m\u001b[0m\n\u001b[1;32m   1441\u001b[0m         \u001b[0mself\u001b[0m\u001b[0;34m.\u001b[0m\u001b[0mhandles\u001b[0m\u001b[0;34m:\u001b[0m \u001b[0mIOHandles\u001b[0m \u001b[0;34m|\u001b[0m \u001b[0;32mNone\u001b[0m \u001b[0;34m=\u001b[0m \u001b[0;32mNone\u001b[0m\u001b[0;34m\u001b[0m\u001b[0;34m\u001b[0m\u001b[0m\n\u001b[0;32m-> 1442\u001b[0;31m         \u001b[0mself\u001b[0m\u001b[0;34m.\u001b[0m\u001b[0m_engine\u001b[0m \u001b[0;34m=\u001b[0m \u001b[0mself\u001b[0m\u001b[0;34m.\u001b[0m\u001b[0m_make_engine\u001b[0m\u001b[0;34m(\u001b[0m\u001b[0mf\u001b[0m\u001b[0;34m,\u001b[0m \u001b[0mself\u001b[0m\u001b[0;34m.\u001b[0m\u001b[0mengine\u001b[0m\u001b[0;34m)\u001b[0m\u001b[0;34m\u001b[0m\u001b[0;34m\u001b[0m\u001b[0m\n\u001b[0m\u001b[1;32m   1443\u001b[0m \u001b[0;34m\u001b[0m\u001b[0m\n\u001b[1;32m   1444\u001b[0m     \u001b[0;32mdef\u001b[0m \u001b[0mclose\u001b[0m\u001b[0;34m(\u001b[0m\u001b[0mself\u001b[0m\u001b[0;34m)\u001b[0m \u001b[0;34m->\u001b[0m \u001b[0;32mNone\u001b[0m\u001b[0;34m:\u001b[0m\u001b[0;34m\u001b[0m\u001b[0;34m\u001b[0m\u001b[0m\n",
            "\u001b[0;32m/usr/local/lib/python3.10/dist-packages/pandas/io/parsers/readers.py\u001b[0m in \u001b[0;36m_make_engine\u001b[0;34m(self, f, engine)\u001b[0m\n\u001b[1;32m   1733\u001b[0m                 \u001b[0;32mif\u001b[0m \u001b[0;34m\"b\"\u001b[0m \u001b[0;32mnot\u001b[0m \u001b[0;32min\u001b[0m \u001b[0mmode\u001b[0m\u001b[0;34m:\u001b[0m\u001b[0;34m\u001b[0m\u001b[0;34m\u001b[0m\u001b[0m\n\u001b[1;32m   1734\u001b[0m                     \u001b[0mmode\u001b[0m \u001b[0;34m+=\u001b[0m \u001b[0;34m\"b\"\u001b[0m\u001b[0;34m\u001b[0m\u001b[0;34m\u001b[0m\u001b[0m\n\u001b[0;32m-> 1735\u001b[0;31m             self.handles = get_handle(\n\u001b[0m\u001b[1;32m   1736\u001b[0m                 \u001b[0mf\u001b[0m\u001b[0;34m,\u001b[0m\u001b[0;34m\u001b[0m\u001b[0;34m\u001b[0m\u001b[0m\n\u001b[1;32m   1737\u001b[0m                 \u001b[0mmode\u001b[0m\u001b[0;34m,\u001b[0m\u001b[0;34m\u001b[0m\u001b[0;34m\u001b[0m\u001b[0m\n",
            "\u001b[0;32m/usr/local/lib/python3.10/dist-packages/pandas/io/common.py\u001b[0m in \u001b[0;36mget_handle\u001b[0;34m(path_or_buf, mode, encoding, compression, memory_map, is_text, errors, storage_options)\u001b[0m\n\u001b[1;32m    854\u001b[0m         \u001b[0;32mif\u001b[0m \u001b[0mioargs\u001b[0m\u001b[0;34m.\u001b[0m\u001b[0mencoding\u001b[0m \u001b[0;32mand\u001b[0m \u001b[0;34m\"b\"\u001b[0m \u001b[0;32mnot\u001b[0m \u001b[0;32min\u001b[0m \u001b[0mioargs\u001b[0m\u001b[0;34m.\u001b[0m\u001b[0mmode\u001b[0m\u001b[0;34m:\u001b[0m\u001b[0;34m\u001b[0m\u001b[0;34m\u001b[0m\u001b[0m\n\u001b[1;32m    855\u001b[0m             \u001b[0;31m# Encoding\u001b[0m\u001b[0;34m\u001b[0m\u001b[0;34m\u001b[0m\u001b[0m\n\u001b[0;32m--> 856\u001b[0;31m             handle = open(\n\u001b[0m\u001b[1;32m    857\u001b[0m                 \u001b[0mhandle\u001b[0m\u001b[0;34m,\u001b[0m\u001b[0;34m\u001b[0m\u001b[0;34m\u001b[0m\u001b[0m\n\u001b[1;32m    858\u001b[0m                 \u001b[0mioargs\u001b[0m\u001b[0;34m.\u001b[0m\u001b[0mmode\u001b[0m\u001b[0;34m,\u001b[0m\u001b[0;34m\u001b[0m\u001b[0;34m\u001b[0m\u001b[0m\n",
            "\u001b[0;31mFileNotFoundError\u001b[0m: [Errno 2] No such file or directory: 'horse_data.csv'"
          ]
        }
      ]
    },
    {
      "cell_type": "code",
      "source": [
        "data\n",
        "# Смотроим наш рабочий DataFrame (есть пустые значения)"
      ],
      "metadata": {
        "id": "j98c0Ecw8ypr"
      },
      "execution_count": null,
      "outputs": []
    },
    {
      "cell_type": "markdown",
      "source": [
        "## Первичное изучение данных"
      ],
      "metadata": {
        "id": "tfQyZi8Mm6sb"
      }
    },
    {
      "cell_type": "markdown",
      "source": [
        "### Анализ категориальных столбцов"
      ],
      "metadata": {
        "id": "-d3xZEDAaE2k"
      }
    },
    {
      "cell_type": "markdown",
      "source": [
        "Столбцы `surgery?`, `Age`, `temperature of extremities`, `pain`, `outcome` категориальные.\n",
        "\n",
        "Для них найдем моды, выполним подсчет количества значений каждой категории, вычисление доли каждой категории, построение круговой диаграммы, а также проверку соответствия уникальных значений категориям, описанным в описании данных."
      ],
      "metadata": {
        "id": "-QVRRxE-qYtj"
      }
    },
    {
      "cell_type": "code",
      "source": [
        "# Нахождение моды (наиболее часто встречающегося значения) для столбца 'surgery?'\n",
        "surgery_mode = data['surgery?'].mode()[0]\n",
        "print(f\"Mode for 'surgery?': {surgery_mode}\")\n",
        "\n",
        "# Нахождение моды для столбца 'Age'\n",
        "age_mode = data['Age'].mode()[0]\n",
        "print(f\"Mode for 'Age': {age_mode}\")\n",
        "\n",
        "# Нахождение моды для столбца 'temperature of extremities'\n",
        "extremities_mode = data['temperature of extremities'].mode()[0]\n",
        "print(f\"Mode for 'temperature of extremities': {extremities_mode}\")\n",
        "\n",
        "# Нахождение моды для столбца 'pain'\n",
        "pain_mode = data['pain'].mode()[0]\n",
        "print(f\"Mode for 'pain': {pain_mode}\")\n",
        "\n",
        "# Нахождение моды для столбца 'outcome'\n",
        "outcome_mode = data['outcome'].mode()[0]\n",
        "print(f\"Mode for 'outcome': {outcome_mode}\")"
      ],
      "metadata": {
        "id": "nmqKECMnrRsY"
      },
      "execution_count": null,
      "outputs": []
    },
    {
      "cell_type": "code",
      "source": [
        "# Проверка уникальных значений категорий и их соответствие описанию данных\n",
        "surgery_categories = data['surgery?'].unique()\n",
        "print(f\"Unique categories for 'surgery?': {surgery_categories}\")\n",
        "\n",
        "age_categories = data['Age'].unique()\n",
        "print(f\"Unique categories for 'Age': {age_categories}\")\n",
        "\n",
        "extremities_categories = data['temperature of extremities'].unique()\n",
        "print(f\"Unique categories for 'temperature of extremities': {extremities_categories}\")\n",
        "\n",
        "pain_categories = data['pain'].unique()\n",
        "print(f\"Unique categories for 'pain': {pain_categories}\")\n",
        "\n",
        "outcome_categories = data['outcome'].unique()\n",
        "print(f\"Unique categories for 'outcome': {outcome_categories}\")"
      ],
      "metadata": {
        "id": "rYFsXDrMritx"
      },
      "execution_count": null,
      "outputs": []
    },
    {
      "cell_type": "code",
      "source": [
        "# Подсчет количества значений каждой категории\n",
        "category_counts_age = data[\"Age\"].value_counts()\n",
        "category_counts_temp = data[\"temperature of extremities\"].value_counts()\n",
        "category_counts_pain = data[\"pain\"].value_counts()\n",
        "category_counts_outcome = data[\"outcome\"].value_counts()\n",
        "category_counts_surgery = data[\"surgery?\"].value_counts()\n",
        "\n",
        "# Вывод результатов на печать\n",
        "print(\"Результаты подсчета количества значений каждой категории:\")\n",
        "print(\"-\" * 30)\n",
        "print(\"Столбец 'Age':\")\n",
        "print(category_counts_age)\n",
        "print(\"-\" * 30)\n",
        "print(\"Столбец 'temperature of extremities':\")\n",
        "print(category_counts_temp)\n",
        "print(\"-\" * 30)\n",
        "print(\"Столбец 'pain':\")\n",
        "print(category_counts_pain)\n",
        "print(\"-\" * 30)\n",
        "print(\"Столбец 'outcome':\")\n",
        "print(category_counts_outcome)\n",
        "print(\"-\" * 30)\n",
        "print(\"Столбец 'surgery?':\")\n",
        "print(category_counts_surgery)"
      ],
      "metadata": {
        "id": "1PjLfOMIw0d3"
      },
      "execution_count": null,
      "outputs": []
    },
    {
      "cell_type": "markdown",
      "source": [
        "### Анализ непрерывных величин"
      ],
      "metadata": {
        "id": "029DPNOraMSy"
      }
    },
    {
      "cell_type": "markdown",
      "source": [
        "Столбцы rectal temperature, pulse, respiratory rate являются непрерывными величинами. Для них найдем базовые статистики, применим межквартильный размах для поиска выбросов. Построить графики плотности распределения."
      ],
      "metadata": {
        "id": "_XfVsTY70IcB"
      }
    },
    {
      "cell_type": "code",
      "source": [
        "# Нахождение базовых статистик для столбца 'rectal temperature'\n",
        "rectal_temp_stats = data['rectal temperature'].describe()\n",
        "print(f\"Statistics for 'rectal temperature':\\n{rectal_temp_stats}\")"
      ],
      "metadata": {
        "id": "sZIt-2Mg0vlF"
      },
      "execution_count": null,
      "outputs": []
    },
    {
      "cell_type": "markdown",
      "source": [
        "Исходя из статистики для столбца `rectal temperature`, можно сделать следующий анализ распределения данных:\n",
        "\n",
        "- В данных присутствует `240` наблюдений.\n",
        "- Стандартное отклонение (`std`) равно `0.732289`, что указывает на небольшой разброс значений относительно среднего значения.\n",
        "\n",
        "Исходя из этих данных, можно сказать, что большинство наблюдений имеют ректальную температуру в диапазоне от `37.8` до `38.5` градусов Цельсия. Среднее значение (`38.167917`) близко к медианному значению (`38.2`), что указывает на небольшую асимметрию в распределении.\n",
        "\n"
      ],
      "metadata": {
        "id": "oMq4QWHXNZtZ"
      }
    },
    {
      "cell_type": "code",
      "source": [
        "# Применение межквартильного размаха (IQR) для поиска выбросов в столбце 'rectal temperature'\n",
        "Q1 = data['rectal temperature'].quantile(0.25)\n",
        "Q3 = data['rectal temperature'].quantile(0.75)\n",
        "IQR = Q3 - Q1\n",
        "lower_bound = Q1 - 1.5 * IQR\n",
        "upper_bound = Q3 + 1.5 * IQR\n",
        "outliers_rectal_temp = data[(data['rectal temperature'] < lower_bound) | (data['rectal temperature'] > upper_bound)]\n",
        "outliers_rectal_temp"
      ],
      "metadata": {
        "id": "9rMu5RSI1U2y"
      },
      "execution_count": null,
      "outputs": []
    },
    {
      "cell_type": "code",
      "source": [
        "# Нахождение базовых статистик для столбца 'pulse'\n",
        "pulse_stats = data['pulse'].describe()\n",
        "print(f\"Statistics for 'pulse':\\n{pulse_stats}\")"
      ],
      "metadata": {
        "id": "fnn3GDN8OxCm"
      },
      "execution_count": null,
      "outputs": []
    },
    {
      "cell_type": "markdown",
      "source": [
        "Исходя из статистики для столбца `pulse`, можно сделать следующий анализ распределения данных:\n",
        "\n",
        "- В данных присутствует `276` наблюдений.\n",
        "- Среднее значение (`mean`) пульса составляет `71.913043`.\n",
        "- Стандартное отклонение (`std`) равно `28.630557`, что указывает на разброс значений относительно среднего значения.\n",
        "\n",
        "Исходя из этих данных, можно предположить, что распределение пульса скорее всего будет скошено вправо (положительную асимметрию), так как медианное значение (`64`) меньше среднего значения (`71.913043`) и максимальное значение (`184`) находится далеко от среднего.\n",
        "\n"
      ],
      "metadata": {
        "id": "C0E3-mN7JjTf"
      }
    },
    {
      "cell_type": "code",
      "source": [
        "# Применение межквартильного размаха (IQR) для поиска выбросов в столбце 'pulse'\n",
        "Q1 = data['pulse'].quantile(0.25)\n",
        "Q3 = data['pulse'].quantile(0.75)\n",
        "IQR = Q3 - Q1\n",
        "lower_bound = Q1 - 1.5 * IQR\n",
        "upper_bound = Q3 + 1.5 * IQR\n",
        "outliers_pulse = data[(data['pulse'] < lower_bound) | (data['pulse'] > upper_bound)]\n",
        "outliers_pulse"
      ],
      "metadata": {
        "id": "pnU1ovyO41NA"
      },
      "execution_count": null,
      "outputs": []
    },
    {
      "cell_type": "code",
      "source": [
        "# Нахождение базовых статистик для столбца 'respiratory rate'\n",
        "resp_rate_stats = data['respiratory rate'].describe()\n",
        "print(f\"Statistics for 'respiratory rate':\\n{resp_rate_stats}\")"
      ],
      "metadata": {
        "id": "1wu4LcoTPusc"
      },
      "execution_count": null,
      "outputs": []
    },
    {
      "cell_type": "markdown",
      "source": [
        "Исходя из  статистики для столбца `respiratory rate`, можно сделать следующий анализ распределения данных:\n",
        "\n",
        "- В данных присутствует 242 наблюдения.\n",
        "- Стандартное отклонение (`std`) равно `17.642231`, что указывает на достаточно большой разброс значений относительно среднего значения.\n",
        "\n",
        "Исходя из этих данных, можно сказать, что большинство наблюдений имеют частоту дыхания в диапазоне от `18.5` до `36`. Среднее значение (`30.417355`) близко к медианному значению (`24.5`), что указывает на скошенность вправо (положительную асимметрию) в распределении. Учитывая также максимальное значение (`96`), можно сказать, что в данных присутствуют выбросы или аномальные значения, которые могут исказить распределение данных.\n",
        "\n"
      ],
      "metadata": {
        "id": "x_aTrqgJanDd"
      }
    },
    {
      "cell_type": "code",
      "source": [
        "# Применение межквартильного размаха (IQR) для поиска выбросов в столбце 'respiratory rate'\n",
        "Q1 = data['respiratory rate'].quantile(0.25)\n",
        "Q3 = data['respiratory rate'].quantile(0.75)\n",
        "IQR = Q3 - Q1\n",
        "lower_bound = Q1 - 1.5 * IQR\n",
        "upper_bound = Q3 + 1.5 * IQR\n",
        "outliers_resp_rate = data[(data['respiratory rate'] < lower_bound) | (data['respiratory rate'] > upper_bound)]\n",
        "outliers_resp_rate"
      ],
      "metadata": {
        "id": "XxggbCTX4_YX"
      },
      "execution_count": null,
      "outputs": []
    },
    {
      "cell_type": "code",
      "source": [
        "# Посмотрим как изменятся средние значения убрав выбросы\n",
        "# Настраиваем фильтры согласно нормальным значениям из описания базы данных.\n",
        "# По тем столбцам (возраст, пульс, частота дыхания), где мы имеем значения выше или ниже нормальных\n",
        "\n",
        "print('pulse')\n",
        "print(data['pulse'].mean())\n",
        "print(data[(data['pulse'] >= 30) & (data['pulse'] <= 40)]['pulse'].mean())\n",
        "print()\n",
        "print('respiratory rate')\n",
        "print(data['respiratory rate'].mean())\n",
        "print(data[(data['respiratory rate'] >= 8) & (data['respiratory rate'] <= 10)]['respiratory rate'].mean())\n",
        "\n",
        "# Видим, что средние значения сильно разнятся, нужно убирать эти выбросы.\n",
        "# Для того, чтобы средние значания попали в норму."
      ],
      "metadata": {
        "id": "zCCA-nEcTMxi"
      },
      "execution_count": null,
      "outputs": []
    },
    {
      "cell_type": "code",
      "source": [
        "# Выводим базовые статистики\n",
        "\n",
        "# Среднее значение (это видно по среднему 71 и по моде 64 )\n",
        "# частоты пульса в ударах в минуту намного выше нормы (30-40 ударов как в описании базы данных)\n",
        "\n",
        "# Среднее значение (это видно по среднему 30 и по моде 24 )\n",
        "# частоты дыхания в минуту намного выше нормы (8-10 вдохов как в описании базы данных)\n",
        "\n",
        "#Так как значения частоты пульса и дыхания которые выше нормы составляют основу наших данных\n",
        "# мы не можем их игноировать\n",
        "# Можно предположить, дыхание и пульс могут значительно отклоняться от нормы под влиянием стресса и боли.\n",
        "\n",
        "# Видно, что максиматьное значение возраста 9.\n",
        "# Bз описания базы мы знаем, что значение должно быть только 1 (взрослая) или 2 (6-месяцев)\n",
        "# Предположим, что это неправильное распознавание значения 2, т.к. кроме значений 1 и 9 у нас нет (2-не встречается, а должна)\n",
        "\n",
        "data.describe()"
      ],
      "metadata": {
        "id": "3z-bMPVI_1fM"
      },
      "execution_count": null,
      "outputs": []
    },
    {
      "cell_type": "code",
      "source": [
        "(data.isna().mean() * 100).round(2)\n",
        "# Видим, что процент пустых ячеек не привишает 20%. Это относительно не большой процент."
      ],
      "metadata": {
        "id": "kvdn7y6gF4G2"
      },
      "execution_count": null,
      "outputs": []
    },
    {
      "cell_type": "markdown",
      "source": [
        "Создается новый объект DataFrame `new_data`, в котором исключаются записи, где `pulse` не находится в диапазоне от 30 до 40.\n",
        "\n",
        "В объекте DataFrame `new_data` исключаются записи, где `respiratory rate` не находится в диапазоне от 8 до 10.\n",
        "\n",
        "В объекте DataFrame `new_data` исключаются записи, где `Age` находится вне диапазона от 1 до 2."
      ],
      "metadata": {
        "id": "zIf1iEbhRkVF"
      }
    },
    {
      "cell_type": "code",
      "source": [
        "new_data = data.drop(data[(data['pulse'] < 30) | (data['pulse'] > 40)].index)\n",
        "new_data = new_data.drop(new_data[(new_data['respiratory rate'] < 8) | (new_data['respiratory rate'] > 10)].index)\n",
        "new_data = new_data.drop(new_data[(new_data['Age'] < 1) | (new_data['Age'] > 2)].index)\n",
        "new_data\n",
        "# Видно сразу, что много пустых значений"
      ],
      "metadata": {
        "id": "TxDm66JLRtyi"
      },
      "execution_count": null,
      "outputs": []
    },
    {
      "cell_type": "code",
      "source": [
        "new_data.info()\n",
        "# Видим, что значений (выбросов), которые не находятся в нормальных\n",
        "# (согласно описанию базы данных) диапозонах гораздо больше, чем в нормальных диапозонах.\n",
        "# Из 300 строчек осталось только 20."
      ],
      "metadata": {
        "id": "NuVJbdhRSTLA"
      },
      "execution_count": null,
      "outputs": []
    },
    {
      "cell_type": "code",
      "source": [
        "(new_data.isna().mean() * 100).round(2)\n",
        "# И эти 20 строк имеют очень много пропусков."
      ],
      "metadata": {
        "id": "7-EcGdht5xCW"
      },
      "execution_count": null,
      "outputs": []
    },
    {
      "cell_type": "code",
      "source": [
        "# Пропусков больше чем заполненых значений.\n",
        "# Заполнение пропусков средними значениями будет не корректно.\n",
        "# Найдем строки где заполнены 7 значений из 8\n",
        "# Видим, что только одна строчка из 300 корректро заполнена и не имеет пропусков\n",
        "new_data = new_data.dropna(thresh=7)\n",
        "new_data"
      ],
      "metadata": {
        "id": "EXXxaXTdF6LD"
      },
      "execution_count": null,
      "outputs": []
    },
    {
      "cell_type": "markdown",
      "source": [
        "`new_data = new_data.dropna(thresh=7)` - это код, который удаляет строки из DataFrame `new_data`, если они содержат менее 7 непустых значений.\n",
        "\n",
        "Метод `dropna()` используется для удаления нулевых или отсутствующих значений в объекте DataFrame. Параметр `thresh` в методе `dropna()` задает минимальное количество непустых значений, которое должно присутствовать в строке, чтобы она не была удалена. Значение `7` означает, что строки, содержащие менее 7 непустых значений, будут удалены из DataFrame `new_data`"
      ],
      "metadata": {
        "id": "vO6pJkuve4i5"
      }
    },
    {
      "cell_type": "code",
      "source": [
        "new_data = new_data.copy()\n",
        "new_data.loc[:, 'temperature of extremities'] = new_data.loc[:, 'temperature of extremities'].fillna(1)\n",
        "new_data\n",
        "# Из описания бызы данных мы знаем, что темперетура конечностей коррелирует с ректальной температурой\n",
        "# Ректальныя температура у нас нормальнач так, что подставляем значение 1-нормальная температура конечностей.\n",
        "# Теперь мы имеем дата фрейм который очистили от выбросов и заполнеными пустыми значениями.\n",
        "# Только что нам с ним делать не понятно.\n",
        "# Понятно только одно - Работать с такими данными нельзя!"
      ],
      "metadata": {
        "id": "SFro4s65Z3hs"
      },
      "execution_count": null,
      "outputs": []
    },
    {
      "cell_type": "markdown",
      "source": [
        "`new_data = new_data.copy()` - Этот код создает копию DataFrame `new_data` и присваивает эту копию новой переменной `new_data`. Копия создается для того, чтобы избежать любых потенциальных проблем с ссылками или изменениями данных в исходном DataFrame.\n",
        "\n",
        "`new_data.loc[:, 'temperature of extremities']` - Это обращение к столбцу с именем 'temperature of extremities' в DataFrame `new_data`. `loc` - это метод, используемый для доступа и манипуляций с данными в DataFrame. `:` указывает на то, что мы хотим выбрать все строки в указанном столбце.\n",
        "\n",
        "`.fillna(1)` - Этот метод заполняет отсутствующие значения (NaN) в выбранном столбце 'temperature of extremities' значением 1. Метод `.fillna()` заменяет отсутствующие значения указанным значением. В данном случае, все NaN значения в столбце 'temperature of extremities' будут заменены на 1."
      ],
      "metadata": {
        "id": "fIWslDI0fINk"
      }
    },
    {
      "cell_type": "markdown",
      "source": [
        "# Вывод\n",
        "\n",
        "Анализируя представленные данные и описание базы данных, можно сделать вывод, что у нас есть несоответствия и некорректные значения в исходных данных. В частности, средние значения для частоты пульса и дыхания в данных значительно превышают нормальные значения.\n",
        "\n",
        "Согласно описанию базы данных, ничего не говорится о таких высоких значениях пульса, за исключением ситуаций, связанных с циркуляторным шоком. Однако, в данных присутствует значительное количество таких \"выбросов\", что наводит на мысль о некорректности или ошибочности данных.\n",
        "\n",
        "Описанием базы данных уточняется, что данные относятся к больным лошадям, и повышенная частота сердечных сокращений может быть обусловлена наличием различных негативных симптомов. Однако, поскольку описание не упоминает о том, что такие значения пульса могут часто встречаться или что это является обычным для больных лошадей, можно сделать вывод о некорректности данных.\n",
        "\n",
        "Таким образом, результаты анализа указывают на необходимость проверки и корректировки данных, чтобы исключить выбросы и некорректные значения частоты пульса и дыхания, которые могут исказить интерпретацию и анализ результатов.\n",
        "\n"
      ],
      "metadata": {
        "id": "0v4szGixfJY0"
      }
    },
    {
      "cell_type": "markdown",
      "metadata": {
        "id": "dWXv2FkZgndK"
      },
      "source": [
        "#### ПРИМЕЧАНИЕ\n",
        "Домашнее задание сдается ссылкой [Google Colab](https://colab.research.google.com/).\n",
        "Не сможем проверить или помочь, если вы пришлете:\n",
        "- файлы;\n",
        "- архивы;\n",
        "- скриншоты кода.\n",
        "\n",
        "Все обсуждения и консультации по выполнению домашнего задания ведутся только на соответствующем канале в Discord.\n",
        "\n",
        "##### Как правильно задавать вопросы аспирантам, преподавателям и коллегам\n",
        "Прежде чем задать вопрос, попробуйте найти ответ в интернете. Навык самостоятельного поиска информации — один из важнейших. Каждый практикующий специалист любого уровня делает это ежедневно.\n",
        "\n",
        "Сформулируйте вопрос по алгоритму:  \n",
        "1) Что я делаю?  \n",
        "2) Какого результата я ожидаю?  \n",
        "3) Как фактический результат отличается от ожидаемого?  \n",
        "4) Что я уже попробовал сделать, чтобы исправить проблему?  \n",
        "\n",
        "По возможности прикрепите к вопросу скриншоты либо ссылки на код. Не выкладывайте все решение, оставляйте только проблемный и воспроизводимый участок кода."
      ]
    }
  ],
  "metadata": {
    "kernelspec": {
      "display_name": "Python 3",
      "language": "python",
      "name": "python3"
    },
    "language_info": {
      "codemirror_mode": {
        "name": "ipython",
        "version": 3
      },
      "file_extension": ".py",
      "mimetype": "text/x-python",
      "name": "python",
      "nbconvert_exporter": "python",
      "pygments_lexer": "ipython3",
      "version": "3.10.8"
    },
    "colab": {
      "provenance": [],
      "include_colab_link": true
    }
  },
  "nbformat": 4,
  "nbformat_minor": 0
}