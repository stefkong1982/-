{
 "cells": [
  {
   "cell_type": "markdown",
   "metadata": {},
   "source": [
    "# Домашнее задание к лекции \"Основы веб-скрапинга\""
   ]
  },
  {
   "cell_type": "markdown",
   "metadata": {},
   "source": [
    "## Обязательная часть"
   ]
  },
  {
   "cell_type": "markdown",
   "metadata": {},
   "source": [
    "Вам необходимо написать функцию, которая будет основана на **поиске** по сайту [habr.com](https://habr.com/ru/search/).\n",
    "Функция в качестве параметра должна принимать **список** запросов для поиска (например, `['python', 'анализ данных']`) и на основе материалов, попавших в результаты поиска по **каждому** запросу, возвращать датафрейм вида:\n",
    "\n",
    "```\n",
    "<дата> - <заголовок> - <ссылка на материал>\n",
    "```\n",
    "\n",
    "В рамках задания предполагается работа только с одной (первой) страницей результатов поисковой выдачи для каждого запроса. Материалы в датафрейме не должны дублироваться, если они попадали в результаты поиска для нескольких запросов из списка.\n"
   ]
  },
  {
   "cell_type": "code",
   "execution_count": 8,
   "metadata": {},
   "outputs": [
    {
     "name": "stdout",
     "output_type": "stream",
     "text": [
      "{'date': '', 'title': 'Как я проектирую и разрабатываю расширения Python на Rust', 'link': 'https://habr.com/ru/articles/767254/'}\n",
      "{'date': '', 'title': 'Функциональное программирование в Python: ежедневные рецепты', 'link': 'https://habr.com/ru/companies/kaspersky/articles/762788/'}\n",
      "{'date': '', 'title': 'Многопоточность в Python: очевидное и невероятное', 'link': 'https://habr.com/ru/articles/764420/'}\n",
      "{'date': '', 'title': '10 лучших практик логирования в Python', 'link': 'https://habr.com/ru/companies/ruvds/articles/766010/'}\n",
      "{'date': '', 'title': 'Как работать с процессами и потоками в Python', 'link': 'https://habr.com/ru/companies/simbirsoft/articles/701020/'}\n",
      "{'date': '', 'title': 'Построение пайплайна обработки данных в реальном времени с использованием Python', 'link': 'https://habr.com/ru/companies/otus/articles/764136/'}\n",
      "{'date': '', 'title': 'Как настроить сбор статистики и автоматическое отключение пользователей WireGuard в ispmanager с помощью Python и API', 'link': 'https://habr.com/ru/companies/ispmanager/articles/764290/'}\n",
      "{'date': '', 'title': 'Как правильно писать API авто тесты на Python', 'link': 'https://habr.com/ru/articles/709380/'}\n",
      "{'date': '', 'title': 'Microsoft представила дополнение Python Editor от команды Excel Labs', 'link': 'https://habr.com/ru/news/761862/'}\n",
      "{'date': '', 'title': 'FIFO очередь asyncio в Python', 'link': 'https://habr.com/ru/articles/764932/'}\n",
      "{'date': '', 'title': 'Microsoft добавила Python в Excel', 'link': 'https://habr.com/ru/news/756266/'}\n",
      "{'date': '', 'title': 'Год ожиданий — и мы получили Python 3.12. Изменения, новшества и дополнения', 'link': 'https://habr.com/ru/companies/selectel/articles/761914/'}\n",
      "{'date': '', 'title': 'JetBrains и Python Software Foundation рассказали, как разработчики использовали Python в 2022 году', 'link': 'https://habr.com/ru/news/766124/'}\n",
      "{'date': '', 'title': 'Вышел Python 2.7.18, последний релиз ветки Python 2.x', 'link': 'https://habr.com/ru/news/498364/'}\n",
      "{'date': '', 'title': 'Полноценный 2D-платформер на Python в 2023? Мой опыт', 'link': 'https://habr.com/ru/articles/766162/'}\n",
      "{'date': '', 'title': 'Три уровня погружения в Python. Запись докладов с Python Meetup и полезные материалы', 'link': 'https://habr.com/ru/companies/selectel/news/766270/'}\n",
      "{'date': '', 'title': 'Python: Построение графиков по данным из файла', 'link': 'https://habr.com/ru/articles/748282/'}\n",
      "{'date': '', 'title': 'Python как компилируемый статически типизированный язык программирования', 'link': 'https://habr.com/ru/news/531402/'}\n",
      "{'date': '', 'title': 'В начале этого года Python сместил Java и стал вторым по популярности языком программирования среди разработчиков', 'link': 'https://habr.com/ru/companies/itsumma/news/490834/'}\n",
      "{'date': '', 'title': 'Есть ли будущее у Python? Обсудим в этот четверг', 'link': 'https://habr.com/ru/companies/selectel/news/763330/'}\n"
     ]
    }
   ],
   "source": [
    "import requests\n",
    "from bs4 import BeautifulSoup\n",
    "from urllib.parse import urljoin\n",
    "\n",
    "def scrape_habr_articles(query):\n",
    "    \"\"\"\n",
    "    Извлекает информацию о статьях на странице поиска Habr, удовлетворяющих заданному \n",
    "    поисковому запросу.\n",
    "\n",
    "    Аргументы:\n",
    "    query (str): Запрос для поиска статей.\n",
    "\n",
    "    Возвращает:\n",
    "    list: Список словарей с данными о статьях. Каждый словарь содержит информацию \n",
    "    о дате публикации, заголовке и ссылке на статью.\n",
    "    \"\"\"\n",
    "\n",
    "    base_url = 'https://habr.com/ru/search/'\n",
    "\n",
    "    search_url = f'{base_url}?q={query}'\n",
    "    response = requests.get(search_url)\n",
    "    response.raise_for_status()\n",
    "\n",
    "    soup = BeautifulSoup(response.text, 'html.parser')\n",
    "\n",
    "    articles = soup.find_all('article', class_='tm-articles-list__item')\n",
    "\n",
    "    rows = []\n",
    "\n",
    "    for article in articles:\n",
    "        datetime_element = article.find('span', class_='tm-article-snippet__datetime-published')\n",
    "        if datetime_element is not None:\n",
    "            date = datetime_element.text\n",
    "        else:\n",
    "            date = \"\"\n",
    "\n",
    "        title_element = article.find('h2', class_=\"tm-title tm-title_h2\")\n",
    "        if title_element is not None:\n",
    "            title = title_element.text\n",
    "        else:\n",
    "            title = \"\"\n",
    "\n",
    "        link_relative = article.find('h2', class_=\"tm-title tm-title_h2\").find('a').get('href')\n",
    "        link_full = urljoin(base_url, link_relative)\n",
    "\n",
    "        row = {'date': date, 'title': title, 'link': link_full}\n",
    "        rows.append(row)\n",
    "\n",
    "    return rows\n",
    "\n",
    "\n",
    "# Пример использования функции\n",
    "articles = scrape_habr_articles('python')\n",
    "\n",
    "# Выводим результаты\n",
    "for article in articles:\n",
    "    print(article)"
   ]
  },
  {
   "cell_type": "markdown",
   "metadata": {},
   "source": [
    "## Дополнительная часть (необязательная)"
   ]
  },
  {
   "cell_type": "markdown",
   "metadata": {},
   "source": [
    "Вам необходимо написать функцию, которая будет основана на **поиске** по сайту [habr.com](https://habr.com/ru/search/).\n",
    "Функция в качестве параметра должна принимать **список** запросов для поиска (например, `['python', 'анализ данных']`) и на основе материалов, попавших в результаты поиска по **каждому** запросу, возвращать датафрейм вида:\n",
    "\n",
    "```\n",
    "<дата> - <заголовок> - <ссылка на материал>\n",
    "```\n",
    "\n",
    "В рамках задания предполагается работа только с одной (первой) страницей результатов поисковой выдачи для каждого запроса. Материалы в датафрейме не должны дублироваться, если они попадали в результаты поиска для нескольких запросов из списка.\n"
   ]
  },
  {
   "cell_type": "markdown",
   "metadata": {},
   "source": [
    "Функция из обязательной части задания должна быть расширена следующим образом:\n",
    "- кроме списка ключевых слов для поиска необходимо объявить параметр с количеством страниц поисковой выдачи. Т.е. при передаче в функцию аргумента `4` необходимо получить материалы с первых 4 страниц результатов;\n",
    "- в датафрейме должны быть столбцы с полным текстом найденных материалов и количеством лайков:\n",
    "```\n",
    "<дата> - <заголовок> - <ссылка на материал> - <текст материала> - <количество лайков>\n",
    "```\n"
   ]
  },
  {
   "cell_type": "markdown",
   "metadata": {},
   "source": [
    "#### ПРИМЕЧАНИЕ\n",
    "Домашнее задание сдается ссылкой [Google Colab](https://colab.research.google.com/).\n",
    "Не сможем проверить или помочь, если вы пришлете:\n",
    "- файлы;\n",
    "- архивы;\n",
    "- скриншоты кода.\n",
    "\n",
    "Все обсуждения и консультации по выполнению домашнего задания ведутся только на соответствующем канале в Discord.\n",
    "\n",
    "##### Как правильно задавать вопросы аспирантам, преподавателям и коллегам?\n",
    "Прежде чем задать вопрос необходимо попробовать найти ответ самому в интернете. Навык самостоятельного поиска информации – один из важнейших, и каждый практикующий специалист любого уровня это делает каждый день.\n",
    "\n",
    "Любой вопрос должен быть сформулирован по алгоритму:  \n",
    "1) Что я делаю?  \n",
    "2) Какого результата я ожидаю?  \n",
    "3) Как фактический результат отличается от ожидаемого?  \n",
    "4) Что я уже попробовал сделать, чтобы исправить проблему?  \n",
    "\n",
    "По возможности, прикрепляйте к вопросу скриншоты, либо ссылки на код. Оставляйте только проблемный и воспроизводимый участок кода, все решение выкладывать не допускается.\n"
   ]
  }
 ],
 "metadata": {
  "kernelspec": {
   "display_name": "Python 3",
   "language": "python",
   "name": "python3"
  },
  "language_info": {
   "codemirror_mode": {
    "name": "ipython",
    "version": 3
   },
   "file_extension": ".py",
   "mimetype": "text/x-python",
   "name": "python",
   "nbconvert_exporter": "python",
   "pygments_lexer": "ipython3",
   "version": "3.10.8"
  }
 },
 "nbformat": 4,
 "nbformat_minor": 2
}
