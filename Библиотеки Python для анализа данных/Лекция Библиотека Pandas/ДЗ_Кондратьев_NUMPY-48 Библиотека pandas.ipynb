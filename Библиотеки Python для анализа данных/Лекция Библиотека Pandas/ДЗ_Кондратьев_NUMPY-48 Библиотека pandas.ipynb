{
 "cells": [
  {
   "cell_type": "markdown",
   "metadata": {},
   "source": [
    "## ДЗ_Кондратьев_NUMPY-48 Библиотека pandas"
   ]
  },
  {
   "cell_type": "markdown",
   "metadata": {},
   "source": [
    "### Задание 1\n",
    "Датасет для домашнего задания вы найдете в разделе “Материалы к домашнему заданию” (файл “Дополнительные файлы для домашнего задания”) к этому занятию.\n",
    "Определите, какому фильму было выставлено больше всего оценок 5.0."
   ]
  },
  {
   "cell_type": "code",
   "execution_count": 1,
   "metadata": {},
   "outputs": [],
   "source": [
    "import pandas as pd"
   ]
  },
  {
   "cell_type": "markdown",
   "metadata": {},
   "source": [
    "Эта строка импортирует библиотеку `pandas` и задает ей сокращенное название `pd`. Библиотека `pandas` используется для работы с таблицами и данными."
   ]
  },
  {
   "cell_type": "code",
   "execution_count": 2,
   "metadata": {},
   "outputs": [],
   "source": [
    "ratings = pd.read_csv('ratings.csv')\n",
    "movies = pd.read_csv('movies.csv')"
   ]
  },
  {
   "cell_type": "markdown",
   "metadata": {},
   "source": [
    "Эти строки считывают данные из двух файлов `ratings.csv` и `movies.csv` и создают две таблицы `ratings` и `movies` с помощью функции `read_csv()` из библиотеки `pandas`."
   ]
  },
  {
   "cell_type": "markdown",
   "metadata": {},
   "source": [
    "Посмотрим информацию о содержимом таблиц с помощью функций: \n",
    "\n",
    "`.head()` используется для вывода первых нескольких строк из DataFrame. По умолчанию `.head()` выводит пять строк, но можно указать желаемое количество строк в качестве аргумента метода. Например, `.head(10)` выведет первые десять строк.\n",
    "\n",
    "`.info()` предоставляет общую информацию о DataFrame, включая количество строк, количество столбцов, их названия, количество непустых значений в каждом столбце и типы данных столбцов.\n"
   ]
  },
  {
   "cell_type": "code",
   "execution_count": 3,
   "metadata": {},
   "outputs": [
    {
     "data": {
      "text/html": [
       "<div>\n",
       "<style scoped>\n",
       "    .dataframe tbody tr th:only-of-type {\n",
       "        vertical-align: middle;\n",
       "    }\n",
       "\n",
       "    .dataframe tbody tr th {\n",
       "        vertical-align: top;\n",
       "    }\n",
       "\n",
       "    .dataframe thead th {\n",
       "        text-align: right;\n",
       "    }\n",
       "</style>\n",
       "<table border=\"1\" class=\"dataframe\">\n",
       "  <thead>\n",
       "    <tr style=\"text-align: right;\">\n",
       "      <th></th>\n",
       "      <th>userId</th>\n",
       "      <th>movieId</th>\n",
       "      <th>rating</th>\n",
       "      <th>timestamp</th>\n",
       "    </tr>\n",
       "  </thead>\n",
       "  <tbody>\n",
       "    <tr>\n",
       "      <th>0</th>\n",
       "      <td>1</td>\n",
       "      <td>1</td>\n",
       "      <td>4.0</td>\n",
       "      <td>964982703</td>\n",
       "    </tr>\n",
       "    <tr>\n",
       "      <th>1</th>\n",
       "      <td>1</td>\n",
       "      <td>3</td>\n",
       "      <td>4.0</td>\n",
       "      <td>964981247</td>\n",
       "    </tr>\n",
       "    <tr>\n",
       "      <th>2</th>\n",
       "      <td>1</td>\n",
       "      <td>6</td>\n",
       "      <td>4.0</td>\n",
       "      <td>964982224</td>\n",
       "    </tr>\n",
       "    <tr>\n",
       "      <th>3</th>\n",
       "      <td>1</td>\n",
       "      <td>47</td>\n",
       "      <td>5.0</td>\n",
       "      <td>964983815</td>\n",
       "    </tr>\n",
       "    <tr>\n",
       "      <th>4</th>\n",
       "      <td>1</td>\n",
       "      <td>50</td>\n",
       "      <td>5.0</td>\n",
       "      <td>964982931</td>\n",
       "    </tr>\n",
       "  </tbody>\n",
       "</table>\n",
       "</div>"
      ],
      "text/plain": [
       "   userId  movieId  rating  timestamp\n",
       "0       1        1     4.0  964982703\n",
       "1       1        3     4.0  964981247\n",
       "2       1        6     4.0  964982224\n",
       "3       1       47     5.0  964983815\n",
       "4       1       50     5.0  964982931"
      ]
     },
     "execution_count": 3,
     "metadata": {},
     "output_type": "execute_result"
    }
   ],
   "source": [
    "ratings.head()"
   ]
  },
  {
   "cell_type": "code",
   "execution_count": 4,
   "metadata": {},
   "outputs": [
    {
     "name": "stdout",
     "output_type": "stream",
     "text": [
      "<class 'pandas.core.frame.DataFrame'>\n",
      "RangeIndex: 100836 entries, 0 to 100835\n",
      "Data columns (total 4 columns):\n",
      " #   Column     Non-Null Count   Dtype  \n",
      "---  ------     --------------   -----  \n",
      " 0   userId     100836 non-null  int64  \n",
      " 1   movieId    100836 non-null  int64  \n",
      " 2   rating     100836 non-null  float64\n",
      " 3   timestamp  100836 non-null  int64  \n",
      "dtypes: float64(1), int64(3)\n",
      "memory usage: 3.1 MB\n"
     ]
    }
   ],
   "source": [
    "ratings.info()"
   ]
  },
  {
   "cell_type": "code",
   "execution_count": 5,
   "metadata": {},
   "outputs": [
    {
     "data": {
      "text/html": [
       "<div>\n",
       "<style scoped>\n",
       "    .dataframe tbody tr th:only-of-type {\n",
       "        vertical-align: middle;\n",
       "    }\n",
       "\n",
       "    .dataframe tbody tr th {\n",
       "        vertical-align: top;\n",
       "    }\n",
       "\n",
       "    .dataframe thead th {\n",
       "        text-align: right;\n",
       "    }\n",
       "</style>\n",
       "<table border=\"1\" class=\"dataframe\">\n",
       "  <thead>\n",
       "    <tr style=\"text-align: right;\">\n",
       "      <th></th>\n",
       "      <th>movieId</th>\n",
       "      <th>title</th>\n",
       "      <th>genres</th>\n",
       "    </tr>\n",
       "  </thead>\n",
       "  <tbody>\n",
       "    <tr>\n",
       "      <th>0</th>\n",
       "      <td>1</td>\n",
       "      <td>Toy Story (1995)</td>\n",
       "      <td>Adventure|Animation|Children|Comedy|Fantasy</td>\n",
       "    </tr>\n",
       "    <tr>\n",
       "      <th>1</th>\n",
       "      <td>2</td>\n",
       "      <td>Jumanji (1995)</td>\n",
       "      <td>Adventure|Children|Fantasy</td>\n",
       "    </tr>\n",
       "    <tr>\n",
       "      <th>2</th>\n",
       "      <td>3</td>\n",
       "      <td>Grumpier Old Men (1995)</td>\n",
       "      <td>Comedy|Romance</td>\n",
       "    </tr>\n",
       "    <tr>\n",
       "      <th>3</th>\n",
       "      <td>4</td>\n",
       "      <td>Waiting to Exhale (1995)</td>\n",
       "      <td>Comedy|Drama|Romance</td>\n",
       "    </tr>\n",
       "    <tr>\n",
       "      <th>4</th>\n",
       "      <td>5</td>\n",
       "      <td>Father of the Bride Part II (1995)</td>\n",
       "      <td>Comedy</td>\n",
       "    </tr>\n",
       "  </tbody>\n",
       "</table>\n",
       "</div>"
      ],
      "text/plain": [
       "   movieId                               title  \\\n",
       "0        1                    Toy Story (1995)   \n",
       "1        2                      Jumanji (1995)   \n",
       "2        3             Grumpier Old Men (1995)   \n",
       "3        4            Waiting to Exhale (1995)   \n",
       "4        5  Father of the Bride Part II (1995)   \n",
       "\n",
       "                                        genres  \n",
       "0  Adventure|Animation|Children|Comedy|Fantasy  \n",
       "1                   Adventure|Children|Fantasy  \n",
       "2                               Comedy|Romance  \n",
       "3                         Comedy|Drama|Romance  \n",
       "4                                       Comedy  "
      ]
     },
     "execution_count": 5,
     "metadata": {},
     "output_type": "execute_result"
    }
   ],
   "source": [
    "movies.head()"
   ]
  },
  {
   "cell_type": "code",
   "execution_count": 6,
   "metadata": {},
   "outputs": [
    {
     "name": "stdout",
     "output_type": "stream",
     "text": [
      "<class 'pandas.core.frame.DataFrame'>\n",
      "RangeIndex: 9742 entries, 0 to 9741\n",
      "Data columns (total 3 columns):\n",
      " #   Column   Non-Null Count  Dtype \n",
      "---  ------   --------------  ----- \n",
      " 0   movieId  9742 non-null   int64 \n",
      " 1   title    9742 non-null   object\n",
      " 2   genres   9742 non-null   object\n",
      "dtypes: int64(1), object(2)\n",
      "memory usage: 228.5+ KB\n"
     ]
    }
   ],
   "source": [
    "movies.info()"
   ]
  },
  {
   "cell_type": "code",
   "execution_count": 7,
   "metadata": {},
   "outputs": [
    {
     "data": {
      "text/html": [
       "<div>\n",
       "<style scoped>\n",
       "    .dataframe tbody tr th:only-of-type {\n",
       "        vertical-align: middle;\n",
       "    }\n",
       "\n",
       "    .dataframe tbody tr th {\n",
       "        vertical-align: top;\n",
       "    }\n",
       "\n",
       "    .dataframe thead th {\n",
       "        text-align: right;\n",
       "    }\n",
       "</style>\n",
       "<table border=\"1\" class=\"dataframe\">\n",
       "  <thead>\n",
       "    <tr style=\"text-align: right;\">\n",
       "      <th></th>\n",
       "      <th>userId</th>\n",
       "      <th>movieId</th>\n",
       "      <th>rating</th>\n",
       "      <th>timestamp</th>\n",
       "      <th>title</th>\n",
       "      <th>genres</th>\n",
       "    </tr>\n",
       "  </thead>\n",
       "  <tbody>\n",
       "    <tr>\n",
       "      <th>0</th>\n",
       "      <td>1</td>\n",
       "      <td>1</td>\n",
       "      <td>4.0</td>\n",
       "      <td>964982703</td>\n",
       "      <td>Toy Story (1995)</td>\n",
       "      <td>Adventure|Animation|Children|Comedy|Fantasy</td>\n",
       "    </tr>\n",
       "    <tr>\n",
       "      <th>1</th>\n",
       "      <td>1</td>\n",
       "      <td>3</td>\n",
       "      <td>4.0</td>\n",
       "      <td>964981247</td>\n",
       "      <td>Grumpier Old Men (1995)</td>\n",
       "      <td>Comedy|Romance</td>\n",
       "    </tr>\n",
       "    <tr>\n",
       "      <th>2</th>\n",
       "      <td>1</td>\n",
       "      <td>6</td>\n",
       "      <td>4.0</td>\n",
       "      <td>964982224</td>\n",
       "      <td>Heat (1995)</td>\n",
       "      <td>Action|Crime|Thriller</td>\n",
       "    </tr>\n",
       "    <tr>\n",
       "      <th>3</th>\n",
       "      <td>1</td>\n",
       "      <td>47</td>\n",
       "      <td>5.0</td>\n",
       "      <td>964983815</td>\n",
       "      <td>Seven (a.k.a. Se7en) (1995)</td>\n",
       "      <td>Mystery|Thriller</td>\n",
       "    </tr>\n",
       "    <tr>\n",
       "      <th>4</th>\n",
       "      <td>1</td>\n",
       "      <td>50</td>\n",
       "      <td>5.0</td>\n",
       "      <td>964982931</td>\n",
       "      <td>Usual Suspects, The (1995)</td>\n",
       "      <td>Crime|Mystery|Thriller</td>\n",
       "    </tr>\n",
       "  </tbody>\n",
       "</table>\n",
       "</div>"
      ],
      "text/plain": [
       "   userId  movieId  rating  timestamp                        title  \\\n",
       "0       1        1     4.0  964982703             Toy Story (1995)   \n",
       "1       1        3     4.0  964981247      Grumpier Old Men (1995)   \n",
       "2       1        6     4.0  964982224                  Heat (1995)   \n",
       "3       1       47     5.0  964983815  Seven (a.k.a. Se7en) (1995)   \n",
       "4       1       50     5.0  964982931   Usual Suspects, The (1995)   \n",
       "\n",
       "                                        genres  \n",
       "0  Adventure|Animation|Children|Comedy|Fantasy  \n",
       "1                               Comedy|Romance  \n",
       "2                        Action|Crime|Thriller  \n",
       "3                             Mystery|Thriller  \n",
       "4                       Crime|Mystery|Thriller  "
      ]
     },
     "execution_count": 7,
     "metadata": {},
     "output_type": "execute_result"
    }
   ],
   "source": [
    "joined = ratings.merge(movies, on='movieId', how='left')\n",
    "joined.head()"
   ]
  },
  {
   "cell_type": "markdown",
   "metadata": {},
   "source": [
    "Эта строка объединяет таблицы `ratings` и `movies` по столбцу `movieId` с помощью метода `merge()`. \n",
    "Параметр `on='movieId'` указывает, что объединение происходит по столбцу `movieId`. \n",
    "Параметр `how='left'` указывает, что используется левое объединение, и все строки из таблицы `ratings` будут сохранены, даже если для них нет соответствующей записи в таблице `movies`."
   ]
  },
  {
   "cell_type": "code",
   "execution_count": 8,
   "metadata": {},
   "outputs": [
    {
     "name": "stdout",
     "output_type": "stream",
     "text": [
      "<class 'pandas.core.frame.DataFrame'>\n",
      "RangeIndex: 100836 entries, 0 to 100835\n",
      "Data columns (total 6 columns):\n",
      " #   Column     Non-Null Count   Dtype  \n",
      "---  ------     --------------   -----  \n",
      " 0   userId     100836 non-null  int64  \n",
      " 1   movieId    100836 non-null  int64  \n",
      " 2   rating     100836 non-null  float64\n",
      " 3   timestamp  100836 non-null  int64  \n",
      " 4   title      100836 non-null  object \n",
      " 5   genres     100836 non-null  object \n",
      "dtypes: float64(1), int64(3), object(2)\n",
      "memory usage: 4.6+ MB\n"
     ]
    }
   ],
   "source": [
    "joined.info()"
   ]
  },
  {
   "cell_type": "code",
   "execution_count": 9,
   "metadata": {},
   "outputs": [
    {
     "data": {
      "text/plain": [
       "title\n",
       "Shawshank Redemption, The (1994)             153\n",
       "Pulp Fiction (1994)                          123\n",
       "Forrest Gump (1994)                          116\n",
       "Matrix, The (1999)                           109\n",
       "Star Wars: Episode IV - A New Hope (1977)    104\n",
       "Name: count, dtype: int64"
      ]
     },
     "execution_count": 9,
     "metadata": {},
     "output_type": "execute_result"
    }
   ],
   "source": [
    "count_5_ratings = joined[joined['rating'] == 5.0]['title'].value_counts()\n",
    "count_5_ratings.head()"
   ]
  },
  {
   "cell_type": "markdown",
   "metadata": {},
   "source": [
    "Эта строка отбирает только те строки из объединенной таблицы `joined`, где значение в столбце `rating` равно 5.0, с помощью синтаксиса `[joined['rating'] == 5.0]`. Затем для столбца `title` подсчитывается количество уникальных значений с помощью метода `value_counts()`. Результат сохраняется в переменной `count_5_ratings`, которая будет содержать Series с индексами, соответствующими названиям фильмов, и значениями, соответствующими количеству оценок 5.0 для каждого фильма."
   ]
  },
  {
   "cell_type": "code",
   "execution_count": 10,
   "metadata": {},
   "outputs": [
    {
     "name": "stdout",
     "output_type": "stream",
     "text": [
      "Фильм с наибольшим количеством оценок 5.0: Shawshank Redemption, The (1994)\n"
     ]
    }
   ],
   "source": [
    "most_rated_movie = count_5_ratings.idxmax()\n",
    "print('Фильм с наибольшим количеством оценок 5.0:', most_rated_movie)"
   ]
  },
  {
   "cell_type": "markdown",
   "metadata": {},
   "source": [
    "Эта строка находит индекс (т.е. название фильма) с наибольшим значением в Series `count_5_ratings` с помощью метода `idxmax()`. Результат сохраняется в переменной `most_rated_movie`.\n",
    "\n",
    "`.idxmax()` применяется к объекту Series, который является одномерной структурой данных, аналогичной массиву или списку. Он возвращает индекс (позицию) элемента с наибольшим значением в серии данных. Если в серии нет повторяющихся наибольших элементов, то `.idxmax()` вернет только позицию первого из них.\n",
    "\n",
    "В методе `.idxmax()` не указывается столбец, потому что `count_5_ratings` сам по себе является Series, и для него уже был указан столбец в исходном DataFrame, из которого был получен этот Series.\n",
    "\n",
    "Название фильма передается в качестве аргумента функции `print()`."
   ]
  },
  {
   "cell_type": "markdown",
   "metadata": {},
   "source": [
    "### Задание 2\n",
    "По данным файла power.csv (находится в архиве в разделе Материалы к лекции «Библиотека Pandas» - файл “Дополнительные файлы для домашнего задания”) посчитайте суммарное потребление стран Прибалтики (Латвия, Литва и Эстония) категорий 4, 12 и 21 за период с 2005 по 2010 год. Не учитывайте в расчётах отрицательные значения quantity."
   ]
  },
  {
   "cell_type": "markdown",
   "metadata": {},
   "source": [
    "Считываем данные из файла `power.csv`и смотрим его содержимое"
   ]
  },
  {
   "cell_type": "code",
   "execution_count": 11,
   "metadata": {},
   "outputs": [
    {
     "data": {
      "text/html": [
       "<div>\n",
       "<style scoped>\n",
       "    .dataframe tbody tr th:only-of-type {\n",
       "        vertical-align: middle;\n",
       "    }\n",
       "\n",
       "    .dataframe tbody tr th {\n",
       "        vertical-align: top;\n",
       "    }\n",
       "\n",
       "    .dataframe thead th {\n",
       "        text-align: right;\n",
       "    }\n",
       "</style>\n",
       "<table border=\"1\" class=\"dataframe\">\n",
       "  <thead>\n",
       "    <tr style=\"text-align: right;\">\n",
       "      <th></th>\n",
       "      <th>country</th>\n",
       "      <th>year</th>\n",
       "      <th>quantity</th>\n",
       "      <th>category</th>\n",
       "    </tr>\n",
       "  </thead>\n",
       "  <tbody>\n",
       "    <tr>\n",
       "      <th>0</th>\n",
       "      <td>Austria</td>\n",
       "      <td>1996</td>\n",
       "      <td>5.0</td>\n",
       "      <td>1</td>\n",
       "    </tr>\n",
       "    <tr>\n",
       "      <th>1</th>\n",
       "      <td>Austria</td>\n",
       "      <td>1995</td>\n",
       "      <td>17.0</td>\n",
       "      <td>1</td>\n",
       "    </tr>\n",
       "    <tr>\n",
       "      <th>2</th>\n",
       "      <td>Belgium</td>\n",
       "      <td>2014</td>\n",
       "      <td>0.0</td>\n",
       "      <td>1</td>\n",
       "    </tr>\n",
       "    <tr>\n",
       "      <th>3</th>\n",
       "      <td>Belgium</td>\n",
       "      <td>2013</td>\n",
       "      <td>0.0</td>\n",
       "      <td>1</td>\n",
       "    </tr>\n",
       "    <tr>\n",
       "      <th>4</th>\n",
       "      <td>Belgium</td>\n",
       "      <td>2012</td>\n",
       "      <td>35.0</td>\n",
       "      <td>1</td>\n",
       "    </tr>\n",
       "  </tbody>\n",
       "</table>\n",
       "</div>"
      ],
      "text/plain": [
       "   country  year  quantity  category\n",
       "0  Austria  1996       5.0         1\n",
       "1  Austria  1995      17.0         1\n",
       "2  Belgium  2014       0.0         1\n",
       "3  Belgium  2013       0.0         1\n",
       "4  Belgium  2012      35.0         1"
      ]
     },
     "execution_count": 11,
     "metadata": {},
     "output_type": "execute_result"
    }
   ],
   "source": [
    "data = pd.read_csv('power.csv')\n",
    "data.head()"
   ]
  },
  {
   "cell_type": "code",
   "execution_count": 12,
   "metadata": {},
   "outputs": [
    {
     "name": "stdout",
     "output_type": "stream",
     "text": [
      "<class 'pandas.core.frame.DataFrame'>\n",
      "RangeIndex: 1189482 entries, 0 to 1189481\n",
      "Data columns (total 4 columns):\n",
      " #   Column    Non-Null Count    Dtype  \n",
      "---  ------    --------------    -----  \n",
      " 0   country   1189482 non-null  object \n",
      " 1   year      1189482 non-null  int64  \n",
      " 2   quantity  1189482 non-null  float64\n",
      " 3   category  1189482 non-null  int64  \n",
      "dtypes: float64(1), int64(2), object(1)\n",
      "memory usage: 36.3+ MB\n"
     ]
    }
   ],
   "source": [
    "data.info()"
   ]
  },
  {
   "cell_type": "code",
   "execution_count": 13,
   "metadata": {},
   "outputs": [
    {
     "data": {
      "text/plain": [
       "array(['Lithuania', 'Latvia', 'Estonia', 'State of Palestine',\n",
       "       'Timor-Leste'], dtype=object)"
      ]
     },
     "execution_count": 13,
     "metadata": {},
     "output_type": "execute_result"
    }
   ],
   "source": [
    "data[data['country'].str.contains('lit|lat|est', case=False)]['country'].unique()"
   ]
  },
  {
   "cell_type": "markdown",
   "metadata": {},
   "source": [
    "Определяем названия стран Прибалтики. Из нашего файла видно, что названия стран Прибалтики в файле указаны как \"Lithuania\", \"Latvia\" и \"Estonia\".\n",
    "\n",
    "Разберем ее по частям:\n",
    "\n",
    "1. `data['country'].str.contains('lit|lat|est', case=False)`\n",
    "\n",
    "Эта часть кода фильтрует данные, оставляя только те строки, в которых значение в столбце 'country' содержит подстроку 'lit', 'lat' или 'est'. \n",
    "\n",
    "- `data['country']` - обращение к столбцу 'country' в DataFrame `data`.\n",
    "- `.str.contains('lit|lat|est', case=False)` - метод `str.contains()` проверяет, содержит ли каждая ячейка в столбце 'country' указанные подстроки 'lit', 'lat' или 'est'. Параметр `case=False` означает, что поиск должен быть регистронезависимым.\n",
    "\n",
    "2. `[...]['country'].unique()`\n",
    "\n",
    "Эта часть кода возвращает уникальные значения из столбца 'country' в отфильтрованных данных.\n",
    "\n",
    "- `[...]` - позволяет получить данные, соответствующие условиям фильтрации.\n",
    "- `['country']` - выбирает только столбец 'country' из отфильтрованных данных.\n",
    "- `.unique()` - метод `unique()` возвращает массив уникальных значений из выбранного столбца.\n",
    "\n",
    "Таким образом, в результате выполнения этой строчки кода мы получаем уникальные значения из столбца 'country' для строк, где значение в этом столбце содержит подстроки 'lit', 'lat' или 'est'. Это будут страны, в названиях которых присутствуют подстроки 'lit', 'lat' или 'est', например, 'Lithuania', 'Latvia', 'Estonia'.\n"
   ]
  },
  {
   "cell_type": "code",
   "execution_count": 14,
   "metadata": {},
   "outputs": [
    {
     "data": {
      "text/html": [
       "<div>\n",
       "<style scoped>\n",
       "    .dataframe tbody tr th:only-of-type {\n",
       "        vertical-align: middle;\n",
       "    }\n",
       "\n",
       "    .dataframe tbody tr th {\n",
       "        vertical-align: top;\n",
       "    }\n",
       "\n",
       "    .dataframe thead th {\n",
       "        text-align: right;\n",
       "    }\n",
       "</style>\n",
       "<table border=\"1\" class=\"dataframe\">\n",
       "  <thead>\n",
       "    <tr style=\"text-align: right;\">\n",
       "      <th></th>\n",
       "      <th>country</th>\n",
       "      <th>year</th>\n",
       "      <th>quantity</th>\n",
       "      <th>category</th>\n",
       "    </tr>\n",
       "  </thead>\n",
       "  <tbody>\n",
       "    <tr>\n",
       "      <th>10617</th>\n",
       "      <td>Estonia</td>\n",
       "      <td>2008</td>\n",
       "      <td>1.0</td>\n",
       "      <td>4</td>\n",
       "    </tr>\n",
       "    <tr>\n",
       "      <th>10620</th>\n",
       "      <td>Estonia</td>\n",
       "      <td>2005</td>\n",
       "      <td>1.0</td>\n",
       "      <td>4</td>\n",
       "    </tr>\n",
       "    <tr>\n",
       "      <th>11156</th>\n",
       "      <td>Lithuania</td>\n",
       "      <td>2008</td>\n",
       "      <td>1.0</td>\n",
       "      <td>4</td>\n",
       "    </tr>\n",
       "    <tr>\n",
       "      <th>11158</th>\n",
       "      <td>Lithuania</td>\n",
       "      <td>2006</td>\n",
       "      <td>1.0</td>\n",
       "      <td>4</td>\n",
       "    </tr>\n",
       "    <tr>\n",
       "      <th>11159</th>\n",
       "      <td>Lithuania</td>\n",
       "      <td>2005</td>\n",
       "      <td>1.0</td>\n",
       "      <td>4</td>\n",
       "    </tr>\n",
       "  </tbody>\n",
       "</table>\n",
       "</div>"
      ],
      "text/plain": [
       "         country  year  quantity  category\n",
       "10617    Estonia  2008       1.0         4\n",
       "10620    Estonia  2005       1.0         4\n",
       "11156  Lithuania  2008       1.0         4\n",
       "11158  Lithuania  2006       1.0         4\n",
       "11159  Lithuania  2005       1.0         4"
      ]
     },
     "execution_count": 14,
     "metadata": {},
     "output_type": "execute_result"
    }
   ],
   "source": [
    "filtered_data = data[(data['country'].isin(['Latvia', 'Lithuania', 'Estonia'])) &\n",
    "                     (data['category'].isin([4, 12, 21])) &\n",
    "                     (data['year'].between(2005, 2010)) &\n",
    "                     (data['quantity'] > 0)]\n",
    "\n",
    "filtered_data.head()"
   ]
  },
  {
   "cell_type": "markdown",
   "metadata": {},
   "source": [
    "- `data['country'].isin(['Latvia', 'Lithuania', 'Estonia'])`: это условие фильтрации, которое проверяет, соответствует ли значение в столбце 'country' любому из перечисленных стран - Латвии, Литве или Эстонии. Таким образом, это условие выбирает строки, где страна является одной из Прибалтийских стран.\n",
    "- `data['category'].isin([4, 12, 21])`: это условие фильтрации, которое проверяет, присутствует ли значения в столбце 'category', равные 4, 12 или 21. Таким образом, это условие выбирает строки, где категория соответствует одной из указанных категорий.\n",
    "- `data['year'].between(2005, 2010)`: это условие фильтрации, которое проверяет, находится ли значение столбца 'year' в диапазоне от 2005 до 2010 включительно. Таким образом, это условие выбирает строки, где год находится в указанном диапазоне.\n",
    "- `data['quantity'] > 0`: это условие фильтрации, которое проверяет, является ли значение столбца 'quantity' положительным числом. Таким образом, это условие выбирает строки, где количество больше нуля.\n",
    "- `&`: это логический оператор \"и\", который объединяет все условия фильтрации. То есть, строка должна соответствовать всем условиям одновременно, чтобы быть выбранной.\n",
    "- `filtered_data`: это переменная, в которую сохраняются строки, удовлетворяющие всем условиям фильтрации.\n",
    "\n",
    "В итоге, переменная `filtered_data` будет содержать только те строки данных из исходного набора данных, которые соответствуют странам Прибалтики (Латвия, Литва, Эстония), категориям 4, 12 и 21, годам с 2005 по 2010 включительно, и положительным значениям количества."
   ]
  },
  {
   "cell_type": "code",
   "execution_count": 23,
   "metadata": {},
   "outputs": [
    {
     "name": "stdout",
     "output_type": "stream",
     "text": [
      "Прибалтика: 240580.0\n"
     ]
    }
   ],
   "source": [
    "total_consumption = filtered_data['quantity'].sum()\n",
    "print('Прибалтика:',total_consumption)"
   ]
  },
  {
   "cell_type": "markdown",
   "metadata": {},
   "source": [
    "В этом коде мы применяем метод `sum()` к столбцу \"quantity\" в `filtered_data`. \n",
    "\n",
    "Таким образом, мы получаем суммарное потребление для всех трех стран Прибалтики вместе."
   ]
  },
  {
   "cell_type": "markdown",
   "metadata": {},
   "source": [
    "### Задание 3\n",
    "Выберите страницу любого сайта с табличными данными. Импортируйте таблицы в pandas DataFrame. Вы можете взять любые страницы.\n",
    "Примеры страниц:\n",
    "\n",
    "https://fortrader.org/quotes;\n",
    "\n",
    "https://pythonworld.ru/tipy-dannyx-v-python/stroki-funkcii-i-metody-strok.html"
   ]
  },
  {
   "cell_type": "code",
   "execution_count": 16,
   "metadata": {},
   "outputs": [],
   "source": [
    "import requests"
   ]
  },
  {
   "cell_type": "markdown",
   "metadata": {},
   "source": [
    "По умолчанию, функция `pd.read_html` использует пакет `requests` для загрузки HTML-страницы с сервера. Поэтому нам потребуется импортировать его."
   ]
  },
  {
   "cell_type": "code",
   "execution_count": 17,
   "metadata": {},
   "outputs": [
    {
     "data": {
      "text/html": [
       "<div>\n",
       "<style scoped>\n",
       "    .dataframe tbody tr th:only-of-type {\n",
       "        vertical-align: middle;\n",
       "    }\n",
       "\n",
       "    .dataframe tbody tr th {\n",
       "        vertical-align: top;\n",
       "    }\n",
       "\n",
       "    .dataframe thead th {\n",
       "        text-align: right;\n",
       "    }\n",
       "</style>\n",
       "<table border=\"1\" class=\"dataframe\">\n",
       "  <thead>\n",
       "    <tr style=\"text-align: right;\">\n",
       "      <th></th>\n",
       "      <th>Функция или метод</th>\n",
       "      <th>Назначение</th>\n",
       "    </tr>\n",
       "  </thead>\n",
       "  <tbody>\n",
       "    <tr>\n",
       "      <th>0</th>\n",
       "      <td>S = 'str'; S = \"str\"; S = '''str'''; S = \"\"\"st...</td>\n",
       "      <td>Литералы строк</td>\n",
       "    </tr>\n",
       "    <tr>\n",
       "      <th>1</th>\n",
       "      <td>S = \"s\\np\\ta\\nbbb\"</td>\n",
       "      <td>Экранированные последовательности</td>\n",
       "    </tr>\n",
       "    <tr>\n",
       "      <th>2</th>\n",
       "      <td>S = r\"C:\\temp\\new\"</td>\n",
       "      <td>Неформатированные строки (подавляют экранирова...</td>\n",
       "    </tr>\n",
       "    <tr>\n",
       "      <th>3</th>\n",
       "      <td>S = b\"byte\"</td>\n",
       "      <td>Строка байтов</td>\n",
       "    </tr>\n",
       "    <tr>\n",
       "      <th>4</th>\n",
       "      <td>S1 + S2</td>\n",
       "      <td>Конкатенация (сложение строк)</td>\n",
       "    </tr>\n",
       "    <tr>\n",
       "      <th>5</th>\n",
       "      <td>S1 * 3</td>\n",
       "      <td>Повторение строки</td>\n",
       "    </tr>\n",
       "    <tr>\n",
       "      <th>6</th>\n",
       "      <td>S[i]</td>\n",
       "      <td>Обращение по индексу</td>\n",
       "    </tr>\n",
       "    <tr>\n",
       "      <th>7</th>\n",
       "      <td>S[i:j:step]</td>\n",
       "      <td>Извлечение среза</td>\n",
       "    </tr>\n",
       "    <tr>\n",
       "      <th>8</th>\n",
       "      <td>len(S)</td>\n",
       "      <td>Длина строки</td>\n",
       "    </tr>\n",
       "    <tr>\n",
       "      <th>9</th>\n",
       "      <td>S.find(str, [start],[end])</td>\n",
       "      <td>Поиск подстроки в строке. Возвращает номер пер...</td>\n",
       "    </tr>\n",
       "    <tr>\n",
       "      <th>10</th>\n",
       "      <td>S.rfind(str, [start],[end])</td>\n",
       "      <td>Поиск подстроки в строке. Возвращает номер пос...</td>\n",
       "    </tr>\n",
       "    <tr>\n",
       "      <th>11</th>\n",
       "      <td>S.index(str, [start],[end])</td>\n",
       "      <td>Поиск подстроки в строке. Возвращает номер пер...</td>\n",
       "    </tr>\n",
       "    <tr>\n",
       "      <th>12</th>\n",
       "      <td>S.rindex(str, [start],[end])</td>\n",
       "      <td>Поиск подстроки в строке. Возвращает номер пос...</td>\n",
       "    </tr>\n",
       "    <tr>\n",
       "      <th>13</th>\n",
       "      <td>S.replace(шаблон, замена[, maxcount])</td>\n",
       "      <td>Замена шаблона на замену. maxcount ограничивае...</td>\n",
       "    </tr>\n",
       "    <tr>\n",
       "      <th>14</th>\n",
       "      <td>S.split(символ)</td>\n",
       "      <td>Разбиение строки по разделителю</td>\n",
       "    </tr>\n",
       "    <tr>\n",
       "      <th>15</th>\n",
       "      <td>S.isdigit()</td>\n",
       "      <td>Состоит ли строка из цифр</td>\n",
       "    </tr>\n",
       "    <tr>\n",
       "      <th>16</th>\n",
       "      <td>S.isalpha()</td>\n",
       "      <td>Состоит ли строка из букв</td>\n",
       "    </tr>\n",
       "    <tr>\n",
       "      <th>17</th>\n",
       "      <td>S.isalnum()</td>\n",
       "      <td>Состоит ли строка из цифр или букв</td>\n",
       "    </tr>\n",
       "    <tr>\n",
       "      <th>18</th>\n",
       "      <td>S.islower()</td>\n",
       "      <td>Состоит ли строка из символов в нижнем регистре</td>\n",
       "    </tr>\n",
       "    <tr>\n",
       "      <th>19</th>\n",
       "      <td>S.isupper()</td>\n",
       "      <td>Состоит ли строка из символов в верхнем регистре</td>\n",
       "    </tr>\n",
       "    <tr>\n",
       "      <th>20</th>\n",
       "      <td>S.isspace()</td>\n",
       "      <td>Состоит ли строка из неотображаемых символов (...</td>\n",
       "    </tr>\n",
       "    <tr>\n",
       "      <th>21</th>\n",
       "      <td>S.istitle()</td>\n",
       "      <td>Начинаются ли слова в строке с заглавной буквы</td>\n",
       "    </tr>\n",
       "    <tr>\n",
       "      <th>22</th>\n",
       "      <td>S.upper()</td>\n",
       "      <td>Преобразование строки к верхнему регистру</td>\n",
       "    </tr>\n",
       "    <tr>\n",
       "      <th>23</th>\n",
       "      <td>S.lower()</td>\n",
       "      <td>Преобразование строки к нижнему регистру</td>\n",
       "    </tr>\n",
       "    <tr>\n",
       "      <th>24</th>\n",
       "      <td>S.startswith(str)</td>\n",
       "      <td>Начинается ли строка S с шаблона str</td>\n",
       "    </tr>\n",
       "    <tr>\n",
       "      <th>25</th>\n",
       "      <td>S.endswith(str)</td>\n",
       "      <td>Заканчивается ли строка S шаблоном str</td>\n",
       "    </tr>\n",
       "    <tr>\n",
       "      <th>26</th>\n",
       "      <td>S.join(список)</td>\n",
       "      <td>Сборка строки из списка с разделителем S</td>\n",
       "    </tr>\n",
       "    <tr>\n",
       "      <th>27</th>\n",
       "      <td>ord(символ)</td>\n",
       "      <td>Символ в его код ASCII</td>\n",
       "    </tr>\n",
       "    <tr>\n",
       "      <th>28</th>\n",
       "      <td>chr(число)</td>\n",
       "      <td>Код ASCII в символ</td>\n",
       "    </tr>\n",
       "    <tr>\n",
       "      <th>29</th>\n",
       "      <td>S.capitalize()</td>\n",
       "      <td>Переводит первый символ строки в верхний регис...</td>\n",
       "    </tr>\n",
       "    <tr>\n",
       "      <th>30</th>\n",
       "      <td>S.center(width, [fill])</td>\n",
       "      <td>Возвращает отцентрованную строку, по краям кот...</td>\n",
       "    </tr>\n",
       "    <tr>\n",
       "      <th>31</th>\n",
       "      <td>S.count(str, [start],[end])</td>\n",
       "      <td>Возвращает количество непересекающихся вхожден...</td>\n",
       "    </tr>\n",
       "    <tr>\n",
       "      <th>32</th>\n",
       "      <td>S.expandtabs([tabsize])</td>\n",
       "      <td>Возвращает копию строки, в которой все символы...</td>\n",
       "    </tr>\n",
       "    <tr>\n",
       "      <th>33</th>\n",
       "      <td>S.lstrip([chars])</td>\n",
       "      <td>Удаление пробельных символов в начале строки</td>\n",
       "    </tr>\n",
       "    <tr>\n",
       "      <th>34</th>\n",
       "      <td>S.rstrip([chars])</td>\n",
       "      <td>Удаление пробельных символов в конце строки</td>\n",
       "    </tr>\n",
       "    <tr>\n",
       "      <th>35</th>\n",
       "      <td>S.strip([chars])</td>\n",
       "      <td>Удаление пробельных символов в начале и в конц...</td>\n",
       "    </tr>\n",
       "    <tr>\n",
       "      <th>36</th>\n",
       "      <td>S.partition(шаблон)</td>\n",
       "      <td>Возвращает кортеж, содержащий часть перед перв...</td>\n",
       "    </tr>\n",
       "    <tr>\n",
       "      <th>37</th>\n",
       "      <td>S.rpartition(sep)</td>\n",
       "      <td>Возвращает кортеж, содержащий часть перед посл...</td>\n",
       "    </tr>\n",
       "    <tr>\n",
       "      <th>38</th>\n",
       "      <td>S.swapcase()</td>\n",
       "      <td>Переводит символы нижнего регистра в верхний, ...</td>\n",
       "    </tr>\n",
       "    <tr>\n",
       "      <th>39</th>\n",
       "      <td>S.title()</td>\n",
       "      <td>Первую букву каждого слова переводит в верхний...</td>\n",
       "    </tr>\n",
       "    <tr>\n",
       "      <th>40</th>\n",
       "      <td>S.zfill(width)</td>\n",
       "      <td>Делает длину строки не меньшей width, по необх...</td>\n",
       "    </tr>\n",
       "    <tr>\n",
       "      <th>41</th>\n",
       "      <td>S.ljust(width, fillchar=\" \")</td>\n",
       "      <td>Делает длину строки не меньшей width, по необх...</td>\n",
       "    </tr>\n",
       "    <tr>\n",
       "      <th>42</th>\n",
       "      <td>S.rjust(width, fillchar=\" \")</td>\n",
       "      <td>Делает длину строки не меньшей width, по необх...</td>\n",
       "    </tr>\n",
       "    <tr>\n",
       "      <th>43</th>\n",
       "      <td>S.format(*args, **kwargs)</td>\n",
       "      <td>Форматирование строки</td>\n",
       "    </tr>\n",
       "  </tbody>\n",
       "</table>\n",
       "</div>"
      ],
      "text/plain": [
       "                                    Функция или метод  \\\n",
       "0   S = 'str'; S = \"str\"; S = '''str'''; S = \"\"\"st...   \n",
       "1                                  S = \"s\\np\\ta\\nbbb\"   \n",
       "2                                  S = r\"C:\\temp\\new\"   \n",
       "3                                         S = b\"byte\"   \n",
       "4                                             S1 + S2   \n",
       "5                                              S1 * 3   \n",
       "6                                                S[i]   \n",
       "7                                         S[i:j:step]   \n",
       "8                                              len(S)   \n",
       "9                          S.find(str, [start],[end])   \n",
       "10                        S.rfind(str, [start],[end])   \n",
       "11                        S.index(str, [start],[end])   \n",
       "12                       S.rindex(str, [start],[end])   \n",
       "13              S.replace(шаблон, замена[, maxcount])   \n",
       "14                                    S.split(символ)   \n",
       "15                                        S.isdigit()   \n",
       "16                                        S.isalpha()   \n",
       "17                                        S.isalnum()   \n",
       "18                                        S.islower()   \n",
       "19                                        S.isupper()   \n",
       "20                                        S.isspace()   \n",
       "21                                        S.istitle()   \n",
       "22                                          S.upper()   \n",
       "23                                          S.lower()   \n",
       "24                                  S.startswith(str)   \n",
       "25                                    S.endswith(str)   \n",
       "26                                     S.join(список)   \n",
       "27                                        ord(символ)   \n",
       "28                                         chr(число)   \n",
       "29                                     S.capitalize()   \n",
       "30                            S.center(width, [fill])   \n",
       "31                        S.count(str, [start],[end])   \n",
       "32                            S.expandtabs([tabsize])   \n",
       "33                                  S.lstrip([chars])   \n",
       "34                                  S.rstrip([chars])   \n",
       "35                                   S.strip([chars])   \n",
       "36                                S.partition(шаблон)   \n",
       "37                                  S.rpartition(sep)   \n",
       "38                                       S.swapcase()   \n",
       "39                                          S.title()   \n",
       "40                                     S.zfill(width)   \n",
       "41                       S.ljust(width, fillchar=\" \")   \n",
       "42                       S.rjust(width, fillchar=\" \")   \n",
       "43                          S.format(*args, **kwargs)   \n",
       "\n",
       "                                           Назначение  \n",
       "0                                      Литералы строк  \n",
       "1                   Экранированные последовательности  \n",
       "2   Неформатированные строки (подавляют экранирова...  \n",
       "3                                       Строка байтов  \n",
       "4                       Конкатенация (сложение строк)  \n",
       "5                                   Повторение строки  \n",
       "6                                Обращение по индексу  \n",
       "7                                    Извлечение среза  \n",
       "8                                        Длина строки  \n",
       "9   Поиск подстроки в строке. Возвращает номер пер...  \n",
       "10  Поиск подстроки в строке. Возвращает номер пос...  \n",
       "11  Поиск подстроки в строке. Возвращает номер пер...  \n",
       "12  Поиск подстроки в строке. Возвращает номер пос...  \n",
       "13  Замена шаблона на замену. maxcount ограничивае...  \n",
       "14                    Разбиение строки по разделителю  \n",
       "15                          Состоит ли строка из цифр  \n",
       "16                          Состоит ли строка из букв  \n",
       "17                 Состоит ли строка из цифр или букв  \n",
       "18    Состоит ли строка из символов в нижнем регистре  \n",
       "19   Состоит ли строка из символов в верхнем регистре  \n",
       "20  Состоит ли строка из неотображаемых символов (...  \n",
       "21     Начинаются ли слова в строке с заглавной буквы  \n",
       "22          Преобразование строки к верхнему регистру  \n",
       "23           Преобразование строки к нижнему регистру  \n",
       "24               Начинается ли строка S с шаблона str  \n",
       "25             Заканчивается ли строка S шаблоном str  \n",
       "26           Сборка строки из списка с разделителем S  \n",
       "27                             Символ в его код ASCII  \n",
       "28                                 Код ASCII в символ  \n",
       "29  Переводит первый символ строки в верхний регис...  \n",
       "30  Возвращает отцентрованную строку, по краям кот...  \n",
       "31  Возвращает количество непересекающихся вхожден...  \n",
       "32  Возвращает копию строки, в которой все символы...  \n",
       "33       Удаление пробельных символов в начале строки  \n",
       "34        Удаление пробельных символов в конце строки  \n",
       "35  Удаление пробельных символов в начале и в конц...  \n",
       "36  Возвращает кортеж, содержащий часть перед перв...  \n",
       "37  Возвращает кортеж, содержащий часть перед посл...  \n",
       "38  Переводит символы нижнего регистра в верхний, ...  \n",
       "39  Первую букву каждого слова переводит в верхний...  \n",
       "40  Делает длину строки не меньшей width, по необх...  \n",
       "41  Делает длину строки не меньшей width, по необх...  \n",
       "42  Делает длину строки не меньшей width, по необх...  \n",
       "43                              Форматирование строки  "
      ]
     },
     "execution_count": 17,
     "metadata": {},
     "output_type": "execute_result"
    }
   ],
   "source": [
    "pd.read_html('https://pythonworld.ru/tipy-dannyx-v-python/stroki-funkcii-i-metody-strok.html')[0]"
   ]
  },
  {
   "cell_type": "markdown",
   "metadata": {},
   "source": [
    "Строка `pd.read_html('https://pythonworld.ru/tipy-dannyx-v-python/stroki-funkcii-i-metody-strok.html')[0]` состоит из двух частей: `pd.read_html` и `'[0]'`.\n",
    "\n",
    "`pd.read_html` - это функция в библиотеке pandas, которая позволяет импортировать таблицы из HTML-страниц и возвращать их в виде списка pandas DataFrame. Она принимает URL в качестве аргумента и возвращает список всех найденных таблиц на странице в виде DataFrame. В данном случае URL `'https://pythonworld.ru/tipy-dannyx-v-python/stroki-funkcii-i-metody-strok.html'` указывает на страницу с табличными данными.\n",
    "\n",
    "`[0]` - это индекс, который указывает на первый элемент возвращаемого списка pandas DataFrame. Поскольку `pd.read_html` возвращает список, мы можем использовать `[0]` для доступа к первой таблице из списка."
   ]
  }
 ],
 "metadata": {
  "kernelspec": {
   "display_name": "Python 3",
   "language": "python",
   "name": "python3"
  },
  "language_info": {
   "codemirror_mode": {
    "name": "ipython",
    "version": 3
   },
   "file_extension": ".py",
   "mimetype": "text/x-python",
   "name": "python",
   "nbconvert_exporter": "python",
   "pygments_lexer": "ipython3",
   "version": "3.10.8"
  }
 },
 "nbformat": 4,
 "nbformat_minor": 2
}
