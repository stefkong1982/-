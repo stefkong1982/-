{
  "nbformat": 4,
  "nbformat_minor": 0,
  "metadata": {
    "colab": {
      "provenance": [],
      "toc_visible": true
    },
    "kernelspec": {
      "display_name": "Python 3",
      "language": "python",
      "name": "python3"
    },
    "language_info": {
      "codemirror_mode": {
        "name": "ipython",
        "version": 3
      },
      "file_extension": ".py",
      "mimetype": "text/x-python",
      "name": "python",
      "nbconvert_exporter": "python",
      "pygments_lexer": "ipython3",
      "version": "3.7.0"
    }
  },
  "cells": [
    {
      "cell_type": "markdown",
      "source": [
        "https://bit.ly/DSNN-1-intro"
      ],
      "metadata": {
        "id": "NhyvRxLzN0Ze"
      }
    },
    {
      "cell_type": "markdown",
      "metadata": {
        "id": "28UkISS77u1Y"
      },
      "source": [
        "# Imbalanced classification: credit card fraud detection"
      ]
    },
    {
      "cell_type": "markdown",
      "metadata": {
        "id": "hDqLJbK47u1e"
      },
      "source": [
        "## Introduction\n",
        "\n",
        "This example looks at the\n",
        "[Kaggle Credit Card Fraud Detection](https://www.kaggle.com/mlg-ulb/creditcardfraud/)\n",
        "dataset to demonstrate how\n",
        "to train a classification model on data with highly imbalanced classes."
      ]
    },
    {
      "cell_type": "markdown",
      "metadata": {
        "id": "gvmBj4H57u1f"
      },
      "source": [
        "## First, vectorize the CSV data"
      ]
    },
    {
      "cell_type": "code",
      "metadata": {
        "id": "zMtluoDZIVXc",
        "colab": {
          "base_uri": "https://localhost:8080/"
        },
        "outputId": "ef36fe30-c6ce-4dde-a38f-762084f8b120"
      },
      "source": [
        "!wget https://www.dropbox.com/s/9vfy1vi6wsfkxyk/creditcard.csv.zip"
      ],
      "execution_count": null,
      "outputs": [
        {
          "output_type": "stream",
          "name": "stdout",
          "text": [
            "--2022-12-01 13:56:28--  https://www.dropbox.com/s/9vfy1vi6wsfkxyk/creditcard.csv.zip\n",
            "Resolving www.dropbox.com (www.dropbox.com)... 162.125.5.18, 2620:100:601d:18::a27d:512\n",
            "Connecting to www.dropbox.com (www.dropbox.com)|162.125.5.18|:443... connected.\n",
            "HTTP request sent, awaiting response... 302 Found\n",
            "Location: /s/raw/9vfy1vi6wsfkxyk/creditcard.csv.zip [following]\n",
            "--2022-12-01 13:56:29--  https://www.dropbox.com/s/raw/9vfy1vi6wsfkxyk/creditcard.csv.zip\n",
            "Reusing existing connection to www.dropbox.com:443.\n",
            "HTTP request sent, awaiting response... 302 Found\n",
            "Location: https://ucdedeea7e06b1e30afdaea13d33.dl.dropboxusercontent.com/cd/0/inline/BxyMVcBVXODZOFLEJMQsYunAEDS4F53fitu6195eH1LjLzUYeazVzsgITVWmlAJMsVPWgpY4a8X87AfsUbnw8ZFWmhZuYi4dq1BmCg6Ma3p0iJn7eYECeNnxmrzAtMdKJrtcu5SiTUQ4-lU4gVfPSTaHHKceHbaJKloEarFO_fahzg/file# [following]\n",
            "--2022-12-01 13:56:29--  https://ucdedeea7e06b1e30afdaea13d33.dl.dropboxusercontent.com/cd/0/inline/BxyMVcBVXODZOFLEJMQsYunAEDS4F53fitu6195eH1LjLzUYeazVzsgITVWmlAJMsVPWgpY4a8X87AfsUbnw8ZFWmhZuYi4dq1BmCg6Ma3p0iJn7eYECeNnxmrzAtMdKJrtcu5SiTUQ4-lU4gVfPSTaHHKceHbaJKloEarFO_fahzg/file\n",
            "Resolving ucdedeea7e06b1e30afdaea13d33.dl.dropboxusercontent.com (ucdedeea7e06b1e30afdaea13d33.dl.dropboxusercontent.com)... 162.125.5.15, 2620:100:601d:15::a27d:50f\n",
            "Connecting to ucdedeea7e06b1e30afdaea13d33.dl.dropboxusercontent.com (ucdedeea7e06b1e30afdaea13d33.dl.dropboxusercontent.com)|162.125.5.15|:443... connected.\n",
            "HTTP request sent, awaiting response... 302 Found\n",
            "Location: /cd/0/inline2/Bxx9WkL_LrpMXsAAVL4s2T8ugE87Q--rT7U2J8BVhoR4_bPcBf3EN3XNQOizJf6rsF3jQaGAB5NPSF5nboFHAVKlud7jGiArvE5CdUD32hEHuW7YBsPhHsI2iywbK692WH8wph2nUSuYKPo80QIiU5CtSEIltSHuCAHHyEA8WNf9SF7bt7tHPZbeTLCnGXLTiH4T1N9EnS9zvosm6Ebm0Vp0uzqRXmhzZETo41hFoFMDNQBbcFz6NszHpsLevzswZyhXbUuR3PHLkiSVaRZapFrBDGSgv9eKiM7_WxQ0uxDVjvALs3bYLMRSeBi9sTRbXHzwb5bHmGl6t05knlDWnTOPAgTMSTAlxXREW_Nx_U2k-4GxnRM2is1pAcS0FH0Pjob_EiAFIRfURUivLeOHnHAnyxy00e1P2ljZlWIr0ZuQVQ/file [following]\n",
            "--2022-12-01 13:56:30--  https://ucdedeea7e06b1e30afdaea13d33.dl.dropboxusercontent.com/cd/0/inline2/Bxx9WkL_LrpMXsAAVL4s2T8ugE87Q--rT7U2J8BVhoR4_bPcBf3EN3XNQOizJf6rsF3jQaGAB5NPSF5nboFHAVKlud7jGiArvE5CdUD32hEHuW7YBsPhHsI2iywbK692WH8wph2nUSuYKPo80QIiU5CtSEIltSHuCAHHyEA8WNf9SF7bt7tHPZbeTLCnGXLTiH4T1N9EnS9zvosm6Ebm0Vp0uzqRXmhzZETo41hFoFMDNQBbcFz6NszHpsLevzswZyhXbUuR3PHLkiSVaRZapFrBDGSgv9eKiM7_WxQ0uxDVjvALs3bYLMRSeBi9sTRbXHzwb5bHmGl6t05knlDWnTOPAgTMSTAlxXREW_Nx_U2k-4GxnRM2is1pAcS0FH0Pjob_EiAFIRfURUivLeOHnHAnyxy00e1P2ljZlWIr0ZuQVQ/file\n",
            "Reusing existing connection to ucdedeea7e06b1e30afdaea13d33.dl.dropboxusercontent.com:443.\n",
            "HTTP request sent, awaiting response... 200 OK\n",
            "Length: 69155672 (66M) [application/zip]\n",
            "Saving to: ‘creditcard.csv.zip’\n",
            "\n",
            "creditcard.csv.zip  100%[===================>]  65.95M  80.4MB/s    in 0.8s    \n",
            "\n",
            "2022-12-01 13:56:31 (80.4 MB/s) - ‘creditcard.csv.zip’ saved [69155672/69155672]\n",
            "\n"
          ]
        }
      ]
    },
    {
      "cell_type": "code",
      "metadata": {
        "id": "DEOTDjm3IZTE",
        "colab": {
          "base_uri": "https://localhost:8080/"
        },
        "outputId": "48ac6f2e-7c49-465a-fb45-a63d92433a07"
      },
      "source": [
        "!unzip creditcard.csv.zip"
      ],
      "execution_count": null,
      "outputs": [
        {
          "output_type": "stream",
          "name": "stdout",
          "text": [
            "Archive:  creditcard.csv.zip\n",
            "  inflating: creditcard.csv          \n"
          ]
        }
      ]
    },
    {
      "cell_type": "code",
      "source": [
        "import pandas as pd\n",
        "import numpy as np\n",
        "\n",
        "data = pd.read_csv('creditcard.csv')\n",
        "data.head()"
      ],
      "metadata": {
        "colab": {
          "base_uri": "https://localhost:8080/",
          "height": 299
        },
        "id": "St5lb0Nk-gQl",
        "outputId": "4c9706b0-b904-4795-8109-81d24aeed7a2"
      },
      "execution_count": null,
      "outputs": [
        {
          "output_type": "execute_result",
          "data": {
            "text/plain": [
              "   Time        V1        V2        V3        V4        V5        V6        V7  \\\n",
              "0   0.0 -1.359807 -0.072781  2.536347  1.378155 -0.338321  0.462388  0.239599   \n",
              "1   0.0  1.191857  0.266151  0.166480  0.448154  0.060018 -0.082361 -0.078803   \n",
              "2   1.0 -1.358354 -1.340163  1.773209  0.379780 -0.503198  1.800499  0.791461   \n",
              "3   1.0 -0.966272 -0.185226  1.792993 -0.863291 -0.010309  1.247203  0.237609   \n",
              "4   2.0 -1.158233  0.877737  1.548718  0.403034 -0.407193  0.095921  0.592941   \n",
              "\n",
              "         V8        V9  ...       V21       V22       V23       V24       V25  \\\n",
              "0  0.098698  0.363787  ... -0.018307  0.277838 -0.110474  0.066928  0.128539   \n",
              "1  0.085102 -0.255425  ... -0.225775 -0.638672  0.101288 -0.339846  0.167170   \n",
              "2  0.247676 -1.514654  ...  0.247998  0.771679  0.909412 -0.689281 -0.327642   \n",
              "3  0.377436 -1.387024  ... -0.108300  0.005274 -0.190321 -1.175575  0.647376   \n",
              "4 -0.270533  0.817739  ... -0.009431  0.798278 -0.137458  0.141267 -0.206010   \n",
              "\n",
              "        V26       V27       V28  Amount  Class  \n",
              "0 -0.189115  0.133558 -0.021053  149.62      0  \n",
              "1  0.125895 -0.008983  0.014724    2.69      0  \n",
              "2 -0.139097 -0.055353 -0.059752  378.66      0  \n",
              "3 -0.221929  0.062723  0.061458  123.50      0  \n",
              "4  0.502292  0.219422  0.215153   69.99      0  \n",
              "\n",
              "[5 rows x 31 columns]"
            ],
            "text/html": [
              "\n",
              "  <div id=\"df-4adb24bc-978a-432f-a24d-78c6d2b5eae2\">\n",
              "    <div class=\"colab-df-container\">\n",
              "      <div>\n",
              "<style scoped>\n",
              "    .dataframe tbody tr th:only-of-type {\n",
              "        vertical-align: middle;\n",
              "    }\n",
              "\n",
              "    .dataframe tbody tr th {\n",
              "        vertical-align: top;\n",
              "    }\n",
              "\n",
              "    .dataframe thead th {\n",
              "        text-align: right;\n",
              "    }\n",
              "</style>\n",
              "<table border=\"1\" class=\"dataframe\">\n",
              "  <thead>\n",
              "    <tr style=\"text-align: right;\">\n",
              "      <th></th>\n",
              "      <th>Time</th>\n",
              "      <th>V1</th>\n",
              "      <th>V2</th>\n",
              "      <th>V3</th>\n",
              "      <th>V4</th>\n",
              "      <th>V5</th>\n",
              "      <th>V6</th>\n",
              "      <th>V7</th>\n",
              "      <th>V8</th>\n",
              "      <th>V9</th>\n",
              "      <th>...</th>\n",
              "      <th>V21</th>\n",
              "      <th>V22</th>\n",
              "      <th>V23</th>\n",
              "      <th>V24</th>\n",
              "      <th>V25</th>\n",
              "      <th>V26</th>\n",
              "      <th>V27</th>\n",
              "      <th>V28</th>\n",
              "      <th>Amount</th>\n",
              "      <th>Class</th>\n",
              "    </tr>\n",
              "  </thead>\n",
              "  <tbody>\n",
              "    <tr>\n",
              "      <th>0</th>\n",
              "      <td>0.0</td>\n",
              "      <td>-1.359807</td>\n",
              "      <td>-0.072781</td>\n",
              "      <td>2.536347</td>\n",
              "      <td>1.378155</td>\n",
              "      <td>-0.338321</td>\n",
              "      <td>0.462388</td>\n",
              "      <td>0.239599</td>\n",
              "      <td>0.098698</td>\n",
              "      <td>0.363787</td>\n",
              "      <td>...</td>\n",
              "      <td>-0.018307</td>\n",
              "      <td>0.277838</td>\n",
              "      <td>-0.110474</td>\n",
              "      <td>0.066928</td>\n",
              "      <td>0.128539</td>\n",
              "      <td>-0.189115</td>\n",
              "      <td>0.133558</td>\n",
              "      <td>-0.021053</td>\n",
              "      <td>149.62</td>\n",
              "      <td>0</td>\n",
              "    </tr>\n",
              "    <tr>\n",
              "      <th>1</th>\n",
              "      <td>0.0</td>\n",
              "      <td>1.191857</td>\n",
              "      <td>0.266151</td>\n",
              "      <td>0.166480</td>\n",
              "      <td>0.448154</td>\n",
              "      <td>0.060018</td>\n",
              "      <td>-0.082361</td>\n",
              "      <td>-0.078803</td>\n",
              "      <td>0.085102</td>\n",
              "      <td>-0.255425</td>\n",
              "      <td>...</td>\n",
              "      <td>-0.225775</td>\n",
              "      <td>-0.638672</td>\n",
              "      <td>0.101288</td>\n",
              "      <td>-0.339846</td>\n",
              "      <td>0.167170</td>\n",
              "      <td>0.125895</td>\n",
              "      <td>-0.008983</td>\n",
              "      <td>0.014724</td>\n",
              "      <td>2.69</td>\n",
              "      <td>0</td>\n",
              "    </tr>\n",
              "    <tr>\n",
              "      <th>2</th>\n",
              "      <td>1.0</td>\n",
              "      <td>-1.358354</td>\n",
              "      <td>-1.340163</td>\n",
              "      <td>1.773209</td>\n",
              "      <td>0.379780</td>\n",
              "      <td>-0.503198</td>\n",
              "      <td>1.800499</td>\n",
              "      <td>0.791461</td>\n",
              "      <td>0.247676</td>\n",
              "      <td>-1.514654</td>\n",
              "      <td>...</td>\n",
              "      <td>0.247998</td>\n",
              "      <td>0.771679</td>\n",
              "      <td>0.909412</td>\n",
              "      <td>-0.689281</td>\n",
              "      <td>-0.327642</td>\n",
              "      <td>-0.139097</td>\n",
              "      <td>-0.055353</td>\n",
              "      <td>-0.059752</td>\n",
              "      <td>378.66</td>\n",
              "      <td>0</td>\n",
              "    </tr>\n",
              "    <tr>\n",
              "      <th>3</th>\n",
              "      <td>1.0</td>\n",
              "      <td>-0.966272</td>\n",
              "      <td>-0.185226</td>\n",
              "      <td>1.792993</td>\n",
              "      <td>-0.863291</td>\n",
              "      <td>-0.010309</td>\n",
              "      <td>1.247203</td>\n",
              "      <td>0.237609</td>\n",
              "      <td>0.377436</td>\n",
              "      <td>-1.387024</td>\n",
              "      <td>...</td>\n",
              "      <td>-0.108300</td>\n",
              "      <td>0.005274</td>\n",
              "      <td>-0.190321</td>\n",
              "      <td>-1.175575</td>\n",
              "      <td>0.647376</td>\n",
              "      <td>-0.221929</td>\n",
              "      <td>0.062723</td>\n",
              "      <td>0.061458</td>\n",
              "      <td>123.50</td>\n",
              "      <td>0</td>\n",
              "    </tr>\n",
              "    <tr>\n",
              "      <th>4</th>\n",
              "      <td>2.0</td>\n",
              "      <td>-1.158233</td>\n",
              "      <td>0.877737</td>\n",
              "      <td>1.548718</td>\n",
              "      <td>0.403034</td>\n",
              "      <td>-0.407193</td>\n",
              "      <td>0.095921</td>\n",
              "      <td>0.592941</td>\n",
              "      <td>-0.270533</td>\n",
              "      <td>0.817739</td>\n",
              "      <td>...</td>\n",
              "      <td>-0.009431</td>\n",
              "      <td>0.798278</td>\n",
              "      <td>-0.137458</td>\n",
              "      <td>0.141267</td>\n",
              "      <td>-0.206010</td>\n",
              "      <td>0.502292</td>\n",
              "      <td>0.219422</td>\n",
              "      <td>0.215153</td>\n",
              "      <td>69.99</td>\n",
              "      <td>0</td>\n",
              "    </tr>\n",
              "  </tbody>\n",
              "</table>\n",
              "<p>5 rows × 31 columns</p>\n",
              "</div>\n",
              "      <button class=\"colab-df-convert\" onclick=\"convertToInteractive('df-4adb24bc-978a-432f-a24d-78c6d2b5eae2')\"\n",
              "              title=\"Convert this dataframe to an interactive table.\"\n",
              "              style=\"display:none;\">\n",
              "        \n",
              "  <svg xmlns=\"http://www.w3.org/2000/svg\" height=\"24px\"viewBox=\"0 0 24 24\"\n",
              "       width=\"24px\">\n",
              "    <path d=\"M0 0h24v24H0V0z\" fill=\"none\"/>\n",
              "    <path d=\"M18.56 5.44l.94 2.06.94-2.06 2.06-.94-2.06-.94-.94-2.06-.94 2.06-2.06.94zm-11 1L8.5 8.5l.94-2.06 2.06-.94-2.06-.94L8.5 2.5l-.94 2.06-2.06.94zm10 10l.94 2.06.94-2.06 2.06-.94-2.06-.94-.94-2.06-.94 2.06-2.06.94z\"/><path d=\"M17.41 7.96l-1.37-1.37c-.4-.4-.92-.59-1.43-.59-.52 0-1.04.2-1.43.59L10.3 9.45l-7.72 7.72c-.78.78-.78 2.05 0 2.83L4 21.41c.39.39.9.59 1.41.59.51 0 1.02-.2 1.41-.59l7.78-7.78 2.81-2.81c.8-.78.8-2.07 0-2.86zM5.41 20L4 18.59l7.72-7.72 1.47 1.35L5.41 20z\"/>\n",
              "  </svg>\n",
              "      </button>\n",
              "      \n",
              "  <style>\n",
              "    .colab-df-container {\n",
              "      display:flex;\n",
              "      flex-wrap:wrap;\n",
              "      gap: 12px;\n",
              "    }\n",
              "\n",
              "    .colab-df-convert {\n",
              "      background-color: #E8F0FE;\n",
              "      border: none;\n",
              "      border-radius: 50%;\n",
              "      cursor: pointer;\n",
              "      display: none;\n",
              "      fill: #1967D2;\n",
              "      height: 32px;\n",
              "      padding: 0 0 0 0;\n",
              "      width: 32px;\n",
              "    }\n",
              "\n",
              "    .colab-df-convert:hover {\n",
              "      background-color: #E2EBFA;\n",
              "      box-shadow: 0px 1px 2px rgba(60, 64, 67, 0.3), 0px 1px 3px 1px rgba(60, 64, 67, 0.15);\n",
              "      fill: #174EA6;\n",
              "    }\n",
              "\n",
              "    [theme=dark] .colab-df-convert {\n",
              "      background-color: #3B4455;\n",
              "      fill: #D2E3FC;\n",
              "    }\n",
              "\n",
              "    [theme=dark] .colab-df-convert:hover {\n",
              "      background-color: #434B5C;\n",
              "      box-shadow: 0px 1px 3px 1px rgba(0, 0, 0, 0.15);\n",
              "      filter: drop-shadow(0px 1px 2px rgba(0, 0, 0, 0.3));\n",
              "      fill: #FFFFFF;\n",
              "    }\n",
              "  </style>\n",
              "\n",
              "      <script>\n",
              "        const buttonEl =\n",
              "          document.querySelector('#df-4adb24bc-978a-432f-a24d-78c6d2b5eae2 button.colab-df-convert');\n",
              "        buttonEl.style.display =\n",
              "          google.colab.kernel.accessAllowed ? 'block' : 'none';\n",
              "\n",
              "        async function convertToInteractive(key) {\n",
              "          const element = document.querySelector('#df-4adb24bc-978a-432f-a24d-78c6d2b5eae2');\n",
              "          const dataTable =\n",
              "            await google.colab.kernel.invokeFunction('convertToInteractive',\n",
              "                                                     [key], {});\n",
              "          if (!dataTable) return;\n",
              "\n",
              "          const docLinkHtml = 'Like what you see? Visit the ' +\n",
              "            '<a target=\"_blank\" href=https://colab.research.google.com/notebooks/data_table.ipynb>data table notebook</a>'\n",
              "            + ' to learn more about interactive tables.';\n",
              "          element.innerHTML = '';\n",
              "          dataTable['output_type'] = 'display_data';\n",
              "          await google.colab.output.renderOutput(dataTable, element);\n",
              "          const docLink = document.createElement('div');\n",
              "          docLink.innerHTML = docLinkHtml;\n",
              "          element.appendChild(docLink);\n",
              "        }\n",
              "      </script>\n",
              "    </div>\n",
              "  </div>\n",
              "  "
            ]
          },
          "metadata": {},
          "execution_count": 5
        }
      ]
    },
    {
      "cell_type": "code",
      "source": [
        "features = data.drop(columns=['Class']).values\n",
        "targets = data[['Class']].values.astype('uint8')"
      ],
      "metadata": {
        "id": "OO3Ohp66-skW"
      },
      "execution_count": null,
      "outputs": []
    },
    {
      "cell_type": "code",
      "source": [
        "features.shape"
      ],
      "metadata": {
        "colab": {
          "base_uri": "https://localhost:8080/"
        },
        "id": "vMyaAYtN-12e",
        "outputId": "369f505e-da81-4744-9017-9798da60d715"
      },
      "execution_count": null,
      "outputs": [
        {
          "output_type": "execute_result",
          "data": {
            "text/plain": [
              "(284807, 30)"
            ]
          },
          "metadata": {},
          "execution_count": 17
        }
      ]
    },
    {
      "cell_type": "code",
      "source": [
        "targets.shape"
      ],
      "metadata": {
        "colab": {
          "base_uri": "https://localhost:8080/"
        },
        "id": "sbAJjwcv-2lH",
        "outputId": "18fcf06e-ecc8-41d5-d112-c1f18c0cb40d"
      },
      "execution_count": null,
      "outputs": [
        {
          "output_type": "execute_result",
          "data": {
            "text/plain": [
              "(284807, 1)"
            ]
          },
          "metadata": {},
          "execution_count": 18
        }
      ]
    },
    {
      "cell_type": "code",
      "source": [
        "targets"
      ],
      "metadata": {
        "colab": {
          "base_uri": "https://localhost:8080/"
        },
        "id": "tNsnd4sc-09Z",
        "outputId": "a4e47af9-4c79-412c-d2d2-9b6351b7872e"
      },
      "execution_count": null,
      "outputs": [
        {
          "output_type": "execute_result",
          "data": {
            "text/plain": [
              "array([[0],\n",
              "       [0],\n",
              "       [0],\n",
              "       ...,\n",
              "       [0],\n",
              "       [0],\n",
              "       [0]], dtype=uint8)"
            ]
          },
          "metadata": {},
          "execution_count": 19
        }
      ]
    },
    {
      "cell_type": "code",
      "source": [
        "features"
      ],
      "metadata": {
        "colab": {
          "base_uri": "https://localhost:8080/"
        },
        "id": "Va-ZyjbA-pqH",
        "outputId": "38baf87f-f5b8-455e-a834-685b5aa0db6d"
      },
      "execution_count": null,
      "outputs": [
        {
          "output_type": "execute_result",
          "data": {
            "text/plain": [
              "array([[ 0.00000000e+00, -1.35980713e+00, -7.27811733e-02, ...,\n",
              "         1.33558377e-01, -2.10530535e-02,  1.49620000e+02],\n",
              "       [ 0.00000000e+00,  1.19185711e+00,  2.66150712e-01, ...,\n",
              "        -8.98309914e-03,  1.47241692e-02,  2.69000000e+00],\n",
              "       [ 1.00000000e+00, -1.35835406e+00, -1.34016307e+00, ...,\n",
              "        -5.53527940e-02, -5.97518406e-02,  3.78660000e+02],\n",
              "       ...,\n",
              "       [ 1.72788000e+05,  1.91956501e+00, -3.01253846e-01, ...,\n",
              "         4.45477214e-03, -2.65608286e-02,  6.78800000e+01],\n",
              "       [ 1.72788000e+05, -2.40440050e-01,  5.30482513e-01, ...,\n",
              "         1.08820735e-01,  1.04532821e-01,  1.00000000e+01],\n",
              "       [ 1.72792000e+05, -5.33412522e-01, -1.89733337e-01, ...,\n",
              "        -2.41530880e-03,  1.36489143e-02,  2.17000000e+02]])"
            ]
          },
          "metadata": {},
          "execution_count": 20
        }
      ]
    },
    {
      "cell_type": "markdown",
      "metadata": {
        "id": "IpiTu_U37u1g"
      },
      "source": [
        "## Prepare a validation set"
      ]
    },
    {
      "cell_type": "code",
      "metadata": {
        "id": "GscjzN_X7u1h",
        "colab": {
          "base_uri": "https://localhost:8080/"
        },
        "outputId": "b4cd6848-08db-4ec6-f202-87ff4fdd2be8"
      },
      "source": [
        "num_val_samples = int(len(features) * 0.2)\n",
        "train_features = features[:-num_val_samples]\n",
        "train_targets = targets[:-num_val_samples]\n",
        "val_features = features[-num_val_samples:]\n",
        "val_targets = targets[-num_val_samples:]\n",
        "\n",
        "print(\"Number of training samples:\", len(train_features))\n",
        "print(\"Number of validation samples:\", len(val_features))"
      ],
      "execution_count": null,
      "outputs": [
        {
          "output_type": "stream",
          "name": "stdout",
          "text": [
            "Number of training samples: 227846\n",
            "Number of validation samples: 56961\n"
          ]
        }
      ]
    },
    {
      "cell_type": "markdown",
      "metadata": {
        "id": "hr2UHtRF7u1h"
      },
      "source": [
        "## Analyze class imbalance in the targets"
      ]
    },
    {
      "cell_type": "code",
      "source": [
        "counts = np.bincount(train_targets[:, 0])\n",
        "counts"
      ],
      "metadata": {
        "colab": {
          "base_uri": "https://localhost:8080/"
        },
        "id": "yAKkwof9JaM_",
        "outputId": "9a6de263-0f52-458a-b6d0-7f4f4af9633d"
      },
      "execution_count": null,
      "outputs": [
        {
          "output_type": "execute_result",
          "data": {
            "text/plain": [
              "array([227429,    417])"
            ]
          },
          "metadata": {},
          "execution_count": 25
        }
      ]
    },
    {
      "cell_type": "code",
      "metadata": {
        "id": "bA501v367u1h",
        "colab": {
          "base_uri": "https://localhost:8080/"
        },
        "outputId": "2035c015-8caa-466f-9fd7-5d6c60bb5f6c"
      },
      "source": [
        "print(\n",
        "    f\"Number of positive samples in training data: {counts[1]} ({100 * float(counts[1]) / len(train_targets):.2f}% of total)\"\n",
        ")\n",
        "\n",
        "weight_for_0 = 1.0 / counts[0]\n",
        "weight_for_1 = 1.0 / counts[1]"
      ],
      "execution_count": null,
      "outputs": [
        {
          "output_type": "stream",
          "name": "stdout",
          "text": [
            "Number of positive samples in training data: 417 (0.18% of total)\n"
          ]
        }
      ]
    },
    {
      "cell_type": "markdown",
      "metadata": {
        "id": "1BjXTqzs7u1h"
      },
      "source": [
        "## Normalize the data using training set statistics"
      ]
    },
    {
      "cell_type": "code",
      "metadata": {
        "id": "LU9mk2Dk7u1i"
      },
      "source": [
        "mean = np.mean(train_features, axis=0)\n",
        "train_features -= mean\n",
        "val_features -= mean\n",
        "\n",
        "std = np.std(train_features, axis=0)\n",
        "train_features /= std\n",
        "val_features /= std"
      ],
      "execution_count": null,
      "outputs": []
    },
    {
      "cell_type": "markdown",
      "metadata": {
        "id": "QZbr3bsl7u1i"
      },
      "source": [
        "## Build a binary classification model"
      ]
    },
    {
      "cell_type": "markdown",
      "source": [
        "### Dropout\n",
        "\n",
        "Метод регуляризации искусственных нейронных сетей, предназначен для уменьшения переобучения сети за счет предотвращения сложных адаптаций отдельных нейронов на тренировочных данных во время обучения.\n",
        "\n",
        "Характеризует исключение определённого процента (например 50%) случайных нейронов на разных итерациях во время обучения нейронной сети. В результате  обучение происходит более общее, нет надежды на определенные нейроны. Такой приём значительно увеличивает скорость обучения, качество обучения на тренировочных данных, а также повышает качество предсказаний модели на новых тестовых данных.\n",
        "\n",
        "На моменте предсказания все нейроны включаются обратно, dropout не используется.\n",
        "\n",
        "<img src='https://drive.google.com/uc?export=view&id=1KQrdTDanDkLhf8Kn8c5ryjqN2acwYWII' width=500>"
      ],
      "metadata": {
        "id": "QQwzl6pDIxW_"
      }
    },
    {
      "cell_type": "code",
      "metadata": {
        "id": "1jgMgQLL7u1i",
        "colab": {
          "base_uri": "https://localhost:8080/"
        },
        "outputId": "879adeba-7c0a-4dce-8d69-891191cee9cc"
      },
      "source": [
        "from tensorflow import keras\n",
        "\n",
        "hid_size = 256\n",
        "model = keras.Sequential(\n",
        "    [\n",
        "        keras.layers.Dense(\n",
        "            hid_size, activation=\"relu\", input_shape=(train_features.shape[-1],)\n",
        "        ), # fully-connected y^1\n",
        "        keras.layers.Dense(hid_size, activation=\"relu\"), # y^2\n",
        "        keras.layers.Dropout(0.3),\n",
        "        keras.layers.Dense(hid_size, activation=\"relu\"), # y^3\n",
        "        keras.layers.Dropout(0.3),\n",
        "        keras.layers.Dense(1, activation=\"sigmoid\"), # y^4\n",
        "    ]\n",
        ")\n",
        "model.summary()"
      ],
      "execution_count": null,
      "outputs": [
        {
          "output_type": "stream",
          "name": "stdout",
          "text": [
            "Model: \"sequential_2\"\n",
            "_________________________________________________________________\n",
            " Layer (type)                Output Shape              Param #   \n",
            "=================================================================\n",
            " dense_8 (Dense)             (None, 256)               7936      \n",
            "                                                                 \n",
            " dense_9 (Dense)             (None, 256)               65792     \n",
            "                                                                 \n",
            " dropout_4 (Dropout)         (None, 256)               0         \n",
            "                                                                 \n",
            " dense_10 (Dense)            (None, 256)               65792     \n",
            "                                                                 \n",
            " dropout_5 (Dropout)         (None, 256)               0         \n",
            "                                                                 \n",
            " dense_11 (Dense)            (None, 1)                 257       \n",
            "                                                                 \n",
            "=================================================================\n",
            "Total params: 139,777\n",
            "Trainable params: 139,777\n",
            "Non-trainable params: 0\n",
            "_________________________________________________________________\n"
          ]
        }
      ]
    },
    {
      "cell_type": "markdown",
      "metadata": {
        "id": "nKJF0uxs7u1j"
      },
      "source": [
        "## Train the model with `class_weight` argument"
      ]
    },
    {
      "cell_type": "code",
      "metadata": {
        "id": "47TFfEAQ7u1j"
      },
      "source": [
        "metrics = [\n",
        "    keras.metrics.FalseNegatives(name=\"fn\"),\n",
        "    keras.metrics.FalsePositives(name=\"fp\"),\n",
        "    keras.metrics.Precision(name=\"precision\"),\n",
        "    keras.metrics.Recall(name=\"recall\"),\n",
        "]\n",
        "\n",
        "model.compile(\n",
        "    optimizer=keras.optimizers.Adam(1e-2),\n",
        "    loss=\"binary_crossentropy\",\n",
        "    metrics=metrics\n",
        ")"
      ],
      "execution_count": null,
      "outputs": []
    },
    {
      "cell_type": "code",
      "source": [
        "callbacks = [\n",
        "    keras.callbacks.ModelCheckpoint(\"fraud_model_at_epoch_{epoch}.h5\")\n",
        "]\n",
        "\n",
        "class_weight = {0: weight_for_0, 1: weight_for_1}\n",
        "\n"
      ],
      "metadata": {
        "id": "MWlFJlM0KYCM"
      },
      "execution_count": null,
      "outputs": []
    },
    {
      "cell_type": "markdown",
      "source": [
        "<img src='https://drive.google.com/uc?export=view&id=1j8SxKYEi12jzJXi_bPO28q5SV9emuu0Y'>"
      ],
      "metadata": {
        "id": "5G2Enr2YKV32"
      }
    },
    {
      "cell_type": "code",
      "source": [
        "model.fit(\n",
        "    train_features,\n",
        "    train_targets,\n",
        "    batch_size=2048,\n",
        "    epochs=30,\n",
        "    callbacks=callbacks,\n",
        "    validation_data=(val_features, val_targets),\n",
        "    class_weight=class_weight,\n",
        ")\n"
      ],
      "metadata": {
        "colab": {
          "base_uri": "https://localhost:8080/"
        },
        "id": "EP8Bd8G2Jl96",
        "outputId": "f673a4a4-3ec6-4a9e-abf1-954149c7cf2c"
      },
      "execution_count": null,
      "outputs": [
        {
          "output_type": "stream",
          "name": "stdout",
          "text": [
            "Epoch 1/30\n",
            "112/112 [==============================] - 9s 65ms/step - loss: 2.3283e-06 - fn: 47.0000 - fp: 25104.0000 - precision: 0.0145 - recall: 0.8873 - val_loss: 0.0848 - val_fn: 9.0000 - val_fp: 1110.0000 - val_precision: 0.0561 - val_recall: 0.8800\n",
            "Epoch 2/30\n",
            "112/112 [==============================] - 7s 60ms/step - loss: 1.4262e-06 - fn: 32.0000 - fp: 6475.0000 - precision: 0.0561 - recall: 0.9233 - val_loss: 0.0658 - val_fn: 13.0000 - val_fp: 200.0000 - val_precision: 0.2366 - val_recall: 0.8267\n",
            "Epoch 3/30\n",
            "112/112 [==============================] - 7s 60ms/step - loss: 1.3120e-06 - fn: 31.0000 - fp: 7364.0000 - precision: 0.0498 - recall: 0.9257 - val_loss: 0.0620 - val_fn: 8.0000 - val_fp: 872.0000 - val_precision: 0.0714 - val_recall: 0.8933\n",
            "Epoch 4/30\n",
            "112/112 [==============================] - 7s 59ms/step - loss: 1.1036e-06 - fn: 27.0000 - fp: 8056.0000 - precision: 0.0462 - recall: 0.9353 - val_loss: 0.0414 - val_fn: 10.0000 - val_fp: 622.0000 - val_precision: 0.0946 - val_recall: 0.8667\n",
            "Epoch 5/30\n",
            "112/112 [==============================] - 7s 60ms/step - loss: 9.5292e-07 - fn: 20.0000 - fp: 7751.0000 - precision: 0.0487 - recall: 0.9520 - val_loss: 0.0425 - val_fn: 12.0000 - val_fp: 648.0000 - val_precision: 0.0886 - val_recall: 0.8400\n",
            "Epoch 6/30\n",
            "112/112 [==============================] - 7s 59ms/step - loss: 7.7432e-07 - fn: 22.0000 - fp: 6163.0000 - precision: 0.0602 - recall: 0.9472 - val_loss: 0.0234 - val_fn: 9.0000 - val_fp: 432.0000 - val_precision: 0.1325 - val_recall: 0.8800\n",
            "Epoch 7/30\n",
            "112/112 [==============================] - 7s 61ms/step - loss: 6.6663e-07 - fn: 16.0000 - fp: 5684.0000 - precision: 0.0659 - recall: 0.9616 - val_loss: 0.0597 - val_fn: 8.0000 - val_fp: 992.0000 - val_precision: 0.0633 - val_recall: 0.8933\n",
            "Epoch 8/30\n",
            "112/112 [==============================] - 7s 60ms/step - loss: 8.0563e-07 - fn: 19.0000 - fp: 8102.0000 - precision: 0.0468 - recall: 0.9544 - val_loss: 0.0611 - val_fn: 8.0000 - val_fp: 800.0000 - val_precision: 0.0773 - val_recall: 0.8933\n",
            "Epoch 9/30\n",
            "112/112 [==============================] - 7s 61ms/step - loss: 6.0513e-07 - fn: 9.0000 - fp: 5970.0000 - precision: 0.0640 - recall: 0.9784 - val_loss: 0.0355 - val_fn: 10.0000 - val_fp: 813.0000 - val_precision: 0.0740 - val_recall: 0.8667\n",
            "Epoch 10/30\n",
            "112/112 [==============================] - 7s 62ms/step - loss: 7.1727e-07 - fn: 13.0000 - fp: 7134.0000 - precision: 0.0536 - recall: 0.9688 - val_loss: 0.0235 - val_fn: 11.0000 - val_fp: 374.0000 - val_precision: 0.1461 - val_recall: 0.8533\n",
            "Epoch 11/30\n",
            "112/112 [==============================] - 7s 59ms/step - loss: 6.9225e-07 - fn: 13.0000 - fp: 8301.0000 - precision: 0.0464 - recall: 0.9688 - val_loss: 0.0287 - val_fn: 8.0000 - val_fp: 566.0000 - val_precision: 0.1058 - val_recall: 0.8933\n",
            "Epoch 12/30\n",
            "112/112 [==============================] - 7s 60ms/step - loss: 6.5917e-07 - fn: 6.0000 - fp: 6610.0000 - precision: 0.0585 - recall: 0.9856 - val_loss: 0.0530 - val_fn: 10.0000 - val_fp: 695.0000 - val_precision: 0.0855 - val_recall: 0.8667\n",
            "Epoch 13/30\n",
            "112/112 [==============================] - 7s 59ms/step - loss: 6.5139e-07 - fn: 9.0000 - fp: 7036.0000 - precision: 0.0548 - recall: 0.9784 - val_loss: 0.1075 - val_fn: 9.0000 - val_fp: 2202.0000 - val_precision: 0.0291 - val_recall: 0.8800\n",
            "Epoch 14/30\n",
            "112/112 [==============================] - 7s 59ms/step - loss: 5.2213e-07 - fn: 7.0000 - fp: 5722.0000 - precision: 0.0669 - recall: 0.9832 - val_loss: 0.0265 - val_fn: 9.0000 - val_fp: 554.0000 - val_precision: 0.1065 - val_recall: 0.8800\n",
            "Epoch 15/30\n",
            "112/112 [==============================] - 7s 59ms/step - loss: 5.7692e-07 - fn: 10.0000 - fp: 6954.0000 - precision: 0.0553 - recall: 0.9760 - val_loss: 0.0789 - val_fn: 6.0000 - val_fp: 2305.0000 - val_precision: 0.0291 - val_recall: 0.9200\n",
            "Epoch 16/30\n",
            "112/112 [==============================] - 7s 60ms/step - loss: 4.5309e-07 - fn: 6.0000 - fp: 4662.0000 - precision: 0.0810 - recall: 0.9856 - val_loss: 0.0945 - val_fn: 9.0000 - val_fp: 2576.0000 - val_precision: 0.0250 - val_recall: 0.8800\n",
            "Epoch 17/30\n",
            "112/112 [==============================] - 7s 59ms/step - loss: 4.1525e-07 - fn: 5.0000 - fp: 5074.0000 - precision: 0.0751 - recall: 0.9880 - val_loss: 0.0723 - val_fn: 7.0000 - val_fp: 1223.0000 - val_precision: 0.0527 - val_recall: 0.9067\n",
            "Epoch 18/30\n",
            "112/112 [==============================] - 7s 60ms/step - loss: 5.2895e-07 - fn: 7.0000 - fp: 5471.0000 - precision: 0.0697 - recall: 0.9832 - val_loss: 0.0201 - val_fn: 8.0000 - val_fp: 318.0000 - val_precision: 0.1740 - val_recall: 0.8933\n",
            "Epoch 19/30\n",
            "112/112 [==============================] - 7s 60ms/step - loss: 3.3875e-07 - fn: 3.0000 - fp: 3902.0000 - precision: 0.0959 - recall: 0.9928 - val_loss: 0.1471 - val_fn: 3.0000 - val_fp: 3459.0000 - val_precision: 0.0204 - val_recall: 0.9600\n",
            "Epoch 20/30\n",
            "112/112 [==============================] - 7s 60ms/step - loss: 4.7973e-07 - fn: 7.0000 - fp: 6682.0000 - precision: 0.0578 - recall: 0.9832 - val_loss: 0.0391 - val_fn: 6.0000 - val_fp: 1037.0000 - val_precision: 0.0624 - val_recall: 0.9200\n",
            "Epoch 21/30\n",
            "112/112 [==============================] - 8s 69ms/step - loss: 4.3560e-07 - fn: 5.0000 - fp: 6070.0000 - precision: 0.0636 - recall: 0.9880 - val_loss: 0.0320 - val_fn: 8.0000 - val_fp: 896.0000 - val_precision: 0.0696 - val_recall: 0.8933\n",
            "Epoch 22/30\n",
            "112/112 [==============================] - 7s 60ms/step - loss: 2.0898e-07 - fn: 1.0000 - fp: 2655.0000 - precision: 0.1355 - recall: 0.9976 - val_loss: 0.0149 - val_fn: 8.0000 - val_fp: 318.0000 - val_precision: 0.1740 - val_recall: 0.8933\n",
            "Epoch 23/30\n",
            "112/112 [==============================] - 7s 60ms/step - loss: 2.5052e-07 - fn: 3.0000 - fp: 2619.0000 - precision: 0.1365 - recall: 0.9928 - val_loss: 0.0748 - val_fn: 8.0000 - val_fp: 1773.0000 - val_precision: 0.0364 - val_recall: 0.8933\n",
            "Epoch 24/30\n",
            "112/112 [==============================] - 7s 60ms/step - loss: 2.7814e-07 - fn: 2.0000 - fp: 3663.0000 - precision: 0.1018 - recall: 0.9952 - val_loss: 0.0164 - val_fn: 9.0000 - val_fp: 350.0000 - val_precision: 0.1587 - val_recall: 0.8800\n",
            "Epoch 25/30\n",
            "112/112 [==============================] - 7s 60ms/step - loss: 3.4793e-07 - fn: 3.0000 - fp: 3443.0000 - precision: 0.1073 - recall: 0.9928 - val_loss: 0.0319 - val_fn: 8.0000 - val_fp: 626.0000 - val_precision: 0.0967 - val_recall: 0.8933\n",
            "Epoch 26/30\n",
            "112/112 [==============================] - 7s 60ms/step - loss: 3.3294e-07 - fn: 3.0000 - fp: 4247.0000 - precision: 0.0888 - recall: 0.9928 - val_loss: 0.0165 - val_fn: 9.0000 - val_fp: 319.0000 - val_precision: 0.1714 - val_recall: 0.8800\n",
            "Epoch 27/30\n",
            "112/112 [==============================] - 7s 60ms/step - loss: 1.8621e-07 - fn: 1.0000 - fp: 2033.0000 - precision: 0.1699 - recall: 0.9976 - val_loss: 0.0111 - val_fn: 12.0000 - val_fp: 183.0000 - val_precision: 0.2561 - val_recall: 0.8400\n",
            "Epoch 28/30\n",
            "112/112 [==============================] - 8s 71ms/step - loss: 1.6631e-07 - fn: 1.0000 - fp: 2033.0000 - precision: 0.1699 - recall: 0.9976 - val_loss: 0.0322 - val_fn: 11.0000 - val_fp: 738.0000 - val_precision: 0.0798 - val_recall: 0.8533\n",
            "Epoch 29/30\n",
            "112/112 [==============================] - 7s 60ms/step - loss: 2.2680e-07 - fn: 2.0000 - fp: 2648.0000 - precision: 0.1355 - recall: 0.9952 - val_loss: 0.0082 - val_fn: 13.0000 - val_fp: 123.0000 - val_precision: 0.3351 - val_recall: 0.8267\n",
            "Epoch 30/30\n",
            "112/112 [==============================] - 7s 60ms/step - loss: 2.5591e-07 - fn: 3.0000 - fp: 3009.0000 - precision: 0.1209 - recall: 0.9928 - val_loss: 0.0168 - val_fn: 11.0000 - val_fp: 342.0000 - val_precision: 0.1576 - val_recall: 0.8533\n"
          ]
        },
        {
          "output_type": "execute_result",
          "data": {
            "text/plain": [
              "<keras.callbacks.History at 0x7fa7788c76d0>"
            ]
          },
          "metadata": {},
          "execution_count": 38
        }
      ]
    },
    {
      "cell_type": "markdown",
      "source": [
        "#**Дополнительные материалы**\n",
        "\n",
        "\n",
        "**По теории:**\n",
        "1. [Interactive neural network playground in your browser](http://playground.tensorflow.org/#activation=tanh&batchSize=10&dataset=circle&regDataset=reg-plane&learningRate=0.03&regularizationRate=0&noise=0&networkShape=4,2&seed=0.72732&showTestData=false&discretize=false&percTrainData=50&x=true&y=true&xTimesY=false&xSquared=false&ySquared=false&cosX=false&sinX=false&cosY=false&sinY=false&collectStats=false&problem=classification&initZero=false&hideText=false)\n",
        "2. Backprop in depth by cs231 - https://cs231n.github.io/optimization-2/\n",
        "3. Минусы и плюсы функций активаций (видео) - https://youtu.be/Gs8T_qF-FAA\n",
        "4. A recipe for training neural networks  - http://karpathy.github.io/2019/04/25/recipe/\n",
        "5. Метод обратного распространения ошибки (видео) - https://youtu.be/EuhoXsuu8SQ\n",
        "6. Примерно аналогичный материал с лекции, только от Стенфорда и на английском - http://cs231n.github.io/neural-networks-1/#nn\n",
        "7. Official intro to Keras - https://keras.io/getting_started/intro_to_keras_for_researchers/\n",
        "8. Deep learning frameworks (видео) - https://www.youtube.com/watch?v=ghZyptkanB0\n",
        "\n",
        "\n",
        "**По практике:**\n",
        "1. Метод fit в Keras (видео) - https://youtu.be/PLlic60dgS4\n",
        "2. Callbacks в Keras. ModelCheckpoint, ReduceLROnPlateau, EarlyStopping (видео) - https://youtu.be/sq9HvLAsK94"
      ],
      "metadata": {
        "id": "VAAcSs2h98Rg"
      }
    }
  ]
}