{
  "cells": [
    {
      "cell_type": "markdown",
      "metadata": {
        "collapsed": true,
        "id": "h97RdWrNxjed"
      },
      "source": [
        "# Домашнее задание. Свёрточные сети\n",
        "\n",
        "Здесь вам предстоит построить и обучить свою первую свёрточную сеть для классификации изображений на данных CIFAR10."
      ]
    },
    {
      "cell_type": "code",
      "execution_count": null,
      "metadata": {
        "id": "Bj5T_3dxxjee"
      },
      "outputs": [],
      "source": [
        "import tensorflow as tf\n",
        "\n",
        "from tqdm import tqdm_notebook"
      ]
    },
    {
      "cell_type": "markdown",
      "metadata": {
        "id": "8967u5Bzxjef"
      },
      "source": [
        "## Данные\n",
        "\n",
        "CIFAR10\n",
        "* 60000 RGB изображений размером 32x32x3\n",
        "* 10 классов: самолёты, собаки, рыбы и т.п.\n",
        "\n",
        "<img src=\"https://www.samyzaf.com/ML/cifar10/cifar1.jpg\" style=\"width:60%\">"
      ]
    },
    {
      "cell_type": "markdown",
      "metadata": {
        "id": "xFMGMCFrxjef"
      },
      "source": [
        "Загрузите данные, разделите их на обучающую и тестовую выборки. Размер тестовой выборки должен быть $10^4$."
      ]
    },
    {
      "cell_type": "code",
      "execution_count": null,
      "metadata": {
        "colab": {
          "base_uri": "https://localhost:8080/"
        },
        "id": "bf04QwsBxjef",
        "outputId": "9a55a028-365b-459e-e252-04d61264b680"
      },
      "outputs": [],
      "source": [
        "import numpy as np\n",
        "from keras.datasets import cifar10\n",
        "from sklearn.model_selection import train_test_split\n",
        "(X_train, y_train), (X_test, y_test) = cifar10.load_data()\n",
        "X_train, X_val, y_train, y_val = train_test_split(X_train, y_train, test_size=10**4, random_state=42)\n",
        "\n",
        "class_names = np.array(['airplane','automobile ','bird ','cat ','deer ','dog ','frog ','horse ','ship ','truck'])\n",
        "\n",
        "print (X_train.shape,y_train.shape)"
      ]
    },
    {
      "cell_type": "markdown",
      "metadata": {
        "id": "_XS_kZF9xjeh"
      },
      "source": [
        "Прежде чем приступать к основной работе, стоит убедиться что загруженно именно то, что требовалось:"
      ]
    },
    {
      "cell_type": "code",
      "execution_count": null,
      "metadata": {
        "colab": {
          "base_uri": "https://localhost:8080/",
          "height": 828
        },
        "id": "1Sih-A1Dxjeh",
        "outputId": "04efa3fb-d169-4cad-f53b-937a433c54fc"
      },
      "outputs": [],
      "source": [
        "import matplotlib.pyplot as plt\n",
        "%matplotlib inline\n",
        "\n",
        "plt.figure(figsize=[12,10])\n",
        "for i in range(12):\n",
        "    plt.subplot(3, 4, i + 1)\n",
        "    plt.xlabel(class_names[y_train[i, 0]])\n",
        "    plt.imshow(X_train[i])"
      ]
    },
    {
      "cell_type": "markdown",
      "metadata": {
        "id": "2iXiYWbdxjei"
      },
      "source": [
        "## Подготовка данных\n",
        "\n",
        "Сейчас каждый пиксель изображения закодирован тройкой чисел (RGB) __от 0 до 255__. Однако лучше себя показывает подход, где значения входов нейросети распределены недалеко от 0.\n",
        "\n",
        "Давайте приведём все данные в диапазон __`[0, 1]`__ — просто разделим на соответствующий коэффициент:"
      ]
    },
    {
      "cell_type": "code",
      "execution_count": null,
      "metadata": {
        "id": "OhIwnVXdxjei"
      },
      "outputs": [],
      "source": [
        "X_train = X_train / 255\n",
        "X_val = X_val / 255\n",
        "X_test = X_test / 255"
      ]
    },
    {
      "cell_type": "markdown",
      "metadata": {
        "id": "WSRXEBo9xjej"
      },
      "source": [
        "Исполните код ниже для проверки, что все выполнено корректно."
      ]
    },
    {
      "cell_type": "code",
      "execution_count": null,
      "metadata": {
        "id": "iZQD2dTpxjej"
      },
      "outputs": [],
      "source": [
        "assert np.shape(X_train) == (40000, 32, 32, 3), \"data shape should not change\"\n",
        "assert 0.9 <= max(map(np.max, (X_train, X_val, X_test))) <= 1.05\n",
        "assert 0.0 <= min(map(np.min, (X_train, X_val, X_test))) <= 0.1\n",
        "assert len(np.unique(X_test / 255.)) > 10, \"make sure you casted data to float type\""
      ]
    },
    {
      "cell_type": "markdown",
      "metadata": {
        "id": "qdztr8BHxjej"
      },
      "source": [
        "## Архитектура сети\n",
        "\n",
        "Для начала реализуйте простую нейросеть:\n",
        "1. принимает на вход картинки размера 32 x 32 x 3;\n",
        "2. вытягивает их в вектор (`keras.layers.Flatten`);\n",
        "3. пропускает через 1 или 2 полносвязных слоя;\n",
        "4. выходной слой отдает вероятности принадлежности к каждому из 10 классов."
      ]
    },
    {
      "cell_type": "markdown",
      "metadata": {
        "id": "E5VwlwV8xjek"
      },
      "source": [
        "Создайте полносвязную сеть:"
      ]
    },
    {
      "cell_type": "code",
      "execution_count": null,
      "metadata": {
        "id": "P0B2-vnExjek"
      },
      "outputs": [],
      "source": [
        "import keras\n",
        "from keras import layers as L\n",
        "from keras import backend as K"
      ]
    },
    {
      "cell_type": "code",
      "execution_count": null,
      "metadata": {
        "id": "Ub9pQE0Nxjek"
      },
      "outputs": [],
      "source": [
        "model = tf.keras.models.Sequential([\n",
        "        tf.keras.layers.Dense(32, activation='relu', input_shape=X_train.shape[1:]),\n",
        "        tf.keras.layers.Flatten(),\n",
        "        tf.keras.layers.Dense(32, activation='relu'),\n",
        "        tf.keras.layers.Dense(32, activation='relu'),\n",
        "        tf.keras.layers.Dense(10, activation='softmax')\n",
        "\n",
        "])"
      ]
    },
    {
      "cell_type": "code",
      "execution_count": null,
      "metadata": {
        "colab": {
          "base_uri": "https://localhost:8080/"
        },
        "id": "Yg6VYd3qxjel",
        "outputId": "fb4c6c8d-950b-43a0-d6ce-8058319f4c49"
      },
      "outputs": [],
      "source": [
        "dummy_pred = model.predict(X_train[:20])\n",
        "assert dummy_pred.shape == (20, 10)\n",
        "assert np.allclose(dummy_pred.sum(-1), 1)\n",
        "print(\"Успех!\")"
      ]
    },
    {
      "cell_type": "markdown",
      "metadata": {
        "id": "WGcAp1lexjel"
      },
      "source": [
        "## Обучение сети\n",
        "\n",
        "**Задание 1.1 (обязательно)** Будем минимизировать многоклассовую кроссэкнропию с помощью __sgd__. Вам нужно получить сеть, которая достигнет __не менее 45%__ __accuracy__ на тестовых данных.\n",
        "\n",
        "__Важно:__ поскольку в y_train лежат номера классов, Керасу нужно либо указать sparse функции потерь и метрики оценки качества классификации (`sparse_categorical_crossentropy` и `sparse_categorical_accuracy`), либо конвертировать метки в one-hot формат.\n",
        "\n",
        "### Полезные советы\n",
        "* `model.compile` позволяет указать, какие метрики вы хотите вычислять.\n",
        "* В `model.fit` можно передать валидационную выборку (`validation_data=[X_val, y_val]`), для отслеживания прогресса на ней. Также рекомендуем сохранять результаты в [tensorboard](https://keras.io/callbacks/#tensorboard) или [wandb](https://docs.wandb.ai/integrations/jupyter). **Важно: логи tensorboard не получится без боли посмотреть через colab.** Workaround: скачать логи и запустить tensorboard локально или помучаться [с этим](https://stackoverflow.com/questions/47818822/can-i-use-tensorboard-with-google-colab).\n",
        "* По умолчанию сеть учится 1 эпоху. Совсем не факт, что вам этого хватит. Число эпох можно настроить в методе `fit` (`epochs`).\n",
        "* Ещё у Кераса есть много [полезных callback-ов](https://keras.io/callbacks/), которые можно попробовать. Например, автоматическая остановка или подбор скорости обучения."
      ]
    },
    {
      "cell_type": "code",
      "execution_count": null,
      "metadata": {
        "id": "7iVWfkypxjel"
      },
      "outputs": [],
      "source": [
        "y_train, y_val = (keras.utils.to_categorical(y) for y in (y_train, y_val))"
      ]
    },
    {
      "cell_type": "code",
      "execution_count": null,
      "metadata": {
        "id": "M5w_Zj5Sxjem"
      },
      "outputs": [],
      "source": [
        "callbacks = [tf.keras.callbacks.ModelCheckpoint(filepath='model.{epoch:02d}-{val_loss:.2f}.h5'),\n",
        "             tf.keras.callbacks.TensorBoard(log_dir='./logs'),\n",
        "             tf.keras.callbacks.EarlyStopping(patience=3)]"
      ]
    },
    {
      "cell_type": "code",
      "execution_count": null,
      "metadata": {
        "colab": {
          "base_uri": "https://localhost:8080/"
        },
        "id": "7bM8coUaxjem",
        "outputId": "ccaf37f5-fba6-46a4-cfa4-038b231e8835"
      },
      "outputs": [],
      "source": [
        "## TODO\n",
        "model.compile(...)\n",
        "model.fit(X_train, y_train, batch_size=16, epochs=32, callbacks=callbacks, validation_split=0.2)"
      ]
    },
    {
      "cell_type": "markdown",
      "metadata": {
        "id": "ZODNxMaQxjem"
      },
      "source": [
        "А теперь можно проверить качество вашей сети, выполнив код ниже:"
      ]
    },
    {
      "cell_type": "code",
      "execution_count": null,
      "metadata": {
        "colab": {
          "base_uri": "https://localhost:8080/"
        },
        "id": "14l7JHe_xjem",
        "outputId": "b2804cb9-f584-424b-fb3c-004c91db9f00",
        "scrolled": true
      },
      "outputs": [],
      "source": [
        "from sklearn.metrics import accuracy_score\n",
        "\n",
        "predict_x=model.predict(X_test)\n",
        "classes_x=np.argmax(predict_x,axis=1)\n",
        "\n",
        "test_acc = accuracy_score(y_test, classes_x)\n",
        "print(\"\\n Test_acc =\", test_acc)\n",
        "assert test_acc > 0.45, \"Not good enough. Back to the drawing board :)\"\n",
        "print(\" Not bad!\")"
      ]
    },
    {
      "cell_type": "markdown",
      "metadata": {
        "id": "cm_SvVrqxjen"
      },
      "source": [
        "## Карманная сверточная сеть\n",
        "\n",
        "**Задание 1.2 (обязательно)** Реализуйте небольшую свёрточную сеть. Совсем небольшую:\n",
        "1. Входной слой\n",
        "2. Свёртка 3x3 с 10 фильтрами\n",
        "3. Нелинейность на ваш вкус\n",
        "4. Max-pooling 2x2\n",
        "5. Вытягиваем оставшееся в вектор (Flatten)\n",
        "6. Полносвязный слой на 100 нейронов\n",
        "7. Нелинейность на ваш вкус\n",
        "8. Выходной полносвязный слой с softmax\n",
        "\n",
        "Обучите её так же, как и предыдущую сеть. Если всё хорошо, у вас получится accuracy не меньше __50%__."
      ]
    },
    {
      "cell_type": "code",
      "execution_count": null,
      "metadata": {
        "id": "bu_Sg2sCxjeo",
        "scrolled": true
      },
      "outputs": [],
      "source": [
        "## TODO\n",
        "new_model = tf.keras.models.Sequential([...])"
      ]
    },
    {
      "cell_type": "code",
      "execution_count": null,
      "metadata": {
        "id": "EiJ8rBiV-klJ"
      },
      "outputs": [],
      "source": [
        "new_callbacks = [tf.keras.callbacks.ModelCheckpoint(filepath='new_model.{epoch:02d}-{val_loss:.2f}.h5'),\n",
        "             tf.keras.callbacks.TensorBoard(log_dir='./logs'),\n",
        "             tf.keras.callbacks.EarlyStopping(patience=3)]"
      ]
    },
    {
      "cell_type": "code",
      "execution_count": null,
      "metadata": {
        "colab": {
          "base_uri": "https://localhost:8080/"
        },
        "id": "L06mGJx7-o-d",
        "outputId": "6367fba7-d566-4b32-ca0c-d75cc1b580f7"
      },
      "outputs": [],
      "source": [
        "## TODO\n",
        "new_model.compile(...)\n",
        "new_model.fit(X_train, y_train, batch_size=16, epochs=32, callbacks=new_callbacks, validation_split=0.2)"
      ]
    },
    {
      "cell_type": "markdown",
      "metadata": {
        "id": "f37ZT8T4xjeo"
      },
      "source": [
        "Давайте посмотрим, смогла ли карманная сверточная сеть побить заданный порог по качеству:"
      ]
    },
    {
      "cell_type": "code",
      "execution_count": null,
      "metadata": {
        "colab": {
          "base_uri": "https://localhost:8080/"
        },
        "id": "IAYvMxhTxjep",
        "outputId": "6659b9b8-487d-4347-ed83-fa26a9b93758"
      },
      "outputs": [],
      "source": [
        "from sklearn.metrics import accuracy_score\n",
        "\n",
        "predict_x = new_model.predict(X_test)\n",
        "classes_x = np.argmax(predict_x,axis=1)\n",
        "\n",
        "test_acc = accuracy_score(y_test, classes_x)\n",
        "print(\"\\n Test_acc =\", test_acc)\n",
        "assert test_acc > 0.50, \"Not good enough. Back to the drawing board :)\"\n",
        "print(\" Not bad!\")"
      ]
    },
    {
      "cell_type": "markdown",
      "metadata": {
        "id": "How0uQPzxjep"
      },
      "source": [
        "## Учимся учить\n",
        "\n",
        "А теперь научимся сравнивать кривые обучения моделей — зависимости значения accuracy от количества итераций.\n",
        "\n",
        "Вам потребуется реализовать _экспериментальный стенд_ — вспомогательный код, в который вы сможете подать несколько архитектур и методов обучения, чтобы он их обучил и вывел графики кривых обучения. Это можно сделать с помощью `keras.callbacks` — `TensorBoard` или `History`.\n",
        "\n",
        "Будьте морально готовы, что на обучение уйдёт _много времени_. Даже если вы ограничитесь 10 эпохами. Пока идёт обучение, вы можете переключиться на другие задания или заняться чем-нибудь приятным: поспать, например."
      ]
    },
    {
      "cell_type": "markdown",
      "metadata": {
        "id": "VwmdGNIHxjep"
      },
      "source": [
        "**Задание 1.3 (опционально)** Попробуйте использовать различные методы оптимизации (sgd, momentum, adam) с параметрами по умолчанию. Какой из методов работает лучше?"
      ]
    },
    {
      "cell_type": "markdown",
      "metadata": {
        "id": "LsF9iIFGxjeq"
      },
      "source": [
        "Для удобства напишем класс Evaluator, который принимает в себя дикты виды {имя_оптимайзера: инстанс}, {имя модели: инстанс} и обучает всевозможные комбинации моделей с оптимайзерами при помощи метода fit (попутно записывая логи отдельно для каждой модели). Также пригодится метод evaluate для отображения итоговых скоров."
      ]
    },
    {
      "cell_type": "markdown",
      "metadata": {
        "id": "FBtU0x2X5gmG"
      },
      "source": [
        "Пользоваться классом не обязательно. По умолчанию класс использует tensorboard. Если вы выше использовали wandb -- советуем дописать callback."
      ]
    },
    {
      "cell_type": "code",
      "execution_count": null,
      "metadata": {
        "id": "n6pRKzaKxjeq"
      },
      "outputs": [],
      "source": [
        "class Evaluator(list):\n",
        "    def __init__(self, models, optimizers='adam', loss=keras.losses.categorical_crossentropy,\n",
        "                 metrics=[keras.metrics.categorical_accuracy]):\n",
        "        '''\n",
        "            models: dict {name: model}\n",
        "            optimizers: list of optimizers or just one optimizer\n",
        "        '''\n",
        "        if not isinstance(models, dict):\n",
        "            models = {'single_model': models}\n",
        "        if not isinstance(optimizers, dict):\n",
        "            optimizers = {str(optimizers.__class__): optimizers}\n",
        "        super().__init__([(model_name, keras.models.clone_model(model), optimizer_name, optimizer)\n",
        "                          for model_name, model in models.items()\n",
        "                          for optimizer_name, optimizer in optimizers.items()])\n",
        "        for _, model, _, optimizer in self:\n",
        "            model.compile(optimizer=optimizer, loss=loss, metrics=metrics)\n",
        "\n",
        "    def fit(self, X, y, validation_data=(), max_epochs=100, verbose=0, callbacks=[], batch_size=32):\n",
        "        if not isinstance(callbacks, list):\n",
        "            callbacks = [callbacks]\n",
        "        for model_name, model, optimizer_name, optimizer in tqdm_notebook(self):\n",
        "            model.fit(X, y, validation_data=validation_data or None, epochs=max_epochs, verbose=verbose,\n",
        "                      batch_size=batch_size, callbacks=callbacks + [keras.callbacks.TensorBoard(\n",
        "                          log_dir='./logs/{}_{}'.format(model_name, optimizer_name))])\n",
        "\n",
        "    def fit_generator(self, X, y, validation_data=(), max_epochs=100, verbose=1, callbacks=[], batch_size=32):\n",
        "        datagen = keras.preprocessing.image.ImageDataGenerator(\n",
        "            rotation_range=20,\n",
        "            width_shift_range=0.2,\n",
        "            height_shift_range=0.2,\n",
        "            horizontal_flip=True\n",
        "        )\n",
        "        if not isinstance(callbacks, list):\n",
        "            callbacks = [callbacks]\n",
        "        for model_name, model, optimizer_name, optimizer in tqdm_notebook(self):\n",
        "            model.fit_generator(datagen.flow(X, y, batch_size=batch_size), epochs=max_epochs,\n",
        "                validation_data=validation_data or None, verbose=verbose,\n",
        "                callbacks=callbacks + [keras.callbacks.TensorBoard(\n",
        "                    log_dir='./logs/{}_{}'.format(model_name, optimizer_name))])\n",
        "\n",
        "    def evaluate(self, X, y, metric):\n",
        "        for model_name, model, optimizer_name, _ in self:\n",
        "            print('Final score of {}_{} is {}'.format(model_name, optimizer_name,\n",
        "                  metric(y_test, model.predict(X_test).argmax(axis=1))))"
      ]
    },
    {
      "cell_type": "code",
      "execution_count": null,
      "metadata": {
        "id": "vpAWyAs7xjer"
      },
      "outputs": [],
      "source": [
        "!rm -rf ./logs"
      ]
    },
    {
      "cell_type": "code",
      "execution_count": null,
      "metadata": {
        "id": "FLtng4Cwxjer"
      },
      "outputs": [],
      "source": [
        "from tensorflow.keras import optimizers\n",
        "\n",
        "## TODO\n",
        "optimizers = {...}"
      ]
    },
    {
      "cell_type": "code",
      "execution_count": null,
      "metadata": {
        "colab": {
          "base_uri": "https://localhost:8080/",
          "height": 171,
          "referenced_widgets": [
            "5924b96f08f447f991e0b491f18ec889",
            "ef15f001a7af49098a9bd1aa004f3069",
            "94b101b99e2543c99197ae076bccb5b6",
            "2ed34d04cf734253aa457468ea93caec",
            "03754643928a41228d8b071bae6c84cb",
            "bcde62c50b47499a9f9d59107f0eb1d2",
            "71e7d616452341ee896f5125d48c3e15",
            "8569c823961b4a70a0fbc0507c787bb7",
            "c896b633d56440969552fae300d30271",
            "ea426bfb2b5a4d0e95be58f394bcb043",
            "2647c569898048c5a7c2c266660df63e"
          ]
        },
        "id": "RQJqV2vjxjes",
        "outputId": "2b173015-63b7-45cd-e4f0-d628aba9e66b"
      },
      "outputs": [],
      "source": [
        "evaluator = Evaluator(model, optimizers=optimizers)\n",
        "evaluator.fit(X_train, y_train, validation_data=(X_val, y_val))\n",
        "evaluator.evaluate(X_test, y_test, accuracy_score)"
      ]
    },
    {
      "cell_type": "code",
      "execution_count": null,
      "metadata": {
        "colab": {
          "base_uri": "https://localhost:8080/"
        },
        "id": "haAsE3xcCPLU",
        "outputId": "c642fec7-10a1-40bf-981e-5e3d5feac65d"
      },
      "outputs": [],
      "source": [
        "!pwd"
      ]
    },
    {
      "cell_type": "markdown",
      "metadata": {
        "id": "uFMVTSbtxjes"
      },
      "source": [
        "Прокомментируйте полученные результаты."
      ]
    },
    {
      "cell_type": "markdown",
      "metadata": {
        "id": "MVkaJnLWxjet"
      },
      "source": [
        "**Задание 1.4 (опционально)** Добавьте нормализацию по батчу (`BatchNormalization`) между свёрткой и активацией. Попробуйте использовать несколько нормализаций — в свёрточных и полносвязных слоях."
      ]
    },
    {
      "cell_type": "markdown",
      "metadata": {
        "id": "ppe0LGStxjet"
      },
      "source": [
        "Для удобства реализуем класс Models, который по сути будет являться списком моделей с двумя методами: add (добавить слой ко всем моделям) и add_create (создать новую модель на основе базовой с дополнительным слоем). Пользоваться им необязательно, но вдруг :)"
      ]
    },
    {
      "cell_type": "code",
      "execution_count": null,
      "metadata": {
        "id": "2zX9hd6Kxjet"
      },
      "outputs": [],
      "source": [
        "from collections import OrderedDict\n",
        "\n",
        "class Models(OrderedDict):\n",
        "    def __init__(self, models):\n",
        "        if not isinstance(models, dict):\n",
        "            models = OrderedDict({'base_model': models})\n",
        "        super().__init__(models)\n",
        "\n",
        "    def add(self, layer):\n",
        "        for name, model in self.items():\n",
        "            model.add(layer)\n",
        "\n",
        "    def add_create(self, name, layer):\n",
        "        base_model = next(iter(self.items()))[1]\n",
        "        new_model = keras.models.clone_model(base_model)\n",
        "        new_model.add(layer)\n",
        "        self.update({name: new_model})\n",
        "\n",
        "    def add_update(self, name, layer):\n",
        "        base_model = self[next(reversed(self))]\n",
        "        new_model = keras.models.clone_model(base_model)\n",
        "        new_model.add(layer)\n",
        "        self.update({name: new_model})\n",
        "\n",
        "# Example of usage\n",
        "# models = Models(keras.Sequential())\n",
        "# models.add(L.InputLayer(input_shape=(32, 32, 3)))\n",
        "# models.add(L.Convolution2D(filters=10, kernel_size=(3, 3)))\n",
        "# models.add(L.MaxPooling2D())\n",
        "# models.add_create('conv_batchnorm', L.BatchNormalization())\n",
        "# models.add(L.Activation('relu'))\n",
        "# ..."
      ]
    },
    {
      "cell_type": "code",
      "execution_count": null,
      "metadata": {
        "id": "ORtpt21G31YV"
      },
      "outputs": [],
      "source": []
    },
    {
      "cell_type": "markdown",
      "metadata": {
        "id": "VUBUmZoB0Izj"
      },
      "source": [
        "Прокомментируйте полученные результаты."
      ]
    },
    {
      "cell_type": "code",
      "execution_count": null,
      "metadata": {
        "id": "wBUuoOXf3yMx"
      },
      "outputs": [],
      "source": []
    },
    {
      "cell_type": "markdown",
      "metadata": {
        "id": "G3Doml67xjev"
      },
      "source": [
        "**Задание 1.5 (опционально)** Посмотрите на batch_size (параметр model.fit) - при большем батче модель будет быстрее проходить эпохи, но с совсем огромным батчом вам потребуется больше эпох для сходимости (т.к. сеть делает меньше шагов за одну эпоху).\n",
        "Найдите такое значение, при котором модель быстрее достигает точности 55%. **Hint**: используйте early stopping callback."
      ]
    },
    {
      "cell_type": "markdown",
      "metadata": {
        "id": "L1GsMtyIxjew"
      },
      "source": [
        "**Задание 1.6 (опционально)** Попробуйте найти такую комбинацию метода обучения и нормализации, при которой сеть имеет наилучшую кривую обучения. Поясните, что вы понимаете под \"наилучшей\" кривой обучения."
      ]
    },
    {
      "cell_type": "markdown",
      "metadata": {
        "id": "-unmmw3Txjey"
      },
      "source": [
        "## Свёрточная нейросеть здорового человека\n",
        "\n",
        "**Задание 1.7 (обязательно попытаться)** Наигравшись выше, обучим большую свёрточную сеть, которая даст на тестовой выборке __accuracy больше 80%__. В этом задании вам потребуется провести эксперименты, сравнив их между собой в конце. Возможно, может быть несколько проще, если писать выводы во время или сразу после каждого эксперимента, после чего сделать общие выводы.\n",
        "\n",
        "Рекомендуем начать с лучшей модели предыдущего задания и постепенно её улучшать. Вы можете использовать всё, что угодно: любые активации, сколь угодно большие свёрточные слои и глубокие сети. Единственное ограничение: __нельзя использовать предобученные сети и дополнительные данные__.\n",
        "\n",
        "### Полезные советы\n",
        "* Для начала, неплохо бы научить что-нибудь побольше, чем 10 фильтров 3x3.\n",
        "* __Главное правило: одно изменение на эксперимент__. Если у вас есть 2 идеи по улучшению сети, сначала попробуйте их независимо. Может оказаться, что одно из них дало __+10%__ точности а другое __-7%__. А вы так и будете думать, что сделали 2 полезных изменения которые в сумме дают __+3%__. Если какая-то идея не работает — даже если она вам нравится - опишите ее и выкидывайте из дальнейших экспериментов.\n",
        "* __Be careful or you will dropout__. Дропаут (`L.Dropout`) может позволить вам обучить в несколько раз бОльшую сеть без переобучения, выжав несколько процентов качества. Это круто, но не стоит сразу ставить dropout 50%. Во-первых, слишком сильный дропаут только ухудшит сеть (underfitting). Во-вторых, даже если дропаут улучшает качество, он замедляет обучение. Рекомендуем начинать с небольшого дропаута, быстро провести основные эксперименты, а потом жахнуть в 2 раза больше нейронов и дропаута ~~на ночь~~.\n",
        "* __Аугментация данных__. Если котика слегка повернуть и подрезать (простите), он всё равно останется котиком. А в керасе есть [удобный класс](https://keras.io/preprocessing/image/), который поставит подрезание котиков на поток. Ещё можно сделать этот трюк в тесте: вертим картинку 10 раз, предсказываем вероятности и усредняем. Только один совет: прежде, чем учить, посмотрите глазами на аугментированные картинки. Если вы сами не можете их различить, то и сеть не сможет.\n",
        "* __Don't just stack more layers__. Есть более эффективные способы организовать слои, чем простой Sequential. Вот пара идей: [Inception family](https://hacktilldawn.com/2016/09/25/inception-modules-explained-and-implemented/), [ResNet family](https://towardsdatascience.com/an-overview-of-resnet-and-its-variants-5281e2f56035?gi=9018057983ca), [Densely-connected convolutions](https://arxiv.org/abs/1608.06993). Только не копируйте архитектуру подчистую — вам скорее всего хватит меньшего размера.\n",
        "* __Долго != плохо__. Более глубокие архитектуры обычно требуют бОльше эпох до сходимости. Это значит, что в первые несколько эпох они могут быть хуже менее глубоких аналогов. Дайте им время, запаситесь чаем и обмажьтесь batch-norm-ом."
      ]
    },
    {
      "cell_type": "code",
      "execution_count": null,
      "metadata": {
        "id": "SPxrsPf9Uwkx"
      },
      "outputs": [],
      "source": [
        "from tensorflow.keras.preprocessing.image import ImageDataGenerator\n",
        "\n",
        "datagen = ImageDataGenerator(\n",
        "    rotation_range=15,\n",
        "    width_shift_range=0.1,\n",
        "    height_shift_range=0.1,\n",
        "    horizontal_flip=True\n",
        ")\n",
        "datagen.fit(X_train)"
      ]
    },
    {
      "cell_type": "code",
      "execution_count": null,
      "metadata": {
        "id": "qEqpWz_OWUR-"
      },
      "outputs": [],
      "source": [
        "val_datagen = ImageDataGenerator()\n",
        "\n",
        "split = 45000\n",
        "dg_x_train, dg_x_val = X_train[:split], X_train[split:]\n",
        "dg_y_train, dg_y_val = y_train[:split], y_train[split:]"
      ]
    },
    {
      "cell_type": "code",
      "execution_count": null,
      "metadata": {
        "id": "fJkfhCNZ2ZEs"
      },
      "outputs": [],
      "source": [
        "## TODO\n",
        "final_model = tf.keras.models.Sequential([...])"
      ]
    },
    {
      "cell_type": "code",
      "execution_count": null,
      "metadata": {
        "id": "DPB8KYQGFFiA"
      },
      "outputs": [],
      "source": [
        "final_callbacks = [tf.keras.callbacks.EarlyStopping(patience=5)]"
      ]
    },
    {
      "cell_type": "code",
      "execution_count": null,
      "metadata": {
        "colab": {
          "base_uri": "https://localhost:8080/",
          "height": 1000
        },
        "id": "-rQsupd1Idpf",
        "outputId": "451f22e1-e7d0-48dc-c7ac-93286128b1ee"
      },
      "outputs": [],
      "source": [
        "tf.keras.utils.plot_model(final_model, '123.png', show_shapes=True)"
      ]
    },
    {
      "cell_type": "code",
      "execution_count": null,
      "metadata": {
        "colab": {
          "base_uri": "https://localhost:8080/"
        },
        "id": "fIk4ANp6FQJ4",
        "outputId": "8b011d9f-efd2-405f-b898-c69afeda79ec"
      },
      "outputs": [],
      "source": [
        "## TODO\n",
        "final_model.compile(...)\n",
        "final_model.fit(datagen.flow(dg_x_train, dg_y_train, batch_size=16), epochs=32, callbacks=final_callbacks, validation_data=val_datagen.flow(dg_x_val, dg_y_val))"
      ]
    },
    {
      "cell_type": "markdown",
      "metadata": {
        "id": "8Mm6fAOTxje1"
      },
      "source": [
        "Момент истины: проверьте, какого качества достигла ваша сеть."
      ]
    },
    {
      "cell_type": "code",
      "execution_count": null,
      "metadata": {
        "colab": {
          "base_uri": "https://localhost:8080/"
        },
        "id": "BgUcJYLzxje2",
        "outputId": "39d4f517-cab5-4318-a657-5e2262330adc"
      },
      "outputs": [],
      "source": [
        "from sklearn.metrics import accuracy_score\n",
        "\n",
        "predict_x=final_model.predict(X_test)\n",
        "classes_x=np.argmax(predict_x,axis=1)\n",
        "\n",
        "test_acc = accuracy_score(y_test, classes_x)\n",
        "print(\"\\n Test_acc =\", test_acc)\n",
        "if test_acc > 0.8:\n",
        "    print(\"Это победа!\")"
      ]
    },
    {
      "cell_type": "markdown",
      "metadata": {
        "id": "TjZo-jifxje2"
      },
      "source": [
        "А теперь, опишите свои <s>ощущения</s> результаты от проведенных экспериментов."
      ]
    },
    {
      "cell_type": "code",
      "execution_count": null,
      "metadata": {
        "collapsed": true,
        "id": "t_pIaUdUxje2"
      },
      "outputs": [],
      "source": []
    }
  ],
  "metadata": {
    "accelerator": "GPU",
    "colab": {
      "gpuType": "T4",
      "provenance": []
    },
    "kernelspec": {
      "display_name": "Python 3",
      "name": "python3"
    },
    "language_info": {
      "codemirror_mode": {
        "name": "ipython",
        "version": 3
      },
      "file_extension": ".py",
      "mimetype": "text/x-python",
      "name": "python",
      "nbconvert_exporter": "python",
      "pygments_lexer": "ipython3",
      "version": "3.7.3"
    },
    "latex_envs": {
      "LaTeX_envs_menu_present": true,
      "autoclose": false,
      "autocomplete": true,
      "bibliofile": "biblio.bib",
      "cite_by": "apalike",
      "current_citInitial": 1,
      "eqLabelWithNumbers": true,
      "eqNumInitial": 1,
      "hotkeys": {
        "equation": "Ctrl-E",
        "itemize": "Ctrl-I"
      },
      "labels_anchors": false,
      "latex_user_defs": false,
      "report_style_numbering": false,
      "user_envs_cfg": false
    },
    "toc": {
      "base_numbering": 1,
      "nav_menu": {},
      "number_sections": true,
      "sideBar": true,
      "skip_h1_title": false,
      "title_cell": "Table of Contents",
      "title_sidebar": "Contents",
      "toc_cell": false,
      "toc_position": {},
      "toc_section_display": true,
      "toc_window_display": false
    },
    "varInspector": {
      "cols": {
        "lenName": 16,
        "lenType": 16,
        "lenVar": 40
      },
      "kernels_config": {
        "python": {
          "delete_cmd_postfix": "",
          "delete_cmd_prefix": "del ",
          "library": "var_list.py",
          "varRefreshCmd": "print(var_dic_list())"
        },
        "r": {
          "delete_cmd_postfix": ") ",
          "delete_cmd_prefix": "rm(",
          "library": "var_list.r",
          "varRefreshCmd": "cat(var_dic_list()) "
        }
      },
      "types_to_exclude": [
        "module",
        "function",
        "builtin_function_or_method",
        "instance",
        "_Feature"
      ],
      "window_display": false
    },
    "widgets": {
      "application/vnd.jupyter.widget-state+json": {
        "03754643928a41228d8b071bae6c84cb": {
          "model_module": "@jupyter-widgets/base",
          "model_module_version": "1.2.0",
          "model_name": "LayoutModel",
          "state": {
            "_model_module": "@jupyter-widgets/base",
            "_model_module_version": "1.2.0",
            "_model_name": "LayoutModel",
            "_view_count": null,
            "_view_module": "@jupyter-widgets/base",
            "_view_module_version": "1.2.0",
            "_view_name": "LayoutView",
            "align_content": null,
            "align_items": null,
            "align_self": null,
            "border": null,
            "bottom": null,
            "display": null,
            "flex": null,
            "flex_flow": null,
            "grid_area": null,
            "grid_auto_columns": null,
            "grid_auto_flow": null,
            "grid_auto_rows": null,
            "grid_column": null,
            "grid_gap": null,
            "grid_row": null,
            "grid_template_areas": null,
            "grid_template_columns": null,
            "grid_template_rows": null,
            "height": null,
            "justify_content": null,
            "justify_items": null,
            "left": null,
            "margin": null,
            "max_height": null,
            "max_width": null,
            "min_height": null,
            "min_width": null,
            "object_fit": null,
            "object_position": null,
            "order": null,
            "overflow": null,
            "overflow_x": null,
            "overflow_y": null,
            "padding": null,
            "right": null,
            "top": null,
            "visibility": null,
            "width": null
          }
        },
        "2647c569898048c5a7c2c266660df63e": {
          "model_module": "@jupyter-widgets/controls",
          "model_module_version": "1.5.0",
          "model_name": "DescriptionStyleModel",
          "state": {
            "_model_module": "@jupyter-widgets/controls",
            "_model_module_version": "1.5.0",
            "_model_name": "DescriptionStyleModel",
            "_view_count": null,
            "_view_module": "@jupyter-widgets/base",
            "_view_module_version": "1.2.0",
            "_view_name": "StyleView",
            "description_width": ""
          }
        },
        "2ed34d04cf734253aa457468ea93caec": {
          "model_module": "@jupyter-widgets/controls",
          "model_module_version": "1.5.0",
          "model_name": "HTMLModel",
          "state": {
            "_dom_classes": [],
            "_model_module": "@jupyter-widgets/controls",
            "_model_module_version": "1.5.0",
            "_model_name": "HTMLModel",
            "_view_count": null,
            "_view_module": "@jupyter-widgets/controls",
            "_view_module_version": "1.5.0",
            "_view_name": "HTMLView",
            "description": "",
            "description_tooltip": null,
            "layout": "IPY_MODEL_ea426bfb2b5a4d0e95be58f394bcb043",
            "placeholder": "​",
            "style": "IPY_MODEL_2647c569898048c5a7c2c266660df63e",
            "value": " 2/2 [16:48&lt;00:00, 504.03s/it]"
          }
        },
        "5924b96f08f447f991e0b491f18ec889": {
          "model_module": "@jupyter-widgets/controls",
          "model_module_version": "1.5.0",
          "model_name": "HBoxModel",
          "state": {
            "_dom_classes": [],
            "_model_module": "@jupyter-widgets/controls",
            "_model_module_version": "1.5.0",
            "_model_name": "HBoxModel",
            "_view_count": null,
            "_view_module": "@jupyter-widgets/controls",
            "_view_module_version": "1.5.0",
            "_view_name": "HBoxView",
            "box_style": "",
            "children": [
              "IPY_MODEL_ef15f001a7af49098a9bd1aa004f3069",
              "IPY_MODEL_94b101b99e2543c99197ae076bccb5b6",
              "IPY_MODEL_2ed34d04cf734253aa457468ea93caec"
            ],
            "layout": "IPY_MODEL_03754643928a41228d8b071bae6c84cb"
          }
        },
        "71e7d616452341ee896f5125d48c3e15": {
          "model_module": "@jupyter-widgets/controls",
          "model_module_version": "1.5.0",
          "model_name": "DescriptionStyleModel",
          "state": {
            "_model_module": "@jupyter-widgets/controls",
            "_model_module_version": "1.5.0",
            "_model_name": "DescriptionStyleModel",
            "_view_count": null,
            "_view_module": "@jupyter-widgets/base",
            "_view_module_version": "1.2.0",
            "_view_name": "StyleView",
            "description_width": ""
          }
        },
        "8569c823961b4a70a0fbc0507c787bb7": {
          "model_module": "@jupyter-widgets/base",
          "model_module_version": "1.2.0",
          "model_name": "LayoutModel",
          "state": {
            "_model_module": "@jupyter-widgets/base",
            "_model_module_version": "1.2.0",
            "_model_name": "LayoutModel",
            "_view_count": null,
            "_view_module": "@jupyter-widgets/base",
            "_view_module_version": "1.2.0",
            "_view_name": "LayoutView",
            "align_content": null,
            "align_items": null,
            "align_self": null,
            "border": null,
            "bottom": null,
            "display": null,
            "flex": null,
            "flex_flow": null,
            "grid_area": null,
            "grid_auto_columns": null,
            "grid_auto_flow": null,
            "grid_auto_rows": null,
            "grid_column": null,
            "grid_gap": null,
            "grid_row": null,
            "grid_template_areas": null,
            "grid_template_columns": null,
            "grid_template_rows": null,
            "height": null,
            "justify_content": null,
            "justify_items": null,
            "left": null,
            "margin": null,
            "max_height": null,
            "max_width": null,
            "min_height": null,
            "min_width": null,
            "object_fit": null,
            "object_position": null,
            "order": null,
            "overflow": null,
            "overflow_x": null,
            "overflow_y": null,
            "padding": null,
            "right": null,
            "top": null,
            "visibility": null,
            "width": null
          }
        },
        "94b101b99e2543c99197ae076bccb5b6": {
          "model_module": "@jupyter-widgets/controls",
          "model_module_version": "1.5.0",
          "model_name": "FloatProgressModel",
          "state": {
            "_dom_classes": [],
            "_model_module": "@jupyter-widgets/controls",
            "_model_module_version": "1.5.0",
            "_model_name": "FloatProgressModel",
            "_view_count": null,
            "_view_module": "@jupyter-widgets/controls",
            "_view_module_version": "1.5.0",
            "_view_name": "ProgressView",
            "bar_style": "success",
            "description": "",
            "description_tooltip": null,
            "layout": "IPY_MODEL_8569c823961b4a70a0fbc0507c787bb7",
            "max": 2,
            "min": 0,
            "orientation": "horizontal",
            "style": "IPY_MODEL_c896b633d56440969552fae300d30271",
            "value": 2
          }
        },
        "bcde62c50b47499a9f9d59107f0eb1d2": {
          "model_module": "@jupyter-widgets/base",
          "model_module_version": "1.2.0",
          "model_name": "LayoutModel",
          "state": {
            "_model_module": "@jupyter-widgets/base",
            "_model_module_version": "1.2.0",
            "_model_name": "LayoutModel",
            "_view_count": null,
            "_view_module": "@jupyter-widgets/base",
            "_view_module_version": "1.2.0",
            "_view_name": "LayoutView",
            "align_content": null,
            "align_items": null,
            "align_self": null,
            "border": null,
            "bottom": null,
            "display": null,
            "flex": null,
            "flex_flow": null,
            "grid_area": null,
            "grid_auto_columns": null,
            "grid_auto_flow": null,
            "grid_auto_rows": null,
            "grid_column": null,
            "grid_gap": null,
            "grid_row": null,
            "grid_template_areas": null,
            "grid_template_columns": null,
            "grid_template_rows": null,
            "height": null,
            "justify_content": null,
            "justify_items": null,
            "left": null,
            "margin": null,
            "max_height": null,
            "max_width": null,
            "min_height": null,
            "min_width": null,
            "object_fit": null,
            "object_position": null,
            "order": null,
            "overflow": null,
            "overflow_x": null,
            "overflow_y": null,
            "padding": null,
            "right": null,
            "top": null,
            "visibility": null,
            "width": null
          }
        },
        "c896b633d56440969552fae300d30271": {
          "model_module": "@jupyter-widgets/controls",
          "model_module_version": "1.5.0",
          "model_name": "ProgressStyleModel",
          "state": {
            "_model_module": "@jupyter-widgets/controls",
            "_model_module_version": "1.5.0",
            "_model_name": "ProgressStyleModel",
            "_view_count": null,
            "_view_module": "@jupyter-widgets/base",
            "_view_module_version": "1.2.0",
            "_view_name": "StyleView",
            "bar_color": null,
            "description_width": ""
          }
        },
        "ea426bfb2b5a4d0e95be58f394bcb043": {
          "model_module": "@jupyter-widgets/base",
          "model_module_version": "1.2.0",
          "model_name": "LayoutModel",
          "state": {
            "_model_module": "@jupyter-widgets/base",
            "_model_module_version": "1.2.0",
            "_model_name": "LayoutModel",
            "_view_count": null,
            "_view_module": "@jupyter-widgets/base",
            "_view_module_version": "1.2.0",
            "_view_name": "LayoutView",
            "align_content": null,
            "align_items": null,
            "align_self": null,
            "border": null,
            "bottom": null,
            "display": null,
            "flex": null,
            "flex_flow": null,
            "grid_area": null,
            "grid_auto_columns": null,
            "grid_auto_flow": null,
            "grid_auto_rows": null,
            "grid_column": null,
            "grid_gap": null,
            "grid_row": null,
            "grid_template_areas": null,
            "grid_template_columns": null,
            "grid_template_rows": null,
            "height": null,
            "justify_content": null,
            "justify_items": null,
            "left": null,
            "margin": null,
            "max_height": null,
            "max_width": null,
            "min_height": null,
            "min_width": null,
            "object_fit": null,
            "object_position": null,
            "order": null,
            "overflow": null,
            "overflow_x": null,
            "overflow_y": null,
            "padding": null,
            "right": null,
            "top": null,
            "visibility": null,
            "width": null
          }
        },
        "ef15f001a7af49098a9bd1aa004f3069": {
          "model_module": "@jupyter-widgets/controls",
          "model_module_version": "1.5.0",
          "model_name": "HTMLModel",
          "state": {
            "_dom_classes": [],
            "_model_module": "@jupyter-widgets/controls",
            "_model_module_version": "1.5.0",
            "_model_name": "HTMLModel",
            "_view_count": null,
            "_view_module": "@jupyter-widgets/controls",
            "_view_module_version": "1.5.0",
            "_view_name": "HTMLView",
            "description": "",
            "description_tooltip": null,
            "layout": "IPY_MODEL_bcde62c50b47499a9f9d59107f0eb1d2",
            "placeholder": "​",
            "style": "IPY_MODEL_71e7d616452341ee896f5125d48c3e15",
            "value": "100%"
          }
        }
      }
    }
  },
  "nbformat": 4,
  "nbformat_minor": 0
}
