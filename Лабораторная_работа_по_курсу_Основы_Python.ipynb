{
  "cells": [
    {
      "cell_type": "markdown",
      "metadata": {
        "id": "view-in-github",
        "colab_type": "text"
      },
      "source": [
        "<a href=\"https://colab.research.google.com/github/stefkong1982/demo/blob/main/%D0%9B%D0%B0%D0%B1%D0%BE%D1%80%D0%B0%D1%82%D0%BE%D1%80%D0%BD%D0%B0%D1%8F_%D1%80%D0%B0%D0%B1%D0%BE%D1%82%D0%B0_%D0%BF%D0%BE_%D0%BA%D1%83%D1%80%D1%81%D1%83_%D0%9E%D1%81%D0%BD%D0%BE%D0%B2%D1%8B_Python.ipynb\" target=\"_parent\"><img src=\"https://colab.research.google.com/assets/colab-badge.svg\" alt=\"Open In Colab\"/></a>"
      ]
    },
    {
      "cell_type": "markdown",
      "metadata": {
        "id": "cqBisG7Zsgud"
      },
      "source": [
        "## Лабораторная работа по курсу «Основы Python»"
      ]
    },
    {
      "cell_type": "markdown",
      "metadata": {
        "id": "0Z-Udqx3sguk"
      },
      "source": [
        "### При выполнении работы допускается использование любых внешних модулей и пакетов."
      ]
    },
    {
      "cell_type": "markdown",
      "metadata": {
        "id": "nvhG4WC4sguk"
      },
      "source": [
        "#### Задача 1"
      ]
    },
    {
      "cell_type": "markdown",
      "metadata": {
        "id": "EiPXda54sgul"
      },
      "source": [
        "Дан список:"
      ]
    },
    {
      "cell_type": "code",
      "execution_count": 1,
      "metadata": {
        "id": "NZ6qX7IBsgul"
      },
      "outputs": [],
      "source": [
        "list_01 = [1, 1, 2, 3, 5, 8, 13, 21, 34, 55, 89, 144, 233, 377, 610, 14, 46, 273, 22, 99, 15, 1000]"
      ]
    },
    {
      "cell_type": "markdown",
      "metadata": {
        "id": "_DXn-Z-Gsgun"
      },
      "source": [
        "Напишите алгоритм, который выводит число, равное сумме элементов списка, которые больше 10, но меньше 100, и которые больше 200, но меньше 500."
      ]
    },
    {
      "cell_type": "code",
      "execution_count": 2,
      "metadata": {
        "id": "wlrxa_r7sgun",
        "outputId": "35575bb4-83bb-4422-ffca-d45e5e3e3419",
        "colab": {
          "base_uri": "https://localhost:8080/"
        }
      },
      "outputs": [
        {
          "output_type": "execute_result",
          "data": {
            "text/plain": [
              "1291"
            ]
          },
          "metadata": {},
          "execution_count": 2
        }
      ],
      "source": [
        "sum(x for x in list_01 if 10 < x < 100 or 200 < x < 500)"
      ]
    },
    {
      "cell_type": "markdown",
      "metadata": {
        "id": "vzU6pRSksgup"
      },
      "source": [
        "#### Задача 2"
      ]
    },
    {
      "cell_type": "markdown",
      "metadata": {
        "id": "JBBzsW6ksgup"
      },
      "source": [
        "Дана строка:"
      ]
    },
    {
      "cell_type": "code",
      "execution_count": null,
      "metadata": {
        "id": "hfxYhlcysguq"
      },
      "outputs": [],
      "source": [
        "some_string = \"History is always written by the winners. When two cultures clash, the loser is obliterated, and the winner writes the history books - books which glorify their own cause and disparage the conquered foe. As Napoleon once said, 'What is history, but a fable agreed upon?'\""
      ]
    },
    {
      "cell_type": "markdown",
      "metadata": {
        "id": "H3bj2ogRsguq"
      },
      "source": [
        "Напишите функцию, которая будет принимать в качестве аргумента букву и выводить все слова из строки, начинающиеся на эту букву (например, “w”)."
      ]
    },
    {
      "cell_type": "code",
      "execution_count": null,
      "metadata": {
        "id": "DTOXKS56sgur"
      },
      "outputs": [],
      "source": [
        "import re"
      ]
    },
    {
      "cell_type": "code",
      "execution_count": null,
      "metadata": {
        "id": "6dhdJo-Asgur"
      },
      "outputs": [],
      "source": [
        "def print_words (letter):\n",
        "    pattern = fr'\\b{letter}\\w*'\n",
        "    list_words = re.findall(pattern, some_string, re.I)\n",
        "    print(list_words)"
      ]
    },
    {
      "cell_type": "code",
      "execution_count": null,
      "metadata": {
        "id": "QT-OMk0Ssgus",
        "outputId": "f61468bf-94b4-441b-f3bc-34c82d996bdd"
      },
      "outputs": [
        {
          "name": "stdout",
          "output_type": "stream",
          "text": [
            "['written', 'winners', 'When', 'winner', 'writes', 'which', 'What']\n"
          ]
        }
      ],
      "source": [
        "print_words('W')"
      ]
    },
    {
      "cell_type": "code",
      "execution_count": null,
      "metadata": {
        "id": "W7Gkx3nXsgus"
      },
      "outputs": [],
      "source": []
    },
    {
      "cell_type": "markdown",
      "metadata": {
        "id": "PTShuU34sgut"
      },
      "source": [
        "#### Задача 3"
      ]
    },
    {
      "cell_type": "markdown",
      "metadata": {
        "id": "dZ2pnbC3sgut"
      },
      "source": [
        "Напишите функцию, которая генерирует случайную последовательность из 6 цифр, причем в этой последовательности должна быть как минимум одна цифра 3. Позиция 3 определяться случайным образом. Например: \"456379\" или \"033456\"."
      ]
    },
    {
      "cell_type": "code",
      "execution_count": null,
      "metadata": {
        "id": "A2aWlUA3sgut"
      },
      "outputs": [],
      "source": [
        "import random"
      ]
    },
    {
      "cell_type": "code",
      "execution_count": null,
      "metadata": {
        "id": "VKw0gtuSsguu"
      },
      "outputs": [],
      "source": [
        "def generate_numbers():\n",
        "    number = ''\n",
        "    while '3' not in number:\n",
        "        list_numbers = list()\n",
        "        for i in range(6):\n",
        "            num = random.randint(0,9)\n",
        "            list_numbers.append(str(num))\n",
        "        number = ''.join(list_numbers)\n",
        "    print(number)"
      ]
    },
    {
      "cell_type": "code",
      "execution_count": null,
      "metadata": {
        "id": "_Q_3n7n0sguu"
      },
      "outputs": [],
      "source": [
        "def generate_numbers_2():\n",
        "    number = ''\n",
        "    while '3' not in number:\n",
        "        number = ''.join([str(random.randint(0, 9)) for x in range(6)])\n",
        "    print(number)"
      ]
    },
    {
      "cell_type": "code",
      "execution_count": null,
      "metadata": {
        "id": "clr1Nl1vsguv",
        "outputId": "ed7a232e-ba9f-4a1c-9a96-596b7ab8f945"
      },
      "outputs": [
        {
          "name": "stdout",
          "output_type": "stream",
          "text": [
            "782413\n"
          ]
        }
      ],
      "source": [
        "generate_numbers()"
      ]
    },
    {
      "cell_type": "code",
      "execution_count": null,
      "metadata": {
        "id": "Fs-fOd5fsguv",
        "outputId": "844bf0d3-0e13-4a26-a7c3-b28aa2c87de3"
      },
      "outputs": [
        {
          "name": "stdout",
          "output_type": "stream",
          "text": [
            "395100\n"
          ]
        }
      ],
      "source": [
        "generate_numbers_2()"
      ]
    },
    {
      "cell_type": "markdown",
      "metadata": {
        "id": "fK7FCx7Zsguw"
      },
      "source": [
        "#### Задача 4"
      ]
    },
    {
      "cell_type": "markdown",
      "metadata": {
        "id": "un8jkfwvsguw"
      },
      "source": [
        "Данные студентов представлены в виде списка списков:"
      ]
    },
    {
      "cell_type": "code",
      "execution_count": null,
      "metadata": {
        "id": "eATJO_CMsguw"
      },
      "outputs": [],
      "source": [
        "students = [\n",
        "[\"0001\", \"Антонов\", \"Антон\", \"Игоревич\", \"20.08.2009\",\"БСТ161\"],\n",
        "[\"1102\", \"Богов\", \"Артем\", \"Игоревич\", \"25.01.2010\",\"БСТ162\"],\n",
        "[\"0333\", \"Глаголева\", \"Анастасия\", \"Николаевна\", \"11.07.2009\", \"БСТ163\"],\n",
        "[\"4004\", \"Степанова\", \"Наталья\", \"Александровна\", \"13.02.2008\", \"БСТ161\"],\n",
        "[\"0045\", \"Боков\", \"Игорь\", \"Харитонович\", \"02.06.2009\", \"БСТ161\"],\n",
        "[\"0096\", \"Васильков\", \"Валентин\", \"Сергеевич\", \"20.03.2009\", \"БСТ164\"],\n",
        "[\"0607\", \"Сиропова\", \"Виолетта\", \"Эдуардовна\", \"28.05.2010\", \"БСТ162\"],\n",
        "[\"4014\", \"Потапов\", \"Дмитрий\", \"Станиславович\", \"14.02.2012\", \"БСТ161\"]\n",
        "    ]"
      ]
    },
    {
      "cell_type": "markdown",
      "metadata": {
        "id": "Qbu3WZGXsgux"
      },
      "source": [
        "1. Преобразуйте данные таким образом, чтобы они были представлены в виде словаря, в котором ключами являются номера студентов, а значениями — список из других данных о студентах."
      ]
    },
    {
      "cell_type": "code",
      "execution_count": null,
      "metadata": {
        "id": "zRsS09NDsgux"
      },
      "outputs": [],
      "source": [
        "students_dict = dict()\n",
        "for i in students:\n",
        "    students_dict[i[0]] = i[1:]"
      ]
    },
    {
      "cell_type": "code",
      "execution_count": null,
      "metadata": {
        "id": "L2_bpurnsguy",
        "outputId": "bc746240-95d4-4e81-b246-24ff96f3ad92"
      },
      "outputs": [
        {
          "data": {
            "text/plain": [
              "{'0001': ['Антонов', 'Антон', 'Игоревич', '20.08.2009', 'БСТ161'],\n",
              " '1102': ['Богов', 'Артем', 'Игоревич', '25.01.2010', 'БСТ162'],\n",
              " '0333': ['Глаголева', 'Анастасия', 'Николаевна', '11.07.2009', 'БСТ163'],\n",
              " '4004': ['Степанова', 'Наталья', 'Александровна', '13.02.2008', 'БСТ161'],\n",
              " '0045': ['Боков', 'Игорь', 'Харитонович', '02.06.2009', 'БСТ161'],\n",
              " '0096': ['Васильков', 'Валентин', 'Сергеевич', '20.03.2009', 'БСТ164'],\n",
              " '0607': ['Сиропова', 'Виолетта', 'Эдуардовна', '28.05.2010', 'БСТ162'],\n",
              " '4014': ['Потапов', 'Дмитрий', 'Станиславович', '14.02.2012', 'БСТ161']}"
            ]
          },
          "execution_count": 40,
          "metadata": {},
          "output_type": "execute_result"
        }
      ],
      "source": [
        "students_dict"
      ]
    },
    {
      "cell_type": "markdown",
      "metadata": {
        "id": "9De1tiVnsguy"
      },
      "source": [
        "2. Напишите функцию, которая принимает номер группы и выводит пронумерованный и упорядоченный по алфавиту список (фамилии, имена, отчества) всех студентов этой группы. Необходимо обращаться к словарю."
      ]
    },
    {
      "cell_type": "code",
      "execution_count": null,
      "metadata": {
        "id": "2WQckg21sguy"
      },
      "outputs": [],
      "source": [
        "def print_group_list(group):\n",
        "    group_list = list()\n",
        "    for x in students_dict.values():\n",
        "        if x[-1] == group:\n",
        "            group_list.append(f'{x[0]} {x[1]} {x[2]}')\n",
        "    for i, x in enumerate(sorted(group_list)):\n",
        "        print(i+1,x)"
      ]
    },
    {
      "cell_type": "code",
      "execution_count": null,
      "metadata": {
        "id": "AjrvJem2sguy",
        "outputId": "9e7274ea-343c-4133-aabe-ec6c90a44a86"
      },
      "outputs": [
        {
          "name": "stdout",
          "output_type": "stream",
          "text": [
            "1 Антонов Антон Игоревич\n",
            "2 Боков Игорь Харитонович\n",
            "3 Потапов Дмитрий Станиславович\n",
            "4 Степанова Наталья Александровна\n"
          ]
        }
      ],
      "source": [
        "print_group_list('БСТ161')"
      ]
    },
    {
      "cell_type": "markdown",
      "metadata": {
        "id": "y7H0ToMMsguy"
      },
      "source": [
        "#### Задача 5"
      ]
    },
    {
      "cell_type": "markdown",
      "metadata": {
        "id": "3lsHsLTysguz"
      },
      "source": [
        "Создайте класс Student, который создает объекты с данными о студентах (как в задаче 4). Класс должен иметь следующие методы: add_to_dict (добавляет объект в словарь из задачи 4), update_dict (обновляет запись о студенте в словаре из задачи 4), change_group (изменяет номер группы студента), change_id (изменяет номер студента) и print_date (выводит на экран данные студента)."
      ]
    },
    {
      "cell_type": "code",
      "execution_count": null,
      "metadata": {
        "id": "SaIF9Jdmsguz"
      },
      "outputs": [],
      "source": [
        "class Student:\n",
        "    def __init__(self, s_id, last_name, first_name, patronomic_name, date, group):\n",
        "        self.id = s_id\n",
        "        self.last_name = last_name\n",
        "        self.first_name = first_name\n",
        "        self.patronomic_name = patronomic_name\n",
        "        self.date = date\n",
        "        self.group = group\n",
        "\n",
        "    def add_to_dict(self):\n",
        "        if self.id in students_dict.keys():\n",
        "            print('Студент с таким номером уже существует')\n",
        "        else:\n",
        "            students_dict[self.id] = [self.last_name, self.first_name, self.patronomic_name, self.date, self.group]\n",
        "\n",
        "    def update_dict(self):\n",
        "        students_dict[self.id] = [self.last_name, self.first_name, self.patronomic_name, self.date, self.group]\n",
        "\n",
        "    def change_group(self, new_group):\n",
        "        self.group = new_group\n",
        "\n",
        "    def change_id(self, new_id):\n",
        "        self.id = new_id\n",
        "\n",
        "    def print_data(self):\n",
        "        print(f'{self.id} {self.last_name} {self.first_name} {self.patronomic_name} {self.date} {self.group}')\n"
      ]
    },
    {
      "cell_type": "markdown",
      "metadata": {
        "id": "utdkSZ4Gsguz"
      },
      "source": [
        "1. Создайте объект класса, добавьте его в словарь. Обновленный словарь выведете на экран."
      ]
    },
    {
      "cell_type": "code",
      "execution_count": null,
      "metadata": {
        "id": "kW9R7J7Rsguz"
      },
      "outputs": [],
      "source": [
        "volkova = Student('0001', 'Волкова', 'Галина', 'Сергеевна', '18.12.2022', 'БСТ100')"
      ]
    },
    {
      "cell_type": "code",
      "execution_count": null,
      "metadata": {
        "id": "Zk5UcIIvsguz",
        "outputId": "7bff3544-3cdc-4dab-8ad0-9ddc07f481b8"
      },
      "outputs": [
        {
          "data": {
            "text/plain": [
              "{'0001': ['Антонов', 'Антон', 'Игоревич', '20.08.2009', 'БСТ161'],\n",
              " '1102': ['Богов', 'Артем', 'Игоревич', '25.01.2010', 'БСТ162'],\n",
              " '0333': ['Глаголева', 'Анастасия', 'Николаевна', '11.07.2009', 'БСТ163'],\n",
              " '4004': ['Степанова', 'Наталья', 'Александровна', '13.02.2008', 'БСТ161'],\n",
              " '0045': ['Боков', 'Игорь', 'Харитонович', '02.06.2009', 'БСТ161'],\n",
              " '0096': ['Васильков', 'Валентин', 'Сергеевич', '20.03.2009', 'БСТ164'],\n",
              " '0607': ['Сиропова', 'Виолетта', 'Эдуардовна', '28.05.2010', 'БСТ162'],\n",
              " '4014': ['Потапов', 'Дмитрий', 'Станиславович', '14.02.2012', 'БСТ161']}"
            ]
          },
          "execution_count": 50,
          "metadata": {},
          "output_type": "execute_result"
        }
      ],
      "source": [
        "students_dict"
      ]
    },
    {
      "cell_type": "code",
      "execution_count": null,
      "metadata": {
        "id": "KCWJVxF3sgu0",
        "outputId": "60719a85-5248-49bb-e6d9-5d61013af684"
      },
      "outputs": [
        {
          "name": "stdout",
          "output_type": "stream",
          "text": [
            "0001 Волкова Галина Сергеевна 18.12.2022 БСТ100\n"
          ]
        }
      ],
      "source": [
        "volkova.print_data()"
      ]
    },
    {
      "cell_type": "code",
      "execution_count": null,
      "metadata": {
        "id": "8QrSnbL-sgu0",
        "outputId": "0b4a369e-750d-4d72-bbb0-c74e5c9cd3d1"
      },
      "outputs": [
        {
          "name": "stdout",
          "output_type": "stream",
          "text": [
            "Студент с таким номером уже существует\n"
          ]
        }
      ],
      "source": [
        "volkova.add_to_dict()"
      ]
    },
    {
      "cell_type": "code",
      "execution_count": null,
      "metadata": {
        "id": "7k28dUWbsgu4"
      },
      "outputs": [],
      "source": [
        "volkova.change_id('0002')"
      ]
    },
    {
      "cell_type": "code",
      "execution_count": null,
      "metadata": {
        "id": "T5NpgWV7sgu5",
        "outputId": "f4fc4eda-13cb-4426-e8d4-d6f8550ece26"
      },
      "outputs": [
        {
          "name": "stdout",
          "output_type": "stream",
          "text": [
            "0002 Волкова Галина Сергеевна 18.12.2022 БСТ100\n"
          ]
        }
      ],
      "source": [
        "volkova.print_data()"
      ]
    },
    {
      "cell_type": "code",
      "execution_count": null,
      "metadata": {
        "id": "eqtNQraAsgu6",
        "outputId": "a5c4867a-9207-4afa-a2d3-53672a63153e"
      },
      "outputs": [
        {
          "name": "stdout",
          "output_type": "stream",
          "text": [
            "Студент с таким номером уже существует\n"
          ]
        }
      ],
      "source": [
        "volkova.add_to_dict()"
      ]
    },
    {
      "cell_type": "code",
      "execution_count": null,
      "metadata": {
        "id": "dtdlwVkOsgu6",
        "outputId": "c7ee863d-d9fd-48b5-a649-f6f05a61054b"
      },
      "outputs": [
        {
          "data": {
            "text/plain": [
              "{'0001': ['Антонов', 'Антон', 'Игоревич', '20.08.2009', 'БСТ161'],\n",
              " '1102': ['Богов', 'Артем', 'Игоревич', '25.01.2010', 'БСТ162'],\n",
              " '0333': ['Глаголева', 'Анастасия', 'Николаевна', '11.07.2009', 'БСТ163'],\n",
              " '4004': ['Степанова', 'Наталья', 'Александровна', '13.02.2008', 'БСТ161'],\n",
              " '0045': ['Боков', 'Игорь', 'Харитонович', '02.06.2009', 'БСТ161'],\n",
              " '0096': ['Васильков', 'Валентин', 'Сергеевич', '20.03.2009', 'БСТ164'],\n",
              " '0607': ['Сиропова', 'Виолетта', 'Эдуардовна', '28.05.2010', 'БСТ162'],\n",
              " '4014': ['Потапов', 'Дмитрий', 'Станиславович', '14.02.2012', 'БСТ161'],\n",
              " '0002': ['Волкова', 'Галина', 'Сергеевна', '18.12.2022', 'БСТ100']}"
            ]
          },
          "execution_count": 59,
          "metadata": {},
          "output_type": "execute_result"
        }
      ],
      "source": [
        "students_dict"
      ]
    },
    {
      "cell_type": "markdown",
      "metadata": {
        "id": "enwgZRbRsgu6"
      },
      "source": [
        "2. Измените номер группы студентки Волковой на 'БСТ161' и выведите обновленный список группы."
      ]
    },
    {
      "cell_type": "code",
      "execution_count": null,
      "metadata": {
        "id": "VvBOO-8Asgu7"
      },
      "outputs": [],
      "source": [
        "volkova.change_group('БСТ161')"
      ]
    },
    {
      "cell_type": "code",
      "execution_count": null,
      "metadata": {
        "id": "IYCVrrWnsgu7",
        "outputId": "68ab173c-d276-4f1e-b516-95a6ec2c8960"
      },
      "outputs": [
        {
          "data": {
            "text/plain": [
              "{'0001': ['Антонов', 'Антон', 'Игоревич', '20.08.2009', 'БСТ161'],\n",
              " '1102': ['Богов', 'Артем', 'Игоревич', '25.01.2010', 'БСТ162'],\n",
              " '0333': ['Глаголева', 'Анастасия', 'Николаевна', '11.07.2009', 'БСТ163'],\n",
              " '4004': ['Степанова', 'Наталья', 'Александровна', '13.02.2008', 'БСТ161'],\n",
              " '0045': ['Боков', 'Игорь', 'Харитонович', '02.06.2009', 'БСТ161'],\n",
              " '0096': ['Васильков', 'Валентин', 'Сергеевич', '20.03.2009', 'БСТ164'],\n",
              " '0607': ['Сиропова', 'Виолетта', 'Эдуардовна', '28.05.2010', 'БСТ162'],\n",
              " '4014': ['Потапов', 'Дмитрий', 'Станиславович', '14.02.2012', 'БСТ161'],\n",
              " '0002': ['Волкова', 'Галина', 'Сергеевна', '18.12.2022', 'БСТ100']}"
            ]
          },
          "execution_count": 61,
          "metadata": {},
          "output_type": "execute_result"
        }
      ],
      "source": [
        "students_dict"
      ]
    },
    {
      "cell_type": "code",
      "execution_count": null,
      "metadata": {
        "id": "FHJH6WuCsgu7"
      },
      "outputs": [],
      "source": [
        "volkova.update_dict()"
      ]
    },
    {
      "cell_type": "code",
      "execution_count": null,
      "metadata": {
        "id": "a4Ll00uCsgu7",
        "outputId": "a621f5e2-e27f-44b9-927e-641dd8d0ffbb"
      },
      "outputs": [
        {
          "data": {
            "text/plain": [
              "{'0001': ['Антонов', 'Антон', 'Игоревич', '20.08.2009', 'БСТ161'],\n",
              " '1102': ['Богов', 'Артем', 'Игоревич', '25.01.2010', 'БСТ162'],\n",
              " '0333': ['Глаголева', 'Анастасия', 'Николаевна', '11.07.2009', 'БСТ163'],\n",
              " '4004': ['Степанова', 'Наталья', 'Александровна', '13.02.2008', 'БСТ161'],\n",
              " '0045': ['Боков', 'Игорь', 'Харитонович', '02.06.2009', 'БСТ161'],\n",
              " '0096': ['Васильков', 'Валентин', 'Сергеевич', '20.03.2009', 'БСТ164'],\n",
              " '0607': ['Сиропова', 'Виолетта', 'Эдуардовна', '28.05.2010', 'БСТ162'],\n",
              " '4014': ['Потапов', 'Дмитрий', 'Станиславович', '14.02.2012', 'БСТ161'],\n",
              " '0002': ['Волкова', 'Галина', 'Сергеевна', '18.12.2022', 'БСТ161']}"
            ]
          },
          "execution_count": 63,
          "metadata": {},
          "output_type": "execute_result"
        }
      ],
      "source": [
        "students_dict"
      ]
    },
    {
      "cell_type": "markdown",
      "metadata": {
        "id": "MmtkT8_Rsgu7"
      },
      "source": [
        "#### Задача 6"
      ]
    },
    {
      "cell_type": "markdown",
      "metadata": {
        "id": "se7UY91csgu8"
      },
      "source": [
        "Дана матрица matrix. Напишите код, который будет транспонировать её (то есть, делать из строк столбцы) в maytix_t:\n",
        "\n",
        "matrix_t = [\n",
        "    [0, 6, 3, 4, 5],\n",
        "    [1, 2, 3, 6, 7],\n",
        "    [2, 2, 3, 7, 3],\n",
        "    [4, 1, 3, 1, 4],\n",
        "    [8, 9, 3, 2, 0]\n",
        "]"
      ]
    },
    {
      "cell_type": "code",
      "execution_count": null,
      "metadata": {
        "id": "PVZby8dusgu8"
      },
      "outputs": [],
      "source": [
        "matrix = [\n",
        "    [0,1,2,4,8],\n",
        "    [6,2,2,1,9],\n",
        "    [3,3,3,3,3],\n",
        "    [4,6,7,1,2],\n",
        "    [5,7,3,4,0]\n",
        "]"
      ]
    },
    {
      "cell_type": "code",
      "execution_count": null,
      "metadata": {
        "id": "bfQZ_Qtesgu8"
      },
      "outputs": [],
      "source": [
        "matrix_t = [list(x) for x in zip(*matrix)]"
      ]
    },
    {
      "cell_type": "raw",
      "metadata": {
        "id": "-qtCQhpysgu8"
      },
      "source": []
    },
    {
      "cell_type": "markdown",
      "metadata": {
        "id": "jRKpU5JSsgu8"
      },
      "source": []
    },
    {
      "cell_type": "code",
      "execution_count": null,
      "metadata": {
        "id": "_tj775Thsgu8",
        "outputId": "6ac3fdab-cf93-4684-ea97-ab5eb2e9adac"
      },
      "outputs": [
        {
          "data": {
            "text/plain": [
              "[[0, 6, 3, 4, 5],\n",
              " [1, 2, 3, 6, 7],\n",
              " [2, 2, 3, 7, 3],\n",
              " [4, 1, 3, 1, 4],\n",
              " [8, 9, 3, 2, 0]]"
            ]
          },
          "execution_count": 67,
          "metadata": {},
          "output_type": "execute_result"
        }
      ],
      "source": [
        "matrix_t"
      ]
    },
    {
      "cell_type": "code",
      "execution_count": null,
      "metadata": {
        "id": "1CbHOxBAsgu9"
      },
      "outputs": [],
      "source": []
    }
  ],
  "metadata": {
    "kernelspec": {
      "display_name": "Python 3",
      "language": "python",
      "name": "python3"
    },
    "language_info": {
      "codemirror_mode": {
        "name": "ipython",
        "version": 3
      },
      "file_extension": ".py",
      "mimetype": "text/x-python",
      "name": "python",
      "nbconvert_exporter": "python",
      "pygments_lexer": "ipython3",
      "version": "3.9.0"
    },
    "colab": {
      "provenance": [],
      "include_colab_link": true
    }
  },
  "nbformat": 4,
  "nbformat_minor": 0
}