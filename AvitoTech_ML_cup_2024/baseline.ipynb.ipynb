{
 "cells": [
  {
   "cell_type": "code",
   "execution_count": null,
   "metadata": {},
   "outputs": [],
   "source": [
    "from scipy.sparse import csr_matrix\n",
    "import polars as pl\n",
    "import implicit"
   ]
  },
  {
   "cell_type": "code",
   "execution_count": null,
   "metadata": {},
   "outputs": [],
   "source": [
    "train = pl.scan_parquet(\"train_interactions.parquet\")\n",
    "train = train.filter((pl.col(\"like\") + pl.col(\"dislike\")) >= 1)\n",
    "train = train.with_columns(weight=pl.col(\"like\") - pl.col(\"dislike\"))\n",
    "train = train.select(\"user_id\", \"item_id\", \"weight\")"
   ]
  },
  {
   "cell_type": "code",
   "execution_count": null,
   "metadata": {},
   "outputs": [],
   "source": [
    "train = train.collect()"
   ]
  },
  {
   "cell_type": "code",
   "execution_count": null,
   "metadata": {},
   "outputs": [],
   "source": [
    "items_meta = pl.read_parquet(\"items_meta.parquet\")\n",
    "users_meta = pl.read_parquet(\"users_meta.parquet\")\n",
    "n_items = items_meta[\"item_id\"].max() + 1\n",
    "n_users = users_meta[\"user_id\"].max() + 1"
   ]
  },
  {
   "cell_type": "code",
   "execution_count": null,
   "metadata": {},
   "outputs": [],
   "source": [
    "train = csr_matrix((train[\"weight\"], \n",
    "                    (train[\"user_id\"].to_numpy(), \n",
    "                     train[\"item_id\"].to_numpy())),\n",
    "                   shape=(n_users, n_items))"
   ]
  },
  {
   "cell_type": "code",
   "execution_count": null,
   "metadata": {},
   "outputs": [],
   "source": [
    "model = implicit.als.AlternatingLeastSquares(factors=16, \n",
    "                                             iterations=10, \n",
    "                                             regularization=1, \n",
    "                                             alpha=100,\n",
    "                                             calculate_training_loss=True)\n",
    "model.fit(train)"
   ]
  },
  {
   "cell_type": "code",
   "execution_count": null,
   "metadata": {},
   "outputs": [],
   "source": [
    "test_pairs = pl.read_csv('test_pairs.csv')\n",
    "test_pairs"
   ]
  },
  {
   "cell_type": "code",
   "execution_count": null,
   "metadata": {},
   "outputs": [],
   "source": [
    "als_predict = (model.user_factors[test_pairs['user_id']] * \n",
    "               model.item_factors[test_pairs['item_id']]).sum(axis=1)"
   ]
  },
  {
   "cell_type": "code",
   "execution_count": null,
   "metadata": {},
   "outputs": [],
   "source": [
    "test_pairs.with_columns(predict=als_predict).write_csv('sample_submission.csv')"
   ]
  },
  {
   "cell_type": "code",
   "execution_count": null,
   "metadata": {},
   "outputs": [],
   "source": []
  },
  {
   "cell_type": "code",
   "execution_count": null,
   "metadata": {},
   "outputs": [],
   "source": []
  }
 ],
 "metadata": {
  "kernelspec": {
   "display_name": "ods",
   "language": "python",
   "name": "python3"
  },
  "language_info": {
   "codemirror_mode": {
    "name": "ipython",
    "version": 3
   },
   "file_extension": ".py",
   "mimetype": "text/x-python",
   "name": "python",
   "nbconvert_exporter": "python",
   "pygments_lexer": "ipython3",
   "version": "3.9.6"
  }
 },
 "nbformat": 4,
 "nbformat_minor": 2
}
